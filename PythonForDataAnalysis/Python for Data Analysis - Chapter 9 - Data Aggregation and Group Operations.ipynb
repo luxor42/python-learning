{
 "cells": [
  {
   "cell_type": "code",
   "execution_count": 2,
   "metadata": {
    "collapsed": true,
    "deletable": true,
    "editable": true
   },
   "outputs": [],
   "source": [
    "import pandas as pd\n",
    "import numpy as np\n",
    "import matplotlib.pyplot as plt\n",
    "%matplotlib inline \n",
    "# THIS LINE MAKES PLOTS SHOW IN JUPYTER"
   ]
  },
  {
   "cell_type": "code",
   "execution_count": 66,
   "metadata": {
    "collapsed": false,
    "deletable": true,
    "editable": true
   },
   "outputs": [
    {
     "data": {
      "text/plain": [
       "'\\nTO DO: Learn to apply user-defined functions to a data frame\\n\\nMain ideas:\\n+ Get comfortable with the GroupBy object -- the  df.groupby([\\'key1\\']) before an aggregation function is applied.\\n+ Apply compiled functions (like mean()) and user-defined functions to a Series or DataFrame\\n+ Split. Apply. Combine. Split. Apply. Combine.\\n    Split --> use group by operation, grouped = df.groupby(~~~).  sometimes the grouping operation will require a user-defined function to create the buckets\\n    Apply --> write a lambda or function (or both) to perform an operation\\n    Combine --> grouped.apply(~~~)\\n    \\n+ Use user-defined functions to establish definitions\\n    deck is a collection of 52 cards.  Indexed like {Value}{Suit}, so e.g. \"2H\" or \"8C\".\\n    def draw(deck, n=5):\\n        return draw.take(np.random.permutation(len(deck))[:n])\\n    get_suit = lambda card: card[-1]\\n    deck.groupby(get_suit).apply(draw, n=2)\\n    \\n# Suppose D is a dict\\nD.get(x,y) says return D[x] if it exists else return y.  NOT D[y] but just y.\\n    \\n***************************\\n\\nThings I didn\\'t understand but now do:\\n\\n# What is happening here?  df.apply(regress)\\n# Explanation: df.apply(regress) uses the df as its paramater, so it\\'s kind of like regress(by_year[index], \\'APPL\\',[\\'SPX\\']) for each index value\\n# Group-wise Linear Regression\\nimport statsmodels.api as sm\\ndef regress(data, yvar, xvar):\\n    Y = data[yvar]\\n    X = data[xvar]\\n    X[\\'intercept\\'] = 1\\n    result = sm.OLS(Y, X).fit()\\n    return result.params\\nby_year.apply(regress, \\'AAPL\\', [\\'SPX\\'])\\n\\n\\n# How to see if a given Series entry is a substring of one element of a list\\nemployer_set = [\\'APPLE\\',\\'MICROSOFT\\']\\nfec[fec[\\'contbr_employer_condensed\\'].str.contains(\\'|\\'.join(employer_set))][:10]\\n# Input: \\'|\\'.join(employer_set)\\n# Output: APPLE|MICROSOFT\\n\\n\\n### I keep getting an error saying that int doesn\\'t have a method \\'find\\'\\n# It seems like Pandas is trying to operate on the index not the value. The value is a string.\\n\\n# This does not work\\nall_contributions[\\'contbr_employer_condensed\\'].groupby(lambda x: x.find(\\'PALANTIR\\') > -1).count()\\n\\n# This does work\\nall_contributions[\\'contbr_employer_condensed\\'].apply(lambda x: x.find(\\'PALANTIR\\') > -1).value_counts()\\n\\n\\n\\n\\n    \\n***************************\\n\\nNifty:\\n    df.append([5,6]) will add the list [5,6] as a single value to the end of the data frame\\n    df.extend([5,6]) will parse the list and add each element to the data frame in order.  So will add element 5 then 6.\\n    pd.Series.take([1,2,3]) returns the subset of the Series (index + values) at index locations [1,2,3]\\n        # ONLY WORKS WITH ZERO-INDEXED NATURAL NUMBERS\\n    df.corrwith()\\n    Series.corr()\\n\\n\\nNotes:\\n\\n-- Each grouping key can take many forms, and the keys do not have to be all of the same type:\\n    1. A list or array of values that is the same length as the axis being grouped\\n    2. A value indicating a column name in a DataFrame\\n    3. A dict or Series giving a correspondence between the values on the axis being grouped and the group names\\n    4. A function to be invoked on the axis index or the individual labels in the index\\n    #\\'s 2-4 are all just ways of producing something that maps to #1\\n\\n-- df.groupby([\\'key1\\'])\\n    # a GroupBy object that precomputes information about the column key1 in the DataFrame\\n-- df.groupby([\\'key1\\']).sum()\\n    # apply the function to get computed numbers\\n    # Result is a series grouped over the unique values of the \\'key1\\' field\\n\\n-- Grouping supports iteration; works over a sequence of 2-tuples\\n    for name, group in df.groupby(\\'key1\\'):\\n        print(name)\\n        print(group)\\n   \\n-- Difference in:   df.groupby([\\'key1\\'])[[\\'data2\\']].mean()\\n                    df.groupby([\\'key1\\'])[\\'data2\\'].mean()\\n                    \\n                    \\n-- Grouping with Functions\\n    - Any function passed as a group key will be called once per index value\\n    - The return values will be used as the group names\\n\\n-- Creating a multiIndex & grouping by a level\\n    columns = pd.MultiIndex.from_arrays([[\\'US\\', \\'US\\', \\'US\\', \\'JP\\', \\'JP\\'], [1, 3, 5, 1, 3]], names=[\\'city\\', \\'tenor\\'])\\n    hier_df = pd.DataFrame(np.random.randn(4, 5), columns=columns)\\n    hier_df.groupby(level=\\'city\\', axis=1).count()\\n\\n-- user-defined functions applied with \"aggregate\" (or shorthand as \"agg\")\\n    - These are NOT optimized in the way that other functions are\\n\\n    def peak_to_peak(arr):\\n        return arr.max() - arr.min()\\n\\n    grouped = df.groupby(\\'key1\\')\\n    grouped.agg(peak_to_peak)\\n\\n-- Apply multiple functions to a Series or a DataFrame by passing an array\\n    grouped.agg([\\'mean\\',\\'std\\',peak_to_peak])\\n    ** DO NOT put user-defined functions in single quotes\\n    \\n    - To wind up with a result with a different name than the function, pass a tuple into the agg:\\n        grouped.agg([(\\'My Mean\\', \\'mean\\'), (\\'Peak to Peak\\', peak_to_peak)])\\n\\n-- Apply distinct functions to separate columns of a DataFrame\\n    - Pass a dict into the agg:\\n        grouped.agg({\\'col1\\': \\'mean\\', \\'col2\\' : peak_to_peak\\'})\\n    - More than 1 function to a single column\\n        # The result has hierarchical columns ****\\n        grouped.agg({\\'tip_pct\\' : [\\'min\\',\\'max\\',\\'mean\\',\\'std\\',peak_to_peak], \\'size\\': \\'sum\\'})\\n\\n-- df.transform() broadcasts a scalar value or array of the same size as df back onto df\\n        df.groupby(key).transform(np.mean) # equivalent to df.groupby(key).transform(\\'mean\\')\\n        df.groupby(key).transform(my_func)\\n\\n\\n-- Combining cut and groupby\\n    df[\\'data1\\',\\'data2\\']\\n    factor = pd.cut(df[\\'data1\\'], 4)\\n        # Cut into 4 equal lenth buckets; factor variable knows the value ranges of the buckets\\n    grouped = frame[\\'data2\\'].groupby(factor).describe()\\n        # Compute statistics about Data 2 using the factor variables\\n        # Factor is a Category object NOT a list, so we\\'re not just 1-to-1 mapping the results of factor\\n        # Instead, groupby knows to use the 4 categories of factor to organize the contents of frame[\\'data2\\']\\n\\n-- Interpolate missing values\\n    fill_std = lambda g: g.fillna(g.std())\\n    data.groupby(group_key).apply(fill_std)\\n\\n-- Lots of examples in the notes below of the split / apply / combine paradigm\\n\\n-- Pivot Tables\\n    - df.pivot_table(index=\\'col1\\', \\'col2\\')\\n        #  Default operation is mean.  As in df.pivot_table(index=\\'col1\\', \\'col2\\', aggfunc = \\'mean\\')\\n    - tips.pivot_table([\\'tip_pct\\',\\'size\\'], index=[\\'sex\\', \\'day\\'], columns=\\'smoker\\', fill_value = 0, aggfunc=sum)\\n        # margins=True parameter gets the subtotals across each row and column\\n\\n-- Basic framework\\n\\n    grouped = df.groupby(\\'name\\')\\n    grouped.apply.sum()\\n\\n--\\n'"
      ]
     },
     "execution_count": 66,
     "metadata": {},
     "output_type": "execute_result"
    }
   ],
   "source": [
    "'''\n",
    "TO DO: Learn to apply user-defined functions to a data frame\n",
    "\n",
    "Main ideas:\n",
    "+ Get comfortable with the GroupBy object -- the  df.groupby(['key1']) before an aggregation function is applied.\n",
    "+ Apply compiled functions (like mean()) and user-defined functions to a Series or DataFrame\n",
    "+ Split. Apply. Combine. Split. Apply. Combine.\n",
    "    Split --> use group by operation, grouped = df.groupby(~~~).  sometimes the grouping operation will require a user-defined function to create the buckets\n",
    "    Apply --> write a lambda or function (or both) to perform an operation\n",
    "    Combine --> grouped.apply(~~~)\n",
    "    \n",
    "+ Use user-defined functions to establish definitions\n",
    "    deck is a collection of 52 cards.  Indexed like {Value}{Suit}, so e.g. \"2H\" or \"8C\".\n",
    "    def draw(deck, n=5):\n",
    "        return draw.take(np.random.permutation(len(deck))[:n])\n",
    "    get_suit = lambda card: card[-1]\n",
    "    deck.groupby(get_suit).apply(draw, n=2)\n",
    "    \n",
    "# Suppose D is a dict\n",
    "D.get(x,y) says return D[x] if it exists else return y.  NOT D[y] but just y.\n",
    "    \n",
    "***************************\n",
    "\n",
    "Things I didn't understand but now do:\n",
    "\n",
    "# What is happening here?  df.apply(regress)\n",
    "# Explanation: df.apply(regress) uses the df as its paramater, so it's kind of like regress(by_year[index], 'APPL',['SPX']) for each index value\n",
    "# Group-wise Linear Regression\n",
    "import statsmodels.api as sm\n",
    "def regress(data, yvar, xvar):\n",
    "    Y = data[yvar]\n",
    "    X = data[xvar]\n",
    "    X['intercept'] = 1\n",
    "    result = sm.OLS(Y, X).fit()\n",
    "    return result.params\n",
    "by_year.apply(regress, 'AAPL', ['SPX'])\n",
    "\n",
    "\n",
    "# How to see if a given Series entry is a substring of one element of a list\n",
    "employer_set = ['APPLE','MICROSOFT']\n",
    "fec[fec['contbr_employer_condensed'].str.contains('|'.join(employer_set))][:10]\n",
    "# Input: '|'.join(employer_set)\n",
    "# Output: APPLE|MICROSOFT\n",
    "\n",
    "\n",
    "### I keep getting an error saying that int doesn't have a method 'find'\n",
    "# It seems like Pandas is trying to operate on the index not the value. The value is a string.\n",
    "\n",
    "# This does not work\n",
    "all_contributions['contbr_employer_condensed'].groupby(lambda x: x.find('PALANTIR') > -1).count()\n",
    "\n",
    "# This does work\n",
    "all_contributions['contbr_employer_condensed'].apply(lambda x: x.find('PALANTIR') > -1).value_counts()\n",
    "\n",
    "\n",
    "\n",
    "\n",
    "    \n",
    "***************************\n",
    "\n",
    "Nifty:\n",
    "    df.append([5,6]) will add the list [5,6] as a single value to the end of the data frame\n",
    "    df.extend([5,6]) will parse the list and add each element to the data frame in order.  So will add element 5 then 6.\n",
    "    pd.Series.take([1,2,3]) returns the subset of the Series (index + values) at index locations [1,2,3]\n",
    "        # ONLY WORKS WITH ZERO-INDEXED NATURAL NUMBERS\n",
    "    df.corrwith()\n",
    "    Series.corr()\n",
    "\n",
    "\n",
    "Notes:\n",
    "\n",
    "-- Each grouping key can take many forms, and the keys do not have to be all of the same type:\n",
    "    1. A list or array of values that is the same length as the axis being grouped\n",
    "    2. A value indicating a column name in a DataFrame\n",
    "    3. A dict or Series giving a correspondence between the values on the axis being grouped and the group names\n",
    "    4. A function to be invoked on the axis index or the individual labels in the index\n",
    "    #'s 2-4 are all just ways of producing something that maps to #1\n",
    "\n",
    "-- df.groupby(['key1'])\n",
    "    # a GroupBy object that precomputes information about the column key1 in the DataFrame\n",
    "-- df.groupby(['key1']).sum()\n",
    "    # apply the function to get computed numbers\n",
    "    # Result is a series grouped over the unique values of the 'key1' field\n",
    "\n",
    "-- Grouping supports iteration; works over a sequence of 2-tuples\n",
    "    for name, group in df.groupby('key1'):\n",
    "        print(name)\n",
    "        print(group)\n",
    "   \n",
    "-- Difference in:   df.groupby(['key1'])[['data2']].mean()\n",
    "                    df.groupby(['key1'])['data2'].mean()\n",
    "                    \n",
    "                    \n",
    "-- Grouping with Functions\n",
    "    - Any function passed as a group key will be called once per index value\n",
    "    - The return values will be used as the group names\n",
    "\n",
    "-- Creating a multiIndex & grouping by a level\n",
    "    columns = pd.MultiIndex.from_arrays([['US', 'US', 'US', 'JP', 'JP'], [1, 3, 5, 1, 3]], names=['city', 'tenor'])\n",
    "    hier_df = pd.DataFrame(np.random.randn(4, 5), columns=columns)\n",
    "    hier_df.groupby(level='city', axis=1).count()\n",
    "\n",
    "-- user-defined functions applied with \"aggregate\" (or shorthand as \"agg\")\n",
    "    - These are NOT optimized in the way that other functions are\n",
    "\n",
    "    def peak_to_peak(arr):\n",
    "        return arr.max() - arr.min()\n",
    "\n",
    "    grouped = df.groupby('key1')\n",
    "    grouped.agg(peak_to_peak)\n",
    "\n",
    "-- Apply multiple functions to a Series or a DataFrame by passing an array\n",
    "    grouped.agg(['mean','std',peak_to_peak])\n",
    "    ** DO NOT put user-defined functions in single quotes\n",
    "    \n",
    "    - To wind up with a result with a different name than the function, pass a tuple into the agg:\n",
    "        grouped.agg([('My Mean', 'mean'), ('Peak to Peak', peak_to_peak)])\n",
    "\n",
    "-- Apply distinct functions to separate columns of a DataFrame\n",
    "    - Pass a dict into the agg:\n",
    "        grouped.agg({'col1': 'mean', 'col2' : peak_to_peak'})\n",
    "    - More than 1 function to a single column\n",
    "        # The result has hierarchical columns ****\n",
    "        grouped.agg({'tip_pct' : ['min','max','mean','std',peak_to_peak], 'size': 'sum'})\n",
    "\n",
    "-- df.transform() broadcasts a scalar value or array of the same size as df back onto df\n",
    "        df.groupby(key).transform(np.mean) # equivalent to df.groupby(key).transform('mean')\n",
    "        df.groupby(key).transform(my_func)\n",
    "\n",
    "\n",
    "-- Combining cut and groupby\n",
    "    df['data1','data2']\n",
    "    factor = pd.cut(df['data1'], 4)\n",
    "        # Cut into 4 equal lenth buckets; factor variable knows the value ranges of the buckets\n",
    "    grouped = frame['data2'].groupby(factor).describe()\n",
    "        # Compute statistics about Data 2 using the factor variables\n",
    "        # Factor is a Category object NOT a list, so we're not just 1-to-1 mapping the results of factor\n",
    "        # Instead, groupby knows to use the 4 categories of factor to organize the contents of frame['data2']\n",
    "\n",
    "-- Interpolate missing values\n",
    "    fill_std = lambda g: g.fillna(g.std())\n",
    "    data.groupby(group_key).apply(fill_std)\n",
    "\n",
    "-- Lots of examples in the notes below of the split / apply / combine paradigm\n",
    "\n",
    "-- Pivot Tables\n",
    "    - df.pivot_table(index='col1', 'col2')\n",
    "        #  Default operation is mean.  As in df.pivot_table(index='col1', 'col2', aggfunc = 'mean')\n",
    "    - tips.pivot_table(['tip_pct','size'], index=['sex', 'day'], columns='smoker', fill_value = 0, aggfunc=sum)\n",
    "        # margins=True parameter gets the subtotals across each row and column\n",
    "\n",
    "-- Basic framework\n",
    "\n",
    "    grouped = df.groupby('name')\n",
    "    grouped.apply.sum()\n",
    "\n",
    "--\n",
    "'''"
   ]
  },
  {
   "cell_type": "code",
   "execution_count": 67,
   "metadata": {
    "collapsed": false,
    "deletable": true,
    "editable": true
   },
   "outputs": [
    {
     "data": {
      "text/html": [
       "<div>\n",
       "<table border=\"1\" class=\"dataframe\">\n",
       "  <thead>\n",
       "    <tr style=\"text-align: right;\">\n",
       "      <th></th>\n",
       "      <th>data1</th>\n",
       "      <th>data2</th>\n",
       "      <th>key1</th>\n",
       "      <th>key2</th>\n",
       "    </tr>\n",
       "  </thead>\n",
       "  <tbody>\n",
       "    <tr>\n",
       "      <th>0</th>\n",
       "      <td>-0.100674</td>\n",
       "      <td>-1.698715</td>\n",
       "      <td>a</td>\n",
       "      <td>one</td>\n",
       "    </tr>\n",
       "    <tr>\n",
       "      <th>1</th>\n",
       "      <td>-1.510790</td>\n",
       "      <td>-0.799394</td>\n",
       "      <td>a</td>\n",
       "      <td>two</td>\n",
       "    </tr>\n",
       "    <tr>\n",
       "      <th>2</th>\n",
       "      <td>-0.968428</td>\n",
       "      <td>-1.086428</td>\n",
       "      <td>b</td>\n",
       "      <td>one</td>\n",
       "    </tr>\n",
       "    <tr>\n",
       "      <th>3</th>\n",
       "      <td>-1.003918</td>\n",
       "      <td>-0.778593</td>\n",
       "      <td>b</td>\n",
       "      <td>two</td>\n",
       "    </tr>\n",
       "    <tr>\n",
       "      <th>4</th>\n",
       "      <td>1.042822</td>\n",
       "      <td>-0.066577</td>\n",
       "      <td>a</td>\n",
       "      <td>one</td>\n",
       "    </tr>\n",
       "  </tbody>\n",
       "</table>\n",
       "</div>"
      ],
      "text/plain": [
       "      data1     data2 key1 key2\n",
       "0 -0.100674 -1.698715    a  one\n",
       "1 -1.510790 -0.799394    a  two\n",
       "2 -0.968428 -1.086428    b  one\n",
       "3 -1.003918 -0.778593    b  two\n",
       "4  1.042822 -0.066577    a  one"
      ]
     },
     "execution_count": 67,
     "metadata": {},
     "output_type": "execute_result"
    }
   ],
   "source": [
    "# Starting small - create a 5 x 4 data frame\n",
    "\n",
    "df = pd.DataFrame({'key1' : ['a', 'a', 'b', 'b', 'a'],\n",
    "                   'key2' : ['one','two','one','two','one'],\n",
    "                   'data1' : np.random.randn(5),\n",
    "                   'data2' : np.random.randn(5)})\n",
    "df"
   ]
  },
  {
   "cell_type": "code",
   "execution_count": 68,
   "metadata": {
    "collapsed": false,
    "deletable": true,
    "editable": true
   },
   "outputs": [
    {
     "data": {
      "text/plain": [
       "<pandas.core.groupby.SeriesGroupBy object at 0x1093a6e50>"
      ]
     },
     "execution_count": 68,
     "metadata": {},
     "output_type": "execute_result"
    }
   ],
   "source": [
    "# Compute mean of the data1 column using the values from the key1 columns\n",
    "df['data1'].groupby(df['key1'])\n",
    "    # --> THIS IS A GROUP BY OBJECT.  IT IS NOT YET A NUMBER BECAUSE WE HAVEN'T APPLIED AN OPERATION\n",
    "    # It has computed intermediate data about the group key df['key1']\n",
    "    # The object has all the information needed to then apply some operation to each of the groups"
   ]
  },
  {
   "cell_type": "code",
   "execution_count": 69,
   "metadata": {
    "collapsed": false,
    "deletable": true,
    "editable": true
   },
   "outputs": [
    {
     "data": {
      "text/plain": [
       "key1\n",
       "a   -0.189547\n",
       "b   -0.986173\n",
       "Name: data1, dtype: float64"
      ]
     },
     "execution_count": 69,
     "metadata": {},
     "output_type": "execute_result"
    }
   ],
   "source": [
    "# Call an operation on the groupby()\n",
    "df['data1'].groupby(df['key1']).mean()\n",
    "    # Produces a new Series that is now indexed by the unique values of the key1 column"
   ]
  },
  {
   "cell_type": "code",
   "execution_count": 70,
   "metadata": {
    "collapsed": false,
    "deletable": true,
    "editable": true
   },
   "outputs": [
    {
     "data": {
      "text/plain": [
       "key1  key2\n",
       "a     one     0.471074\n",
       "      two    -1.510790\n",
       "b     one    -0.968428\n",
       "      two    -1.003918\n",
       "Name: data1, dtype: float64"
      ]
     },
     "execution_count": 70,
     "metadata": {},
     "output_type": "execute_result"
    }
   ],
   "source": [
    "# Can pass multiple arrays as a list\n",
    "means = df['data1'].groupby([df['key1'], df['key2']]).mean()\n",
    "means\n",
    "    # Produces a Series that is HIERARCHICAL index by the unique values of a cartesian product of the key1 & key2 columns"
   ]
  },
  {
   "cell_type": "code",
   "execution_count": 71,
   "metadata": {
    "collapsed": false,
    "deletable": true,
    "editable": true
   },
   "outputs": [
    {
     "data": {
      "text/html": [
       "<div>\n",
       "<table border=\"1\" class=\"dataframe\">\n",
       "  <thead>\n",
       "    <tr style=\"text-align: right;\">\n",
       "      <th>key2</th>\n",
       "      <th>one</th>\n",
       "      <th>two</th>\n",
       "    </tr>\n",
       "    <tr>\n",
       "      <th>key1</th>\n",
       "      <th></th>\n",
       "      <th></th>\n",
       "    </tr>\n",
       "  </thead>\n",
       "  <tbody>\n",
       "    <tr>\n",
       "      <th>a</th>\n",
       "      <td>0.471074</td>\n",
       "      <td>-1.510790</td>\n",
       "    </tr>\n",
       "    <tr>\n",
       "      <th>b</th>\n",
       "      <td>-0.968428</td>\n",
       "      <td>-1.003918</td>\n",
       "    </tr>\n",
       "  </tbody>\n",
       "</table>\n",
       "</div>"
      ],
      "text/plain": [
       "key2       one       two\n",
       "key1                    \n",
       "a     0.471074 -1.510790\n",
       "b    -0.968428 -1.003918"
      ]
     },
     "execution_count": 71,
     "metadata": {},
     "output_type": "execute_result"
    }
   ],
   "source": [
    "# Use \"unstack()\" to make row index --> column index.\n",
    "means.unstack()"
   ]
  },
  {
   "cell_type": "code",
   "execution_count": 72,
   "metadata": {
    "collapsed": false,
    "deletable": true,
    "editable": true
   },
   "outputs": [
    {
     "data": {
      "text/plain": [
       "California  2005   -1.510790\n",
       "            2006   -0.968428\n",
       "Ohio        2005   -0.552296\n",
       "            2006    1.042822\n",
       "Name: data1, dtype: float64"
      ]
     },
     "execution_count": 72,
     "metadata": {},
     "output_type": "execute_result"
    }
   ],
   "source": [
    "# Pass two lists to group on as long this works AS LONG AS THEY ARE THE SAME SIZE AS TH EINDEX\n",
    "states = np.array(['Ohio', 'California', 'California', 'Ohio', 'Ohio'])\n",
    "    # len(states) = 5\n",
    "years = np.array([2005, 2005, 2006, 2005, 2006])\n",
    "    # len(years) = 5\n",
    "df['data1'].groupby([states, years]).mean()"
   ]
  },
  {
   "cell_type": "code",
   "execution_count": 73,
   "metadata": {
    "collapsed": false,
    "deletable": true,
    "editable": true
   },
   "outputs": [
    {
     "data": {
      "text/html": [
       "<div>\n",
       "<table border=\"1\" class=\"dataframe\">\n",
       "  <thead>\n",
       "    <tr style=\"text-align: right;\">\n",
       "      <th></th>\n",
       "      <th></th>\n",
       "      <th>data1</th>\n",
       "      <th>data2</th>\n",
       "    </tr>\n",
       "    <tr>\n",
       "      <th>key1</th>\n",
       "      <th>key2</th>\n",
       "      <th></th>\n",
       "      <th></th>\n",
       "    </tr>\n",
       "  </thead>\n",
       "  <tbody>\n",
       "    <tr>\n",
       "      <th rowspan=\"2\" valign=\"top\">a</th>\n",
       "      <th>one</th>\n",
       "      <td>0.471074</td>\n",
       "      <td>-0.882646</td>\n",
       "    </tr>\n",
       "    <tr>\n",
       "      <th>two</th>\n",
       "      <td>-1.510790</td>\n",
       "      <td>-0.799394</td>\n",
       "    </tr>\n",
       "    <tr>\n",
       "      <th rowspan=\"2\" valign=\"top\">b</th>\n",
       "      <th>one</th>\n",
       "      <td>-0.968428</td>\n",
       "      <td>-1.086428</td>\n",
       "    </tr>\n",
       "    <tr>\n",
       "      <th>two</th>\n",
       "      <td>-1.003918</td>\n",
       "      <td>-0.778593</td>\n",
       "    </tr>\n",
       "  </tbody>\n",
       "</table>\n",
       "</div>"
      ],
      "text/plain": [
       "              data1     data2\n",
       "key1 key2                    \n",
       "a    one   0.471074 -0.882646\n",
       "     two  -1.510790 -0.799394\n",
       "b    one  -0.968428 -1.086428\n",
       "     two  -1.003918 -0.778593"
      ]
     },
     "execution_count": 73,
     "metadata": {},
     "output_type": "execute_result"
    }
   ],
   "source": [
    "# Pass just a column name if the column to be grouped on is within the initial dataframe / series\n",
    "df.groupby(['key1', 'key2']).mean()"
   ]
  },
  {
   "cell_type": "code",
   "execution_count": 74,
   "metadata": {
    "collapsed": false,
    "deletable": true,
    "editable": true
   },
   "outputs": [
    {
     "data": {
      "text/plain": [
       "key1  key2\n",
       "a     one     2\n",
       "      two     1\n",
       "b     one     1\n",
       "      two     1\n",
       "dtype: int64"
      ]
     },
     "execution_count": 74,
     "metadata": {},
     "output_type": "execute_result"
    }
   ],
   "source": [
    "# The \"size()\" metric is like a count on a single column; creates a series, not a DataFrame\n",
    "df.groupby(['key1', 'key2']).size()"
   ]
  },
  {
   "cell_type": "code",
   "execution_count": 75,
   "metadata": {
    "collapsed": false,
    "deletable": true,
    "editable": true
   },
   "outputs": [
    {
     "name": "stdout",
     "output_type": "stream",
     "text": [
      "a\n",
      "      data1     data2 key1 key2\n",
      "0 -0.100674 -1.698715    a  one\n",
      "1 -1.510790 -0.799394    a  two\n",
      "4  1.042822 -0.066577    a  one\n",
      "b\n",
      "      data1     data2 key1 key2\n",
      "2 -0.968428 -1.086428    b  one\n",
      "3 -1.003918 -0.778593    b  two\n"
     ]
    }
   ],
   "source": [
    "##### Grouping supports Iteration\n",
    "for name, group in df.groupby('key1'):\n",
    "    print(name)\n",
    "    print(group)"
   ]
  },
  {
   "cell_type": "code",
   "execution_count": 76,
   "metadata": {
    "collapsed": false,
    "deletable": true,
    "editable": true
   },
   "outputs": [
    {
     "name": "stdout",
     "output_type": "stream",
     "text": [
      "('a', 'one')\n",
      "      data1     data2 key1 key2\n",
      "0 -0.100674 -1.698715    a  one\n",
      "4  1.042822 -0.066577    a  one\n",
      "('a', 'two')\n",
      "     data1     data2 key1 key2\n",
      "1 -1.51079 -0.799394    a  two\n",
      "('b', 'one')\n",
      "      data1     data2 key1 key2\n",
      "2 -0.968428 -1.086428    b  one\n",
      "('b', 'two')\n",
      "      data1     data2 key1 key2\n",
      "3 -1.003918 -0.778593    b  two\n"
     ]
    }
   ],
   "source": [
    "# You can iterate over multiple keys\n",
    "for (k1, k2), group in df.groupby(['key1', 'key2']):\n",
    "    print((k1, k2))\n",
    "    print(group)"
   ]
  },
  {
   "cell_type": "code",
   "execution_count": 77,
   "metadata": {
    "collapsed": false,
    "deletable": true,
    "editable": true
   },
   "outputs": [
    {
     "data": {
      "text/html": [
       "<div>\n",
       "<table border=\"1\" class=\"dataframe\">\n",
       "  <thead>\n",
       "    <tr style=\"text-align: right;\">\n",
       "      <th></th>\n",
       "      <th>data1</th>\n",
       "      <th>data2</th>\n",
       "      <th>key1</th>\n",
       "      <th>key2</th>\n",
       "    </tr>\n",
       "  </thead>\n",
       "  <tbody>\n",
       "    <tr>\n",
       "      <th>2</th>\n",
       "      <td>-0.968428</td>\n",
       "      <td>-1.086428</td>\n",
       "      <td>b</td>\n",
       "      <td>one</td>\n",
       "    </tr>\n",
       "    <tr>\n",
       "      <th>3</th>\n",
       "      <td>-1.003918</td>\n",
       "      <td>-0.778593</td>\n",
       "      <td>b</td>\n",
       "      <td>two</td>\n",
       "    </tr>\n",
       "  </tbody>\n",
       "</table>\n",
       "</div>"
      ],
      "text/plain": [
       "      data1     data2 key1 key2\n",
       "2 -0.968428 -1.086428    b  one\n",
       "3 -1.003918 -0.778593    b  two"
      ]
     },
     "execution_count": 77,
     "metadata": {},
     "output_type": "execute_result"
    }
   ],
   "source": [
    "# Create a dict from the result of the groupby\n",
    "pieces = dict(list(df.groupby('key1')))\n",
    "pieces['b']"
   ]
  },
  {
   "cell_type": "code",
   "execution_count": 78,
   "metadata": {
    "collapsed": false,
    "deletable": true,
    "editable": true
   },
   "outputs": [
    {
     "name": "stdout",
     "output_type": "stream",
     "text": [
      "data1    float64\n",
      "data2    float64\n",
      "key1      object\n",
      "key2      object\n",
      "dtype: object\n"
     ]
    },
    {
     "data": {
      "text/html": [
       "<div>\n",
       "<table border=\"1\" class=\"dataframe\">\n",
       "  <thead>\n",
       "    <tr style=\"text-align: right;\">\n",
       "      <th></th>\n",
       "      <th>data1</th>\n",
       "      <th>data2</th>\n",
       "      <th>key1</th>\n",
       "      <th>key2</th>\n",
       "    </tr>\n",
       "  </thead>\n",
       "  <tbody>\n",
       "    <tr>\n",
       "      <th>0</th>\n",
       "      <td>-0.100674</td>\n",
       "      <td>-1.698715</td>\n",
       "      <td>a</td>\n",
       "      <td>one</td>\n",
       "    </tr>\n",
       "    <tr>\n",
       "      <th>1</th>\n",
       "      <td>-1.510790</td>\n",
       "      <td>-0.799394</td>\n",
       "      <td>a</td>\n",
       "      <td>two</td>\n",
       "    </tr>\n",
       "    <tr>\n",
       "      <th>2</th>\n",
       "      <td>-0.968428</td>\n",
       "      <td>-1.086428</td>\n",
       "      <td>b</td>\n",
       "      <td>one</td>\n",
       "    </tr>\n",
       "    <tr>\n",
       "      <th>3</th>\n",
       "      <td>-1.003918</td>\n",
       "      <td>-0.778593</td>\n",
       "      <td>b</td>\n",
       "      <td>two</td>\n",
       "    </tr>\n",
       "    <tr>\n",
       "      <th>4</th>\n",
       "      <td>1.042822</td>\n",
       "      <td>-0.066577</td>\n",
       "      <td>a</td>\n",
       "      <td>one</td>\n",
       "    </tr>\n",
       "  </tbody>\n",
       "</table>\n",
       "</div>"
      ],
      "text/plain": [
       "      data1     data2 key1 key2\n",
       "0 -0.100674 -1.698715    a  one\n",
       "1 -1.510790 -0.799394    a  two\n",
       "2 -0.968428 -1.086428    b  one\n",
       "3 -1.003918 -0.778593    b  two\n",
       "4  1.042822 -0.066577    a  one"
      ]
     },
     "execution_count": 78,
     "metadata": {},
     "output_type": "execute_result"
    }
   ],
   "source": [
    "# You can group by dtypes\n",
    "# -- with axes = 1, basically creates a dict with outer index dtype name and inner index the elements of that dtype\n",
    "print df.dtypes\n",
    "grouped = df.groupby(df.dtypes, axis=1)\n",
    "dict(list(grouped))[df.dtypes[2]]\n",
    "df"
   ]
  },
  {
   "cell_type": "code",
   "execution_count": null,
   "metadata": {
    "collapsed": true,
    "deletable": true,
    "editable": true
   },
   "outputs": [],
   "source": []
  },
  {
   "cell_type": "code",
   "execution_count": 79,
   "metadata": {
    "collapsed": false,
    "deletable": true,
    "editable": true
   },
   "outputs": [
    {
     "data": {
      "text/html": [
       "<div>\n",
       "<table border=\"1\" class=\"dataframe\">\n",
       "  <thead>\n",
       "    <tr style=\"text-align: right;\">\n",
       "      <th></th>\n",
       "      <th></th>\n",
       "      <th>data2</th>\n",
       "    </tr>\n",
       "    <tr>\n",
       "      <th>key1</th>\n",
       "      <th>key2</th>\n",
       "      <th></th>\n",
       "    </tr>\n",
       "  </thead>\n",
       "  <tbody>\n",
       "    <tr>\n",
       "      <th rowspan=\"2\" valign=\"top\">a</th>\n",
       "      <th>one</th>\n",
       "      <td>-0.882646</td>\n",
       "    </tr>\n",
       "    <tr>\n",
       "      <th>two</th>\n",
       "      <td>-0.799394</td>\n",
       "    </tr>\n",
       "    <tr>\n",
       "      <th rowspan=\"2\" valign=\"top\">b</th>\n",
       "      <th>one</th>\n",
       "      <td>-1.086428</td>\n",
       "    </tr>\n",
       "    <tr>\n",
       "      <th>two</th>\n",
       "      <td>-0.778593</td>\n",
       "    </tr>\n",
       "  </tbody>\n",
       "</table>\n",
       "</div>"
      ],
      "text/plain": [
       "              data2\n",
       "key1 key2          \n",
       "a    one  -0.882646\n",
       "     two  -0.799394\n",
       "b    one  -1.086428\n",
       "     two  -0.778593"
      ]
     },
     "execution_count": 79,
     "metadata": {},
     "output_type": "execute_result"
    }
   ],
   "source": [
    "### Selecting a Column or Subset of Columns and then aggreagating\n",
    "# Useful for large data sets\n",
    "df.groupby(['key1', 'key2'])[['data2']].mean()\n",
    "    # That's processed identically to doing the operation and then selecting the column\n",
    "    # The interpreter is actually doing the thing above, where only the 1 column to be returned is computed\n",
    "    # df.groupby(['key1', 'key2']).mean()[['data2']]\n",
    "    \n"
   ]
  },
  {
   "cell_type": "code",
   "execution_count": 80,
   "metadata": {
    "collapsed": false,
    "deletable": true,
    "editable": true
   },
   "outputs": [
    {
     "data": {
      "text/plain": [
       "key1  key2\n",
       "a     one    -0.882646\n",
       "      two    -0.799394\n",
       "b     one    -1.086428\n",
       "      two    -0.778593\n",
       "Name: data2, dtype: float64"
      ]
     },
     "execution_count": 80,
     "metadata": {},
     "output_type": "execute_result"
    }
   ],
   "source": [
    "# Passing a single value selection, e.g. 'data2', instead of a list, ['data2'], yields a Series rather than a DataFrame\n",
    "df.groupby(['key1', 'key2'])['data2'].mean()"
   ]
  },
  {
   "cell_type": "code",
   "execution_count": null,
   "metadata": {
    "collapsed": true,
    "deletable": true,
    "editable": true
   },
   "outputs": [],
   "source": []
  },
  {
   "cell_type": "code",
   "execution_count": 81,
   "metadata": {
    "collapsed": false,
    "deletable": true,
    "editable": true
   },
   "outputs": [
    {
     "data": {
      "text/html": [
       "<div>\n",
       "<table border=\"1\" class=\"dataframe\">\n",
       "  <thead>\n",
       "    <tr style=\"text-align: right;\">\n",
       "      <th></th>\n",
       "      <th>a</th>\n",
       "      <th>b</th>\n",
       "      <th>c</th>\n",
       "      <th>d</th>\n",
       "      <th>e</th>\n",
       "    </tr>\n",
       "  </thead>\n",
       "  <tbody>\n",
       "    <tr>\n",
       "      <th>Joe</th>\n",
       "      <td>1.333285</td>\n",
       "      <td>-1.619060</td>\n",
       "      <td>0.636468</td>\n",
       "      <td>-1.134022</td>\n",
       "      <td>0.147526</td>\n",
       "    </tr>\n",
       "    <tr>\n",
       "      <th>Steve</th>\n",
       "      <td>-1.370139</td>\n",
       "      <td>-0.547247</td>\n",
       "      <td>-1.867878</td>\n",
       "      <td>0.267070</td>\n",
       "      <td>0.256973</td>\n",
       "    </tr>\n",
       "    <tr>\n",
       "      <th>Wes</th>\n",
       "      <td>-0.889225</td>\n",
       "      <td>NaN</td>\n",
       "      <td>NaN</td>\n",
       "      <td>0.723350</td>\n",
       "      <td>-0.521414</td>\n",
       "    </tr>\n",
       "    <tr>\n",
       "      <th>Jim</th>\n",
       "      <td>0.906904</td>\n",
       "      <td>1.810419</td>\n",
       "      <td>-1.855105</td>\n",
       "      <td>-0.100568</td>\n",
       "      <td>-0.337856</td>\n",
       "    </tr>\n",
       "    <tr>\n",
       "      <th>Travis</th>\n",
       "      <td>0.298512</td>\n",
       "      <td>-0.216308</td>\n",
       "      <td>-0.225065</td>\n",
       "      <td>1.210550</td>\n",
       "      <td>-0.593552</td>\n",
       "    </tr>\n",
       "  </tbody>\n",
       "</table>\n",
       "</div>"
      ],
      "text/plain": [
       "               a         b         c         d         e\n",
       "Joe     1.333285 -1.619060  0.636468 -1.134022  0.147526\n",
       "Steve  -1.370139 -0.547247 -1.867878  0.267070  0.256973\n",
       "Wes    -0.889225       NaN       NaN  0.723350 -0.521414\n",
       "Jim     0.906904  1.810419 -1.855105 -0.100568 -0.337856\n",
       "Travis  0.298512 -0.216308 -0.225065  1.210550 -0.593552"
      ]
     },
     "execution_count": 81,
     "metadata": {},
     "output_type": "execute_result"
    }
   ],
   "source": [
    "### Grouping with Dicts and Series\n",
    "people = pd.DataFrame(np.random.randn(5, 5), columns=['a', 'b', 'c', 'd', 'e'], index=['Joe', 'Steve', 'Wes', 'Jim', 'Travis'])\n",
    "people.ix[2:3, ['b','c']] = np.nan # Throw in a few NaN values\n",
    "people"
   ]
  },
  {
   "cell_type": "code",
   "execution_count": 82,
   "metadata": {
    "collapsed": false,
    "deletable": true,
    "editable": true
   },
   "outputs": [
    {
     "data": {
      "text/html": [
       "<div>\n",
       "<table border=\"1\" class=\"dataframe\">\n",
       "  <thead>\n",
       "    <tr style=\"text-align: right;\">\n",
       "      <th></th>\n",
       "      <th>blue</th>\n",
       "      <th>red</th>\n",
       "    </tr>\n",
       "  </thead>\n",
       "  <tbody>\n",
       "    <tr>\n",
       "      <th>Joe</th>\n",
       "      <td>-0.497554</td>\n",
       "      <td>-0.138249</td>\n",
       "    </tr>\n",
       "    <tr>\n",
       "      <th>Steve</th>\n",
       "      <td>-1.600807</td>\n",
       "      <td>-1.660413</td>\n",
       "    </tr>\n",
       "    <tr>\n",
       "      <th>Wes</th>\n",
       "      <td>0.723350</td>\n",
       "      <td>-1.410639</td>\n",
       "    </tr>\n",
       "    <tr>\n",
       "      <th>Jim</th>\n",
       "      <td>-1.955673</td>\n",
       "      <td>2.379467</td>\n",
       "    </tr>\n",
       "    <tr>\n",
       "      <th>Travis</th>\n",
       "      <td>0.985485</td>\n",
       "      <td>-0.511347</td>\n",
       "    </tr>\n",
       "  </tbody>\n",
       "</table>\n",
       "</div>"
      ],
      "text/plain": [
       "            blue       red\n",
       "Joe    -0.497554 -0.138249\n",
       "Steve  -1.600807 -1.660413\n",
       "Wes     0.723350 -1.410639\n",
       "Jim    -1.955673  2.379467\n",
       "Travis  0.985485 -0.511347"
      ]
     },
     "execution_count": 82,
     "metadata": {},
     "output_type": "execute_result"
    }
   ],
   "source": [
    "# Establish a dict that maps columns of df to other values\n",
    "mapping = {'a': 'red', 'b': 'red', 'c': 'blue', 'd': 'blue', 'e': 'red', 'f': 'orange'}\n",
    "    # Not that 'red' and 'blue' are the only values in the codomain when the domain is the columns of df\n",
    "mapping\n",
    "by_column = people.groupby(mapping, axis=1)\n",
    "by_column.sum()"
   ]
  },
  {
   "cell_type": "code",
   "execution_count": 83,
   "metadata": {
    "collapsed": false,
    "deletable": true,
    "editable": true
   },
   "outputs": [
    {
     "data": {
      "text/html": [
       "<div>\n",
       "<table border=\"1\" class=\"dataframe\">\n",
       "  <thead>\n",
       "    <tr style=\"text-align: right;\">\n",
       "      <th></th>\n",
       "      <th>blue</th>\n",
       "      <th>red</th>\n",
       "    </tr>\n",
       "  </thead>\n",
       "  <tbody>\n",
       "    <tr>\n",
       "      <th>Joe</th>\n",
       "      <td>-0.497554</td>\n",
       "      <td>-0.138249</td>\n",
       "    </tr>\n",
       "    <tr>\n",
       "      <th>Steve</th>\n",
       "      <td>-1.600807</td>\n",
       "      <td>-1.660413</td>\n",
       "    </tr>\n",
       "    <tr>\n",
       "      <th>Wes</th>\n",
       "      <td>0.723350</td>\n",
       "      <td>-1.410639</td>\n",
       "    </tr>\n",
       "    <tr>\n",
       "      <th>Jim</th>\n",
       "      <td>-1.955673</td>\n",
       "      <td>2.379467</td>\n",
       "    </tr>\n",
       "    <tr>\n",
       "      <th>Travis</th>\n",
       "      <td>0.985485</td>\n",
       "      <td>-0.511347</td>\n",
       "    </tr>\n",
       "  </tbody>\n",
       "</table>\n",
       "</div>"
      ],
      "text/plain": [
       "            blue       red\n",
       "Joe    -0.497554 -0.138249\n",
       "Steve  -1.600807 -1.660413\n",
       "Wes     0.723350 -1.410639\n",
       "Jim    -1.955673  2.379467\n",
       "Travis  0.985485 -0.511347"
      ]
     },
     "execution_count": 83,
     "metadata": {},
     "output_type": "execute_result"
    }
   ],
   "source": [
    "# Pandas groupby operation gives the same result whether the groupby is passed a dict or a Series\n",
    "map_series = pd.Series(mapping)\n",
    "people.groupby(map_series, axis=1).sum()"
   ]
  },
  {
   "cell_type": "code",
   "execution_count": null,
   "metadata": {
    "collapsed": true,
    "deletable": true,
    "editable": true
   },
   "outputs": [],
   "source": []
  },
  {
   "cell_type": "code",
   "execution_count": 84,
   "metadata": {
    "collapsed": false,
    "deletable": true,
    "editable": true
   },
   "outputs": [
    {
     "data": {
      "text/html": [
       "<div>\n",
       "<table border=\"1\" class=\"dataframe\">\n",
       "  <thead>\n",
       "    <tr style=\"text-align: right;\">\n",
       "      <th></th>\n",
       "      <th>a</th>\n",
       "      <th>b</th>\n",
       "      <th>c</th>\n",
       "      <th>d</th>\n",
       "      <th>e</th>\n",
       "    </tr>\n",
       "  </thead>\n",
       "  <tbody>\n",
       "    <tr>\n",
       "      <th>3</th>\n",
       "      <td>1.350964</td>\n",
       "      <td>0.191359</td>\n",
       "      <td>-1.218638</td>\n",
       "      <td>-0.511239</td>\n",
       "      <td>-0.711743</td>\n",
       "    </tr>\n",
       "    <tr>\n",
       "      <th>5</th>\n",
       "      <td>-1.370139</td>\n",
       "      <td>-0.547247</td>\n",
       "      <td>-1.867878</td>\n",
       "      <td>0.267070</td>\n",
       "      <td>0.256973</td>\n",
       "    </tr>\n",
       "    <tr>\n",
       "      <th>6</th>\n",
       "      <td>0.298512</td>\n",
       "      <td>-0.216308</td>\n",
       "      <td>-0.225065</td>\n",
       "      <td>1.210550</td>\n",
       "      <td>-0.593552</td>\n",
       "    </tr>\n",
       "  </tbody>\n",
       "</table>\n",
       "</div>"
      ],
      "text/plain": [
       "          a         b         c         d         e\n",
       "3  1.350964  0.191359 -1.218638 -0.511239 -0.711743\n",
       "5 -1.370139 -0.547247 -1.867878  0.267070  0.256973\n",
       "6  0.298512 -0.216308 -0.225065  1.210550 -0.593552"
      ]
     },
     "execution_count": 84,
     "metadata": {},
     "output_type": "execute_result"
    }
   ],
   "source": [
    "### Grouping with Functions - Can just pass the function name and it will operate once per index value\n",
    "# For the people names data set above, imagine that we want to group by the length of the name.\n",
    "people.groupby(len).sum()"
   ]
  },
  {
   "cell_type": "code",
   "execution_count": 85,
   "metadata": {
    "collapsed": false,
    "deletable": true,
    "editable": true
   },
   "outputs": [
    {
     "data": {
      "text/html": [
       "<div>\n",
       "<table border=\"1\" class=\"dataframe\">\n",
       "  <thead>\n",
       "    <tr style=\"text-align: right;\">\n",
       "      <th></th>\n",
       "      <th></th>\n",
       "      <th>a</th>\n",
       "      <th>b</th>\n",
       "      <th>c</th>\n",
       "      <th>d</th>\n",
       "      <th>e</th>\n",
       "    </tr>\n",
       "  </thead>\n",
       "  <tbody>\n",
       "    <tr>\n",
       "      <th rowspan=\"2\" valign=\"top\">3</th>\n",
       "      <th>one</th>\n",
       "      <td>-0.889225</td>\n",
       "      <td>-1.619060</td>\n",
       "      <td>0.636468</td>\n",
       "      <td>-1.134022</td>\n",
       "      <td>-0.521414</td>\n",
       "    </tr>\n",
       "    <tr>\n",
       "      <th>two</th>\n",
       "      <td>0.906904</td>\n",
       "      <td>1.810419</td>\n",
       "      <td>-1.855105</td>\n",
       "      <td>-0.100568</td>\n",
       "      <td>-0.337856</td>\n",
       "    </tr>\n",
       "    <tr>\n",
       "      <th>5</th>\n",
       "      <th>one</th>\n",
       "      <td>-1.370139</td>\n",
       "      <td>-0.547247</td>\n",
       "      <td>-1.867878</td>\n",
       "      <td>0.267070</td>\n",
       "      <td>0.256973</td>\n",
       "    </tr>\n",
       "    <tr>\n",
       "      <th>6</th>\n",
       "      <th>two</th>\n",
       "      <td>0.298512</td>\n",
       "      <td>-0.216308</td>\n",
       "      <td>-0.225065</td>\n",
       "      <td>1.210550</td>\n",
       "      <td>-0.593552</td>\n",
       "    </tr>\n",
       "  </tbody>\n",
       "</table>\n",
       "</div>"
      ],
      "text/plain": [
       "              a         b         c         d         e\n",
       "3 one -0.889225 -1.619060  0.636468 -1.134022 -0.521414\n",
       "  two  0.906904  1.810419 -1.855105 -0.100568 -0.337856\n",
       "5 one -1.370139 -0.547247 -1.867878  0.267070  0.256973\n",
       "6 two  0.298512 -0.216308 -0.225065  1.210550 -0.593552"
      ]
     },
     "execution_count": 85,
     "metadata": {},
     "output_type": "execute_result"
    }
   ],
   "source": [
    "key_list = ['one', 'one', 'one', 'two', 'two']\n",
    "    # len of index are (3, 5, 3, 3, 5) so there are 3/one and 3/two\n",
    "people.groupby([len, key_list]).min()"
   ]
  },
  {
   "cell_type": "code",
   "execution_count": null,
   "metadata": {
    "collapsed": true,
    "deletable": true,
    "editable": true
   },
   "outputs": [],
   "source": []
  },
  {
   "cell_type": "code",
   "execution_count": 86,
   "metadata": {
    "collapsed": false,
    "deletable": true,
    "editable": true
   },
   "outputs": [
    {
     "data": {
      "text/html": [
       "<div>\n",
       "<table border=\"1\" class=\"dataframe\">\n",
       "  <thead>\n",
       "    <tr>\n",
       "      <th>city</th>\n",
       "      <th colspan=\"3\" halign=\"left\">US</th>\n",
       "      <th colspan=\"2\" halign=\"left\">JP</th>\n",
       "    </tr>\n",
       "    <tr>\n",
       "      <th>tenor</th>\n",
       "      <th>1</th>\n",
       "      <th>3</th>\n",
       "      <th>5</th>\n",
       "      <th>1</th>\n",
       "      <th>3</th>\n",
       "    </tr>\n",
       "  </thead>\n",
       "  <tbody>\n",
       "    <tr>\n",
       "      <th>0</th>\n",
       "      <td>0.407177</td>\n",
       "      <td>1.201516</td>\n",
       "      <td>0.418219</td>\n",
       "      <td>0.738341</td>\n",
       "      <td>0.372628</td>\n",
       "    </tr>\n",
       "    <tr>\n",
       "      <th>1</th>\n",
       "      <td>-0.528032</td>\n",
       "      <td>-2.874074</td>\n",
       "      <td>0.326185</td>\n",
       "      <td>-0.956307</td>\n",
       "      <td>-0.613605</td>\n",
       "    </tr>\n",
       "    <tr>\n",
       "      <th>2</th>\n",
       "      <td>0.138301</td>\n",
       "      <td>0.329221</td>\n",
       "      <td>-1.058965</td>\n",
       "      <td>0.720067</td>\n",
       "      <td>-0.209493</td>\n",
       "    </tr>\n",
       "    <tr>\n",
       "      <th>3</th>\n",
       "      <td>1.156720</td>\n",
       "      <td>-1.085918</td>\n",
       "      <td>1.006451</td>\n",
       "      <td>-0.158568</td>\n",
       "      <td>0.060004</td>\n",
       "    </tr>\n",
       "  </tbody>\n",
       "</table>\n",
       "</div>"
      ],
      "text/plain": [
       "city         US                            JP          \n",
       "tenor         1         3         5         1         3\n",
       "0      0.407177  1.201516  0.418219  0.738341  0.372628\n",
       "1     -0.528032 -2.874074  0.326185 -0.956307 -0.613605\n",
       "2      0.138301  0.329221 -1.058965  0.720067 -0.209493\n",
       "3      1.156720 -1.085918  1.006451 -0.158568  0.060004"
      ]
     },
     "execution_count": 86,
     "metadata": {},
     "output_type": "execute_result"
    }
   ],
   "source": [
    "# Grouping by Index Levels\n",
    "columns = pd.MultiIndex.from_arrays([['US', 'US', 'US', 'JP', 'JP'], [1, 3, 5, 1, 3]], names=['city', 'tenor'])\n",
    "hier_df = pd.DataFrame(np.random.randn(4, 5), columns=columns)\n",
    "hier_df"
   ]
  },
  {
   "cell_type": "code",
   "execution_count": 87,
   "metadata": {
    "collapsed": false,
    "deletable": true,
    "editable": true
   },
   "outputs": [
    {
     "data": {
      "text/html": [
       "<div>\n",
       "<table border=\"1\" class=\"dataframe\">\n",
       "  <thead>\n",
       "    <tr style=\"text-align: right;\">\n",
       "      <th>tenor</th>\n",
       "      <th>1</th>\n",
       "      <th>3</th>\n",
       "      <th>5</th>\n",
       "    </tr>\n",
       "  </thead>\n",
       "  <tbody>\n",
       "    <tr>\n",
       "      <th>0</th>\n",
       "      <td>2</td>\n",
       "      <td>2</td>\n",
       "      <td>1</td>\n",
       "    </tr>\n",
       "    <tr>\n",
       "      <th>1</th>\n",
       "      <td>2</td>\n",
       "      <td>2</td>\n",
       "      <td>1</td>\n",
       "    </tr>\n",
       "    <tr>\n",
       "      <th>2</th>\n",
       "      <td>2</td>\n",
       "      <td>2</td>\n",
       "      <td>1</td>\n",
       "    </tr>\n",
       "    <tr>\n",
       "      <th>3</th>\n",
       "      <td>2</td>\n",
       "      <td>2</td>\n",
       "      <td>1</td>\n",
       "    </tr>\n",
       "  </tbody>\n",
       "</table>\n",
       "</div>"
      ],
      "text/plain": [
       "tenor  1  3  5\n",
       "0      2  2  1\n",
       "1      2  2  1\n",
       "2      2  2  1\n",
       "3      2  2  1"
      ]
     },
     "execution_count": 87,
     "metadata": {},
     "output_type": "execute_result"
    }
   ],
   "source": [
    "hier_df.groupby(level=['tenor'], axis=1).count()"
   ]
  },
  {
   "cell_type": "code",
   "execution_count": null,
   "metadata": {
    "collapsed": true,
    "deletable": true,
    "editable": true
   },
   "outputs": [],
   "source": []
  },
  {
   "cell_type": "code",
   "execution_count": 88,
   "metadata": {
    "collapsed": false,
    "deletable": true,
    "editable": true
   },
   "outputs": [
    {
     "data": {
      "text/plain": [
       "key1\n",
       "a    0.814123\n",
       "b   -0.971977\n",
       "Name: data1, dtype: float64"
      ]
     },
     "execution_count": 88,
     "metadata": {},
     "output_type": "execute_result"
    }
   ],
   "source": [
    "### Data Aggregation\n",
    "df.groupby('key1')['data1'].quantile(0.9)"
   ]
  },
  {
   "cell_type": "code",
   "execution_count": 89,
   "metadata": {
    "collapsed": false,
    "deletable": true,
    "editable": true
   },
   "outputs": [
    {
     "data": {
      "text/html": [
       "<div>\n",
       "<table border=\"1\" class=\"dataframe\">\n",
       "  <thead>\n",
       "    <tr style=\"text-align: right;\">\n",
       "      <th></th>\n",
       "      <th>data1</th>\n",
       "      <th>data2</th>\n",
       "    </tr>\n",
       "    <tr>\n",
       "      <th>key1</th>\n",
       "      <th></th>\n",
       "      <th></th>\n",
       "    </tr>\n",
       "  </thead>\n",
       "  <tbody>\n",
       "    <tr>\n",
       "      <th>a</th>\n",
       "      <td>2.553611</td>\n",
       "      <td>1.632138</td>\n",
       "    </tr>\n",
       "    <tr>\n",
       "      <th>b</th>\n",
       "      <td>0.035490</td>\n",
       "      <td>0.307835</td>\n",
       "    </tr>\n",
       "  </tbody>\n",
       "</table>\n",
       "</div>"
      ],
      "text/plain": [
       "         data1     data2\n",
       "key1                    \n",
       "a     2.553611  1.632138\n",
       "b     0.035490  0.307835"
      ]
     },
     "execution_count": 89,
     "metadata": {},
     "output_type": "execute_result"
    }
   ],
   "source": [
    "# User-defined function -- pass into the 'aggregate' or 'agg' method\n",
    "def peak_to_peak(arr):\n",
    "    return arr.max() - arr.min()\n",
    "\n",
    "grouped = df.groupby('key1')\n",
    "grouped.aggregate(peak_to_peak)"
   ]
  },
  {
   "cell_type": "code",
   "execution_count": 90,
   "metadata": {
    "collapsed": false,
    "deletable": true,
    "editable": true
   },
   "outputs": [
    {
     "data": {
      "text/html": [
       "<div>\n",
       "<table border=\"1\" class=\"dataframe\">\n",
       "  <thead>\n",
       "    <tr style=\"text-align: right;\">\n",
       "      <th></th>\n",
       "      <th></th>\n",
       "      <th>data1</th>\n",
       "      <th>data2</th>\n",
       "    </tr>\n",
       "    <tr>\n",
       "      <th>key1</th>\n",
       "      <th></th>\n",
       "      <th></th>\n",
       "      <th></th>\n",
       "    </tr>\n",
       "  </thead>\n",
       "  <tbody>\n",
       "    <tr>\n",
       "      <th rowspan=\"8\" valign=\"top\">a</th>\n",
       "      <th>count</th>\n",
       "      <td>3.000000</td>\n",
       "      <td>3.000000</td>\n",
       "    </tr>\n",
       "    <tr>\n",
       "      <th>mean</th>\n",
       "      <td>-0.189547</td>\n",
       "      <td>-0.854896</td>\n",
       "    </tr>\n",
       "    <tr>\n",
       "      <th>std</th>\n",
       "      <td>1.279123</td>\n",
       "      <td>0.817483</td>\n",
       "    </tr>\n",
       "    <tr>\n",
       "      <th>min</th>\n",
       "      <td>-1.510790</td>\n",
       "      <td>-1.698715</td>\n",
       "    </tr>\n",
       "    <tr>\n",
       "      <th>25%</th>\n",
       "      <td>-0.805732</td>\n",
       "      <td>-1.249055</td>\n",
       "    </tr>\n",
       "    <tr>\n",
       "      <th>50%</th>\n",
       "      <td>-0.100674</td>\n",
       "      <td>-0.799394</td>\n",
       "    </tr>\n",
       "    <tr>\n",
       "      <th>75%</th>\n",
       "      <td>0.471074</td>\n",
       "      <td>-0.432986</td>\n",
       "    </tr>\n",
       "    <tr>\n",
       "      <th>max</th>\n",
       "      <td>1.042822</td>\n",
       "      <td>-0.066577</td>\n",
       "    </tr>\n",
       "    <tr>\n",
       "      <th rowspan=\"8\" valign=\"top\">b</th>\n",
       "      <th>count</th>\n",
       "      <td>2.000000</td>\n",
       "      <td>2.000000</td>\n",
       "    </tr>\n",
       "    <tr>\n",
       "      <th>mean</th>\n",
       "      <td>-0.986173</td>\n",
       "      <td>-0.932510</td>\n",
       "    </tr>\n",
       "    <tr>\n",
       "      <th>std</th>\n",
       "      <td>0.025095</td>\n",
       "      <td>0.217672</td>\n",
       "    </tr>\n",
       "    <tr>\n",
       "      <th>min</th>\n",
       "      <td>-1.003918</td>\n",
       "      <td>-1.086428</td>\n",
       "    </tr>\n",
       "    <tr>\n",
       "      <th>25%</th>\n",
       "      <td>-0.995046</td>\n",
       "      <td>-1.009469</td>\n",
       "    </tr>\n",
       "    <tr>\n",
       "      <th>50%</th>\n",
       "      <td>-0.986173</td>\n",
       "      <td>-0.932510</td>\n",
       "    </tr>\n",
       "    <tr>\n",
       "      <th>75%</th>\n",
       "      <td>-0.977301</td>\n",
       "      <td>-0.855552</td>\n",
       "    </tr>\n",
       "    <tr>\n",
       "      <th>max</th>\n",
       "      <td>-0.968428</td>\n",
       "      <td>-0.778593</td>\n",
       "    </tr>\n",
       "  </tbody>\n",
       "</table>\n",
       "</div>"
      ],
      "text/plain": [
       "               data1     data2\n",
       "key1                          \n",
       "a    count  3.000000  3.000000\n",
       "     mean  -0.189547 -0.854896\n",
       "     std    1.279123  0.817483\n",
       "     min   -1.510790 -1.698715\n",
       "     25%   -0.805732 -1.249055\n",
       "     50%   -0.100674 -0.799394\n",
       "     75%    0.471074 -0.432986\n",
       "     max    1.042822 -0.066577\n",
       "b    count  2.000000  2.000000\n",
       "     mean  -0.986173 -0.932510\n",
       "     std    0.025095  0.217672\n",
       "     min   -1.003918 -1.086428\n",
       "     25%   -0.995046 -1.009469\n",
       "     50%   -0.986173 -0.932510\n",
       "     75%   -0.977301 -0.855552\n",
       "     max   -0.968428 -0.778593"
      ]
     },
     "execution_count": 90,
     "metadata": {},
     "output_type": "execute_result"
    }
   ],
   "source": [
    "# Describe works\n",
    "grouped.describe()"
   ]
  },
  {
   "cell_type": "code",
   "execution_count": null,
   "metadata": {
    "collapsed": true,
    "deletable": true,
    "editable": true
   },
   "outputs": [],
   "source": []
  },
  {
   "cell_type": "code",
   "execution_count": 91,
   "metadata": {
    "collapsed": true,
    "deletable": true,
    "editable": true
   },
   "outputs": [],
   "source": [
    "#### Multiple column aggregation\n",
    "# With Series, you can apply different functions to the value data which, recall, must have just 1 value column\n",
    "# With DataFrames, you can apply different functions to different columns"
   ]
  },
  {
   "cell_type": "code",
   "execution_count": 92,
   "metadata": {
    "collapsed": false,
    "deletable": true,
    "editable": true,
    "scrolled": true
   },
   "outputs": [
    {
     "data": {
      "text/html": [
       "<div>\n",
       "<table border=\"1\" class=\"dataframe\">\n",
       "  <thead>\n",
       "    <tr style=\"text-align: right;\">\n",
       "      <th></th>\n",
       "      <th>total_bill</th>\n",
       "      <th>tip</th>\n",
       "      <th>sex</th>\n",
       "      <th>smoker</th>\n",
       "      <th>day</th>\n",
       "      <th>time</th>\n",
       "      <th>size</th>\n",
       "      <th>tip_pct</th>\n",
       "    </tr>\n",
       "  </thead>\n",
       "  <tbody>\n",
       "    <tr>\n",
       "      <th>0</th>\n",
       "      <td>16.99</td>\n",
       "      <td>1.01</td>\n",
       "      <td>Female</td>\n",
       "      <td>No</td>\n",
       "      <td>Sun</td>\n",
       "      <td>Dinner</td>\n",
       "      <td>2</td>\n",
       "      <td>0.059447</td>\n",
       "    </tr>\n",
       "    <tr>\n",
       "      <th>1</th>\n",
       "      <td>10.34</td>\n",
       "      <td>1.66</td>\n",
       "      <td>Male</td>\n",
       "      <td>No</td>\n",
       "      <td>Sun</td>\n",
       "      <td>Dinner</td>\n",
       "      <td>3</td>\n",
       "      <td>0.160542</td>\n",
       "    </tr>\n",
       "    <tr>\n",
       "      <th>2</th>\n",
       "      <td>21.01</td>\n",
       "      <td>3.50</td>\n",
       "      <td>Male</td>\n",
       "      <td>No</td>\n",
       "      <td>Sun</td>\n",
       "      <td>Dinner</td>\n",
       "      <td>3</td>\n",
       "      <td>0.166587</td>\n",
       "    </tr>\n",
       "    <tr>\n",
       "      <th>3</th>\n",
       "      <td>23.68</td>\n",
       "      <td>3.31</td>\n",
       "      <td>Male</td>\n",
       "      <td>No</td>\n",
       "      <td>Sun</td>\n",
       "      <td>Dinner</td>\n",
       "      <td>2</td>\n",
       "      <td>0.139780</td>\n",
       "    </tr>\n",
       "    <tr>\n",
       "      <th>4</th>\n",
       "      <td>24.59</td>\n",
       "      <td>3.61</td>\n",
       "      <td>Female</td>\n",
       "      <td>No</td>\n",
       "      <td>Sun</td>\n",
       "      <td>Dinner</td>\n",
       "      <td>4</td>\n",
       "      <td>0.146808</td>\n",
       "    </tr>\n",
       "    <tr>\n",
       "      <th>5</th>\n",
       "      <td>25.29</td>\n",
       "      <td>4.71</td>\n",
       "      <td>Male</td>\n",
       "      <td>No</td>\n",
       "      <td>Sun</td>\n",
       "      <td>Dinner</td>\n",
       "      <td>4</td>\n",
       "      <td>0.186240</td>\n",
       "    </tr>\n",
       "  </tbody>\n",
       "</table>\n",
       "</div>"
      ],
      "text/plain": [
       "   total_bill   tip     sex smoker  day    time  size   tip_pct\n",
       "0       16.99  1.01  Female     No  Sun  Dinner     2  0.059447\n",
       "1       10.34  1.66    Male     No  Sun  Dinner     3  0.160542\n",
       "2       21.01  3.50    Male     No  Sun  Dinner     3  0.166587\n",
       "3       23.68  3.31    Male     No  Sun  Dinner     2  0.139780\n",
       "4       24.59  3.61  Female     No  Sun  Dinner     4  0.146808\n",
       "5       25.29  4.71    Male     No  Sun  Dinner     4  0.186240"
      ]
     },
     "execution_count": 92,
     "metadata": {},
     "output_type": "execute_result"
    }
   ],
   "source": [
    "\n",
    "tips = pd.read_csv('ch08/tips.csv')\n",
    "\n",
    "# Tips as pctg of total bill\n",
    "# Adding a new column to a dataframe\n",
    "tips['tip_pct'] = tips['tip'] / tips['total_bill']\n",
    "tips[:6]"
   ]
  },
  {
   "cell_type": "code",
   "execution_count": 93,
   "metadata": {
    "collapsed": false,
    "deletable": true,
    "editable": true,
    "scrolled": true
   },
   "outputs": [],
   "source": [
    "# Make preliminary groupings for use with functions later\n",
    "grouped = tips.groupby(['sex','smoker'])\n",
    "grouped_pct = grouped['tip_pct']"
   ]
  },
  {
   "cell_type": "code",
   "execution_count": 94,
   "metadata": {
    "collapsed": false,
    "deletable": true,
    "editable": true
   },
   "outputs": [
    {
     "data": {
      "text/html": [
       "<div>\n",
       "<table border=\"1\" class=\"dataframe\">\n",
       "  <thead>\n",
       "    <tr style=\"text-align: right;\">\n",
       "      <th></th>\n",
       "      <th></th>\n",
       "      <th>mean</th>\n",
       "      <th>std</th>\n",
       "      <th>peak_to_peak</th>\n",
       "    </tr>\n",
       "    <tr>\n",
       "      <th>sex</th>\n",
       "      <th>smoker</th>\n",
       "      <th></th>\n",
       "      <th></th>\n",
       "      <th></th>\n",
       "    </tr>\n",
       "  </thead>\n",
       "  <tbody>\n",
       "    <tr>\n",
       "      <th rowspan=\"2\" valign=\"top\">Female</th>\n",
       "      <th>No</th>\n",
       "      <td>0.156921</td>\n",
       "      <td>0.036421</td>\n",
       "      <td>0.195876</td>\n",
       "    </tr>\n",
       "    <tr>\n",
       "      <th>Yes</th>\n",
       "      <td>0.182150</td>\n",
       "      <td>0.071595</td>\n",
       "      <td>0.360233</td>\n",
       "    </tr>\n",
       "    <tr>\n",
       "      <th rowspan=\"2\" valign=\"top\">Male</th>\n",
       "      <th>No</th>\n",
       "      <td>0.160669</td>\n",
       "      <td>0.041849</td>\n",
       "      <td>0.220186</td>\n",
       "    </tr>\n",
       "    <tr>\n",
       "      <th>Yes</th>\n",
       "      <td>0.152771</td>\n",
       "      <td>0.090588</td>\n",
       "      <td>0.674707</td>\n",
       "    </tr>\n",
       "  </tbody>\n",
       "</table>\n",
       "</div>"
      ],
      "text/plain": [
       "                   mean       std  peak_to_peak\n",
       "sex    smoker                                  \n",
       "Female No      0.156921  0.036421      0.195876\n",
       "       Yes     0.182150  0.071595      0.360233\n",
       "Male   No      0.160669  0.041849      0.220186\n",
       "       Yes     0.152771  0.090588      0.674707"
      ]
     },
     "execution_count": 94,
     "metadata": {},
     "output_type": "execute_result"
    }
   ],
   "source": [
    "# the aggregate() function can take compiled function in addition to user-defined functions\n",
    "# IMPORTANT: user-defined functions have no quotes.  \n",
    "\n",
    "def peak_to_peak(arr):\n",
    "    return arr.max() - arr.min()\n",
    "\n",
    "grouped_pct.agg(['mean', 'std', peak_to_peak])"
   ]
  },
  {
   "cell_type": "code",
   "execution_count": 95,
   "metadata": {
    "collapsed": false,
    "deletable": true,
    "editable": true
   },
   "outputs": [
    {
     "data": {
      "text/html": [
       "<div>\n",
       "<table border=\"1\" class=\"dataframe\">\n",
       "  <thead>\n",
       "    <tr style=\"text-align: right;\">\n",
       "      <th></th>\n",
       "      <th></th>\n",
       "      <th>foo</th>\n",
       "      <th>bar</th>\n",
       "    </tr>\n",
       "    <tr>\n",
       "      <th>sex</th>\n",
       "      <th>smoker</th>\n",
       "      <th></th>\n",
       "      <th></th>\n",
       "    </tr>\n",
       "  </thead>\n",
       "  <tbody>\n",
       "    <tr>\n",
       "      <th rowspan=\"2\" valign=\"top\">Female</th>\n",
       "      <th>No</th>\n",
       "      <td>0.156921</td>\n",
       "      <td>0.036421</td>\n",
       "    </tr>\n",
       "    <tr>\n",
       "      <th>Yes</th>\n",
       "      <td>0.182150</td>\n",
       "      <td>0.071595</td>\n",
       "    </tr>\n",
       "    <tr>\n",
       "      <th rowspan=\"2\" valign=\"top\">Male</th>\n",
       "      <th>No</th>\n",
       "      <td>0.160669</td>\n",
       "      <td>0.041849</td>\n",
       "    </tr>\n",
       "    <tr>\n",
       "      <th>Yes</th>\n",
       "      <td>0.152771</td>\n",
       "      <td>0.090588</td>\n",
       "    </tr>\n",
       "  </tbody>\n",
       "</table>\n",
       "</div>"
      ],
      "text/plain": [
       "                    foo       bar\n",
       "sex    smoker                    \n",
       "Female No      0.156921  0.036421\n",
       "       Yes     0.182150  0.071595\n",
       "Male   No      0.160669  0.041849\n",
       "       Yes     0.152771  0.090588"
      ]
     },
     "execution_count": 95,
     "metadata": {},
     "output_type": "execute_result"
    }
   ],
   "source": [
    "# You can give columns based on functions other names -- especially helpful for passing in Lambda functions\n",
    "# Pass a tuple into the agg\n",
    "grouped_pct.agg([('foo', 'mean'), ('bar', np.std)])"
   ]
  },
  {
   "cell_type": "code",
   "execution_count": 96,
   "metadata": {
    "collapsed": false,
    "deletable": true,
    "editable": true
   },
   "outputs": [
    {
     "data": {
      "text/html": [
       "<div>\n",
       "<table border=\"1\" class=\"dataframe\">\n",
       "  <thead>\n",
       "    <tr>\n",
       "      <th></th>\n",
       "      <th></th>\n",
       "      <th colspan=\"3\" halign=\"left\">tip_pct</th>\n",
       "      <th colspan=\"3\" halign=\"left\">total_bill</th>\n",
       "    </tr>\n",
       "    <tr>\n",
       "      <th></th>\n",
       "      <th></th>\n",
       "      <th>count</th>\n",
       "      <th>mean</th>\n",
       "      <th>max</th>\n",
       "      <th>count</th>\n",
       "      <th>mean</th>\n",
       "      <th>max</th>\n",
       "    </tr>\n",
       "    <tr>\n",
       "      <th>sex</th>\n",
       "      <th>smoker</th>\n",
       "      <th></th>\n",
       "      <th></th>\n",
       "      <th></th>\n",
       "      <th></th>\n",
       "      <th></th>\n",
       "      <th></th>\n",
       "    </tr>\n",
       "  </thead>\n",
       "  <tbody>\n",
       "    <tr>\n",
       "      <th rowspan=\"2\" valign=\"top\">Female</th>\n",
       "      <th>No</th>\n",
       "      <td>54</td>\n",
       "      <td>0.156921</td>\n",
       "      <td>0.252672</td>\n",
       "      <td>54</td>\n",
       "      <td>18.105185</td>\n",
       "      <td>35.83</td>\n",
       "    </tr>\n",
       "    <tr>\n",
       "      <th>Yes</th>\n",
       "      <td>33</td>\n",
       "      <td>0.182150</td>\n",
       "      <td>0.416667</td>\n",
       "      <td>33</td>\n",
       "      <td>17.977879</td>\n",
       "      <td>44.30</td>\n",
       "    </tr>\n",
       "    <tr>\n",
       "      <th rowspan=\"2\" valign=\"top\">Male</th>\n",
       "      <th>No</th>\n",
       "      <td>97</td>\n",
       "      <td>0.160669</td>\n",
       "      <td>0.291990</td>\n",
       "      <td>97</td>\n",
       "      <td>19.791237</td>\n",
       "      <td>48.33</td>\n",
       "    </tr>\n",
       "    <tr>\n",
       "      <th>Yes</th>\n",
       "      <td>60</td>\n",
       "      <td>0.152771</td>\n",
       "      <td>0.710345</td>\n",
       "      <td>60</td>\n",
       "      <td>22.284500</td>\n",
       "      <td>50.81</td>\n",
       "    </tr>\n",
       "  </tbody>\n",
       "</table>\n",
       "</div>"
      ],
      "text/plain": [
       "              tip_pct                     total_bill                  \n",
       "                count      mean       max      count       mean    max\n",
       "sex    smoker                                                         \n",
       "Female No          54  0.156921  0.252672         54  18.105185  35.83\n",
       "       Yes         33  0.182150  0.416667         33  17.977879  44.30\n",
       "Male   No          97  0.160669  0.291990         97  19.791237  48.33\n",
       "       Yes         60  0.152771  0.710345         60  22.284500  50.81"
      ]
     },
     "execution_count": 96,
     "metadata": {},
     "output_type": "execute_result"
    }
   ],
   "source": [
    "## DataFrames that apply multiple functions to multiple columns automatically create a hierarchical index\n",
    "# The resulting DataFrame can be accessed like any other data frame\n",
    "functions = ['count', 'mean', 'max']\n",
    "result = grouped[['tip_pct', 'total_bill']].agg(functions)\n",
    "result"
   ]
  },
  {
   "cell_type": "code",
   "execution_count": 97,
   "metadata": {
    "collapsed": false,
    "deletable": true,
    "editable": true
   },
   "outputs": [
    {
     "data": {
      "text/html": [
       "<div>\n",
       "<table border=\"1\" class=\"dataframe\">\n",
       "  <thead>\n",
       "    <tr>\n",
       "      <th></th>\n",
       "      <th></th>\n",
       "      <th colspan=\"2\" halign=\"left\">tip_pct</th>\n",
       "      <th colspan=\"2\" halign=\"left\">total_bill</th>\n",
       "    </tr>\n",
       "    <tr>\n",
       "      <th></th>\n",
       "      <th></th>\n",
       "      <th>Durchschnitt</th>\n",
       "      <th>Abweichung</th>\n",
       "      <th>Durchschnitt</th>\n",
       "      <th>Abweichung</th>\n",
       "    </tr>\n",
       "    <tr>\n",
       "      <th>sex</th>\n",
       "      <th>smoker</th>\n",
       "      <th></th>\n",
       "      <th></th>\n",
       "      <th></th>\n",
       "      <th></th>\n",
       "    </tr>\n",
       "  </thead>\n",
       "  <tbody>\n",
       "    <tr>\n",
       "      <th rowspan=\"2\" valign=\"top\">Female</th>\n",
       "      <th>No</th>\n",
       "      <td>0.156921</td>\n",
       "      <td>0.001327</td>\n",
       "      <td>18.105185</td>\n",
       "      <td>53.092422</td>\n",
       "    </tr>\n",
       "    <tr>\n",
       "      <th>Yes</th>\n",
       "      <td>0.182150</td>\n",
       "      <td>0.005126</td>\n",
       "      <td>17.977879</td>\n",
       "      <td>84.451517</td>\n",
       "    </tr>\n",
       "    <tr>\n",
       "      <th rowspan=\"2\" valign=\"top\">Male</th>\n",
       "      <th>No</th>\n",
       "      <td>0.160669</td>\n",
       "      <td>0.001751</td>\n",
       "      <td>19.791237</td>\n",
       "      <td>76.152961</td>\n",
       "    </tr>\n",
       "    <tr>\n",
       "      <th>Yes</th>\n",
       "      <td>0.152771</td>\n",
       "      <td>0.008206</td>\n",
       "      <td>22.284500</td>\n",
       "      <td>98.244673</td>\n",
       "    </tr>\n",
       "  </tbody>\n",
       "</table>\n",
       "</div>"
      ],
      "text/plain": [
       "                   tip_pct              total_bill           \n",
       "              Durchschnitt Abweichung Durchschnitt Abweichung\n",
       "sex    smoker                                                \n",
       "Female No         0.156921   0.001327    18.105185  53.092422\n",
       "       Yes        0.182150   0.005126    17.977879  84.451517\n",
       "Male   No         0.160669   0.001751    19.791237  76.152961\n",
       "       Yes        0.152771   0.008206    22.284500  98.244673"
      ]
     },
     "execution_count": 97,
     "metadata": {},
     "output_type": "execute_result"
    }
   ],
   "source": [
    "# Multiple functions to the same columns, then assigning the resulting functions new names\n",
    "ftuples = [('Durchschnitt', 'mean'), ('Abweichung', np.var)]\n",
    "grouped[['tip_pct', 'total_bill']].agg(ftuples)"
   ]
  },
  {
   "cell_type": "code",
   "execution_count": 98,
   "metadata": {
    "collapsed": false,
    "deletable": true,
    "editable": true
   },
   "outputs": [
    {
     "data": {
      "text/html": [
       "<div>\n",
       "<table border=\"1\" class=\"dataframe\">\n",
       "  <thead>\n",
       "    <tr style=\"text-align: right;\">\n",
       "      <th></th>\n",
       "      <th></th>\n",
       "      <th>tip</th>\n",
       "      <th>size</th>\n",
       "    </tr>\n",
       "    <tr>\n",
       "      <th>sex</th>\n",
       "      <th>smoker</th>\n",
       "      <th></th>\n",
       "      <th></th>\n",
       "    </tr>\n",
       "  </thead>\n",
       "  <tbody>\n",
       "    <tr>\n",
       "      <th rowspan=\"2\" valign=\"top\">Female</th>\n",
       "      <th>No</th>\n",
       "      <td>5.2</td>\n",
       "      <td>140</td>\n",
       "    </tr>\n",
       "    <tr>\n",
       "      <th>Yes</th>\n",
       "      <td>6.5</td>\n",
       "      <td>74</td>\n",
       "    </tr>\n",
       "    <tr>\n",
       "      <th rowspan=\"2\" valign=\"top\">Male</th>\n",
       "      <th>No</th>\n",
       "      <td>9.0</td>\n",
       "      <td>263</td>\n",
       "    </tr>\n",
       "    <tr>\n",
       "      <th>Yes</th>\n",
       "      <td>10.0</td>\n",
       "      <td>150</td>\n",
       "    </tr>\n",
       "  </tbody>\n",
       "</table>\n",
       "</div>"
      ],
      "text/plain": [
       "                tip  size\n",
       "sex    smoker            \n",
       "Female No       5.2   140\n",
       "       Yes      6.5    74\n",
       "Male   No       9.0   263\n",
       "       Yes     10.0   150"
      ]
     },
     "execution_count": 98,
     "metadata": {},
     "output_type": "execute_result"
    }
   ],
   "source": [
    "# Applying functions to *separate* columns\n",
    "# Pass a dict into the agg\n",
    "grouped.agg({'tip' : np.max, 'size' : 'sum'})"
   ]
  },
  {
   "cell_type": "code",
   "execution_count": 99,
   "metadata": {
    "collapsed": false,
    "deletable": true,
    "editable": true
   },
   "outputs": [
    {
     "data": {
      "text/html": [
       "<div>\n",
       "<table border=\"1\" class=\"dataframe\">\n",
       "  <thead>\n",
       "    <tr>\n",
       "      <th></th>\n",
       "      <th></th>\n",
       "      <th colspan=\"5\" halign=\"left\">tip_pct</th>\n",
       "      <th>size</th>\n",
       "    </tr>\n",
       "    <tr>\n",
       "      <th></th>\n",
       "      <th></th>\n",
       "      <th>min</th>\n",
       "      <th>max</th>\n",
       "      <th>mean</th>\n",
       "      <th>std</th>\n",
       "      <th>peak_to_peak</th>\n",
       "      <th>sum</th>\n",
       "    </tr>\n",
       "    <tr>\n",
       "      <th>sex</th>\n",
       "      <th>smoker</th>\n",
       "      <th></th>\n",
       "      <th></th>\n",
       "      <th></th>\n",
       "      <th></th>\n",
       "      <th></th>\n",
       "      <th></th>\n",
       "    </tr>\n",
       "  </thead>\n",
       "  <tbody>\n",
       "    <tr>\n",
       "      <th rowspan=\"2\" valign=\"top\">Female</th>\n",
       "      <th>No</th>\n",
       "      <td>0.056797</td>\n",
       "      <td>0.252672</td>\n",
       "      <td>0.156921</td>\n",
       "      <td>0.036421</td>\n",
       "      <td>0.195876</td>\n",
       "      <td>140</td>\n",
       "    </tr>\n",
       "    <tr>\n",
       "      <th>Yes</th>\n",
       "      <td>0.056433</td>\n",
       "      <td>0.416667</td>\n",
       "      <td>0.182150</td>\n",
       "      <td>0.071595</td>\n",
       "      <td>0.360233</td>\n",
       "      <td>74</td>\n",
       "    </tr>\n",
       "    <tr>\n",
       "      <th rowspan=\"2\" valign=\"top\">Male</th>\n",
       "      <th>No</th>\n",
       "      <td>0.071804</td>\n",
       "      <td>0.291990</td>\n",
       "      <td>0.160669</td>\n",
       "      <td>0.041849</td>\n",
       "      <td>0.220186</td>\n",
       "      <td>263</td>\n",
       "    </tr>\n",
       "    <tr>\n",
       "      <th>Yes</th>\n",
       "      <td>0.035638</td>\n",
       "      <td>0.710345</td>\n",
       "      <td>0.152771</td>\n",
       "      <td>0.090588</td>\n",
       "      <td>0.674707</td>\n",
       "      <td>150</td>\n",
       "    </tr>\n",
       "  </tbody>\n",
       "</table>\n",
       "</div>"
      ],
      "text/plain": [
       "                tip_pct                                            size\n",
       "                    min       max      mean       std peak_to_peak  sum\n",
       "sex    smoker                                                          \n",
       "Female No      0.056797  0.252672  0.156921  0.036421     0.195876  140\n",
       "       Yes     0.056433  0.416667  0.182150  0.071595     0.360233   74\n",
       "Male   No      0.071804  0.291990  0.160669  0.041849     0.220186  263\n",
       "       Yes     0.035638  0.710345  0.152771  0.090588     0.674707  150"
      ]
     },
     "execution_count": 99,
     "metadata": {},
     "output_type": "execute_result"
    }
   ],
   "source": [
    "# You can apply more than 1 function at a time to each column\n",
    "grouped.agg({'tip_pct' : ['min','max','mean','std',peak_to_peak], 'size': 'sum'})"
   ]
  },
  {
   "cell_type": "code",
   "execution_count": null,
   "metadata": {
    "collapsed": false,
    "deletable": true,
    "editable": true
   },
   "outputs": [],
   "source": []
  },
  {
   "cell_type": "code",
   "execution_count": 100,
   "metadata": {
    "collapsed": true,
    "deletable": true,
    "editable": true
   },
   "outputs": [],
   "source": [
    "### Group-wide Operations and Transformations\n",
    "# More general operations than reduction operations where a 1-D vector becomes a scalar"
   ]
  },
  {
   "cell_type": "code",
   "execution_count": 101,
   "metadata": {
    "collapsed": false,
    "deletable": true,
    "editable": true
   },
   "outputs": [
    {
     "data": {
      "text/html": [
       "<div>\n",
       "<table border=\"1\" class=\"dataframe\">\n",
       "  <thead>\n",
       "    <tr style=\"text-align: right;\">\n",
       "      <th></th>\n",
       "      <th>data1</th>\n",
       "      <th>data2</th>\n",
       "      <th>key1</th>\n",
       "      <th>key2</th>\n",
       "      <th>mean_data1</th>\n",
       "      <th>mean_data2</th>\n",
       "    </tr>\n",
       "  </thead>\n",
       "  <tbody>\n",
       "    <tr>\n",
       "      <th>0</th>\n",
       "      <td>-0.100674</td>\n",
       "      <td>-1.698715</td>\n",
       "      <td>a</td>\n",
       "      <td>one</td>\n",
       "      <td>-0.189547</td>\n",
       "      <td>-0.854896</td>\n",
       "    </tr>\n",
       "    <tr>\n",
       "      <th>1</th>\n",
       "      <td>-1.510790</td>\n",
       "      <td>-0.799394</td>\n",
       "      <td>a</td>\n",
       "      <td>two</td>\n",
       "      <td>-0.189547</td>\n",
       "      <td>-0.854896</td>\n",
       "    </tr>\n",
       "    <tr>\n",
       "      <th>4</th>\n",
       "      <td>1.042822</td>\n",
       "      <td>-0.066577</td>\n",
       "      <td>a</td>\n",
       "      <td>one</td>\n",
       "      <td>-0.189547</td>\n",
       "      <td>-0.854896</td>\n",
       "    </tr>\n",
       "    <tr>\n",
       "      <th>2</th>\n",
       "      <td>-0.968428</td>\n",
       "      <td>-1.086428</td>\n",
       "      <td>b</td>\n",
       "      <td>one</td>\n",
       "      <td>-0.986173</td>\n",
       "      <td>-0.932510</td>\n",
       "    </tr>\n",
       "    <tr>\n",
       "      <th>3</th>\n",
       "      <td>-1.003918</td>\n",
       "      <td>-0.778593</td>\n",
       "      <td>b</td>\n",
       "      <td>two</td>\n",
       "      <td>-0.986173</td>\n",
       "      <td>-0.932510</td>\n",
       "    </tr>\n",
       "  </tbody>\n",
       "</table>\n",
       "</div>"
      ],
      "text/plain": [
       "      data1     data2 key1 key2  mean_data1  mean_data2\n",
       "0 -0.100674 -1.698715    a  one   -0.189547   -0.854896\n",
       "1 -1.510790 -0.799394    a  two   -0.189547   -0.854896\n",
       "4  1.042822 -0.066577    a  one   -0.189547   -0.854896\n",
       "2 -0.968428 -1.086428    b  one   -0.986173   -0.932510\n",
       "3 -1.003918 -0.778593    b  two   -0.986173   -0.932510"
      ]
     },
     "execution_count": 101,
     "metadata": {},
     "output_type": "execute_result"
    }
   ],
   "source": [
    "## E.g. add the group mean over an index as its own column onto a dataframe\n",
    "# Iterative method with a groupby over the df and then a merge back into the original DF:\n",
    "k1_means = df.groupby('key1').mean().add_prefix('mean_')\n",
    "    # Returns a DataFrame with an index of key1's unique value: [a, b]\n",
    "pd.merge(df, k1_means, left_on='key1', right_index=True)\n",
    "    # Says to merge using the key1 column of df (the \"left\" df) and the index of k1_means (the \"right\" df)"
   ]
  },
  {
   "cell_type": "code",
   "execution_count": null,
   "metadata": {
    "collapsed": false,
    "deletable": true,
    "editable": true
   },
   "outputs": [],
   "source": []
  },
  {
   "cell_type": "code",
   "execution_count": 102,
   "metadata": {
    "collapsed": false,
    "deletable": true,
    "editable": true
   },
   "outputs": [
    {
     "data": {
      "text/html": [
       "<div>\n",
       "<table border=\"1\" class=\"dataframe\">\n",
       "  <thead>\n",
       "    <tr style=\"text-align: right;\">\n",
       "      <th></th>\n",
       "      <th>a</th>\n",
       "      <th>b</th>\n",
       "      <th>c</th>\n",
       "      <th>d</th>\n",
       "      <th>e</th>\n",
       "    </tr>\n",
       "  </thead>\n",
       "  <tbody>\n",
       "    <tr>\n",
       "      <th>one</th>\n",
       "      <td>0.247524</td>\n",
       "      <td>-0.917684</td>\n",
       "      <td>0.205701</td>\n",
       "      <td>0.266626</td>\n",
       "      <td>-0.322480</td>\n",
       "    </tr>\n",
       "    <tr>\n",
       "      <th>two</th>\n",
       "      <td>-0.231617</td>\n",
       "      <td>0.631586</td>\n",
       "      <td>-1.861492</td>\n",
       "      <td>0.083251</td>\n",
       "      <td>-0.040442</td>\n",
       "    </tr>\n",
       "  </tbody>\n",
       "</table>\n",
       "</div>"
      ],
      "text/plain": [
       "            a         b         c         d         e\n",
       "one  0.247524 -0.917684  0.205701  0.266626 -0.322480\n",
       "two -0.231617  0.631586 -1.861492  0.083251 -0.040442"
      ]
     },
     "execution_count": 102,
     "metadata": {},
     "output_type": "execute_result"
    }
   ],
   "source": [
    "# Use a the \"transform\" method to apply a function a.k.a. \"broadcast\" to elements of a group\n",
    "\n",
    "# See the values you'll be broadcasting\n",
    "key = ['one', 'two', 'one', 'two', 'one']\n",
    "people.groupby(key).mean()"
   ]
  },
  {
   "cell_type": "code",
   "execution_count": 103,
   "metadata": {
    "collapsed": false,
    "deletable": true,
    "editable": true
   },
   "outputs": [
    {
     "data": {
      "text/html": [
       "<div>\n",
       "<table border=\"1\" class=\"dataframe\">\n",
       "  <thead>\n",
       "    <tr style=\"text-align: right;\">\n",
       "      <th></th>\n",
       "      <th>a</th>\n",
       "      <th>b</th>\n",
       "      <th>c</th>\n",
       "      <th>d</th>\n",
       "      <th>e</th>\n",
       "    </tr>\n",
       "  </thead>\n",
       "  <tbody>\n",
       "    <tr>\n",
       "      <th>Joe</th>\n",
       "      <td>0.247524</td>\n",
       "      <td>-0.917684</td>\n",
       "      <td>0.205701</td>\n",
       "      <td>0.266626</td>\n",
       "      <td>-0.322480</td>\n",
       "    </tr>\n",
       "    <tr>\n",
       "      <th>Steve</th>\n",
       "      <td>-0.231617</td>\n",
       "      <td>0.631586</td>\n",
       "      <td>-1.861492</td>\n",
       "      <td>0.083251</td>\n",
       "      <td>-0.040442</td>\n",
       "    </tr>\n",
       "    <tr>\n",
       "      <th>Wes</th>\n",
       "      <td>0.247524</td>\n",
       "      <td>-0.917684</td>\n",
       "      <td>0.205701</td>\n",
       "      <td>0.266626</td>\n",
       "      <td>-0.322480</td>\n",
       "    </tr>\n",
       "    <tr>\n",
       "      <th>Jim</th>\n",
       "      <td>-0.231617</td>\n",
       "      <td>0.631586</td>\n",
       "      <td>-1.861492</td>\n",
       "      <td>0.083251</td>\n",
       "      <td>-0.040442</td>\n",
       "    </tr>\n",
       "    <tr>\n",
       "      <th>Travis</th>\n",
       "      <td>0.247524</td>\n",
       "      <td>-0.917684</td>\n",
       "      <td>0.205701</td>\n",
       "      <td>0.266626</td>\n",
       "      <td>-0.322480</td>\n",
       "    </tr>\n",
       "  </tbody>\n",
       "</table>\n",
       "</div>"
      ],
      "text/plain": [
       "               a         b         c         d         e\n",
       "Joe     0.247524 -0.917684  0.205701  0.266626 -0.322480\n",
       "Steve  -0.231617  0.631586 -1.861492  0.083251 -0.040442\n",
       "Wes     0.247524 -0.917684  0.205701  0.266626 -0.322480\n",
       "Jim    -0.231617  0.631586 -1.861492  0.083251 -0.040442\n",
       "Travis  0.247524 -0.917684  0.205701  0.266626 -0.322480"
      ]
     },
     "execution_count": 103,
     "metadata": {},
     "output_type": "execute_result"
    }
   ],
   "source": [
    "# Broadcast them\n",
    "\n",
    "# With \"Transform\" the operation over the group is calculated and \n",
    "# the result is put back into the original array depending on which group the cell was in\n",
    "# ()\"broadcasted\" onto the DataFrame)\n",
    "people.groupby(key).transform(np.mean)\n",
    "    # Notice that the values above show up below in the specified order"
   ]
  },
  {
   "cell_type": "code",
   "execution_count": 104,
   "metadata": {
    "collapsed": false,
    "deletable": true,
    "editable": true
   },
   "outputs": [
    {
     "name": "stdout",
     "output_type": "stream",
     "text": [
      "               a         b         c         d         e\n",
      "Joe     1.085761 -0.701376  0.430766 -1.400648  0.470006\n",
      "Steve  -1.138521 -1.178833 -0.006386  0.183819  0.297415\n",
      "Wes    -1.136749       NaN       NaN  0.456724 -0.198934\n",
      "Jim     1.138521  1.178833  0.006386 -0.183819 -0.297415\n",
      "Travis  0.050988  0.701376 -0.430766  0.943924 -0.271072\n",
      "                a             b    c             d    e\n",
      "one -1.850372e-17 -5.551115e-17  0.0  3.700743e-17  0.0\n",
      "two  0.000000e+00 -1.110223e-16  0.0  0.000000e+00  0.0\n"
     ]
    }
   ],
   "source": [
    "# Broadcast with a user-defined function\n",
    "def demean(arr):\n",
    "    return arr - arr.mean()\n",
    "\n",
    "demeaned = people.groupby(key).transform(demean)\n",
    "print demeaned\n",
    "\n",
    "# Can verify that the average value of the resulting transformed df is now zero, as expected\n",
    "print demeaned.groupby(key).mean()"
   ]
  },
  {
   "cell_type": "code",
   "execution_count": null,
   "metadata": {
    "collapsed": false,
    "deletable": true,
    "editable": true
   },
   "outputs": [],
   "source": []
  },
  {
   "cell_type": "code",
   "execution_count": 105,
   "metadata": {
    "collapsed": false,
    "deletable": true,
    "editable": true
   },
   "outputs": [],
   "source": [
    "# Apply is the most general groupby method\n",
    "    # Splits the object being manipulated into pieces\n",
    "    # Invokes the function over each pieces\n",
    "    # Concatenates the pieces together\n",
    "    # \"Split, Apply, Combined\" is the framework\n",
    "    \n",
    "# Select the top 5 tip_pct values by group\n",
    "\n",
    "# The general function we want to apply:\n",
    "def top(df, n=5, column = 'tip_pct'):\n",
    "    return df.sort_values(by=column)[-n:]"
   ]
  },
  {
   "cell_type": "code",
   "execution_count": 106,
   "metadata": {
    "collapsed": false,
    "deletable": true,
    "editable": true
   },
   "outputs": [
    {
     "data": {
      "text/html": [
       "<div>\n",
       "<table border=\"1\" class=\"dataframe\">\n",
       "  <thead>\n",
       "    <tr style=\"text-align: right;\">\n",
       "      <th></th>\n",
       "      <th>total_bill</th>\n",
       "      <th>tip</th>\n",
       "      <th>sex</th>\n",
       "      <th>smoker</th>\n",
       "      <th>day</th>\n",
       "      <th>time</th>\n",
       "      <th>size</th>\n",
       "      <th>tip_pct</th>\n",
       "    </tr>\n",
       "  </thead>\n",
       "  <tbody>\n",
       "    <tr>\n",
       "      <th>109</th>\n",
       "      <td>14.31</td>\n",
       "      <td>4.00</td>\n",
       "      <td>Female</td>\n",
       "      <td>Yes</td>\n",
       "      <td>Sat</td>\n",
       "      <td>Dinner</td>\n",
       "      <td>2</td>\n",
       "      <td>0.279525</td>\n",
       "    </tr>\n",
       "    <tr>\n",
       "      <th>183</th>\n",
       "      <td>23.17</td>\n",
       "      <td>6.50</td>\n",
       "      <td>Male</td>\n",
       "      <td>Yes</td>\n",
       "      <td>Sun</td>\n",
       "      <td>Dinner</td>\n",
       "      <td>4</td>\n",
       "      <td>0.280535</td>\n",
       "    </tr>\n",
       "    <tr>\n",
       "      <th>232</th>\n",
       "      <td>11.61</td>\n",
       "      <td>3.39</td>\n",
       "      <td>Male</td>\n",
       "      <td>No</td>\n",
       "      <td>Sat</td>\n",
       "      <td>Dinner</td>\n",
       "      <td>2</td>\n",
       "      <td>0.291990</td>\n",
       "    </tr>\n",
       "    <tr>\n",
       "      <th>67</th>\n",
       "      <td>3.07</td>\n",
       "      <td>1.00</td>\n",
       "      <td>Female</td>\n",
       "      <td>Yes</td>\n",
       "      <td>Sat</td>\n",
       "      <td>Dinner</td>\n",
       "      <td>1</td>\n",
       "      <td>0.325733</td>\n",
       "    </tr>\n",
       "    <tr>\n",
       "      <th>178</th>\n",
       "      <td>9.60</td>\n",
       "      <td>4.00</td>\n",
       "      <td>Female</td>\n",
       "      <td>Yes</td>\n",
       "      <td>Sun</td>\n",
       "      <td>Dinner</td>\n",
       "      <td>2</td>\n",
       "      <td>0.416667</td>\n",
       "    </tr>\n",
       "    <tr>\n",
       "      <th>172</th>\n",
       "      <td>7.25</td>\n",
       "      <td>5.15</td>\n",
       "      <td>Male</td>\n",
       "      <td>Yes</td>\n",
       "      <td>Sun</td>\n",
       "      <td>Dinner</td>\n",
       "      <td>2</td>\n",
       "      <td>0.710345</td>\n",
       "    </tr>\n",
       "  </tbody>\n",
       "</table>\n",
       "</div>"
      ],
      "text/plain": [
       "     total_bill   tip     sex smoker  day    time  size   tip_pct\n",
       "109       14.31  4.00  Female    Yes  Sat  Dinner     2  0.279525\n",
       "183       23.17  6.50    Male    Yes  Sun  Dinner     4  0.280535\n",
       "232       11.61  3.39    Male     No  Sat  Dinner     2  0.291990\n",
       "67         3.07  1.00  Female    Yes  Sat  Dinner     1  0.325733\n",
       "178        9.60  4.00  Female    Yes  Sun  Dinner     2  0.416667\n",
       "172        7.25  5.15    Male    Yes  Sun  Dinner     2  0.710345"
      ]
     },
     "execution_count": 106,
     "metadata": {},
     "output_type": "execute_result"
    }
   ],
   "source": [
    "# This selects the top 5 across the total data set\n",
    "top(tips, n=6, column='tip_pct')"
   ]
  },
  {
   "cell_type": "code",
   "execution_count": 107,
   "metadata": {
    "collapsed": false,
    "deletable": true,
    "editable": true
   },
   "outputs": [
    {
     "data": {
      "text/html": [
       "<div>\n",
       "<table border=\"1\" class=\"dataframe\">\n",
       "  <thead>\n",
       "    <tr style=\"text-align: right;\">\n",
       "      <th></th>\n",
       "      <th></th>\n",
       "      <th>total_bill</th>\n",
       "      <th>tip</th>\n",
       "      <th>sex</th>\n",
       "      <th>smoker</th>\n",
       "      <th>day</th>\n",
       "      <th>time</th>\n",
       "      <th>size</th>\n",
       "      <th>tip_pct</th>\n",
       "    </tr>\n",
       "    <tr>\n",
       "      <th>smoker</th>\n",
       "      <th></th>\n",
       "      <th></th>\n",
       "      <th></th>\n",
       "      <th></th>\n",
       "      <th></th>\n",
       "      <th></th>\n",
       "      <th></th>\n",
       "      <th></th>\n",
       "      <th></th>\n",
       "    </tr>\n",
       "  </thead>\n",
       "  <tbody>\n",
       "    <tr>\n",
       "      <th rowspan=\"5\" valign=\"top\">No</th>\n",
       "      <th>88</th>\n",
       "      <td>24.71</td>\n",
       "      <td>5.85</td>\n",
       "      <td>Male</td>\n",
       "      <td>No</td>\n",
       "      <td>Thur</td>\n",
       "      <td>Lunch</td>\n",
       "      <td>2</td>\n",
       "      <td>0.236746</td>\n",
       "    </tr>\n",
       "    <tr>\n",
       "      <th>185</th>\n",
       "      <td>20.69</td>\n",
       "      <td>5.00</td>\n",
       "      <td>Male</td>\n",
       "      <td>No</td>\n",
       "      <td>Sun</td>\n",
       "      <td>Dinner</td>\n",
       "      <td>5</td>\n",
       "      <td>0.241663</td>\n",
       "    </tr>\n",
       "    <tr>\n",
       "      <th>51</th>\n",
       "      <td>10.29</td>\n",
       "      <td>2.60</td>\n",
       "      <td>Female</td>\n",
       "      <td>No</td>\n",
       "      <td>Sun</td>\n",
       "      <td>Dinner</td>\n",
       "      <td>2</td>\n",
       "      <td>0.252672</td>\n",
       "    </tr>\n",
       "    <tr>\n",
       "      <th>149</th>\n",
       "      <td>7.51</td>\n",
       "      <td>2.00</td>\n",
       "      <td>Male</td>\n",
       "      <td>No</td>\n",
       "      <td>Thur</td>\n",
       "      <td>Lunch</td>\n",
       "      <td>2</td>\n",
       "      <td>0.266312</td>\n",
       "    </tr>\n",
       "    <tr>\n",
       "      <th>232</th>\n",
       "      <td>11.61</td>\n",
       "      <td>3.39</td>\n",
       "      <td>Male</td>\n",
       "      <td>No</td>\n",
       "      <td>Sat</td>\n",
       "      <td>Dinner</td>\n",
       "      <td>2</td>\n",
       "      <td>0.291990</td>\n",
       "    </tr>\n",
       "    <tr>\n",
       "      <th rowspan=\"5\" valign=\"top\">Yes</th>\n",
       "      <th>109</th>\n",
       "      <td>14.31</td>\n",
       "      <td>4.00</td>\n",
       "      <td>Female</td>\n",
       "      <td>Yes</td>\n",
       "      <td>Sat</td>\n",
       "      <td>Dinner</td>\n",
       "      <td>2</td>\n",
       "      <td>0.279525</td>\n",
       "    </tr>\n",
       "    <tr>\n",
       "      <th>183</th>\n",
       "      <td>23.17</td>\n",
       "      <td>6.50</td>\n",
       "      <td>Male</td>\n",
       "      <td>Yes</td>\n",
       "      <td>Sun</td>\n",
       "      <td>Dinner</td>\n",
       "      <td>4</td>\n",
       "      <td>0.280535</td>\n",
       "    </tr>\n",
       "    <tr>\n",
       "      <th>67</th>\n",
       "      <td>3.07</td>\n",
       "      <td>1.00</td>\n",
       "      <td>Female</td>\n",
       "      <td>Yes</td>\n",
       "      <td>Sat</td>\n",
       "      <td>Dinner</td>\n",
       "      <td>1</td>\n",
       "      <td>0.325733</td>\n",
       "    </tr>\n",
       "    <tr>\n",
       "      <th>178</th>\n",
       "      <td>9.60</td>\n",
       "      <td>4.00</td>\n",
       "      <td>Female</td>\n",
       "      <td>Yes</td>\n",
       "      <td>Sun</td>\n",
       "      <td>Dinner</td>\n",
       "      <td>2</td>\n",
       "      <td>0.416667</td>\n",
       "    </tr>\n",
       "    <tr>\n",
       "      <th>172</th>\n",
       "      <td>7.25</td>\n",
       "      <td>5.15</td>\n",
       "      <td>Male</td>\n",
       "      <td>Yes</td>\n",
       "      <td>Sun</td>\n",
       "      <td>Dinner</td>\n",
       "      <td>2</td>\n",
       "      <td>0.710345</td>\n",
       "    </tr>\n",
       "  </tbody>\n",
       "</table>\n",
       "</div>"
      ],
      "text/plain": [
       "            total_bill   tip     sex smoker   day    time  size   tip_pct\n",
       "smoker                                                                   \n",
       "No     88        24.71  5.85    Male     No  Thur   Lunch     2  0.236746\n",
       "       185       20.69  5.00    Male     No   Sun  Dinner     5  0.241663\n",
       "       51        10.29  2.60  Female     No   Sun  Dinner     2  0.252672\n",
       "       149        7.51  2.00    Male     No  Thur   Lunch     2  0.266312\n",
       "       232       11.61  3.39    Male     No   Sat  Dinner     2  0.291990\n",
       "Yes    109       14.31  4.00  Female    Yes   Sat  Dinner     2  0.279525\n",
       "       183       23.17  6.50    Male    Yes   Sun  Dinner     4  0.280535\n",
       "       67         3.07  1.00  Female    Yes   Sat  Dinner     1  0.325733\n",
       "       178        9.60  4.00  Female    Yes   Sun  Dinner     2  0.416667\n",
       "       172        7.25  5.15    Male    Yes   Sun  Dinner     2  0.710345"
      ]
     },
     "execution_count": 107,
     "metadata": {},
     "output_type": "execute_result"
    }
   ],
   "source": [
    "# This selects the top 5 across smokers \n",
    "# -- the function above is applied to each group object\n",
    "# -- and then glued together using pd.concat()\n",
    "tips.groupby(['smoker']).apply(top)"
   ]
  },
  {
   "cell_type": "code",
   "execution_count": 108,
   "metadata": {
    "collapsed": false,
    "deletable": true,
    "editable": true
   },
   "outputs": [
    {
     "data": {
      "text/html": [
       "<div>\n",
       "<table border=\"1\" class=\"dataframe\">\n",
       "  <thead>\n",
       "    <tr style=\"text-align: right;\">\n",
       "      <th></th>\n",
       "      <th></th>\n",
       "      <th></th>\n",
       "      <th>total_bill</th>\n",
       "      <th>tip</th>\n",
       "      <th>sex</th>\n",
       "      <th>smoker</th>\n",
       "      <th>day</th>\n",
       "      <th>time</th>\n",
       "      <th>size</th>\n",
       "      <th>tip_pct</th>\n",
       "    </tr>\n",
       "    <tr>\n",
       "      <th>smoker</th>\n",
       "      <th>day</th>\n",
       "      <th></th>\n",
       "      <th></th>\n",
       "      <th></th>\n",
       "      <th></th>\n",
       "      <th></th>\n",
       "      <th></th>\n",
       "      <th></th>\n",
       "      <th></th>\n",
       "      <th></th>\n",
       "    </tr>\n",
       "  </thead>\n",
       "  <tbody>\n",
       "    <tr>\n",
       "      <th rowspan=\"4\" valign=\"top\">No</th>\n",
       "      <th>Fri</th>\n",
       "      <th>94</th>\n",
       "      <td>22.75</td>\n",
       "      <td>3.25</td>\n",
       "      <td>Female</td>\n",
       "      <td>No</td>\n",
       "      <td>Fri</td>\n",
       "      <td>Dinner</td>\n",
       "      <td>2</td>\n",
       "      <td>0.142857</td>\n",
       "    </tr>\n",
       "    <tr>\n",
       "      <th>Sat</th>\n",
       "      <th>212</th>\n",
       "      <td>48.33</td>\n",
       "      <td>9.00</td>\n",
       "      <td>Male</td>\n",
       "      <td>No</td>\n",
       "      <td>Sat</td>\n",
       "      <td>Dinner</td>\n",
       "      <td>4</td>\n",
       "      <td>0.186220</td>\n",
       "    </tr>\n",
       "    <tr>\n",
       "      <th>Sun</th>\n",
       "      <th>156</th>\n",
       "      <td>48.17</td>\n",
       "      <td>5.00</td>\n",
       "      <td>Male</td>\n",
       "      <td>No</td>\n",
       "      <td>Sun</td>\n",
       "      <td>Dinner</td>\n",
       "      <td>6</td>\n",
       "      <td>0.103799</td>\n",
       "    </tr>\n",
       "    <tr>\n",
       "      <th>Thur</th>\n",
       "      <th>142</th>\n",
       "      <td>41.19</td>\n",
       "      <td>5.00</td>\n",
       "      <td>Male</td>\n",
       "      <td>No</td>\n",
       "      <td>Thur</td>\n",
       "      <td>Lunch</td>\n",
       "      <td>5</td>\n",
       "      <td>0.121389</td>\n",
       "    </tr>\n",
       "    <tr>\n",
       "      <th rowspan=\"4\" valign=\"top\">Yes</th>\n",
       "      <th>Fri</th>\n",
       "      <th>95</th>\n",
       "      <td>40.17</td>\n",
       "      <td>4.73</td>\n",
       "      <td>Male</td>\n",
       "      <td>Yes</td>\n",
       "      <td>Fri</td>\n",
       "      <td>Dinner</td>\n",
       "      <td>4</td>\n",
       "      <td>0.117750</td>\n",
       "    </tr>\n",
       "    <tr>\n",
       "      <th>Sat</th>\n",
       "      <th>170</th>\n",
       "      <td>50.81</td>\n",
       "      <td>10.00</td>\n",
       "      <td>Male</td>\n",
       "      <td>Yes</td>\n",
       "      <td>Sat</td>\n",
       "      <td>Dinner</td>\n",
       "      <td>3</td>\n",
       "      <td>0.196812</td>\n",
       "    </tr>\n",
       "    <tr>\n",
       "      <th>Sun</th>\n",
       "      <th>182</th>\n",
       "      <td>45.35</td>\n",
       "      <td>3.50</td>\n",
       "      <td>Male</td>\n",
       "      <td>Yes</td>\n",
       "      <td>Sun</td>\n",
       "      <td>Dinner</td>\n",
       "      <td>3</td>\n",
       "      <td>0.077178</td>\n",
       "    </tr>\n",
       "    <tr>\n",
       "      <th>Thur</th>\n",
       "      <th>197</th>\n",
       "      <td>43.11</td>\n",
       "      <td>5.00</td>\n",
       "      <td>Female</td>\n",
       "      <td>Yes</td>\n",
       "      <td>Thur</td>\n",
       "      <td>Lunch</td>\n",
       "      <td>4</td>\n",
       "      <td>0.115982</td>\n",
       "    </tr>\n",
       "  </tbody>\n",
       "</table>\n",
       "</div>"
      ],
      "text/plain": [
       "                 total_bill    tip     sex smoker   day    time  size  \\\n",
       "smoker day                                                              \n",
       "No     Fri  94        22.75   3.25  Female     No   Fri  Dinner     2   \n",
       "       Sat  212       48.33   9.00    Male     No   Sat  Dinner     4   \n",
       "       Sun  156       48.17   5.00    Male     No   Sun  Dinner     6   \n",
       "       Thur 142       41.19   5.00    Male     No  Thur   Lunch     5   \n",
       "Yes    Fri  95        40.17   4.73    Male    Yes   Fri  Dinner     4   \n",
       "       Sat  170       50.81  10.00    Male    Yes   Sat  Dinner     3   \n",
       "       Sun  182       45.35   3.50    Male    Yes   Sun  Dinner     3   \n",
       "       Thur 197       43.11   5.00  Female    Yes  Thur   Lunch     4   \n",
       "\n",
       "                  tip_pct  \n",
       "smoker day                 \n",
       "No     Fri  94   0.142857  \n",
       "       Sat  212  0.186220  \n",
       "       Sun  156  0.103799  \n",
       "       Thur 142  0.121389  \n",
       "Yes    Fri  95   0.117750  \n",
       "       Sat  170  0.196812  \n",
       "       Sun  182  0.077178  \n",
       "       Thur 197  0.115982  "
      ]
     },
     "execution_count": 108,
     "metadata": {},
     "output_type": "execute_result"
    }
   ],
   "source": [
    "# Can do multi-level group by, as well as pass the other parameters of the called function in with the apply\n",
    "tips.groupby(['smoker','day']).apply(top, n=1, column='total_bill')\n",
    "    # Can suppress the new index by setting group_keys=False in the groupby(), but don't do that. "
   ]
  },
  {
   "cell_type": "code",
   "execution_count": 109,
   "metadata": {
    "collapsed": false,
    "deletable": true,
    "editable": true,
    "scrolled": true
   },
   "outputs": [
    {
     "data": {
      "text/plain": [
       "0      (-1.607, 0.0439]\n",
       "1       (0.0439, 1.694]\n",
       "2      (-3.264, -1.607]\n",
       "3      (-1.607, 0.0439]\n",
       "4       (0.0439, 1.694]\n",
       "5      (-1.607, 0.0439]\n",
       "6       (0.0439, 1.694]\n",
       "7      (-1.607, 0.0439]\n",
       "8      (-1.607, 0.0439]\n",
       "9       (0.0439, 1.694]\n",
       "10      (0.0439, 1.694]\n",
       "11     (-1.607, 0.0439]\n",
       "12     (-1.607, 0.0439]\n",
       "13     (-1.607, 0.0439]\n",
       "14      (0.0439, 1.694]\n",
       "15     (-1.607, 0.0439]\n",
       "16      (0.0439, 1.694]\n",
       "17     (-1.607, 0.0439]\n",
       "18      (0.0439, 1.694]\n",
       "19       (1.694, 3.345]\n",
       "20      (0.0439, 1.694]\n",
       "21      (0.0439, 1.694]\n",
       "22      (0.0439, 1.694]\n",
       "23      (0.0439, 1.694]\n",
       "24      (0.0439, 1.694]\n",
       "25     (-1.607, 0.0439]\n",
       "26     (-3.264, -1.607]\n",
       "27     (-3.264, -1.607]\n",
       "28     (-1.607, 0.0439]\n",
       "29     (-1.607, 0.0439]\n",
       "             ...       \n",
       "970      (1.694, 3.345]\n",
       "971     (0.0439, 1.694]\n",
       "972     (0.0439, 1.694]\n",
       "973    (-1.607, 0.0439]\n",
       "974      (1.694, 3.345]\n",
       "975     (0.0439, 1.694]\n",
       "976    (-1.607, 0.0439]\n",
       "977     (0.0439, 1.694]\n",
       "978     (0.0439, 1.694]\n",
       "979     (0.0439, 1.694]\n",
       "980     (0.0439, 1.694]\n",
       "981     (0.0439, 1.694]\n",
       "982     (0.0439, 1.694]\n",
       "983     (0.0439, 1.694]\n",
       "984    (-1.607, 0.0439]\n",
       "985     (0.0439, 1.694]\n",
       "986    (-1.607, 0.0439]\n",
       "987     (0.0439, 1.694]\n",
       "988    (-1.607, 0.0439]\n",
       "989     (0.0439, 1.694]\n",
       "990      (1.694, 3.345]\n",
       "991      (1.694, 3.345]\n",
       "992    (-3.264, -1.607]\n",
       "993    (-1.607, 0.0439]\n",
       "994     (0.0439, 1.694]\n",
       "995     (0.0439, 1.694]\n",
       "996     (0.0439, 1.694]\n",
       "997    (-1.607, 0.0439]\n",
       "998    (-3.264, -1.607]\n",
       "999    (-1.607, 0.0439]\n",
       "Name: data1, dtype: category\n",
       "Categories (4, object): [(-3.264, -1.607] < (-1.607, 0.0439] < (0.0439, 1.694] < (1.694, 3.345]]"
      ]
     },
     "execution_count": 109,
     "metadata": {},
     "output_type": "execute_result"
    }
   ],
   "source": [
    "### Combining GroupBy and Cut functions\n",
    "frame = pd.DataFrame({'data1': np.random.randn(1000),\n",
    "                      'data2': np.random.randn(1000)})\n",
    "    # Two columns: data1 and data2 with 1000 items\n",
    "factor = pd.cut(frame.data1, 4)\n",
    "    # Bucket into -- maps the object in factor.data1 into 1 of 4 identically sized buckets\n",
    "    # The resulting object is an array of the buckets that each original value fell into\n",
    "factor"
   ]
  },
  {
   "cell_type": "code",
   "execution_count": 110,
   "metadata": {
    "collapsed": false,
    "deletable": true,
    "editable": true
   },
   "outputs": [
    {
     "data": {
      "text/plain": [
       "data1                  \n",
       "(-3.264, -1.607]  count     56.000000\n",
       "                  max        2.444516\n",
       "                  mean      -0.007081\n",
       "                  min       -2.356510\n",
       "(-1.607, 0.0439]  count    432.000000\n",
       "                  max        2.572137\n",
       "                  mean       0.000661\n",
       "                  min       -3.271478\n",
       "(0.0439, 1.694]   count    471.000000\n",
       "                  max        2.834259\n",
       "                  mean       0.060786\n",
       "                  min       -3.082020\n",
       "(1.694, 3.345]    count     41.000000\n",
       "                  max        2.307908\n",
       "                  mean       0.206024\n",
       "                  min       -1.940212\n",
       "Name: data2, dtype: float64"
      ]
     },
     "execution_count": 110,
     "metadata": {},
     "output_type": "execute_result"
    }
   ],
   "source": [
    "# We can use the factor array as the grouping set\n",
    "def get_stats(group):\n",
    "    return {'min': group.min(), 'max': group.max(), 'count': group.count(), 'mean': group.mean()}\n",
    "\n",
    "# Compute statistics about Data 2 using the factor variables\n",
    "grouped = frame['data2'].groupby(factor)\n",
    "    # Factor is a Category object NOT a list, so we're not just 1-to-1 mapping the results of factor\n",
    "    # Instead, groupby knows to use the 4 categories of factor to organize the contents of frame['data2']\n",
    "\n",
    "grouped.apply(get_stats) # \"Give me summary statistics over the data frame bucketing by the ranges in group 1\""
   ]
  },
  {
   "cell_type": "code",
   "execution_count": 111,
   "metadata": {
    "collapsed": false,
    "deletable": true,
    "editable": true
   },
   "outputs": [
    {
     "data": {
      "text/html": [
       "<div>\n",
       "<table border=\"1\" class=\"dataframe\">\n",
       "  <thead>\n",
       "    <tr style=\"text-align: right;\">\n",
       "      <th></th>\n",
       "      <th>count</th>\n",
       "      <th>mean</th>\n",
       "      <th>std</th>\n",
       "      <th>min</th>\n",
       "      <th>25%</th>\n",
       "      <th>50%</th>\n",
       "      <th>75%</th>\n",
       "      <th>max</th>\n",
       "    </tr>\n",
       "    <tr>\n",
       "      <th>data1</th>\n",
       "      <th></th>\n",
       "      <th></th>\n",
       "      <th></th>\n",
       "      <th></th>\n",
       "      <th></th>\n",
       "      <th></th>\n",
       "      <th></th>\n",
       "      <th></th>\n",
       "    </tr>\n",
       "  </thead>\n",
       "  <tbody>\n",
       "    <tr>\n",
       "      <th>0</th>\n",
       "      <td>100.0</td>\n",
       "      <td>-0.050650</td>\n",
       "      <td>1.001775</td>\n",
       "      <td>-2.356510</td>\n",
       "      <td>-0.593061</td>\n",
       "      <td>-0.139919</td>\n",
       "      <td>0.505763</td>\n",
       "      <td>2.444516</td>\n",
       "    </tr>\n",
       "    <tr>\n",
       "      <th>1</th>\n",
       "      <td>100.0</td>\n",
       "      <td>0.033671</td>\n",
       "      <td>0.991148</td>\n",
       "      <td>-2.505588</td>\n",
       "      <td>-0.533259</td>\n",
       "      <td>-0.007762</td>\n",
       "      <td>0.712738</td>\n",
       "      <td>2.357573</td>\n",
       "    </tr>\n",
       "    <tr>\n",
       "      <th>2</th>\n",
       "      <td>100.0</td>\n",
       "      <td>-0.049138</td>\n",
       "      <td>0.976272</td>\n",
       "      <td>-2.532918</td>\n",
       "      <td>-0.702647</td>\n",
       "      <td>-0.042394</td>\n",
       "      <td>0.400940</td>\n",
       "      <td>2.538713</td>\n",
       "    </tr>\n",
       "    <tr>\n",
       "      <th>3</th>\n",
       "      <td>100.0</td>\n",
       "      <td>0.137220</td>\n",
       "      <td>0.958119</td>\n",
       "      <td>-1.993263</td>\n",
       "      <td>-0.618779</td>\n",
       "      <td>0.243603</td>\n",
       "      <td>0.840936</td>\n",
       "      <td>2.572137</td>\n",
       "    </tr>\n",
       "    <tr>\n",
       "      <th>4</th>\n",
       "      <td>100.0</td>\n",
       "      <td>-0.066161</td>\n",
       "      <td>1.133679</td>\n",
       "      <td>-3.271478</td>\n",
       "      <td>-0.822328</td>\n",
       "      <td>-0.104646</td>\n",
       "      <td>0.804354</td>\n",
       "      <td>2.185852</td>\n",
       "    </tr>\n",
       "    <tr>\n",
       "      <th>5</th>\n",
       "      <td>100.0</td>\n",
       "      <td>0.109980</td>\n",
       "      <td>1.146366</td>\n",
       "      <td>-2.491876</td>\n",
       "      <td>-0.736789</td>\n",
       "      <td>0.130848</td>\n",
       "      <td>0.833796</td>\n",
       "      <td>2.834259</td>\n",
       "    </tr>\n",
       "    <tr>\n",
       "      <th>6</th>\n",
       "      <td>100.0</td>\n",
       "      <td>-0.056062</td>\n",
       "      <td>0.942486</td>\n",
       "      <td>-2.055331</td>\n",
       "      <td>-0.705593</td>\n",
       "      <td>0.009946</td>\n",
       "      <td>0.610140</td>\n",
       "      <td>2.254661</td>\n",
       "    </tr>\n",
       "    <tr>\n",
       "      <th>7</th>\n",
       "      <td>100.0</td>\n",
       "      <td>0.177467</td>\n",
       "      <td>0.943340</td>\n",
       "      <td>-1.698190</td>\n",
       "      <td>-0.455874</td>\n",
       "      <td>0.053179</td>\n",
       "      <td>0.917012</td>\n",
       "      <td>2.128700</td>\n",
       "    </tr>\n",
       "    <tr>\n",
       "      <th>8</th>\n",
       "      <td>100.0</td>\n",
       "      <td>0.069969</td>\n",
       "      <td>1.143650</td>\n",
       "      <td>-3.082020</td>\n",
       "      <td>-0.541785</td>\n",
       "      <td>0.064257</td>\n",
       "      <td>0.860941</td>\n",
       "      <td>2.694687</td>\n",
       "    </tr>\n",
       "    <tr>\n",
       "      <th>9</th>\n",
       "      <td>100.0</td>\n",
       "      <td>0.063367</td>\n",
       "      <td>0.994887</td>\n",
       "      <td>-2.807635</td>\n",
       "      <td>-0.484735</td>\n",
       "      <td>0.115737</td>\n",
       "      <td>0.652453</td>\n",
       "      <td>2.459920</td>\n",
       "    </tr>\n",
       "  </tbody>\n",
       "</table>\n",
       "</div>"
      ],
      "text/plain": [
       "       count      mean       std       min       25%       50%       75%  \\\n",
       "data1                                                                      \n",
       "0      100.0 -0.050650  1.001775 -2.356510 -0.593061 -0.139919  0.505763   \n",
       "1      100.0  0.033671  0.991148 -2.505588 -0.533259 -0.007762  0.712738   \n",
       "2      100.0 -0.049138  0.976272 -2.532918 -0.702647 -0.042394  0.400940   \n",
       "3      100.0  0.137220  0.958119 -1.993263 -0.618779  0.243603  0.840936   \n",
       "4      100.0 -0.066161  1.133679 -3.271478 -0.822328 -0.104646  0.804354   \n",
       "5      100.0  0.109980  1.146366 -2.491876 -0.736789  0.130848  0.833796   \n",
       "6      100.0 -0.056062  0.942486 -2.055331 -0.705593  0.009946  0.610140   \n",
       "7      100.0  0.177467  0.943340 -1.698190 -0.455874  0.053179  0.917012   \n",
       "8      100.0  0.069969  1.143650 -3.082020 -0.541785  0.064257  0.860941   \n",
       "9      100.0  0.063367  0.994887 -2.807635 -0.484735  0.115737  0.652453   \n",
       "\n",
       "            max  \n",
       "data1            \n",
       "0      2.444516  \n",
       "1      2.357573  \n",
       "2      2.538713  \n",
       "3      2.572137  \n",
       "4      2.185852  \n",
       "5      2.834259  \n",
       "6      2.254661  \n",
       "7      2.128700  \n",
       "8      2.694687  \n",
       "9      2.459920  "
      ]
     },
     "execution_count": 111,
     "metadata": {},
     "output_type": "execute_result"
    }
   ],
   "source": [
    "grouping = pd.qcut(frame['data1'], 10, labels=False)\n",
    "    # labels = False --> just broadcasts the ordinal number of the bucket for the value, not a tuple of where the value's range falls.\n",
    "grouped = frame['data2'].groupby(grouping)\n",
    "grouped.describe().unstack()\n",
    "    # Or use the method we made, get_stats, that's a subset of quip's functionality."
   ]
  },
  {
   "cell_type": "code",
   "execution_count": null,
   "metadata": {
    "collapsed": true,
    "deletable": true,
    "editable": true
   },
   "outputs": [],
   "source": []
  },
  {
   "cell_type": "code",
   "execution_count": 112,
   "metadata": {
    "collapsed": false,
    "deletable": true,
    "editable": true
   },
   "outputs": [
    {
     "data": {
      "text/plain": [
       "0         NaN\n",
       "1    0.475471\n",
       "2         NaN\n",
       "3    0.783362\n",
       "4         NaN\n",
       "5   -0.072427\n",
       "dtype: float64"
      ]
     },
     "execution_count": 112,
     "metadata": {},
     "output_type": "execute_result"
    }
   ],
   "source": [
    "## Example: Filling missing values with Group-specific values\n",
    "\n",
    "# Set every other value to NaN\n",
    "s = pd.Series(np.random.randn(6))\n",
    "s[::2] = np.nan # Extended slices.  Neat.\n",
    "s"
   ]
  },
  {
   "cell_type": "code",
   "execution_count": 113,
   "metadata": {
    "collapsed": false,
    "deletable": true,
    "editable": true
   },
   "outputs": [
    {
     "data": {
      "text/plain": [
       "0    0.395469\n",
       "1    0.475471\n",
       "2    0.395469\n",
       "3    0.783362\n",
       "4    0.395469\n",
       "5   -0.072427\n",
       "dtype: float64"
      ]
     },
     "execution_count": 113,
     "metadata": {},
     "output_type": "execute_result"
    }
   ],
   "source": [
    "# Fill in those NaN's with the population mean\n",
    "s.fillna(s.mean())"
   ]
  },
  {
   "cell_type": "code",
   "execution_count": 114,
   "metadata": {
    "collapsed": false,
    "deletable": true,
    "editable": true
   },
   "outputs": [
    {
     "data": {
      "text/plain": [
       "Ohio          0.723663\n",
       "New York      0.596251\n",
       "Vermont            NaN\n",
       "Florida       0.463986\n",
       "Oregon        1.149414\n",
       "Nevada             NaN\n",
       "California   -0.268151\n",
       "Idaho              NaN\n",
       "dtype: float64"
      ]
     },
     "execution_count": 114,
     "metadata": {},
     "output_type": "execute_result"
    }
   ],
   "source": [
    "# Fill in the NaN's with means based on grouping of the data\n",
    "states = ['Ohio', 'New York', 'Vermont', 'Florida', 'Oregon', 'Nevada', 'California', 'Idaho']\n",
    "group_key = ['East'] * 4 + ['West'] * 4\n",
    "data = pd.Series(np.random.randn(8), index=states)\n",
    "data[['Vermont', 'Nevada', 'Idaho']] = np.nan\n",
    "data"
   ]
  },
  {
   "cell_type": "code",
   "execution_count": 115,
   "metadata": {
    "collapsed": false,
    "deletable": true,
    "editable": true
   },
   "outputs": [
    {
     "data": {
      "text/plain": [
       "East    0.594633\n",
       "West    0.440632\n",
       "dtype: float64"
      ]
     },
     "execution_count": 115,
     "metadata": {},
     "output_type": "execute_result"
    }
   ],
   "source": [
    "data.groupby(group_key).mean()"
   ]
  },
  {
   "cell_type": "code",
   "execution_count": 116,
   "metadata": {
    "collapsed": false,
    "deletable": true,
    "editable": true
   },
   "outputs": [
    {
     "data": {
      "text/plain": [
       "Ohio          0.723663\n",
       "New York      0.596251\n",
       "Vermont       0.594633\n",
       "Florida       0.463986\n",
       "Oregon        1.149414\n",
       "Nevada        0.440632\n",
       "California   -0.268151\n",
       "Idaho         0.440632\n",
       "dtype: float64"
      ]
     },
     "execution_count": 116,
     "metadata": {},
     "output_type": "execute_result"
    }
   ],
   "source": [
    "# Use a lambda because it's such a simple function\n",
    "\n",
    "fill_mean = lambda g: g.fillna(g.mean())\n",
    "\n",
    "# data.groupby(group_key) --> \"create my buckets defined by the group keys\"\n",
    "# .apply(fill_mean) --> send each bucket group to the fill_mean function\n",
    "# As written above, the fill_mean function will fill the na values in that passed group with the mean of that passed group\n",
    "data.groupby(group_key).apply(fill_mean)"
   ]
  },
  {
   "cell_type": "code",
   "execution_count": 117,
   "metadata": {
    "collapsed": false,
    "deletable": true,
    "editable": true
   },
   "outputs": [
    {
     "data": {
      "text/plain": [
       "Ohio          0.723663\n",
       "New York      0.596251\n",
       "Vermont       0.129846\n",
       "Florida       0.463986\n",
       "Oregon        1.149414\n",
       "Nevada        1.002370\n",
       "California   -0.268151\n",
       "Idaho         1.002370\n",
       "dtype: float64"
      ]
     },
     "execution_count": 117,
     "metadata": {},
     "output_type": "execute_result"
    }
   ],
   "source": [
    "# Exercise 1b.  Fill in each NA with the standard deviation:\n",
    "\n",
    "# The below one-liner is equivalent to what's shown below; it's also reusable, so do it that way\n",
    "#data.groupby(group_key).apply(lambda g: g.fillna(g.std()))\n",
    "\n",
    "# The above one-liner is equivalent to what's shown below\n",
    "fill_std = lambda g: g.fillna(g.std())\n",
    "data.groupby(group_key).apply(fill_std)"
   ]
  },
  {
   "cell_type": "code",
   "execution_count": null,
   "metadata": {
    "collapsed": true,
    "deletable": true,
    "editable": true
   },
   "outputs": [],
   "source": []
  },
  {
   "cell_type": "code",
   "execution_count": 118,
   "metadata": {
    "collapsed": false,
    "deletable": true,
    "editable": true,
    "scrolled": true
   },
   "outputs": [
    {
     "data": {
      "text/plain": [
       "AH      1\n",
       "2H      2\n",
       "3H      3\n",
       "4H      4\n",
       "5H      5\n",
       "6H      6\n",
       "7H      7\n",
       "8H      8\n",
       "9H      9\n",
       "10H    10\n",
       "JH     10\n",
       "KH     10\n",
       "QH     10\n",
       "AS      1\n",
       "2S      2\n",
       "3S      3\n",
       "4S      4\n",
       "5S      5\n",
       "6S      6\n",
       "7S      7\n",
       "8S      8\n",
       "9S      9\n",
       "10S    10\n",
       "JS     10\n",
       "KS     10\n",
       "QS     10\n",
       "AC      1\n",
       "2C      2\n",
       "3C      3\n",
       "4C      4\n",
       "5C      5\n",
       "6C      6\n",
       "7C      7\n",
       "8C      8\n",
       "9C      9\n",
       "10C    10\n",
       "JC     10\n",
       "KC     10\n",
       "QC     10\n",
       "AD      1\n",
       "2D      2\n",
       "3D      3\n",
       "4D      4\n",
       "5D      5\n",
       "6D      6\n",
       "7D      7\n",
       "8D      8\n",
       "9D      9\n",
       "10D    10\n",
       "JD     10\n",
       "KD     10\n",
       "QD     10\n",
       "dtype: int64"
      ]
     },
     "execution_count": 118,
     "metadata": {},
     "output_type": "execute_result"
    }
   ],
   "source": [
    "### Random sampling and permutation\n",
    "\n",
    "# Playing cards\n",
    "# Hearts, Spades, Clubs, Diamonds\n",
    "suits = ['H', 'S', 'C', 'D']\n",
    "# Create the numerical range of card values\n",
    "card_val = (range(1, 11) + [10] * 3) * 4\n",
    "# Create the human quasi-numerical of the cards\n",
    "base_names = ['A'] + range(2, 11) + ['J', 'K', 'Q']\n",
    "# Create the cards themselves by parsing the human value + suit\n",
    "cards = []\n",
    "for suit in ['H', 'S', 'C', 'D']:\n",
    "    cards.extend(str(num) + suit for num in base_names)\n",
    "# Create the deck by making the suit\n",
    "deck = pd.Series(card_val, index=cards)\n",
    "deck"
   ]
  },
  {
   "cell_type": "code",
   "execution_count": 119,
   "metadata": {
    "collapsed": false,
    "deletable": true,
    "editable": true
   },
   "outputs": [
    {
     "data": {
      "text/plain": [
       "7S      7\n",
       "AD      1\n",
       "10D    10\n",
       "8C      8\n",
       "4H      4\n",
       "dtype: int64"
      ]
     },
     "execution_count": 119,
     "metadata": {},
     "output_type": "execute_result"
    }
   ],
   "source": [
    "# Draw a specific number of cards\n",
    "\n",
    "def draw(deck, n=5):\n",
    "    # np.random.permutation(x) Get a non-repeating list of natural numbers 0 through x-1\n",
    "    return deck.take(np.random.permutation(len(deck)))[:n]\n",
    "    \n",
    "draw(deck, 5)"
   ]
  },
  {
   "cell_type": "code",
   "execution_count": 120,
   "metadata": {
    "collapsed": false,
    "deletable": true,
    "editable": true
   },
   "outputs": [
    {
     "data": {
      "text/plain": [
       "C  9C     9\n",
       "   4C     4\n",
       "D  7D     7\n",
       "   KD    10\n",
       "H  3H     3\n",
       "   KH    10\n",
       "S  7S     7\n",
       "   8S     8\n",
       "dtype: int64"
      ]
     },
     "execution_count": 120,
     "metadata": {},
     "output_type": "execute_result"
    }
   ],
   "source": [
    "# Draw a specific number of cards from each suit\n",
    "\n",
    "# Find the suit of the card, which is the last letter of the suit\n",
    "get_suit = lambda card: card[-1]\n",
    "\n",
    "# Group over the suit value. We need a user-defined function to define the group population\n",
    "# Here we're saying \"establish a population grouping levels by seeing the last item in each string\"\n",
    "# Then to each grouping apply the draw function\n",
    "deck.groupby(get_suit).apply(draw,n=2)"
   ]
  },
  {
   "cell_type": "code",
   "execution_count": 121,
   "metadata": {
    "collapsed": false,
    "deletable": true,
    "editable": true
   },
   "outputs": [
    {
     "data": {
      "text/plain": [
       "C  9C      9\n",
       "   5C      5\n",
       "D  10D    10\n",
       "   2D      2\n",
       "H  8H      8\n",
       "   JH     10\n",
       "S  2S      2\n",
       "   5S      5\n",
       "dtype: int64"
      ]
     },
     "execution_count": 121,
     "metadata": {},
     "output_type": "execute_result"
    }
   ],
   "source": [
    "# To summarize - group by a lambda and apply a user-defined function\n",
    "def draw(deck, n=5):\n",
    "    return deck.take(np.random.permutation(len(deck)))[:n]\n",
    "get_suit = lambda card: card[-1]\n",
    "deck.groupby(get_suit).apply(draw, n=2)"
   ]
  },
  {
   "cell_type": "code",
   "execution_count": null,
   "metadata": {
    "collapsed": true,
    "deletable": true,
    "editable": true
   },
   "outputs": [],
   "source": []
  },
  {
   "cell_type": "code",
   "execution_count": 122,
   "metadata": {
    "collapsed": false,
    "deletable": true,
    "editable": true
   },
   "outputs": [
    {
     "data": {
      "text/html": [
       "<div>\n",
       "<table border=\"1\" class=\"dataframe\">\n",
       "  <thead>\n",
       "    <tr style=\"text-align: right;\">\n",
       "      <th></th>\n",
       "      <th>category</th>\n",
       "      <th>data</th>\n",
       "      <th>weights</th>\n",
       "    </tr>\n",
       "  </thead>\n",
       "  <tbody>\n",
       "    <tr>\n",
       "      <th>0</th>\n",
       "      <td>a</td>\n",
       "      <td>1.927733</td>\n",
       "      <td>0.161918</td>\n",
       "    </tr>\n",
       "    <tr>\n",
       "      <th>1</th>\n",
       "      <td>a</td>\n",
       "      <td>1.073884</td>\n",
       "      <td>0.902264</td>\n",
       "    </tr>\n",
       "    <tr>\n",
       "      <th>2</th>\n",
       "      <td>a</td>\n",
       "      <td>-0.374243</td>\n",
       "      <td>0.098370</td>\n",
       "    </tr>\n",
       "    <tr>\n",
       "      <th>3</th>\n",
       "      <td>a</td>\n",
       "      <td>0.004956</td>\n",
       "      <td>0.345388</td>\n",
       "    </tr>\n",
       "    <tr>\n",
       "      <th>4</th>\n",
       "      <td>b</td>\n",
       "      <td>-1.113687</td>\n",
       "      <td>0.950988</td>\n",
       "    </tr>\n",
       "    <tr>\n",
       "      <th>5</th>\n",
       "      <td>b</td>\n",
       "      <td>-0.173991</td>\n",
       "      <td>0.961219</td>\n",
       "    </tr>\n",
       "    <tr>\n",
       "      <th>6</th>\n",
       "      <td>b</td>\n",
       "      <td>-3.532274</td>\n",
       "      <td>0.252321</td>\n",
       "    </tr>\n",
       "    <tr>\n",
       "      <th>7</th>\n",
       "      <td>b</td>\n",
       "      <td>-1.763844</td>\n",
       "      <td>0.072591</td>\n",
       "    </tr>\n",
       "  </tbody>\n",
       "</table>\n",
       "</div>"
      ],
      "text/plain": [
       "  category      data   weights\n",
       "0        a  1.927733  0.161918\n",
       "1        a  1.073884  0.902264\n",
       "2        a -0.374243  0.098370\n",
       "3        a  0.004956  0.345388\n",
       "4        b -1.113687  0.950988\n",
       "5        b -0.173991  0.961219\n",
       "6        b -3.532274  0.252321\n",
       "7        b -1.763844  0.072591"
      ]
     },
     "execution_count": 122,
     "metadata": {},
     "output_type": "execute_result"
    }
   ],
   "source": [
    "# Group weighted average and correlation\n",
    "df = pd.DataFrame({'category': ['a', 'a', 'a', 'a', 'b', 'b', 'b','b'],\n",
    "                  'data': np.random.randn(8),\n",
    "                  'weights': np.random.rand(8)})\n",
    "\n",
    "df"
   ]
  },
  {
   "cell_type": "code",
   "execution_count": 123,
   "metadata": {
    "collapsed": false,
    "deletable": true,
    "editable": true
   },
   "outputs": [
    {
     "data": {
      "text/plain": [
       "category\n",
       "a    0.826266\n",
       "b   -1.003815\n",
       "dtype: float64"
      ]
     },
     "execution_count": 123,
     "metadata": {},
     "output_type": "execute_result"
    }
   ],
   "source": [
    "# Group by weight - average 'data' field by by category value\n",
    "# Split \n",
    "grouped = df.groupby('category')\n",
    "\n",
    "# Apply - 'weights' is a parameter of the np.average() method.\n",
    "get_wavg = lambda g: np.average(g['data'], weights=g['weights'])\n",
    "\n",
    "# Combine\n",
    "grouped.apply(get_wavg)\n"
   ]
  },
  {
   "cell_type": "code",
   "execution_count": 124,
   "metadata": {
    "collapsed": false,
    "deletable": true,
    "editable": true
   },
   "outputs": [
    {
     "name": "stdout",
     "output_type": "stream",
     "text": [
      "<class 'pandas.core.frame.DataFrame'>\n",
      "DatetimeIndex: 2214 entries, 2003-01-02 to 2011-10-14\n",
      "Data columns (total 4 columns):\n",
      "AAPL    2214 non-null float64\n",
      "MSFT    2214 non-null float64\n",
      "XOM     2214 non-null float64\n",
      "SPX     2214 non-null float64\n",
      "dtypes: float64(4)\n",
      "memory usage: 86.5 KB\n"
     ]
    }
   ],
   "source": [
    "# End of day stock prices on the S&P 500\n",
    "close_px = pd.read_csv('ch09/stock_px.csv', parse_dates=True, index_col=0)\n",
    "close_px.info()"
   ]
  },
  {
   "cell_type": "code",
   "execution_count": 125,
   "metadata": {
    "collapsed": false,
    "deletable": true,
    "editable": true
   },
   "outputs": [
    {
     "data": {
      "text/html": [
       "<div>\n",
       "<table border=\"1\" class=\"dataframe\">\n",
       "  <thead>\n",
       "    <tr style=\"text-align: right;\">\n",
       "      <th></th>\n",
       "      <th>AAPL</th>\n",
       "      <th>MSFT</th>\n",
       "      <th>XOM</th>\n",
       "      <th>SPX</th>\n",
       "    </tr>\n",
       "  </thead>\n",
       "  <tbody>\n",
       "    <tr>\n",
       "      <th>2003-01-02</th>\n",
       "      <td>7.40</td>\n",
       "      <td>21.11</td>\n",
       "      <td>29.22</td>\n",
       "      <td>909.03</td>\n",
       "    </tr>\n",
       "    <tr>\n",
       "      <th>2003-01-03</th>\n",
       "      <td>7.45</td>\n",
       "      <td>21.14</td>\n",
       "      <td>29.24</td>\n",
       "      <td>908.59</td>\n",
       "    </tr>\n",
       "    <tr>\n",
       "      <th>2003-01-06</th>\n",
       "      <td>7.45</td>\n",
       "      <td>21.52</td>\n",
       "      <td>29.96</td>\n",
       "      <td>929.01</td>\n",
       "    </tr>\n",
       "    <tr>\n",
       "      <th>2003-01-07</th>\n",
       "      <td>7.43</td>\n",
       "      <td>21.93</td>\n",
       "      <td>28.95</td>\n",
       "      <td>922.93</td>\n",
       "    </tr>\n",
       "  </tbody>\n",
       "</table>\n",
       "</div>"
      ],
      "text/plain": [
       "            AAPL   MSFT    XOM     SPX\n",
       "2003-01-02  7.40  21.11  29.22  909.03\n",
       "2003-01-03  7.45  21.14  29.24  908.59\n",
       "2003-01-06  7.45  21.52  29.96  929.01\n",
       "2003-01-07  7.43  21.93  28.95  922.93"
      ]
     },
     "execution_count": 125,
     "metadata": {},
     "output_type": "execute_result"
    }
   ],
   "source": [
    "# See first 4 values\n",
    "close_px[:4]"
   ]
  },
  {
   "cell_type": "code",
   "execution_count": 126,
   "metadata": {
    "collapsed": false,
    "deletable": true,
    "editable": true
   },
   "outputs": [
    {
     "data": {
      "text/html": [
       "<div>\n",
       "<table border=\"1\" class=\"dataframe\">\n",
       "  <thead>\n",
       "    <tr style=\"text-align: right;\">\n",
       "      <th></th>\n",
       "      <th>AAPL</th>\n",
       "      <th>MSFT</th>\n",
       "      <th>XOM</th>\n",
       "      <th>SPX</th>\n",
       "    </tr>\n",
       "  </thead>\n",
       "  <tbody>\n",
       "    <tr>\n",
       "      <th>2003</th>\n",
       "      <td>0.541124</td>\n",
       "      <td>0.745174</td>\n",
       "      <td>0.661265</td>\n",
       "      <td>1.0</td>\n",
       "    </tr>\n",
       "    <tr>\n",
       "      <th>2004</th>\n",
       "      <td>0.374283</td>\n",
       "      <td>0.588531</td>\n",
       "      <td>0.557742</td>\n",
       "      <td>1.0</td>\n",
       "    </tr>\n",
       "    <tr>\n",
       "      <th>2005</th>\n",
       "      <td>0.467540</td>\n",
       "      <td>0.562374</td>\n",
       "      <td>0.631010</td>\n",
       "      <td>1.0</td>\n",
       "    </tr>\n",
       "    <tr>\n",
       "      <th>2006</th>\n",
       "      <td>0.428267</td>\n",
       "      <td>0.406126</td>\n",
       "      <td>0.518514</td>\n",
       "      <td>1.0</td>\n",
       "    </tr>\n",
       "    <tr>\n",
       "      <th>2007</th>\n",
       "      <td>0.508118</td>\n",
       "      <td>0.658770</td>\n",
       "      <td>0.786264</td>\n",
       "      <td>1.0</td>\n",
       "    </tr>\n",
       "    <tr>\n",
       "      <th>2008</th>\n",
       "      <td>0.681434</td>\n",
       "      <td>0.804626</td>\n",
       "      <td>0.828303</td>\n",
       "      <td>1.0</td>\n",
       "    </tr>\n",
       "    <tr>\n",
       "      <th>2009</th>\n",
       "      <td>0.707103</td>\n",
       "      <td>0.654902</td>\n",
       "      <td>0.797921</td>\n",
       "      <td>1.0</td>\n",
       "    </tr>\n",
       "    <tr>\n",
       "      <th>2010</th>\n",
       "      <td>0.710105</td>\n",
       "      <td>0.730118</td>\n",
       "      <td>0.839057</td>\n",
       "      <td>1.0</td>\n",
       "    </tr>\n",
       "    <tr>\n",
       "      <th>2011</th>\n",
       "      <td>0.691931</td>\n",
       "      <td>0.800996</td>\n",
       "      <td>0.859975</td>\n",
       "      <td>1.0</td>\n",
       "    </tr>\n",
       "  </tbody>\n",
       "</table>\n",
       "</div>"
      ],
      "text/plain": [
       "          AAPL      MSFT       XOM  SPX\n",
       "2003  0.541124  0.745174  0.661265  1.0\n",
       "2004  0.374283  0.588531  0.557742  1.0\n",
       "2005  0.467540  0.562374  0.631010  1.0\n",
       "2006  0.428267  0.406126  0.518514  1.0\n",
       "2007  0.508118  0.658770  0.786264  1.0\n",
       "2008  0.681434  0.804626  0.828303  1.0\n",
       "2009  0.707103  0.654902  0.797921  1.0\n",
       "2010  0.710105  0.730118  0.839057  1.0\n",
       "2011  0.691931  0.800996  0.859975  1.0"
      ]
     },
     "execution_count": 126,
     "metadata": {},
     "output_type": "execute_result"
    }
   ],
   "source": [
    "# Find correlation of the stocks with the SP500 index of stocks\n",
    "\n",
    "## Methods used here:\n",
    "#  pct_change() - broadcasts the percent change from the previous cell to the next cell, using index of next cell.\n",
    "#  corrwith()\n",
    "\n",
    "\n",
    "rets = close_px.pct_change().dropna()\n",
    "spx_corr = lambda x: x.corrwith(x['SPX'])\n",
    "by_year = rets.groupby(lambda x: x.year)\n",
    "by_year.apply(spx_corr)"
   ]
  },
  {
   "cell_type": "code",
   "execution_count": 127,
   "metadata": {
    "collapsed": false,
    "deletable": true,
    "editable": true
   },
   "outputs": [
    {
     "data": {
      "text/plain": [
       "2003    0.480868\n",
       "2004    0.259024\n",
       "2005    0.300093\n",
       "2006    0.161735\n",
       "2007    0.417738\n",
       "2008    0.611901\n",
       "2009    0.432738\n",
       "2010    0.571946\n",
       "2011    0.581987\n",
       "Name: AAPL, dtype: float64"
      ]
     },
     "execution_count": 127,
     "metadata": {},
     "output_type": "execute_result"
    }
   ],
   "source": [
    "# Similarly, using the same dataset find the correlations of Apple with Microsoft\n",
    "aapl_msft_corr = lambda x: x.corrwith(x['MSFT'])\n",
    "by_year.apply(aapl_msft_corr)['AAPL']\n",
    "#by_year = rets.groupby(lambda x: x.year)\n",
    "#by_year.apply(lambda g: g['AAPL'].corr(g['MSFT']))"
   ]
  },
  {
   "cell_type": "code",
   "execution_count": null,
   "metadata": {
    "collapsed": true,
    "deletable": true,
    "editable": true
   },
   "outputs": [],
   "source": []
  },
  {
   "cell_type": "code",
   "execution_count": 130,
   "metadata": {
    "collapsed": false,
    "deletable": true,
    "editable": true
   },
   "outputs": [
    {
     "data": {
      "text/html": [
       "<div>\n",
       "<table border=\"1\" class=\"dataframe\">\n",
       "  <thead>\n",
       "    <tr style=\"text-align: right;\">\n",
       "      <th></th>\n",
       "      <th>SPX</th>\n",
       "      <th>intercept</th>\n",
       "    </tr>\n",
       "  </thead>\n",
       "  <tbody>\n",
       "    <tr>\n",
       "      <th>2003</th>\n",
       "      <td>1.195406</td>\n",
       "      <td>0.000710</td>\n",
       "    </tr>\n",
       "    <tr>\n",
       "      <th>2004</th>\n",
       "      <td>1.363463</td>\n",
       "      <td>0.004201</td>\n",
       "    </tr>\n",
       "    <tr>\n",
       "      <th>2005</th>\n",
       "      <td>1.766415</td>\n",
       "      <td>0.003246</td>\n",
       "    </tr>\n",
       "    <tr>\n",
       "      <th>2006</th>\n",
       "      <td>1.645496</td>\n",
       "      <td>0.000080</td>\n",
       "    </tr>\n",
       "    <tr>\n",
       "      <th>2007</th>\n",
       "      <td>1.198761</td>\n",
       "      <td>0.003438</td>\n",
       "    </tr>\n",
       "    <tr>\n",
       "      <th>2008</th>\n",
       "      <td>0.968016</td>\n",
       "      <td>-0.001110</td>\n",
       "    </tr>\n",
       "    <tr>\n",
       "      <th>2009</th>\n",
       "      <td>0.879103</td>\n",
       "      <td>0.002954</td>\n",
       "    </tr>\n",
       "    <tr>\n",
       "      <th>2010</th>\n",
       "      <td>1.052608</td>\n",
       "      <td>0.001261</td>\n",
       "    </tr>\n",
       "    <tr>\n",
       "      <th>2011</th>\n",
       "      <td>0.806605</td>\n",
       "      <td>0.001514</td>\n",
       "    </tr>\n",
       "  </tbody>\n",
       "</table>\n",
       "</div>"
      ],
      "text/plain": [
       "           SPX  intercept\n",
       "2003  1.195406   0.000710\n",
       "2004  1.363463   0.004201\n",
       "2005  1.766415   0.003246\n",
       "2006  1.645496   0.000080\n",
       "2007  1.198761   0.003438\n",
       "2008  0.968016  -0.001110\n",
       "2009  0.879103   0.002954\n",
       "2010  1.052608   0.001261\n",
       "2011  0.806605   0.001514"
      ]
     },
     "execution_count": 130,
     "metadata": {},
     "output_type": "execute_result"
    }
   ],
   "source": [
    "# Group-wise Linear Regression\n",
    "import statsmodels.api as sm\n",
    "def regress(data, yvar, xvar):\n",
    "    Y = data[yvar]\n",
    "    X = data[xvar]\n",
    "    X['intercept'] = 1\n",
    "    result = sm.OLS(Y, X).fit()\n",
    "    return result.params\n",
    "by_year.apply(regress, 'AAPL', ['SPX'])"
   ]
  },
  {
   "cell_type": "code",
   "execution_count": null,
   "metadata": {
    "collapsed": false,
    "deletable": true,
    "editable": true
   },
   "outputs": [],
   "source": []
  },
  {
   "cell_type": "code",
   "execution_count": 131,
   "metadata": {
    "collapsed": false,
    "deletable": true,
    "editable": true
   },
   "outputs": [
    {
     "name": "stdout",
     "output_type": "stream",
     "text": [
      "   total_bill   tip     sex smoker  day    time  size   tip_pct\n",
      "0       16.99  1.01  Female     No  Sun  Dinner     2  0.059447\n",
      "1       10.34  1.66    Male     No  Sun  Dinner     3  0.160542\n",
      "2       21.01  3.50    Male     No  Sun  Dinner     3  0.166587\n",
      "3       23.68  3.31    Male     No  Sun  Dinner     2  0.139780\n",
      "4       24.59  3.61  Female     No  Sun  Dinner     4  0.146808\n"
     ]
    },
    {
     "data": {
      "text/html": [
       "<div>\n",
       "<table border=\"1\" class=\"dataframe\">\n",
       "  <thead>\n",
       "    <tr style=\"text-align: right;\">\n",
       "      <th></th>\n",
       "      <th></th>\n",
       "      <th>size</th>\n",
       "      <th>tip</th>\n",
       "      <th>tip_pct</th>\n",
       "      <th>total_bill</th>\n",
       "    </tr>\n",
       "    <tr>\n",
       "      <th>sex</th>\n",
       "      <th>smoker</th>\n",
       "      <th></th>\n",
       "      <th></th>\n",
       "      <th></th>\n",
       "      <th></th>\n",
       "    </tr>\n",
       "  </thead>\n",
       "  <tbody>\n",
       "    <tr>\n",
       "      <th rowspan=\"2\" valign=\"top\">Female</th>\n",
       "      <th>No</th>\n",
       "      <td>2.592593</td>\n",
       "      <td>2.773519</td>\n",
       "      <td>0.156921</td>\n",
       "      <td>18.105185</td>\n",
       "    </tr>\n",
       "    <tr>\n",
       "      <th>Yes</th>\n",
       "      <td>2.242424</td>\n",
       "      <td>2.931515</td>\n",
       "      <td>0.182150</td>\n",
       "      <td>17.977879</td>\n",
       "    </tr>\n",
       "    <tr>\n",
       "      <th rowspan=\"2\" valign=\"top\">Male</th>\n",
       "      <th>No</th>\n",
       "      <td>2.711340</td>\n",
       "      <td>3.113402</td>\n",
       "      <td>0.160669</td>\n",
       "      <td>19.791237</td>\n",
       "    </tr>\n",
       "    <tr>\n",
       "      <th>Yes</th>\n",
       "      <td>2.500000</td>\n",
       "      <td>3.051167</td>\n",
       "      <td>0.152771</td>\n",
       "      <td>22.284500</td>\n",
       "    </tr>\n",
       "  </tbody>\n",
       "</table>\n",
       "</div>"
      ],
      "text/plain": [
       "                   size       tip   tip_pct  total_bill\n",
       "sex    smoker                                          \n",
       "Female No      2.592593  2.773519  0.156921   18.105185\n",
       "       Yes     2.242424  2.931515  0.182150   17.977879\n",
       "Male   No      2.711340  3.113402  0.160669   19.791237\n",
       "       Yes     2.500000  3.051167  0.152771   22.284500"
      ]
     },
     "execution_count": 131,
     "metadata": {},
     "output_type": "execute_result"
    }
   ],
   "source": [
    "# Pivot Tables and Cross-Tabulation\n",
    "# Use the tips DataFrame with the derived tip_pct column above\n",
    "\n",
    "print tips[:5]\n",
    "tips.pivot_table(index=['sex', 'smoker'], )\n",
    "    # The default aggregaton is means."
   ]
  },
  {
   "cell_type": "code",
   "execution_count": 132,
   "metadata": {
    "collapsed": false,
    "deletable": true,
    "editable": true
   },
   "outputs": [
    {
     "data": {
      "text/html": [
       "<div>\n",
       "<table border=\"1\" class=\"dataframe\">\n",
       "  <thead>\n",
       "    <tr style=\"text-align: right;\">\n",
       "      <th></th>\n",
       "      <th></th>\n",
       "      <th></th>\n",
       "      <th>size</th>\n",
       "      <th>tip_pct</th>\n",
       "    </tr>\n",
       "    <tr>\n",
       "      <th>sex</th>\n",
       "      <th>smoker</th>\n",
       "      <th>day</th>\n",
       "      <th></th>\n",
       "      <th></th>\n",
       "    </tr>\n",
       "  </thead>\n",
       "  <tbody>\n",
       "    <tr>\n",
       "      <th rowspan=\"8\" valign=\"top\">Female</th>\n",
       "      <th rowspan=\"4\" valign=\"top\">No</th>\n",
       "      <th>Fri</th>\n",
       "      <td>2.500000</td>\n",
       "      <td>0.165296</td>\n",
       "    </tr>\n",
       "    <tr>\n",
       "      <th>Sat</th>\n",
       "      <td>2.307692</td>\n",
       "      <td>0.147993</td>\n",
       "    </tr>\n",
       "    <tr>\n",
       "      <th>Sun</th>\n",
       "      <td>3.071429</td>\n",
       "      <td>0.165710</td>\n",
       "    </tr>\n",
       "    <tr>\n",
       "      <th>Thur</th>\n",
       "      <td>2.480000</td>\n",
       "      <td>0.155971</td>\n",
       "    </tr>\n",
       "    <tr>\n",
       "      <th rowspan=\"4\" valign=\"top\">Yes</th>\n",
       "      <th>Fri</th>\n",
       "      <td>2.000000</td>\n",
       "      <td>0.209129</td>\n",
       "    </tr>\n",
       "    <tr>\n",
       "      <th>Sat</th>\n",
       "      <td>2.200000</td>\n",
       "      <td>0.163817</td>\n",
       "    </tr>\n",
       "    <tr>\n",
       "      <th>Sun</th>\n",
       "      <td>2.500000</td>\n",
       "      <td>0.237075</td>\n",
       "    </tr>\n",
       "    <tr>\n",
       "      <th>Thur</th>\n",
       "      <td>2.428571</td>\n",
       "      <td>0.163073</td>\n",
       "    </tr>\n",
       "    <tr>\n",
       "      <th rowspan=\"8\" valign=\"top\">Male</th>\n",
       "      <th rowspan=\"4\" valign=\"top\">No</th>\n",
       "      <th>Fri</th>\n",
       "      <td>2.000000</td>\n",
       "      <td>0.138005</td>\n",
       "    </tr>\n",
       "    <tr>\n",
       "      <th>Sat</th>\n",
       "      <td>2.656250</td>\n",
       "      <td>0.162132</td>\n",
       "    </tr>\n",
       "    <tr>\n",
       "      <th>Sun</th>\n",
       "      <td>2.883721</td>\n",
       "      <td>0.158291</td>\n",
       "    </tr>\n",
       "    <tr>\n",
       "      <th>Thur</th>\n",
       "      <td>2.500000</td>\n",
       "      <td>0.165706</td>\n",
       "    </tr>\n",
       "    <tr>\n",
       "      <th rowspan=\"4\" valign=\"top\">Yes</th>\n",
       "      <th>Fri</th>\n",
       "      <td>2.125000</td>\n",
       "      <td>0.144730</td>\n",
       "    </tr>\n",
       "    <tr>\n",
       "      <th>Sat</th>\n",
       "      <td>2.629630</td>\n",
       "      <td>0.139067</td>\n",
       "    </tr>\n",
       "    <tr>\n",
       "      <th>Sun</th>\n",
       "      <td>2.600000</td>\n",
       "      <td>0.173964</td>\n",
       "    </tr>\n",
       "    <tr>\n",
       "      <th>Thur</th>\n",
       "      <td>2.300000</td>\n",
       "      <td>0.164417</td>\n",
       "    </tr>\n",
       "  </tbody>\n",
       "</table>\n",
       "</div>"
      ],
      "text/plain": [
       "                        size   tip_pct\n",
       "sex    smoker day                     \n",
       "Female No     Fri   2.500000  0.165296\n",
       "              Sat   2.307692  0.147993\n",
       "              Sun   3.071429  0.165710\n",
       "              Thur  2.480000  0.155971\n",
       "       Yes    Fri   2.000000  0.209129\n",
       "              Sat   2.200000  0.163817\n",
       "              Sun   2.500000  0.237075\n",
       "              Thur  2.428571  0.163073\n",
       "Male   No     Fri   2.000000  0.138005\n",
       "              Sat   2.656250  0.162132\n",
       "              Sun   2.883721  0.158291\n",
       "              Thur  2.500000  0.165706\n",
       "       Yes    Fri   2.125000  0.144730\n",
       "              Sat   2.629630  0.139067\n",
       "              Sun   2.600000  0.173964\n",
       "              Thur  2.300000  0.164417"
      ]
     },
     "execution_count": 132,
     "metadata": {},
     "output_type": "execute_result"
    }
   ],
   "source": [
    "# Pivot Table specifications:\n",
    "#   Aggregate only the \"tip_pct\" and \"size\" columns\n",
    "#  Want to group over \"day\", \"sex\", and \"smoker\" \n",
    "\n",
    "tips.pivot_table(['tip_pct','size'], index=['sex', 'smoker', 'day'])"
   ]
  },
  {
   "cell_type": "code",
   "execution_count": 133,
   "metadata": {
    "collapsed": false,
    "deletable": true,
    "editable": true
   },
   "outputs": [
    {
     "data": {
      "text/html": [
       "<div>\n",
       "<table border=\"1\" class=\"dataframe\">\n",
       "  <thead>\n",
       "    <tr>\n",
       "      <th></th>\n",
       "      <th></th>\n",
       "      <th colspan=\"3\" halign=\"left\">tip_pct</th>\n",
       "      <th colspan=\"3\" halign=\"left\">size</th>\n",
       "    </tr>\n",
       "    <tr>\n",
       "      <th></th>\n",
       "      <th>smoker</th>\n",
       "      <th>No</th>\n",
       "      <th>Yes</th>\n",
       "      <th>All</th>\n",
       "      <th>No</th>\n",
       "      <th>Yes</th>\n",
       "      <th>All</th>\n",
       "    </tr>\n",
       "    <tr>\n",
       "      <th>sex</th>\n",
       "      <th>day</th>\n",
       "      <th></th>\n",
       "      <th></th>\n",
       "      <th></th>\n",
       "      <th></th>\n",
       "      <th></th>\n",
       "      <th></th>\n",
       "    </tr>\n",
       "  </thead>\n",
       "  <tbody>\n",
       "    <tr>\n",
       "      <th rowspan=\"4\" valign=\"top\">Female</th>\n",
       "      <th>Fri</th>\n",
       "      <td>0.165296</td>\n",
       "      <td>0.209129</td>\n",
       "      <td>0.199388</td>\n",
       "      <td>2.500000</td>\n",
       "      <td>2.000000</td>\n",
       "      <td>2.111111</td>\n",
       "    </tr>\n",
       "    <tr>\n",
       "      <th>Sat</th>\n",
       "      <td>0.147993</td>\n",
       "      <td>0.163817</td>\n",
       "      <td>0.156470</td>\n",
       "      <td>2.307692</td>\n",
       "      <td>2.200000</td>\n",
       "      <td>2.250000</td>\n",
       "    </tr>\n",
       "    <tr>\n",
       "      <th>Sun</th>\n",
       "      <td>0.165710</td>\n",
       "      <td>0.237075</td>\n",
       "      <td>0.181569</td>\n",
       "      <td>3.071429</td>\n",
       "      <td>2.500000</td>\n",
       "      <td>2.944444</td>\n",
       "    </tr>\n",
       "    <tr>\n",
       "      <th>Thur</th>\n",
       "      <td>0.155971</td>\n",
       "      <td>0.163073</td>\n",
       "      <td>0.157525</td>\n",
       "      <td>2.480000</td>\n",
       "      <td>2.428571</td>\n",
       "      <td>2.468750</td>\n",
       "    </tr>\n",
       "    <tr>\n",
       "      <th rowspan=\"4\" valign=\"top\">Male</th>\n",
       "      <th>Fri</th>\n",
       "      <td>0.138005</td>\n",
       "      <td>0.144730</td>\n",
       "      <td>0.143385</td>\n",
       "      <td>2.000000</td>\n",
       "      <td>2.125000</td>\n",
       "      <td>2.100000</td>\n",
       "    </tr>\n",
       "    <tr>\n",
       "      <th>Sat</th>\n",
       "      <td>0.162132</td>\n",
       "      <td>0.139067</td>\n",
       "      <td>0.151577</td>\n",
       "      <td>2.656250</td>\n",
       "      <td>2.629630</td>\n",
       "      <td>2.644068</td>\n",
       "    </tr>\n",
       "    <tr>\n",
       "      <th>Sun</th>\n",
       "      <td>0.158291</td>\n",
       "      <td>0.173964</td>\n",
       "      <td>0.162344</td>\n",
       "      <td>2.883721</td>\n",
       "      <td>2.600000</td>\n",
       "      <td>2.810345</td>\n",
       "    </tr>\n",
       "    <tr>\n",
       "      <th>Thur</th>\n",
       "      <td>0.165706</td>\n",
       "      <td>0.164417</td>\n",
       "      <td>0.165276</td>\n",
       "      <td>2.500000</td>\n",
       "      <td>2.300000</td>\n",
       "      <td>2.433333</td>\n",
       "    </tr>\n",
       "    <tr>\n",
       "      <th>All</th>\n",
       "      <th></th>\n",
       "      <td>0.159328</td>\n",
       "      <td>0.163196</td>\n",
       "      <td>0.160803</td>\n",
       "      <td>2.668874</td>\n",
       "      <td>2.408602</td>\n",
       "      <td>2.569672</td>\n",
       "    </tr>\n",
       "  </tbody>\n",
       "</table>\n",
       "</div>"
      ],
      "text/plain": [
       "              tip_pct                          size                    \n",
       "smoker             No       Yes       All        No       Yes       All\n",
       "sex    day                                                             \n",
       "Female Fri   0.165296  0.209129  0.199388  2.500000  2.000000  2.111111\n",
       "       Sat   0.147993  0.163817  0.156470  2.307692  2.200000  2.250000\n",
       "       Sun   0.165710  0.237075  0.181569  3.071429  2.500000  2.944444\n",
       "       Thur  0.155971  0.163073  0.157525  2.480000  2.428571  2.468750\n",
       "Male   Fri   0.138005  0.144730  0.143385  2.000000  2.125000  2.100000\n",
       "       Sat   0.162132  0.139067  0.151577  2.656250  2.629630  2.644068\n",
       "       Sun   0.158291  0.173964  0.162344  2.883721  2.600000  2.810345\n",
       "       Thur  0.165706  0.164417  0.165276  2.500000  2.300000  2.433333\n",
       "All          0.159328  0.163196  0.160803  2.668874  2.408602  2.569672"
      ]
     },
     "execution_count": 133,
     "metadata": {},
     "output_type": "execute_result"
    }
   ],
   "source": [
    "# For ease of parsing we can put the \"smoker\" data in the columns\n",
    "# Add margins=True parameter to get the subtotals across each row and column\n",
    "tips.pivot_table(['tip_pct','size'], index=['sex', 'day'], columns='smoker', margins = True)"
   ]
  },
  {
   "cell_type": "code",
   "execution_count": 134,
   "metadata": {
    "collapsed": false,
    "deletable": true,
    "editable": true,
    "scrolled": true
   },
   "outputs": [
    {
     "data": {
      "text/html": [
       "<div>\n",
       "<table border=\"1\" class=\"dataframe\">\n",
       "  <thead>\n",
       "    <tr>\n",
       "      <th></th>\n",
       "      <th></th>\n",
       "      <th colspan=\"5\" halign=\"left\">tip_pct</th>\n",
       "      <th colspan=\"5\" halign=\"left\">size</th>\n",
       "    </tr>\n",
       "    <tr>\n",
       "      <th></th>\n",
       "      <th>day</th>\n",
       "      <th>Fri</th>\n",
       "      <th>Sat</th>\n",
       "      <th>Sun</th>\n",
       "      <th>Thur</th>\n",
       "      <th>All</th>\n",
       "      <th>Fri</th>\n",
       "      <th>Sat</th>\n",
       "      <th>Sun</th>\n",
       "      <th>Thur</th>\n",
       "      <th>All</th>\n",
       "    </tr>\n",
       "    <tr>\n",
       "      <th>sex</th>\n",
       "      <th>smoker</th>\n",
       "      <th></th>\n",
       "      <th></th>\n",
       "      <th></th>\n",
       "      <th></th>\n",
       "      <th></th>\n",
       "      <th></th>\n",
       "      <th></th>\n",
       "      <th></th>\n",
       "      <th></th>\n",
       "      <th></th>\n",
       "    </tr>\n",
       "  </thead>\n",
       "  <tbody>\n",
       "    <tr>\n",
       "      <th rowspan=\"2\" valign=\"top\">Female</th>\n",
       "      <th>No</th>\n",
       "      <td>2.0</td>\n",
       "      <td>13.0</td>\n",
       "      <td>14.0</td>\n",
       "      <td>25.0</td>\n",
       "      <td>54.0</td>\n",
       "      <td>2.0</td>\n",
       "      <td>13.0</td>\n",
       "      <td>14.0</td>\n",
       "      <td>25.0</td>\n",
       "      <td>54.0</td>\n",
       "    </tr>\n",
       "    <tr>\n",
       "      <th>Yes</th>\n",
       "      <td>7.0</td>\n",
       "      <td>15.0</td>\n",
       "      <td>4.0</td>\n",
       "      <td>7.0</td>\n",
       "      <td>33.0</td>\n",
       "      <td>7.0</td>\n",
       "      <td>15.0</td>\n",
       "      <td>4.0</td>\n",
       "      <td>7.0</td>\n",
       "      <td>33.0</td>\n",
       "    </tr>\n",
       "    <tr>\n",
       "      <th rowspan=\"2\" valign=\"top\">Male</th>\n",
       "      <th>No</th>\n",
       "      <td>2.0</td>\n",
       "      <td>32.0</td>\n",
       "      <td>43.0</td>\n",
       "      <td>20.0</td>\n",
       "      <td>97.0</td>\n",
       "      <td>2.0</td>\n",
       "      <td>32.0</td>\n",
       "      <td>43.0</td>\n",
       "      <td>20.0</td>\n",
       "      <td>97.0</td>\n",
       "    </tr>\n",
       "    <tr>\n",
       "      <th>Yes</th>\n",
       "      <td>8.0</td>\n",
       "      <td>27.0</td>\n",
       "      <td>15.0</td>\n",
       "      <td>10.0</td>\n",
       "      <td>60.0</td>\n",
       "      <td>8.0</td>\n",
       "      <td>27.0</td>\n",
       "      <td>15.0</td>\n",
       "      <td>10.0</td>\n",
       "      <td>60.0</td>\n",
       "    </tr>\n",
       "    <tr>\n",
       "      <th>All</th>\n",
       "      <th></th>\n",
       "      <td>19.0</td>\n",
       "      <td>87.0</td>\n",
       "      <td>76.0</td>\n",
       "      <td>62.0</td>\n",
       "      <td>244.0</td>\n",
       "      <td>19.0</td>\n",
       "      <td>87.0</td>\n",
       "      <td>76.0</td>\n",
       "      <td>62.0</td>\n",
       "      <td>244.0</td>\n",
       "    </tr>\n",
       "  </tbody>\n",
       "</table>\n",
       "</div>"
      ],
      "text/plain": [
       "              tip_pct                           size                         \n",
       "day               Fri   Sat   Sun  Thur    All   Fri   Sat   Sun  Thur    All\n",
       "sex    smoker                                                                \n",
       "Female No         2.0  13.0  14.0  25.0   54.0   2.0  13.0  14.0  25.0   54.0\n",
       "       Yes        7.0  15.0   4.0   7.0   33.0   7.0  15.0   4.0   7.0   33.0\n",
       "Male   No         2.0  32.0  43.0  20.0   97.0   2.0  32.0  43.0  20.0   97.0\n",
       "       Yes        8.0  27.0  15.0  10.0   60.0   8.0  27.0  15.0  10.0   60.0\n",
       "All              19.0  87.0  76.0  62.0  244.0  19.0  87.0  76.0  62.0  244.0"
      ]
     },
     "execution_count": 134,
     "metadata": {},
     "output_type": "execute_result"
    }
   ],
   "source": [
    "# pass a different aggregation function\n",
    "tips.pivot_table(['tip_pct', 'size'], index=['sex', 'smoker'], columns='day', aggfunc=len, margins=True)"
   ]
  },
  {
   "cell_type": "code",
   "execution_count": 135,
   "metadata": {
    "collapsed": false,
    "deletable": true,
    "editable": true
   },
   "outputs": [
    {
     "data": {
      "text/html": [
       "<div>\n",
       "<table border=\"1\" class=\"dataframe\">\n",
       "  <thead>\n",
       "    <tr>\n",
       "      <th></th>\n",
       "      <th></th>\n",
       "      <th></th>\n",
       "      <th colspan=\"4\" halign=\"left\">size</th>\n",
       "    </tr>\n",
       "    <tr>\n",
       "      <th></th>\n",
       "      <th></th>\n",
       "      <th>day</th>\n",
       "      <th>Fri</th>\n",
       "      <th>Sat</th>\n",
       "      <th>Sun</th>\n",
       "      <th>Thur</th>\n",
       "    </tr>\n",
       "    <tr>\n",
       "      <th>time</th>\n",
       "      <th>sex</th>\n",
       "      <th>smoker</th>\n",
       "      <th></th>\n",
       "      <th></th>\n",
       "      <th></th>\n",
       "      <th></th>\n",
       "    </tr>\n",
       "  </thead>\n",
       "  <tbody>\n",
       "    <tr>\n",
       "      <th rowspan=\"4\" valign=\"top\">Dinner</th>\n",
       "      <th rowspan=\"2\" valign=\"top\">Female</th>\n",
       "      <th>No</th>\n",
       "      <td>2</td>\n",
       "      <td>30</td>\n",
       "      <td>43</td>\n",
       "      <td>2</td>\n",
       "    </tr>\n",
       "    <tr>\n",
       "      <th>Yes</th>\n",
       "      <td>8</td>\n",
       "      <td>33</td>\n",
       "      <td>10</td>\n",
       "      <td>0</td>\n",
       "    </tr>\n",
       "    <tr>\n",
       "      <th rowspan=\"2\" valign=\"top\">Male</th>\n",
       "      <th>No</th>\n",
       "      <td>4</td>\n",
       "      <td>85</td>\n",
       "      <td>124</td>\n",
       "      <td>0</td>\n",
       "    </tr>\n",
       "    <tr>\n",
       "      <th>Yes</th>\n",
       "      <td>12</td>\n",
       "      <td>71</td>\n",
       "      <td>39</td>\n",
       "      <td>0</td>\n",
       "    </tr>\n",
       "    <tr>\n",
       "      <th rowspan=\"4\" valign=\"top\">Lunch</th>\n",
       "      <th rowspan=\"2\" valign=\"top\">Female</th>\n",
       "      <th>No</th>\n",
       "      <td>3</td>\n",
       "      <td>0</td>\n",
       "      <td>0</td>\n",
       "      <td>60</td>\n",
       "    </tr>\n",
       "    <tr>\n",
       "      <th>Yes</th>\n",
       "      <td>6</td>\n",
       "      <td>0</td>\n",
       "      <td>0</td>\n",
       "      <td>17</td>\n",
       "    </tr>\n",
       "    <tr>\n",
       "      <th rowspan=\"2\" valign=\"top\">Male</th>\n",
       "      <th>No</th>\n",
       "      <td>0</td>\n",
       "      <td>0</td>\n",
       "      <td>0</td>\n",
       "      <td>50</td>\n",
       "    </tr>\n",
       "    <tr>\n",
       "      <th>Yes</th>\n",
       "      <td>5</td>\n",
       "      <td>0</td>\n",
       "      <td>0</td>\n",
       "      <td>23</td>\n",
       "    </tr>\n",
       "  </tbody>\n",
       "</table>\n",
       "</div>"
      ],
      "text/plain": [
       "                     size              \n",
       "day                   Fri Sat  Sun Thur\n",
       "time   sex    smoker                   \n",
       "Dinner Female No        2  30   43    2\n",
       "              Yes       8  33   10    0\n",
       "       Male   No        4  85  124    0\n",
       "              Yes      12  71   39    0\n",
       "Lunch  Female No        3   0    0   60\n",
       "              Yes       6   0    0   17\n",
       "       Male   No        0   0    0   50\n",
       "              Yes       5   0    0   23"
      ]
     },
     "execution_count": 135,
     "metadata": {},
     "output_type": "execute_result"
    }
   ],
   "source": [
    "# fill_value parameter replaces NaN\n",
    "tips.pivot_table(['size'], index=['time', 'sex', 'smoker'], columns='day', aggfunc='sum', fill_value=0)"
   ]
  },
  {
   "cell_type": "code",
   "execution_count": null,
   "metadata": {
    "collapsed": true,
    "deletable": true,
    "editable": true
   },
   "outputs": [],
   "source": []
  },
  {
   "cell_type": "code",
   "execution_count": 136,
   "metadata": {
    "collapsed": false,
    "deletable": true,
    "editable": true
   },
   "outputs": [
    {
     "data": {
      "text/html": [
       "<div>\n",
       "<table border=\"1\" class=\"dataframe\">\n",
       "  <thead>\n",
       "    <tr style=\"text-align: right;\">\n",
       "      <th></th>\n",
       "      <th>Gender</th>\n",
       "      <th>Handedness</th>\n",
       "      <th>Sample</th>\n",
       "    </tr>\n",
       "  </thead>\n",
       "  <tbody>\n",
       "    <tr>\n",
       "      <th>0</th>\n",
       "      <td>Female</td>\n",
       "      <td>Right-handed</td>\n",
       "      <td>1</td>\n",
       "    </tr>\n",
       "    <tr>\n",
       "      <th>1</th>\n",
       "      <td>Male</td>\n",
       "      <td>Left-handed</td>\n",
       "      <td>2</td>\n",
       "    </tr>\n",
       "    <tr>\n",
       "      <th>2</th>\n",
       "      <td>Female</td>\n",
       "      <td>Right-handed</td>\n",
       "      <td>3</td>\n",
       "    </tr>\n",
       "    <tr>\n",
       "      <th>3</th>\n",
       "      <td>Male</td>\n",
       "      <td>Right-handed</td>\n",
       "      <td>4</td>\n",
       "    </tr>\n",
       "    <tr>\n",
       "      <th>4</th>\n",
       "      <td>Male</td>\n",
       "      <td>Left-handed</td>\n",
       "      <td>5</td>\n",
       "    </tr>\n",
       "    <tr>\n",
       "      <th>5</th>\n",
       "      <td>Male</td>\n",
       "      <td>Right-handed</td>\n",
       "      <td>6</td>\n",
       "    </tr>\n",
       "    <tr>\n",
       "      <th>6</th>\n",
       "      <td>Female</td>\n",
       "      <td>Right-handed</td>\n",
       "      <td>7</td>\n",
       "    </tr>\n",
       "    <tr>\n",
       "      <th>7</th>\n",
       "      <td>Female</td>\n",
       "      <td>Left-handed</td>\n",
       "      <td>8</td>\n",
       "    </tr>\n",
       "    <tr>\n",
       "      <th>8</th>\n",
       "      <td>Male</td>\n",
       "      <td>Right-handed</td>\n",
       "      <td>9</td>\n",
       "    </tr>\n",
       "    <tr>\n",
       "      <th>9</th>\n",
       "      <td>Female</td>\n",
       "      <td>Right-handed</td>\n",
       "      <td>10</td>\n",
       "    </tr>\n",
       "  </tbody>\n",
       "</table>\n",
       "</div>"
      ],
      "text/plain": [
       "   Gender    Handedness  Sample\n",
       "0  Female  Right-handed       1\n",
       "1    Male   Left-handed       2\n",
       "2  Female  Right-handed       3\n",
       "3    Male  Right-handed       4\n",
       "4    Male   Left-handed       5\n",
       "5    Male  Right-handed       6\n",
       "6  Female  Right-handed       7\n",
       "7  Female   Left-handed       8\n",
       "8    Male  Right-handed       9\n",
       "9  Female  Right-handed      10"
      ]
     },
     "execution_count": 136,
     "metadata": {},
     "output_type": "execute_result"
    }
   ],
   "source": [
    "# Cross-Tabulations: Crosstab -- Computes Group Frequencies\n",
    "data = pd.DataFrame({'Sample': range(1,11),\n",
    "                     'Gender': ['Female', 'Male', 'Female', 'Male', 'Male', 'Male', 'Female', 'Female', 'Male', 'Female'],\n",
    "                     'Handedness': ['Right-handed', 'Left-handed', 'Right-handed', 'Right-handed', 'Left-handed', 'Right-handed', 'Right-handed', 'Left-handed', 'Right-handed', 'Right-handed']})\n",
    "data"
   ]
  },
  {
   "cell_type": "code",
   "execution_count": 137,
   "metadata": {
    "collapsed": false,
    "deletable": true,
    "editable": true
   },
   "outputs": [
    {
     "data": {
      "text/html": [
       "<div>\n",
       "<table border=\"1\" class=\"dataframe\">\n",
       "  <thead>\n",
       "    <tr style=\"text-align: right;\">\n",
       "      <th>Handedness</th>\n",
       "      <th>Left-handed</th>\n",
       "      <th>Right-handed</th>\n",
       "      <th>All</th>\n",
       "    </tr>\n",
       "    <tr>\n",
       "      <th>Gender</th>\n",
       "      <th></th>\n",
       "      <th></th>\n",
       "      <th></th>\n",
       "    </tr>\n",
       "  </thead>\n",
       "  <tbody>\n",
       "    <tr>\n",
       "      <th>Female</th>\n",
       "      <td>1</td>\n",
       "      <td>4</td>\n",
       "      <td>5</td>\n",
       "    </tr>\n",
       "    <tr>\n",
       "      <th>Male</th>\n",
       "      <td>2</td>\n",
       "      <td>3</td>\n",
       "      <td>5</td>\n",
       "    </tr>\n",
       "    <tr>\n",
       "      <th>All</th>\n",
       "      <td>3</td>\n",
       "      <td>7</td>\n",
       "      <td>10</td>\n",
       "    </tr>\n",
       "  </tbody>\n",
       "</table>\n",
       "</div>"
      ],
      "text/plain": [
       "Handedness  Left-handed  Right-handed  All\n",
       "Gender                                    \n",
       "Female                1             4    5\n",
       "Male                  2             3    5\n",
       "All                   3             7   10"
      ]
     },
     "execution_count": 137,
     "metadata": {},
     "output_type": "execute_result"
    }
   ],
   "source": [
    "# Crosstab simplifies pivot table opeations\n",
    "pd.crosstab(data.Gender, data.Handedness, margins=True)"
   ]
  },
  {
   "cell_type": "code",
   "execution_count": 138,
   "metadata": {
    "collapsed": false,
    "deletable": true,
    "editable": true,
    "scrolled": true
   },
   "outputs": [
    {
     "data": {
      "text/html": [
       "<div>\n",
       "<table border=\"1\" class=\"dataframe\">\n",
       "  <thead>\n",
       "    <tr style=\"text-align: right;\">\n",
       "      <th>Handedness</th>\n",
       "      <th>Left-handed</th>\n",
       "      <th>Right-handed</th>\n",
       "      <th>All</th>\n",
       "    </tr>\n",
       "    <tr>\n",
       "      <th>Gender</th>\n",
       "      <th></th>\n",
       "      <th></th>\n",
       "      <th></th>\n",
       "    </tr>\n",
       "  </thead>\n",
       "  <tbody>\n",
       "    <tr>\n",
       "      <th>Female</th>\n",
       "      <td>8.0</td>\n",
       "      <td>5.250000</td>\n",
       "      <td>5.8</td>\n",
       "    </tr>\n",
       "    <tr>\n",
       "      <th>Male</th>\n",
       "      <td>3.5</td>\n",
       "      <td>6.333333</td>\n",
       "      <td>5.2</td>\n",
       "    </tr>\n",
       "    <tr>\n",
       "      <th>All</th>\n",
       "      <td>5.0</td>\n",
       "      <td>5.714286</td>\n",
       "      <td>5.5</td>\n",
       "    </tr>\n",
       "  </tbody>\n",
       "</table>\n",
       "</div>"
      ],
      "text/plain": [
       "Handedness  Left-handed  Right-handed  All\n",
       "Gender                                    \n",
       "Female              8.0      5.250000  5.8\n",
       "Male                3.5      6.333333  5.2\n",
       "All                 5.0      5.714286  5.5"
      ]
     },
     "execution_count": 138,
     "metadata": {},
     "output_type": "execute_result"
    }
   ],
   "source": [
    "# But don't be a lazy bastard, just use a Pivot Table\n",
    "data.pivot_table(index=['Gender'], columns=['Handedness'], margins=True)['Sample']"
   ]
  },
  {
   "cell_type": "code",
   "execution_count": null,
   "metadata": {
    "collapsed": true,
    "deletable": true,
    "editable": true
   },
   "outputs": [],
   "source": []
  },
  {
   "cell_type": "code",
   "execution_count": 140,
   "metadata": {
    "collapsed": false,
    "deletable": true,
    "editable": true
   },
   "outputs": [
    {
     "name": "stderr",
     "output_type": "stream",
     "text": [
      "/usr/local/lib/python2.7/site-packages/IPython/core/interactiveshell.py:2717: DtypeWarning: Columns (6,11,12,13) have mixed types. Specify dtype option on import or set low_memory=False.\n",
      "  interactivity=interactivity, compiler=compiler, result=result)\n"
     ]
    },
    {
     "data": {
      "text/html": [
       "<div>\n",
       "<table border=\"1\" class=\"dataframe\">\n",
       "  <thead>\n",
       "    <tr style=\"text-align: right;\">\n",
       "      <th></th>\n",
       "      <th>cmte_id</th>\n",
       "      <th>cand_id</th>\n",
       "      <th>cand_nm</th>\n",
       "      <th>contbr_nm</th>\n",
       "      <th>contbr_city</th>\n",
       "      <th>contbr_st</th>\n",
       "      <th>contbr_zip</th>\n",
       "      <th>contbr_employer</th>\n",
       "      <th>contbr_occupation</th>\n",
       "      <th>contb_receipt_amt</th>\n",
       "      <th>contb_receipt_dt</th>\n",
       "      <th>receipt_desc</th>\n",
       "      <th>memo_cd</th>\n",
       "      <th>memo_text</th>\n",
       "      <th>form_tp</th>\n",
       "      <th>file_num</th>\n",
       "      <th>tran_id</th>\n",
       "      <th>election_tp</th>\n",
       "    </tr>\n",
       "  </thead>\n",
       "  <tbody>\n",
       "    <tr>\n",
       "      <th>0</th>\n",
       "      <td>C00458844</td>\n",
       "      <td>P60006723</td>\n",
       "      <td>Rubio, Marco</td>\n",
       "      <td>BLUM, MAUREEN</td>\n",
       "      <td>WASHINGTON</td>\n",
       "      <td>20</td>\n",
       "      <td>DC</td>\n",
       "      <td>STRATEGIC COALITIONS &amp; INITIATIVES LL</td>\n",
       "      <td>OUTREACH DIRECTOR</td>\n",
       "      <td>175.0</td>\n",
       "      <td>15-MAR-16</td>\n",
       "      <td>NaN</td>\n",
       "      <td>NaN</td>\n",
       "      <td>NaN</td>\n",
       "      <td>SA17A</td>\n",
       "      <td>1082559</td>\n",
       "      <td>SA17.1152124</td>\n",
       "      <td>P2016</td>\n",
       "    </tr>\n",
       "    <tr>\n",
       "      <th>1</th>\n",
       "      <td>C00458844</td>\n",
       "      <td>P60006723</td>\n",
       "      <td>Rubio, Marco</td>\n",
       "      <td>DODSON, MARK B. MR.</td>\n",
       "      <td>ATLANTA</td>\n",
       "      <td>30</td>\n",
       "      <td>GA</td>\n",
       "      <td>MORTGAGE CAPITAL ADVISORS</td>\n",
       "      <td>PRIVATE MORTGAGE BANKING</td>\n",
       "      <td>25.0</td>\n",
       "      <td>16-MAR-16</td>\n",
       "      <td>NaN</td>\n",
       "      <td>NaN</td>\n",
       "      <td>DEBT RETIREMENT</td>\n",
       "      <td>SA17A</td>\n",
       "      <td>1082559</td>\n",
       "      <td>SA17.1153048</td>\n",
       "      <td>P2016</td>\n",
       "    </tr>\n",
       "    <tr>\n",
       "      <th>2</th>\n",
       "      <td>C00458844</td>\n",
       "      <td>P60006723</td>\n",
       "      <td>Rubio, Marco</td>\n",
       "      <td>CHILDERS, WILLIAM</td>\n",
       "      <td>DPO</td>\n",
       "      <td>AE</td>\n",
       "      <td>098309998</td>\n",
       "      <td>DIPLOMAT</td>\n",
       "      <td>US GOVERNMENT</td>\n",
       "      <td>100.0</td>\n",
       "      <td>20-FEB-16</td>\n",
       "      <td>NaN</td>\n",
       "      <td>NaN</td>\n",
       "      <td>NaN</td>\n",
       "      <td>SA17A</td>\n",
       "      <td>1056862</td>\n",
       "      <td>SA17.1020839</td>\n",
       "      <td>P2016</td>\n",
       "    </tr>\n",
       "    <tr>\n",
       "      <th>3</th>\n",
       "      <td>C00458844</td>\n",
       "      <td>P60006723</td>\n",
       "      <td>Rubio, Marco</td>\n",
       "      <td>RUCINSKI, ROBERT</td>\n",
       "      <td>APO</td>\n",
       "      <td>AE</td>\n",
       "      <td>090960009</td>\n",
       "      <td>US ARMY</td>\n",
       "      <td>PHYSICIAN</td>\n",
       "      <td>200.0</td>\n",
       "      <td>10-MAR-16</td>\n",
       "      <td>NaN</td>\n",
       "      <td>NaN</td>\n",
       "      <td>NaN</td>\n",
       "      <td>SA17A</td>\n",
       "      <td>1082559</td>\n",
       "      <td>SA17.1078677</td>\n",
       "      <td>P2016</td>\n",
       "    </tr>\n",
       "    <tr>\n",
       "      <th>4</th>\n",
       "      <td>C00458844</td>\n",
       "      <td>P60006723</td>\n",
       "      <td>Rubio, Marco</td>\n",
       "      <td>RUCINSKI, ROBERT</td>\n",
       "      <td>APO</td>\n",
       "      <td>AE</td>\n",
       "      <td>090960009</td>\n",
       "      <td>US ARMY</td>\n",
       "      <td>PHYSICIAN</td>\n",
       "      <td>100.0</td>\n",
       "      <td>08-MAR-16</td>\n",
       "      <td>NaN</td>\n",
       "      <td>NaN</td>\n",
       "      <td>NaN</td>\n",
       "      <td>SA17A</td>\n",
       "      <td>1082559</td>\n",
       "      <td>SA17.1074981</td>\n",
       "      <td>P2016</td>\n",
       "    </tr>\n",
       "  </tbody>\n",
       "</table>\n",
       "</div>"
      ],
      "text/plain": [
       "     cmte_id    cand_id       cand_nm            contbr_nm contbr_city  \\\n",
       "0  C00458844  P60006723  Rubio, Marco        BLUM, MAUREEN  WASHINGTON   \n",
       "1  C00458844  P60006723  Rubio, Marco  DODSON, MARK B. MR.     ATLANTA   \n",
       "2  C00458844  P60006723  Rubio, Marco    CHILDERS, WILLIAM         DPO   \n",
       "3  C00458844  P60006723  Rubio, Marco     RUCINSKI, ROBERT         APO   \n",
       "4  C00458844  P60006723  Rubio, Marco     RUCINSKI, ROBERT         APO   \n",
       "\n",
       "  contbr_st contbr_zip                        contbr_employer  \\\n",
       "0        20         DC  STRATEGIC COALITIONS & INITIATIVES LL   \n",
       "1        30         GA              MORTGAGE CAPITAL ADVISORS   \n",
       "2        AE  098309998                               DIPLOMAT   \n",
       "3        AE  090960009                                US ARMY   \n",
       "4        AE  090960009                                US ARMY   \n",
       "\n",
       "          contbr_occupation  contb_receipt_amt contb_receipt_dt receipt_desc  \\\n",
       "0         OUTREACH DIRECTOR              175.0        15-MAR-16          NaN   \n",
       "1  PRIVATE MORTGAGE BANKING               25.0        16-MAR-16          NaN   \n",
       "2             US GOVERNMENT              100.0        20-FEB-16          NaN   \n",
       "3                 PHYSICIAN              200.0        10-MAR-16          NaN   \n",
       "4                 PHYSICIAN              100.0        08-MAR-16          NaN   \n",
       "\n",
       "  memo_cd        memo_text form_tp  file_num       tran_id election_tp  \n",
       "0     NaN              NaN   SA17A   1082559  SA17.1152124       P2016  \n",
       "1     NaN  DEBT RETIREMENT   SA17A   1082559  SA17.1153048       P2016  \n",
       "2     NaN              NaN   SA17A   1056862  SA17.1020839       P2016  \n",
       "3     NaN              NaN   SA17A   1082559  SA17.1078677       P2016  \n",
       "4     NaN              NaN   SA17A   1082559  SA17.1074981       P2016  "
      ]
     },
     "execution_count": 140,
     "metadata": {},
     "output_type": "execute_result"
    }
   ],
   "source": [
    "# 2016 Federal Election Commission\n",
    "# National data is 1.46 GB, loaded into memory is > 3 GB\n",
    "\n",
    "fec = pd.read_csv('~/Downloads/P00000001-ALL.csv', index_col = None)\n",
    "# The first column is being misinterpreted as the index because it doesn't have quotes around it\n",
    "fec = fec.reset_index()\n",
    "columns_list = fec.columns\n",
    "columns_list = columns_list[1:]\n",
    "# columns_list.values\n",
    "del fec['election_tp']\n",
    "fec.columns = columns_list\n",
    "fec[:5]"
   ]
  },
  {
   "cell_type": "code",
   "execution_count": null,
   "metadata": {
    "collapsed": false,
    "deletable": true,
    "editable": true
   },
   "outputs": [],
   "source": []
  },
  {
   "cell_type": "code",
   "execution_count": 141,
   "metadata": {
    "collapsed": false,
    "deletable": true,
    "editable": true
   },
   "outputs": [
    {
     "data": {
      "text/plain": [
       "array(['Rubio, Marco', 'Santorum, Richard J.', 'Perry, James R. (Rick)',\n",
       "       'Carson, Benjamin S.', \"Cruz, Rafael Edward 'Ted'\", 'Paul, Rand',\n",
       "       'Clinton, Hillary Rodham', 'Sanders, Bernard', 'Fiorina, Carly',\n",
       "       'Huckabee, Mike', 'Pataki, George E.', \"O'Malley, Martin Joseph\",\n",
       "       'Graham, Lindsey O.', 'Bush, Jeb', 'Trump, Donald J.',\n",
       "       'Jindal, Bobby', 'Christie, Christopher J.', 'Walker, Scott',\n",
       "       'Stein, Jill', 'Webb, James Henry Jr.', 'Kasich, John R.',\n",
       "       'Gilmore, James S III', 'Lessig, Lawrence', 'Johnson, Gary',\n",
       "       'McMullin, Evan'], dtype=object)"
      ]
     },
     "execution_count": 141,
     "metadata": {},
     "output_type": "execute_result"
    }
   ],
   "source": [
    "# Get unique list of political candidates\n",
    "unique_cands = fec.cand_nm.unique()\n",
    "unique_cands"
   ]
  },
  {
   "cell_type": "code",
   "execution_count": 142,
   "metadata": {
    "collapsed": false,
    "deletable": true,
    "editable": true
   },
   "outputs": [
    {
     "data": {
      "text/plain": [
       "{'Bush, Jeb': 'Republican',\n",
       " 'Carson, Benjamin S.': 'Republican',\n",
       " 'Christie, Christopher J.': 'Republican',\n",
       " 'Clinton, Hillary Rodham': 'Democratic',\n",
       " \"Cruz, Rafael Edward 'Ted'\": 'Republican',\n",
       " 'Fiorina, Carly': 'Republican',\n",
       " 'Gilmore, James S III': 'Republican',\n",
       " 'Graham, Lindsey O.': 'Republican',\n",
       " 'Huckabee, Mike': 'Republican',\n",
       " 'Jindal, Bobby': 'Republican',\n",
       " 'Johnson, Gary': 'Libertarian',\n",
       " 'Kasich, John R.': 'Republican',\n",
       " 'Lessig, Lawrence': 'Independent',\n",
       " 'McMullin, Evan': 'Independent',\n",
       " \"O'Malley, Martin Joseph\": 'Democratic',\n",
       " 'Pataki, George E.': 'Republican',\n",
       " 'Paul, Rand': 'Republican',\n",
       " 'Perry, James R. (Rick)': 'Republican',\n",
       " 'Rubio, Marco': 'Republican',\n",
       " 'Sanders, Bernard': 'Democratic',\n",
       " 'Santorum, Richard J.': 'Republican',\n",
       " 'Stein, Jill': 'Green',\n",
       " 'Trump, Donald J.': 'Republican',\n",
       " 'Walker, Scott': 'Republican',\n",
       " 'Webb, James Henry Jr.': 'Democratic'}"
      ]
     },
     "execution_count": 142,
     "metadata": {},
     "output_type": "execute_result"
    }
   ],
   "source": [
    "# Manually append the Parties information to this\n",
    "parties = {'Rubio, Marco': 'Republican',\n",
    " 'Santorum, Richard J.': 'Republican',\n",
    " 'Perry, James R. (Rick)': 'Republican',\n",
    " 'Carson, Benjamin S.': 'Republican',\n",
    " \"Cruz, Rafael Edward 'Ted'\": 'Republican',\n",
    " 'Paul, Rand': 'Republican',\n",
    "'Clinton, Hillary Rodham': 'Democratic',\n",
    " 'Sanders, Bernard': 'Democratic',\n",
    " 'Fiorina, Carly': 'Republican',\n",
    " 'Huckabee, Mike': 'Republican',\n",
    " 'Pataki, George E.': 'Republican',\n",
    " \"O'Malley, Martin Joseph\": 'Democratic',\n",
    " 'Graham, Lindsey O.': 'Republican',\n",
    " 'Bush, Jeb': 'Republican',\n",
    " 'Trump, Donald J.': 'Republican',\n",
    " 'Jindal, Bobby': 'Republican',\n",
    " 'Christie, Christopher J.': 'Republican',\n",
    " 'Walker, Scott': 'Republican',\n",
    " 'Stein, Jill': 'Green',\n",
    " 'Webb, James Henry Jr.': 'Democratic',\n",
    " 'Kasich, John R.': 'Republican',\n",
    " 'Gilmore, James S III': 'Republican',\n",
    " 'Lessig, Lawrence': 'Independent',\n",
    " 'Johnson, Gary': 'Libertarian',\n",
    " 'McMullin, Evan': 'Independent'}\n",
    "parties"
   ]
  },
  {
   "cell_type": "code",
   "execution_count": 143,
   "metadata": {
    "collapsed": false,
    "deletable": true,
    "editable": true
   },
   "outputs": [
    {
     "data": {
      "text/plain": [
       "11111    Republican\n",
       "11112    Republican\n",
       "11113    Republican\n",
       "11114    Republican\n",
       "11115    Republican\n",
       "Name: cand_nm, dtype: object"
      ]
     },
     "execution_count": 143,
     "metadata": {},
     "output_type": "execute_result"
    }
   ],
   "source": [
    "# Map these values to the party\n",
    "# Example:\n",
    "fec['cand_nm'][11111:11116].map(parties)"
   ]
  },
  {
   "cell_type": "code",
   "execution_count": 144,
   "metadata": {
    "collapsed": false,
    "deletable": true,
    "editable": true
   },
   "outputs": [],
   "source": [
    "# Create the party as a new column\n",
    "fec['party'] = fec['cand_nm'].map(parties)"
   ]
  },
  {
   "cell_type": "code",
   "execution_count": null,
   "metadata": {
    "collapsed": false,
    "deletable": true,
    "editable": true
   },
   "outputs": [],
   "source": [
    "# Only count contributions > 0\n",
    "(fec.contb_receipt_amt > 0).value_counts()\n",
    "fec = fec[fec.contb_receipt_amt > 0]"
   ]
  },
  {
   "cell_type": "code",
   "execution_count": null,
   "metadata": {
    "collapsed": false,
    "deletable": true,
    "editable": true
   },
   "outputs": [],
   "source": [
    "# Only count donations to Hillary, Sanders, Trump, and Cruz\n",
    "fec_leaders = fec[fec['cand_nm'].isin(['Trump, Donald J.', 'Clinton, Hillary Rodham', 'Sanders, Bernard', \"Cruz, Rafael Edward 'Ted'\"])]\n",
    "fec_leaders['cand_nm'].unique()"
   ]
  },
  {
   "cell_type": "code",
   "execution_count": null,
   "metadata": {
    "collapsed": false,
    "deletable": true,
    "editable": true,
    "scrolled": true
   },
   "outputs": [],
   "source": [
    "# Donations by occupation to the leaders\n",
    "fec_leaders['contbr_occupation'].value_counts()[:100]"
   ]
  },
  {
   "cell_type": "code",
   "execution_count": null,
   "metadata": {
    "collapsed": false,
    "deletable": true,
    "editable": true,
    "scrolled": true
   },
   "outputs": [],
   "source": [
    "# Create dicts to enable mapping the same values\n",
    "occ_mapping = {\n",
    "    'INFORMATION REQUESTED PER BEST EFFORTS': 'NOT PROVIDED',\n",
    "    'INFORMATION REQUESTED': 'NOT PROVIDED',\n",
    "    'INFORMATION REQUESTED (BEST EFFORTS)': 'NOT PROVIDED',\n",
    "    'C.E.O.': 'CEO',\n",
    "    'TEACHER': 'EDUCATOR',\n",
    "    'SELF EMPLOYED':'SELF-EMPLOYED' \n",
    "}\n",
    "\n",
    "emp_mapping = {\n",
    "    'INFORMATION REQUESTED PER BEST EFFORTS': 'NOT PROVIDED',\n",
    "    'INFORMATION REQUESTED': 'NOT PROVIDED',\n",
    "    'INFORMATION REQUESTED (BEST EFFORTS)': 'NOT PROVIDED',\n",
    "    'SELF EMPLOYED':'SELF-EMPLOYED',\n",
    "    'SELF': 'SELF-EMPLOYED',\n",
    "    'SELF EMPLOYED-EMPLOYED': 'SELF-EMPLOYED',\n",
    "    'NONE': 'NOT PROVIDED',\n",
    "    'UNEMPLOYED': 'NOT EMPLOYED',\n",
    "    'U.S. POSTAL SERVICE': 'USPS',\n",
    "    'MR.': 'NOT PROVIDED',\n",
    "    'MS.': 'NOT PROVIDED',\n",
    "    'PALANTIR TECHNOLOGIES':'PALANTIR',\n",
    "    'PALANTIR TECHNOLOGIES, INC.':'PALANTIR',\n",
    "    'PALANTIR TECHNOLOGIES, INC':'PALANTIR',\n",
    "    'PALANTIR USG':'PALANTIR',\n",
    "}\n",
    "\n",
    "\n",
    "f = lambda x: occ_mapping.get(x, x)\n",
    "g = lambda x: emp_mapping.get(x, x)\n",
    "# D.get(x,y) says return D[x] if it exists else return y.  NOT D[y] but just y.\n",
    "\n",
    "fec['contbr_occuption_condensed'] =fec['contbr_occupation'].map(f)\n",
    "fec['contbr_employer_condensed'] = fec['contbr_employer'].map(g)\n",
    "fec_leaders['contbr_occuption_condensed'] = fec_leaders['contbr_occupation'].map(f)\n",
    "fec_leaders['contbr_employer_condensed'] = fec_leaders['contbr_employer'].map(g)\n",
    "\n",
    "#fec['contbr_occuption_condensed'].value_counts()[:10]\n",
    "# fec['contbr_employer_condensed'].value_counts()[:200]"
   ]
  },
  {
   "cell_type": "code",
   "execution_count": null,
   "metadata": {
    "collapsed": false,
    "deletable": true,
    "editable": true
   },
   "outputs": [],
   "source": [
    "# Find all occupations donating > $1 M\n",
    "by_occupation = fec.pivot_table('contb_receipt_amt', index='contbr_occuption_condensed',columns='party', aggfunc='sum')\n",
    "by_occupation[by_occupation.sum(1) > 5000000][['Democratic','Republican']].plot(kind='barh')"
   ]
  },
  {
   "cell_type": "code",
   "execution_count": null,
   "metadata": {
    "collapsed": false,
    "deletable": true,
    "editable": true
   },
   "outputs": [],
   "source": [
    "# Find top occupations and employers donating to each candidate\n",
    "def get_top_amounts(group, key, n=5):\n",
    "    # Order totals by key in descending order\n",
    "    return group.groupby(key)['contb_receipt_amt'].sum().sort_values(ascending=False)[:n]\n",
    "\n",
    "# Split -- split by the cand_nm field\n",
    "grouped = fec_leaders.groupby('cand_nm')"
   ]
  },
  {
   "cell_type": "code",
   "execution_count": null,
   "metadata": {
    "collapsed": false,
    "deletable": true,
    "editable": true
   },
   "outputs": [],
   "source": [
    "# See top 7 contributors by occupation\n",
    "# Apply & Combine\n",
    "grouped.apply(get_top_amounts, 'contbr_occuption_condensed', n=7)"
   ]
  },
  {
   "cell_type": "code",
   "execution_count": null,
   "metadata": {
    "collapsed": false,
    "deletable": true,
    "editable": true,
    "scrolled": true
   },
   "outputs": [],
   "source": [
    "# See top 7 contributors by employer\n",
    "# Apply & Combine\n",
    "grouped.apply(get_top_amounts, 'contbr_employer_condensed', n=20)"
   ]
  },
  {
   "cell_type": "code",
   "execution_count": null,
   "metadata": {
    "collapsed": true,
    "deletable": true,
    "editable": true
   },
   "outputs": [],
   "source": []
  },
  {
   "cell_type": "code",
   "execution_count": null,
   "metadata": {
    "collapsed": false,
    "deletable": true,
    "editable": true,
    "scrolled": true
   },
   "outputs": [],
   "source": [
    "# Analyze by logarithmic buckets\n",
    "bins = np.array([0, 1, 10, 26, 27, 100, 1000, 10000, 100000, 1000000, 10000000])\n",
    "labels = pd.cut(fec_leaders['contb_receipt_amt'], bins)\n",
    "\n",
    "# Group by the buckets & each candidate name\n",
    "grouped = fec_leaders.groupby(['cand_nm', labels])\n",
    "grouped.size().unstack(0)"
   ]
  },
  {
   "cell_type": "code",
   "execution_count": null,
   "metadata": {
    "collapsed": false,
    "deletable": true,
    "editable": true
   },
   "outputs": [],
   "source": [
    "bucket_sums = grouped['contb_receipt_amt'].sum().unstack(0)\n",
    "bucket_sums"
   ]
  },
  {
   "cell_type": "code",
   "execution_count": null,
   "metadata": {
    "collapsed": false,
    "deletable": true,
    "editable": true
   },
   "outputs": [],
   "source": [
    "total_in_ranges = bucket_sums.sum(axis=1) # sum over all candidates by dollar range (sum over the columns bucketing by the rows)\n",
    "total_in_ranges\n",
    "bucket_sums.div(total_in_ranges, axis=0) # the axis passed tells which axis matches.  "
   ]
  },
  {
   "cell_type": "code",
   "execution_count": null,
   "metadata": {
    "collapsed": false,
    "deletable": true,
    "editable": true
   },
   "outputs": [],
   "source": [
    "# Aggregate by state\n",
    "\n",
    "# Split\n",
    "grouped = fec_leaders.groupby(['cand_nm','contbr_st'])\n",
    "\n",
    "# Combined\n",
    "grouped.size().unstack(0) # 0 is the level passed\n",
    "\n",
    "per_state = grouped['contb_receipt_amt'].sum().unstack(0).fillna(0)\n",
    "total_by_state = per_state.sum(axis=1)\n",
    "per_state.div(total_by_state, axis=0)"
   ]
  },
  {
   "cell_type": "code",
   "execution_count": null,
   "metadata": {
    "collapsed": false,
    "deletable": true,
    "editable": true
   },
   "outputs": [],
   "source": []
  },
  {
   "cell_type": "code",
   "execution_count": null,
   "metadata": {
    "collapsed": true,
    "deletable": true,
    "editable": true
   },
   "outputs": [],
   "source": []
  },
  {
   "cell_type": "code",
   "execution_count": null,
   "metadata": {
    "collapsed": true,
    "deletable": true,
    "editable": true
   },
   "outputs": [],
   "source": []
  },
  {
   "cell_type": "code",
   "execution_count": null,
   "metadata": {
    "collapsed": true,
    "deletable": true,
    "editable": true
   },
   "outputs": [],
   "source": []
  },
  {
   "cell_type": "code",
   "execution_count": null,
   "metadata": {
    "collapsed": true,
    "deletable": true,
    "editable": true
   },
   "outputs": [],
   "source": []
  },
  {
   "cell_type": "code",
   "execution_count": null,
   "metadata": {
    "collapsed": true,
    "deletable": true,
    "editable": true
   },
   "outputs": [],
   "source": []
  },
  {
   "cell_type": "code",
   "execution_count": null,
   "metadata": {
    "collapsed": true,
    "deletable": true,
    "editable": true
   },
   "outputs": [],
   "source": []
  },
  {
   "cell_type": "code",
   "execution_count": null,
   "metadata": {
    "collapsed": true,
    "deletable": true,
    "editable": true
   },
   "outputs": [],
   "source": []
  },
  {
   "cell_type": "code",
   "execution_count": null,
   "metadata": {
    "collapsed": true,
    "deletable": true,
    "editable": true
   },
   "outputs": [],
   "source": []
  },
  {
   "cell_type": "code",
   "execution_count": null,
   "metadata": {
    "collapsed": true,
    "deletable": true,
    "editable": true
   },
   "outputs": [],
   "source": []
  },
  {
   "cell_type": "code",
   "execution_count": null,
   "metadata": {
    "collapsed": true,
    "deletable": true,
    "editable": true
   },
   "outputs": [],
   "source": []
  },
  {
   "cell_type": "code",
   "execution_count": null,
   "metadata": {
    "collapsed": true,
    "deletable": true,
    "editable": true
   },
   "outputs": [],
   "source": []
  },
  {
   "cell_type": "code",
   "execution_count": null,
   "metadata": {
    "collapsed": true,
    "deletable": true,
    "editable": true
   },
   "outputs": [],
   "source": []
  },
  {
   "cell_type": "code",
   "execution_count": null,
   "metadata": {
    "collapsed": true,
    "deletable": true,
    "editable": true
   },
   "outputs": [],
   "source": []
  },
  {
   "cell_type": "code",
   "execution_count": null,
   "metadata": {
    "collapsed": true,
    "deletable": true,
    "editable": true
   },
   "outputs": [],
   "source": []
  },
  {
   "cell_type": "code",
   "execution_count": null,
   "metadata": {
    "collapsed": true,
    "deletable": true,
    "editable": true
   },
   "outputs": [],
   "source": []
  }
 ],
 "metadata": {
  "kernelspec": {
   "display_name": "Python 2",
   "language": "python",
   "name": "python2"
  },
  "language_info": {
   "codemirror_mode": {
    "name": "ipython",
    "version": 2
   },
   "file_extension": ".py",
   "mimetype": "text/x-python",
   "name": "python",
   "nbconvert_exporter": "python",
   "pygments_lexer": "ipython2",
   "version": "2.7.13"
  }
 },
 "nbformat": 4,
 "nbformat_minor": 0
}
