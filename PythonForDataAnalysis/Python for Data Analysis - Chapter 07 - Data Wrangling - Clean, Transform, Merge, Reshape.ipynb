{
 "cells": [
  {
   "cell_type": "code",
   "execution_count": 1,
   "metadata": {
    "collapsed": false,
    "deletable": true,
    "editable": true
   },
   "outputs": [
    {
     "data": {
      "text/html": [
       "<div>\n",
       "<table border=\"1\" class=\"dataframe\">\n",
       "  <thead>\n",
       "    <tr>\n",
       "      <th>upper</th>\n",
       "      <th colspan=\"2\" halign=\"left\">level1</th>\n",
       "      <th colspan=\"2\" halign=\"left\">level2</th>\n",
       "    </tr>\n",
       "    <tr>\n",
       "      <th>lower</th>\n",
       "      <th>one</th>\n",
       "      <th>two</th>\n",
       "      <th>three</th>\n",
       "      <th>four</th>\n",
       "    </tr>\n",
       "  </thead>\n",
       "  <tbody>\n",
       "    <tr>\n",
       "      <th>a</th>\n",
       "      <td>0</td>\n",
       "      <td>1</td>\n",
       "      <td>5.0</td>\n",
       "      <td>6.0</td>\n",
       "    </tr>\n",
       "    <tr>\n",
       "      <th>b</th>\n",
       "      <td>2</td>\n",
       "      <td>3</td>\n",
       "      <td>NaN</td>\n",
       "      <td>NaN</td>\n",
       "    </tr>\n",
       "    <tr>\n",
       "      <th>c</th>\n",
       "      <td>4</td>\n",
       "      <td>5</td>\n",
       "      <td>7.0</td>\n",
       "      <td>8.0</td>\n",
       "    </tr>\n",
       "  </tbody>\n",
       "</table>\n",
       "</div>"
      ],
      "text/plain": [
       "upper level1     level2     \n",
       "lower    one two  three four\n",
       "a          0   1    5.0  6.0\n",
       "b          2   3    NaN  NaN\n",
       "c          4   5    7.0  8.0"
      ]
     },
     "execution_count": 1,
     "metadata": {},
     "output_type": "execute_result"
    }
   ],
   "source": [
    "import pandas as pd\n",
    "import numpy as np\n",
    "\n",
    "\"\"\"\n",
    "Begun 8/30/2016\n",
    "Python for Data Analysis - Chapter 7 - Data Wrangling: Clean, Transform, Merge, Reshape\n",
    "\n",
    "Things to review:\n",
    "\n",
    "---\n",
    "Things learned here:\n",
    "\n",
    "\n",
    "pd.merge(df1, df2) - like a SQL Join - Best used for columns\n",
    "    Examples\n",
    "        pd.merge(df1, df2, on='key')\n",
    "        pdf.merge(df1, df2, left_on = 'left_df1_key', right_on = 'right_df2_key')\n",
    "        pdf.merge(df1, df2, how='outer')\n",
    "    Keys can be lists of column names for joining on multiple columns\n",
    "    When joining column-by-column, indexes on the passed DataFrame objects are discarded\n",
    "    ** See Table 7-1 for the merge() function arguments.  \n",
    "        suffixes for matching column names = ('_left_suffix', '_right_suff')  # A tuple, not a list\n",
    "        Index Merge - right_index = True or left_index = True if the rigth or left df should \n",
    "\n",
    "    MultiIndex merge - Pass a list of columns or specify right_index and left_index\n",
    "\n",
    "Joining on Indexes - Better done with a Join\n",
    "    left_df.join(right_df, on='key')\n",
    "        # Joins are always left joins\n",
    "    left_df.join([right_df, another_df])  \n",
    "        # A simple way to do index-on-index merges\n",
    "    Join supports most of the parameters of merge\n",
    "\n",
    "pd.concat - like a SQL Union - \"stacks together objects along an axis\"\n",
    "    pd.concat([df1, df2], axis=0, keys=[...])\n",
    "    Pased parameters can be series or dataframe\n",
    "        axis = 0 v. axis = 1\n",
    "        inner\n",
    "        outer\n",
    "        more than 2 DFs\n",
    "        names\n",
    "    Create a hierarchical index from concatenated data\n",
    "    ** See Table 7-2 for the concat() function arguments.  \n",
    "\n",
    "combine_first - \"enables splicing together overlapping data to fill in missing values in one object with values from another.\"\n",
    "    Like a \"coalesce\" to pull the first non-null value at that index for the provided column of the series of DF\n",
    "\n",
    "\n",
    "Reshaping and pivoting\n",
    "    stack - columns --> rows\n",
    "    unstack - rows --> columns\n",
    "        Think alphabetical order.  [stack / unstack] --> [col-->row / row --> col]\n",
    "        \n",
    "    df.stack() - move innermost cols to innermost rows.  \"make taller not wider\"\n",
    "    df.unstack() - move innermost rows to innermost cols.  \"make wider not taller\"\n",
    "        - Unstack stakes a union of all of the values in the row it's moving and makes them cols\n",
    "        - Some other row levels may be missing those inner row keys, in which case they get NaN in the resulting (row, col) cell\n",
    "        \n",
    "    NaN & Stack\n",
    "        - When df.stack() will result in NaNs, they will automatically be dropped by default\n",
    "        - df.stack(dropna=False) will preserve them in the taller DF\n",
    "    \n",
    "    df.stack(level='level_name') or df.unstack(level='level_name') will perform the same operation on a specific level\n",
    "    \n",
    "    Also works with series equivalently.\n",
    "\n",
    "Pivoting \n",
    "    Pivot is a shortcut for creating a hierarchical index and then reshaping\n",
    "    It turns \"long\" data into \"wide\" data.\n",
    "    df.set_index(['col1','col2']).unstack('col2')['value'] === df.pivot('col1','col2','value')\n",
    "        # The third 'value' parameter is optional\n",
    "    \n",
    "Data Cleaning and Transformation\n",
    "    Series.map(obj)\n",
    "    Series.map(lambda x: obj(x))\n",
    "    \n",
    "\n",
    "\n",
    "\"\"\"\n",
    "\n",
    "# Important snippets:\n",
    "\n",
    "# Concat with DataFrames -- pass objects in a dict\n",
    "df1 = pd.DataFrame(np.arange(6).reshape(3,2), index=['a', 'b', 'c'], columns=['one', 'two'])\n",
    "df2 = pd.DataFrame(5+ np.arange(4).reshape(2,2), index=['a','c'], columns=['three','four'])\n",
    "pd.concat([df1, df2], axis=1, keys=['level1', 'level2'],names=['upper', 'lower'])"
   ]
  },
  {
   "cell_type": "code",
   "execution_count": null,
   "metadata": {
    "collapsed": false,
    "deletable": true,
    "editable": true
   },
   "outputs": [],
   "source": []
  },
  {
   "cell_type": "code",
   "execution_count": null,
   "metadata": {
    "collapsed": false,
    "deletable": true,
    "editable": true
   },
   "outputs": [],
   "source": [
    "# Merge\n",
    "\n",
    "df1 = pd.DataFrame({'key': ['b','b', 'a', 'c', 'a', 'a', 'b'],\n",
    "                   'data1': range(7)})\n",
    "df1"
   ]
  },
  {
   "cell_type": "code",
   "execution_count": null,
   "metadata": {
    "collapsed": false,
    "deletable": true,
    "editable": true
   },
   "outputs": [],
   "source": [
    "df2 = pd.DataFrame({'key': ['a', 'b', 'd'],\n",
    "                   'data2': range(3)})\n",
    "df2"
   ]
  },
  {
   "cell_type": "code",
   "execution_count": null,
   "metadata": {
    "collapsed": false,
    "deletable": true,
    "editable": true
   },
   "outputs": [],
   "source": [
    "# When not specified explicitly, pd.merge() uses overlapping column names as keys\n",
    "pd.merge(df1, df2)\n",
    "    # merged on \"key\" column\n",
    "    # Rows with keys c and d are missing from the merge because they are not keys in both dataframes"
   ]
  },
  {
   "cell_type": "code",
   "execution_count": null,
   "metadata": {
    "collapsed": false,
    "deletable": true,
    "editable": true
   },
   "outputs": [],
   "source": [
    "# Specifying explicitly is good practice and will yield identical results\n",
    "pd.merge(df1, df2, on='key')"
   ]
  },
  {
   "cell_type": "code",
   "execution_count": null,
   "metadata": {
    "collapsed": false,
    "deletable": true,
    "editable": true
   },
   "outputs": [],
   "source": [
    "# No shared key: state explicitly the keys from each DataFrame\n",
    "df3 = pd.DataFrame({'lkey':['b','b','a','c','a','a','b'],\n",
    "                    'data1': range(7)})\n",
    "df4 = pd.DataFrame({'rkey': ['a', 'b', 'd'],\n",
    "                  'data2': range(3)})\n",
    "pd.merge(df3, df4, left_on='lkey', right_on='rkey')\n",
    "    # Be default this is an inner join\n",
    "    # Rows with keys c and d are missing from the merge because they are not keys in both dataframes"
   ]
  },
  {
   "cell_type": "code",
   "execution_count": null,
   "metadata": {
    "collapsed": false,
    "deletable": true,
    "editable": true
   },
   "outputs": [],
   "source": [
    "# Outer Join: Equivalent to combining both left and right joins\n",
    "pd.merge(df1, df2, how='outer')"
   ]
  },
  {
   "cell_type": "code",
   "execution_count": null,
   "metadata": {
    "collapsed": false,
    "deletable": true,
    "editable": true
   },
   "outputs": [],
   "source": [
    "# Many-to-many merges form a Cartesian Product of the specified keys\n",
    "df1 = pd.DataFrame({'key': ['b', 'b', 'a', 'c' ,'a', 'b'],\n",
    "                   'data1': range(6)})\n",
    "df2 = pd.DataFrame({'key': ['a', 'b', 'a', 'b', 'd'],\n",
    "                   'data2': range(5)})\n",
    "pd.merge(df1, df2, on='key', how='outer')\n",
    "    # Outer join preserves the row when the key is missing from either one"
   ]
  },
  {
   "cell_type": "code",
   "execution_count": null,
   "metadata": {
    "collapsed": false,
    "deletable": true,
    "editable": true
   },
   "outputs": [],
   "source": [
    "# Many-to-many inner join requires all keys be present -- it is still a Cartesian product\n",
    "pd.merge(df1, df2, on='key', how='inner')"
   ]
  },
  {
   "cell_type": "code",
   "execution_count": null,
   "metadata": {
    "collapsed": false,
    "deletable": true,
    "editable": true
   },
   "outputs": [],
   "source": [
    "# Joining on Multiple Column Names\n",
    "left = pd.DataFrame({'key1': ['foo', 'foo', 'bar'],\n",
    "                    'key2': ['one', 'two', 'one'],\n",
    "                    'lval': [1, 2, 3]})\n",
    "right = pd.DataFrame({'key1': ['foo', 'foo', 'bar', 'bar'],\n",
    "                     'key2': ['one', 'one', 'one', 'two'],\n",
    "                     'rval': [4,5,6,7]})\n",
    "pd.merge(left, right, on=['key1', 'key2'], how = 'outer')"
   ]
  },
  {
   "cell_type": "code",
   "execution_count": null,
   "metadata": {
    "collapsed": false,
    "deletable": true,
    "editable": true
   },
   "outputs": [],
   "source": [
    "## Merging on Index - Inner Join (Default)\n",
    "left1 = pd.DataFrame({'key': ['a', 'b', 'a', 'a', 'b', 'c'],\n",
    "                     'value': range(6)})\n",
    "right1 = pd.DataFrame({'group_val': [3.5, 7]}, index=['a', 'b'])\n",
    "pd.merge(left1, right1, left_on='key', right_index=True)\n",
    "    # specify the left_on key column and then right_index=True to use 'key' on left and the index on the right"
   ]
  },
  {
   "cell_type": "code",
   "execution_count": null,
   "metadata": {
    "collapsed": false,
    "deletable": true,
    "editable": true
   },
   "outputs": [],
   "source": [
    "# Merging on Index - Outer Join\n",
    "pd.merge(left1, right1, left_on='key', right_index=True, how='outer')"
   ]
  },
  {
   "cell_type": "code",
   "execution_count": null,
   "metadata": {
    "collapsed": false,
    "deletable": true,
    "editable": true
   },
   "outputs": [],
   "source": [
    "# Merging on Index - MultiIndex\n",
    "left_mi = pd.DataFrame({'key1': ['Ohio', 'Ohio', 'Ohio', 'Nevada', 'Nevada'],\n",
    "                        'key2': [2000, 2001, 2002, 2001, 2002],\n",
    "                        'data': np.arange(5.)})\n",
    "right_mi = pd.DataFrame(np.arange(12).reshape((6, 2)),\n",
    "                       index = [['Nevada', 'Nevada', 'Ohio', 'Ohio', 'Ohio', 'Ohio'],\n",
    "                               [2001, 2000, 2000, 2000, 2001, 2002]],\n",
    "                       columns=['event1', 'event2'])\n",
    "left_mi"
   ]
  },
  {
   "cell_type": "code",
   "execution_count": null,
   "metadata": {
    "collapsed": false,
    "deletable": true,
    "editable": true
   },
   "outputs": [],
   "source": [
    "right_mi"
   ]
  },
  {
   "cell_type": "code",
   "execution_count": null,
   "metadata": {
    "collapsed": false,
    "deletable": true,
    "editable": true
   },
   "outputs": [],
   "source": [
    "# Multiple columns have to be passed as a list\n",
    "pd.merge(left_mi, right_mi, left_on=['key1', 'key2'], right_index=True)\n",
    "\n",
    "# Note that the new dataframe uses the index of the left dataframe"
   ]
  },
  {
   "cell_type": "code",
   "execution_count": null,
   "metadata": {
    "collapsed": false,
    "deletable": true,
    "editable": true,
    "scrolled": true
   },
   "outputs": [],
   "source": [
    "# Merging on the Multi Index of both df requires nothing special - just set right_index=True and left_index=True\n",
    "left2 = pd.DataFrame([[1., 2.], [3., 4.], [5., 6.]], index=['a', 'c', 'e'], columns=['Ohio', 'Nevada'])\n",
    "right2 = pd.DataFrame([[7., 8.], [9., 10.], [11., 12.], [13, 14]], index=['b', 'c', 'd', 'e'], columns=['Missouri', 'Alabama'])\n",
    "pd.merge(left2, right2, left_index=True, right_index=True, how='outer')"
   ]
  },
  {
   "cell_type": "code",
   "execution_count": null,
   "metadata": {
    "collapsed": false,
    "deletable": true,
    "editable": true
   },
   "outputs": [],
   "source": [
    "## Using Join instead of Merge for Index merges\n",
    "left2.join(right2, how='outer')"
   ]
  },
  {
   "cell_type": "code",
   "execution_count": null,
   "metadata": {
    "collapsed": false,
    "deletable": true,
    "editable": true
   },
   "outputs": [],
   "source": [
    "## Can also join the column of the calling DF to an index of the passed DF\n",
    "left1.join(right1, on='key')\n",
    "    # key is a column in left1 and its values are also in the index of right"
   ]
  },
  {
   "cell_type": "code",
   "execution_count": null,
   "metadata": {
    "collapsed": false,
    "deletable": true,
    "editable": true
   },
   "outputs": [],
   "source": [
    "# For simple index-on-index merges, join can be fast & simple\n",
    "another = pd.DataFrame([[7., 8], [9., 10], [11., 12], [16., 17.]],\n",
    "                      index=['a', 'c', 'e', 'f'], columns=['New York', 'Oregon'])\n",
    "another"
   ]
  },
  {
   "cell_type": "code",
   "execution_count": null,
   "metadata": {
    "collapsed": false,
    "deletable": true,
    "editable": true
   },
   "outputs": [],
   "source": [
    "left2.join(right2)"
   ]
  },
  {
   "cell_type": "code",
   "execution_count": null,
   "metadata": {
    "collapsed": false,
    "deletable": true,
    "editable": true
   },
   "outputs": [],
   "source": [
    "# Joining on multiple data frames requires putting the inner data frames in a list\n",
    "left2.join([right2, another])"
   ]
  },
  {
   "cell_type": "code",
   "execution_count": null,
   "metadata": {
    "collapsed": false,
    "deletable": true,
    "editable": true
   },
   "outputs": [],
   "source": [
    "left2.join([right2, another], how='outer')"
   ]
  },
  {
   "cell_type": "code",
   "execution_count": null,
   "metadata": {
    "collapsed": false,
    "deletable": true,
    "editable": true
   },
   "outputs": [],
   "source": [
    "### Concatenation -- a.k.a. Stacking or Binding\n",
    "arr = np.arange(12).reshape((3, 4))\n",
    "arr"
   ]
  },
  {
   "cell_type": "code",
   "execution_count": null,
   "metadata": {
    "collapsed": false,
    "deletable": true,
    "editable": true
   },
   "outputs": [],
   "source": [
    "np.concatenate([arr, arr])\n",
    "    # By default the appending happens along axis = 0\n",
    "    # I.e. the append applies on rows."
   ]
  },
  {
   "cell_type": "code",
   "execution_count": null,
   "metadata": {
    "collapsed": false,
    "deletable": true,
    "editable": true
   },
   "outputs": [],
   "source": [
    "np.concatenate([arr, arr], axis=1)\n",
    "    # appending along axis = 1, i.e. the append applies on columns."
   ]
  },
  {
   "cell_type": "code",
   "execution_count": null,
   "metadata": {
    "collapsed": false,
    "deletable": true,
    "editable": true
   },
   "outputs": [],
   "source": [
    "# Concatenation of Series - No matching index values\n",
    "s1 = pd.Series([0, 1], index=['a', 'b'])\n",
    "s2 = pd.Series([2, 3, 4], index=['c', 'd', 'e'])\n",
    "s3 = pd.Series([5, 6], index=['f', 'g'])\n",
    "pd.concat([s1, s2, s3])\n",
    "    # Along axis=0 by default"
   ]
  },
  {
   "cell_type": "code",
   "execution_count": null,
   "metadata": {
    "collapsed": false,
    "deletable": true,
    "editable": true
   },
   "outputs": [],
   "source": [
    "# Cocnatenation of Multiple Series on axis=1\n",
    "pd.concat([s1, s2, s3], axis=1)\n",
    "    # Appended as columns.  Indexes provided don't match so need to append new index as well.  Gives Waterfall appearance."
   ]
  },
  {
   "cell_type": "code",
   "execution_count": null,
   "metadata": {
    "collapsed": false,
    "deletable": true,
    "editable": true
   },
   "outputs": [],
   "source": [
    "# Concatenation along axes - More examples\n",
    "s4 = pd.concat([s1 * 5, s3])\n",
    "s4"
   ]
  },
  {
   "cell_type": "code",
   "execution_count": null,
   "metadata": {
    "collapsed": false,
    "deletable": true,
    "editable": true
   },
   "outputs": [],
   "source": [
    "# Concatenation with some index values overlapping - Default \n",
    "pd.concat([s1, s4], axis=1)\n",
    "    # Concatenation by default will preserve all the values in the source DataFrames - creates a union of the Indexes\n",
    "    # Does NOT create a cartesian product but instead lines up matching indices like an left join"
   ]
  },
  {
   "cell_type": "code",
   "execution_count": null,
   "metadata": {
    "collapsed": false,
    "deletable": true,
    "editable": true
   },
   "outputs": [],
   "source": [
    "# Concatenation with some index values overlapping - Inner\n",
    "pd.concat([s1, s4], axis=1, join='inner')\n",
    "    # Specifying inner will require that all indexes are matching"
   ]
  },
  {
   "cell_type": "code",
   "execution_count": null,
   "metadata": {
    "collapsed": false,
    "deletable": true,
    "editable": true
   },
   "outputs": [],
   "source": [
    "# Concatenation using specified axes - the specified axes don't have to exist\n",
    "pd.concat([s1, s4], axis=1, join_axes=[['a', 'c', 'b', 'e']])"
   ]
  },
  {
   "cell_type": "code",
   "execution_count": null,
   "metadata": {
    "collapsed": false,
    "deletable": true,
    "editable": true
   },
   "outputs": [],
   "source": [
    "# Create a hierarchical index (MultiIndex) that includes a concatenation\n",
    "result = pd.concat([s1, s1, s3], keys=['one', 'two', 'three'])\n",
    "result\n",
    "    # Specifies an outer index for each series passed."
   ]
  },
  {
   "cell_type": "code",
   "execution_count": null,
   "metadata": {
    "collapsed": false,
    "deletable": true,
    "editable": true
   },
   "outputs": [],
   "source": [
    "### Stacking, Unstacking\n",
    "# Stacking: Col Index --> Row Index (Stacking comes first alphabetically and Cols --> Rows is alphabetical)\n",
    "# Unstacking: Row Index --> Col Index (Unstacking comes next alphabetically and Rows --> Cols is anti-alphabetical)\n",
    "\n",
    "# Move the innermost index to columns using series.unstack()\n",
    "result.unstack()"
   ]
  },
  {
   "cell_type": "code",
   "execution_count": null,
   "metadata": {
    "collapsed": false,
    "deletable": true,
    "editable": true
   },
   "outputs": [],
   "source": [
    "# When combining along axis=1, the keys become df column headers\n",
    "pd.concat([s1, s2, s3], axis=1, keys=['one', 'two', 'three'])"
   ]
  },
  {
   "cell_type": "code",
   "execution_count": null,
   "metadata": {
    "collapsed": false,
    "deletable": true,
    "editable": true
   },
   "outputs": [],
   "source": [
    "# You can do the same thing with DataFrames -- pass objects in a dict\n",
    "df1 = pd.DataFrame(np.arange(6).reshape(3,2), index=['a', 'b', 'c'], columns=['one', 'two'])\n",
    "df2 = pd.DataFrame(5+ np.arange(4).reshape(2,2), index=['a','c'], columns=['three','four'])\n",
    "pd.concat([df1, df2], axis=1, keys=['level1', 'level2'])"
   ]
  },
  {
   "cell_type": "code",
   "execution_count": null,
   "metadata": {
    "collapsed": false,
    "deletable": true,
    "editable": true
   },
   "outputs": [],
   "source": [
    "# Passing a dict with keys results in the same output\n",
    "pd.concat({'level1':df1, 'level2': df2}, axis=1)"
   ]
  },
  {
   "cell_type": "code",
   "execution_count": null,
   "metadata": {
    "collapsed": false,
    "deletable": true,
    "editable": true
   },
   "outputs": [],
   "source": [
    "# Names can specify axis names\n",
    "pd.concat([df1, df2], axis=1, keys=['level1', 'level2'], names=['upper', 'lower'])"
   ]
  },
  {
   "cell_type": "code",
   "execution_count": null,
   "metadata": {
    "collapsed": false,
    "deletable": true,
    "editable": true
   },
   "outputs": [],
   "source": [
    "# If we want to concat while ignoring indices then we can specify that and the indices get reset\n",
    "df1 = pd.DataFrame(np.random.randn(3,4), columns=['a', 'b', 'c', 'd'])\n",
    "df2 = pd.DataFrame(np.random.randn(2,3), columns=['b','d','a'])\n",
    "pd.concat([df1, df2], ignore_index=True)\n",
    "    # Otherwise indexes would stay as their original values (0,1,2) and (0,1)"
   ]
  },
  {
   "cell_type": "code",
   "execution_count": null,
   "metadata": {
    "collapsed": false,
    "deletable": true,
    "editable": true
   },
   "outputs": [],
   "source": [
    "# combine_first -- Combining data frames index-by-index with \"coalesce\"-style operation\n",
    "a = pd.Series([np.nan, 2.5, np.nan, 3.5, 4.5, np.nan],\n",
    "                index=['f','e','d','c','b','a'])\n",
    "a"
   ]
  },
  {
   "cell_type": "code",
   "execution_count": null,
   "metadata": {
    "collapsed": false,
    "deletable": true,
    "editable": true
   },
   "outputs": [],
   "source": [
    "b = pd.Series(np.arange(len(a), dtype =np.float64),\n",
    "              index=['f','e','d','c','b','a'])\n",
    "b[-1] = np.nan\n",
    "b"
   ]
  },
  {
   "cell_type": "code",
   "execution_count": null,
   "metadata": {
    "collapsed": false,
    "deletable": true,
    "editable": true
   },
   "outputs": [],
   "source": [
    "# combine_first Example - Series\n",
    "a.combine_first(b)"
   ]
  },
  {
   "cell_type": "code",
   "execution_count": null,
   "metadata": {
    "collapsed": false,
    "deletable": true,
    "editable": true
   },
   "outputs": [],
   "source": [
    "# combine_first Example - DataFrame\n",
    "df1 = pd.DataFrame({'a':[1., np.nan, 5., np.nan]\n",
    "                    ,'b':[np.nan, 2., np.nan, 6.]\n",
    "                    ,'c': range(2, 18, 4)})\n",
    "df2 = pd.DataFrame({'a':[5., 4., np.nan, 3., 7.]\n",
    "                   , 'b':[np.nan, 3., 4., 6., 8.]}\n",
    "                  )\n",
    "# Indexes are 0, 1, 2, 3\n",
    "df1.combine_first(df2)\n",
    "    # "
   ]
  },
  {
   "cell_type": "code",
   "execution_count": null,
   "metadata": {
    "collapsed": false,
    "deletable": true,
    "editable": true
   },
   "outputs": [],
   "source": [
    "##### Reshape and Pivot Operations\n",
    "data = pd.DataFrame(np.arange(6).reshape(2,3),\n",
    "             index=pd.Index(['Ohio','Colorado'], name='state'),\n",
    "            columns=pd.Index(['one','two','three'], name='number'))\n",
    "data"
   ]
  },
  {
   "cell_type": "code",
   "execution_count": null,
   "metadata": {
    "collapsed": false,
    "deletable": true,
    "editable": true
   },
   "outputs": [],
   "source": [
    "pd.DataFrame({'left': result, 'right': result+5}, columns=pd.Index(['left','right']))\n",
    "#df = pd.DataFrame({'left': result, 'right': result+5}, columns=['left','right'])\n",
    "    # The commented out line, without pd.Index in the column name is equivalent"
   ]
  },
  {
   "cell_type": "code",
   "execution_count": null,
   "metadata": {
    "collapsed": false,
    "deletable": true,
    "editable": true
   },
   "outputs": [],
   "source": [
    "# df.stack() -- pivots the columns into rows.  \"stack\" - \"make it taller not wider\"\n",
    "result = data.stack()\n",
    "result"
   ]
  },
  {
   "cell_type": "code",
   "execution_count": null,
   "metadata": {
    "collapsed": false,
    "deletable": true,
    "editable": true
   },
   "outputs": [],
   "source": [
    "# series.stack() -- pivots the most inside row index into the columns.  It is the inverse operation to unstack(). \n",
    "# \"unstack\" = \"make wider not taller\"\n",
    "result.unstack()"
   ]
  },
  {
   "cell_type": "code",
   "execution_count": null,
   "metadata": {
    "collapsed": false,
    "deletable": true,
    "editable": true
   },
   "outputs": [],
   "source": [
    "# stack(level='level_name') will stack a different level than the most inside level\n",
    "result.unstack(level='state')"
   ]
  },
  {
   "cell_type": "code",
   "execution_count": null,
   "metadata": {
    "collapsed": false,
    "deletable": true,
    "editable": true
   },
   "outputs": [],
   "source": [
    "s1 = pd.Series([0, 1, 2, 3], index=['a', 'b', 'c', 'd'])\n",
    "s2 = pd.Series([4, 5, 6], index=['c', 'd', 'e'])\n",
    "data2 = pd.concat([s1, s2], keys=['one','two'])\n",
    "    # Stacks s1 and s2 on top with new keys 'one' for s1 data and 'two' for s2 data\n",
    "data2"
   ]
  },
  {
   "cell_type": "code",
   "execution_count": null,
   "metadata": {
    "collapsed": false,
    "deletable": true,
    "editable": true
   },
   "outputs": [],
   "source": [
    "data2.unstack()\n",
    "    # Takes a union\n",
    "    # Note that it turned the dtype into a float!"
   ]
  },
  {
   "cell_type": "code",
   "execution_count": null,
   "metadata": {
    "collapsed": false,
    "deletable": true,
    "editable": true
   },
   "outputs": [],
   "source": [
    "# df.stack() automatically drops nan's by Default\n",
    "data2.unstack().stack()"
   ]
  },
  {
   "cell_type": "code",
   "execution_count": null,
   "metadata": {
    "collapsed": false,
    "deletable": true,
    "editable": true
   },
   "outputs": [],
   "source": [
    "# df.stack(dropna=False) will keep them\n",
    "data2.unstack().stack(dropna=False)"
   ]
  },
  {
   "cell_type": "code",
   "execution_count": null,
   "metadata": {
    "collapsed": false,
    "deletable": true,
    "editable": true,
    "scrolled": true
   },
   "outputs": [],
   "source": [
    "#### Long and Wide formats\n",
    "\n",
    "# Data is imported in a \"wide\" format\n",
    "data = pd.read_csv('ch07/macrodata.csv')\n",
    "periods = pd.PeriodIndex(year = data.year, quarter = data.quarter, name='date')\n",
    "data = pd.DataFrame(data.to_records(), columns=pd.Index(['realgdp', 'infl', 'unemp'], name='item'), index=periods.to_timestamp('D','end'))\n",
    "data\n",
    "# The transformations keep it in that wide format, just take a subset of the columns and creates a \"date\" column as an index."
   ]
  },
  {
   "cell_type": "code",
   "execution_count": null,
   "metadata": {
    "collapsed": false,
    "deletable": true,
    "editable": true
   },
   "outputs": [],
   "source": [
    "# Turn it into a stacked format with a (date, item, value) tuple per row\n",
    "# That makes this more flexible as the item types change, but harder to sum across rows\n",
    "ldata = data.stack().reset_index().rename(columns={0: 'value'})\n",
    "ldata[:10]"
   ]
  },
  {
   "cell_type": "code",
   "execution_count": null,
   "metadata": {
    "collapsed": false,
    "deletable": true,
    "editable": true
   },
   "outputs": [],
   "source": [
    "# Turn Long data into Wide data with df.pivot()\n",
    "pivoted = ldata.pivot('date', 'item', 'value')\n",
    "#pivoted = ldata.pivot('date', 'item')['value']\n",
    "pivoted.head()\n",
    "\n",
    "# pivot(first, second, value)\n",
    "# --> distinct values in first is used as rows\n",
    "# --> distinct values in second is used as columns\n",
    "# --> if \"value\" is passed then it is equivalent to ldata.pivot('data','item')['value]\n",
    "# Leaving it out puts \"value\" as a hierarchical index on top of the item columns"
   ]
  },
  {
   "cell_type": "code",
   "execution_count": null,
   "metadata": {
    "collapsed": false,
    "deletable": true,
    "editable": true
   },
   "outputs": [],
   "source": [
    "# Pivot with 2 data columns makes it obvious we're creating a hierarchical index\n",
    "ldata['value2'] = np.random.randn(len(ldata))\n",
    "ldata[:10]\n",
    "pivoted = ldata.pivot('date','item')\n",
    "pivoted.head()\n",
    "\n",
    "# Leaving out value and value2 leaves them as hierarchical indexes above the item columns"
   ]
  },
  {
   "cell_type": "code",
   "execution_count": null,
   "metadata": {
    "collapsed": false,
    "deletable": true,
    "editable": true
   },
   "outputs": [],
   "source": [
    "# Adding the 3rd criteria drills down on a particular element of the hierarchical index\n",
    "pivoted = ldata.pivot('date','item','value')\n",
    "pivoted.head()\n"
   ]
  },
  {
   "cell_type": "code",
   "execution_count": null,
   "metadata": {
    "collapsed": false,
    "deletable": true,
    "editable": true
   },
   "outputs": [],
   "source": [
    "# As you may have guessed, pivot is just a shortcut for using set_index and reshaping with unstack\n",
    "ldata.set_index(['date','item']).unstack('item')['value'].head()\n",
    "# Take the DF, set a new multi-index, take the inner value of that axis=0 index and put it as the inner value of the axis=1 index"
   ]
  },
  {
   "cell_type": "code",
   "execution_count": null,
   "metadata": {
    "collapsed": false,
    "deletable": true,
    "editable": true
   },
   "outputs": [],
   "source": [
    "### Data Filtering, Cleaning, and Transformations\n",
    "\n",
    "data = pd.DataFrame({'k1': ['one'] * 3 + ['two'] * 4, 'k2': [1, 1, 2, 3, 3, 4, 4]})\n",
    "data"
   ]
  },
  {
   "cell_type": "code",
   "execution_count": null,
   "metadata": {
    "collapsed": false,
    "deletable": true,
    "editable": true
   },
   "outputs": [],
   "source": [
    "# df.duplicated() returns whether each row is a duplicate of another row higher up\n",
    "# It does not include the first row found that matches a row farther down the chain\n",
    "data.duplicated()"
   ]
  },
  {
   "cell_type": "code",
   "execution_count": null,
   "metadata": {
    "collapsed": false,
    "deletable": true,
    "editable": true
   },
   "outputs": [],
   "source": [
    "# Drop duplicates using the usual Boolean techniques or by using the data.drop_duplicates() function\n",
    "data[data.duplicated()==False], data.drop_duplicates()\n",
    "# Identical output!"
   ]
  },
  {
   "cell_type": "code",
   "execution_count": null,
   "metadata": {
    "collapsed": false,
    "deletable": true,
    "editable": true
   },
   "outputs": [],
   "source": [
    "# Be default, duplicates() considers a row a duplicate only if all column values in that row match\n",
    "# Filter for duplicates in a single column only:\n",
    "\n",
    "data['v1']=range(7)\n",
    "data.drop_duplicates(['k1']) # Filter on the k1 column only"
   ]
  },
  {
   "cell_type": "code",
   "execution_count": null,
   "metadata": {
    "collapsed": false,
    "deletable": true,
    "editable": true
   },
   "outputs": [],
   "source": [
    "# df.drop_duplicates(['k1'], keep = 'last') forces drop_duplicates to keep the last value instead of the first value\n",
    "data.drop_duplicates(['k1','k2'], keep = 'last')\n",
    "    # This is relevant because additional columns may be sorted, so we might want the first or last value in the other column"
   ]
  },
  {
   "cell_type": "code",
   "execution_count": null,
   "metadata": {
    "collapsed": false,
    "deletable": true,
    "editable": true
   },
   "outputs": [],
   "source": [
    "## Mapping -- perform some operation based on the values in an array, Series, or column.\n",
    "\n",
    "data = pd.DataFrame({'food': ['bacon', 'pulled pork', 'bacon', 'Pastrami', 'corned beef', 'Bacon', 'pastrami', 'honey ham', 'nova lox'], \n",
    "                    'ounces': [4, 3, 12, 6, 7.5, 8, 3, 5, 6]})\n",
    "data"
   ]
  },
  {
   "cell_type": "code",
   "execution_count": null,
   "metadata": {
    "collapsed": false,
    "deletable": true,
    "editable": true
   },
   "outputs": [],
   "source": [
    "# Map for element-wise transformations and data cleaning -- e.g. Add a column\n",
    "meat_to_animal = {'bacon': 'pig', 'pulled pork': 'pig', 'bacon': 'pig', 'pastrami': 'cow', 'corned beef': 'cow', 'honey ham': 'pig', 'nova lox': 'salmon'}\n",
    "meat_to_animal\n",
    "data['animal'] = data['food'].map(str.lower).map(meat_to_animal)\n",
    "data"
   ]
  },
  {
   "cell_type": "code",
   "execution_count": null,
   "metadata": {
    "collapsed": false,
    "deletable": true,
    "editable": true
   },
   "outputs": [],
   "source": [
    "# A lambda is equivalent to passing the function name itself in a map\n",
    "# Notice the lack of () in the functions in the cell above: is because you're just passing the function object, not calling the function\n",
    "# With Lambda, you're explicitly calling the function row by row; with just map(obj) you're passing the object to map,\n",
    "# which could be a function or could be another type of object.\n",
    "# Passing just a dict\n",
    "data['food'].map(lambda x: meat_to_animal[x.lower()])"
   ]
  },
  {
   "cell_type": "code",
   "execution_count": null,
   "metadata": {
    "collapsed": false,
    "deletable": true,
    "editable": true
   },
   "outputs": [],
   "source": [
    "# Replacing Values in a Series\n",
    "data = pd.Series([1., -999., 2., -999., -1000, 3.])\n",
    "data.replace(-999, np.nan) # Replace -999 with np.nan\n",
    "data.replace([-999, -1000], np.nan) # Replace different values with np.nan\n",
    "data.replace([-999, -1000], [np.nan, 0]) # Use different replacement values\n",
    "data.replace([-999: np.nan, -1000, 0]) # pass multiple arguments that are 1-1 as a dict if you want"
   ]
  },
  {
   "cell_type": "code",
   "execution_count": null,
   "metadata": {
    "collapsed": false,
    "deletable": true,
    "editable": true
   },
   "outputs": [],
   "source": []
  },
  {
   "cell_type": "code",
   "execution_count": null,
   "metadata": {
    "collapsed": true,
    "deletable": true,
    "editable": true
   },
   "outputs": [],
   "source": []
  },
  {
   "cell_type": "code",
   "execution_count": null,
   "metadata": {
    "collapsed": true,
    "deletable": true,
    "editable": true
   },
   "outputs": [],
   "source": []
  },
  {
   "cell_type": "code",
   "execution_count": null,
   "metadata": {
    "collapsed": true,
    "deletable": true,
    "editable": true
   },
   "outputs": [],
   "source": []
  }
 ],
 "metadata": {
  "kernelspec": {
   "display_name": "Python 2",
   "language": "python",
   "name": "python2"
  },
  "language_info": {
   "codemirror_mode": {
    "name": "ipython",
    "version": 2
   },
   "file_extension": ".py",
   "mimetype": "text/x-python",
   "name": "python",
   "nbconvert_exporter": "python",
   "pygments_lexer": "ipython2",
   "version": "2.7.13"
  }
 },
 "nbformat": 4,
 "nbformat_minor": 0
}
