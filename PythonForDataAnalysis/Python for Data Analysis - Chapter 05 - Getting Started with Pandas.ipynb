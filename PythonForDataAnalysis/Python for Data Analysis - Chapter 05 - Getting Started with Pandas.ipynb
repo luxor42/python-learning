{
 "cells": [
  {
   "cell_type": "code",
   "execution_count": 423,
   "metadata": {
    "collapsed": false
   },
   "outputs": [],
   "source": [
    "\"\"\"\n",
    "Begun - 8/6/2016\n",
    "Python for Data Analysis - Chapter 5 - Getting Started with Pandas\n",
    "\n",
    "Things to review:\n",
    "- \n",
    "\n",
    "Things learned here:\n",
    "\n",
    "Series Indexing\n",
    "    - Can think about it as a fixed-length, ordered dict\n",
    "    - Contains a data array and its index (also an array)\n",
    "        obj = Series([4, 7, -5, 3])\n",
    "        obj.values - outputs the values as an array\n",
    "        obj.index - outputs the index as a Pandas index or range\n",
    "    - Can specify the index\n",
    "        obj2 = Series([4, 7, -5, 3], index=['first','second','third','fourth'])\n",
    "        obj2['first'] \n",
    "            # outputs 4, a scalar\n",
    "        obj2[['first','third']] \n",
    "            # outputs subset of the Series object with index\n",
    "    - Can use math functions like in Numpy.  Operations are handled element-by-element on matching indices\n",
    "    - Can use it in many functions that expect a dict\n",
    "    - Can name a series, name its index, and update its index by assignment (obj.index.name = ['new', 'values'])\n",
    "\n",
    "DataFrame Indexing\n",
    "     - Creation from a dict: frame = pd.DataFrame(data). \n",
    "         Columns are automatically sorted alphabetically by key value of the dict\n",
    "     - df['my_col'] and df.my_col are equivalent\n",
    "     - del df['my_col'] to delete column my_col\n",
    "     - The DataFrame index column is internal pd.Series that's returned in-place.\n",
    "     - Setting names of the index and the columns\n",
    "         frame3.index.name = 'year'\n",
    "         frame3.columns.name = 'state'\n",
    "    - Index objects are immutable\n",
    "        index = df.index\n",
    "        index[1] = 'a' # will be an error because index is an in-place assignment of df.index & df indices are immutable\n",
    "\n",
    "    - Types of Index Ojbects\n",
    "        Index - most general.  Axis labels in a NumPy array of Python objects\n",
    "        Int64Index - integer index.\n",
    "        MultiIndex - Hierarchical Index of nested levels\n",
    "        DatatimeIndex - Stores nanosecond timestamps (using NumPy's datetime63 dtype)\n",
    "        PeriodIndex - Stores timespans (\"periods\")\n",
    "    - See lots of index methods in Table 5-3.  A few here:\n",
    "        append - Concatenate with additional index objects.  Very useful for adding to a multi-index (as done in OM)\n",
    "        unique - compare the array of unique values of the index\n",
    "    - Reindex - Change the starting index element-by-element\n",
    "        method= ... gives the ability to fill in NaNs resulting from the reindex\n",
    "            method = ffill, method = backfille.  Fill values forward.  Fill values backward.\n",
    "        Can also changes column values\n",
    "    - drop indexes - applies to rows and columns (for columns must specify axis = 1)\n",
    "        Does NOT drop in-place\n",
    "    \n",
    "Indexing, Selection, & Filtering\n",
    "    - Series: selections like series['selection'] work when 'selection' is an index (i.e. row name)\n",
    "    - Data Frame: selections like series['selection'] work when 'selection' is a column name\n",
    "    - Index-based selection in a df: df.ix[[index or index range], [column or column range]]\n",
    "        If only 1 parameter is given it's assumed to be an index reference\n",
    "        If only 1 parameter with a single value is given then the result is a Series that's weirdly transposed\n",
    "            Columns are the new index of the Series and the column values are the Series values\n",
    "    \n",
    "Data Alignment and Arithmetic\n",
    "    - df1.add(df2).fillna(0) is a rubric.  Much safer than just df1 + df2\n",
    "\n",
    "Broadcasting - Arithmetic between DF's and Series\n",
    "    - \"By default, arithmetic between DataFrame and Series matches the index of the Series on the DataFrame's columns,\n",
    "        broadcasting down the rows.\"\n",
    "    - df.add(series, axis=0) will match on index of df and index of series.\n",
    "    - apply - applies functions column-by-column or row-by-row \n",
    "    - map - applies functions element-by-element to a series\n",
    "    - applymap - applies functions element-by-element to a DataFrame\n",
    "\n",
    "Sorting\n",
    "    - sorting by index or column name\n",
    "        series.sort_index()\n",
    "        df.sort_index()\n",
    "        df.sort_index(axis=1) # by column\n",
    "        df.sort_index(axis=1, ascending=False) # by column descending\n",
    "    - sorting by value\n",
    "        series.sort_values()\n",
    "        df.sort_values(by=['column'])  # column list or single value\n",
    "        df.sort_Values(axis=1)\n",
    "\n",
    "Ranking values\n",
    "    - obj.rank() # Break ties by using the average rank of the things that are tied        \n",
    "        obj.rank(method = 'first') # Break ties by using the order of the tied value's occurrence in the column\n",
    "        obj.rank(method = 'max')   # Break ties by using the maximum rank of the things that are tied\n",
    "        obj.rank(method = 'min')   # Break ties by using the minimum rank of the things that are tied\n",
    "        obj.rank(method = 'average') # THIS IS THE DEFAULT!\n",
    "        obj.rank(ascending = False) # rank by descending value. Can be paired with the above methods\n",
    "\n",
    "Statistics\n",
    "    Reductions\n",
    "    - df.sum(), df.mean(), df.idxmin, df.idxmax\n",
    "      df.sum(axis=1) # summing column-by-column summing over rows\n",
    "      df.sum(skipna=False) # by default, NA values are ignored\n",
    "      df.sum(level=this_index) # for MultiIndex indexes\n",
    "\n",
    "    Accumulations\n",
    "    - df.cumsum(), df.pct_change\n",
    "      Parameters are the same as with reduction statistics (axes, levels, skipna, etc.)\n",
    "\n",
    "    Statistical Wrappers\n",
    "    - df.describe() # produces a list of statistics e.g. for numeric data (mean, std, min, max, 25%, 50%, 75%, max)\n",
    "\n",
    "    Correlation, Covariance\n",
    "    - Series v. Series:   series1.corr(series2) # returns a single number\n",
    "                series1.cov(series2)            # returns a single number\n",
    "    - DataFrame v. DataFrame: df1.corr(df2) and df1.cov(df2) results in correlation and covariance matricies\n",
    "    - DataFrame with Pairwise DataFrame: df1.corrwith(df2) # Returns a single number for each label match\n",
    "    - DataFrame with Pairwise Series: df1.corrwith(series) # Returns a single number for each label of df1\n",
    "\n",
    "Uniqueness, Value Counting, Vectorized Membership Test\n",
    "    - series.unique()\n",
    "    - series.value_counts()\n",
    "    - series.isin(['a','b','c']) # Returns True, False etc. vectorized\n",
    "    These are series methods.  To use them with dataframes, use apply.  df.apply(pd.value_counts).fillna(0) <-- you made a histogram!\n",
    "\n",
    "Missing data\n",
    "    - dropna() # By default drops a row that contains any NA\n",
    "        dropna(how='all') # will require all of the values to be NA before dropping the row\n",
    "        dropna(thresh=5)  # will require 5 of the values to be non-NA or else the row is dropped\n",
    "    - fillna()\n",
    "        fillna(method='ffill', limit=3) # Forward fill the NaNs up to 3 values.  If limit isn't specified then fill is unbounded.\n",
    "        fillna(0)         # Fills missing values with number 0\n",
    "        fillna(1: 2, 3:4) # Fills columns 1 and 3 with the constanrs 2 and 4\n",
    "    - fillna() can take the result of a function as well.  E.g. data.fillna(data.mean())\n",
    "\n",
    "Multiple Indexes\n",
    "    - A series can have multiple indexes\n",
    "    - series_with_multiindex.unstack() # turns it into a dataframe\n",
    "    - Either columns or rows can have multiple indices.  Just pass a multi-level vector to index=[] or columns=[]\n",
    "    - Create a MultiIndex on its own.  \n",
    "        pd.MultiIndex.from_arrays([vector1, vector2], names=name_vector)\n",
    "            For example: \n",
    "                vector1 = ['Ohio', 'Ohio', 'Colorado]\n",
    "                vector2 = ['Green', 'Red', 'Green']\n",
    "                names = ['state', 'color]\n",
    "    - Swap & Sort levels\n",
    "        df.swap_level('index1','index2')\n",
    "        df.sort_level('index2')\n",
    "        df.sort_level() sorts outside-in\n",
    "        **** Data selection performance is much better for MultiIndex operations if the index is sorted outside-in\n",
    "    - set_index(column_vector) will set the columns provided in the column vector as indices\n",
    "        df.set_index(['column1','column3'])\n",
    "    - reset_index() to move all index keys into columns and set the index to the natural numbers\n",
    "\n",
    "Statistics and Multiple Levels\n",
    "    - df.sum(level='key2')\n",
    "\n",
    "More subtle indexing tools\n",
    "    - Indexes -- To use integer-based indexing even when there is a non-integer index\n",
    "        For Series:     series.itget_value(2)\n",
    "        For DataFrame:  frame.irow(0)\n",
    "\n",
    "Pulling in Web Data\n",
    "    - from pandas_datareader import data as web\n",
    "        all_data = {}\n",
    "        for ticker in ['AAPL', 'IBM', 'MSFT', 'GOOG']:\n",
    "            all_data[ticker] = web.get_data_yahoo(ticker)\n",
    "\n",
    "Panel Data\n",
    "    - from pandas_datareader import data as web\n",
    "      pdata = pd.Panel(dict((stk, web.get_data_yahoo(stk)) for stk in ['AAPL', 'GOOG', 'MSFT', 'DELL']))\n",
    "      pdata = pdata.swapaxes('items', 'minor') # To get time on the major axis\n",
    "    - Turn it into a DataFrame\n",
    "        stacked = pdata.ix[:, '5/30/2016':, :].to_frame() # Turn\n",
    "\n",
    "\n",
    "\n",
    "Iterating Over Lists\n",
    "    - df = pd.DataFrame({a: data['column'] for a, data in all_data.iteritems()})\n",
    "        # Gives a list with index a and column data\n",
    "\n",
    "\n",
    "\"\"\"\n",
    "import pandas as pd\n",
    "import numpy as np"
   ]
  },
  {
   "cell_type": "code",
   "execution_count": null,
   "metadata": {
    "collapsed": true
   },
   "outputs": [],
   "source": []
  },
  {
   "cell_type": "code",
   "execution_count": 32,
   "metadata": {
    "collapsed": false
   },
   "outputs": [
    {
     "data": {
      "text/plain": [
       "0    4\n",
       "1    7\n",
       "2   -5\n",
       "3    3\n",
       "dtype: int64"
      ]
     },
     "execution_count": 32,
     "metadata": {},
     "output_type": "execute_result"
    }
   ],
   "source": [
    "\"\"\"\n",
    "Series\n",
    "- Contains an array of data of any NumPy data type\n",
    "- Contains an associated array of data labels called its index\n",
    "\"\"\"\n",
    "obj = pd.Series([4, 7, -5, 3])\n",
    "obj \n",
    "    # Default index is assigned from 0 - n-1"
   ]
  },
  {
   "cell_type": "code",
   "execution_count": 33,
   "metadata": {
    "collapsed": false
   },
   "outputs": [
    {
     "data": {
      "text/plain": [
       "array([ 4,  7, -5,  3])"
      ]
     },
     "execution_count": 33,
     "metadata": {},
     "output_type": "execute_result"
    }
   ],
   "source": [
    "obj.values"
   ]
  },
  {
   "cell_type": "code",
   "execution_count": 34,
   "metadata": {
    "collapsed": false
   },
   "outputs": [
    {
     "data": {
      "text/plain": [
       "RangeIndex(start=0, stop=4, step=1)"
      ]
     },
     "execution_count": 34,
     "metadata": {},
     "output_type": "execute_result"
    }
   ],
   "source": [
    "obj.index"
   ]
  },
  {
   "cell_type": "code",
   "execution_count": 35,
   "metadata": {
    "collapsed": false
   },
   "outputs": [
    {
     "data": {
      "text/plain": [
       "d    4\n",
       "b    7\n",
       "a   -5\n",
       "c    3\n",
       "dtype: int64"
      ]
     },
     "execution_count": 35,
     "metadata": {},
     "output_type": "execute_result"
    }
   ],
   "source": [
    "\"\"\"Create a Series with a specific index\"\"\"\n",
    "obj2 = pd.Series([4, 7, -5, 3], index=['d','b','a','c'])\n",
    "obj2"
   ]
  },
  {
   "cell_type": "code",
   "execution_count": 36,
   "metadata": {
    "collapsed": false
   },
   "outputs": [
    {
     "data": {
      "text/plain": [
       "Index([u'd', u'b', u'a', u'c'], dtype='object')"
      ]
     },
     "execution_count": 36,
     "metadata": {},
     "output_type": "execute_result"
    }
   ],
   "source": [
    "obj2.index"
   ]
  },
  {
   "cell_type": "code",
   "execution_count": 37,
   "metadata": {
    "collapsed": false
   },
   "outputs": [
    {
     "data": {
      "text/plain": [
       "c    3\n",
       "a   -5\n",
       "d    4\n",
       "dtype: int64"
      ]
     },
     "execution_count": 37,
     "metadata": {},
     "output_type": "execute_result"
    }
   ],
   "source": [
    "# Retrieve a single value or a subset of the Series\n",
    "obj2['a']\n",
    "obj2[['c','a','d']]"
   ]
  },
  {
   "cell_type": "code",
   "execution_count": 38,
   "metadata": {
    "collapsed": false
   },
   "outputs": [
    {
     "data": {
      "text/plain": [
       "d      54.598150\n",
       "b    1096.633158\n",
       "a       0.006738\n",
       "c      20.085537\n",
       "dtype: float64"
      ]
     },
     "execution_count": 38,
     "metadata": {},
     "output_type": "execute_result"
    }
   ],
   "source": [
    "# Filtering, scalar multiplication, and math works like in NumPy\n",
    "obj2[obj2 > 0]\n",
    "obj2 * 2\n",
    "np.exp(obj2)"
   ]
  },
  {
   "cell_type": "code",
   "execution_count": 39,
   "metadata": {
    "collapsed": false
   },
   "outputs": [
    {
     "data": {
      "text/plain": [
       "False"
      ]
     },
     "execution_count": 39,
     "metadata": {},
     "output_type": "execute_result"
    }
   ],
   "source": [
    "# Can search for values in the index using dict functions\n",
    "'b' in obj2 # True\n",
    "'e' in obj2 # False"
   ]
  },
  {
   "cell_type": "code",
   "execution_count": 40,
   "metadata": {
    "collapsed": false
   },
   "outputs": [
    {
     "data": {
      "text/plain": [
       "Ohio      35000\n",
       "Oregon    16000\n",
       "Texas     71000\n",
       "Utah       5000\n",
       "dtype: int64"
      ]
     },
     "execution_count": 40,
     "metadata": {},
     "output_type": "execute_result"
    }
   ],
   "source": [
    "\"\"\"Create a Pandas Series object from a Python dict\"\"\"\n",
    "# The dict's keys are used as the Series's index\n",
    "sdata = {'Ohio': 35000, 'Texas': 71000, 'Oregon': 16000, 'Utah': 5000}\n",
    "obj3 = pd.Series(sdata)\n",
    "obj3"
   ]
  },
  {
   "cell_type": "code",
   "execution_count": 41,
   "metadata": {
    "collapsed": false
   },
   "outputs": [
    {
     "data": {
      "text/plain": [
       "California        NaN\n",
       "Ohio          35000.0\n",
       "Oregon        16000.0\n",
       "Texas         71000.0\n",
       "dtype: float64"
      ]
     },
     "execution_count": 41,
     "metadata": {},
     "output_type": "execute_result"
    }
   ],
   "source": [
    "# Specifying an index different from the dict's keys acts \n",
    "# as a filter - the passed index is used but might not match\n",
    "# to keys in the dict. Non-matched values lead to a NaN.\n",
    "states = ['California', 'Ohio', 'Oregon', 'Texas']\n",
    "obj4 = pd.Series(sdata, index=states)\n",
    "obj4"
   ]
  },
  {
   "cell_type": "code",
   "execution_count": 42,
   "metadata": {
    "collapsed": false
   },
   "outputs": [
    {
     "data": {
      "text/plain": [
       "California    False\n",
       "Ohio           True\n",
       "Oregon         True\n",
       "Texas          True\n",
       "dtype: bool"
      ]
     },
     "execution_count": 42,
     "metadata": {},
     "output_type": "execute_result"
    }
   ],
   "source": [
    "\"\"\"Search for null / missing / NA / NaN values \"\"\"\n",
    "pd.isnull(obj4)\n",
    "pd.notnull(obj4) # equivalent to ~(pd.isnull(obj4))"
   ]
  },
  {
   "cell_type": "code",
   "execution_count": 43,
   "metadata": {
    "collapsed": false
   },
   "outputs": [
    {
     "data": {
      "text/plain": [
       "California     True\n",
       "Ohio          False\n",
       "Oregon        False\n",
       "Texas         False\n",
       "dtype: bool"
      ]
     },
     "execution_count": 43,
     "metadata": {},
     "output_type": "execute_result"
    }
   ],
   "source": [
    "# Can just use these as methods of the instance\n",
    "obj4.isnull()"
   ]
  },
  {
   "cell_type": "code",
   "execution_count": 44,
   "metadata": {
    "collapsed": false
   },
   "outputs": [
    {
     "data": {
      "text/plain": [
       "California         NaN\n",
       "Ohio           70000.0\n",
       "Oregon         32000.0\n",
       "Texas         142000.0\n",
       "Utah               NaN\n",
       "dtype: float64"
      ]
     },
     "execution_count": 44,
     "metadata": {},
     "output_type": "execute_result"
    }
   ],
   "source": [
    "# 8/22/2016\n",
    "# Pandas series add element-by-element using index matching\n",
    "obj3 + obj4"
   ]
  },
  {
   "cell_type": "code",
   "execution_count": 45,
   "metadata": {
    "collapsed": false
   },
   "outputs": [
    {
     "data": {
      "text/plain": [
       "state\n",
       "California        NaN\n",
       "Ohio          35000.0\n",
       "Oregon        16000.0\n",
       "Texas         71000.0\n",
       "Name: population, dtype: float64"
      ]
     },
     "execution_count": 45,
     "metadata": {},
     "output_type": "execute_result"
    }
   ],
   "source": [
    "# Can name the index and the Series\n",
    "obj4.name = 'population'\n",
    "obj4.index.name = 'state'\n",
    "obj4"
   ]
  },
  {
   "cell_type": "code",
   "execution_count": 46,
   "metadata": {
    "collapsed": false
   },
   "outputs": [
    {
     "data": {
      "text/plain": [
       "Bob      4\n",
       "Steve    7\n",
       "Jeff    -5\n",
       "Ryan     3\n",
       "dtype: int64"
      ]
     },
     "execution_count": 46,
     "metadata": {},
     "output_type": "execute_result"
    }
   ],
   "source": [
    "# Can alter the index in-place by asignment\n",
    "obj.index = ['Bob', 'Steve', 'Jeff', 'Ryan']\n",
    "obj"
   ]
  },
  {
   "cell_type": "code",
   "execution_count": 47,
   "metadata": {
    "collapsed": false
   },
   "outputs": [
    {
     "data": {
      "text/html": [
       "<div>\n",
       "<table border=\"1\" class=\"dataframe\">\n",
       "  <thead>\n",
       "    <tr style=\"text-align: right;\">\n",
       "      <th></th>\n",
       "      <th>pop</th>\n",
       "      <th>state</th>\n",
       "      <th>year</th>\n",
       "    </tr>\n",
       "  </thead>\n",
       "  <tbody>\n",
       "    <tr>\n",
       "      <th>0</th>\n",
       "      <td>1.5</td>\n",
       "      <td>Ohio</td>\n",
       "      <td>2000</td>\n",
       "    </tr>\n",
       "    <tr>\n",
       "      <th>1</th>\n",
       "      <td>1.7</td>\n",
       "      <td>Ohio</td>\n",
       "      <td>2001</td>\n",
       "    </tr>\n",
       "    <tr>\n",
       "      <th>2</th>\n",
       "      <td>3.6</td>\n",
       "      <td>Ohio</td>\n",
       "      <td>2002</td>\n",
       "    </tr>\n",
       "    <tr>\n",
       "      <th>3</th>\n",
       "      <td>2.4</td>\n",
       "      <td>Nevada</td>\n",
       "      <td>2001</td>\n",
       "    </tr>\n",
       "    <tr>\n",
       "      <th>4</th>\n",
       "      <td>2.9</td>\n",
       "      <td>Nevada</td>\n",
       "      <td>2001</td>\n",
       "    </tr>\n",
       "  </tbody>\n",
       "</table>\n",
       "</div>"
      ],
      "text/plain": [
       "   pop   state  year\n",
       "0  1.5    Ohio  2000\n",
       "1  1.7    Ohio  2001\n",
       "2  3.6    Ohio  2002\n",
       "3  2.4  Nevada  2001\n",
       "4  2.9  Nevada  2001"
      ]
     },
     "execution_count": 47,
     "metadata": {},
     "output_type": "execute_result"
    }
   ],
   "source": [
    "# Creating new metrics\n",
    "data = {'state': ['Ohio', 'Ohio', 'Ohio', 'Nevada', 'Nevada'],\n",
    "        'year' : [2000, 2001, 2002, 2001, 2001],\n",
    "        'pop'  : [1.5,  1.7,  3.6,  2.4,  2.9]}\n",
    "frame = pd.DataFrame(data)\n",
    "frame"
   ]
  },
  {
   "cell_type": "code",
   "execution_count": 48,
   "metadata": {
    "collapsed": false
   },
   "outputs": [
    {
     "data": {
      "text/html": [
       "<div>\n",
       "<table border=\"1\" class=\"dataframe\">\n",
       "  <thead>\n",
       "    <tr style=\"text-align: right;\">\n",
       "      <th></th>\n",
       "      <th>year</th>\n",
       "      <th>state</th>\n",
       "      <th>pop</th>\n",
       "    </tr>\n",
       "  </thead>\n",
       "  <tbody>\n",
       "    <tr>\n",
       "      <th>0</th>\n",
       "      <td>2000</td>\n",
       "      <td>Ohio</td>\n",
       "      <td>1.5</td>\n",
       "    </tr>\n",
       "    <tr>\n",
       "      <th>1</th>\n",
       "      <td>2001</td>\n",
       "      <td>Ohio</td>\n",
       "      <td>1.7</td>\n",
       "    </tr>\n",
       "    <tr>\n",
       "      <th>2</th>\n",
       "      <td>2002</td>\n",
       "      <td>Ohio</td>\n",
       "      <td>3.6</td>\n",
       "    </tr>\n",
       "    <tr>\n",
       "      <th>3</th>\n",
       "      <td>2001</td>\n",
       "      <td>Nevada</td>\n",
       "      <td>2.4</td>\n",
       "    </tr>\n",
       "    <tr>\n",
       "      <th>4</th>\n",
       "      <td>2001</td>\n",
       "      <td>Nevada</td>\n",
       "      <td>2.9</td>\n",
       "    </tr>\n",
       "  </tbody>\n",
       "</table>\n",
       "</div>"
      ],
      "text/plain": [
       "   year   state  pop\n",
       "0  2000    Ohio  1.5\n",
       "1  2001    Ohio  1.7\n",
       "2  2002    Ohio  3.6\n",
       "3  2001  Nevada  2.4\n",
       "4  2001  Nevada  2.9"
      ]
     },
     "execution_count": 48,
     "metadata": {},
     "output_type": "execute_result"
    }
   ],
   "source": [
    "# Can force an order of the columns\n",
    "pd.DataFrame(data, columns=['year', 'state', 'pop'])"
   ]
  },
  {
   "cell_type": "code",
   "execution_count": 49,
   "metadata": {
    "collapsed": false
   },
   "outputs": [
    {
     "data": {
      "text/html": [
       "<div>\n",
       "<table border=\"1\" class=\"dataframe\">\n",
       "  <thead>\n",
       "    <tr style=\"text-align: right;\">\n",
       "      <th></th>\n",
       "      <th>year</th>\n",
       "      <th>state</th>\n",
       "      <th>pop</th>\n",
       "      <th>debt</th>\n",
       "    </tr>\n",
       "  </thead>\n",
       "  <tbody>\n",
       "    <tr>\n",
       "      <th>one</th>\n",
       "      <td>2000</td>\n",
       "      <td>Ohio</td>\n",
       "      <td>1.5</td>\n",
       "      <td>NaN</td>\n",
       "    </tr>\n",
       "    <tr>\n",
       "      <th>two</th>\n",
       "      <td>2001</td>\n",
       "      <td>Ohio</td>\n",
       "      <td>1.7</td>\n",
       "      <td>NaN</td>\n",
       "    </tr>\n",
       "    <tr>\n",
       "      <th>three</th>\n",
       "      <td>2002</td>\n",
       "      <td>Ohio</td>\n",
       "      <td>3.6</td>\n",
       "      <td>NaN</td>\n",
       "    </tr>\n",
       "    <tr>\n",
       "      <th>four</th>\n",
       "      <td>2001</td>\n",
       "      <td>Nevada</td>\n",
       "      <td>2.4</td>\n",
       "      <td>NaN</td>\n",
       "    </tr>\n",
       "    <tr>\n",
       "      <th>five</th>\n",
       "      <td>2001</td>\n",
       "      <td>Nevada</td>\n",
       "      <td>2.9</td>\n",
       "      <td>NaN</td>\n",
       "    </tr>\n",
       "  </tbody>\n",
       "</table>\n",
       "</div>"
      ],
      "text/plain": [
       "       year   state  pop debt\n",
       "one    2000    Ohio  1.5  NaN\n",
       "two    2001    Ohio  1.7  NaN\n",
       "three  2002    Ohio  3.6  NaN\n",
       "four   2001  Nevada  2.4  NaN\n",
       "five   2001  Nevada  2.9  NaN"
      ]
     },
     "execution_count": 49,
     "metadata": {},
     "output_type": "execute_result"
    }
   ],
   "source": [
    "# Passing a column name that doesn't match a key results in NA values\n",
    "frame2 = pd.DataFrame(data, columns= ['year', 'state', 'pop', 'debt'],\n",
    "                            index =  ['one',  'two',   'three', 'four', 'five'])\n",
    "frame2"
   ]
  },
  {
   "cell_type": "code",
   "execution_count": 50,
   "metadata": {
    "collapsed": false
   },
   "outputs": [
    {
     "data": {
      "text/plain": [
       "one      2000\n",
       "two      2001\n",
       "three    2002\n",
       "four     2001\n",
       "five     2001\n",
       "Name: year, dtype: int64"
      ]
     },
     "execution_count": 50,
     "metadata": {},
     "output_type": "execute_result"
    }
   ],
   "source": [
    "# Can retrieve a single column in dict-like notation or as an attribute\n",
    "frame2['state']\n",
    "frame2.year"
   ]
  },
  {
   "cell_type": "code",
   "execution_count": 51,
   "metadata": {
    "collapsed": false
   },
   "outputs": [
    {
     "data": {
      "text/html": [
       "<div>\n",
       "<table border=\"1\" class=\"dataframe\">\n",
       "  <thead>\n",
       "    <tr style=\"text-align: right;\">\n",
       "      <th></th>\n",
       "      <th>year</th>\n",
       "      <th>state</th>\n",
       "      <th>pop</th>\n",
       "      <th>debt</th>\n",
       "    </tr>\n",
       "  </thead>\n",
       "  <tbody>\n",
       "    <tr>\n",
       "      <th>one</th>\n",
       "      <td>2000</td>\n",
       "      <td>Ohio</td>\n",
       "      <td>1.5</td>\n",
       "      <td>0.0</td>\n",
       "    </tr>\n",
       "    <tr>\n",
       "      <th>two</th>\n",
       "      <td>2001</td>\n",
       "      <td>Ohio</td>\n",
       "      <td>1.7</td>\n",
       "      <td>1.0</td>\n",
       "    </tr>\n",
       "    <tr>\n",
       "      <th>three</th>\n",
       "      <td>2002</td>\n",
       "      <td>Ohio</td>\n",
       "      <td>3.6</td>\n",
       "      <td>2.0</td>\n",
       "    </tr>\n",
       "    <tr>\n",
       "      <th>four</th>\n",
       "      <td>2001</td>\n",
       "      <td>Nevada</td>\n",
       "      <td>2.4</td>\n",
       "      <td>3.0</td>\n",
       "    </tr>\n",
       "    <tr>\n",
       "      <th>five</th>\n",
       "      <td>2001</td>\n",
       "      <td>Nevada</td>\n",
       "      <td>2.9</td>\n",
       "      <td>4.0</td>\n",
       "    </tr>\n",
       "  </tbody>\n",
       "</table>\n",
       "</div>"
      ],
      "text/plain": [
       "       year   state  pop  debt\n",
       "one    2000    Ohio  1.5   0.0\n",
       "two    2001    Ohio  1.7   1.0\n",
       "three  2002    Ohio  3.6   2.0\n",
       "four   2001  Nevada  2.4   3.0\n",
       "five   2001  Nevada  2.9   4.0"
      ]
     },
     "execution_count": 51,
     "metadata": {},
     "output_type": "execute_result"
    }
   ],
   "source": [
    "# Columns modified by assignment\n",
    "frame2['debt'] = 16.5 # a constant\n",
    "frame2\n",
    "frame2['debt'] = np.arange(5.) # a np array of floats\n",
    "frame2"
   ]
  },
  {
   "cell_type": "code",
   "execution_count": 52,
   "metadata": {
    "collapsed": false,
    "scrolled": true
   },
   "outputs": [
    {
     "data": {
      "text/html": [
       "<div>\n",
       "<table border=\"1\" class=\"dataframe\">\n",
       "  <thead>\n",
       "    <tr style=\"text-align: right;\">\n",
       "      <th></th>\n",
       "      <th>year</th>\n",
       "      <th>state</th>\n",
       "      <th>pop</th>\n",
       "      <th>debt</th>\n",
       "    </tr>\n",
       "  </thead>\n",
       "  <tbody>\n",
       "    <tr>\n",
       "      <th>one</th>\n",
       "      <td>2000</td>\n",
       "      <td>Ohio</td>\n",
       "      <td>1.5</td>\n",
       "      <td>NaN</td>\n",
       "    </tr>\n",
       "    <tr>\n",
       "      <th>two</th>\n",
       "      <td>2001</td>\n",
       "      <td>Ohio</td>\n",
       "      <td>1.7</td>\n",
       "      <td>-1.2</td>\n",
       "    </tr>\n",
       "    <tr>\n",
       "      <th>three</th>\n",
       "      <td>2002</td>\n",
       "      <td>Ohio</td>\n",
       "      <td>3.6</td>\n",
       "      <td>NaN</td>\n",
       "    </tr>\n",
       "    <tr>\n",
       "      <th>four</th>\n",
       "      <td>2001</td>\n",
       "      <td>Nevada</td>\n",
       "      <td>2.4</td>\n",
       "      <td>-1.5</td>\n",
       "    </tr>\n",
       "    <tr>\n",
       "      <th>five</th>\n",
       "      <td>2001</td>\n",
       "      <td>Nevada</td>\n",
       "      <td>2.9</td>\n",
       "      <td>-1.7</td>\n",
       "    </tr>\n",
       "  </tbody>\n",
       "</table>\n",
       "</div>"
      ],
      "text/plain": [
       "       year   state  pop  debt\n",
       "one    2000    Ohio  1.5   NaN\n",
       "two    2001    Ohio  1.7  -1.2\n",
       "three  2002    Ohio  3.6   NaN\n",
       "four   2001  Nevada  2.4  -1.5\n",
       "five   2001  Nevada  2.9  -1.7"
      ]
     },
     "execution_count": 52,
     "metadata": {},
     "output_type": "execute_result"
    }
   ],
   "source": [
    "# DF column assignments using a list of array must match the length of the DataFrame\n",
    "# Series are assigned via index matching\n",
    "val = pd.Series([-1.2, -1.5, -1.7], index=['two', 'four', 'five',]) # only three of the 5 indices used\n",
    "frame2['debt'] = val\n",
    "frame2"
   ]
  },
  {
   "cell_type": "code",
   "execution_count": 53,
   "metadata": {
    "collapsed": false
   },
   "outputs": [
    {
     "data": {
      "text/plain": [
       "Index([u'year', u'state', u'pop', u'debt'], dtype='object')"
      ]
     },
     "execution_count": 53,
     "metadata": {},
     "output_type": "execute_result"
    }
   ],
   "source": [
    "# Delete columns with del, as with a dict\n",
    "frame2['eastern'] = frame2.state == 'Ohio'\n",
    "del frame2['eastern']\n",
    "frame2.columns"
   ]
  },
  {
   "cell_type": "code",
   "execution_count": 54,
   "metadata": {
    "collapsed": false
   },
   "outputs": [
    {
     "data": {
      "text/html": [
       "<div>\n",
       "<table border=\"1\" class=\"dataframe\">\n",
       "  <thead>\n",
       "    <tr style=\"text-align: right;\">\n",
       "      <th></th>\n",
       "      <th>Nevada</th>\n",
       "      <th>Ohio</th>\n",
       "    </tr>\n",
       "  </thead>\n",
       "  <tbody>\n",
       "    <tr>\n",
       "      <th>2000</th>\n",
       "      <td>NaN</td>\n",
       "      <td>1.5</td>\n",
       "    </tr>\n",
       "    <tr>\n",
       "      <th>2001</th>\n",
       "      <td>2.4</td>\n",
       "      <td>1.7</td>\n",
       "    </tr>\n",
       "    <tr>\n",
       "      <th>2002</th>\n",
       "      <td>2.9</td>\n",
       "      <td>3.6</td>\n",
       "    </tr>\n",
       "  </tbody>\n",
       "</table>\n",
       "</div>"
      ],
      "text/plain": [
       "      Nevada  Ohio\n",
       "2000     NaN   1.5\n",
       "2001     2.4   1.7\n",
       "2002     2.9   3.6"
      ]
     },
     "execution_count": 54,
     "metadata": {},
     "output_type": "execute_result"
    }
   ],
   "source": [
    "# Nested dict of dicts is turns inner values into rows and outer values into columns\n",
    "pop = {'Nevada': {2001: 2.4, 2002: 2.9},\n",
    "       'Ohio': {2000: 1.5, 2001: 1.7, 2002: 3.6}}\n",
    "    # 2000, 2001, 2002 become rows\n",
    "    # Nevada and Ohio become columns\n",
    "pop\n",
    "frame3 = pd.DataFrame(pop)\n",
    "frame3"
   ]
  },
  {
   "cell_type": "code",
   "execution_count": 55,
   "metadata": {
    "collapsed": false
   },
   "outputs": [
    {
     "data": {
      "text/html": [
       "<div>\n",
       "<table border=\"1\" class=\"dataframe\">\n",
       "  <thead>\n",
       "    <tr style=\"text-align: right;\">\n",
       "      <th></th>\n",
       "      <th>Nevada</th>\n",
       "      <th>Ohio</th>\n",
       "    </tr>\n",
       "  </thead>\n",
       "  <tbody>\n",
       "    <tr>\n",
       "      <th>2001</th>\n",
       "      <td>2.4</td>\n",
       "      <td>1.7</td>\n",
       "    </tr>\n",
       "    <tr>\n",
       "      <th>2002</th>\n",
       "      <td>2.9</td>\n",
       "      <td>3.6</td>\n",
       "    </tr>\n",
       "    <tr>\n",
       "      <th>2003</th>\n",
       "      <td>NaN</td>\n",
       "      <td>NaN</td>\n",
       "    </tr>\n",
       "  </tbody>\n",
       "</table>\n",
       "</div>"
      ],
      "text/plain": [
       "      Nevada  Ohio\n",
       "2001     2.4   1.7\n",
       "2002     2.9   3.6\n",
       "2003     NaN   NaN"
      ]
     },
     "execution_count": 55,
     "metadata": {},
     "output_type": "execute_result"
    }
   ],
   "source": [
    "# Enforcing an index is akin to doing a sub-select of the data's implicit index. \n",
    "pd.DataFrame(pop, index=[2001, 2002, 2003])\n",
    "    # The inner dict keys 2000, 2001, 2002 are intersected with the pd.DataFrame here"
   ]
  },
  {
   "cell_type": "code",
   "execution_count": 56,
   "metadata": {
    "collapsed": false
   },
   "outputs": [
    {
     "data": {
      "text/html": [
       "<div>\n",
       "<table border=\"1\" class=\"dataframe\">\n",
       "  <thead>\n",
       "    <tr style=\"text-align: right;\">\n",
       "      <th></th>\n",
       "      <th>Nevada</th>\n",
       "      <th>Ohio</th>\n",
       "    </tr>\n",
       "  </thead>\n",
       "  <tbody>\n",
       "    <tr>\n",
       "      <th>2000</th>\n",
       "      <td>NaN</td>\n",
       "      <td>1.5</td>\n",
       "    </tr>\n",
       "    <tr>\n",
       "      <th>2001</th>\n",
       "      <td>2.4</td>\n",
       "      <td>1.7</td>\n",
       "    </tr>\n",
       "  </tbody>\n",
       "</table>\n",
       "</div>"
      ],
      "text/plain": [
       "      Nevada  Ohio\n",
       "2000     NaN   1.5\n",
       "2001     2.4   1.7"
      ]
     },
     "execution_count": 56,
     "metadata": {},
     "output_type": "execute_result"
    }
   ],
   "source": [
    "# You can pass Series variables directly into the dataframe creation and get equivalent behavior\n",
    "pdata = {'Ohio': frame3['Ohio'][:-1],\n",
    "         'Nevada': frame3['Nevada'][:2]} # Specifically the first two values of the Nevada column\n",
    "pd.DataFrame(pdata)"
   ]
  },
  {
   "cell_type": "code",
   "execution_count": 57,
   "metadata": {
    "collapsed": false
   },
   "outputs": [
    {
     "data": {
      "text/html": [
       "<div>\n",
       "<table border=\"1\" class=\"dataframe\">\n",
       "  <thead>\n",
       "    <tr style=\"text-align: right;\">\n",
       "      <th>state</th>\n",
       "      <th>Nevada</th>\n",
       "      <th>Ohio</th>\n",
       "    </tr>\n",
       "    <tr>\n",
       "      <th>year</th>\n",
       "      <th></th>\n",
       "      <th></th>\n",
       "    </tr>\n",
       "  </thead>\n",
       "  <tbody>\n",
       "    <tr>\n",
       "      <th>2000</th>\n",
       "      <td>NaN</td>\n",
       "      <td>1.5</td>\n",
       "    </tr>\n",
       "    <tr>\n",
       "      <th>2001</th>\n",
       "      <td>2.4</td>\n",
       "      <td>1.7</td>\n",
       "    </tr>\n",
       "    <tr>\n",
       "      <th>2002</th>\n",
       "      <td>2.9</td>\n",
       "      <td>3.6</td>\n",
       "    </tr>\n",
       "  </tbody>\n",
       "</table>\n",
       "</div>"
      ],
      "text/plain": [
       "state  Nevada  Ohio\n",
       "year               \n",
       "2000      NaN   1.5\n",
       "2001      2.4   1.7\n",
       "2002      2.9   3.6"
      ]
     },
     "execution_count": 57,
     "metadata": {},
     "output_type": "execute_result"
    }
   ],
   "source": [
    "# Setting names of the index and the columns\n",
    "frame3.index.name = 'year'\n",
    "frame3.columns.name = 'state'\n",
    "frame3"
   ]
  },
  {
   "cell_type": "code",
   "execution_count": 58,
   "metadata": {
    "collapsed": false
   },
   "outputs": [
    {
     "data": {
      "text/plain": [
       "Index([u'a', u'b', u'c'], dtype='object')"
      ]
     },
     "execution_count": 58,
     "metadata": {},
     "output_type": "execute_result"
    }
   ],
   "source": [
    "# Indexes are objects that hold axis labels and othe rmetadata\n",
    "obj = pd.Series(range(3), index=['a', 'b', 'c'])\n",
    "index = obj.index\n",
    "index # an object with values that are the index of the obj"
   ]
  },
  {
   "cell_type": "code",
   "execution_count": 59,
   "metadata": {
    "collapsed": false
   },
   "outputs": [
    {
     "ename": "TypeError",
     "evalue": "Index does not support mutable operations",
     "output_type": "error",
     "traceback": [
      "\u001b[0;31m---------------------------------------------------------------------------\u001b[0m",
      "\u001b[0;31mTypeError\u001b[0m                                 Traceback (most recent call last)",
      "\u001b[0;32m<ipython-input-59-07ebbc86f0ba>\u001b[0m in \u001b[0;36m<module>\u001b[0;34m()\u001b[0m\n\u001b[1;32m      1\u001b[0m \u001b[0;31m# Recall that index = obj.index was an in-place assignment to modifications to index are modifications to obj.index\u001b[0m\u001b[0;34m\u001b[0m\u001b[0;34m\u001b[0m\u001b[0m\n\u001b[1;32m      2\u001b[0m \u001b[0;31m# Index objects are immutable, so assignments like below are not allowed\u001b[0m\u001b[0;34m\u001b[0m\u001b[0;34m\u001b[0m\u001b[0m\n\u001b[0;32m----> 3\u001b[0;31m \u001b[0mindex\u001b[0m\u001b[0;34m[\u001b[0m\u001b[0;36m1\u001b[0m\u001b[0;34m]\u001b[0m \u001b[0;34m=\u001b[0m \u001b[0;34m'd'\u001b[0m\u001b[0;34m\u001b[0m\u001b[0m\n\u001b[0m",
      "\u001b[0;32m/usr/local/lib/python2.7/site-packages/pandas/indexes/base.pyc\u001b[0m in \u001b[0;36m__setitem__\u001b[0;34m(self, key, value)\u001b[0m\n\u001b[1;32m   1243\u001b[0m \u001b[0;34m\u001b[0m\u001b[0m\n\u001b[1;32m   1244\u001b[0m     \u001b[0;32mdef\u001b[0m \u001b[0m__setitem__\u001b[0m\u001b[0;34m(\u001b[0m\u001b[0mself\u001b[0m\u001b[0;34m,\u001b[0m \u001b[0mkey\u001b[0m\u001b[0;34m,\u001b[0m \u001b[0mvalue\u001b[0m\u001b[0;34m)\u001b[0m\u001b[0;34m:\u001b[0m\u001b[0;34m\u001b[0m\u001b[0m\n\u001b[0;32m-> 1245\u001b[0;31m         \u001b[0;32mraise\u001b[0m \u001b[0mTypeError\u001b[0m\u001b[0;34m(\u001b[0m\u001b[0;34m\"Index does not support mutable operations\"\u001b[0m\u001b[0;34m)\u001b[0m\u001b[0;34m\u001b[0m\u001b[0m\n\u001b[0m\u001b[1;32m   1246\u001b[0m \u001b[0;34m\u001b[0m\u001b[0m\n\u001b[1;32m   1247\u001b[0m     \u001b[0;32mdef\u001b[0m \u001b[0m__getitem__\u001b[0m\u001b[0;34m(\u001b[0m\u001b[0mself\u001b[0m\u001b[0;34m,\u001b[0m \u001b[0mkey\u001b[0m\u001b[0;34m)\u001b[0m\u001b[0;34m:\u001b[0m\u001b[0;34m\u001b[0m\u001b[0m\n",
      "\u001b[0;31mTypeError\u001b[0m: Index does not support mutable operations"
     ]
    }
   ],
   "source": [
    "# Recall that index = obj.index was an in-place assignment to modifications to index are modifications to obj.index\n",
    "# Index objects are immutable, so assignments like below are not allowed\n",
    "index[1] = 'd'"
   ]
  },
  {
   "cell_type": "code",
   "execution_count": 60,
   "metadata": {
    "collapsed": false
   },
   "outputs": [
    {
     "data": {
      "text/plain": [
       "Int64Index([0, 1, 2], dtype='int64')"
      ]
     },
     "execution_count": 60,
     "metadata": {},
     "output_type": "execute_result"
    }
   ],
   "source": [
    "# Example of assigning an index as a pre-defined Index object\n",
    "index = pd.Index(np.arange(3))\n",
    "obj2 = pd.Series([1.5, -2.5, 0], index=index)\n",
    "obj2.index"
   ]
  },
  {
   "cell_type": "code",
   "execution_count": 61,
   "metadata": {
    "collapsed": false
   },
   "outputs": [
    {
     "data": {
      "text/plain": [
       "a   -5.3\n",
       "b    7.2\n",
       "c    3.6\n",
       "d    4.5\n",
       "e    NaN\n",
       "dtype: float64"
      ]
     },
     "execution_count": 61,
     "metadata": {},
     "output_type": "execute_result"
    }
   ],
   "source": [
    "# Reindexing changes the value of the index to the specified value element-by-element.  \n",
    "obj = pd.Series([4.5, 7.2, -5.3, 3.6], index=['d', 'b', 'a', 'c'])\n",
    "    # The index is not in alphabetical order\n",
    "obj\n",
    "obj2 = obj.reindex(['a', 'b', 'c', 'd', 'e'])\n",
    "    # The index is reset alphabetical order, leaving the underlying data order unchanged\n",
    "    # A new value, 'e', is added\n",
    "obj2"
   ]
  },
  {
   "cell_type": "code",
   "execution_count": 62,
   "metadata": {
    "collapsed": false
   },
   "outputs": [
    {
     "data": {
      "text/plain": [
       "a   -5.3\n",
       "b    7.2\n",
       "c    3.6\n",
       "d    4.5\n",
       "e    0.0\n",
       "dtype: float64"
      ]
     },
     "execution_count": 62,
     "metadata": {},
     "output_type": "execute_result"
    }
   ],
   "source": [
    "# To avoid NaN's, use fillna().  There's also a parameter in reindex called fill_value but that's redundant.\n",
    "obj.reindex(['a', 'b', 'c', 'd', 'e']).fillna(0)"
   ]
  },
  {
   "cell_type": "code",
   "execution_count": 63,
   "metadata": {
    "collapsed": false
   },
   "outputs": [
    {
     "data": {
      "text/plain": [
       "0      blue\n",
       "1      blue\n",
       "2    purple\n",
       "3    purple\n",
       "4    yellow\n",
       "5    yellow\n",
       "dtype: object"
      ]
     },
     "execution_count": 63,
     "metadata": {},
     "output_type": "execute_result"
    }
   ],
   "source": [
    "# In a time-series, imposing a new index will often mean having NaNs.\n",
    "# The index values 0, 2, 4 haves spaces.  The values at 0, 2, and 4 are carried forward to fill, 1,3,5, repsectively\n",
    "obj3 = pd.Series(['blue', 'purple', 'yellow'], index=[0, 2, 4])\n",
    "obj3.reindex(range(6), method='ffill')"
   ]
  },
  {
   "cell_type": "code",
   "execution_count": 64,
   "metadata": {
    "collapsed": false
   },
   "outputs": [
    {
     "data": {
      "text/html": [
       "<div>\n",
       "<table border=\"1\" class=\"dataframe\">\n",
       "  <thead>\n",
       "    <tr style=\"text-align: right;\">\n",
       "      <th></th>\n",
       "      <th>Ohio</th>\n",
       "      <th>Texas</th>\n",
       "      <th>California</th>\n",
       "    </tr>\n",
       "  </thead>\n",
       "  <tbody>\n",
       "    <tr>\n",
       "      <th>a</th>\n",
       "      <td>0.0</td>\n",
       "      <td>1.0</td>\n",
       "      <td>2.0</td>\n",
       "    </tr>\n",
       "    <tr>\n",
       "      <th>b</th>\n",
       "      <td>NaN</td>\n",
       "      <td>NaN</td>\n",
       "      <td>NaN</td>\n",
       "    </tr>\n",
       "    <tr>\n",
       "      <th>c</th>\n",
       "      <td>3.0</td>\n",
       "      <td>4.0</td>\n",
       "      <td>5.0</td>\n",
       "    </tr>\n",
       "    <tr>\n",
       "      <th>d</th>\n",
       "      <td>6.0</td>\n",
       "      <td>7.0</td>\n",
       "      <td>8.0</td>\n",
       "    </tr>\n",
       "  </tbody>\n",
       "</table>\n",
       "</div>"
      ],
      "text/plain": [
       "    Ohio  Texas  California\n",
       "a    0.0    1.0         2.0\n",
       " b   NaN    NaN         NaN\n",
       "c    3.0    4.0         5.0\n",
       "d    6.0    7.0         8.0"
      ]
     },
     "execution_count": 64,
     "metadata": {},
     "output_type": "execute_result"
    }
   ],
   "source": [
    "# Reindex can also alter column values, not just index values\n",
    "# Example of a ROW reindex as above\n",
    "frame = pd.DataFrame(np.arange(9).reshape(3, 3), index=['a', 'c', 'd'], columns=['Ohio', 'Texas', 'California'])\n",
    "frame\n",
    "frame2 = frame.reindex(['a',' b', 'c', 'd'])\n",
    "frame2"
   ]
  },
  {
   "cell_type": "code",
   "execution_count": 65,
   "metadata": {
    "collapsed": false
   },
   "outputs": [
    {
     "data": {
      "text/html": [
       "<div>\n",
       "<table border=\"1\" class=\"dataframe\">\n",
       "  <thead>\n",
       "    <tr style=\"text-align: right;\">\n",
       "      <th></th>\n",
       "      <th>Texas</th>\n",
       "      <th>Utah</th>\n",
       "      <th>California</th>\n",
       "    </tr>\n",
       "  </thead>\n",
       "  <tbody>\n",
       "    <tr>\n",
       "      <th>a</th>\n",
       "      <td>1</td>\n",
       "      <td>NaN</td>\n",
       "      <td>2</td>\n",
       "    </tr>\n",
       "    <tr>\n",
       "      <th>c</th>\n",
       "      <td>4</td>\n",
       "      <td>NaN</td>\n",
       "      <td>5</td>\n",
       "    </tr>\n",
       "    <tr>\n",
       "      <th>d</th>\n",
       "      <td>7</td>\n",
       "      <td>NaN</td>\n",
       "      <td>8</td>\n",
       "    </tr>\n",
       "  </tbody>\n",
       "</table>\n",
       "</div>"
      ],
      "text/plain": [
       "   Texas  Utah  California\n",
       "a      1   NaN           2\n",
       "c      4   NaN           5\n",
       "d      7   NaN           8"
      ]
     },
     "execution_count": 65,
     "metadata": {},
     "output_type": "execute_result"
    }
   ],
   "source": [
    "# Example of a Column reindex\n",
    "states = ['Texas', 'Utah', 'California']\n",
    "frame.reindex(columns=states)\n",
    "    # Ohio is gone pecan, and Utah is added witn NaN values"
   ]
  },
  {
   "cell_type": "code",
   "execution_count": 66,
   "metadata": {
    "collapsed": false
   },
   "outputs": [
    {
     "data": {
      "text/html": [
       "<div>\n",
       "<table border=\"1\" class=\"dataframe\">\n",
       "  <thead>\n",
       "    <tr style=\"text-align: right;\">\n",
       "      <th></th>\n",
       "      <th>Texas</th>\n",
       "      <th>Utah</th>\n",
       "      <th>California</th>\n",
       "    </tr>\n",
       "  </thead>\n",
       "  <tbody>\n",
       "    <tr>\n",
       "      <th>a</th>\n",
       "      <td>1</td>\n",
       "      <td>NaN</td>\n",
       "      <td>2</td>\n",
       "    </tr>\n",
       "    <tr>\n",
       "      <th>b</th>\n",
       "      <td>1</td>\n",
       "      <td>NaN</td>\n",
       "      <td>2</td>\n",
       "    </tr>\n",
       "    <tr>\n",
       "      <th>c</th>\n",
       "      <td>4</td>\n",
       "      <td>NaN</td>\n",
       "      <td>5</td>\n",
       "    </tr>\n",
       "    <tr>\n",
       "      <th>d</th>\n",
       "      <td>7</td>\n",
       "      <td>NaN</td>\n",
       "      <td>8</td>\n",
       "    </tr>\n",
       "  </tbody>\n",
       "</table>\n",
       "</div>"
      ],
      "text/plain": [
       "   Texas  Utah  California\n",
       "a      1   NaN           2\n",
       "b      1   NaN           2\n",
       "c      4   NaN           5\n",
       "d      7   NaN           8"
      ]
     },
     "execution_count": 66,
     "metadata": {},
     "output_type": "execute_result"
    }
   ],
   "source": [
    "# Row and Column reindexing at 1 time is possible.  Interpolation only happens row-wise in that case\n",
    "frame.reindex(index=['a', 'b', 'c', 'd'], method='ffill', columns=states)\n",
    "    # Reindexes the row, ffill's b with the value in a, and then changes the columns to the \"States\" value"
   ]
  },
  {
   "cell_type": "code",
   "execution_count": 67,
   "metadata": {
    "collapsed": false
   },
   "outputs": [
    {
     "data": {
      "text/html": [
       "<div>\n",
       "<table border=\"1\" class=\"dataframe\">\n",
       "  <thead>\n",
       "    <tr style=\"text-align: right;\">\n",
       "      <th></th>\n",
       "      <th>Texas</th>\n",
       "      <th>Utah</th>\n",
       "      <th>California</th>\n",
       "    </tr>\n",
       "  </thead>\n",
       "  <tbody>\n",
       "    <tr>\n",
       "      <th>a</th>\n",
       "      <td>1.0</td>\n",
       "      <td>NaN</td>\n",
       "      <td>2.0</td>\n",
       "    </tr>\n",
       "    <tr>\n",
       "      <th>b</th>\n",
       "      <td>NaN</td>\n",
       "      <td>NaN</td>\n",
       "      <td>NaN</td>\n",
       "    </tr>\n",
       "    <tr>\n",
       "      <th>c</th>\n",
       "      <td>4.0</td>\n",
       "      <td>NaN</td>\n",
       "      <td>5.0</td>\n",
       "    </tr>\n",
       "    <tr>\n",
       "      <th>d</th>\n",
       "      <td>7.0</td>\n",
       "      <td>NaN</td>\n",
       "      <td>8.0</td>\n",
       "    </tr>\n",
       "  </tbody>\n",
       "</table>\n",
       "</div>"
      ],
      "text/plain": [
       "   Texas  Utah  California\n",
       "a    1.0   NaN         2.0\n",
       "b    NaN   NaN         NaN\n",
       "c    4.0   NaN         5.0\n",
       "d    7.0   NaN         8.0"
      ]
     },
     "execution_count": 67,
     "metadata": {},
     "output_type": "execute_result"
    }
   ],
   "source": [
    "# Using .ix for label-indexing:\n",
    "frame.ix[['a','b','c','d'], states]"
   ]
  },
  {
   "cell_type": "code",
   "execution_count": 68,
   "metadata": {
    "collapsed": false
   },
   "outputs": [
    {
     "data": {
      "text/plain": [
       "(a    0.0\n",
       " b    1.0\n",
       " d    3.0\n",
       " e    4.0\n",
       " dtype: float64, a    0.0\n",
       " b    1.0\n",
       " e    4.0\n",
       " dtype: float64)"
      ]
     },
     "execution_count": 68,
     "metadata": {},
     "output_type": "execute_result"
    }
   ],
   "source": [
    "# Dropping index from an axis.  Can drop multiples at once if passed in an array\n",
    "obj = pd.Series(np.arange(5.), index=['a', 'b', 'c', 'd', 'e'])\n",
    "new_obj = obj.drop('c')\n",
    "new_obj\n",
    "newer_obj = obj.drop(['c', 'd'])\n",
    "new_obj, newer_obj"
   ]
  },
  {
   "cell_type": "code",
   "execution_count": 69,
   "metadata": {
    "collapsed": false
   },
   "outputs": [
    {
     "data": {
      "text/html": [
       "<div>\n",
       "<table border=\"1\" class=\"dataframe\">\n",
       "  <thead>\n",
       "    <tr style=\"text-align: right;\">\n",
       "      <th></th>\n",
       "      <th>two</th>\n",
       "      <th>three</th>\n",
       "    </tr>\n",
       "  </thead>\n",
       "  <tbody>\n",
       "    <tr>\n",
       "      <th>Ohio</th>\n",
       "      <td>1</td>\n",
       "      <td>2</td>\n",
       "    </tr>\n",
       "    <tr>\n",
       "      <th>Colorado</th>\n",
       "      <td>5</td>\n",
       "      <td>6</td>\n",
       "    </tr>\n",
       "    <tr>\n",
       "      <th>Utah</th>\n",
       "      <td>9</td>\n",
       "      <td>10</td>\n",
       "    </tr>\n",
       "    <tr>\n",
       "      <th>New York</th>\n",
       "      <td>13</td>\n",
       "      <td>14</td>\n",
       "    </tr>\n",
       "  </tbody>\n",
       "</table>\n",
       "</div>"
      ],
      "text/plain": [
       "          two  three\n",
       "Ohio        1      2\n",
       "Colorado    5      6\n",
       "Utah        9     10\n",
       "New York   13     14"
      ]
     },
     "execution_count": 69,
     "metadata": {},
     "output_type": "execute_result"
    }
   ],
   "source": [
    "# Drop columns in a similar way but have to specify axis = 1\n",
    "data = pd.DataFrame(np.arange(16).reshape(4, 4), index=['Ohio', 'Colorado', 'Utah', 'New York'], columns=['one', 'two', 'three', 'four'])\n",
    "data.drop(['one', 'three'], axis=1)\n",
    "data.drop(['one', 'four'], axis=1)"
   ]
  },
  {
   "cell_type": "code",
   "execution_count": 79,
   "metadata": {
    "collapsed": false
   },
   "outputs": [
    {
     "data": {
      "text/plain": [
       "c    2.0\n",
       "d    3.0\n",
       "dtype: float64"
      ]
     },
     "execution_count": 79,
     "metadata": {},
     "output_type": "execute_result"
    }
   ],
   "source": [
    "#8/24/2016\n",
    "# Indexing, Selection, Filtering - location 2672\n",
    "obj = pd.Series(np.arange(4.), index=['a','b','c','d'])\n",
    "obj['b'], obj[1]\n",
    "    # Same output"
   ]
  },
  {
   "cell_type": "code",
   "execution_count": 82,
   "metadata": {
    "collapsed": false
   },
   "outputs": [
    {
     "data": {
      "text/plain": [
       "(b    1.0\n",
       " c    2.0\n",
       " dtype: float64, b    1.0\n",
       " c    2.0\n",
       " d    3.0\n",
       " dtype: float64)"
      ]
     },
     "execution_count": 82,
     "metadata": {},
     "output_type": "execute_result"
    }
   ],
   "source": [
    "# Integer-based selection for the index is difference then label-based selection\n",
    "obj[1:3], obj[['b','c','d']]\n",
    "    # Notice that the endpoint of the label-based slice is inclusive while the integer-based slice is not inclusive"
   ]
  },
  {
   "cell_type": "code",
   "execution_count": 86,
   "metadata": {
    "collapsed": false
   },
   "outputs": [
    {
     "data": {
      "text/html": [
       "<div>\n",
       "<table border=\"1\" class=\"dataframe\">\n",
       "  <thead>\n",
       "    <tr style=\"text-align: right;\">\n",
       "      <th></th>\n",
       "      <th>one</th>\n",
       "      <th>two</th>\n",
       "      <th>three</th>\n",
       "      <th>four</th>\n",
       "    </tr>\n",
       "  </thead>\n",
       "  <tbody>\n",
       "    <tr>\n",
       "      <th>Ohio</th>\n",
       "      <td>0</td>\n",
       "      <td>1</td>\n",
       "      <td>2</td>\n",
       "      <td>3</td>\n",
       "    </tr>\n",
       "    <tr>\n",
       "      <th>Colorado</th>\n",
       "      <td>4</td>\n",
       "      <td>5</td>\n",
       "      <td>6</td>\n",
       "      <td>7</td>\n",
       "    </tr>\n",
       "    <tr>\n",
       "      <th>Utah</th>\n",
       "      <td>8</td>\n",
       "      <td>9</td>\n",
       "      <td>10</td>\n",
       "      <td>11</td>\n",
       "    </tr>\n",
       "    <tr>\n",
       "      <th>New York</th>\n",
       "      <td>12</td>\n",
       "      <td>13</td>\n",
       "      <td>14</td>\n",
       "      <td>15</td>\n",
       "    </tr>\n",
       "  </tbody>\n",
       "</table>\n",
       "</div>"
      ],
      "text/plain": [
       "          one  two  three  four\n",
       "Ohio        0    1      2     3\n",
       "Colorado    4    5      6     7\n",
       "Utah        8    9     10    11\n",
       "New York   12   13     14    15"
      ]
     },
     "execution_count": 86,
     "metadata": {},
     "output_type": "execute_result"
    }
   ],
   "source": [
    "# Index & selection with a Data Frame\n",
    "data = pd.DataFrame(np.arange(16).reshape((4, 4)), index=['Ohio', 'Colorado', 'Utah', 'New York'], columns=['one','two','three','four'])\n",
    "data"
   ]
  },
  {
   "cell_type": "code",
   "execution_count": 88,
   "metadata": {
    "collapsed": false
   },
   "outputs": [
    {
     "data": {
      "text/plain": [
       "(Ohio         1\n",
       " Colorado     5\n",
       " Utah         9\n",
       " New York    13\n",
       " Name: two, dtype: int64,           three  one\n",
       " Ohio          2    0\n",
       " Colorado      6    4\n",
       " Utah         10    8\n",
       " New York     14   12)"
      ]
     },
     "execution_count": 88,
     "metadata": {},
     "output_type": "execute_result"
    }
   ],
   "source": [
    "# Column-based selecton is th esaimplest\n",
    "data['two'], data[['three','one']]"
   ]
  },
  {
   "cell_type": "code",
   "execution_count": 93,
   "metadata": {
    "collapsed": false
   },
   "outputs": [
    {
     "data": {
      "text/plain": [
       "two      5\n",
       "three    6\n",
       "Name: Colorado, dtype: int64"
      ]
     },
     "execution_count": 93,
     "metadata": {},
     "output_type": "execute_result"
    }
   ],
   "source": [
    "# Index-based selection of dataframes produces different outcomes based on the inputs\n",
    "data.ix['Colorado',['two','three']]\n",
    "    # The result of sort of like a transpose with the series renamed to \"Colorado\""
   ]
  },
  {
   "cell_type": "code",
   "execution_count": 94,
   "metadata": {
    "collapsed": false
   },
   "outputs": [
    {
     "data": {
      "text/html": [
       "<div>\n",
       "<table border=\"1\" class=\"dataframe\">\n",
       "  <thead>\n",
       "    <tr style=\"text-align: right;\">\n",
       "      <th></th>\n",
       "      <th>four</th>\n",
       "      <th>one</th>\n",
       "      <th>two</th>\n",
       "    </tr>\n",
       "  </thead>\n",
       "  <tbody>\n",
       "    <tr>\n",
       "      <th>Colorado</th>\n",
       "      <td>7</td>\n",
       "      <td>4</td>\n",
       "      <td>5</td>\n",
       "    </tr>\n",
       "    <tr>\n",
       "      <th>Utah</th>\n",
       "      <td>11</td>\n",
       "      <td>8</td>\n",
       "      <td>9</td>\n",
       "    </tr>\n",
       "  </tbody>\n",
       "</table>\n",
       "</div>"
      ],
      "text/plain": [
       "          four  one  two\n",
       "Colorado     7    4    5\n",
       "Utah        11    8    9"
      ]
     },
     "execution_count": 94,
     "metadata": {},
     "output_type": "execute_result"
    }
   ],
   "source": [
    "# Index and column specificiation simultaneously\n",
    "data.ix[['Colorado','Utah'],[3,0,1]]\n",
    "    # The result of just a reordered subset of the original DF's structure"
   ]
  },
  {
   "cell_type": "code",
   "execution_count": 96,
   "metadata": {
    "collapsed": false
   },
   "outputs": [
    {
     "data": {
      "text/plain": [
       "Ohio        1\n",
       "Colorado    5\n",
       "Utah        9\n",
       "Name: two, dtype: int64"
      ]
     },
     "execution_count": 96,
     "metadata": {},
     "output_type": "execute_result"
    }
   ],
   "source": [
    "# Also works with ranges\n",
    "data.ix[:'Utah','two']"
   ]
  },
  {
   "cell_type": "code",
   "execution_count": 100,
   "metadata": {
    "collapsed": false
   },
   "outputs": [
    {
     "data": {
      "text/plain": [
       "a    5.2\n",
       "b    NaN\n",
       "c   -0.2\n",
       "d    NaN\n",
       "e    NaN\n",
       "f    NaN\n",
       "g    NaN\n",
       "dtype: float64"
      ]
     },
     "execution_count": 100,
     "metadata": {},
     "output_type": "execute_result"
    }
   ],
   "source": [
    "## Data Alignment and Arithmetic\n",
    "# Series: Indexes are matched in arithmetic.  When they don't match a NaN results\n",
    "s1 = pd.Series([7.3, -2.5, 3.4, 1.5], index=['a','b','c','d'])\n",
    "s2 = pd.Series([-2.1, -3.6, -1.5, 4, 3.1], index=['a','c','e','f','g'])\n",
    "s1 + s2\n",
    "    # Only indeces a and c are shares.  The union of indexes is shown in the output with NaN values"
   ]
  },
  {
   "cell_type": "code",
   "execution_count": 109,
   "metadata": {
    "collapsed": false
   },
   "outputs": [
    {
     "data": {
      "text/html": [
       "<div>\n",
       "<table border=\"1\" class=\"dataframe\">\n",
       "  <thead>\n",
       "    <tr style=\"text-align: right;\">\n",
       "      <th></th>\n",
       "      <th>b</th>\n",
       "      <th>c</th>\n",
       "      <th>d</th>\n",
       "      <th>e</th>\n",
       "    </tr>\n",
       "  </thead>\n",
       "  <tbody>\n",
       "    <tr>\n",
       "      <th>Colorado</th>\n",
       "      <td>NaN</td>\n",
       "      <td>NaN</td>\n",
       "      <td>NaN</td>\n",
       "      <td>NaN</td>\n",
       "    </tr>\n",
       "    <tr>\n",
       "      <th>Ohio</th>\n",
       "      <td>3.0</td>\n",
       "      <td>NaN</td>\n",
       "      <td>6.0</td>\n",
       "      <td>NaN</td>\n",
       "    </tr>\n",
       "    <tr>\n",
       "      <th>Oregon</th>\n",
       "      <td>NaN</td>\n",
       "      <td>NaN</td>\n",
       "      <td>NaN</td>\n",
       "      <td>NaN</td>\n",
       "    </tr>\n",
       "    <tr>\n",
       "      <th>Texas</th>\n",
       "      <td>9.0</td>\n",
       "      <td>NaN</td>\n",
       "      <td>12.0</td>\n",
       "      <td>NaN</td>\n",
       "    </tr>\n",
       "    <tr>\n",
       "      <th>Utah</th>\n",
       "      <td>NaN</td>\n",
       "      <td>NaN</td>\n",
       "      <td>NaN</td>\n",
       "      <td>NaN</td>\n",
       "    </tr>\n",
       "  </tbody>\n",
       "</table>\n",
       "</div>"
      ],
      "text/plain": [
       "            b   c     d   e\n",
       "Colorado  NaN NaN   NaN NaN\n",
       "Ohio      3.0 NaN   6.0 NaN\n",
       "Oregon    NaN NaN   NaN NaN\n",
       "Texas     9.0 NaN  12.0 NaN\n",
       "Utah      NaN NaN   NaN NaN"
      ]
     },
     "execution_count": 109,
     "metadata": {},
     "output_type": "execute_result"
    }
   ],
   "source": [
    "# DataFrame: Like with series, but Indexes and Columns are matched\n",
    "df1 = pd.DataFrame(np.arange(9.).reshape((3,3)), columns=list('bcd'), index=['Ohio', 'Texas', 'Colorado'])\n",
    "df2 = pd.DataFrame(np.arange(12.).reshape((4,3)), columns=list('bde'), index=['Utah','Ohio','Texas','Oregon'])\n",
    "df1 + df2"
   ]
  },
  {
   "cell_type": "code",
   "execution_count": 115,
   "metadata": {
    "collapsed": false
   },
   "outputs": [
    {
     "data": {
      "text/html": [
       "<div>\n",
       "<table border=\"1\" class=\"dataframe\">\n",
       "  <thead>\n",
       "    <tr style=\"text-align: right;\">\n",
       "      <th></th>\n",
       "      <th>b</th>\n",
       "      <th>c</th>\n",
       "      <th>d</th>\n",
       "      <th>e</th>\n",
       "    </tr>\n",
       "  </thead>\n",
       "  <tbody>\n",
       "    <tr>\n",
       "      <th>Colorado</th>\n",
       "      <td>0.0</td>\n",
       "      <td>0.0</td>\n",
       "      <td>0.0</td>\n",
       "      <td>0.0</td>\n",
       "    </tr>\n",
       "    <tr>\n",
       "      <th>Ohio</th>\n",
       "      <td>3.0</td>\n",
       "      <td>0.0</td>\n",
       "      <td>6.0</td>\n",
       "      <td>0.0</td>\n",
       "    </tr>\n",
       "    <tr>\n",
       "      <th>Oregon</th>\n",
       "      <td>0.0</td>\n",
       "      <td>0.0</td>\n",
       "      <td>0.0</td>\n",
       "      <td>0.0</td>\n",
       "    </tr>\n",
       "    <tr>\n",
       "      <th>Texas</th>\n",
       "      <td>9.0</td>\n",
       "      <td>0.0</td>\n",
       "      <td>12.0</td>\n",
       "      <td>0.0</td>\n",
       "    </tr>\n",
       "    <tr>\n",
       "      <th>Utah</th>\n",
       "      <td>0.0</td>\n",
       "      <td>0.0</td>\n",
       "      <td>0.0</td>\n",
       "      <td>0.0</td>\n",
       "    </tr>\n",
       "  </tbody>\n",
       "</table>\n",
       "</div>"
      ],
      "text/plain": [
       "            b    c     d    e\n",
       "Colorado  0.0  0.0   0.0  0.0\n",
       "Ohio      3.0  0.0   6.0  0.0\n",
       "Oregon    0.0  0.0   0.0  0.0\n",
       "Texas     9.0  0.0  12.0  0.0\n",
       "Utah      0.0  0.0   0.0  0.0"
      ]
     },
     "execution_count": 115,
     "metadata": {},
     "output_type": "execute_result"
    }
   ],
   "source": [
    "# Using fill-values\n",
    "df1.add(df2).fillna(0)"
   ]
  },
  {
   "cell_type": "code",
   "execution_count": 117,
   "metadata": {
    "collapsed": false
   },
   "outputs": [
    {
     "data": {
      "text/plain": [
       "array([[ 0.,  0.,  0.,  0.],\n",
       "       [ 4.,  4.,  4.,  4.],\n",
       "       [ 8.,  8.,  8.,  8.]])"
      ]
     },
     "execution_count": 117,
     "metadata": {},
     "output_type": "execute_result"
    }
   ],
   "source": [
    "## Data Frames and Series combination\n",
    "# NumPy example of subtracting the values in a single array from an array with the same number of columns but different rows\n",
    "arr = np.arange(12.).reshape((3,4))\n",
    "arr - arr[0]\n",
    "    # Subtract the value in arr[0] from the col-by-col corresponding values in arr[1]"
   ]
  },
  {
   "cell_type": "code",
   "execution_count": 123,
   "metadata": {
    "collapsed": false
   },
   "outputs": [
    {
     "data": {
      "text/html": [
       "<div>\n",
       "<table border=\"1\" class=\"dataframe\">\n",
       "  <thead>\n",
       "    <tr style=\"text-align: right;\">\n",
       "      <th></th>\n",
       "      <th>b</th>\n",
       "      <th>d</th>\n",
       "      <th>e</th>\n",
       "    </tr>\n",
       "  </thead>\n",
       "  <tbody>\n",
       "    <tr>\n",
       "      <th>Utah</th>\n",
       "      <td>0.0</td>\n",
       "      <td>1.0</td>\n",
       "      <td>2.0</td>\n",
       "    </tr>\n",
       "    <tr>\n",
       "      <th>Ohio</th>\n",
       "      <td>3.0</td>\n",
       "      <td>4.0</td>\n",
       "      <td>5.0</td>\n",
       "    </tr>\n",
       "    <tr>\n",
       "      <th>Texas</th>\n",
       "      <td>6.0</td>\n",
       "      <td>7.0</td>\n",
       "      <td>8.0</td>\n",
       "    </tr>\n",
       "    <tr>\n",
       "      <th>Oregon</th>\n",
       "      <td>9.0</td>\n",
       "      <td>10.0</td>\n",
       "      <td>11.0</td>\n",
       "    </tr>\n",
       "  </tbody>\n",
       "</table>\n",
       "</div>"
      ],
      "text/plain": [
       "          b     d     e\n",
       "Utah    0.0   1.0   2.0\n",
       "Ohio    3.0   4.0   5.0\n",
       "Texas   6.0   7.0   8.0\n",
       "Oregon  9.0  10.0  11.0"
      ]
     },
     "execution_count": 123,
     "metadata": {},
     "output_type": "execute_result"
    }
   ],
   "source": [
    "# DF and Series example\n",
    "frame = pd.DataFrame(np.arange(12.).reshape((4,3)), columns=list('bde'), index=['Utah', 'Ohio', 'Texas', 'Oregon'])\n",
    "frame"
   ]
  },
  {
   "cell_type": "code",
   "execution_count": 127,
   "metadata": {
    "collapsed": false
   },
   "outputs": [
    {
     "data": {
      "text/plain": [
       "b    0.0\n",
       "d    1.0\n",
       "e    2.0\n",
       "Name: Utah, dtype: float64"
      ]
     },
     "execution_count": 127,
     "metadata": {},
     "output_type": "execute_result"
    }
   ],
   "source": [
    "series = frame.ix['Utah']\n",
    "series"
   ]
  },
  {
   "cell_type": "code",
   "execution_count": 128,
   "metadata": {
    "collapsed": false
   },
   "outputs": [
    {
     "data": {
      "text/html": [
       "<div>\n",
       "<table border=\"1\" class=\"dataframe\">\n",
       "  <thead>\n",
       "    <tr style=\"text-align: right;\">\n",
       "      <th></th>\n",
       "      <th>b</th>\n",
       "      <th>d</th>\n",
       "      <th>e</th>\n",
       "    </tr>\n",
       "  </thead>\n",
       "  <tbody>\n",
       "    <tr>\n",
       "      <th>Utah</th>\n",
       "      <td>0.0</td>\n",
       "      <td>0.0</td>\n",
       "      <td>0.0</td>\n",
       "    </tr>\n",
       "    <tr>\n",
       "      <th>Ohio</th>\n",
       "      <td>3.0</td>\n",
       "      <td>3.0</td>\n",
       "      <td>3.0</td>\n",
       "    </tr>\n",
       "    <tr>\n",
       "      <th>Texas</th>\n",
       "      <td>6.0</td>\n",
       "      <td>6.0</td>\n",
       "      <td>6.0</td>\n",
       "    </tr>\n",
       "    <tr>\n",
       "      <th>Oregon</th>\n",
       "      <td>9.0</td>\n",
       "      <td>9.0</td>\n",
       "      <td>9.0</td>\n",
       "    </tr>\n",
       "  </tbody>\n",
       "</table>\n",
       "</div>"
      ],
      "text/plain": [
       "          b    d    e\n",
       "Utah    0.0  0.0  0.0\n",
       "Ohio    3.0  3.0  3.0\n",
       "Texas   6.0  6.0  6.0\n",
       "Oregon  9.0  9.0  9.0"
      ]
     },
     "execution_count": 128,
     "metadata": {},
     "output_type": "execute_result"
    }
   ],
   "source": [
    "# Broadcasting with index of Series matching on column of DF\n",
    "frame - series"
   ]
  },
  {
   "cell_type": "code",
   "execution_count": 133,
   "metadata": {
    "collapsed": false
   },
   "outputs": [
    {
     "data": {
      "text/html": [
       "<div>\n",
       "<table border=\"1\" class=\"dataframe\">\n",
       "  <thead>\n",
       "    <tr style=\"text-align: right;\">\n",
       "      <th></th>\n",
       "      <th>b</th>\n",
       "      <th>d</th>\n",
       "      <th>e</th>\n",
       "      <th>f</th>\n",
       "    </tr>\n",
       "  </thead>\n",
       "  <tbody>\n",
       "    <tr>\n",
       "      <th>Utah</th>\n",
       "      <td>0.0</td>\n",
       "      <td>NaN</td>\n",
       "      <td>3.0</td>\n",
       "      <td>NaN</td>\n",
       "    </tr>\n",
       "    <tr>\n",
       "      <th>Ohio</th>\n",
       "      <td>3.0</td>\n",
       "      <td>NaN</td>\n",
       "      <td>6.0</td>\n",
       "      <td>NaN</td>\n",
       "    </tr>\n",
       "    <tr>\n",
       "      <th>Texas</th>\n",
       "      <td>6.0</td>\n",
       "      <td>NaN</td>\n",
       "      <td>9.0</td>\n",
       "      <td>NaN</td>\n",
       "    </tr>\n",
       "    <tr>\n",
       "      <th>Oregon</th>\n",
       "      <td>9.0</td>\n",
       "      <td>NaN</td>\n",
       "      <td>12.0</td>\n",
       "      <td>NaN</td>\n",
       "    </tr>\n",
       "  </tbody>\n",
       "</table>\n",
       "</div>"
      ],
      "text/plain": [
       "          b   d     e   f\n",
       "Utah    0.0 NaN   3.0 NaN\n",
       "Ohio    3.0 NaN   6.0 NaN\n",
       "Texas   6.0 NaN   9.0 NaN\n",
       "Oregon  9.0 NaN  12.0 NaN"
      ]
     },
     "execution_count": 133,
     "metadata": {},
     "output_type": "execute_result"
    }
   ],
   "source": [
    "# As before, if there are not the expected matches then the cell value is filled with NaN\n",
    "series2 = pd.Series(range(3), index=['b','e','f'])\n",
    "series2\n",
    "frame + series2\n",
    "    # 'd' isn't an index in the series and 'f' isn't a column in the DF "
   ]
  },
  {
   "cell_type": "code",
   "execution_count": 141,
   "metadata": {
    "collapsed": false
   },
   "outputs": [
    {
     "data": {
      "text/html": [
       "<div>\n",
       "<table border=\"1\" class=\"dataframe\">\n",
       "  <thead>\n",
       "    <tr style=\"text-align: right;\">\n",
       "      <th></th>\n",
       "      <th>Ohio</th>\n",
       "      <th>Oregon</th>\n",
       "      <th>Texas</th>\n",
       "      <th>Utah</th>\n",
       "      <th>b</th>\n",
       "      <th>d</th>\n",
       "      <th>e</th>\n",
       "    </tr>\n",
       "  </thead>\n",
       "  <tbody>\n",
       "    <tr>\n",
       "      <th>Utah</th>\n",
       "      <td>NaN</td>\n",
       "      <td>NaN</td>\n",
       "      <td>NaN</td>\n",
       "      <td>NaN</td>\n",
       "      <td>NaN</td>\n",
       "      <td>NaN</td>\n",
       "      <td>NaN</td>\n",
       "    </tr>\n",
       "    <tr>\n",
       "      <th>Ohio</th>\n",
       "      <td>NaN</td>\n",
       "      <td>NaN</td>\n",
       "      <td>NaN</td>\n",
       "      <td>NaN</td>\n",
       "      <td>NaN</td>\n",
       "      <td>NaN</td>\n",
       "      <td>NaN</td>\n",
       "    </tr>\n",
       "    <tr>\n",
       "      <th>Texas</th>\n",
       "      <td>NaN</td>\n",
       "      <td>NaN</td>\n",
       "      <td>NaN</td>\n",
       "      <td>NaN</td>\n",
       "      <td>NaN</td>\n",
       "      <td>NaN</td>\n",
       "      <td>NaN</td>\n",
       "    </tr>\n",
       "    <tr>\n",
       "      <th>Oregon</th>\n",
       "      <td>NaN</td>\n",
       "      <td>NaN</td>\n",
       "      <td>NaN</td>\n",
       "      <td>NaN</td>\n",
       "      <td>NaN</td>\n",
       "      <td>NaN</td>\n",
       "      <td>NaN</td>\n",
       "    </tr>\n",
       "  </tbody>\n",
       "</table>\n",
       "</div>"
      ],
      "text/plain": [
       "        Ohio  Oregon  Texas  Utah   b   d   e\n",
       "Utah     NaN     NaN    NaN   NaN NaN NaN NaN\n",
       "Ohio     NaN     NaN    NaN   NaN NaN NaN NaN\n",
       "Texas    NaN     NaN    NaN   NaN NaN NaN NaN\n",
       "Oregon   NaN     NaN    NaN   NaN NaN NaN NaN"
      ]
     },
     "execution_count": 141,
     "metadata": {},
     "output_type": "execute_result"
    }
   ],
   "source": [
    "# You can change how indexes and columns are matched in Series & DF arithmetic\n",
    "series3 = frame['d']\n",
    "''' Utah       1.0\n",
    "    Ohio       4.0\n",
    "    Texas      7.0\n",
    "    Oregon    10.0'''\n",
    "frame.sub(series3)\n",
    "    # Just a bunch of NaN's because the ['b','d','e'] columns of Frame don't match any of the ['Utah','Ohio','Texas','Oregon'] series indexes"
   ]
  },
  {
   "cell_type": "code",
   "execution_count": 142,
   "metadata": {
    "collapsed": false
   },
   "outputs": [
    {
     "data": {
      "text/html": [
       "<div>\n",
       "<table border=\"1\" class=\"dataframe\">\n",
       "  <thead>\n",
       "    <tr style=\"text-align: right;\">\n",
       "      <th></th>\n",
       "      <th>b</th>\n",
       "      <th>d</th>\n",
       "      <th>e</th>\n",
       "    </tr>\n",
       "  </thead>\n",
       "  <tbody>\n",
       "    <tr>\n",
       "      <th>Utah</th>\n",
       "      <td>-1.0</td>\n",
       "      <td>0.0</td>\n",
       "      <td>1.0</td>\n",
       "    </tr>\n",
       "    <tr>\n",
       "      <th>Ohio</th>\n",
       "      <td>-1.0</td>\n",
       "      <td>0.0</td>\n",
       "      <td>1.0</td>\n",
       "    </tr>\n",
       "    <tr>\n",
       "      <th>Texas</th>\n",
       "      <td>-1.0</td>\n",
       "      <td>0.0</td>\n",
       "      <td>1.0</td>\n",
       "    </tr>\n",
       "    <tr>\n",
       "      <th>Oregon</th>\n",
       "      <td>-1.0</td>\n",
       "      <td>0.0</td>\n",
       "      <td>1.0</td>\n",
       "    </tr>\n",
       "  </tbody>\n",
       "</table>\n",
       "</div>"
      ],
      "text/plain": [
       "          b    d    e\n",
       "Utah   -1.0  0.0  1.0\n",
       "Ohio   -1.0  0.0  1.0\n",
       "Texas  -1.0  0.0  1.0\n",
       "Oregon -1.0  0.0  1.0"
      ]
     },
     "execution_count": 142,
     "metadata": {},
     "output_type": "execute_result"
    }
   ],
   "source": [
    "# Specifying axis=0 for says to use axis = 0 of the dataframe.  \n",
    "frame.sub(series3, axis=0)"
   ]
  },
  {
   "cell_type": "code",
   "execution_count": 149,
   "metadata": {
    "collapsed": false
   },
   "outputs": [
    {
     "data": {
      "text/html": [
       "<div>\n",
       "<table border=\"1\" class=\"dataframe\">\n",
       "  <thead>\n",
       "    <tr style=\"text-align: right;\">\n",
       "      <th></th>\n",
       "      <th>b</th>\n",
       "      <th>d</th>\n",
       "      <th>e</th>\n",
       "    </tr>\n",
       "  </thead>\n",
       "  <tbody>\n",
       "    <tr>\n",
       "      <th>Utah</th>\n",
       "      <td>0.806038</td>\n",
       "      <td>-0.666838</td>\n",
       "      <td>-1.107427</td>\n",
       "    </tr>\n",
       "    <tr>\n",
       "      <th>Ohio</th>\n",
       "      <td>0.681895</td>\n",
       "      <td>0.637201</td>\n",
       "      <td>-0.230924</td>\n",
       "    </tr>\n",
       "    <tr>\n",
       "      <th>Texas</th>\n",
       "      <td>0.095892</td>\n",
       "      <td>-1.846964</td>\n",
       "      <td>0.179568</td>\n",
       "    </tr>\n",
       "    <tr>\n",
       "      <th>Oregon</th>\n",
       "      <td>-0.204658</td>\n",
       "      <td>0.891902</td>\n",
       "      <td>-0.841593</td>\n",
       "    </tr>\n",
       "  </tbody>\n",
       "</table>\n",
       "</div>"
      ],
      "text/plain": [
       "               b         d         e\n",
       "Utah    0.806038 -0.666838 -1.107427\n",
       "Ohio    0.681895  0.637201 -0.230924\n",
       "Texas   0.095892 -1.846964  0.179568\n",
       "Oregon -0.204658  0.891902 -0.841593"
      ]
     },
     "execution_count": 149,
     "metadata": {},
     "output_type": "execute_result"
    }
   ],
   "source": [
    "## Function Application \n",
    "frame = pd.DataFrame(np.random.randn(4, 3), columns=['b','d','e'], index=['Utah','Ohio','Texas','Oregon'])\n",
    "frame"
   ]
  },
  {
   "cell_type": "code",
   "execution_count": 151,
   "metadata": {
    "collapsed": false
   },
   "outputs": [
    {
     "data": {
      "text/html": [
       "<div>\n",
       "<table border=\"1\" class=\"dataframe\">\n",
       "  <thead>\n",
       "    <tr style=\"text-align: right;\">\n",
       "      <th></th>\n",
       "      <th>b</th>\n",
       "      <th>d</th>\n",
       "      <th>e</th>\n",
       "    </tr>\n",
       "  </thead>\n",
       "  <tbody>\n",
       "    <tr>\n",
       "      <th>Utah</th>\n",
       "      <td>0.806038</td>\n",
       "      <td>0.666838</td>\n",
       "      <td>1.107427</td>\n",
       "    </tr>\n",
       "    <tr>\n",
       "      <th>Ohio</th>\n",
       "      <td>0.681895</td>\n",
       "      <td>0.637201</td>\n",
       "      <td>0.230924</td>\n",
       "    </tr>\n",
       "    <tr>\n",
       "      <th>Texas</th>\n",
       "      <td>0.095892</td>\n",
       "      <td>1.846964</td>\n",
       "      <td>0.179568</td>\n",
       "    </tr>\n",
       "    <tr>\n",
       "      <th>Oregon</th>\n",
       "      <td>0.204658</td>\n",
       "      <td>0.891902</td>\n",
       "      <td>0.841593</td>\n",
       "    </tr>\n",
       "  </tbody>\n",
       "</table>\n",
       "</div>"
      ],
      "text/plain": [
       "               b         d         e\n",
       "Utah    0.806038  0.666838  1.107427\n",
       "Ohio    0.681895  0.637201  0.230924\n",
       "Texas   0.095892  1.846964  0.179568\n",
       "Oregon  0.204658  0.891902  0.841593"
      ]
     },
     "execution_count": 151,
     "metadata": {},
     "output_type": "execute_result"
    }
   ],
   "source": [
    "# Applying ufuncs\n",
    "np.abs(frame)"
   ]
  },
  {
   "cell_type": "code",
   "execution_count": 152,
   "metadata": {
    "collapsed": false
   },
   "outputs": [
    {
     "data": {
      "text/plain": [
       "b    1.010697\n",
       "d    2.738865\n",
       "e    1.286995\n",
       "dtype: float64"
      ]
     },
     "execution_count": 152,
     "metadata": {},
     "output_type": "execute_result"
    }
   ],
   "source": [
    "# Using a lambda\n",
    "f = lambda x: x.max() - x.min()\n",
    "frame.apply(f)\n",
    "    # The default is to apply the lambda row-by-row for each column"
   ]
  },
  {
   "cell_type": "code",
   "execution_count": 153,
   "metadata": {
    "collapsed": false
   },
   "outputs": [
    {
     "data": {
      "text/plain": [
       "Utah      1.913465\n",
       "Ohio      0.912819\n",
       "Texas     2.026532\n",
       "Oregon    1.733495\n",
       "dtype: float64"
      ]
     },
     "execution_count": 153,
     "metadata": {},
     "output_type": "execute_result"
    }
   ],
   "source": [
    "frame.apply(f, axis=1)\n",
    "    # Specifying axis = 1 applies the lambad column-by-column for each index"
   ]
  },
  {
   "cell_type": "code",
   "execution_count": 154,
   "metadata": {
    "collapsed": false
   },
   "outputs": [
    {
     "data": {
      "text/html": [
       "<div>\n",
       "<table border=\"1\" class=\"dataframe\">\n",
       "  <thead>\n",
       "    <tr style=\"text-align: right;\">\n",
       "      <th></th>\n",
       "      <th>b</th>\n",
       "      <th>d</th>\n",
       "      <th>e</th>\n",
       "    </tr>\n",
       "  </thead>\n",
       "  <tbody>\n",
       "    <tr>\n",
       "      <th>min</th>\n",
       "      <td>-0.204658</td>\n",
       "      <td>-1.846964</td>\n",
       "      <td>-1.107427</td>\n",
       "    </tr>\n",
       "    <tr>\n",
       "      <th>max</th>\n",
       "      <td>0.806038</td>\n",
       "      <td>0.891902</td>\n",
       "      <td>0.179568</td>\n",
       "    </tr>\n",
       "  </tbody>\n",
       "</table>\n",
       "</div>"
      ],
      "text/plain": [
       "            b         d         e\n",
       "min -0.204658 -1.846964 -1.107427\n",
       "max  0.806038  0.891902  0.179568"
      ]
     },
     "execution_count": 154,
     "metadata": {},
     "output_type": "execute_result"
    }
   ],
   "source": [
    "# Using \"apply\" to on a more complicated function that returns a series\n",
    "def f(x):\n",
    "    return pd.Series([x.min(), x.max()], index=['min', 'max'])\n",
    "\n",
    "frame.apply(f)\n",
    "    # The result is a dataframe because we pass in row-by-row for each column and get 2 values per column"
   ]
  },
  {
   "cell_type": "code",
   "execution_count": 158,
   "metadata": {
    "collapsed": false
   },
   "outputs": [
    {
     "data": {
      "text/html": [
       "<div>\n",
       "<table border=\"1\" class=\"dataframe\">\n",
       "  <thead>\n",
       "    <tr style=\"text-align: right;\">\n",
       "      <th></th>\n",
       "      <th>b</th>\n",
       "      <th>d</th>\n",
       "      <th>e</th>\n",
       "    </tr>\n",
       "  </thead>\n",
       "  <tbody>\n",
       "    <tr>\n",
       "      <th>Utah</th>\n",
       "      <td>0.81</td>\n",
       "      <td>-0.67</td>\n",
       "      <td>-1.11</td>\n",
       "    </tr>\n",
       "    <tr>\n",
       "      <th>Ohio</th>\n",
       "      <td>0.68</td>\n",
       "      <td>0.64</td>\n",
       "      <td>-0.23</td>\n",
       "    </tr>\n",
       "    <tr>\n",
       "      <th>Texas</th>\n",
       "      <td>0.10</td>\n",
       "      <td>-1.85</td>\n",
       "      <td>0.18</td>\n",
       "    </tr>\n",
       "    <tr>\n",
       "      <th>Oregon</th>\n",
       "      <td>-0.20</td>\n",
       "      <td>0.89</td>\n",
       "      <td>-0.84</td>\n",
       "    </tr>\n",
       "  </tbody>\n",
       "</table>\n",
       "</div>"
      ],
      "text/plain": [
       "            b      d      e\n",
       "Utah     0.81  -0.67  -1.11\n",
       "Ohio     0.68   0.64  -0.23\n",
       "Texas    0.10  -1.85   0.18\n",
       "Oregon  -0.20   0.89  -0.84"
      ]
     },
     "execution_count": 158,
     "metadata": {},
     "output_type": "execute_result"
    }
   ],
   "source": [
    "## Applymap v. Apply\n",
    "\n",
    "# applymap is element-wise.  apply basically does aggreagtions\n",
    "format = lambda x: '%.2f' % x\n",
    "#frame.apply(format)\n",
    "    # This returns an error saying that the lambda expects a float not a series\n",
    "frame.applymap(format)"
   ]
  },
  {
   "cell_type": "code",
   "execution_count": 164,
   "metadata": {
    "collapsed": false
   },
   "outputs": [
    {
     "data": {
      "text/plain": [
       "Utah      -1.11\n",
       "Ohio      -0.23\n",
       "Texas      0.18\n",
       "Oregon    -0.84\n",
       "Name: e, dtype: object"
      ]
     },
     "execution_count": 164,
     "metadata": {},
     "output_type": "execute_result"
    }
   ],
   "source": [
    "# Pandas \"Maps\" can be applied only to Series.  Applymap makes them work with DataFrames.\n",
    "frame['e'].map(format)"
   ]
  },
  {
   "cell_type": "code",
   "execution_count": 177,
   "metadata": {
    "collapsed": false
   },
   "outputs": [
    {
     "data": {
      "text/plain": [
       "B    2\n",
       "a    1\n",
       "c    3\n",
       "d    0\n",
       "dtype: int64"
      ]
     },
     "execution_count": 177,
     "metadata": {},
     "output_type": "execute_result"
    }
   ],
   "source": [
    "## Sorting and Ranking\n",
    "\n",
    "# Sorting by Index - Series\n",
    "obj = pd.Series(range(4), index=['d','a','B','c'])\n",
    "obj.sort_index()\n",
    "    # Sorts by the index's value (i.e. ASCII value."
   ]
  },
  {
   "cell_type": "code",
   "execution_count": 178,
   "metadata": {
    "collapsed": false
   },
   "outputs": [
    {
     "data": {
      "text/html": [
       "<div>\n",
       "<table border=\"1\" class=\"dataframe\">\n",
       "  <thead>\n",
       "    <tr style=\"text-align: right;\">\n",
       "      <th></th>\n",
       "      <th>d</th>\n",
       "      <th>c</th>\n",
       "      <th>b</th>\n",
       "      <th>a</th>\n",
       "    </tr>\n",
       "  </thead>\n",
       "  <tbody>\n",
       "    <tr>\n",
       "      <th>three</th>\n",
       "      <td>0</td>\n",
       "      <td>3</td>\n",
       "      <td>2</td>\n",
       "      <td>1</td>\n",
       "    </tr>\n",
       "    <tr>\n",
       "      <th>one</th>\n",
       "      <td>4</td>\n",
       "      <td>7</td>\n",
       "      <td>6</td>\n",
       "      <td>5</td>\n",
       "    </tr>\n",
       "  </tbody>\n",
       "</table>\n",
       "</div>"
      ],
      "text/plain": [
       "       d  c  b  a\n",
       "three  0  3  2  1\n",
       "one    4  7  6  5"
      ]
     },
     "execution_count": 178,
     "metadata": {},
     "output_type": "execute_result"
    }
   ],
   "source": [
    "# Sorting by Index - DataFrame\n",
    "# With a DataFrame can sort by index value or column value\n",
    "frame = pd.DataFrame(np.arange(8).reshape((2,4)), index=['three','one'], columns=['d','a','b','c'])\n",
    "frame.sort_index(axis=1)\n",
    "    # Sort by the Column value\n",
    "frame.sort_index(axis=1, ascending=False)\n",
    "    # Sort by the Column value, descending"
   ]
  },
  {
   "cell_type": "code",
   "execution_count": 183,
   "metadata": {
    "collapsed": false
   },
   "outputs": [
    {
     "data": {
      "text/plain": [
       "2   -3.0\n",
       "3    2.0\n",
       "0    4.0\n",
       "5    5.0\n",
       "1    7.0\n",
       "4    NaN\n",
       "dtype: float64"
      ]
     },
     "execution_count": 183,
     "metadata": {},
     "output_type": "execute_result"
    }
   ],
   "source": [
    "# Sorting by Value - Series\n",
    "obj = pd.Series([4, 7, -3, 2, np.nan, 5])\n",
    "obj.sort_values()\n",
    "    # Missing values are always put at the end"
   ]
  },
  {
   "cell_type": "code",
   "execution_count": 193,
   "metadata": {
    "collapsed": false
   },
   "outputs": [
    {
     "data": {
      "text/html": [
       "<div>\n",
       "<table border=\"1\" class=\"dataframe\">\n",
       "  <thead>\n",
       "    <tr style=\"text-align: right;\">\n",
       "      <th></th>\n",
       "      <th>a</th>\n",
       "      <th>b</th>\n",
       "    </tr>\n",
       "  </thead>\n",
       "  <tbody>\n",
       "    <tr>\n",
       "      <th>2</th>\n",
       "      <td>0</td>\n",
       "      <td>-3</td>\n",
       "    </tr>\n",
       "    <tr>\n",
       "      <th>3</th>\n",
       "      <td>1</td>\n",
       "      <td>2</td>\n",
       "    </tr>\n",
       "    <tr>\n",
       "      <th>0</th>\n",
       "      <td>0</td>\n",
       "      <td>4</td>\n",
       "    </tr>\n",
       "    <tr>\n",
       "      <th>1</th>\n",
       "      <td>1</td>\n",
       "      <td>7</td>\n",
       "    </tr>\n",
       "  </tbody>\n",
       "</table>\n",
       "</div>"
      ],
      "text/plain": [
       "   a  b\n",
       "2  0 -3\n",
       "3  1  2\n",
       "0  0  4\n",
       "1  1  7"
      ]
     },
     "execution_count": 193,
     "metadata": {},
     "output_type": "execute_result"
    }
   ],
   "source": [
    "# Sorting by Value - Data Frame\n",
    "# Main difference is that you have to specify 1 or more columns\n",
    "frame = pd.DataFrame({'b': [4, 7, -3, 2], 'a': [0, 1, 0, 1]})\n",
    "frame.sort_values(by='b')\n",
    "    # Note that the indexes are preserved when we sort"
   ]
  },
  {
   "cell_type": "code",
   "execution_count": 210,
   "metadata": {
    "collapsed": false
   },
   "outputs": [
    {
     "data": {
      "text/html": [
       "<div>\n",
       "<table border=\"1\" class=\"dataframe\">\n",
       "  <thead>\n",
       "    <tr style=\"text-align: right;\">\n",
       "      <th></th>\n",
       "      <th>obj</th>\n",
       "      <th>obj.rank()</th>\n",
       "      <th>obj.rank(ascending=False)</th>\n",
       "      <th>obj.rank(method='first')</th>\n",
       "      <th>obj.rank(method='max')</th>\n",
       "    </tr>\n",
       "  </thead>\n",
       "  <tbody>\n",
       "    <tr>\n",
       "      <th>0</th>\n",
       "      <td>7</td>\n",
       "      <td>6.5</td>\n",
       "      <td>2.0</td>\n",
       "      <td>6.0</td>\n",
       "      <td>7.0</td>\n",
       "    </tr>\n",
       "    <tr>\n",
       "      <th>1</th>\n",
       "      <td>-5</td>\n",
       "      <td>1.0</td>\n",
       "      <td>7.0</td>\n",
       "      <td>1.0</td>\n",
       "      <td>1.0</td>\n",
       "    </tr>\n",
       "    <tr>\n",
       "      <th>2</th>\n",
       "      <td>7</td>\n",
       "      <td>6.5</td>\n",
       "      <td>2.0</td>\n",
       "      <td>7.0</td>\n",
       "      <td>7.0</td>\n",
       "    </tr>\n",
       "    <tr>\n",
       "      <th>3</th>\n",
       "      <td>4</td>\n",
       "      <td>4.5</td>\n",
       "      <td>4.0</td>\n",
       "      <td>4.0</td>\n",
       "      <td>5.0</td>\n",
       "    </tr>\n",
       "    <tr>\n",
       "      <th>4</th>\n",
       "      <td>2</td>\n",
       "      <td>3.0</td>\n",
       "      <td>5.0</td>\n",
       "      <td>3.0</td>\n",
       "      <td>3.0</td>\n",
       "    </tr>\n",
       "    <tr>\n",
       "      <th>5</th>\n",
       "      <td>0</td>\n",
       "      <td>2.0</td>\n",
       "      <td>6.0</td>\n",
       "      <td>2.0</td>\n",
       "      <td>2.0</td>\n",
       "    </tr>\n",
       "    <tr>\n",
       "      <th>6</th>\n",
       "      <td>4</td>\n",
       "      <td>4.5</td>\n",
       "      <td>4.0</td>\n",
       "      <td>5.0</td>\n",
       "      <td>5.0</td>\n",
       "    </tr>\n",
       "  </tbody>\n",
       "</table>\n",
       "</div>"
      ],
      "text/plain": [
       "   obj  obj.rank()  obj.rank(ascending=False)  obj.rank(method='first')  \\\n",
       "0    7         6.5                        2.0                       6.0   \n",
       "1   -5         1.0                        7.0                       1.0   \n",
       "2    7         6.5                        2.0                       7.0   \n",
       "3    4         4.5                        4.0                       4.0   \n",
       "4    2         3.0                        5.0                       3.0   \n",
       "5    0         2.0                        6.0                       2.0   \n",
       "6    4         4.5                        4.0                       5.0   \n",
       "\n",
       "   obj.rank(method='max')  \n",
       "0                     7.0  \n",
       "1                     1.0  \n",
       "2                     7.0  \n",
       "3                     5.0  \n",
       "4                     3.0  \n",
       "5                     2.0  \n",
       "6                     5.0  "
      ]
     },
     "execution_count": 210,
     "metadata": {},
     "output_type": "execute_result"
    }
   ],
   "source": [
    "# Ranking - Determining order value\n",
    "obj = pd.Series([7, -5, 7, 4, 2, 0, 4])\n",
    "pd.DataFrame({'obj': obj, 'obj.rank()': obj.rank()\n",
    "              , 'obj.rank(method=\\'first\\')': obj.rank(method='first')\n",
    "              , 'obj.rank(method=\\'max\\')': obj.rank(method='max')\n",
    "              , 'obj.rank(ascending=False)': obj.rank(ascending = False, method='max')})\n",
    "    # Rank tells you the order of the object.  \n",
    "    # By default, ties are assigned the mean rank (may be an non-integer)\n",
    "    # With method = 'first' then the first occurrence of the tying element in the original array is the lower number\n",
    "    #     next is next-lowest, etc.\n",
    "    # With method = 'max' rank in descending order"
   ]
  },
  {
   "cell_type": "code",
   "execution_count": 216,
   "metadata": {
    "collapsed": false
   },
   "outputs": [
    {
     "data": {
      "text/plain": [
       "False"
      ]
     },
     "execution_count": 216,
     "metadata": {},
     "output_type": "execute_result"
    }
   ],
   "source": [
    "## Duplicate Indexes\n",
    "obj = pd.Series(range(5), index = ['a','a','b','b','c'])\n",
    "obj.index.is_unique\n",
    "    # is_unique is not a function but some other horror.  It doesn't get parentheses"
   ]
  },
  {
   "cell_type": "code",
   "execution_count": null,
   "metadata": {
    "collapsed": true
   },
   "outputs": [],
   "source": [
    "## Descriptive Statistics"
   ]
  },
  {
   "cell_type": "code",
   "execution_count": 223,
   "metadata": {
    "collapsed": false
   },
   "outputs": [
    {
     "data": {
      "text/html": [
       "<div>\n",
       "<table border=\"1\" class=\"dataframe\">\n",
       "  <thead>\n",
       "    <tr style=\"text-align: right;\">\n",
       "      <th></th>\n",
       "      <th>one</th>\n",
       "      <th>two</th>\n",
       "    </tr>\n",
       "  </thead>\n",
       "  <tbody>\n",
       "    <tr>\n",
       "      <th>a</th>\n",
       "      <td>1.40</td>\n",
       "      <td>NaN</td>\n",
       "    </tr>\n",
       "    <tr>\n",
       "      <th>b</th>\n",
       "      <td>7.10</td>\n",
       "      <td>-4.5</td>\n",
       "    </tr>\n",
       "    <tr>\n",
       "      <th>c</th>\n",
       "      <td>NaN</td>\n",
       "      <td>NaN</td>\n",
       "    </tr>\n",
       "    <tr>\n",
       "      <th>d</th>\n",
       "      <td>0.75</td>\n",
       "      <td>-1.3</td>\n",
       "    </tr>\n",
       "  </tbody>\n",
       "</table>\n",
       "</div>"
      ],
      "text/plain": [
       "    one  two\n",
       "a  1.40  NaN\n",
       "b  7.10 -4.5\n",
       "c   NaN  NaN\n",
       "d  0.75 -1.3"
      ]
     },
     "execution_count": 223,
     "metadata": {},
     "output_type": "execute_result"
    }
   ],
   "source": [
    "df = pd.DataFrame([[1.4, np.nan], [7.1, -4.5], [np.nan, np.nan], [0.75, -1.3]], index=list('abcd'), columns=['one','two'])\n",
    "df"
   ]
  },
  {
   "cell_type": "code",
   "execution_count": 224,
   "metadata": {
    "collapsed": false
   },
   "outputs": [
    {
     "data": {
      "text/plain": [
       "one    9.25\n",
       "two   -5.80\n",
       "dtype: float64"
      ]
     },
     "execution_count": 224,
     "metadata": {},
     "output_type": "execute_result"
    }
   ],
   "source": [
    "df.sum() # Sum row-by-row over the columns  # Output is a series"
   ]
  },
  {
   "cell_type": "code",
   "execution_count": 225,
   "metadata": {
    "collapsed": false
   },
   "outputs": [
    {
     "data": {
      "text/plain": [
       "a    1.40\n",
       "b    2.60\n",
       "c     NaN\n",
       "d   -0.55\n",
       "dtype: float64"
      ]
     },
     "execution_count": 225,
     "metadata": {},
     "output_type": "execute_result"
    }
   ],
   "source": [
    "df.sum(axis=1) # Sum column-by-column over the rows  # Output is a series"
   ]
  },
  {
   "cell_type": "code",
   "execution_count": 227,
   "metadata": {
    "collapsed": false
   },
   "outputs": [
    {
     "data": {
      "text/plain": [
       "a      NaN\n",
       "b    1.300\n",
       "c      NaN\n",
       "d   -0.275\n",
       "dtype: float64"
      ]
     },
     "execution_count": 227,
     "metadata": {},
     "output_type": "execute_result"
    }
   ],
   "source": [
    "df.mean(axis=1, skipna=False)"
   ]
  },
  {
   "cell_type": "code",
   "execution_count": 251,
   "metadata": {
    "collapsed": false
   },
   "outputs": [],
   "source": [
    "# Correlation and Covariance -- using Yahoo Finance data\n",
    "from pandas_datareader import data as web\n",
    "all_data = {}\n",
    "for ticker in ['AAPL', 'IBM', 'MSFT', 'GOOG']:\n",
    "    all_data[ticker] = web.get_data_yahoo(ticker)\n",
    "    \n",
    "price = pd.DataFrame({tic: data['Adj Close'] for tic, data in all_data.iteritems()})\n",
    "volume = pd.DataFrame({tic: data['Volume'] for tic, data in all_data.iteritems() })"
   ]
  },
  {
   "cell_type": "code",
   "execution_count": 258,
   "metadata": {
    "collapsed": false,
    "scrolled": true
   },
   "outputs": [
    {
     "data": {
      "text/html": [
       "<div>\n",
       "<table border=\"1\" class=\"dataframe\">\n",
       "  <thead>\n",
       "    <tr style=\"text-align: right;\">\n",
       "      <th></th>\n",
       "      <th>AAPL</th>\n",
       "      <th>AAPL</th>\n",
       "      <th>GOOG</th>\n",
       "      <th>GOOG</th>\n",
       "      <th>IBM</th>\n",
       "      <th>IBM</th>\n",
       "      <th>MSFT</th>\n",
       "      <th>MSFT</th>\n",
       "    </tr>\n",
       "    <tr>\n",
       "      <th>Date</th>\n",
       "      <th></th>\n",
       "      <th></th>\n",
       "      <th></th>\n",
       "      <th></th>\n",
       "      <th></th>\n",
       "      <th></th>\n",
       "      <th></th>\n",
       "      <th></th>\n",
       "    </tr>\n",
       "  </thead>\n",
       "  <tbody>\n",
       "    <tr>\n",
       "      <th>2010-01-04</th>\n",
       "      <td>27.990226</td>\n",
       "      <td>123432400</td>\n",
       "      <td>313.062468</td>\n",
       "      <td>3927000</td>\n",
       "      <td>113.304536</td>\n",
       "      <td>6155300</td>\n",
       "      <td>25.884104</td>\n",
       "      <td>38409100</td>\n",
       "    </tr>\n",
       "    <tr>\n",
       "      <th>2010-01-05</th>\n",
       "      <td>28.038618</td>\n",
       "      <td>150476200</td>\n",
       "      <td>311.683844</td>\n",
       "      <td>6031900</td>\n",
       "      <td>111.935822</td>\n",
       "      <td>6841400</td>\n",
       "      <td>25.892466</td>\n",
       "      <td>49749600</td>\n",
       "    </tr>\n",
       "    <tr>\n",
       "      <th>2010-01-06</th>\n",
       "      <td>27.592626</td>\n",
       "      <td>138040000</td>\n",
       "      <td>303.826685</td>\n",
       "      <td>7987100</td>\n",
       "      <td>111.208683</td>\n",
       "      <td>5605300</td>\n",
       "      <td>25.733566</td>\n",
       "      <td>58182400</td>\n",
       "    </tr>\n",
       "    <tr>\n",
       "      <th>2010-01-07</th>\n",
       "      <td>27.541619</td>\n",
       "      <td>119282800</td>\n",
       "      <td>296.753749</td>\n",
       "      <td>12876600</td>\n",
       "      <td>110.823732</td>\n",
       "      <td>5840600</td>\n",
       "      <td>25.465944</td>\n",
       "      <td>50559700</td>\n",
       "    </tr>\n",
       "    <tr>\n",
       "      <th>2010-01-08</th>\n",
       "      <td>27.724725</td>\n",
       "      <td>111902700</td>\n",
       "      <td>300.709808</td>\n",
       "      <td>9483900</td>\n",
       "      <td>111.935822</td>\n",
       "      <td>4197200</td>\n",
       "      <td>25.641571</td>\n",
       "      <td>51197400</td>\n",
       "    </tr>\n",
       "    <tr>\n",
       "      <th>2010-01-11</th>\n",
       "      <td>27.480148</td>\n",
       "      <td>115557400</td>\n",
       "      <td>300.255255</td>\n",
       "      <td>14479800</td>\n",
       "      <td>110.763844</td>\n",
       "      <td>5730400</td>\n",
       "      <td>25.315406</td>\n",
       "      <td>68754700</td>\n",
       "    </tr>\n",
       "    <tr>\n",
       "      <th>2010-01-12</th>\n",
       "      <td>27.167562</td>\n",
       "      <td>148614900</td>\n",
       "      <td>294.945572</td>\n",
       "      <td>9742900</td>\n",
       "      <td>111.644958</td>\n",
       "      <td>8081500</td>\n",
       "      <td>25.148142</td>\n",
       "      <td>65912100</td>\n",
       "    </tr>\n",
       "    <tr>\n",
       "      <th>2010-01-13</th>\n",
       "      <td>27.550775</td>\n",
       "      <td>151473000</td>\n",
       "      <td>293.252243</td>\n",
       "      <td>13041800</td>\n",
       "      <td>111.405433</td>\n",
       "      <td>6455400</td>\n",
       "      <td>25.382312</td>\n",
       "      <td>51863500</td>\n",
       "    </tr>\n",
       "    <tr>\n",
       "      <th>2010-01-14</th>\n",
       "      <td>27.391211</td>\n",
       "      <td>108223500</td>\n",
       "      <td>294.630868</td>\n",
       "      <td>8511900</td>\n",
       "      <td>113.184773</td>\n",
       "      <td>7111800</td>\n",
       "      <td>25.892466</td>\n",
       "      <td>63228100</td>\n",
       "    </tr>\n",
       "    <tr>\n",
       "      <th>2010-01-15</th>\n",
       "      <td>26.933449</td>\n",
       "      <td>148516900</td>\n",
       "      <td>289.710772</td>\n",
       "      <td>10909600</td>\n",
       "      <td>112.731385</td>\n",
       "      <td>8494400</td>\n",
       "      <td>25.808835</td>\n",
       "      <td>79913200</td>\n",
       "    </tr>\n",
       "    <tr>\n",
       "      <th>2010-01-19</th>\n",
       "      <td>28.124939</td>\n",
       "      <td>182501900</td>\n",
       "      <td>293.516976</td>\n",
       "      <td>8665700</td>\n",
       "      <td>114.750251</td>\n",
       "      <td>13916200</td>\n",
       "      <td>26.009552</td>\n",
       "      <td>46575700</td>\n",
       "    </tr>\n",
       "    <tr>\n",
       "      <th>2010-01-20</th>\n",
       "      <td>27.692027</td>\n",
       "      <td>153038200</td>\n",
       "      <td>289.915587</td>\n",
       "      <td>6525700</td>\n",
       "      <td>111.422546</td>\n",
       "      <td>15197500</td>\n",
       "      <td>25.583028</td>\n",
       "      <td>54849500</td>\n",
       "    </tr>\n",
       "    <tr>\n",
       "      <th>2010-01-21</th>\n",
       "      <td>27.213337</td>\n",
       "      <td>152038600</td>\n",
       "      <td>291.199286</td>\n",
       "      <td>12662600</td>\n",
       "      <td>110.353231</td>\n",
       "      <td>9608600</td>\n",
       "      <td>25.097963</td>\n",
       "      <td>73086700</td>\n",
       "    </tr>\n",
       "    <tr>\n",
       "      <th>2010-01-22</th>\n",
       "      <td>25.863592</td>\n",
       "      <td>220441900</td>\n",
       "      <td>274.730736</td>\n",
       "      <td>13651700</td>\n",
       "      <td>107.359151</td>\n",
       "      <td>10088600</td>\n",
       "      <td>24.219826</td>\n",
       "      <td>102004600</td>\n",
       "    </tr>\n",
       "    <tr>\n",
       "      <th>2010-01-25</th>\n",
       "      <td>26.559391</td>\n",
       "      <td>266424900</td>\n",
       "      <td>269.730740</td>\n",
       "      <td>8872800</td>\n",
       "      <td>107.889534</td>\n",
       "      <td>5738500</td>\n",
       "      <td>24.520902</td>\n",
       "      <td>63373000</td>\n",
       "    </tr>\n",
       "    <tr>\n",
       "      <th>2010-01-26</th>\n",
       "      <td>26.934757</td>\n",
       "      <td>466777500</td>\n",
       "      <td>270.939526</td>\n",
       "      <td>8743600</td>\n",
       "      <td>107.573014</td>\n",
       "      <td>7135300</td>\n",
       "      <td>24.671439</td>\n",
       "      <td>66639900</td>\n",
       "    </tr>\n",
       "    <tr>\n",
       "      <th>2010-01-27</th>\n",
       "      <td>27.188489</td>\n",
       "      <td>430642100</td>\n",
       "      <td>270.779695</td>\n",
       "      <td>7958400</td>\n",
       "      <td>108.069178</td>\n",
       "      <td>8719200</td>\n",
       "      <td>24.813614</td>\n",
       "      <td>63949500</td>\n",
       "    </tr>\n",
       "    <tr>\n",
       "      <th>2010-01-28</th>\n",
       "      <td>26.065007</td>\n",
       "      <td>293375600</td>\n",
       "      <td>266.878565</td>\n",
       "      <td>6482300</td>\n",
       "      <td>105.862111</td>\n",
       "      <td>9622200</td>\n",
       "      <td>24.387091</td>\n",
       "      <td>117513700</td>\n",
       "    </tr>\n",
       "    <tr>\n",
       "      <th>2010-01-29</th>\n",
       "      <td>25.119401</td>\n",
       "      <td>311488100</td>\n",
       "      <td>264.705742</td>\n",
       "      <td>8311900</td>\n",
       "      <td>104.698697</td>\n",
       "      <td>11571200</td>\n",
       "      <td>23.567497</td>\n",
       "      <td>193888500</td>\n",
       "    </tr>\n",
       "    <tr>\n",
       "      <th>2010-02-01</th>\n",
       "      <td>25.468608</td>\n",
       "      <td>187469100</td>\n",
       "      <td>266.244198</td>\n",
       "      <td>4518400</td>\n",
       "      <td>106.649125</td>\n",
       "      <td>7242900</td>\n",
       "      <td>23.759851</td>\n",
       "      <td>85931100</td>\n",
       "    </tr>\n",
       "    <tr>\n",
       "      <th>2010-02-02</th>\n",
       "      <td>25.616400</td>\n",
       "      <td>174585600</td>\n",
       "      <td>265.295156</td>\n",
       "      <td>8223000</td>\n",
       "      <td>107.384814</td>\n",
       "      <td>5899900</td>\n",
       "      <td>23.801666</td>\n",
       "      <td>54413700</td>\n",
       "    </tr>\n",
       "    <tr>\n",
       "      <th>2010-02-03</th>\n",
       "      <td>26.057159</td>\n",
       "      <td>153832000</td>\n",
       "      <td>270.140309</td>\n",
       "      <td>6020500</td>\n",
       "      <td>107.496027</td>\n",
       "      <td>4177100</td>\n",
       "      <td>23.943840</td>\n",
       "      <td>61397900</td>\n",
       "    </tr>\n",
       "    <tr>\n",
       "      <th>2010-02-04</th>\n",
       "      <td>25.118093</td>\n",
       "      <td>189413000</td>\n",
       "      <td>263.127321</td>\n",
       "      <td>6780600</td>\n",
       "      <td>105.220523</td>\n",
       "      <td>9126900</td>\n",
       "      <td>23.283148</td>\n",
       "      <td>77850000</td>\n",
       "    </tr>\n",
       "    <tr>\n",
       "      <th>2010-02-05</th>\n",
       "      <td>25.564084</td>\n",
       "      <td>212576700</td>\n",
       "      <td>265.380075</td>\n",
       "      <td>6335600</td>\n",
       "      <td>105.665355</td>\n",
       "      <td>8617000</td>\n",
       "      <td>23.433686</td>\n",
       "      <td>80960100</td>\n",
       "    </tr>\n",
       "    <tr>\n",
       "      <th>2010-02-08</th>\n",
       "      <td>25.388826</td>\n",
       "      <td>119567700</td>\n",
       "      <td>266.468996</td>\n",
       "      <td>5408700</td>\n",
       "      <td>104.728745</td>\n",
       "      <td>5718500</td>\n",
       "      <td>23.182789</td>\n",
       "      <td>52820600</td>\n",
       "    </tr>\n",
       "    <tr>\n",
       "      <th>2010-02-09</th>\n",
       "      <td>25.659561</td>\n",
       "      <td>158221700</td>\n",
       "      <td>267.952522</td>\n",
       "      <td>5660200</td>\n",
       "      <td>105.871586</td>\n",
       "      <td>6044500</td>\n",
       "      <td>23.425323</td>\n",
       "      <td>59195800</td>\n",
       "    </tr>\n",
       "    <tr>\n",
       "      <th>2010-02-10</th>\n",
       "      <td>25.519617</td>\n",
       "      <td>92590400</td>\n",
       "      <td>266.958496</td>\n",
       "      <td>5369000</td>\n",
       "      <td>105.527873</td>\n",
       "      <td>5219100</td>\n",
       "      <td>23.408596</td>\n",
       "      <td>48591300</td>\n",
       "    </tr>\n",
       "    <tr>\n",
       "      <th>2010-02-11</th>\n",
       "      <td>25.983917</td>\n",
       "      <td>137586400</td>\n",
       "      <td>267.932539</td>\n",
       "      <td>4838000</td>\n",
       "      <td>106.318414</td>\n",
       "      <td>5089000</td>\n",
       "      <td>23.517319</td>\n",
       "      <td>65993700</td>\n",
       "    </tr>\n",
       "    <tr>\n",
       "      <th>2010-02-12</th>\n",
       "      <td>26.207567</td>\n",
       "      <td>163867200</td>\n",
       "      <td>266.294170</td>\n",
       "      <td>4576400</td>\n",
       "      <td>106.550416</td>\n",
       "      <td>8017700</td>\n",
       "      <td>23.358417</td>\n",
       "      <td>81117200</td>\n",
       "    </tr>\n",
       "    <tr>\n",
       "      <th>2010-02-16</th>\n",
       "      <td>26.602551</td>\n",
       "      <td>135934400</td>\n",
       "      <td>270.380071</td>\n",
       "      <td>7336100</td>\n",
       "      <td>107.607330</td>\n",
       "      <td>6777300</td>\n",
       "      <td>23.820544</td>\n",
       "      <td>51935600</td>\n",
       "    </tr>\n",
       "    <tr>\n",
       "      <th>...</th>\n",
       "      <td>...</td>\n",
       "      <td>...</td>\n",
       "      <td>...</td>\n",
       "      <td>...</td>\n",
       "      <td>...</td>\n",
       "      <td>...</td>\n",
       "      <td>...</td>\n",
       "      <td>...</td>\n",
       "    </tr>\n",
       "    <tr>\n",
       "      <th>2016-07-13</th>\n",
       "      <td>96.348065</td>\n",
       "      <td>25892200</td>\n",
       "      <td>716.979980</td>\n",
       "      <td>935900</td>\n",
       "      <td>156.666929</td>\n",
       "      <td>2746400</td>\n",
       "      <td>53.178554</td>\n",
       "      <td>25356800</td>\n",
       "    </tr>\n",
       "    <tr>\n",
       "      <th>2016-07-14</th>\n",
       "      <td>98.257718</td>\n",
       "      <td>38919000</td>\n",
       "      <td>720.950012</td>\n",
       "      <td>950200</td>\n",
       "      <td>158.907572</td>\n",
       "      <td>4637600</td>\n",
       "      <td>53.407133</td>\n",
       "      <td>24545500</td>\n",
       "    </tr>\n",
       "    <tr>\n",
       "      <th>2016-07-15</th>\n",
       "      <td>98.247770</td>\n",
       "      <td>30137000</td>\n",
       "      <td>719.849976</td>\n",
       "      <td>1279300</td>\n",
       "      <td>158.411853</td>\n",
       "      <td>4476800</td>\n",
       "      <td>53.367380</td>\n",
       "      <td>32024400</td>\n",
       "    </tr>\n",
       "    <tr>\n",
       "      <th>2016-07-18</th>\n",
       "      <td>99.292116</td>\n",
       "      <td>36493900</td>\n",
       "      <td>733.780029</td>\n",
       "      <td>1295500</td>\n",
       "      <td>158.491170</td>\n",
       "      <td>6729700</td>\n",
       "      <td>53.625768</td>\n",
       "      <td>31433900</td>\n",
       "    </tr>\n",
       "    <tr>\n",
       "      <th>2016-07-19</th>\n",
       "      <td>99.331901</td>\n",
       "      <td>23779900</td>\n",
       "      <td>736.960022</td>\n",
       "      <td>1227500</td>\n",
       "      <td>158.213569</td>\n",
       "      <td>7120000</td>\n",
       "      <td>52.761158</td>\n",
       "      <td>53336500</td>\n",
       "    </tr>\n",
       "    <tr>\n",
       "      <th>2016-07-20</th>\n",
       "      <td>99.421412</td>\n",
       "      <td>26276000</td>\n",
       "      <td>741.190002</td>\n",
       "      <td>1289700</td>\n",
       "      <td>159.978326</td>\n",
       "      <td>4376300</td>\n",
       "      <td>55.563690</td>\n",
       "      <td>89893300</td>\n",
       "    </tr>\n",
       "    <tr>\n",
       "      <th>2016-07-21</th>\n",
       "      <td>98.894269</td>\n",
       "      <td>32702000</td>\n",
       "      <td>738.630005</td>\n",
       "      <td>1026300</td>\n",
       "      <td>159.076114</td>\n",
       "      <td>3518900</td>\n",
       "      <td>55.454371</td>\n",
       "      <td>32776700</td>\n",
       "    </tr>\n",
       "    <tr>\n",
       "      <th>2016-07-22</th>\n",
       "      <td>98.128421</td>\n",
       "      <td>28313700</td>\n",
       "      <td>742.739990</td>\n",
       "      <td>1259800</td>\n",
       "      <td>160.682253</td>\n",
       "      <td>2520100</td>\n",
       "      <td>56.219602</td>\n",
       "      <td>32157200</td>\n",
       "    </tr>\n",
       "    <tr>\n",
       "      <th>2016-07-25</th>\n",
       "      <td>96.815526</td>\n",
       "      <td>40382900</td>\n",
       "      <td>739.770020</td>\n",
       "      <td>1032400</td>\n",
       "      <td>161.257273</td>\n",
       "      <td>2804600</td>\n",
       "      <td>56.378611</td>\n",
       "      <td>25610600</td>\n",
       "    </tr>\n",
       "    <tr>\n",
       "      <th>2016-07-26</th>\n",
       "      <td>96.149138</td>\n",
       "      <td>56239800</td>\n",
       "      <td>738.419983</td>\n",
       "      <td>1186700</td>\n",
       "      <td>160.731813</td>\n",
       "      <td>2894600</td>\n",
       "      <td>56.408424</td>\n",
       "      <td>28079000</td>\n",
       "    </tr>\n",
       "    <tr>\n",
       "      <th>2016-07-27</th>\n",
       "      <td>102.395300</td>\n",
       "      <td>92344800</td>\n",
       "      <td>741.770020</td>\n",
       "      <td>1512500</td>\n",
       "      <td>160.444303</td>\n",
       "      <td>2162700</td>\n",
       "      <td>55.841955</td>\n",
       "      <td>32327500</td>\n",
       "    </tr>\n",
       "    <tr>\n",
       "      <th>2016-07-28</th>\n",
       "      <td>103.777810</td>\n",
       "      <td>39869800</td>\n",
       "      <td>745.909973</td>\n",
       "      <td>3530200</td>\n",
       "      <td>159.988235</td>\n",
       "      <td>2340400</td>\n",
       "      <td>55.861831</td>\n",
       "      <td>37550400</td>\n",
       "    </tr>\n",
       "    <tr>\n",
       "      <th>2016-07-29</th>\n",
       "      <td>103.648513</td>\n",
       "      <td>27733700</td>\n",
       "      <td>768.789978</td>\n",
       "      <td>3841500</td>\n",
       "      <td>159.244657</td>\n",
       "      <td>3547500</td>\n",
       "      <td>56.328921</td>\n",
       "      <td>30558700</td>\n",
       "    </tr>\n",
       "    <tr>\n",
       "      <th>2016-08-01</th>\n",
       "      <td>105.478603</td>\n",
       "      <td>38167900</td>\n",
       "      <td>772.880005</td>\n",
       "      <td>2700500</td>\n",
       "      <td>160.067552</td>\n",
       "      <td>2823600</td>\n",
       "      <td>56.229542</td>\n",
       "      <td>26003400</td>\n",
       "    </tr>\n",
       "    <tr>\n",
       "      <th>2016-08-02</th>\n",
       "      <td>103.917063</td>\n",
       "      <td>33816600</td>\n",
       "      <td>771.070007</td>\n",
       "      <td>1784500</td>\n",
       "      <td>159.205006</td>\n",
       "      <td>3080900</td>\n",
       "      <td>56.229542</td>\n",
       "      <td>35122000</td>\n",
       "    </tr>\n",
       "    <tr>\n",
       "      <th>2016-08-03</th>\n",
       "      <td>105.220002</td>\n",
       "      <td>30202600</td>\n",
       "      <td>773.179993</td>\n",
       "      <td>1287400</td>\n",
       "      <td>159.294232</td>\n",
       "      <td>2861700</td>\n",
       "      <td>56.617126</td>\n",
       "      <td>22075600</td>\n",
       "    </tr>\n",
       "    <tr>\n",
       "      <th>2016-08-04</th>\n",
       "      <td>105.870003</td>\n",
       "      <td>27408700</td>\n",
       "      <td>771.609985</td>\n",
       "      <td>1140300</td>\n",
       "      <td>160.166701</td>\n",
       "      <td>2489100</td>\n",
       "      <td>57.034523</td>\n",
       "      <td>26587700</td>\n",
       "    </tr>\n",
       "    <tr>\n",
       "      <th>2016-08-05</th>\n",
       "      <td>107.480003</td>\n",
       "      <td>40553400</td>\n",
       "      <td>782.219971</td>\n",
       "      <td>1801200</td>\n",
       "      <td>162.100001</td>\n",
       "      <td>3812400</td>\n",
       "      <td>57.600992</td>\n",
       "      <td>29335200</td>\n",
       "    </tr>\n",
       "    <tr>\n",
       "      <th>2016-08-08</th>\n",
       "      <td>108.370003</td>\n",
       "      <td>28037200</td>\n",
       "      <td>781.760010</td>\n",
       "      <td>1107900</td>\n",
       "      <td>162.039993</td>\n",
       "      <td>3039300</td>\n",
       "      <td>57.700375</td>\n",
       "      <td>19473500</td>\n",
       "    </tr>\n",
       "    <tr>\n",
       "      <th>2016-08-09</th>\n",
       "      <td>108.809998</td>\n",
       "      <td>26315200</td>\n",
       "      <td>784.260010</td>\n",
       "      <td>1175400</td>\n",
       "      <td>161.770004</td>\n",
       "      <td>2737500</td>\n",
       "      <td>57.839507</td>\n",
       "      <td>16920700</td>\n",
       "    </tr>\n",
       "    <tr>\n",
       "      <th>2016-08-10</th>\n",
       "      <td>108.000000</td>\n",
       "      <td>24008500</td>\n",
       "      <td>784.679993</td>\n",
       "      <td>784500</td>\n",
       "      <td>162.080002</td>\n",
       "      <td>2466700</td>\n",
       "      <td>57.660621</td>\n",
       "      <td>15756900</td>\n",
       "    </tr>\n",
       "    <tr>\n",
       "      <th>2016-08-11</th>\n",
       "      <td>107.930000</td>\n",
       "      <td>27484500</td>\n",
       "      <td>784.849976</td>\n",
       "      <td>971100</td>\n",
       "      <td>163.529999</td>\n",
       "      <td>8768600</td>\n",
       "      <td>57.938886</td>\n",
       "      <td>18162300</td>\n",
       "    </tr>\n",
       "    <tr>\n",
       "      <th>2016-08-12</th>\n",
       "      <td>108.180000</td>\n",
       "      <td>18660400</td>\n",
       "      <td>783.219971</td>\n",
       "      <td>738300</td>\n",
       "      <td>161.949997</td>\n",
       "      <td>2543100</td>\n",
       "      <td>57.581115</td>\n",
       "      <td>21655200</td>\n",
       "    </tr>\n",
       "    <tr>\n",
       "      <th>2016-08-15</th>\n",
       "      <td>109.480003</td>\n",
       "      <td>25868200</td>\n",
       "      <td>782.440002</td>\n",
       "      <td>936600</td>\n",
       "      <td>161.880005</td>\n",
       "      <td>2970400</td>\n",
       "      <td>57.760000</td>\n",
       "      <td>19283900</td>\n",
       "    </tr>\n",
       "    <tr>\n",
       "      <th>2016-08-16</th>\n",
       "      <td>109.379997</td>\n",
       "      <td>33794400</td>\n",
       "      <td>777.140015</td>\n",
       "      <td>1027100</td>\n",
       "      <td>160.699997</td>\n",
       "      <td>2210200</td>\n",
       "      <td>57.439999</td>\n",
       "      <td>20523500</td>\n",
       "    </tr>\n",
       "    <tr>\n",
       "      <th>2016-08-17</th>\n",
       "      <td>109.220001</td>\n",
       "      <td>25356000</td>\n",
       "      <td>779.909973</td>\n",
       "      <td>921400</td>\n",
       "      <td>160.440002</td>\n",
       "      <td>3225900</td>\n",
       "      <td>57.560001</td>\n",
       "      <td>18856400</td>\n",
       "    </tr>\n",
       "    <tr>\n",
       "      <th>2016-08-18</th>\n",
       "      <td>109.080002</td>\n",
       "      <td>21984700</td>\n",
       "      <td>777.500000</td>\n",
       "      <td>718400</td>\n",
       "      <td>161.360001</td>\n",
       "      <td>3652000</td>\n",
       "      <td>57.599998</td>\n",
       "      <td>14214300</td>\n",
       "    </tr>\n",
       "    <tr>\n",
       "      <th>2016-08-19</th>\n",
       "      <td>109.360001</td>\n",
       "      <td>25368100</td>\n",
       "      <td>775.419983</td>\n",
       "      <td>849900</td>\n",
       "      <td>160.039993</td>\n",
       "      <td>2815200</td>\n",
       "      <td>57.619999</td>\n",
       "      <td>17271000</td>\n",
       "    </tr>\n",
       "    <tr>\n",
       "      <th>2016-08-22</th>\n",
       "      <td>108.510002</td>\n",
       "      <td>25820200</td>\n",
       "      <td>772.150024</td>\n",
       "      <td>923400</td>\n",
       "      <td>160.000000</td>\n",
       "      <td>2039300</td>\n",
       "      <td>57.669998</td>\n",
       "      <td>15221900</td>\n",
       "    </tr>\n",
       "    <tr>\n",
       "      <th>2016-08-23</th>\n",
       "      <td>108.849998</td>\n",
       "      <td>21215000</td>\n",
       "      <td>772.080017</td>\n",
       "      <td>925300</td>\n",
       "      <td>160.259995</td>\n",
       "      <td>2809600</td>\n",
       "      <td>57.889999</td>\n",
       "      <td>18704000</td>\n",
       "    </tr>\n",
       "  </tbody>\n",
       "</table>\n",
       "<p>1672 rows × 8 columns</p>\n",
       "</div>"
      ],
      "text/plain": [
       "                  AAPL       AAPL        GOOG      GOOG         IBM       IBM  \\\n",
       "Date                                                                            \n",
       "2010-01-04   27.990226  123432400  313.062468   3927000  113.304536   6155300   \n",
       "2010-01-05   28.038618  150476200  311.683844   6031900  111.935822   6841400   \n",
       "2010-01-06   27.592626  138040000  303.826685   7987100  111.208683   5605300   \n",
       "2010-01-07   27.541619  119282800  296.753749  12876600  110.823732   5840600   \n",
       "2010-01-08   27.724725  111902700  300.709808   9483900  111.935822   4197200   \n",
       "2010-01-11   27.480148  115557400  300.255255  14479800  110.763844   5730400   \n",
       "2010-01-12   27.167562  148614900  294.945572   9742900  111.644958   8081500   \n",
       "2010-01-13   27.550775  151473000  293.252243  13041800  111.405433   6455400   \n",
       "2010-01-14   27.391211  108223500  294.630868   8511900  113.184773   7111800   \n",
       "2010-01-15   26.933449  148516900  289.710772  10909600  112.731385   8494400   \n",
       "2010-01-19   28.124939  182501900  293.516976   8665700  114.750251  13916200   \n",
       "2010-01-20   27.692027  153038200  289.915587   6525700  111.422546  15197500   \n",
       "2010-01-21   27.213337  152038600  291.199286  12662600  110.353231   9608600   \n",
       "2010-01-22   25.863592  220441900  274.730736  13651700  107.359151  10088600   \n",
       "2010-01-25   26.559391  266424900  269.730740   8872800  107.889534   5738500   \n",
       "2010-01-26   26.934757  466777500  270.939526   8743600  107.573014   7135300   \n",
       "2010-01-27   27.188489  430642100  270.779695   7958400  108.069178   8719200   \n",
       "2010-01-28   26.065007  293375600  266.878565   6482300  105.862111   9622200   \n",
       "2010-01-29   25.119401  311488100  264.705742   8311900  104.698697  11571200   \n",
       "2010-02-01   25.468608  187469100  266.244198   4518400  106.649125   7242900   \n",
       "2010-02-02   25.616400  174585600  265.295156   8223000  107.384814   5899900   \n",
       "2010-02-03   26.057159  153832000  270.140309   6020500  107.496027   4177100   \n",
       "2010-02-04   25.118093  189413000  263.127321   6780600  105.220523   9126900   \n",
       "2010-02-05   25.564084  212576700  265.380075   6335600  105.665355   8617000   \n",
       "2010-02-08   25.388826  119567700  266.468996   5408700  104.728745   5718500   \n",
       "2010-02-09   25.659561  158221700  267.952522   5660200  105.871586   6044500   \n",
       "2010-02-10   25.519617   92590400  266.958496   5369000  105.527873   5219100   \n",
       "2010-02-11   25.983917  137586400  267.932539   4838000  106.318414   5089000   \n",
       "2010-02-12   26.207567  163867200  266.294170   4576400  106.550416   8017700   \n",
       "2010-02-16   26.602551  135934400  270.380071   7336100  107.607330   6777300   \n",
       "...                ...        ...         ...       ...         ...       ...   \n",
       "2016-07-13   96.348065   25892200  716.979980    935900  156.666929   2746400   \n",
       "2016-07-14   98.257718   38919000  720.950012    950200  158.907572   4637600   \n",
       "2016-07-15   98.247770   30137000  719.849976   1279300  158.411853   4476800   \n",
       "2016-07-18   99.292116   36493900  733.780029   1295500  158.491170   6729700   \n",
       "2016-07-19   99.331901   23779900  736.960022   1227500  158.213569   7120000   \n",
       "2016-07-20   99.421412   26276000  741.190002   1289700  159.978326   4376300   \n",
       "2016-07-21   98.894269   32702000  738.630005   1026300  159.076114   3518900   \n",
       "2016-07-22   98.128421   28313700  742.739990   1259800  160.682253   2520100   \n",
       "2016-07-25   96.815526   40382900  739.770020   1032400  161.257273   2804600   \n",
       "2016-07-26   96.149138   56239800  738.419983   1186700  160.731813   2894600   \n",
       "2016-07-27  102.395300   92344800  741.770020   1512500  160.444303   2162700   \n",
       "2016-07-28  103.777810   39869800  745.909973   3530200  159.988235   2340400   \n",
       "2016-07-29  103.648513   27733700  768.789978   3841500  159.244657   3547500   \n",
       "2016-08-01  105.478603   38167900  772.880005   2700500  160.067552   2823600   \n",
       "2016-08-02  103.917063   33816600  771.070007   1784500  159.205006   3080900   \n",
       "2016-08-03  105.220002   30202600  773.179993   1287400  159.294232   2861700   \n",
       "2016-08-04  105.870003   27408700  771.609985   1140300  160.166701   2489100   \n",
       "2016-08-05  107.480003   40553400  782.219971   1801200  162.100001   3812400   \n",
       "2016-08-08  108.370003   28037200  781.760010   1107900  162.039993   3039300   \n",
       "2016-08-09  108.809998   26315200  784.260010   1175400  161.770004   2737500   \n",
       "2016-08-10  108.000000   24008500  784.679993    784500  162.080002   2466700   \n",
       "2016-08-11  107.930000   27484500  784.849976    971100  163.529999   8768600   \n",
       "2016-08-12  108.180000   18660400  783.219971    738300  161.949997   2543100   \n",
       "2016-08-15  109.480003   25868200  782.440002    936600  161.880005   2970400   \n",
       "2016-08-16  109.379997   33794400  777.140015   1027100  160.699997   2210200   \n",
       "2016-08-17  109.220001   25356000  779.909973    921400  160.440002   3225900   \n",
       "2016-08-18  109.080002   21984700  777.500000    718400  161.360001   3652000   \n",
       "2016-08-19  109.360001   25368100  775.419983    849900  160.039993   2815200   \n",
       "2016-08-22  108.510002   25820200  772.150024    923400  160.000000   2039300   \n",
       "2016-08-23  108.849998   21215000  772.080017    925300  160.259995   2809600   \n",
       "\n",
       "                 MSFT       MSFT  \n",
       "Date                              \n",
       "2010-01-04  25.884104   38409100  \n",
       "2010-01-05  25.892466   49749600  \n",
       "2010-01-06  25.733566   58182400  \n",
       "2010-01-07  25.465944   50559700  \n",
       "2010-01-08  25.641571   51197400  \n",
       "2010-01-11  25.315406   68754700  \n",
       "2010-01-12  25.148142   65912100  \n",
       "2010-01-13  25.382312   51863500  \n",
       "2010-01-14  25.892466   63228100  \n",
       "2010-01-15  25.808835   79913200  \n",
       "2010-01-19  26.009552   46575700  \n",
       "2010-01-20  25.583028   54849500  \n",
       "2010-01-21  25.097963   73086700  \n",
       "2010-01-22  24.219826  102004600  \n",
       "2010-01-25  24.520902   63373000  \n",
       "2010-01-26  24.671439   66639900  \n",
       "2010-01-27  24.813614   63949500  \n",
       "2010-01-28  24.387091  117513700  \n",
       "2010-01-29  23.567497  193888500  \n",
       "2010-02-01  23.759851   85931100  \n",
       "2010-02-02  23.801666   54413700  \n",
       "2010-02-03  23.943840   61397900  \n",
       "2010-02-04  23.283148   77850000  \n",
       "2010-02-05  23.433686   80960100  \n",
       "2010-02-08  23.182789   52820600  \n",
       "2010-02-09  23.425323   59195800  \n",
       "2010-02-10  23.408596   48591300  \n",
       "2010-02-11  23.517319   65993700  \n",
       "2010-02-12  23.358417   81117200  \n",
       "2010-02-16  23.820544   51935600  \n",
       "...               ...        ...  \n",
       "2016-07-13  53.178554   25356800  \n",
       "2016-07-14  53.407133   24545500  \n",
       "2016-07-15  53.367380   32024400  \n",
       "2016-07-18  53.625768   31433900  \n",
       "2016-07-19  52.761158   53336500  \n",
       "2016-07-20  55.563690   89893300  \n",
       "2016-07-21  55.454371   32776700  \n",
       "2016-07-22  56.219602   32157200  \n",
       "2016-07-25  56.378611   25610600  \n",
       "2016-07-26  56.408424   28079000  \n",
       "2016-07-27  55.841955   32327500  \n",
       "2016-07-28  55.861831   37550400  \n",
       "2016-07-29  56.328921   30558700  \n",
       "2016-08-01  56.229542   26003400  \n",
       "2016-08-02  56.229542   35122000  \n",
       "2016-08-03  56.617126   22075600  \n",
       "2016-08-04  57.034523   26587700  \n",
       "2016-08-05  57.600992   29335200  \n",
       "2016-08-08  57.700375   19473500  \n",
       "2016-08-09  57.839507   16920700  \n",
       "2016-08-10  57.660621   15756900  \n",
       "2016-08-11  57.938886   18162300  \n",
       "2016-08-12  57.581115   21655200  \n",
       "2016-08-15  57.760000   19283900  \n",
       "2016-08-16  57.439999   20523500  \n",
       "2016-08-17  57.560001   18856400  \n",
       "2016-08-18  57.599998   14214300  \n",
       "2016-08-19  57.619999   17271000  \n",
       "2016-08-22  57.669998   15221900  \n",
       "2016-08-23  57.889999   18704000  \n",
       "\n",
       "[1672 rows x 8 columns]"
      ]
     },
     "execution_count": 258,
     "metadata": {},
     "output_type": "execute_result"
    }
   ],
   "source": [
    "# Off-thread -- Just concat this data to see what it looks like\n",
    "pd.concat([price, volume], axis=1).sort_index(axis=1)"
   ]
  },
  {
   "cell_type": "code",
   "execution_count": 260,
   "metadata": {
    "collapsed": false,
    "scrolled": true
   },
   "outputs": [
    {
     "data": {
      "text/html": [
       "<div>\n",
       "<table border=\"1\" class=\"dataframe\">\n",
       "  <thead>\n",
       "    <tr style=\"text-align: right;\">\n",
       "      <th></th>\n",
       "      <th>AAPL</th>\n",
       "      <th>GOOG</th>\n",
       "      <th>IBM</th>\n",
       "      <th>MSFT</th>\n",
       "    </tr>\n",
       "    <tr>\n",
       "      <th>Date</th>\n",
       "      <th></th>\n",
       "      <th></th>\n",
       "      <th></th>\n",
       "      <th></th>\n",
       "    </tr>\n",
       "  </thead>\n",
       "  <tbody>\n",
       "    <tr>\n",
       "      <th>2016-08-17</th>\n",
       "      <td>-0.001463</td>\n",
       "      <td>0.003564</td>\n",
       "      <td>-0.001618</td>\n",
       "      <td>0.002089</td>\n",
       "    </tr>\n",
       "    <tr>\n",
       "      <th>2016-08-18</th>\n",
       "      <td>-0.001282</td>\n",
       "      <td>-0.003090</td>\n",
       "      <td>0.005734</td>\n",
       "      <td>0.000695</td>\n",
       "    </tr>\n",
       "    <tr>\n",
       "      <th>2016-08-19</th>\n",
       "      <td>0.002567</td>\n",
       "      <td>-0.002675</td>\n",
       "      <td>-0.008181</td>\n",
       "      <td>0.000347</td>\n",
       "    </tr>\n",
       "    <tr>\n",
       "      <th>2016-08-22</th>\n",
       "      <td>-0.007772</td>\n",
       "      <td>-0.004217</td>\n",
       "      <td>-0.000250</td>\n",
       "      <td>0.000868</td>\n",
       "    </tr>\n",
       "    <tr>\n",
       "      <th>2016-08-23</th>\n",
       "      <td>0.003133</td>\n",
       "      <td>-0.000091</td>\n",
       "      <td>0.001625</td>\n",
       "      <td>0.003815</td>\n",
       "    </tr>\n",
       "  </tbody>\n",
       "</table>\n",
       "</div>"
      ],
      "text/plain": [
       "                AAPL      GOOG       IBM      MSFT\n",
       "Date                                              \n",
       "2016-08-17 -0.001463  0.003564 -0.001618  0.002089\n",
       "2016-08-18 -0.001282 -0.003090  0.005734  0.000695\n",
       "2016-08-19  0.002567 -0.002675 -0.008181  0.000347\n",
       "2016-08-22 -0.007772 -0.004217 -0.000250  0.000868\n",
       "2016-08-23  0.003133 -0.000091  0.001625  0.003815"
      ]
     },
     "execution_count": 260,
     "metadata": {},
     "output_type": "execute_result"
    }
   ],
   "source": [
    "# See the percentage returns (the day-over-day change)\n",
    "returns = price.pct_change()\n",
    "returns.tail()"
   ]
  },
  {
   "cell_type": "code",
   "execution_count": 284,
   "metadata": {
    "collapsed": false
   },
   "outputs": [
    {
     "data": {
      "text/html": [
       "<div>\n",
       "<table border=\"1\" class=\"dataframe\">\n",
       "  <thead>\n",
       "    <tr style=\"text-align: right;\">\n",
       "      <th></th>\n",
       "      <th>corr</th>\n",
       "      <th>cov</th>\n",
       "    </tr>\n",
       "  </thead>\n",
       "  <tbody>\n",
       "    <tr>\n",
       "      <th>series</th>\n",
       "      <td>0.502104</td>\n",
       "      <td>0.00009</td>\n",
       "    </tr>\n",
       "  </tbody>\n",
       "</table>\n",
       "</div>"
      ],
      "text/plain": [
       "            corr      cov\n",
       "series  0.502104  0.00009"
      ]
     },
     "execution_count": 284,
     "metadata": {},
     "output_type": "execute_result"
    }
   ],
   "source": [
    "# Correlations and Covariances - Series\n",
    "pd.DataFrame({'corr': returns['MSFT'].corr(returns['IBM'])\n",
    "              ,'cov': returns['MSFT'].cov(returns['IBM'])}\n",
    "              , index=['series'])\n",
    "    # equivalent to returns.MSFT.corr(returns.IBM)"
   ]
  },
  {
   "cell_type": "code",
   "execution_count": 290,
   "metadata": {
    "collapsed": false
   },
   "outputs": [
    {
     "data": {
      "text/html": [
       "<div>\n",
       "<table border=\"1\" class=\"dataframe\">\n",
       "  <thead>\n",
       "    <tr style=\"text-align: right;\">\n",
       "      <th></th>\n",
       "      <th>AAPL</th>\n",
       "      <th>GOOG</th>\n",
       "      <th>IBM</th>\n",
       "      <th>MSFT</th>\n",
       "    </tr>\n",
       "  </thead>\n",
       "  <tbody>\n",
       "    <tr>\n",
       "      <th>AAPL</th>\n",
       "      <td>1.000000</td>\n",
       "      <td>0.333753</td>\n",
       "      <td>-0.242712</td>\n",
       "      <td>0.391183</td>\n",
       "    </tr>\n",
       "    <tr>\n",
       "      <th>GOOG</th>\n",
       "      <td>0.333753</td>\n",
       "      <td>1.000000</td>\n",
       "      <td>-0.066199</td>\n",
       "      <td>0.596282</td>\n",
       "    </tr>\n",
       "    <tr>\n",
       "      <th>IBM</th>\n",
       "      <td>-0.242712</td>\n",
       "      <td>-0.066199</td>\n",
       "      <td>1.000000</td>\n",
       "      <td>0.274920</td>\n",
       "    </tr>\n",
       "    <tr>\n",
       "      <th>MSFT</th>\n",
       "      <td>0.391183</td>\n",
       "      <td>0.596282</td>\n",
       "      <td>0.274920</td>\n",
       "      <td>1.000000</td>\n",
       "    </tr>\n",
       "  </tbody>\n",
       "</table>\n",
       "</div>"
      ],
      "text/plain": [
       "          AAPL      GOOG       IBM      MSFT\n",
       "AAPL  1.000000  0.333753 -0.242712  0.391183\n",
       "GOOG  0.333753  1.000000 -0.066199  0.596282\n",
       "IBM  -0.242712 -0.066199  1.000000  0.274920\n",
       "MSFT  0.391183  0.596282  0.274920  1.000000"
      ]
     },
     "execution_count": 290,
     "metadata": {},
     "output_type": "execute_result"
    }
   ],
   "source": [
    "# Correlations and Covariances - Data Frame\n",
    "returns.tail().corr()\n",
    "    # The full correlation matrix is returned"
   ]
  },
  {
   "cell_type": "code",
   "execution_count": 291,
   "metadata": {
    "collapsed": false
   },
   "outputs": [
    {
     "data": {
      "text/html": [
       "<div>\n",
       "<table border=\"1\" class=\"dataframe\">\n",
       "  <thead>\n",
       "    <tr style=\"text-align: right;\">\n",
       "      <th></th>\n",
       "      <th>AAPL</th>\n",
       "      <th>GOOG</th>\n",
       "      <th>IBM</th>\n",
       "      <th>MSFT</th>\n",
       "    </tr>\n",
       "  </thead>\n",
       "  <tbody>\n",
       "    <tr>\n",
       "      <th>AAPL</th>\n",
       "      <td>0.000019</td>\n",
       "      <td>0.000005</td>\n",
       "      <td>-0.000005</td>\n",
       "      <td>0.000002</td>\n",
       "    </tr>\n",
       "    <tr>\n",
       "      <th>GOOG</th>\n",
       "      <td>0.000005</td>\n",
       "      <td>0.000010</td>\n",
       "      <td>-0.000001</td>\n",
       "      <td>0.000003</td>\n",
       "    </tr>\n",
       "    <tr>\n",
       "      <th>IBM</th>\n",
       "      <td>-0.000005</td>\n",
       "      <td>-0.000001</td>\n",
       "      <td>0.000026</td>\n",
       "      <td>0.000002</td>\n",
       "    </tr>\n",
       "    <tr>\n",
       "      <th>MSFT</th>\n",
       "      <td>0.000002</td>\n",
       "      <td>0.000003</td>\n",
       "      <td>0.000002</td>\n",
       "      <td>0.000002</td>\n",
       "    </tr>\n",
       "  </tbody>\n",
       "</table>\n",
       "</div>"
      ],
      "text/plain": [
       "          AAPL      GOOG       IBM      MSFT\n",
       "AAPL  0.000019  0.000005 -0.000005  0.000002\n",
       "GOOG  0.000005  0.000010 -0.000001  0.000003\n",
       "IBM  -0.000005 -0.000001  0.000026  0.000002\n",
       "MSFT  0.000002  0.000003  0.000002  0.000002"
      ]
     },
     "execution_count": 291,
     "metadata": {},
     "output_type": "execute_result"
    }
   ],
   "source": [
    "returns.tail().cov()\n",
    "    # The full covariance matrix is returned"
   ]
  },
  {
   "cell_type": "code",
   "execution_count": 295,
   "metadata": {
    "collapsed": false
   },
   "outputs": [
    {
     "data": {
      "text/plain": [
       "AAPL    0.388022\n",
       "GOOG    0.405625\n",
       "IBM     1.000000\n",
       "MSFT    0.502104\n",
       "dtype: float64"
      ]
     },
     "execution_count": 295,
     "metadata": {},
     "output_type": "execute_result"
    }
   ],
   "source": [
    "# Computing pair-wise correlations -- DataFrame with a Series\n",
    "returns.corrwith(returns['IBM'])\n",
    "    # "
   ]
  },
  {
   "cell_type": "code",
   "execution_count": 298,
   "metadata": {
    "collapsed": false
   },
   "outputs": [
    {
     "data": {
      "text/plain": [
       "AAPL   -0.078426\n",
       "GOOG   -0.006641\n",
       "IBM          NaN\n",
       "MSFT         NaN\n",
       "dtype: float64"
      ]
     },
     "execution_count": 298,
     "metadata": {},
     "output_type": "execute_result"
    }
   ],
   "source": [
    "# Computing pair-wise correlations - DataFrame with another DataFrame\n",
    "returns.corrwith(volume[['AAPL','GOOG']])\n",
    "    # Only matching columns are correlated\n",
    "    # The daily returns are basically never correlated with volume."
   ]
  },
  {
   "cell_type": "code",
   "execution_count": null,
   "metadata": {
    "collapsed": true
   },
   "outputs": [],
   "source": [
    "# Unique Value, Value Counts, Membership"
   ]
  },
  {
   "cell_type": "code",
   "execution_count": 302,
   "metadata": {
    "collapsed": false
   },
   "outputs": [
    {
     "data": {
      "text/plain": [
       "array(['c', 'a', 'd', 'b'], dtype=object)"
      ]
     },
     "execution_count": 302,
     "metadata": {},
     "output_type": "execute_result"
    }
   ],
   "source": [
    "obj = pd.Series(['c','a','d','a','a','b','b','c','c'])"
   ]
  },
  {
   "cell_type": "code",
   "execution_count": 303,
   "metadata": {
    "collapsed": false
   },
   "outputs": [
    {
     "data": {
      "text/plain": [
       "array(['c', 'a', 'd', 'b'], dtype=object)"
      ]
     },
     "execution_count": 303,
     "metadata": {},
     "output_type": "execute_result"
    }
   ],
   "source": [
    "# Unique Values\n",
    "obj.unique()"
   ]
  },
  {
   "cell_type": "code",
   "execution_count": 305,
   "metadata": {
    "collapsed": false
   },
   "outputs": [
    {
     "data": {
      "text/plain": [
       "c    3\n",
       "a    3\n",
       "b    2\n",
       "d    1\n",
       "dtype: int64"
      ]
     },
     "execution_count": 305,
     "metadata": {},
     "output_type": "execute_result"
    }
   ],
   "source": [
    "# Value Counts\n",
    "obj.value_counts()\n",
    "# Equivalent: pd.value_counts(obj.values)"
   ]
  },
  {
   "cell_type": "code",
   "execution_count": 312,
   "metadata": {
    "collapsed": false
   },
   "outputs": [
    {
     "data": {
      "text/plain": [
       "0    c\n",
       "5    b\n",
       "6    b\n",
       "7    c\n",
       "8    c\n",
       "dtype: object"
      ]
     },
     "execution_count": 312,
     "metadata": {},
     "output_type": "execute_result"
    }
   ],
   "source": [
    "# Vectorized Set Membership\n",
    "mask = obj.isin(['b','c'])\n",
    "obj[mask]"
   ]
  },
  {
   "cell_type": "code",
   "execution_count": 323,
   "metadata": {
    "collapsed": false
   },
   "outputs": [
    {
     "data": {
      "text/html": [
       "<div>\n",
       "<table border=\"1\" class=\"dataframe\">\n",
       "  <thead>\n",
       "    <tr style=\"text-align: right;\">\n",
       "      <th></th>\n",
       "      <th>Qu1</th>\n",
       "      <th>Qu2</th>\n",
       "      <th>Qu3</th>\n",
       "    </tr>\n",
       "  </thead>\n",
       "  <tbody>\n",
       "    <tr>\n",
       "      <th>0</th>\n",
       "      <td>1</td>\n",
       "      <td>2</td>\n",
       "      <td>1</td>\n",
       "    </tr>\n",
       "    <tr>\n",
       "      <th>1</th>\n",
       "      <td>3</td>\n",
       "      <td>3</td>\n",
       "      <td>9</td>\n",
       "    </tr>\n",
       "    <tr>\n",
       "      <th>2</th>\n",
       "      <td>4</td>\n",
       "      <td>1</td>\n",
       "      <td>2</td>\n",
       "    </tr>\n",
       "    <tr>\n",
       "      <th>3</th>\n",
       "      <td>3</td>\n",
       "      <td>2</td>\n",
       "      <td>4</td>\n",
       "    </tr>\n",
       "    <tr>\n",
       "      <th>4</th>\n",
       "      <td>4</td>\n",
       "      <td>3</td>\n",
       "      <td>4</td>\n",
       "    </tr>\n",
       "  </tbody>\n",
       "</table>\n",
       "</div>"
      ],
      "text/plain": [
       "   Qu1  Qu2  Qu3\n",
       "0    1    2    1\n",
       "1    3    3    9\n",
       "2    4    1    2\n",
       "3    3    2    4\n",
       "4    4    3    4"
      ]
     },
     "execution_count": 323,
     "metadata": {},
     "output_type": "execute_result"
    }
   ],
   "source": [
    "# Use these Series functions with DataFrames with the apply constructions\n",
    "data = pd.DataFrame({'Qu1': [1, 3, 4, 3, 4], 'Qu2': [2, 3, 1, 2, 3], 'Qu3': [1, 9, 2, 4, 4]})\n",
    "data"
   ]
  },
  {
   "cell_type": "code",
   "execution_count": 324,
   "metadata": {
    "collapsed": false
   },
   "outputs": [
    {
     "data": {
      "text/html": [
       "<div>\n",
       "<table border=\"1\" class=\"dataframe\">\n",
       "  <thead>\n",
       "    <tr style=\"text-align: right;\">\n",
       "      <th></th>\n",
       "      <th>Qu1</th>\n",
       "      <th>Qu2</th>\n",
       "      <th>Qu3</th>\n",
       "    </tr>\n",
       "  </thead>\n",
       "  <tbody>\n",
       "    <tr>\n",
       "      <th>1</th>\n",
       "      <td>1.0</td>\n",
       "      <td>1.0</td>\n",
       "      <td>1.0</td>\n",
       "    </tr>\n",
       "    <tr>\n",
       "      <th>2</th>\n",
       "      <td>0.0</td>\n",
       "      <td>2.0</td>\n",
       "      <td>1.0</td>\n",
       "    </tr>\n",
       "    <tr>\n",
       "      <th>3</th>\n",
       "      <td>2.0</td>\n",
       "      <td>2.0</td>\n",
       "      <td>0.0</td>\n",
       "    </tr>\n",
       "    <tr>\n",
       "      <th>4</th>\n",
       "      <td>2.0</td>\n",
       "      <td>0.0</td>\n",
       "      <td>2.0</td>\n",
       "    </tr>\n",
       "    <tr>\n",
       "      <th>9</th>\n",
       "      <td>0.0</td>\n",
       "      <td>0.0</td>\n",
       "      <td>1.0</td>\n",
       "    </tr>\n",
       "  </tbody>\n",
       "</table>\n",
       "</div>"
      ],
      "text/plain": [
       "   Qu1  Qu2  Qu3\n",
       "1  1.0  1.0  1.0\n",
       "2  0.0  2.0  1.0\n",
       "3  2.0  2.0  0.0\n",
       "4  2.0  0.0  2.0\n",
       "9  0.0  0.0  1.0"
      ]
     },
     "execution_count": 324,
     "metadata": {},
     "output_type": "execute_result"
    }
   ],
   "source": [
    "# Computes a histogram.  The left hand side is a list of the unique values (notice that it goes from 1,2,3,4 --> 9)\n",
    "data.apply(pd.value_counts).fillna(0)"
   ]
  },
  {
   "cell_type": "code",
   "execution_count": 328,
   "metadata": {
    "collapsed": false
   },
   "outputs": [
    {
     "data": {
      "text/plain": [
       "0    False\n",
       "1    False\n",
       "2     True\n",
       "3    False\n",
       "dtype: bool"
      ]
     },
     "execution_count": 328,
     "metadata": {},
     "output_type": "execute_result"
    }
   ],
   "source": [
    "## Missing Data\n",
    "# Identify missing data - Series\n",
    "string_data = pd.Series(['aardvark', 'artichoke', np.nan, 'avocado'])\n",
    "string_data.isnull()"
   ]
  },
  {
   "cell_type": "code",
   "execution_count": 342,
   "metadata": {
    "collapsed": false
   },
   "outputs": [
    {
     "data": {
      "text/plain": [
       "0    1.0\n",
       "1    NaN\n",
       "2    3.5\n",
       "3    NaN\n",
       "4    7.0\n",
       "dtype: float64"
      ]
     },
     "execution_count": 342,
     "metadata": {},
     "output_type": "execute_result"
    }
   ],
   "source": [
    "# Drop missing data - Series - Function approach\n",
    "from numpy import nan as NA\n",
    "data = pd.Series([1, NA, 3.5, NA, 7])\n",
    "    # Equivalent to data = pd.Series([1, np.nan, 3.5, np.nan, 7])\n",
    "data.dropna()\n",
    "data"
   ]
  },
  {
   "cell_type": "code",
   "execution_count": 345,
   "metadata": {
    "collapsed": false
   },
   "outputs": [
    {
     "data": {
      "text/plain": [
       "0    1.0\n",
       "2    3.5\n",
       "4    7.0\n",
       "dtype: float64"
      ]
     },
     "execution_count": 345,
     "metadata": {},
     "output_type": "execute_result"
    }
   ],
   "source": [
    "# Drop missing data - Series - Boolean approach\n",
    "from numpy import nan as NA\n",
    "data = pd.Series([1, NA, 3.5, NA, 7])\n",
    "    # Equivalent to data = pd.Series([1, np.nan, 3.5, np.nan, 7])\n",
    "data[data.isnull()==False]\n",
    "data[data.notnull()]\n",
    "    # Equivalent methods"
   ]
  },
  {
   "cell_type": "code",
   "execution_count": 360,
   "metadata": {
    "collapsed": false
   },
   "outputs": [
    {
     "data": {
      "text/html": [
       "<div>\n",
       "<table border=\"1\" class=\"dataframe\">\n",
       "  <thead>\n",
       "    <tr style=\"text-align: right;\">\n",
       "      <th></th>\n",
       "      <th>0</th>\n",
       "      <th>1</th>\n",
       "      <th>2</th>\n",
       "      <th>3</th>\n",
       "    </tr>\n",
       "  </thead>\n",
       "  <tbody>\n",
       "    <tr>\n",
       "      <th>0</th>\n",
       "      <td>1.0</td>\n",
       "      <td>6.5</td>\n",
       "      <td>3.0</td>\n",
       "      <td>NaN</td>\n",
       "    </tr>\n",
       "    <tr>\n",
       "      <th>1</th>\n",
       "      <td>1.0</td>\n",
       "      <td>NaN</td>\n",
       "      <td>NaN</td>\n",
       "      <td>NaN</td>\n",
       "    </tr>\n",
       "    <tr>\n",
       "      <th>2</th>\n",
       "      <td>NaN</td>\n",
       "      <td>NaN</td>\n",
       "      <td>NaN</td>\n",
       "      <td>NaN</td>\n",
       "    </tr>\n",
       "    <tr>\n",
       "      <th>3</th>\n",
       "      <td>NaN</td>\n",
       "      <td>6.5</td>\n",
       "      <td>3.0</td>\n",
       "      <td>NaN</td>\n",
       "    </tr>\n",
       "  </tbody>\n",
       "</table>\n",
       "</div>"
      ],
      "text/plain": [
       "     0    1    2   3\n",
       "0  1.0  6.5  3.0 NaN\n",
       "1  1.0  NaN  NaN NaN\n",
       "2  NaN  NaN  NaN NaN\n",
       "3  NaN  6.5  3.0 NaN"
      ]
     },
     "execution_count": 360,
     "metadata": {},
     "output_type": "execute_result"
    }
   ],
   "source": [
    "# Drop missing data in Data Frames\n",
    "data = pd.DataFrame([[1., 6.5, 3.], [1., NA, NA], [NA, NA, NA], [NA, 6.5, 3.]])\n",
    "    # Unclear to me why the NA column does not show up.\n",
    "data[3] = np.nan\n",
    "data"
   ]
  },
  {
   "cell_type": "code",
   "execution_count": 361,
   "metadata": {
    "collapsed": false
   },
   "outputs": [
    {
     "data": {
      "text/html": [
       "<div>\n",
       "<table border=\"1\" class=\"dataframe\">\n",
       "  <thead>\n",
       "    <tr style=\"text-align: right;\">\n",
       "      <th></th>\n",
       "      <th>0</th>\n",
       "      <th>1</th>\n",
       "      <th>2</th>\n",
       "      <th>3</th>\n",
       "    </tr>\n",
       "  </thead>\n",
       "  <tbody>\n",
       "  </tbody>\n",
       "</table>\n",
       "</div>"
      ],
      "text/plain": [
       "Empty DataFrame\n",
       "Columns: [0, 1, 2, 3]\n",
       "Index: []"
      ]
     },
     "execution_count": 361,
     "metadata": {},
     "output_type": "execute_result"
    }
   ],
   "source": [
    "# Drop missing data in Data Frames - Function approach\n",
    "# BE CAREFUL - df.dropna() by default drops any row that contains any NA value\n",
    "cleaned = data.dropna()\n",
    "cleaned"
   ]
  },
  {
   "cell_type": "code",
   "execution_count": 363,
   "metadata": {
    "collapsed": false
   },
   "outputs": [
    {
     "data": {
      "text/html": [
       "<div>\n",
       "<table border=\"1\" class=\"dataframe\">\n",
       "  <thead>\n",
       "    <tr style=\"text-align: right;\">\n",
       "      <th></th>\n",
       "      <th>0</th>\n",
       "      <th>1</th>\n",
       "      <th>2</th>\n",
       "      <th>3</th>\n",
       "    </tr>\n",
       "  </thead>\n",
       "  <tbody>\n",
       "    <tr>\n",
       "      <th>0</th>\n",
       "      <td>1.0</td>\n",
       "      <td>6.5</td>\n",
       "      <td>3.0</td>\n",
       "      <td>NaN</td>\n",
       "    </tr>\n",
       "    <tr>\n",
       "      <th>1</th>\n",
       "      <td>1.0</td>\n",
       "      <td>NaN</td>\n",
       "      <td>NaN</td>\n",
       "      <td>NaN</td>\n",
       "    </tr>\n",
       "    <tr>\n",
       "      <th>3</th>\n",
       "      <td>NaN</td>\n",
       "      <td>6.5</td>\n",
       "      <td>3.0</td>\n",
       "      <td>NaN</td>\n",
       "    </tr>\n",
       "  </tbody>\n",
       "</table>\n",
       "</div>"
      ],
      "text/plain": [
       "     0    1    2   3\n",
       "0  1.0  6.5  3.0 NaN\n",
       "1  1.0  NaN  NaN NaN\n",
       "3  NaN  6.5  3.0 NaN"
      ]
     },
     "execution_count": 363,
     "metadata": {},
     "output_type": "execute_result"
    }
   ],
   "source": [
    "# Setting how='all' requires that all values are NaN before the row is dropped\n",
    "data.dropna(how='all')"
   ]
  },
  {
   "cell_type": "code",
   "execution_count": 364,
   "metadata": {
    "collapsed": false
   },
   "outputs": [
    {
     "data": {
      "text/html": [
       "<div>\n",
       "<table border=\"1\" class=\"dataframe\">\n",
       "  <thead>\n",
       "    <tr style=\"text-align: right;\">\n",
       "      <th></th>\n",
       "      <th>0</th>\n",
       "      <th>1</th>\n",
       "      <th>2</th>\n",
       "    </tr>\n",
       "  </thead>\n",
       "  <tbody>\n",
       "    <tr>\n",
       "      <th>0</th>\n",
       "      <td>1.0</td>\n",
       "      <td>6.5</td>\n",
       "      <td>3.0</td>\n",
       "    </tr>\n",
       "    <tr>\n",
       "      <th>1</th>\n",
       "      <td>1.0</td>\n",
       "      <td>NaN</td>\n",
       "      <td>NaN</td>\n",
       "    </tr>\n",
       "    <tr>\n",
       "      <th>2</th>\n",
       "      <td>NaN</td>\n",
       "      <td>NaN</td>\n",
       "      <td>NaN</td>\n",
       "    </tr>\n",
       "    <tr>\n",
       "      <th>3</th>\n",
       "      <td>NaN</td>\n",
       "      <td>6.5</td>\n",
       "      <td>3.0</td>\n",
       "    </tr>\n",
       "  </tbody>\n",
       "</table>\n",
       "</div>"
      ],
      "text/plain": [
       "     0    1    2\n",
       "0  1.0  6.5  3.0\n",
       "1  1.0  NaN  NaN\n",
       "2  NaN  NaN  NaN\n",
       "3  NaN  6.5  3.0"
      ]
     },
     "execution_count": 364,
     "metadata": {},
     "output_type": "execute_result"
    }
   ],
   "source": [
    "# Drop columns (as opposed to rows) with missing data the usual way: axis=1\n",
    "data.dropna(axis=1, how='all')"
   ]
  },
  {
   "cell_type": "code",
   "execution_count": 368,
   "metadata": {
    "collapsed": false
   },
   "outputs": [
    {
     "data": {
      "text/html": [
       "<div>\n",
       "<table border=\"1\" class=\"dataframe\">\n",
       "  <thead>\n",
       "    <tr style=\"text-align: right;\">\n",
       "      <th></th>\n",
       "      <th>0</th>\n",
       "      <th>1</th>\n",
       "      <th>2</th>\n",
       "    </tr>\n",
       "  </thead>\n",
       "  <tbody>\n",
       "    <tr>\n",
       "      <th>5</th>\n",
       "      <td>-0.976653</td>\n",
       "      <td>0.596823</td>\n",
       "      <td>-0.376416</td>\n",
       "    </tr>\n",
       "    <tr>\n",
       "      <th>6</th>\n",
       "      <td>-1.402458</td>\n",
       "      <td>-1.166058</td>\n",
       "      <td>-2.379381</td>\n",
       "    </tr>\n",
       "  </tbody>\n",
       "</table>\n",
       "</div>"
      ],
      "text/plain": [
       "          0         1         2\n",
       "5 -0.976653  0.596823 -0.376416\n",
       "6 -1.402458 -1.166058 -2.379381"
      ]
     },
     "execution_count": 368,
     "metadata": {},
     "output_type": "execute_result"
    }
   ],
   "source": [
    "# Drop rows that don't meet a threshold of non-NA values.\n",
    "df = pd.DataFrame(np.random.randn(7, 3))\n",
    "df.ix[:4,1] = np.nan\n",
    "df.ix[:2,2] = np.nan\n",
    "df.dropna(thresh = 3)"
   ]
  },
  {
   "cell_type": "code",
   "execution_count": 369,
   "metadata": {
    "collapsed": false
   },
   "outputs": [
    {
     "data": {
      "text/html": [
       "<div>\n",
       "<table border=\"1\" class=\"dataframe\">\n",
       "  <thead>\n",
       "    <tr style=\"text-align: right;\">\n",
       "      <th></th>\n",
       "      <th>0</th>\n",
       "      <th>1</th>\n",
       "      <th>2</th>\n",
       "    </tr>\n",
       "  </thead>\n",
       "  <tbody>\n",
       "    <tr>\n",
       "      <th>0</th>\n",
       "      <td>-0.171552</td>\n",
       "      <td>0.000000</td>\n",
       "      <td>0.000000</td>\n",
       "    </tr>\n",
       "    <tr>\n",
       "      <th>1</th>\n",
       "      <td>-1.334006</td>\n",
       "      <td>0.000000</td>\n",
       "      <td>0.000000</td>\n",
       "    </tr>\n",
       "    <tr>\n",
       "      <th>2</th>\n",
       "      <td>-0.677129</td>\n",
       "      <td>0.000000</td>\n",
       "      <td>0.000000</td>\n",
       "    </tr>\n",
       "    <tr>\n",
       "      <th>3</th>\n",
       "      <td>-0.139236</td>\n",
       "      <td>0.000000</td>\n",
       "      <td>0.036122</td>\n",
       "    </tr>\n",
       "    <tr>\n",
       "      <th>4</th>\n",
       "      <td>-0.412806</td>\n",
       "      <td>0.000000</td>\n",
       "      <td>-0.811747</td>\n",
       "    </tr>\n",
       "    <tr>\n",
       "      <th>5</th>\n",
       "      <td>-0.976653</td>\n",
       "      <td>0.596823</td>\n",
       "      <td>-0.376416</td>\n",
       "    </tr>\n",
       "    <tr>\n",
       "      <th>6</th>\n",
       "      <td>-1.402458</td>\n",
       "      <td>-1.166058</td>\n",
       "      <td>-2.379381</td>\n",
       "    </tr>\n",
       "  </tbody>\n",
       "</table>\n",
       "</div>"
      ],
      "text/plain": [
       "          0         1         2\n",
       "0 -0.171552  0.000000  0.000000\n",
       "1 -1.334006  0.000000  0.000000\n",
       "2 -0.677129  0.000000  0.000000\n",
       "3 -0.139236  0.000000  0.036122\n",
       "4 -0.412806  0.000000 -0.811747\n",
       "5 -0.976653  0.596823 -0.376416\n",
       "6 -1.402458 -1.166058 -2.379381"
      ]
     },
     "execution_count": 369,
     "metadata": {},
     "output_type": "execute_result"
    }
   ],
   "source": [
    "## Filling missing data with a constant\n",
    "df.fillna(0)"
   ]
  },
  {
   "cell_type": "code",
   "execution_count": 371,
   "metadata": {
    "collapsed": false
   },
   "outputs": [
    {
     "data": {
      "text/html": [
       "<div>\n",
       "<table border=\"1\" class=\"dataframe\">\n",
       "  <thead>\n",
       "    <tr style=\"text-align: right;\">\n",
       "      <th></th>\n",
       "      <th>0</th>\n",
       "      <th>1</th>\n",
       "      <th>2</th>\n",
       "    </tr>\n",
       "  </thead>\n",
       "  <tbody>\n",
       "    <tr>\n",
       "      <th>0</th>\n",
       "      <td>-0.171552</td>\n",
       "      <td>0.500000</td>\n",
       "      <td>-1.000000</td>\n",
       "    </tr>\n",
       "    <tr>\n",
       "      <th>1</th>\n",
       "      <td>-1.334006</td>\n",
       "      <td>0.500000</td>\n",
       "      <td>-1.000000</td>\n",
       "    </tr>\n",
       "    <tr>\n",
       "      <th>2</th>\n",
       "      <td>-0.677129</td>\n",
       "      <td>0.500000</td>\n",
       "      <td>-1.000000</td>\n",
       "    </tr>\n",
       "    <tr>\n",
       "      <th>3</th>\n",
       "      <td>-0.139236</td>\n",
       "      <td>0.500000</td>\n",
       "      <td>0.036122</td>\n",
       "    </tr>\n",
       "    <tr>\n",
       "      <th>4</th>\n",
       "      <td>-0.412806</td>\n",
       "      <td>0.500000</td>\n",
       "      <td>-0.811747</td>\n",
       "    </tr>\n",
       "    <tr>\n",
       "      <th>5</th>\n",
       "      <td>-0.976653</td>\n",
       "      <td>0.596823</td>\n",
       "      <td>-0.376416</td>\n",
       "    </tr>\n",
       "    <tr>\n",
       "      <th>6</th>\n",
       "      <td>-1.402458</td>\n",
       "      <td>-1.166058</td>\n",
       "      <td>-2.379381</td>\n",
       "    </tr>\n",
       "  </tbody>\n",
       "</table>\n",
       "</div>"
      ],
      "text/plain": [
       "          0         1         2\n",
       "0 -0.171552  0.500000 -1.000000\n",
       "1 -1.334006  0.500000 -1.000000\n",
       "2 -0.677129  0.500000 -1.000000\n",
       "3 -0.139236  0.500000  0.036122\n",
       "4 -0.412806  0.500000 -0.811747\n",
       "5 -0.976653  0.596823 -0.376416\n",
       "6 -1.402458 -1.166058 -2.379381"
      ]
     },
     "execution_count": 371,
     "metadata": {},
     "output_type": "execute_result"
    }
   ],
   "source": [
    "# Filling missing data with a dict matches the dict key to the df column name\n",
    "df.fillna({1: 0.5, 2: -1})"
   ]
  },
  {
   "cell_type": "code",
   "execution_count": 374,
   "metadata": {
    "collapsed": false
   },
   "outputs": [
    {
     "data": {
      "text/html": [
       "<div>\n",
       "<table border=\"1\" class=\"dataframe\">\n",
       "  <thead>\n",
       "    <tr style=\"text-align: right;\">\n",
       "      <th></th>\n",
       "      <th>0</th>\n",
       "      <th>1</th>\n",
       "      <th>2</th>\n",
       "    </tr>\n",
       "  </thead>\n",
       "  <tbody>\n",
       "    <tr>\n",
       "      <th>0</th>\n",
       "      <td>-1.600411</td>\n",
       "      <td>0.220101</td>\n",
       "      <td>1.854071</td>\n",
       "    </tr>\n",
       "    <tr>\n",
       "      <th>1</th>\n",
       "      <td>1.412282</td>\n",
       "      <td>1.306762</td>\n",
       "      <td>0.958741</td>\n",
       "    </tr>\n",
       "    <tr>\n",
       "      <th>2</th>\n",
       "      <td>-0.852246</td>\n",
       "      <td>NaN</td>\n",
       "      <td>-0.113506</td>\n",
       "    </tr>\n",
       "    <tr>\n",
       "      <th>3</th>\n",
       "      <td>1.486790</td>\n",
       "      <td>NaN</td>\n",
       "      <td>0.052512</td>\n",
       "    </tr>\n",
       "    <tr>\n",
       "      <th>4</th>\n",
       "      <td>-0.598562</td>\n",
       "      <td>NaN</td>\n",
       "      <td>NaN</td>\n",
       "    </tr>\n",
       "    <tr>\n",
       "      <th>5</th>\n",
       "      <td>-1.310831</td>\n",
       "      <td>NaN</td>\n",
       "      <td>NaN</td>\n",
       "    </tr>\n",
       "  </tbody>\n",
       "</table>\n",
       "</div>"
      ],
      "text/plain": [
       "          0         1         2\n",
       "0 -1.600411  0.220101  1.854071\n",
       "1  1.412282  1.306762  0.958741\n",
       "2 -0.852246       NaN -0.113506\n",
       "3  1.486790       NaN  0.052512\n",
       "4 -0.598562       NaN       NaN\n",
       "5 -1.310831       NaN       NaN"
      ]
     },
     "execution_count": 374,
     "metadata": {},
     "output_type": "execute_result"
    }
   ],
   "source": [
    "# Filling missing data by forward filling\n",
    "df = pd.DataFrame(np.random.randn(6, 3))\n",
    "df.ix[2:, 1] = np.nan; df.ix[4:, 2] = np.nan\n",
    "df.fillna(method='ffill')"
   ]
  },
  {
   "cell_type": "code",
   "execution_count": 376,
   "metadata": {
    "collapsed": false
   },
   "outputs": [
    {
     "data": {
      "text/plain": [
       "a  1    0.842251\n",
       "   2    0.445471\n",
       "   3    1.499606\n",
       "b  1   -0.499740\n",
       "   2   -0.847721\n",
       "   3   -1.222757\n",
       "c  1   -0.167686\n",
       "   2    0.523020\n",
       "d  2   -1.224501\n",
       "   3   -1.518357\n",
       "dtype: float64"
      ]
     },
     "execution_count": 376,
     "metadata": {},
     "output_type": "execute_result"
    }
   ],
   "source": [
    "## Hierarchical Indexing - A Series with a MultiIndex\n",
    "data = pd.Series(np.random.randn(10), index=[['a', 'a', 'a', 'b', 'b', 'b', 'c', 'c', 'd', 'd'], [1,2,3,1,2,3,1,2,2,3]])\n",
    "    # Note that two vectors were defined in the index\n",
    "    # Upon instantiation, the data is sorted in order from outermost index to innermost index.\n",
    "data"
   ]
  },
  {
   "cell_type": "code",
   "execution_count": 398,
   "metadata": {
    "collapsed": false
   },
   "outputs": [
    {
     "data": {
      "text/plain": [
       "b  1   -0.499740\n",
       "   2   -0.847721\n",
       "   3   -1.222757\n",
       "d  2   -1.224501\n",
       "   3   -1.518357\n",
       "dtype: float64"
      ]
     },
     "execution_count": 398,
     "metadata": {},
     "output_type": "execute_result"
    }
   ],
   "source": [
    "# Selection - Can subselect series using Indexes from the outside in\n",
    "data[:'c']         # Example 1\n",
    "data.ix[['b','d']] # Example 2\n",
    "\n",
    "# You can use the [] notation to select more inner levels but in general DO NOT DO THIS"
   ]
  },
  {
   "cell_type": "code",
   "execution_count": 399,
   "metadata": {
    "collapsed": false
   },
   "outputs": [
    {
     "data": {
      "text/html": [
       "<div>\n",
       "<table border=\"1\" class=\"dataframe\">\n",
       "  <thead>\n",
       "    <tr style=\"text-align: right;\">\n",
       "      <th></th>\n",
       "      <th>1</th>\n",
       "      <th>2</th>\n",
       "      <th>3</th>\n",
       "    </tr>\n",
       "  </thead>\n",
       "  <tbody>\n",
       "    <tr>\n",
       "      <th>a</th>\n",
       "      <td>0.842251</td>\n",
       "      <td>0.445471</td>\n",
       "      <td>1.499606</td>\n",
       "    </tr>\n",
       "    <tr>\n",
       "      <th>b</th>\n",
       "      <td>-0.499740</td>\n",
       "      <td>-0.847721</td>\n",
       "      <td>-1.222757</td>\n",
       "    </tr>\n",
       "    <tr>\n",
       "      <th>c</th>\n",
       "      <td>-0.167686</td>\n",
       "      <td>0.523020</td>\n",
       "      <td>NaN</td>\n",
       "    </tr>\n",
       "    <tr>\n",
       "      <th>d</th>\n",
       "      <td>NaN</td>\n",
       "      <td>-1.224501</td>\n",
       "      <td>-1.518357</td>\n",
       "    </tr>\n",
       "  </tbody>\n",
       "</table>\n",
       "</div>"
      ],
      "text/plain": [
       "          1         2         3\n",
       "a  0.842251  0.445471  1.499606\n",
       "b -0.499740 -0.847721 -1.222757\n",
       "c -0.167686  0.523020       NaN\n",
       "d       NaN -1.224501 -1.518357"
      ]
     },
     "execution_count": 399,
     "metadata": {},
     "output_type": "execute_result"
    }
   ],
   "source": [
    "# MultiIndex series to DataFrame --- unstack() by default moves the inner-most level to the columns\n",
    "data.unstack()"
   ]
  },
  {
   "cell_type": "code",
   "execution_count": 406,
   "metadata": {
    "collapsed": false
   },
   "outputs": [
    {
     "data": {
      "text/html": [
       "<div>\n",
       "<table border=\"1\" class=\"dataframe\">\n",
       "  <thead>\n",
       "    <tr>\n",
       "      <th></th>\n",
       "      <th>state</th>\n",
       "      <th colspan=\"2\" halign=\"left\">Ohio</th>\n",
       "      <th>Colorado</th>\n",
       "    </tr>\n",
       "    <tr>\n",
       "      <th></th>\n",
       "      <th>color</th>\n",
       "      <th>Green</th>\n",
       "      <th>Red</th>\n",
       "      <th>Green</th>\n",
       "    </tr>\n",
       "    <tr>\n",
       "      <th>key1</th>\n",
       "      <th>key2</th>\n",
       "      <th></th>\n",
       "      <th></th>\n",
       "      <th></th>\n",
       "    </tr>\n",
       "  </thead>\n",
       "  <tbody>\n",
       "    <tr>\n",
       "      <th rowspan=\"2\" valign=\"top\">a</th>\n",
       "      <th>1</th>\n",
       "      <td>0</td>\n",
       "      <td>1</td>\n",
       "      <td>2</td>\n",
       "    </tr>\n",
       "    <tr>\n",
       "      <th>2</th>\n",
       "      <td>3</td>\n",
       "      <td>4</td>\n",
       "      <td>5</td>\n",
       "    </tr>\n",
       "    <tr>\n",
       "      <th rowspan=\"2\" valign=\"top\">b</th>\n",
       "      <th>1</th>\n",
       "      <td>6</td>\n",
       "      <td>7</td>\n",
       "      <td>8</td>\n",
       "    </tr>\n",
       "    <tr>\n",
       "      <th>2</th>\n",
       "      <td>9</td>\n",
       "      <td>10</td>\n",
       "      <td>11</td>\n",
       "    </tr>\n",
       "  </tbody>\n",
       "</table>\n",
       "</div>"
      ],
      "text/plain": [
       "state      Ohio     Colorado\n",
       "color     Green Red    Green\n",
       "key1 key2                   \n",
       "a    1        0   1        2\n",
       "     2        3   4        5\n",
       "b    1        6   7        8\n",
       "     2        9  10       11"
      ]
     },
     "execution_count": 406,
     "metadata": {},
     "output_type": "execute_result"
    }
   ],
   "source": [
    "# Columns can have a hierarchical index\n",
    "# The indexes and columns can be named.\n",
    "frame = pd.DataFrame(np.arange(12).reshape((4,3)), \n",
    "                     index=[['a', 'a', 'b', 'b'], [1, 2, 1, 2]], \n",
    "                     columns=[['Ohio','Ohio','Colorado'],['Green','Red','Green']])\n",
    "frame.index.names=['key1','key2']\n",
    "frame.columns.names=['state','color']\n",
    "frame"
   ]
  },
  {
   "cell_type": "code",
   "execution_count": 408,
   "metadata": {
    "collapsed": false
   },
   "outputs": [
    {
     "data": {
      "text/plain": [
       "MultiIndex(levels=[[u'Colorado', u'Ohio'], [u'Green', u'Red']],\n",
       "           labels=[[1, 1, 0], [0, 1, 0]],\n",
       "           names=[u'state', u'color'])"
      ]
     },
     "execution_count": 408,
     "metadata": {},
     "output_type": "execute_result"
    }
   ],
   "source": [
    "# Creating a multi-index on its own, for example to reuse across data frames\n",
    "pd.MultiIndex.from_arrays([['Ohio', 'Ohio', 'Colorado'], ['Green', 'Red', 'Green']], names=['state', 'color'])"
   ]
  },
  {
   "cell_type": "code",
   "execution_count": 411,
   "metadata": {
    "collapsed": false
   },
   "outputs": [
    {
     "data": {
      "text/html": [
       "<div>\n",
       "<table border=\"1\" class=\"dataframe\">\n",
       "  <thead>\n",
       "    <tr>\n",
       "      <th></th>\n",
       "      <th>state</th>\n",
       "      <th colspan=\"2\" halign=\"left\">Ohio</th>\n",
       "      <th>Colorado</th>\n",
       "    </tr>\n",
       "    <tr>\n",
       "      <th></th>\n",
       "      <th>color</th>\n",
       "      <th>Green</th>\n",
       "      <th>Red</th>\n",
       "      <th>Green</th>\n",
       "    </tr>\n",
       "    <tr>\n",
       "      <th>key2</th>\n",
       "      <th>key1</th>\n",
       "      <th></th>\n",
       "      <th></th>\n",
       "      <th></th>\n",
       "    </tr>\n",
       "  </thead>\n",
       "  <tbody>\n",
       "    <tr>\n",
       "      <th>1</th>\n",
       "      <th>a</th>\n",
       "      <td>0</td>\n",
       "      <td>1</td>\n",
       "      <td>2</td>\n",
       "    </tr>\n",
       "    <tr>\n",
       "      <th>2</th>\n",
       "      <th>a</th>\n",
       "      <td>3</td>\n",
       "      <td>4</td>\n",
       "      <td>5</td>\n",
       "    </tr>\n",
       "    <tr>\n",
       "      <th>1</th>\n",
       "      <th>b</th>\n",
       "      <td>6</td>\n",
       "      <td>7</td>\n",
       "      <td>8</td>\n",
       "    </tr>\n",
       "    <tr>\n",
       "      <th>2</th>\n",
       "      <th>b</th>\n",
       "      <td>9</td>\n",
       "      <td>10</td>\n",
       "      <td>11</td>\n",
       "    </tr>\n",
       "  </tbody>\n",
       "</table>\n",
       "</div>"
      ],
      "text/plain": [
       "state      Ohio     Colorado\n",
       "color     Green Red    Green\n",
       "key2 key1                   \n",
       "1    a        0   1        2\n",
       "2    a        3   4        5\n",
       "1    b        6   7        8\n",
       "2    b        9  10       11"
      ]
     },
     "execution_count": 411,
     "metadata": {},
     "output_type": "execute_result"
    }
   ],
   "source": [
    "# Swapping Levels\n",
    "frame.swaplevel('key1','key2')"
   ]
  },
  {
   "cell_type": "code",
   "execution_count": 414,
   "metadata": {
    "collapsed": false
   },
   "outputs": [
    {
     "data": {
      "text/html": [
       "<div>\n",
       "<table border=\"1\" class=\"dataframe\">\n",
       "  <thead>\n",
       "    <tr>\n",
       "      <th></th>\n",
       "      <th>state</th>\n",
       "      <th colspan=\"2\" halign=\"left\">Ohio</th>\n",
       "      <th>Colorado</th>\n",
       "    </tr>\n",
       "    <tr>\n",
       "      <th></th>\n",
       "      <th>color</th>\n",
       "      <th>Green</th>\n",
       "      <th>Red</th>\n",
       "      <th>Green</th>\n",
       "    </tr>\n",
       "    <tr>\n",
       "      <th>key1</th>\n",
       "      <th>key2</th>\n",
       "      <th></th>\n",
       "      <th></th>\n",
       "      <th></th>\n",
       "    </tr>\n",
       "  </thead>\n",
       "  <tbody>\n",
       "    <tr>\n",
       "      <th>a</th>\n",
       "      <th>1</th>\n",
       "      <td>0</td>\n",
       "      <td>1</td>\n",
       "      <td>2</td>\n",
       "    </tr>\n",
       "    <tr>\n",
       "      <th>b</th>\n",
       "      <th>1</th>\n",
       "      <td>6</td>\n",
       "      <td>7</td>\n",
       "      <td>8</td>\n",
       "    </tr>\n",
       "    <tr>\n",
       "      <th>a</th>\n",
       "      <th>2</th>\n",
       "      <td>3</td>\n",
       "      <td>4</td>\n",
       "      <td>5</td>\n",
       "    </tr>\n",
       "    <tr>\n",
       "      <th>b</th>\n",
       "      <th>2</th>\n",
       "      <td>9</td>\n",
       "      <td>10</td>\n",
       "      <td>11</td>\n",
       "    </tr>\n",
       "  </tbody>\n",
       "</table>\n",
       "</div>"
      ],
      "text/plain": [
       "state      Ohio     Colorado\n",
       "color     Green Red    Green\n",
       "key1 key2                   \n",
       "a    1        0   1        2\n",
       "b    1        6   7        8\n",
       "a    2        3   4        5\n",
       "b    2        9  10       11"
      ]
     },
     "execution_count": 414,
     "metadata": {},
     "output_type": "execute_result"
    }
   ],
   "source": [
    "# Sorting levels\n",
    "frame.sortlevel('key2')"
   ]
  },
  {
   "cell_type": "code",
   "execution_count": 415,
   "metadata": {
    "collapsed": false
   },
   "outputs": [
    {
     "data": {
      "text/plain": [
       "state     color\n",
       "Ohio      Green    18\n",
       "          Red      22\n",
       "Colorado  Green    26\n",
       "dtype: int64"
      ]
     },
     "execution_count": 415,
     "metadata": {},
     "output_type": "execute_result"
    }
   ],
   "source": [
    "# Summary statistics and MultiIndexes\n",
    "frame.sum() # Sums row-by-row across the columns"
   ]
  },
  {
   "cell_type": "code",
   "execution_count": 418,
   "metadata": {
    "collapsed": false
   },
   "outputs": [
    {
     "data": {
      "text/html": [
       "<div>\n",
       "<table border=\"1\" class=\"dataframe\">\n",
       "  <thead>\n",
       "    <tr>\n",
       "      <th>state</th>\n",
       "      <th colspan=\"2\" halign=\"left\">Ohio</th>\n",
       "      <th>Colorado</th>\n",
       "    </tr>\n",
       "    <tr>\n",
       "      <th>color</th>\n",
       "      <th>Green</th>\n",
       "      <th>Red</th>\n",
       "      <th>Green</th>\n",
       "    </tr>\n",
       "    <tr>\n",
       "      <th>key2</th>\n",
       "      <th></th>\n",
       "      <th></th>\n",
       "      <th></th>\n",
       "    </tr>\n",
       "  </thead>\n",
       "  <tbody>\n",
       "    <tr>\n",
       "      <th>1</th>\n",
       "      <td>6</td>\n",
       "      <td>8</td>\n",
       "      <td>10</td>\n",
       "    </tr>\n",
       "    <tr>\n",
       "      <th>2</th>\n",
       "      <td>12</td>\n",
       "      <td>14</td>\n",
       "      <td>16</td>\n",
       "    </tr>\n",
       "  </tbody>\n",
       "</table>\n",
       "</div>"
      ],
      "text/plain": [
       "state  Ohio     Colorado\n",
       "color Green Red    Green\n",
       "key2                    \n",
       "1         6   8       10\n",
       "2        12  14       16"
      ]
     },
     "execution_count": 418,
     "metadata": {},
     "output_type": "execute_result"
    }
   ],
   "source": [
    "frame.sum(level='key2') # Sums row-by-row across the columns and key2"
   ]
  },
  {
   "cell_type": "code",
   "execution_count": 421,
   "metadata": {
    "collapsed": false
   },
   "outputs": [
    {
     "data": {
      "text/html": [
       "<div>\n",
       "<table border=\"1\" class=\"dataframe\">\n",
       "  <thead>\n",
       "    <tr style=\"text-align: right;\">\n",
       "      <th></th>\n",
       "      <th>color</th>\n",
       "      <th>Green</th>\n",
       "      <th>Red</th>\n",
       "    </tr>\n",
       "    <tr>\n",
       "      <th>key1</th>\n",
       "      <th>key2</th>\n",
       "      <th></th>\n",
       "      <th></th>\n",
       "    </tr>\n",
       "  </thead>\n",
       "  <tbody>\n",
       "    <tr>\n",
       "      <th rowspan=\"2\" valign=\"top\">a</th>\n",
       "      <th>1</th>\n",
       "      <td>2</td>\n",
       "      <td>1</td>\n",
       "    </tr>\n",
       "    <tr>\n",
       "      <th>2</th>\n",
       "      <td>8</td>\n",
       "      <td>4</td>\n",
       "    </tr>\n",
       "    <tr>\n",
       "      <th rowspan=\"2\" valign=\"top\">b</th>\n",
       "      <th>1</th>\n",
       "      <td>14</td>\n",
       "      <td>7</td>\n",
       "    </tr>\n",
       "    <tr>\n",
       "      <th>2</th>\n",
       "      <td>20</td>\n",
       "      <td>10</td>\n",
       "    </tr>\n",
       "  </tbody>\n",
       "</table>\n",
       "</div>"
      ],
      "text/plain": [
       "color      Green  Red\n",
       "key1 key2            \n",
       "a    1         2    1\n",
       "     2         8    4\n",
       "b    1        14    7\n",
       "     2        20   10"
      ]
     },
     "execution_count": 421,
     "metadata": {},
     "output_type": "execute_result"
    }
   ],
   "source": [
    "frame.sum(level='color',axis=1) # Sums row-by-row "
   ]
  },
  {
   "cell_type": "code",
   "execution_count": 422,
   "metadata": {
    "collapsed": false
   },
   "outputs": [
    {
     "data": {
      "text/html": [
       "<div>\n",
       "<table border=\"1\" class=\"dataframe\">\n",
       "  <thead>\n",
       "    <tr style=\"text-align: right;\">\n",
       "      <th></th>\n",
       "      <th>a</th>\n",
       "      <th>b</th>\n",
       "      <th>c</th>\n",
       "      <th>d</th>\n",
       "    </tr>\n",
       "  </thead>\n",
       "  <tbody>\n",
       "    <tr>\n",
       "      <th>0</th>\n",
       "      <td>0</td>\n",
       "      <td>7</td>\n",
       "      <td>one</td>\n",
       "      <td>0</td>\n",
       "    </tr>\n",
       "    <tr>\n",
       "      <th>1</th>\n",
       "      <td>1</td>\n",
       "      <td>6</td>\n",
       "      <td>one</td>\n",
       "      <td>1</td>\n",
       "    </tr>\n",
       "    <tr>\n",
       "      <th>2</th>\n",
       "      <td>2</td>\n",
       "      <td>5</td>\n",
       "      <td>one</td>\n",
       "      <td>2</td>\n",
       "    </tr>\n",
       "    <tr>\n",
       "      <th>3</th>\n",
       "      <td>3</td>\n",
       "      <td>4</td>\n",
       "      <td>two</td>\n",
       "      <td>0</td>\n",
       "    </tr>\n",
       "    <tr>\n",
       "      <th>4</th>\n",
       "      <td>4</td>\n",
       "      <td>3</td>\n",
       "      <td>two</td>\n",
       "      <td>1</td>\n",
       "    </tr>\n",
       "    <tr>\n",
       "      <th>5</th>\n",
       "      <td>5</td>\n",
       "      <td>2</td>\n",
       "      <td>two</td>\n",
       "      <td>2</td>\n",
       "    </tr>\n",
       "    <tr>\n",
       "      <th>6</th>\n",
       "      <td>6</td>\n",
       "      <td>1</td>\n",
       "      <td>two</td>\n",
       "      <td>3</td>\n",
       "    </tr>\n",
       "  </tbody>\n",
       "</table>\n",
       "</div>"
      ],
      "text/plain": [
       "   a  b    c  d\n",
       "0  0  7  one  0\n",
       "1  1  6  one  1\n",
       "2  2  5  one  2\n",
       "3  3  4  two  0\n",
       "4  4  3  two  1\n",
       "5  5  2  two  2\n",
       "6  6  1  two  3"
      ]
     },
     "execution_count": 422,
     "metadata": {},
     "output_type": "execute_result"
    }
   ],
   "source": [
    "frame = pd.DataFrame({'a': range(7), 'b': range(7, 0, -1), 'c': ['one', 'one', 'one', 'two', 'two', 'two', 'two'], 'd': [0, 1, 2, 0, 1, 2, 3]})\n",
    "frame"
   ]
  },
  {
   "cell_type": "code",
   "execution_count": 424,
   "metadata": {
    "collapsed": false
   },
   "outputs": [
    {
     "data": {
      "text/html": [
       "<div>\n",
       "<table border=\"1\" class=\"dataframe\">\n",
       "  <thead>\n",
       "    <tr style=\"text-align: right;\">\n",
       "      <th></th>\n",
       "      <th></th>\n",
       "      <th>a</th>\n",
       "      <th>b</th>\n",
       "    </tr>\n",
       "    <tr>\n",
       "      <th>c</th>\n",
       "      <th>d</th>\n",
       "      <th></th>\n",
       "      <th></th>\n",
       "    </tr>\n",
       "  </thead>\n",
       "  <tbody>\n",
       "    <tr>\n",
       "      <th rowspan=\"3\" valign=\"top\">one</th>\n",
       "      <th>0</th>\n",
       "      <td>0</td>\n",
       "      <td>7</td>\n",
       "    </tr>\n",
       "    <tr>\n",
       "      <th>1</th>\n",
       "      <td>1</td>\n",
       "      <td>6</td>\n",
       "    </tr>\n",
       "    <tr>\n",
       "      <th>2</th>\n",
       "      <td>2</td>\n",
       "      <td>5</td>\n",
       "    </tr>\n",
       "    <tr>\n",
       "      <th rowspan=\"4\" valign=\"top\">two</th>\n",
       "      <th>0</th>\n",
       "      <td>3</td>\n",
       "      <td>4</td>\n",
       "    </tr>\n",
       "    <tr>\n",
       "      <th>1</th>\n",
       "      <td>4</td>\n",
       "      <td>3</td>\n",
       "    </tr>\n",
       "    <tr>\n",
       "      <th>2</th>\n",
       "      <td>5</td>\n",
       "      <td>2</td>\n",
       "    </tr>\n",
       "    <tr>\n",
       "      <th>3</th>\n",
       "      <td>6</td>\n",
       "      <td>1</td>\n",
       "    </tr>\n",
       "  </tbody>\n",
       "</table>\n",
       "</div>"
      ],
      "text/plain": [
       "       a  b\n",
       "c   d      \n",
       "one 0  0  7\n",
       "    1  1  6\n",
       "    2  2  5\n",
       "two 0  3  4\n",
       "    1  4  3\n",
       "    2  5  2\n",
       "    3  6  1"
      ]
     },
     "execution_count": 424,
     "metadata": {},
     "output_type": "execute_result"
    }
   ],
   "source": [
    "frame2 = frame.set_index(['c','d'])\n",
    "frame2"
   ]
  },
  {
   "cell_type": "code",
   "execution_count": 425,
   "metadata": {
    "collapsed": false
   },
   "outputs": [
    {
     "data": {
      "text/html": [
       "<div>\n",
       "<table border=\"1\" class=\"dataframe\">\n",
       "  <thead>\n",
       "    <tr style=\"text-align: right;\">\n",
       "      <th></th>\n",
       "      <th>c</th>\n",
       "      <th>d</th>\n",
       "      <th>a</th>\n",
       "      <th>b</th>\n",
       "    </tr>\n",
       "  </thead>\n",
       "  <tbody>\n",
       "    <tr>\n",
       "      <th>0</th>\n",
       "      <td>one</td>\n",
       "      <td>0</td>\n",
       "      <td>0</td>\n",
       "      <td>7</td>\n",
       "    </tr>\n",
       "    <tr>\n",
       "      <th>1</th>\n",
       "      <td>one</td>\n",
       "      <td>1</td>\n",
       "      <td>1</td>\n",
       "      <td>6</td>\n",
       "    </tr>\n",
       "    <tr>\n",
       "      <th>2</th>\n",
       "      <td>one</td>\n",
       "      <td>2</td>\n",
       "      <td>2</td>\n",
       "      <td>5</td>\n",
       "    </tr>\n",
       "    <tr>\n",
       "      <th>3</th>\n",
       "      <td>two</td>\n",
       "      <td>0</td>\n",
       "      <td>3</td>\n",
       "      <td>4</td>\n",
       "    </tr>\n",
       "    <tr>\n",
       "      <th>4</th>\n",
       "      <td>two</td>\n",
       "      <td>1</td>\n",
       "      <td>4</td>\n",
       "      <td>3</td>\n",
       "    </tr>\n",
       "    <tr>\n",
       "      <th>5</th>\n",
       "      <td>two</td>\n",
       "      <td>2</td>\n",
       "      <td>5</td>\n",
       "      <td>2</td>\n",
       "    </tr>\n",
       "    <tr>\n",
       "      <th>6</th>\n",
       "      <td>two</td>\n",
       "      <td>3</td>\n",
       "      <td>6</td>\n",
       "      <td>1</td>\n",
       "    </tr>\n",
       "  </tbody>\n",
       "</table>\n",
       "</div>"
      ],
      "text/plain": [
       "     c  d  a  b\n",
       "0  one  0  0  7\n",
       "1  one  1  1  6\n",
       "2  one  2  2  5\n",
       "3  two  0  3  4\n",
       "4  two  1  4  3\n",
       "5  two  2  5  2\n",
       "6  two  3  6  1"
      ]
     },
     "execution_count": 425,
     "metadata": {},
     "output_type": "execute_result"
    }
   ],
   "source": [
    "frame2.reset_index()"
   ]
  },
  {
   "cell_type": "code",
   "execution_count": 444,
   "metadata": {
    "collapsed": false
   },
   "outputs": [],
   "source": [
    "#### Appendix - Panel Data - Time series data for multiple metrics for multiple similar things. \n",
    "# E.g. metrics for stocks over time.  health records for individuals over time. \n",
    "from pandas_datareader import data as web\n",
    "pdata = pd.Panel(dict((stk, web.get_data_yahoo(stk)) for stk in ['AAPL', 'GOOG', 'MSFT', 'DELL']))\n",
    "pdata = pdata.swapaxes('items', 'minor')\n",
    "    # Move the time series to the major axis i.e. axis=0"
   ]
  },
  {
   "cell_type": "code",
   "execution_count": 445,
   "metadata": {
    "collapsed": false
   },
   "outputs": [
    {
     "data": {
      "text/plain": [
       "<class 'pandas.core.panel.Panel'>\n",
       "Dimensions: 6 (items) x 1692 (major_axis) x 4 (minor_axis)\n",
       "Items axis: Open to Adj Close\n",
       "Major_axis axis: 2010-01-04 00:00:00 to 2016-08-23 00:00:00\n",
       "Minor_axis axis: AAPL to MSFT"
      ]
     },
     "execution_count": 445,
     "metadata": {},
     "output_type": "execute_result"
    }
   ],
   "source": [
    "# Explore pdata\n",
    "pdata"
   ]
  },
  {
   "cell_type": "code",
   "execution_count": 449,
   "metadata": {
    "collapsed": false
   },
   "outputs": [
    {
     "data": {
      "text/html": [
       "<div>\n",
       "<table border=\"1\" class=\"dataframe\">\n",
       "  <thead>\n",
       "    <tr style=\"text-align: right;\">\n",
       "      <th></th>\n",
       "      <th>Open</th>\n",
       "      <th>High</th>\n",
       "      <th>Low</th>\n",
       "      <th>Close</th>\n",
       "      <th>Volume</th>\n",
       "      <th>Adj Close</th>\n",
       "    </tr>\n",
       "  </thead>\n",
       "  <tbody>\n",
       "    <tr>\n",
       "      <th>AAPL</th>\n",
       "      <td>569.159996</td>\n",
       "      <td>572.650009</td>\n",
       "      <td>560.520012</td>\n",
       "      <td>560.989983</td>\n",
       "      <td>130246900.0</td>\n",
       "      <td>73.371509</td>\n",
       "    </tr>\n",
       "    <tr>\n",
       "      <th>DELL</th>\n",
       "      <td>12.150000</td>\n",
       "      <td>12.300000</td>\n",
       "      <td>12.045000</td>\n",
       "      <td>12.070000</td>\n",
       "      <td>19397600.0</td>\n",
       "      <td>11.675920</td>\n",
       "    </tr>\n",
       "    <tr>\n",
       "      <th>GOOG</th>\n",
       "      <td>571.790972</td>\n",
       "      <td>572.650996</td>\n",
       "      <td>568.350996</td>\n",
       "      <td>570.981000</td>\n",
       "      <td>6138700.0</td>\n",
       "      <td>285.205295</td>\n",
       "    </tr>\n",
       "    <tr>\n",
       "      <th>MSFT</th>\n",
       "      <td>28.760000</td>\n",
       "      <td>28.959999</td>\n",
       "      <td>28.440001</td>\n",
       "      <td>28.450001</td>\n",
       "      <td>56634300.0</td>\n",
       "      <td>25.262972</td>\n",
       "    </tr>\n",
       "  </tbody>\n",
       "</table>\n",
       "</div>"
      ],
      "text/plain": [
       "            Open        High         Low       Close       Volume   Adj Close\n",
       "AAPL  569.159996  572.650009  560.520012  560.989983  130246900.0   73.371509\n",
       "DELL   12.150000   12.300000   12.045000   12.070000   19397600.0   11.675920\n",
       "GOOG  571.790972  572.650996  568.350996  570.981000    6138700.0  285.205295\n",
       "MSFT   28.760000   28.959999   28.440001   28.450001   56634300.0   25.262972"
      ]
     },
     "execution_count": 449,
     "metadata": {},
     "output_type": "execute_result"
    }
   ],
   "source": [
    "pdata['Adj Close']\n",
    "pdata.ix[:, '6/1/2012', :]\n",
    "    # Over all metrics, on a particular day, over all stocks."
   ]
  },
  {
   "cell_type": "code",
   "execution_count": 450,
   "metadata": {
    "collapsed": false
   },
   "outputs": [
    {
     "data": {
      "text/html": [
       "<div>\n",
       "<table border=\"1\" class=\"dataframe\">\n",
       "  <thead>\n",
       "    <tr style=\"text-align: right;\">\n",
       "      <th></th>\n",
       "      <th></th>\n",
       "      <th>Open</th>\n",
       "      <th>High</th>\n",
       "      <th>Low</th>\n",
       "      <th>Close</th>\n",
       "      <th>Volume</th>\n",
       "      <th>Adj Close</th>\n",
       "    </tr>\n",
       "    <tr>\n",
       "      <th>Date</th>\n",
       "      <th>minor</th>\n",
       "      <th></th>\n",
       "      <th></th>\n",
       "      <th></th>\n",
       "      <th></th>\n",
       "      <th></th>\n",
       "      <th></th>\n",
       "    </tr>\n",
       "  </thead>\n",
       "  <tbody>\n",
       "    <tr>\n",
       "      <th rowspan=\"3\" valign=\"top\">2016-05-31</th>\n",
       "      <th>AAPL</th>\n",
       "      <td>99.599998</td>\n",
       "      <td>100.400002</td>\n",
       "      <td>98.820000</td>\n",
       "      <td>99.860001</td>\n",
       "      <td>42307200.0</td>\n",
       "      <td>99.321953</td>\n",
       "    </tr>\n",
       "    <tr>\n",
       "      <th>GOOG</th>\n",
       "      <td>731.739990</td>\n",
       "      <td>739.729980</td>\n",
       "      <td>731.260010</td>\n",
       "      <td>735.719971</td>\n",
       "      <td>2129500.0</td>\n",
       "      <td>735.719971</td>\n",
       "    </tr>\n",
       "    <tr>\n",
       "      <th>MSFT</th>\n",
       "      <td>52.259998</td>\n",
       "      <td>53.000000</td>\n",
       "      <td>52.080002</td>\n",
       "      <td>53.000000</td>\n",
       "      <td>37653100.0</td>\n",
       "      <td>52.671715</td>\n",
       "    </tr>\n",
       "    <tr>\n",
       "      <th rowspan=\"3\" valign=\"top\">2016-06-01</th>\n",
       "      <th>AAPL</th>\n",
       "      <td>99.019997</td>\n",
       "      <td>99.540001</td>\n",
       "      <td>98.330002</td>\n",
       "      <td>98.459999</td>\n",
       "      <td>29173300.0</td>\n",
       "      <td>97.929494</td>\n",
       "    </tr>\n",
       "    <tr>\n",
       "      <th>GOOG</th>\n",
       "      <td>734.530029</td>\n",
       "      <td>737.210022</td>\n",
       "      <td>730.659973</td>\n",
       "      <td>734.150024</td>\n",
       "      <td>1253600.0</td>\n",
       "      <td>734.150024</td>\n",
       "    </tr>\n",
       "    <tr>\n",
       "      <th>MSFT</th>\n",
       "      <td>52.439999</td>\n",
       "      <td>52.950001</td>\n",
       "      <td>52.439999</td>\n",
       "      <td>52.849998</td>\n",
       "      <td>25324800.0</td>\n",
       "      <td>52.522643</td>\n",
       "    </tr>\n",
       "    <tr>\n",
       "      <th rowspan=\"3\" valign=\"top\">2016-06-02</th>\n",
       "      <th>AAPL</th>\n",
       "      <td>97.599998</td>\n",
       "      <td>97.839996</td>\n",
       "      <td>96.629997</td>\n",
       "      <td>97.720001</td>\n",
       "      <td>40191600.0</td>\n",
       "      <td>97.193484</td>\n",
       "    </tr>\n",
       "    <tr>\n",
       "      <th>GOOG</th>\n",
       "      <td>732.500000</td>\n",
       "      <td>733.020020</td>\n",
       "      <td>724.169983</td>\n",
       "      <td>730.400024</td>\n",
       "      <td>1341800.0</td>\n",
       "      <td>730.400024</td>\n",
       "    </tr>\n",
       "    <tr>\n",
       "      <th>MSFT</th>\n",
       "      <td>52.639999</td>\n",
       "      <td>52.740002</td>\n",
       "      <td>51.840000</td>\n",
       "      <td>52.480000</td>\n",
       "      <td>22840800.0</td>\n",
       "      <td>52.154936</td>\n",
       "    </tr>\n",
       "    <tr>\n",
       "      <th rowspan=\"3\" valign=\"top\">2016-06-03</th>\n",
       "      <th>AAPL</th>\n",
       "      <td>97.790001</td>\n",
       "      <td>98.269997</td>\n",
       "      <td>97.449997</td>\n",
       "      <td>97.919998</td>\n",
       "      <td>28504900.0</td>\n",
       "      <td>97.392403</td>\n",
       "    </tr>\n",
       "    <tr>\n",
       "      <th>GOOG</th>\n",
       "      <td>729.270020</td>\n",
       "      <td>729.489990</td>\n",
       "      <td>720.559998</td>\n",
       "      <td>722.340027</td>\n",
       "      <td>1226300.0</td>\n",
       "      <td>722.340027</td>\n",
       "    </tr>\n",
       "    <tr>\n",
       "      <th>MSFT</th>\n",
       "      <td>52.380001</td>\n",
       "      <td>52.419998</td>\n",
       "      <td>51.599998</td>\n",
       "      <td>51.790001</td>\n",
       "      <td>23368300.0</td>\n",
       "      <td>51.469211</td>\n",
       "    </tr>\n",
       "    <tr>\n",
       "      <th rowspan=\"3\" valign=\"top\">2016-06-06</th>\n",
       "      <th>AAPL</th>\n",
       "      <td>97.989998</td>\n",
       "      <td>101.889999</td>\n",
       "      <td>97.550003</td>\n",
       "      <td>98.629997</td>\n",
       "      <td>23292500.0</td>\n",
       "      <td>98.098577</td>\n",
       "    </tr>\n",
       "    <tr>\n",
       "      <th>GOOG</th>\n",
       "      <td>724.909973</td>\n",
       "      <td>724.909973</td>\n",
       "      <td>714.609985</td>\n",
       "      <td>716.549988</td>\n",
       "      <td>1565300.0</td>\n",
       "      <td>716.549988</td>\n",
       "    </tr>\n",
       "    <tr>\n",
       "      <th>MSFT</th>\n",
       "      <td>51.990002</td>\n",
       "      <td>52.349998</td>\n",
       "      <td>51.889999</td>\n",
       "      <td>52.130001</td>\n",
       "      <td>18243300.0</td>\n",
       "      <td>51.807105</td>\n",
       "    </tr>\n",
       "    <tr>\n",
       "      <th rowspan=\"3\" valign=\"top\">2016-06-07</th>\n",
       "      <th>AAPL</th>\n",
       "      <td>99.250000</td>\n",
       "      <td>99.870003</td>\n",
       "      <td>98.959999</td>\n",
       "      <td>99.029999</td>\n",
       "      <td>22409500.0</td>\n",
       "      <td>98.496423</td>\n",
       "    </tr>\n",
       "    <tr>\n",
       "      <th>GOOG</th>\n",
       "      <td>719.840027</td>\n",
       "      <td>721.979980</td>\n",
       "      <td>716.549988</td>\n",
       "      <td>716.650024</td>\n",
       "      <td>1336200.0</td>\n",
       "      <td>716.650024</td>\n",
       "    </tr>\n",
       "    <tr>\n",
       "      <th>MSFT</th>\n",
       "      <td>52.240002</td>\n",
       "      <td>52.730000</td>\n",
       "      <td>52.099998</td>\n",
       "      <td>52.099998</td>\n",
       "      <td>20866800.0</td>\n",
       "      <td>51.777288</td>\n",
       "    </tr>\n",
       "    <tr>\n",
       "      <th rowspan=\"3\" valign=\"top\">2016-06-08</th>\n",
       "      <th>AAPL</th>\n",
       "      <td>99.019997</td>\n",
       "      <td>99.559998</td>\n",
       "      <td>98.680000</td>\n",
       "      <td>98.940002</td>\n",
       "      <td>20848100.0</td>\n",
       "      <td>98.406912</td>\n",
       "    </tr>\n",
       "    <tr>\n",
       "      <th>GOOG</th>\n",
       "      <td>723.960022</td>\n",
       "      <td>728.570007</td>\n",
       "      <td>720.580017</td>\n",
       "      <td>728.280029</td>\n",
       "      <td>1583700.0</td>\n",
       "      <td>728.280029</td>\n",
       "    </tr>\n",
       "    <tr>\n",
       "      <th>MSFT</th>\n",
       "      <td>52.020000</td>\n",
       "      <td>52.439999</td>\n",
       "      <td>51.869999</td>\n",
       "      <td>52.040001</td>\n",
       "      <td>21149400.0</td>\n",
       "      <td>51.717662</td>\n",
       "    </tr>\n",
       "    <tr>\n",
       "      <th rowspan=\"3\" valign=\"top\">2016-06-09</th>\n",
       "      <th>AAPL</th>\n",
       "      <td>98.500000</td>\n",
       "      <td>99.989998</td>\n",
       "      <td>98.459999</td>\n",
       "      <td>99.650002</td>\n",
       "      <td>26601400.0</td>\n",
       "      <td>99.113085</td>\n",
       "    </tr>\n",
       "    <tr>\n",
       "      <th>GOOG</th>\n",
       "      <td>722.869995</td>\n",
       "      <td>729.539978</td>\n",
       "      <td>722.335999</td>\n",
       "      <td>728.580017</td>\n",
       "      <td>988900.0</td>\n",
       "      <td>728.580017</td>\n",
       "    </tr>\n",
       "    <tr>\n",
       "      <th>MSFT</th>\n",
       "      <td>52.000000</td>\n",
       "      <td>52.000000</td>\n",
       "      <td>51.490002</td>\n",
       "      <td>51.619999</td>\n",
       "      <td>20305700.0</td>\n",
       "      <td>51.300262</td>\n",
       "    </tr>\n",
       "    <tr>\n",
       "      <th rowspan=\"3\" valign=\"top\">2016-06-10</th>\n",
       "      <th>AAPL</th>\n",
       "      <td>98.529999</td>\n",
       "      <td>99.349998</td>\n",
       "      <td>98.480003</td>\n",
       "      <td>98.830002</td>\n",
       "      <td>31712900.0</td>\n",
       "      <td>98.297504</td>\n",
       "    </tr>\n",
       "    <tr>\n",
       "      <th>GOOG</th>\n",
       "      <td>719.469971</td>\n",
       "      <td>725.890015</td>\n",
       "      <td>716.429993</td>\n",
       "      <td>719.409973</td>\n",
       "      <td>1216400.0</td>\n",
       "      <td>719.409973</td>\n",
       "    </tr>\n",
       "    <tr>\n",
       "      <th>MSFT</th>\n",
       "      <td>51.049999</td>\n",
       "      <td>52.049999</td>\n",
       "      <td>51.040001</td>\n",
       "      <td>51.480000</td>\n",
       "      <td>25833200.0</td>\n",
       "      <td>51.161130</td>\n",
       "    </tr>\n",
       "    <tr>\n",
       "      <th rowspan=\"3\" valign=\"top\">2016-06-13</th>\n",
       "      <th>AAPL</th>\n",
       "      <td>98.690002</td>\n",
       "      <td>99.120003</td>\n",
       "      <td>97.099998</td>\n",
       "      <td>97.339996</td>\n",
       "      <td>38020500.0</td>\n",
       "      <td>96.815526</td>\n",
       "    </tr>\n",
       "    <tr>\n",
       "      <th>GOOG</th>\n",
       "      <td>716.510010</td>\n",
       "      <td>725.440002</td>\n",
       "      <td>716.510010</td>\n",
       "      <td>718.359985</td>\n",
       "      <td>1258900.0</td>\n",
       "      <td>718.359985</td>\n",
       "    </tr>\n",
       "    <tr>\n",
       "      <th>MSFT</th>\n",
       "      <td>49.580002</td>\n",
       "      <td>50.720001</td>\n",
       "      <td>49.060001</td>\n",
       "      <td>50.139999</td>\n",
       "      <td>83217800.0</td>\n",
       "      <td>49.829429</td>\n",
       "    </tr>\n",
       "    <tr>\n",
       "      <th>...</th>\n",
       "      <th>...</th>\n",
       "      <td>...</td>\n",
       "      <td>...</td>\n",
       "      <td>...</td>\n",
       "      <td>...</td>\n",
       "      <td>...</td>\n",
       "      <td>...</td>\n",
       "    </tr>\n",
       "    <tr>\n",
       "      <th rowspan=\"3\" valign=\"top\">2016-08-10</th>\n",
       "      <th>AAPL</th>\n",
       "      <td>108.709999</td>\n",
       "      <td>108.900002</td>\n",
       "      <td>107.760002</td>\n",
       "      <td>108.000000</td>\n",
       "      <td>24008500.0</td>\n",
       "      <td>108.000000</td>\n",
       "    </tr>\n",
       "    <tr>\n",
       "      <th>GOOG</th>\n",
       "      <td>783.750000</td>\n",
       "      <td>786.812012</td>\n",
       "      <td>782.778015</td>\n",
       "      <td>784.679993</td>\n",
       "      <td>784500.0</td>\n",
       "      <td>784.679993</td>\n",
       "    </tr>\n",
       "    <tr>\n",
       "      <th>MSFT</th>\n",
       "      <td>58.160000</td>\n",
       "      <td>58.320000</td>\n",
       "      <td>57.820000</td>\n",
       "      <td>58.020000</td>\n",
       "      <td>15756900.0</td>\n",
       "      <td>57.660621</td>\n",
       "    </tr>\n",
       "    <tr>\n",
       "      <th rowspan=\"3\" valign=\"top\">2016-08-11</th>\n",
       "      <th>AAPL</th>\n",
       "      <td>108.519997</td>\n",
       "      <td>108.930000</td>\n",
       "      <td>107.849998</td>\n",
       "      <td>107.930000</td>\n",
       "      <td>27484500.0</td>\n",
       "      <td>107.930000</td>\n",
       "    </tr>\n",
       "    <tr>\n",
       "      <th>GOOG</th>\n",
       "      <td>785.000000</td>\n",
       "      <td>789.750000</td>\n",
       "      <td>782.969971</td>\n",
       "      <td>784.849976</td>\n",
       "      <td>971100.0</td>\n",
       "      <td>784.849976</td>\n",
       "    </tr>\n",
       "    <tr>\n",
       "      <th>MSFT</th>\n",
       "      <td>58.029999</td>\n",
       "      <td>58.450001</td>\n",
       "      <td>58.029999</td>\n",
       "      <td>58.299999</td>\n",
       "      <td>18162300.0</td>\n",
       "      <td>57.938886</td>\n",
       "    </tr>\n",
       "    <tr>\n",
       "      <th rowspan=\"3\" valign=\"top\">2016-08-12</th>\n",
       "      <th>AAPL</th>\n",
       "      <td>107.779999</td>\n",
       "      <td>108.440002</td>\n",
       "      <td>107.779999</td>\n",
       "      <td>108.180000</td>\n",
       "      <td>18660400.0</td>\n",
       "      <td>108.180000</td>\n",
       "    </tr>\n",
       "    <tr>\n",
       "      <th>GOOG</th>\n",
       "      <td>781.500000</td>\n",
       "      <td>783.395020</td>\n",
       "      <td>780.400024</td>\n",
       "      <td>783.219971</td>\n",
       "      <td>738300.0</td>\n",
       "      <td>783.219971</td>\n",
       "    </tr>\n",
       "    <tr>\n",
       "      <th>MSFT</th>\n",
       "      <td>58.029999</td>\n",
       "      <td>58.189999</td>\n",
       "      <td>57.619999</td>\n",
       "      <td>57.939999</td>\n",
       "      <td>21655200.0</td>\n",
       "      <td>57.581115</td>\n",
       "    </tr>\n",
       "    <tr>\n",
       "      <th rowspan=\"3\" valign=\"top\">2016-08-15</th>\n",
       "      <th>AAPL</th>\n",
       "      <td>108.139999</td>\n",
       "      <td>109.540001</td>\n",
       "      <td>108.080002</td>\n",
       "      <td>109.480003</td>\n",
       "      <td>25868200.0</td>\n",
       "      <td>109.480003</td>\n",
       "    </tr>\n",
       "    <tr>\n",
       "      <th>GOOG</th>\n",
       "      <td>783.750000</td>\n",
       "      <td>787.489990</td>\n",
       "      <td>780.109985</td>\n",
       "      <td>782.440002</td>\n",
       "      <td>936600.0</td>\n",
       "      <td>782.440002</td>\n",
       "    </tr>\n",
       "    <tr>\n",
       "      <th>MSFT</th>\n",
       "      <td>58.009998</td>\n",
       "      <td>58.500000</td>\n",
       "      <td>57.959999</td>\n",
       "      <td>58.119999</td>\n",
       "      <td>19283900.0</td>\n",
       "      <td>57.760000</td>\n",
       "    </tr>\n",
       "    <tr>\n",
       "      <th rowspan=\"3\" valign=\"top\">2016-08-16</th>\n",
       "      <th>AAPL</th>\n",
       "      <td>109.629997</td>\n",
       "      <td>110.230003</td>\n",
       "      <td>109.209999</td>\n",
       "      <td>109.379997</td>\n",
       "      <td>33794400.0</td>\n",
       "      <td>109.379997</td>\n",
       "    </tr>\n",
       "    <tr>\n",
       "      <th>GOOG</th>\n",
       "      <td>780.299988</td>\n",
       "      <td>780.979980</td>\n",
       "      <td>773.443970</td>\n",
       "      <td>777.140015</td>\n",
       "      <td>1027100.0</td>\n",
       "      <td>777.140015</td>\n",
       "    </tr>\n",
       "    <tr>\n",
       "      <th>MSFT</th>\n",
       "      <td>57.610001</td>\n",
       "      <td>57.619999</td>\n",
       "      <td>57.270000</td>\n",
       "      <td>57.439999</td>\n",
       "      <td>20523500.0</td>\n",
       "      <td>57.439999</td>\n",
       "    </tr>\n",
       "    <tr>\n",
       "      <th rowspan=\"3\" valign=\"top\">2016-08-17</th>\n",
       "      <th>AAPL</th>\n",
       "      <td>109.099998</td>\n",
       "      <td>109.370003</td>\n",
       "      <td>108.339996</td>\n",
       "      <td>109.220001</td>\n",
       "      <td>25356000.0</td>\n",
       "      <td>109.220001</td>\n",
       "    </tr>\n",
       "    <tr>\n",
       "      <th>GOOG</th>\n",
       "      <td>777.320007</td>\n",
       "      <td>780.809998</td>\n",
       "      <td>773.530029</td>\n",
       "      <td>779.909973</td>\n",
       "      <td>921400.0</td>\n",
       "      <td>779.909973</td>\n",
       "    </tr>\n",
       "    <tr>\n",
       "      <th>MSFT</th>\n",
       "      <td>57.540001</td>\n",
       "      <td>57.680000</td>\n",
       "      <td>57.230000</td>\n",
       "      <td>57.560001</td>\n",
       "      <td>18856400.0</td>\n",
       "      <td>57.560001</td>\n",
       "    </tr>\n",
       "    <tr>\n",
       "      <th rowspan=\"3\" valign=\"top\">2016-08-18</th>\n",
       "      <th>AAPL</th>\n",
       "      <td>109.230003</td>\n",
       "      <td>109.599998</td>\n",
       "      <td>109.019997</td>\n",
       "      <td>109.080002</td>\n",
       "      <td>21984700.0</td>\n",
       "      <td>109.080002</td>\n",
       "    </tr>\n",
       "    <tr>\n",
       "      <th>GOOG</th>\n",
       "      <td>780.010010</td>\n",
       "      <td>782.859985</td>\n",
       "      <td>777.000000</td>\n",
       "      <td>777.500000</td>\n",
       "      <td>718400.0</td>\n",
       "      <td>777.500000</td>\n",
       "    </tr>\n",
       "    <tr>\n",
       "      <th>MSFT</th>\n",
       "      <td>57.419998</td>\n",
       "      <td>57.700001</td>\n",
       "      <td>57.270000</td>\n",
       "      <td>57.599998</td>\n",
       "      <td>14214300.0</td>\n",
       "      <td>57.599998</td>\n",
       "    </tr>\n",
       "    <tr>\n",
       "      <th rowspan=\"3\" valign=\"top\">2016-08-19</th>\n",
       "      <th>AAPL</th>\n",
       "      <td>108.769997</td>\n",
       "      <td>109.690002</td>\n",
       "      <td>108.360001</td>\n",
       "      <td>109.360001</td>\n",
       "      <td>25368100.0</td>\n",
       "      <td>109.360001</td>\n",
       "    </tr>\n",
       "    <tr>\n",
       "      <th>GOOG</th>\n",
       "      <td>775.000000</td>\n",
       "      <td>777.099976</td>\n",
       "      <td>773.130005</td>\n",
       "      <td>775.419983</td>\n",
       "      <td>849900.0</td>\n",
       "      <td>775.419983</td>\n",
       "    </tr>\n",
       "    <tr>\n",
       "      <th>MSFT</th>\n",
       "      <td>57.430000</td>\n",
       "      <td>57.730000</td>\n",
       "      <td>57.200001</td>\n",
       "      <td>57.619999</td>\n",
       "      <td>17271000.0</td>\n",
       "      <td>57.619999</td>\n",
       "    </tr>\n",
       "    <tr>\n",
       "      <th rowspan=\"3\" valign=\"top\">2016-08-22</th>\n",
       "      <th>AAPL</th>\n",
       "      <td>108.860001</td>\n",
       "      <td>109.099998</td>\n",
       "      <td>107.849998</td>\n",
       "      <td>108.510002</td>\n",
       "      <td>25820200.0</td>\n",
       "      <td>108.510002</td>\n",
       "    </tr>\n",
       "    <tr>\n",
       "      <th>GOOG</th>\n",
       "      <td>773.270020</td>\n",
       "      <td>774.539978</td>\n",
       "      <td>770.049988</td>\n",
       "      <td>772.150024</td>\n",
       "      <td>923400.0</td>\n",
       "      <td>772.150024</td>\n",
       "    </tr>\n",
       "    <tr>\n",
       "      <th>MSFT</th>\n",
       "      <td>57.599998</td>\n",
       "      <td>57.750000</td>\n",
       "      <td>57.259998</td>\n",
       "      <td>57.669998</td>\n",
       "      <td>15221900.0</td>\n",
       "      <td>57.669998</td>\n",
       "    </tr>\n",
       "    <tr>\n",
       "      <th rowspan=\"3\" valign=\"top\">2016-08-23</th>\n",
       "      <th>AAPL</th>\n",
       "      <td>108.589996</td>\n",
       "      <td>109.320000</td>\n",
       "      <td>108.529999</td>\n",
       "      <td>108.849998</td>\n",
       "      <td>21215000.0</td>\n",
       "      <td>108.849998</td>\n",
       "    </tr>\n",
       "    <tr>\n",
       "      <th>GOOG</th>\n",
       "      <td>775.479980</td>\n",
       "      <td>776.440002</td>\n",
       "      <td>771.784973</td>\n",
       "      <td>772.080017</td>\n",
       "      <td>925300.0</td>\n",
       "      <td>772.080017</td>\n",
       "    </tr>\n",
       "    <tr>\n",
       "      <th>MSFT</th>\n",
       "      <td>57.900002</td>\n",
       "      <td>58.180000</td>\n",
       "      <td>57.849998</td>\n",
       "      <td>57.889999</td>\n",
       "      <td>18704000.0</td>\n",
       "      <td>57.889999</td>\n",
       "    </tr>\n",
       "  </tbody>\n",
       "</table>\n",
       "<p>180 rows × 6 columns</p>\n",
       "</div>"
      ],
      "text/plain": [
       "                        Open        High         Low       Close      Volume  \\\n",
       "Date       minor                                                               \n",
       "2016-05-31 AAPL    99.599998  100.400002   98.820000   99.860001  42307200.0   \n",
       "           GOOG   731.739990  739.729980  731.260010  735.719971   2129500.0   \n",
       "           MSFT    52.259998   53.000000   52.080002   53.000000  37653100.0   \n",
       "2016-06-01 AAPL    99.019997   99.540001   98.330002   98.459999  29173300.0   \n",
       "           GOOG   734.530029  737.210022  730.659973  734.150024   1253600.0   \n",
       "           MSFT    52.439999   52.950001   52.439999   52.849998  25324800.0   \n",
       "2016-06-02 AAPL    97.599998   97.839996   96.629997   97.720001  40191600.0   \n",
       "           GOOG   732.500000  733.020020  724.169983  730.400024   1341800.0   \n",
       "           MSFT    52.639999   52.740002   51.840000   52.480000  22840800.0   \n",
       "2016-06-03 AAPL    97.790001   98.269997   97.449997   97.919998  28504900.0   \n",
       "           GOOG   729.270020  729.489990  720.559998  722.340027   1226300.0   \n",
       "           MSFT    52.380001   52.419998   51.599998   51.790001  23368300.0   \n",
       "2016-06-06 AAPL    97.989998  101.889999   97.550003   98.629997  23292500.0   \n",
       "           GOOG   724.909973  724.909973  714.609985  716.549988   1565300.0   \n",
       "           MSFT    51.990002   52.349998   51.889999   52.130001  18243300.0   \n",
       "2016-06-07 AAPL    99.250000   99.870003   98.959999   99.029999  22409500.0   \n",
       "           GOOG   719.840027  721.979980  716.549988  716.650024   1336200.0   \n",
       "           MSFT    52.240002   52.730000   52.099998   52.099998  20866800.0   \n",
       "2016-06-08 AAPL    99.019997   99.559998   98.680000   98.940002  20848100.0   \n",
       "           GOOG   723.960022  728.570007  720.580017  728.280029   1583700.0   \n",
       "           MSFT    52.020000   52.439999   51.869999   52.040001  21149400.0   \n",
       "2016-06-09 AAPL    98.500000   99.989998   98.459999   99.650002  26601400.0   \n",
       "           GOOG   722.869995  729.539978  722.335999  728.580017    988900.0   \n",
       "           MSFT    52.000000   52.000000   51.490002   51.619999  20305700.0   \n",
       "2016-06-10 AAPL    98.529999   99.349998   98.480003   98.830002  31712900.0   \n",
       "           GOOG   719.469971  725.890015  716.429993  719.409973   1216400.0   \n",
       "           MSFT    51.049999   52.049999   51.040001   51.480000  25833200.0   \n",
       "2016-06-13 AAPL    98.690002   99.120003   97.099998   97.339996  38020500.0   \n",
       "           GOOG   716.510010  725.440002  716.510010  718.359985   1258900.0   \n",
       "           MSFT    49.580002   50.720001   49.060001   50.139999  83217800.0   \n",
       "...                      ...         ...         ...         ...         ...   \n",
       "2016-08-10 AAPL   108.709999  108.900002  107.760002  108.000000  24008500.0   \n",
       "           GOOG   783.750000  786.812012  782.778015  784.679993    784500.0   \n",
       "           MSFT    58.160000   58.320000   57.820000   58.020000  15756900.0   \n",
       "2016-08-11 AAPL   108.519997  108.930000  107.849998  107.930000  27484500.0   \n",
       "           GOOG   785.000000  789.750000  782.969971  784.849976    971100.0   \n",
       "           MSFT    58.029999   58.450001   58.029999   58.299999  18162300.0   \n",
       "2016-08-12 AAPL   107.779999  108.440002  107.779999  108.180000  18660400.0   \n",
       "           GOOG   781.500000  783.395020  780.400024  783.219971    738300.0   \n",
       "           MSFT    58.029999   58.189999   57.619999   57.939999  21655200.0   \n",
       "2016-08-15 AAPL   108.139999  109.540001  108.080002  109.480003  25868200.0   \n",
       "           GOOG   783.750000  787.489990  780.109985  782.440002    936600.0   \n",
       "           MSFT    58.009998   58.500000   57.959999   58.119999  19283900.0   \n",
       "2016-08-16 AAPL   109.629997  110.230003  109.209999  109.379997  33794400.0   \n",
       "           GOOG   780.299988  780.979980  773.443970  777.140015   1027100.0   \n",
       "           MSFT    57.610001   57.619999   57.270000   57.439999  20523500.0   \n",
       "2016-08-17 AAPL   109.099998  109.370003  108.339996  109.220001  25356000.0   \n",
       "           GOOG   777.320007  780.809998  773.530029  779.909973    921400.0   \n",
       "           MSFT    57.540001   57.680000   57.230000   57.560001  18856400.0   \n",
       "2016-08-18 AAPL   109.230003  109.599998  109.019997  109.080002  21984700.0   \n",
       "           GOOG   780.010010  782.859985  777.000000  777.500000    718400.0   \n",
       "           MSFT    57.419998   57.700001   57.270000   57.599998  14214300.0   \n",
       "2016-08-19 AAPL   108.769997  109.690002  108.360001  109.360001  25368100.0   \n",
       "           GOOG   775.000000  777.099976  773.130005  775.419983    849900.0   \n",
       "           MSFT    57.430000   57.730000   57.200001   57.619999  17271000.0   \n",
       "2016-08-22 AAPL   108.860001  109.099998  107.849998  108.510002  25820200.0   \n",
       "           GOOG   773.270020  774.539978  770.049988  772.150024    923400.0   \n",
       "           MSFT    57.599998   57.750000   57.259998   57.669998  15221900.0   \n",
       "2016-08-23 AAPL   108.589996  109.320000  108.529999  108.849998  21215000.0   \n",
       "           GOOG   775.479980  776.440002  771.784973  772.080017    925300.0   \n",
       "           MSFT    57.900002   58.180000   57.849998   57.889999  18704000.0   \n",
       "\n",
       "                   Adj Close  \n",
       "Date       minor              \n",
       "2016-05-31 AAPL    99.321953  \n",
       "           GOOG   735.719971  \n",
       "           MSFT    52.671715  \n",
       "2016-06-01 AAPL    97.929494  \n",
       "           GOOG   734.150024  \n",
       "           MSFT    52.522643  \n",
       "2016-06-02 AAPL    97.193484  \n",
       "           GOOG   730.400024  \n",
       "           MSFT    52.154936  \n",
       "2016-06-03 AAPL    97.392403  \n",
       "           GOOG   722.340027  \n",
       "           MSFT    51.469211  \n",
       "2016-06-06 AAPL    98.098577  \n",
       "           GOOG   716.549988  \n",
       "           MSFT    51.807105  \n",
       "2016-06-07 AAPL    98.496423  \n",
       "           GOOG   716.650024  \n",
       "           MSFT    51.777288  \n",
       "2016-06-08 AAPL    98.406912  \n",
       "           GOOG   728.280029  \n",
       "           MSFT    51.717662  \n",
       "2016-06-09 AAPL    99.113085  \n",
       "           GOOG   728.580017  \n",
       "           MSFT    51.300262  \n",
       "2016-06-10 AAPL    98.297504  \n",
       "           GOOG   719.409973  \n",
       "           MSFT    51.161130  \n",
       "2016-06-13 AAPL    96.815526  \n",
       "           GOOG   718.359985  \n",
       "           MSFT    49.829429  \n",
       "...                      ...  \n",
       "2016-08-10 AAPL   108.000000  \n",
       "           GOOG   784.679993  \n",
       "           MSFT    57.660621  \n",
       "2016-08-11 AAPL   107.930000  \n",
       "           GOOG   784.849976  \n",
       "           MSFT    57.938886  \n",
       "2016-08-12 AAPL   108.180000  \n",
       "           GOOG   783.219971  \n",
       "           MSFT    57.581115  \n",
       "2016-08-15 AAPL   109.480003  \n",
       "           GOOG   782.440002  \n",
       "           MSFT    57.760000  \n",
       "2016-08-16 AAPL   109.379997  \n",
       "           GOOG   777.140015  \n",
       "           MSFT    57.439999  \n",
       "2016-08-17 AAPL   109.220001  \n",
       "           GOOG   779.909973  \n",
       "           MSFT    57.560001  \n",
       "2016-08-18 AAPL   109.080002  \n",
       "           GOOG   777.500000  \n",
       "           MSFT    57.599998  \n",
       "2016-08-19 AAPL   109.360001  \n",
       "           GOOG   775.419983  \n",
       "           MSFT    57.619999  \n",
       "2016-08-22 AAPL   108.510002  \n",
       "           GOOG   772.150024  \n",
       "           MSFT    57.669998  \n",
       "2016-08-23 AAPL   108.849998  \n",
       "           GOOG   772.080017  \n",
       "           MSFT    57.889999  \n",
       "\n",
       "[180 rows x 6 columns]"
      ]
     },
     "execution_count": 450,
     "metadata": {},
     "output_type": "execute_result"
    }
   ],
   "source": [
    "# Just turn this into a stacked data frame and come back from the land of the lost\n",
    "stacked = pdata.ix[:, '5/30/2016':, :].to_frame()\n",
    "    # all metrics, from 5/30/2016 inwards, all stocks\n",
    "stacked"
   ]
  },
  {
   "cell_type": "code",
   "execution_count": null,
   "metadata": {
    "collapsed": true
   },
   "outputs": [],
   "source": []
  },
  {
   "cell_type": "code",
   "execution_count": null,
   "metadata": {
    "collapsed": true
   },
   "outputs": [],
   "source": []
  },
  {
   "cell_type": "code",
   "execution_count": null,
   "metadata": {
    "collapsed": true
   },
   "outputs": [],
   "source": []
  },
  {
   "cell_type": "code",
   "execution_count": null,
   "metadata": {
    "collapsed": true
   },
   "outputs": [],
   "source": []
  },
  {
   "cell_type": "code",
   "execution_count": null,
   "metadata": {
    "collapsed": true
   },
   "outputs": [],
   "source": []
  },
  {
   "cell_type": "code",
   "execution_count": null,
   "metadata": {
    "collapsed": true
   },
   "outputs": [],
   "source": []
  },
  {
   "cell_type": "code",
   "execution_count": null,
   "metadata": {
    "collapsed": true
   },
   "outputs": [],
   "source": []
  },
  {
   "cell_type": "code",
   "execution_count": null,
   "metadata": {
    "collapsed": true
   },
   "outputs": [],
   "source": []
  },
  {
   "cell_type": "code",
   "execution_count": null,
   "metadata": {
    "collapsed": true
   },
   "outputs": [],
   "source": []
  }
 ],
 "metadata": {
  "kernelspec": {
   "display_name": "Python 2",
   "language": "python",
   "name": "python2"
  },
  "language_info": {
   "codemirror_mode": {
    "name": "ipython",
    "version": 2
   },
   "file_extension": ".py",
   "mimetype": "text/x-python",
   "name": "python",
   "nbconvert_exporter": "python",
   "pygments_lexer": "ipython2",
   "version": "2.7.11"
  }
 },
 "nbformat": 4,
 "nbformat_minor": 0
}
