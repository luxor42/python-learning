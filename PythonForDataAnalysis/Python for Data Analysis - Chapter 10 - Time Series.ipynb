{
 "cells": [
  {
   "cell_type": "code",
   "execution_count": 2,
   "metadata": {
    "collapsed": false,
    "deletable": true,
    "editable": true
   },
   "outputs": [],
   "source": [
    "import pandas as pd\n",
    "import matplotlib.pyplot as plt\n",
    "import numpy as np\n",
    "from datetime import datetime\n",
    "    # The standard datetime time series module\n",
    "from datetime import timedelta\n",
    "    # For adding and subtracting time deltas\n",
    "    \n",
    "from dateutil.parser import parse\n",
    "%matplotlib inline \n",
    "# THIS LINE MAKES PLOTS SHOW IN JUPYTER"
   ]
  },
  {
   "cell_type": "markdown",
   "metadata": {
    "deletable": true,
    "editable": true
   },
   "source": [
    "# Key Lessons & Topics"
   ]
  },
  {
   "cell_type": "markdown",
   "metadata": {
    "collapsed": false,
    "deletable": true,
    "editable": true
   },
   "source": [
    "'''\n",
    "## Very important things learned\n",
    "\n",
    "- Pandas Series with a DatetimeIndex give access to a new range of datetime functions.\n",
    "- It's easy to create a DatetimeIndex from a list of standard python datetime values\n",
    "- Random not from other learnings: matplotlib does not play well with a DatetimeIndex. \n",
    " - Just pass integer values then reset the xticks to be the values from the DatetimeIndex\n",
    "\n",
    "- Pandas lets you easily generate date ranges is extremely flexible with frequencies between dates.  See Table 10-4\n",
    "- pd.date_range() -- much specify two of start, end, periods.\n",
    "\n",
    "\n",
    "\n",
    "\n",
    "### Common date and time functions\n",
    "- Find current timestamp\n",
    "        datetime.now()\n",
    "\n",
    "- Datetime object to a string\n",
    "        str(datetime(2011, 1, 3))\n",
    "        \n",
    "- Datetime object to a string with a particular format - format_string follows pattern like '%Y-%m-$d'\n",
    "        datetime(2011, 1, 3).strftime(format_string)\n",
    "        \n",
    "- String --> Datetime.  Need to tell the format of the passed value.\n",
    "        value = '2011-01-03'\n",
    "        datetime.strptime(value, '%Y-%m-%d')\n",
    "        \n",
    "- An array of strings to dates using list comprehension\n",
    "        values = ['7/6/2011', '8/6/2011']\n",
    "        [datetime.strptime(x, '%d/%m/%Y') for x in values]\n",
    "        \n",
    "- Create a Pandas datetime index object by passing a list\n",
    "        datestrs=['7/6/2011', '8/6/2011']\n",
    "        pd.to_datetime(datestrs)\n",
    "        \n",
    "- Pandas Time Series iwth DatetimeIndex\n",
    "        dates = [datetime(2011, 1, 2), datetime(2011, 1, 5), datetime(2011, 1, 7), datetime(2011, 1, 8), datetime(2011, 1, 10), datetime(2011, 1, 12)]\n",
    "        ts = pd.Series(np.random.randn(6), index=dates)\n",
    "        ts.index\n",
    "        # Pandas automatically makes the index a DatetimeIndex because the index values passed were datetime objects\n",
    "        # Individual index values are recast as Pandas Timestampe objects\n",
    "        ts.index[0] # Yields a \"Timestamp\" object\n",
    "        \n",
    "- Creating a series with a specific start date and number of periods\n",
    "        longer_ts = pd.Series(np.random.randn(1000), index=pd.date_range('1/1/2000', periods=1000))\n",
    "    \n",
    "        ## That time series can be accessed by passing just a year or year-month\n",
    "            longer_ts['2001']     # returns all values in year 2001\n",
    "            longer_ts['2001-05']  # returns all values in month May 2001\n",
    "        \n",
    "= Create a Data Frames and slice on its row index\n",
    "        n = 100\n",
    "        dates = pd.date_range('1/1/2000', periods = n, freq='W-WED') # Weekly every Wednesday\n",
    "        long_df = pd.DataFrame(np.random.randn(n,4), index=dates, columns=['Colorado', 'Texas', 'New York', 'Ohio'])\n",
    "        long_df.ix['5-2001'] # Returns May 2001 values\n",
    "        \n",
    "- Convert any time series to a fixed frequency with resample\n",
    "        ts.resample('D').asfreq()\n",
    "        \n",
    "- pd.date_range requires specification of two of start, end, periods.\n",
    "        ## freq parameter tells which days to sample between the beginning and ending range\n",
    "        pd.date_range('1/1/2000', '12/1/2000', freq='BM')\n",
    "        \n",
    "        ## normalize=True parameter resets the time to midnight of given day\n",
    "        pd.date_range('5/2/2012 12:56:31', periods=5)\n",
    "        \n",
    "- p.to_timestamp converts a Period or other Date-esque object to a timestamp objects\n",
    "        p = pd.Period('2007-01-01', freq='Q-JAN')\n",
    "        # Combine operations - e.g. \"timestamp at 4 PM on the 2nd to last business day of the quarter\"\n",
    "        (p.asfreq('B', how='end') - 1) # Second to last business day of the month.\n",
    "        (p.asfreq('B', how='end') - 1).asfreq('T', how='start') # Get 0:00 (midnight) for that day\n",
    "        (p.asfreq('B', how='end') - 1).asfreq('T', how='start') + 16 * 60 # Add 16 hours.  'T' is based on minutes.\n",
    "        (p.asfreq('B', how='end') - 1).asfreq('T', how='start').to_timestamp() # Convert to timestamp\n",
    "\n",
    "### Frequencies \n",
    "#### Can pass compound frequencies like '1h30min' or simple frequencies\n",
    "- pd.date_range('1/1/2000', periods = 10, freq='1H30MIN')\n",
    "- pd.date_range('1/1/2012', '9/1/2012', freq='WOM-3FRI') \n",
    "            # Go CRAZY!!\n",
    "        \n",
    "- See Table 10-4 for the long list of understood frequencies.\n",
    "\n",
    "#### These are optimized around financial use so have ones like \"business day\" or \"last business day of month\" or \"quarter end\"\n",
    "    \n",
    "- Time Shifts\n",
    "  ts.shift(2)\n",
    "- Loses values punted out, creates NaN values\n",
    "ts.shift(2, 'D')\n",
    "- Shifts the index with the values; no NaNs, no loss of data\n",
    "\n",
    "### Periods and Period Arithmetic\n",
    "- Period = a data type - represents a time span\n",
    "- Adding / subtracting by integers will add/subtract by the frequency of their object\n",
    "- Adding / subtracting two instances of the same frequency will yield integers\n",
    " - An error will occur if they have different frequencies\n",
    "\n",
    "#### Period Index - can serve as an axis index in a time series\n",
    "- rng = pd.period_range('1/1/2000', '6/30/2000', freq='M')\n",
    "- pd.Series(np.random.randn(6), index=rng)\n",
    "- Can create the PeriodIndex directly \n",
    " - values = ['2001Q3', '2002Q2', '2003Q1']\n",
    " - pd.PeriodIndex(values, freq='Q-DEC')\n",
    "\n",
    "#### Convert PeriodIndex objects (or Series indexed by such objects) to another frequency with asfreq\n",
    "- Going from low to high frequency must specify whether to start at beginning or end of low frequency range:\n",
    " - p = pd.Period('2007', freq = 'A-DEC')\n",
    " - p.asfreq('M', 'start') or pd.asfreq('M', 'end')\n",
    "- From high --> low frequnecy will by default start at the next instance of the specified frequency:\n",
    " - p = pd.Period('Aug-2007', 'M')\n",
    " - p.asfreq('A-JUN')\n",
    "  - Output is \"Period('2008', 'A-JUN')\" because the next A-JUN would be period ending June, 2008.\n",
    "- Change a whole PeriodIndex object similarly\n",
    " - rng = pd.period_range('2006', '2009', freq='A-DEC')\n",
    " - ts = p.Series(np.random.randn(len(rng)), index = rng)\n",
    " - ts.asfreq('M', how='start') # Output is a list with [2006-01, 2007-01, 2008-01, 2009-01]\n",
    "\n",
    "### Quarterly Period Frequencies\n",
    "\n",
    "- p  = pd.Period('2012Q4', freq='Q-JAN')\n",
    " - Q-JAN is the Quarter End (last calendar day of each month) for the year specified.\n",
    "- Ranges work as expected\n",
    " - rng = pd.period_range('2012Q1', '2015Q4', freq='Q-DEC')\n",
    "- Have fun changing ranges of period any arithmetically feasible date range you want\n",
    " - (new_rng = rng.asfreq('B', how='end').asfreq('T', how='start') + 16*60).to_timestamp\n",
    "  - 4 PM on the last day of each quarter.\n",
    "  - to_timestamp() gives it a seconds field and sets frequency to 'BQ'\n",
    "  - Without it the frequency is left as \"T\" because the last operation done was an asfreq('T')\n",
    "  - With to_timestamp() Pandas will turn it back into 'BQ' - end of frequency quarter\n",
    "\n",
    "### Timestamps to Periods (and back)\n",
    "- A timestamp-indexed time series by default shows the last day of the frequency range of each element\n",
    " - rng = pd.date_range(start='1/1/2000', periods = 3, freq='M')\n",
    " - ts = pd.Series(np.random.randn(3), index=rng)\n",
    "   - By default the timestamps will be at the END of the date range specified \n",
    " - pts = ts.to_period()\n",
    " - new_ts = pts.to_timestamp()\n",
    "   - By default the timestamps will be set to the BEGINNING of the period range\n",
    "   \n",
    "### PeriodIndex from Arrays\n",
    "- Roles in a PeriodIndex be set explicitly from DataFrame columns (or any derived Series) where needed\n",
    "    - index = pd.PeriodIndex(year = data['year'], quarter = data['quarter'], freq='Q-DEC')\n",
    "\n",
    "## Resampling and Frequency Conversion\n",
    "\n",
    "### Example 1\n",
    "### Example 2\n",
    "\n",
    "\n",
    "### Date & Time Data Types\n",
    "    datetime.datetime() --> (Y, m, d, H, M, S, u)\n",
    "    datetime.timedelta() --> (d, s)\n",
    "\n",
    "\n",
    "\n",
    "### Date Parsing with dateutil library\n",
    "    from dateutil.parser import parse\n",
    "    parse('2011-01-03')\n",
    "    parse('Jan 31, 2017 11:52 PM')\n",
    "    parse('6/12/2011', dayfirst=True)\n",
    "\n",
    "\n"
   ]
  },
  {
   "cell_type": "markdown",
   "metadata": {
    "deletable": true,
    "editable": true
   },
   "source": [
    "# Work"
   ]
  },
  {
   "cell_type": "markdown",
   "metadata": {
    "deletable": true,
    "editable": true
   },
   "source": [
    "## Date and Time Data Types and Tools - Core Python"
   ]
  },
  {
   "cell_type": "code",
   "execution_count": 4,
   "metadata": {
    "collapsed": false,
    "deletable": true,
    "editable": true
   },
   "outputs": [
    {
     "data": {
      "text/plain": [
       "datetime.datetime(2017, 2, 28, 14, 13, 48, 754374)"
      ]
     },
     "execution_count": 4,
     "metadata": {},
     "output_type": "execute_result"
    }
   ],
   "source": [
    "### Date and Time Data Types and Tools\n",
    "now = datetime.now()\n",
    "now # Units are (year, month, day, hour, minute, second, microseconds)"
   ]
  },
  {
   "cell_type": "code",
   "execution_count": 5,
   "metadata": {
    "collapsed": false,
    "deletable": true,
    "editable": true
   },
   "outputs": [
    {
     "data": {
      "text/plain": [
       "(2017, 2, 28)"
      ]
     },
     "execution_count": 5,
     "metadata": {},
     "output_type": "execute_result"
    }
   ],
   "source": [
    "# Can access the individual attributes of now in the usual way\n",
    "now.year, now.month, now.day"
   ]
  },
  {
   "cell_type": "code",
   "execution_count": 6,
   "metadata": {
    "collapsed": false,
    "deletable": true,
    "editable": true
   },
   "outputs": [
    {
     "data": {
      "text/plain": [
       "datetime.timedelta(926, 56700)"
      ]
     },
     "execution_count": 6,
     "metadata": {},
     "output_type": "execute_result"
    }
   ],
   "source": [
    "# Can do arithmetic on datetime objects\n",
    "\n",
    "delta = datetime(2011, 1, 7) - datetime(2008, 6, 24, 8, 15)\n",
    "delta  # delta only has methods days and seconds WTF "
   ]
  },
  {
   "cell_type": "code",
   "execution_count": 7,
   "metadata": {
    "collapsed": false,
    "deletable": true,
    "editable": true
   },
   "outputs": [
    {
     "data": {
      "text/plain": [
       "datetime.datetime(2011, 1, 19, 0, 0)"
      ]
     },
     "execution_count": 7,
     "metadata": {},
     "output_type": "execute_result"
    }
   ],
   "source": [
    "# Can do math between datetime and timedelta objects\n",
    "\n",
    "start = datetime(2011, 1, 7)\n",
    "start + timedelta(12)"
   ]
  },
  {
   "cell_type": "code",
   "execution_count": 8,
   "metadata": {
    "collapsed": false,
    "deletable": true,
    "editable": true
   },
   "outputs": [
    {
     "data": {
      "text/plain": [
       "datetime.datetime(2010, 12, 14, 0, 0)"
      ]
     },
     "execution_count": 8,
     "metadata": {},
     "output_type": "execute_result"
    }
   ],
   "source": [
    "start - 2 * timedelta(12)"
   ]
  },
  {
   "cell_type": "markdown",
   "metadata": {
    "collapsed": true,
    "deletable": true,
    "editable": true
   },
   "source": [
    "## Converting between string and datetime"
   ]
  },
  {
   "cell_type": "code",
   "execution_count": 9,
   "metadata": {
    "collapsed": false,
    "deletable": true,
    "editable": true
   },
   "outputs": [
    {
     "data": {
      "text/plain": [
       "'2011-01-03 00:00:00'"
      ]
     },
     "execution_count": 9,
     "metadata": {},
     "output_type": "execute_result"
    }
   ],
   "source": [
    "# Cast a datetime as a string\n",
    "stamp = datetime(2011, 1, 3)\n",
    "str(stamp)"
   ]
  },
  {
   "cell_type": "code",
   "execution_count": 10,
   "metadata": {
    "collapsed": false,
    "deletable": true,
    "editable": true
   },
   "outputs": [
    {
     "data": {
      "text/plain": [
       "'2011-01-03'"
      ]
     },
     "execution_count": 10,
     "metadata": {},
     "output_type": "execute_result"
    }
   ],
   "source": [
    "# Cast a datetime as a string with a specific format\n",
    "stamp.strftime('%Y-%m-%d')"
   ]
  },
  {
   "cell_type": "code",
   "execution_count": 11,
   "metadata": {
    "collapsed": false,
    "deletable": true,
    "editable": true
   },
   "outputs": [
    {
     "data": {
      "text/plain": [
       "datetime.datetime(2011, 1, 3, 0, 0)"
      ]
     },
     "execution_count": 11,
     "metadata": {},
     "output_type": "execute_result"
    }
   ],
   "source": [
    "# Stings to dates\n",
    "value = '2011-01-03'\n",
    "datetime.strptime(value, '%Y-%m-%d')"
   ]
  },
  {
   "cell_type": "code",
   "execution_count": 12,
   "metadata": {
    "collapsed": false,
    "deletable": true,
    "editable": true
   },
   "outputs": [
    {
     "data": {
      "text/plain": [
       "[datetime.datetime(2011, 6, 7, 0, 0), datetime.datetime(2011, 6, 8, 0, 0)]"
      ]
     },
     "execution_count": 12,
     "metadata": {},
     "output_type": "execute_result"
    }
   ],
   "source": [
    "# An array of strings to dates using list comprehension\n",
    "values = ['7/6/2011', '8/6/2011']\n",
    "[datetime.strptime(x, '%d/%m/%Y') for x in values]"
   ]
  },
  {
   "cell_type": "code",
   "execution_count": 13,
   "metadata": {
    "collapsed": false,
    "deletable": true,
    "editable": true
   },
   "outputs": [
    {
     "data": {
      "text/plain": [
       "datetime.datetime(2011, 1, 3, 0, 0)"
      ]
     },
     "execution_count": 13,
     "metadata": {},
     "output_type": "execute_result"
    }
   ],
   "source": [
    "# Use dateutil.parser's methods to parse nearly any common format\n",
    "parse('2011-01-03')"
   ]
  },
  {
   "cell_type": "code",
   "execution_count": 14,
   "metadata": {
    "collapsed": false,
    "deletable": true,
    "editable": true
   },
   "outputs": [
    {
     "data": {
      "text/plain": [
       "datetime.datetime(1997, 1, 31, 22, 45)"
      ]
     },
     "execution_count": 14,
     "metadata": {},
     "output_type": "execute_result"
    }
   ],
   "source": [
    "# Parse a human-readable format\n",
    "parse('Jan 31, 1997 10:45 PM')"
   ]
  },
  {
   "cell_type": "code",
   "execution_count": 15,
   "metadata": {
    "collapsed": false,
    "deletable": true,
    "editable": true
   },
   "outputs": [
    {
     "data": {
      "text/plain": [
       "DatetimeIndex(['2011-07-06', '2011-08-06'], dtype='datetime64[ns]', freq=None)"
      ]
     },
     "execution_count": 15,
     "metadata": {},
     "output_type": "execute_result"
    }
   ],
   "source": [
    "# Pandas to_datetime\n",
    "datestrs=['7/6/2011', '8/6/2011']\n",
    "pd.to_datetime(datestrs)"
   ]
  },
  {
   "cell_type": "code",
   "execution_count": 16,
   "metadata": {
    "collapsed": false,
    "deletable": true,
    "editable": true
   },
   "outputs": [
    {
     "name": "stdout",
     "output_type": "stream",
     "text": [
      "NaT\n",
      "[False False  True]\n"
     ]
    }
   ],
   "source": [
    "# pd.to_datetime will accept empty values and convert them to \"NaT\"\n",
    "idx = pd.to_datetime(datestrs + [None])\n",
    "print idx[2]\n",
    "print pd.isnull(idx)"
   ]
  },
  {
   "cell_type": "markdown",
   "metadata": {
    "collapsed": true,
    "deletable": true,
    "editable": true
   },
   "source": [
    "## Pandas Time Series Basics"
   ]
  },
  {
   "cell_type": "code",
   "execution_count": 17,
   "metadata": {
    "collapsed": false,
    "deletable": true,
    "editable": true
   },
   "outputs": [
    {
     "data": {
      "text/plain": [
       "DatetimeIndex(['2011-01-02', '2011-01-05', '2011-01-07', '2011-01-08',\n",
       "               '2011-01-10', '2011-01-12'],\n",
       "              dtype='datetime64[ns]', freq=None)"
      ]
     },
     "execution_count": 17,
     "metadata": {},
     "output_type": "execute_result"
    }
   ],
   "source": [
    "# Create a pd.Series with an index of type DatetimeIndex\n",
    "dates = [datetime(2011, 1, 2), datetime(2011, 1, 5), datetime(2011, 1, 7), datetime(2011, 1, 8), datetime(2011, 1, 10), datetime(2011, 1, 12)]\n",
    "ts = pd.Series(np.random.randn(6), index=dates)\n",
    "ts.index"
   ]
  },
  {
   "cell_type": "code",
   "execution_count": 18,
   "metadata": {
    "collapsed": false,
    "deletable": true,
    "editable": true
   },
   "outputs": [
    {
     "data": {
      "text/plain": [
       "2011-01-02    1.499278\n",
       "2011-01-05         NaN\n",
       "2011-01-07   -0.423893\n",
       "2011-01-08         NaN\n",
       "2011-01-10    0.538868\n",
       "2011-01-12         NaN\n",
       "dtype: float64"
      ]
     },
     "execution_count": 18,
     "metadata": {},
     "output_type": "execute_result"
    }
   ],
   "source": [
    "# Arithetic operations align dates and then perform the operations\n",
    "ts + ts[::2]"
   ]
  },
  {
   "cell_type": "markdown",
   "metadata": {
    "deletable": true,
    "editable": true
   },
   "source": [
    "### Indexing, Selection, Subsetting"
   ]
  },
  {
   "cell_type": "code",
   "execution_count": 19,
   "metadata": {
    "collapsed": false,
    "deletable": true,
    "editable": true
   },
   "outputs": [
    {
     "data": {
      "text/plain": [
       "-0.21194628241023442"
      ]
     },
     "execution_count": 19,
     "metadata": {},
     "output_type": "execute_result"
    }
   ],
   "source": [
    "# You can index a time series like a usual series\n",
    "stamp = ts.index[2]\n",
    "ts[stamp]"
   ]
  },
  {
   "cell_type": "code",
   "execution_count": 20,
   "metadata": {
    "collapsed": false,
    "deletable": true,
    "editable": true
   },
   "outputs": [
    {
     "data": {
      "text/plain": [
       "0.26943393518229286"
      ]
     },
     "execution_count": 20,
     "metadata": {},
     "output_type": "execute_result"
    }
   ],
   "source": [
    "# Can be indexed by pasing a interpretable string - Example #1\n",
    "ts['1/10/2011'] # returns a value even though the form of the index is 2011-01-10"
   ]
  },
  {
   "cell_type": "code",
   "execution_count": 21,
   "metadata": {
    "collapsed": false,
    "deletable": true,
    "editable": true
   },
   "outputs": [
    {
     "data": {
      "text/plain": [
       "0.26943393518229286"
      ]
     },
     "execution_count": 21,
     "metadata": {},
     "output_type": "execute_result"
    }
   ],
   "source": [
    "# Can be indexed by pasing a interpretable string - Example #2\n",
    "ts['20110110'] # returns a value even though the form of the index is 2011-01-10"
   ]
  },
  {
   "cell_type": "code",
   "execution_count": 22,
   "metadata": {
    "collapsed": false,
    "deletable": true,
    "editable": true,
    "scrolled": true
   },
   "outputs": [
    {
     "data": {
      "text/plain": [
       "2001-05-01   -0.081129\n",
       "2001-05-02   -0.898420\n",
       "2001-05-03   -0.778719\n",
       "2001-05-04    1.657002\n",
       "2001-05-05   -0.716253\n",
       "2001-05-06   -0.387897\n",
       "2001-05-07    1.795212\n",
       "2001-05-08   -0.521515\n",
       "2001-05-09    1.388351\n",
       "2001-05-10    1.113119\n",
       "2001-05-11   -0.287403\n",
       "2001-05-12   -0.668627\n",
       "2001-05-13    0.799458\n",
       "2001-05-14    1.095716\n",
       "2001-05-15   -0.303659\n",
       "2001-05-16    0.695913\n",
       "2001-05-17   -2.194253\n",
       "2001-05-18    0.487104\n",
       "2001-05-19    1.080047\n",
       "2001-05-20   -0.269017\n",
       "2001-05-21   -0.516529\n",
       "2001-05-22    0.466662\n",
       "2001-05-23    1.410361\n",
       "2001-05-24   -0.206501\n",
       "2001-05-25    0.018548\n",
       "2001-05-26   -1.362130\n",
       "2001-05-27   -0.826544\n",
       "2001-05-28   -0.042379\n",
       "2001-05-29   -0.329399\n",
       "2001-05-30   -0.773229\n",
       "2001-05-31    1.529867\n",
       "Freq: D, dtype: float64"
      ]
     },
     "execution_count": 22,
     "metadata": {},
     "output_type": "execute_result"
    }
   ],
   "source": [
    "# Creating a time series from periods and accessing via year or year-month\n",
    "longer_ts = pd.Series(np.random.randn(1000), index=pd.date_range('1/1/2000', periods=1000))\n",
    "longer_ts['2001-01']\n",
    "longer_ts['2001-05']"
   ]
  },
  {
   "cell_type": "code",
   "execution_count": 23,
   "metadata": {
    "collapsed": false,
    "deletable": true,
    "editable": true
   },
   "outputs": [
    {
     "data": {
      "text/plain": [
       "2011-01-02    0.749639\n",
       "2011-01-05    0.363230\n",
       "2011-01-07   -0.211946\n",
       "dtype: float64"
      ]
     },
     "execution_count": 23,
     "metadata": {},
     "output_type": "execute_result"
    }
   ],
   "source": [
    "# Slicing works as before\n",
    "ts[:datetime(2011, 1, 7)]"
   ]
  },
  {
   "cell_type": "code",
   "execution_count": 24,
   "metadata": {
    "collapsed": false,
    "deletable": true,
    "editable": true
   },
   "outputs": [
    {
     "data": {
      "text/plain": [
       "2011-01-05    0.363230\n",
       "2011-01-07   -0.211946\n",
       "2011-01-08   -1.060219\n",
       "2011-01-10    0.269434\n",
       "dtype: float64"
      ]
     },
     "execution_count": 24,
     "metadata": {},
     "output_type": "execute_result"
    }
   ],
   "source": [
    "# You can slice by passing date values that are not in the Series itself because Pandas knows about date ordering\n",
    "ts['2011-01-03':'2011-01-011']"
   ]
  },
  {
   "cell_type": "code",
   "execution_count": 25,
   "metadata": {
    "collapsed": false,
    "deletable": true,
    "editable": true,
    "scrolled": true
   },
   "outputs": [
    {
     "data": {
      "text/html": [
       "<div>\n",
       "<table border=\"1\" class=\"dataframe\">\n",
       "  <thead>\n",
       "    <tr style=\"text-align: right;\">\n",
       "      <th></th>\n",
       "      <th>Colorado</th>\n",
       "      <th>Texas</th>\n",
       "      <th>New York</th>\n",
       "      <th>Ohio</th>\n",
       "    </tr>\n",
       "  </thead>\n",
       "  <tbody>\n",
       "    <tr>\n",
       "      <th>2001-05-02</th>\n",
       "      <td>-0.896043</td>\n",
       "      <td>-1.270046</td>\n",
       "      <td>0.467967</td>\n",
       "      <td>0.950341</td>\n",
       "    </tr>\n",
       "    <tr>\n",
       "      <th>2001-05-09</th>\n",
       "      <td>0.395353</td>\n",
       "      <td>0.671766</td>\n",
       "      <td>1.204502</td>\n",
       "      <td>-0.316296</td>\n",
       "    </tr>\n",
       "    <tr>\n",
       "      <th>2001-05-16</th>\n",
       "      <td>0.596205</td>\n",
       "      <td>0.007674</td>\n",
       "      <td>-2.347813</td>\n",
       "      <td>0.794722</td>\n",
       "    </tr>\n",
       "    <tr>\n",
       "      <th>2001-05-23</th>\n",
       "      <td>0.141542</td>\n",
       "      <td>-0.146903</td>\n",
       "      <td>0.928190</td>\n",
       "      <td>-0.712460</td>\n",
       "    </tr>\n",
       "    <tr>\n",
       "      <th>2001-05-30</th>\n",
       "      <td>-0.639437</td>\n",
       "      <td>-0.730595</td>\n",
       "      <td>0.440484</td>\n",
       "      <td>0.025586</td>\n",
       "    </tr>\n",
       "  </tbody>\n",
       "</table>\n",
       "</div>"
      ],
      "text/plain": [
       "            Colorado     Texas  New York      Ohio\n",
       "2001-05-02 -0.896043 -1.270046  0.467967  0.950341\n",
       "2001-05-09  0.395353  0.671766  1.204502 -0.316296\n",
       "2001-05-16  0.596205  0.007674 -2.347813  0.794722\n",
       "2001-05-23  0.141542 -0.146903  0.928190 -0.712460\n",
       "2001-05-30 -0.639437 -0.730595  0.440484  0.025586"
      ]
     },
     "execution_count": 25,
     "metadata": {},
     "output_type": "execute_result"
    }
   ],
   "source": [
    "# Create a Data Frames and slice on its row index\n",
    "dates = pd.date_range('1/1/2000', periods = 100, freq='W-WED') # Weekly every Wednesday\n",
    "long_df = pd.DataFrame(np.random.randn(100,4), index=dates, columns=['Colorado', 'Texas', 'New York', 'Ohio'])\n",
    "long_df.ix['5-2001']"
   ]
  },
  {
   "cell_type": "markdown",
   "metadata": {
    "deletable": true,
    "editable": true
   },
   "source": [
    "### Time Series with Duplicate Indices are fine"
   ]
  },
  {
   "cell_type": "code",
   "execution_count": 26,
   "metadata": {
    "collapsed": false,
    "deletable": true,
    "editable": true
   },
   "outputs": [
    {
     "data": {
      "text/plain": [
       "2000-01-01    0\n",
       "2000-01-02    1\n",
       "2000-01-02    2\n",
       "2000-01-02    3\n",
       "2000-01-03    4\n",
       "dtype: int64"
      ]
     },
     "execution_count": 26,
     "metadata": {},
     "output_type": "execute_result"
    }
   ],
   "source": [
    "# Create a DatetimeIndex by passing a list of strings (in a date format).  Some of the strings are duplicated.\n",
    "dates = pd.DatetimeIndex(['1/1/2000','1/2/2000','1/2/2000','1/2/2000','1/3/2000'])\n",
    "dup_ts = pd.Series(np.arange(5), index=dates)\n",
    "dup_ts"
   ]
  },
  {
   "cell_type": "code",
   "execution_count": 27,
   "metadata": {
    "collapsed": false,
    "deletable": true,
    "editable": true
   },
   "outputs": [
    {
     "data": {
      "text/plain": [
       "2000-01-01    1\n",
       "2000-01-02    3\n",
       "2000-01-03    1\n",
       "dtype: int64"
      ]
     },
     "execution_count": 27,
     "metadata": {},
     "output_type": "execute_result"
    }
   ],
   "source": [
    "# Grouping by a DatetimeIndex requires passing a Level\n",
    "grouped = dup_ts.groupby(level=0)\n",
    "grouped.count()"
   ]
  },
  {
   "cell_type": "markdown",
   "metadata": {
    "deletable": true,
    "editable": true
   },
   "source": [
    "## Date Ranges, Frequencies, and Shifting"
   ]
  },
  {
   "cell_type": "code",
   "execution_count": 28,
   "metadata": {
    "collapsed": false,
    "deletable": true,
    "editable": true
   },
   "outputs": [
    {
     "data": {
      "text/plain": [
       "2011-01-02    0.749639\n",
       "2011-01-03         NaN\n",
       "2011-01-04         NaN\n",
       "2011-01-05    0.363230\n",
       "2011-01-06         NaN\n",
       "2011-01-07   -0.211946\n",
       "2011-01-08   -1.060219\n",
       "2011-01-09         NaN\n",
       "2011-01-10    0.269434\n",
       "2011-01-11         NaN\n",
       "2011-01-12    0.138026\n",
       "Freq: D, dtype: float64"
      ]
     },
     "execution_count": 28,
     "metadata": {},
     "output_type": "execute_result"
    }
   ],
   "source": [
    "# Convert any time series to a fixed frequency with resample\n",
    "# Note that the Pandas book version I have uses an older version of resample.  \n",
    "# The modern version of resample is essentially a groupby()\n",
    "ts.resample('D').asfreq()"
   ]
  },
  {
   "cell_type": "markdown",
   "metadata": {
    "deletable": true,
    "editable": true
   },
   "source": [
    "### Generating Date Ranges"
   ]
  },
  {
   "cell_type": "code",
   "execution_count": 29,
   "metadata": {
    "collapsed": false,
    "deletable": true,
    "editable": true
   },
   "outputs": [
    {
     "data": {
      "text/plain": [
       "DatetimeIndex(['2012-04-01', '2012-04-02', '2012-04-03', '2012-04-04',\n",
       "               '2012-04-05', '2012-04-06', '2012-04-07', '2012-04-08',\n",
       "               '2012-04-09', '2012-04-10', '2012-04-11', '2012-04-12',\n",
       "               '2012-04-13', '2012-04-14', '2012-04-15', '2012-04-16',\n",
       "               '2012-04-17', '2012-04-18', '2012-04-19', '2012-04-20',\n",
       "               '2012-04-21', '2012-04-22', '2012-04-23', '2012-04-24',\n",
       "               '2012-04-25', '2012-04-26', '2012-04-27', '2012-04-28',\n",
       "               '2012-04-29', '2012-04-30', '2012-05-01', '2012-05-02',\n",
       "               '2012-05-03', '2012-05-04', '2012-05-05', '2012-05-06',\n",
       "               '2012-05-07', '2012-05-08', '2012-05-09', '2012-05-10',\n",
       "               '2012-05-11', '2012-05-12', '2012-05-13', '2012-05-14',\n",
       "               '2012-05-15', '2012-05-16', '2012-05-17', '2012-05-18',\n",
       "               '2012-05-19', '2012-05-20', '2012-05-21', '2012-05-22',\n",
       "               '2012-05-23', '2012-05-24', '2012-05-25', '2012-05-26',\n",
       "               '2012-05-27', '2012-05-28', '2012-05-29', '2012-05-30',\n",
       "               '2012-05-31', '2012-06-01'],\n",
       "              dtype='datetime64[ns]', freq='D')"
      ]
     },
     "execution_count": 29,
     "metadata": {},
     "output_type": "execute_result"
    }
   ],
   "source": [
    "# By default, daily date ranges are generated\n",
    "index = pd.date_range('4/1/2012', '6/1/2012')\n",
    "index"
   ]
  },
  {
   "cell_type": "code",
   "execution_count": 30,
   "metadata": {
    "collapsed": false,
    "deletable": true,
    "editable": true
   },
   "outputs": [
    {
     "name": "stdout",
     "output_type": "stream",
     "text": [
      "DatetimeIndex(['2012-04-01', '2012-04-02', '2012-04-03', '2012-04-04',\n",
      "               '2012-04-05', '2012-04-06', '2012-04-07', '2012-04-08',\n",
      "               '2012-04-09', '2012-04-10', '2012-04-11', '2012-04-12',\n",
      "               '2012-04-13', '2012-04-14', '2012-04-15', '2012-04-16',\n",
      "               '2012-04-17', '2012-04-18', '2012-04-19', '2012-04-20'],\n",
      "              dtype='datetime64[ns]', freq='D')\n",
      "DatetimeIndex(['2012-06-01', '2012-06-02', '2012-06-03', '2012-06-04',\n",
      "               '2012-06-05', '2012-06-06', '2012-06-07', '2012-06-08',\n",
      "               '2012-06-09', '2012-06-10', '2012-06-11', '2012-06-12',\n",
      "               '2012-06-13', '2012-06-14', '2012-06-15', '2012-06-16',\n",
      "               '2012-06-17', '2012-06-18', '2012-06-19', '2012-06-20'],\n",
      "              dtype='datetime64[ns]', freq='D')\n"
     ]
    }
   ],
   "source": [
    "# Pass the start or end and # of periods \n",
    "index_start = pd.date_range('4/1/2012', periods = 20)\n",
    "index_end = pd.date_range('6/1/2012', periods = 20)\n",
    "print index_start\n",
    "print index_end"
   ]
  },
  {
   "cell_type": "code",
   "execution_count": 31,
   "metadata": {
    "collapsed": false,
    "deletable": true,
    "editable": true
   },
   "outputs": [
    {
     "data": {
      "text/plain": [
       "DatetimeIndex(['2000-01-31', '2000-02-29', '2000-03-31', '2000-04-28',\n",
       "               '2000-05-31', '2000-06-30', '2000-07-31', '2000-08-31',\n",
       "               '2000-09-29', '2000-10-31', '2000-11-30'],\n",
       "              dtype='datetime64[ns]', freq='BM')"
      ]
     },
     "execution_count": 31,
     "metadata": {},
     "output_type": "execute_result"
    }
   ],
   "source": [
    "# Pass a frequency.  It accepts off-the-wall frequencies like \"last business day of month'\n",
    "pd.date_range('1/1/2000', '12/1/2000', freq='BM')"
   ]
  },
  {
   "cell_type": "code",
   "execution_count": 32,
   "metadata": {
    "collapsed": false,
    "deletable": true,
    "editable": true
   },
   "outputs": [
    {
     "data": {
      "text/plain": [
       "DatetimeIndex(['2012-05-02 12:56:31', '2012-05-03 12:56:31',\n",
       "               '2012-05-04 12:56:31', '2012-05-05 12:56:31',\n",
       "               '2012-05-06 12:56:31'],\n",
       "              dtype='datetime64[ns]', freq='D')"
      ]
     },
     "execution_count": 32,
     "metadata": {},
     "output_type": "execute_result"
    }
   ],
   "source": [
    "# If timestamps are included with the past dates, then they're preserved in the future dates created\n",
    "pd.date_range('5/2/2012 12:56:31', periods=5)"
   ]
  },
  {
   "cell_type": "code",
   "execution_count": 33,
   "metadata": {
    "collapsed": false,
    "deletable": true,
    "editable": true
   },
   "outputs": [
    {
     "data": {
      "text/plain": [
       "DatetimeIndex(['2012-05-02', '2012-05-03', '2012-05-04', '2012-05-05',\n",
       "               '2012-05-06'],\n",
       "              dtype='datetime64[ns]', freq='D')"
      ]
     },
     "execution_count": 33,
     "metadata": {},
     "output_type": "execute_result"
    }
   ],
   "source": [
    "# Reset time information to midnight using \"normalize\"\n",
    "pd.date_range(start='5/2/2012 12:56:31', periods=5, normalize=True)"
   ]
  },
  {
   "cell_type": "markdown",
   "metadata": {
    "deletable": true,
    "editable": true
   },
   "source": [
    "### Frequencies and Date Offsets"
   ]
  },
  {
   "cell_type": "code",
   "execution_count": 34,
   "metadata": {
    "collapsed": false,
    "deletable": true,
    "editable": true
   },
   "outputs": [
    {
     "data": {
      "text/plain": [
       "DatetimeIndex(['2000-01-01 00:00:00', '2000-01-01 04:00:00',\n",
       "               '2000-01-01 08:00:00', '2000-01-01 12:00:00',\n",
       "               '2000-01-01 16:00:00', '2000-01-01 20:00:00',\n",
       "               '2000-01-02 00:00:00', '2000-01-02 04:00:00',\n",
       "               '2000-01-02 08:00:00', '2000-01-02 12:00:00',\n",
       "               '2000-01-02 16:00:00', '2000-01-02 20:00:00',\n",
       "               '2000-01-03 00:00:00', '2000-01-03 04:00:00',\n",
       "               '2000-01-03 08:00:00', '2000-01-03 12:00:00',\n",
       "               '2000-01-03 16:00:00', '2000-01-03 20:00:00'],\n",
       "              dtype='datetime64[ns]', freq='4H')"
      ]
     },
     "execution_count": 34,
     "metadata": {},
     "output_type": "execute_result"
    }
   ],
   "source": [
    "# Typically are referenced by a string alias\n",
    "    # 'M' --> calendar month end\n",
    "    # 'Q' --> quarterly\n",
    "    # 'H' --> Hourly\n",
    "pd.date_range('1/1/2000', '1/3/2000 23:59', freq='4H')"
   ]
  },
  {
   "cell_type": "code",
   "execution_count": 35,
   "metadata": {
    "collapsed": false,
    "deletable": true,
    "editable": true
   },
   "outputs": [
    {
     "data": {
      "text/plain": [
       "DatetimeIndex(['2000-01-01 00:00:00', '2000-01-01 01:30:00',\n",
       "               '2000-01-01 03:00:00', '2000-01-01 04:30:00',\n",
       "               '2000-01-01 06:00:00', '2000-01-01 07:30:00',\n",
       "               '2000-01-01 09:00:00', '2000-01-01 10:30:00',\n",
       "               '2000-01-01 12:00:00', '2000-01-01 13:30:00'],\n",
       "              dtype='datetime64[ns]', freq='90T')"
      ]
     },
     "execution_count": 35,
     "metadata": {},
     "output_type": "execute_result"
    }
   ],
   "source": [
    "# Can pass compound frequencies like '1h30min'\n",
    "pd.date_range('1/1/2000', periods = 10, freq='1H30MIN')"
   ]
  },
  {
   "cell_type": "code",
   "execution_count": 36,
   "metadata": {
    "collapsed": false,
    "deletable": true,
    "editable": true
   },
   "outputs": [
    {
     "data": {
      "text/plain": [
       "[Timestamp('2012-01-20 00:00:00', freq='WOM-3FRI'),\n",
       " Timestamp('2012-02-17 00:00:00', freq='WOM-3FRI'),\n",
       " Timestamp('2012-03-16 00:00:00', freq='WOM-3FRI'),\n",
       " Timestamp('2012-04-20 00:00:00', freq='WOM-3FRI'),\n",
       " Timestamp('2012-05-18 00:00:00', freq='WOM-3FRI'),\n",
       " Timestamp('2012-06-15 00:00:00', freq='WOM-3FRI'),\n",
       " Timestamp('2012-07-20 00:00:00', freq='WOM-3FRI'),\n",
       " Timestamp('2012-08-17 00:00:00', freq='WOM-3FRI')]"
      ]
     },
     "execution_count": 36,
     "metadata": {},
     "output_type": "execute_result"
    }
   ],
   "source": [
    "rng = pd.date_range('1/1/2012', '9/1/2012', freq='WOM-3FRI')\n",
    "list(rng)"
   ]
  },
  {
   "cell_type": "markdown",
   "metadata": {
    "collapsed": true,
    "deletable": true,
    "editable": true
   },
   "source": [
    "### Use time shifting to calculate changes over time.\n",
    "- Move data in a time series forward or backward by a pre-specified amount\n",
    "- By default the date outside the original range is lost, but pass a parameter to shift() to shift the indexes as well"
   ]
  },
  {
   "cell_type": "code",
   "execution_count": 37,
   "metadata": {
    "collapsed": false,
    "deletable": true,
    "editable": true
   },
   "outputs": [
    {
     "data": {
      "text/plain": [
       "2000-01-31    0.667983\n",
       "2000-02-29   -0.142576\n",
       "2000-03-31   -1.738628\n",
       "2000-04-30    1.219835\n",
       "Freq: M, dtype: float64"
      ]
     },
     "execution_count": 37,
     "metadata": {},
     "output_type": "execute_result"
    }
   ],
   "source": [
    "# Create a 4-value time series\n",
    "ts = pd.Series(np.random.randn(4), index=pd.date_range('1/1/2000', periods = 4, freq='M'))\n",
    "ts"
   ]
  },
  {
   "cell_type": "code",
   "execution_count": 38,
   "metadata": {
    "collapsed": false
   },
   "outputs": [
    {
     "data": {
      "text/plain": [
       "2000-01-31         NaN\n",
       "2000-02-29    0.667983\n",
       "2000-03-31   -0.142576\n",
       "2000-04-30   -1.738628\n",
       "Freq: M, dtype: float64"
      ]
     },
     "execution_count": 38,
     "metadata": {},
     "output_type": "execute_result"
    }
   ],
   "source": [
    "# ts.shift(1) shifts everything forward by 1 month.\n",
    "# The 1st index is preserved but its value is a NaN.\n",
    "# The last index value is popped out of the Series.\n",
    "ts.shift(1)"
   ]
  },
  {
   "cell_type": "code",
   "execution_count": 39,
   "metadata": {
    "collapsed": false
   },
   "outputs": [
    {
     "data": {
      "text/plain": [
       "2000-01-31         NaN\n",
       "2000-02-29   -5.685094\n",
       "2000-03-31   -0.917995\n",
       "2000-04-30   -2.425297\n",
       "Freq: M, dtype: float64"
      ]
     },
     "execution_count": 39,
     "metadata": {},
     "output_type": "execute_result"
    }
   ],
   "source": [
    "# Calculate the month-on-month deltas\n",
    "ts.shift(1) / ts - 1"
   ]
  },
  {
   "cell_type": "code",
   "execution_count": 40,
   "metadata": {
    "collapsed": false
   },
   "outputs": [
    {
     "data": {
      "text/plain": [
       "2000-03-31    0.667983\n",
       "2000-04-30   -0.142576\n",
       "2000-05-31   -1.738628\n",
       "2000-06-30    1.219835\n",
       "Freq: M, dtype: float64"
      ]
     },
     "execution_count": 40,
     "metadata": {},
     "output_type": "execute_result"
    }
   ],
   "source": [
    "# Pass freq into shift() to move the indexes as well so no data points are lost.\n",
    "ts.shift(2, freq='M')"
   ]
  },
  {
   "cell_type": "code",
   "execution_count": 41,
   "metadata": {
    "collapsed": false
   },
   "outputs": [
    {
     "data": {
      "text/plain": [
       "2000-02-03    0.667983\n",
       "2000-03-03   -0.142576\n",
       "2000-04-03   -1.738628\n",
       "2000-05-03    1.219835\n",
       "dtype: float64"
      ]
     },
     "execution_count": 41,
     "metadata": {},
     "output_type": "execute_result"
    }
   ],
   "source": [
    "# Passing another frequency shift everything forward by the passed frequency.\n",
    "ts.shift(3, freq='D')"
   ]
  },
  {
   "cell_type": "markdown",
   "metadata": {},
   "source": [
    "#### Anchoring date shifts - e.g. Month End and Roll Forward"
   ]
  },
  {
   "cell_type": "code",
   "execution_count": 42,
   "metadata": {
    "collapsed": false
   },
   "outputs": [
    {
     "data": {
      "text/plain": [
       "datetime.datetime(2017, 2, 28, 14, 13, 49, 269867)"
      ]
     },
     "execution_count": 42,
     "metadata": {},
     "output_type": "execute_result"
    }
   ],
   "source": [
    "from pandas.tseries.offsets import Day, MonthEnd\n",
    "now = datetime.now()\n",
    "now"
   ]
  },
  {
   "cell_type": "code",
   "execution_count": 43,
   "metadata": {
    "collapsed": false
   },
   "outputs": [
    {
     "data": {
      "text/plain": [
       "Timestamp('2017-03-03 14:13:49.269867')"
      ]
     },
     "execution_count": 43,
     "metadata": {},
     "output_type": "execute_result"
    }
   ],
   "source": [
    "# Adding 3 days directly does what you'd expect\n",
    "now + 3 * Day()"
   ]
  },
  {
   "cell_type": "code",
   "execution_count": 44,
   "metadata": {
    "collapsed": false
   },
   "outputs": [
    {
     "name": "stdout",
     "output_type": "stream",
     "text": [
      "The date for the end of this month is:  2017-03-31 14:13:49.269867\n"
     ]
    }
   ],
   "source": [
    "# An achored value will roll forward a day to the next date - like setting you to the 0th spot of MonthEnd()\n",
    "print \"The date for the end of this month is: \", now + MonthEnd()"
   ]
  },
  {
   "cell_type": "code",
   "execution_count": 45,
   "metadata": {
    "collapsed": false
   },
   "outputs": [
    {
     "name": "stdout",
     "output_type": "stream",
     "text": [
      "End of this month 2017-02-28 14:13:49.269867\n",
      "End of last month 2017-02-28 14:13:49.269867\n"
     ]
    }
   ],
   "source": [
    "# An anchored offset can be used with \"rollforward\" or \"rollback\" but that seems stupid & redundant\n",
    "offset = MonthEnd()\n",
    "print \"End of this month\", offset.rollforward(now)\n",
    "print \"End of last month\",offset.rollback(now)"
   ]
  },
  {
   "cell_type": "markdown",
   "metadata": {},
   "source": [
    "## Time Zones are hard and there is stuff in the book about them.  Check it out later."
   ]
  },
  {
   "cell_type": "code",
   "execution_count": 46,
   "metadata": {
    "collapsed": false
   },
   "outputs": [
    {
     "ename": "SyntaxError",
     "evalue": "invalid syntax (<ipython-input-46-1c094fd15da3>, line 1)",
     "output_type": "error",
     "traceback": [
      "\u001b[0;36m  File \u001b[0;32m\"<ipython-input-46-1c094fd15da3>\"\u001b[0;36m, line \u001b[0;32m1\u001b[0m\n\u001b[0;31m    See Location 7095\u001b[0m\n\u001b[0m               ^\u001b[0m\n\u001b[0;31mSyntaxError\u001b[0m\u001b[0;31m:\u001b[0m invalid syntax\n"
     ]
    }
   ],
   "source": [
    "See Location 7095"
   ]
  },
  {
   "cell_type": "markdown",
   "metadata": {},
   "source": [
    "### Periods and Period Arithmetic\n",
    "- Period = a data type - represents a time span\n",
    "- Adding / subtracting by integers will add/subtract by the frequency of their object\n",
    "- Adding / subtracting two instances of the same frequency will yield integers\n",
    " - An error will occur if they have different frequencies\n",
    "\n",
    "#### Period Index - can serve as an axis index in a time series\n",
    "- rng = pd.period_range('1/1/2000', '6/30/2000', freq='M')\n",
    "- pd.Series(np.random.randn(6), index=rng)\n",
    "- Can create the PeriodIndex directly \n",
    " - values = ['2001Q3', '2002Q2', '2003Q1']\n",
    " - pd.PeriodIndex(values, freq='Q-DEC')\n",
    " \n",
    "#### Convert PeriodIndex objects (or Series indexed by such objects) to another frequency with asfreq\n",
    "- Going from low to high frequency must specify whether to start at beginning or end of low frequency range:\n",
    " - p = pd.Period('2007', freq = 'A-DEC')\n",
    " - p.asfreq('M', 'start') or pd.asfreq('M', 'end')\n",
    "- From high --> low frequnecy will by default start at the next instance of the specified frequency:\n",
    " - p = pd.Period('Aug-2007', 'M')\n",
    " - p.asfreq('A-JUN')\n",
    "  - Output is \"Period('2008', 'A-JUN')\" because the next A-JUN would be period ending June, 2008.\n",
    "- Change a whole PeriodIndex object similarly\n",
    " - rng = pd.period_range('2006', '2009', freq='A-DEC')\n",
    " - ts = p.Series(np.random.randn(len(rng)), index = rng)\n",
    " - ts.asfreq('M', how='start') # Output is a list with [2006-01, 2007-01, 2008-01, 2009-01]"
   ]
  },
  {
   "cell_type": "code",
   "execution_count": 47,
   "metadata": {
    "collapsed": false
   },
   "outputs": [
    {
     "data": {
      "text/plain": [
       "Period('2007', 'A-DEC')"
      ]
     },
     "execution_count": 47,
     "metadata": {},
     "output_type": "execute_result"
    }
   ],
   "source": [
    "# Year 2007, Annual, finishing in December (i.e. normal year span)\n",
    "p = pd.Period(2007, freq='A-DEC')\n",
    "p"
   ]
  },
  {
   "cell_type": "code",
   "execution_count": 48,
   "metadata": {
    "collapsed": false
   },
   "outputs": [
    {
     "data": {
      "text/plain": [
       "Period('2012', 'A-DEC')"
      ]
     },
     "execution_count": 48,
     "metadata": {},
     "output_type": "execute_result"
    }
   ],
   "source": [
    "# Adding / subtracting by integers will add/subtract by the frequency of their object\n",
    "p + 5"
   ]
  },
  {
   "cell_type": "code",
   "execution_count": 49,
   "metadata": {
    "collapsed": false
   },
   "outputs": [
    {
     "data": {
      "text/plain": [
       "7"
      ]
     },
     "execution_count": 49,
     "metadata": {},
     "output_type": "execute_result"
    }
   ],
   "source": [
    "# Adding / subtracting two instances of the same frequency will yield integers\n",
    "pd.Period('2014', freq='A-DEC') - p"
   ]
  },
  {
   "cell_type": "code",
   "execution_count": 50,
   "metadata": {
    "collapsed": false,
    "deletable": true,
    "editable": true
   },
   "outputs": [
    {
     "ename": "IncompatibleFrequency",
     "evalue": "Input has different freq=A-DEC from Period(freq=M)",
     "output_type": "error",
     "traceback": [
      "\u001b[0;31m---------------------------------------------------------------------------\u001b[0m",
      "\u001b[0;31mIncompatibleFrequency\u001b[0m                     Traceback (most recent call last)",
      "\u001b[0;32m<ipython-input-50-ab9e9bbd6c5b>\u001b[0m in \u001b[0;36m<module>\u001b[0;34m()\u001b[0m\n\u001b[1;32m      1\u001b[0m \u001b[0;31m# An error will occur if they have different frequencies\u001b[0m\u001b[0;34m\u001b[0m\u001b[0;34m\u001b[0m\u001b[0m\n\u001b[0;32m----> 2\u001b[0;31m \u001b[0mpd\u001b[0m\u001b[0;34m.\u001b[0m\u001b[0mPeriod\u001b[0m\u001b[0;34m(\u001b[0m\u001b[0;34m'2014'\u001b[0m\u001b[0;34m,\u001b[0m \u001b[0mfreq\u001b[0m\u001b[0;34m=\u001b[0m\u001b[0;34m'M'\u001b[0m\u001b[0;34m)\u001b[0m \u001b[0;34m-\u001b[0m \u001b[0mp\u001b[0m\u001b[0;34m\u001b[0m\u001b[0m\n\u001b[0m",
      "\u001b[0;32mpandas/src/period.pyx\u001b[0m in \u001b[0;36mpandas._period._Period.__sub__ (pandas/src/period.c:14034)\u001b[0;34m()\u001b[0m\n",
      "\u001b[0;31mIncompatibleFrequency\u001b[0m: Input has different freq=A-DEC from Period(freq=M)"
     ]
    }
   ],
   "source": [
    "# An error will occur if they have different frequencies\n",
    "pd.Period('2014', freq='M') - p"
   ]
  },
  {
   "cell_type": "code",
   "execution_count": null,
   "metadata": {
    "collapsed": false,
    "deletable": true,
    "editable": true
   },
   "outputs": [],
   "source": [
    "# Create a PeriodIndex that can serve as an axis index\n",
    "rng = pd.period_range('1/1/2000', '6/30/2000', freq='M')\n",
    "rng"
   ]
  },
  {
   "cell_type": "code",
   "execution_count": null,
   "metadata": {
    "collapsed": false,
    "deletable": true,
    "editable": true
   },
   "outputs": [],
   "source": [
    "# Apply the PeriodIndex to the series to create a time series.\n",
    "pd.Series(np.random.randn(6), index=rng)"
   ]
  },
  {
   "cell_type": "code",
   "execution_count": null,
   "metadata": {
    "collapsed": false,
    "deletable": true,
    "editable": true
   },
   "outputs": [],
   "source": [
    "# Create a PeriodIndex directly from a list\n",
    "values = ['2001Q1', '2002Q2', '2003Q3']\n",
    "index = pd.PeriodIndex(values, freq='Q-DEC')\n",
    "index"
   ]
  },
  {
   "cell_type": "code",
   "execution_count": null,
   "metadata": {
    "collapsed": false
   },
   "outputs": [],
   "source": [
    "# Convert PeriodIndex to another frequency\n",
    "# Low --> High Frequency\n",
    "p = pd.Period('2007', freq='A-DEC')\n",
    "p"
   ]
  },
  {
   "cell_type": "code",
   "execution_count": null,
   "metadata": {
    "collapsed": false
   },
   "outputs": [],
   "source": [
    "# Convert annual to monthly, beginning with beginning of annual phase\n",
    "p.asfreq('M', how='start')"
   ]
  },
  {
   "cell_type": "code",
   "execution_count": null,
   "metadata": {
    "collapsed": false
   },
   "outputs": [],
   "source": [
    "# Convert annual to monthly, beginning with end of annual phase\n",
    "p.asfreq('M', how='end')"
   ]
  },
  {
   "cell_type": "code",
   "execution_count": null,
   "metadata": {
    "collapsed": false
   },
   "outputs": [],
   "source": [
    "# High --> Low frequency \n",
    "p = pd.Period('Aug-2007', 'M')\n",
    "p"
   ]
  },
  {
   "cell_type": "code",
   "execution_count": null,
   "metadata": {
    "collapsed": false
   },
   "outputs": [],
   "source": [
    "# Changed to A-JUN, the period reads '2008' because you're saying the year period that ends with the next June,\n",
    "# which in this case in June 2008\n",
    "p.asfreq('A-JUN')"
   ]
  },
  {
   "cell_type": "code",
   "execution_count": null,
   "metadata": {
    "collapsed": false
   },
   "outputs": [],
   "source": [
    "# Whole ranges rather than individual periods can be changed.  \n",
    "# Recall a PeriodIndex is just composed of  period start, period end, and a frequency\n",
    "rng = pd.period_range('2006', '2009', freq='A-DEC')\n",
    "rng"
   ]
  },
  {
   "cell_type": "code",
   "execution_count": null,
   "metadata": {
    "collapsed": false
   },
   "outputs": [],
   "source": [
    "ts = pd.Series(np.random.randn(len(rng)), index = rng)\n",
    "ts"
   ]
  },
  {
   "cell_type": "code",
   "execution_count": null,
   "metadata": {
    "collapsed": false
   },
   "outputs": [],
   "source": [
    "ts.asfreq('M', how='start')"
   ]
  },
  {
   "cell_type": "markdown",
   "metadata": {},
   "source": [
    "### Quarterly Period Frequencies\n",
    "\n",
    "- p  = pd.Period('2012Q4', freq='Q-JAN')\n",
    " - Q-JAN is the Quarter End (last calendar day of each month) for the year specified.\n",
    "- Ranges work as expected\n",
    " - rng = pd.period_range('2012Q1', '2015Q4', freq='Q-DEC')\n",
    "- Have fun changing ranges of period any arithmetically feasible date range you want\n",
    " - (new_rng = rng.asfreq('B', how='end').asfreq('T', how='start') + 16*60).to_timestamp\n",
    "  - 4 PM on the last day of each quarter.\n",
    "  - to_timestamp() gives it a seconds field and sets frequency to 'BQ'\n",
    "    - Without it the frequency is left as \"T\" because the last operation done was an asfreq('T')\n",
    "    - With to_timestamp() Pandas will turn it back into 'BQ' - end of frequency quarter"
   ]
  },
  {
   "cell_type": "code",
   "execution_count": null,
   "metadata": {
    "collapsed": false
   },
   "outputs": [],
   "source": [
    "p  = pd.Period('2012Q4', freq='Q-JAN')\n",
    "# Q-JAN is the Quarter End (last calendar day of each month) for the year specified.\n",
    "# So Jan 31, 2012\n",
    "p"
   ]
  },
  {
   "cell_type": "code",
   "execution_count": null,
   "metadata": {
    "collapsed": false
   },
   "outputs": [],
   "source": [
    "# Verify that by setting the freq to Monthly and pegging to the end of the range\n",
    "p.asfreq('M', how='end')"
   ]
  },
  {
   "cell_type": "code",
   "execution_count": null,
   "metadata": {
    "collapsed": false
   },
   "outputs": [],
   "source": [
    "# Combine operations - e.g. \"timestamp at 4 PM on the 2nd to last business day of the quarter\"\n",
    "(p.asfreq('B', how='end') - 1) # Second to last business day of the month.\n",
    "(p.asfreq('B', how='end') - 1).asfreq('T', how='start') # Get 0:00 (midnight) for that day\n",
    "(p.asfreq('B', how='end') - 1).asfreq('T', how='start') + 16 * 60 # Add 16 hours.  'T' is based on minutes.\n",
    "(p.asfreq('B', how='end') - 1).asfreq('T', how='start').to_timestamp() # Convert to timestamp"
   ]
  },
  {
   "cell_type": "code",
   "execution_count": null,
   "metadata": {
    "collapsed": false
   },
   "outputs": [],
   "source": [
    "rng = pd.period_range('2012Q1', '2015Q4', freq='Q-DEC')\n",
    "ts = pd.Series(np.random.randn(len(rng)), index=rng)\n",
    "ts"
   ]
  },
  {
   "cell_type": "code",
   "execution_count": null,
   "metadata": {
    "collapsed": false
   },
   "outputs": [],
   "source": [
    "# Change the ranges to 4 PM on the last business day of each month.\n",
    "new_range = (rng.asfreq('B', how='end').asfreq('T', how='start') + 16*60).to_timestamp()\n",
    "# to_timestamp() will tell Pandas to figure out a new frequency based on this data\n",
    "# Without it the frequency is left as \"T\" because the last operation done was an asfreq('T')\n",
    "# With to_timestamp() Pandas will turn it back into 'BQ' - end of frequency quarter\n",
    "ts.index = new_range\n",
    "ts"
   ]
  },
  {
   "cell_type": "markdown",
   "metadata": {},
   "source": [
    "### Timestamps to Periods (and back)\n",
    "- A timestamp-indexed time series by default shows the last day of the frequency range of each element\n",
    " - rng = pd.date_range(start='1/1/2000', periods = 3, freq='M')\n",
    " - ts = pd.Series(np.random.randn(3), index=rng)\n",
    "   - By default the timestamps will be at the END of the date range specified \n",
    " - pts = ts.to_period()\n",
    " - new_ts = pts.to_timestamp()\n",
    "   - By default the timestamps will be set to the BEGINNING of the period range"
   ]
  },
  {
   "cell_type": "code",
   "execution_count": null,
   "metadata": {
    "collapsed": false
   },
   "outputs": [],
   "source": [
    "# A timestamp-indexed time series by default shows the last day of the frequency range of each element\n",
    "rng = pd.date_range(start='1/1/2000', periods = 3, freq='M')\n",
    "rng\n",
    "ts = pd.Series(np.random.randn(3), index=rng)\n",
    "ts"
   ]
  },
  {
   "cell_type": "code",
   "execution_count": null,
   "metadata": {
    "collapsed": false
   },
   "outputs": [],
   "source": [
    "# A period-indexed time series hows the period identifier\n",
    "pts = ts.to_period()\n",
    "pts"
   ]
  },
  {
   "cell_type": "code",
   "execution_count": null,
   "metadata": {
    "collapsed": false
   },
   "outputs": [],
   "source": [
    "# When converting back to a timestamp, for some reason Pandas gives you the beginning of the range\n",
    "pts.to_timestamp()"
   ]
  },
  {
   "cell_type": "code",
   "execution_count": null,
   "metadata": {
    "collapsed": false
   },
   "outputs": [],
   "source": [
    "# Specify how = 'end' to get the end of the range\n",
    "pts.to_timestamp(how='end')"
   ]
  },
  {
   "cell_type": "markdown",
   "metadata": {},
   "source": [
    "### PeriodIndex from Arrays\n",
    "- Roles in a PeriodIndex be set explicitly from DataFrame columns (or any derived Series) where needed\n",
    "    - index = pd.PeriodIndex(year = data['year'], quarter = data['quarter'], freq='Q-DEC')"
   ]
  },
  {
   "cell_type": "code",
   "execution_count": null,
   "metadata": {
    "collapsed": false
   },
   "outputs": [],
   "source": [
    "# Combine year and quarter from different columns\n",
    "data = pd.read_csv('ch08/macrodata.csv')\n",
    "data[:5]"
   ]
  },
  {
   "cell_type": "code",
   "execution_count": null,
   "metadata": {
    "collapsed": false
   },
   "outputs": [],
   "source": [
    "# The role of each data column can be set explicitly in declaring the PeriodIndex object\n",
    "index = pd.PeriodIndex(year = data['year'], quarter = data['quarter'], freq='Q-DEC')\n",
    "index\n",
    "    # freq='Q-DEC' is the default behaviour"
   ]
  },
  {
   "cell_type": "code",
   "execution_count": null,
   "metadata": {
    "collapsed": false
   },
   "outputs": [],
   "source": [
    "# Set this as a new index\n",
    "data.index = index\n",
    "data[:5]"
   ]
  },
  {
   "cell_type": "code",
   "execution_count": null,
   "metadata": {
    "collapsed": true
   },
   "outputs": [],
   "source": []
  },
  {
   "cell_type": "markdown",
   "metadata": {
    "collapsed": true
   },
   "source": [
    "## Resampling and Frequency Conversion\n",
    "\n",
    "### The resample() method\n",
    "**ts.resample('M').mean()** or any other function:\n",
    "    # Example:\n",
    "      rng = pd.date_range('1/1/2000', periods=100, freq='D')\n",
    "      ts = pd.Series(np.random.randn(len(rng)), index=rng)\n",
    "      # ts.resample('M') creates a DatetimeIndexResampler object, like a GroupBy object\n",
    "      ts.resample('M').mean()\n",
    "**NaNs are ignored by the aggregation function like most everywhere else in Pandas**    \n",
    "     # This is perfectly valid:\n",
    "     -  ts[::4] = np.NaN\n",
    "     -  ts.resample('M').mean()\n",
    "       \n",
    "**Downsampling - higher --> lower frequency**\n",
    "- Pay attention to the binning interval:\n",
    "    - By default the left side of interval is closed & right is open\n",
    "      - Change that with the \"open=\" parameter\n",
    "    - Likewise by default the value of the left side of the interval is used as the label, even is the right side of the interval is what is closed.\n",
    "    - Similarly can change that with 'label=' parameter\n",
    "    - **Example:**\n",
    "      - ts.resample(rule='5min', closed='right', label='right').sum()\n",
    "- You can avoid ts.resample() by using a slower groupby and lambda if you want to\n",
    "    - **Example:**\n",
    "      - ts.resample('M').mean()\n",
    "      - ts.apply(lambda x: x.month).mean()\n",
    "      \n",
    "**Upsampling and Interpolation - lower --> higher frequency**\n",
    "- By default the lower frequency values are placed in the first bin of the higher frequency area\n",
    "  - annual_frame.resample('Q').mean().ffill() \n",
    "    -  will put the annual values where you expect, with the same value getting put into each of 4 quarters corresponding to the year\n",
    "  - annual_frame.resample('Q', convention='end').mean().fill()\n",
    "    -  will put the annual values at the last bin; ffill() means that Q4 for year 1 gets filled to Q1, Q2, Q3 of year 2. "
   ]
  },
  {
   "cell_type": "code",
   "execution_count": 65,
   "metadata": {
    "collapsed": false
   },
   "outputs": [
    {
     "data": {
      "text/plain": [
       "2000-01-31    0.314278\n",
       "2000-02-29   -0.032506\n",
       "2000-03-31    0.115458\n",
       "2000-04-30    0.323771\n",
       "Freq: M, dtype: float64"
      ]
     },
     "execution_count": 65,
     "metadata": {},
     "output_type": "execute_result"
    }
   ],
   "source": [
    "rng = pd.date_range('1/1/2000', periods=100, freq='D')\n",
    "ts = pd.Series(np.random.randn(len(rng)), index=rng)\n",
    "ts.resample('M').mean()"
   ]
  },
  {
   "cell_type": "code",
   "execution_count": 66,
   "metadata": {
    "collapsed": false
   },
   "outputs": [
    {
     "data": {
      "text/plain": [
       "2000-01-31    0.309396\n",
       "2000-02-29    0.084280\n",
       "2000-03-31    0.326263\n",
       "2000-04-30    0.494557\n",
       "Freq: M, dtype: float64"
      ]
     },
     "execution_count": 66,
     "metadata": {},
     "output_type": "execute_result"
    }
   ],
   "source": [
    "# Pandas ignores NaNs\n",
    "ts[::4] = np.NaN\n",
    "ts.resample('M').mean()"
   ]
  },
  {
   "cell_type": "code",
   "execution_count": 67,
   "metadata": {
    "collapsed": false
   },
   "outputs": [
    {
     "data": {
      "text/plain": [
       "2000-01-01 00:00:00   -0.772223\n",
       "2000-01-01 00:01:00    1.251804\n",
       "2000-01-01 00:02:00   -0.721715\n",
       "2000-01-01 00:03:00   -0.163932\n",
       "2000-01-01 00:04:00   -1.211615\n",
       "2000-01-01 00:05:00    0.720676\n",
       "2000-01-01 00:06:00   -0.008739\n",
       "2000-01-01 00:07:00   -1.955317\n",
       "2000-01-01 00:08:00    0.148772\n",
       "2000-01-01 00:09:00    1.336654\n",
       "2000-01-01 00:10:00   -1.777774\n",
       "2000-01-01 00:11:00   -0.301318\n",
       "Freq: T, dtype: float64"
      ]
     },
     "execution_count": 67,
     "metadata": {},
     "output_type": "execute_result"
    }
   ],
   "source": [
    "## 1-minute data down-sampled to 5-minutes\n",
    "rng = pd.date_range('1/1/2000', periods=12, freq='T')\n",
    "ts = pd.Series(np.random.randn(len(rng)), index=rng)\n",
    "ts"
   ]
  },
  {
   "cell_type": "code",
   "execution_count": 73,
   "metadata": {
    "collapsed": false
   },
   "outputs": [
    {
     "data": {
      "text/plain": [
       "2000-01-01 00:00:00   -1.617681\n",
       "2000-01-01 00:05:00    0.242047\n",
       "2000-01-01 00:10:00   -2.079091\n",
       "Freq: 5T, dtype: float64"
      ]
     },
     "execution_count": 73,
     "metadata": {},
     "output_type": "execute_result"
    }
   ],
   "source": [
    "# Aggregate to 5-minute chunks\n",
    "# By default the left-bin edge of each chunk is inclusive\n",
    "ts.resample(rule='5min').sum()"
   ]
  },
  {
   "cell_type": "code",
   "execution_count": 75,
   "metadata": {
    "collapsed": false
   },
   "outputs": [
    {
     "data": {
      "text/plain": [
       "1999-12-31 23:55:00   -0.772223\n",
       "2000-01-01 00:00:00   -0.124782\n",
       "2000-01-01 00:05:00   -2.256403\n",
       "2000-01-01 00:10:00   -0.301318\n",
       "Freq: 5T, dtype: float64"
      ]
     },
     "execution_count": 75,
     "metadata": {},
     "output_type": "execute_result"
    }
   ],
   "source": [
    "# Set the right end of the interval to closed\n",
    "# Useful if the reported time is the end of a range\n",
    "ts.resample(rule='5min', closed='right').sum()"
   ]
  },
  {
   "cell_type": "code",
   "execution_count": 77,
   "metadata": {
    "collapsed": false
   },
   "outputs": [
    {
     "data": {
      "text/plain": [
       "2000-01-01 00:00:00   -0.772223\n",
       "2000-01-01 00:05:00   -0.124782\n",
       "2000-01-01 00:10:00   -2.256403\n",
       "2000-01-01 00:15:00   -0.301318\n",
       "Freq: 5T, dtype: float64"
      ]
     },
     "execution_count": 77,
     "metadata": {},
     "output_type": "execute_result"
    }
   ],
   "source": [
    "# The labeling is also left-closed by default; can break that\n",
    "# which makes a lot more sense sometimes\n",
    "ts.resample(rule='5min', closed='right', label='right').sum()"
   ]
  },
  {
   "cell_type": "code",
   "execution_count": 79,
   "metadata": {
    "collapsed": false
   },
   "outputs": [
    {
     "data": {
      "text/html": [
       "<div>\n",
       "<table border=\"1\" class=\"dataframe\">\n",
       "  <thead>\n",
       "    <tr style=\"text-align: right;\">\n",
       "      <th></th>\n",
       "      <th>open</th>\n",
       "      <th>high</th>\n",
       "      <th>low</th>\n",
       "      <th>close</th>\n",
       "    </tr>\n",
       "  </thead>\n",
       "  <tbody>\n",
       "    <tr>\n",
       "      <th>2000-01-01 00:00:00</th>\n",
       "      <td>-0.772223</td>\n",
       "      <td>1.251804</td>\n",
       "      <td>-1.211615</td>\n",
       "      <td>-1.211615</td>\n",
       "    </tr>\n",
       "    <tr>\n",
       "      <th>2000-01-01 00:05:00</th>\n",
       "      <td>0.720676</td>\n",
       "      <td>1.336654</td>\n",
       "      <td>-1.955317</td>\n",
       "      <td>1.336654</td>\n",
       "    </tr>\n",
       "    <tr>\n",
       "      <th>2000-01-01 00:10:00</th>\n",
       "      <td>-1.777774</td>\n",
       "      <td>-0.301318</td>\n",
       "      <td>-1.777774</td>\n",
       "      <td>-0.301318</td>\n",
       "    </tr>\n",
       "  </tbody>\n",
       "</table>\n",
       "</div>"
      ],
      "text/plain": [
       "                         open      high       low     close\n",
       "2000-01-01 00:00:00 -0.772223  1.251804 -1.211615 -1.211615\n",
       "2000-01-01 00:05:00  0.720676  1.336654 -1.955317  1.336654\n",
       "2000-01-01 00:10:00 -1.777774 -0.301318 -1.777774 -0.301318"
      ]
     },
     "execution_count": 79,
     "metadata": {},
     "output_type": "execute_result"
    }
   ],
   "source": [
    "# Open-High-Low-Close (OHLC) resampling example.\n",
    "# OHLC is a compiled function so this is very fast.\n",
    "ts.resample('5min').ohlc()"
   ]
  },
  {
   "cell_type": "code",
   "execution_count": 11,
   "metadata": {
    "collapsed": false
   },
   "outputs": [
    {
     "data": {
      "text/plain": [
       "1    15\n",
       "2    45\n",
       "3    75\n",
       "4    95\n",
       "dtype: int64"
      ]
     },
     "execution_count": 11,
     "metadata": {},
     "output_type": "execute_result"
    }
   ],
   "source": [
    "# Downsampling can be achieved less quickly using a GroupBy with a lambda function\n",
    "rng = pd.date_range('1/1/2000', periods = 100, freq='D')\n",
    "ts = pd.Series(np.arange(len(rng)), index=rng)\n",
    "ts.groupby(lambda x: x.month).mean()"
   ]
  },
  {
   "cell_type": "code",
   "execution_count": 9,
   "metadata": {
    "collapsed": false
   },
   "outputs": [
    {
     "data": {
      "text/plain": [
       "0    47.5\n",
       "1    48.5\n",
       "2    49.5\n",
       "3    50.5\n",
       "4    51.5\n",
       "5    49.0\n",
       "6    50.0\n",
       "dtype: float64"
      ]
     },
     "execution_count": 9,
     "metadata": {},
     "output_type": "execute_result"
    }
   ],
   "source": [
    "ts.groupby(lambda x: x.weekday).mean()"
   ]
  },
  {
   "cell_type": "code",
   "execution_count": 10,
   "metadata": {
    "collapsed": false
   },
   "outputs": [
    {
     "data": {
      "text/plain": [
       "2000-01-31    15\n",
       "2000-02-29    45\n",
       "2000-03-31    75\n",
       "2000-04-30    95\n",
       "Freq: M, dtype: int64"
      ]
     },
     "execution_count": 10,
     "metadata": {},
     "output_type": "execute_result"
    }
   ],
   "source": [
    "ts.resample(M').mean()"
   ]
  },
  {
   "cell_type": "code",
   "execution_count": null,
   "metadata": {
    "collapsed": true
   },
   "outputs": [],
   "source": [
    "### Upsampling and Interpolation"
   ]
  },
  {
   "cell_type": "code",
   "execution_count": 14,
   "metadata": {
    "collapsed": false
   },
   "outputs": [
    {
     "data": {
      "text/html": [
       "<div>\n",
       "<table border=\"1\" class=\"dataframe\">\n",
       "  <thead>\n",
       "    <tr style=\"text-align: right;\">\n",
       "      <th></th>\n",
       "      <th>Colorado</th>\n",
       "      <th>Texas</th>\n",
       "      <th>New York</th>\n",
       "      <th>Ohio</th>\n",
       "    </tr>\n",
       "  </thead>\n",
       "  <tbody>\n",
       "    <tr>\n",
       "      <th>2000-01-05</th>\n",
       "      <td>0.725968</td>\n",
       "      <td>-0.086166</td>\n",
       "      <td>-2.031101</td>\n",
       "      <td>-1.280773</td>\n",
       "    </tr>\n",
       "    <tr>\n",
       "      <th>2000-01-12</th>\n",
       "      <td>-1.359997</td>\n",
       "      <td>-0.497399</td>\n",
       "      <td>0.435078</td>\n",
       "      <td>0.941128</td>\n",
       "    </tr>\n",
       "  </tbody>\n",
       "</table>\n",
       "</div>"
      ],
      "text/plain": [
       "            Colorado     Texas  New York      Ohio\n",
       "2000-01-05  0.725968 -0.086166 -2.031101 -1.280773\n",
       "2000-01-12 -1.359997 -0.497399  0.435078  0.941128"
      ]
     },
     "execution_count": 14,
     "metadata": {},
     "output_type": "execute_result"
    }
   ],
   "source": [
    "# A Data Frame indexed by Wednesday dates\n",
    "frame = pd.DataFrame(np.random.randn(2, 4), index=pd.date_range('1/1/2000',periods=2,freq='W-WED'), columns=['Colorado', 'Texas', 'New York', 'Ohio'])\n",
    "frame"
   ]
  },
  {
   "cell_type": "code",
   "execution_count": 27,
   "metadata": {
    "collapsed": false
   },
   "outputs": [
    {
     "data": {
      "text/html": [
       "<div>\n",
       "<table border=\"1\" class=\"dataframe\">\n",
       "  <thead>\n",
       "    <tr style=\"text-align: right;\">\n",
       "      <th></th>\n",
       "      <th>Colorado</th>\n",
       "      <th>Texas</th>\n",
       "      <th>New York</th>\n",
       "      <th>Ohio</th>\n",
       "    </tr>\n",
       "  </thead>\n",
       "  <tbody>\n",
       "    <tr>\n",
       "      <th>2000-01-05</th>\n",
       "      <td>0.725968</td>\n",
       "      <td>-0.086166</td>\n",
       "      <td>-2.031101</td>\n",
       "      <td>-1.280773</td>\n",
       "    </tr>\n",
       "    <tr>\n",
       "      <th>2000-01-06</th>\n",
       "      <td>NaN</td>\n",
       "      <td>NaN</td>\n",
       "      <td>NaN</td>\n",
       "      <td>NaN</td>\n",
       "    </tr>\n",
       "    <tr>\n",
       "      <th>2000-01-07</th>\n",
       "      <td>NaN</td>\n",
       "      <td>NaN</td>\n",
       "      <td>NaN</td>\n",
       "      <td>NaN</td>\n",
       "    </tr>\n",
       "    <tr>\n",
       "      <th>2000-01-08</th>\n",
       "      <td>NaN</td>\n",
       "      <td>NaN</td>\n",
       "      <td>NaN</td>\n",
       "      <td>NaN</td>\n",
       "    </tr>\n",
       "    <tr>\n",
       "      <th>2000-01-09</th>\n",
       "      <td>NaN</td>\n",
       "      <td>NaN</td>\n",
       "      <td>NaN</td>\n",
       "      <td>NaN</td>\n",
       "    </tr>\n",
       "    <tr>\n",
       "      <th>2000-01-10</th>\n",
       "      <td>NaN</td>\n",
       "      <td>NaN</td>\n",
       "      <td>NaN</td>\n",
       "      <td>NaN</td>\n",
       "    </tr>\n",
       "    <tr>\n",
       "      <th>2000-01-11</th>\n",
       "      <td>NaN</td>\n",
       "      <td>NaN</td>\n",
       "      <td>NaN</td>\n",
       "      <td>NaN</td>\n",
       "    </tr>\n",
       "    <tr>\n",
       "      <th>2000-01-12</th>\n",
       "      <td>-1.359997</td>\n",
       "      <td>-0.497399</td>\n",
       "      <td>0.435078</td>\n",
       "      <td>0.941128</td>\n",
       "    </tr>\n",
       "  </tbody>\n",
       "</table>\n",
       "</div>"
      ],
      "text/plain": [
       "            Colorado     Texas  New York      Ohio\n",
       "2000-01-05  0.725968 -0.086166 -2.031101 -1.280773\n",
       "2000-01-06       NaN       NaN       NaN       NaN\n",
       "2000-01-07       NaN       NaN       NaN       NaN\n",
       "2000-01-08       NaN       NaN       NaN       NaN\n",
       "2000-01-09       NaN       NaN       NaN       NaN\n",
       "2000-01-10       NaN       NaN       NaN       NaN\n",
       "2000-01-11       NaN       NaN       NaN       NaN\n",
       "2000-01-12 -1.359997 -0.497399  0.435078  0.941128"
      ]
     },
     "execution_count": 27,
     "metadata": {},
     "output_type": "execute_result"
    }
   ],
   "source": [
    "# Upsampling to daily values necessarily leads to missing values\n",
    "df_daily = frame.resample('D').mean()\n",
    "df_daily"
   ]
  },
  {
   "cell_type": "code",
   "execution_count": 33,
   "metadata": {
    "collapsed": false
   },
   "outputs": [
    {
     "data": {
      "text/html": [
       "<div>\n",
       "<table border=\"1\" class=\"dataframe\">\n",
       "  <thead>\n",
       "    <tr style=\"text-align: right;\">\n",
       "      <th></th>\n",
       "      <th>Colorado</th>\n",
       "      <th>Texas</th>\n",
       "      <th>New York</th>\n",
       "      <th>Ohio</th>\n",
       "    </tr>\n",
       "  </thead>\n",
       "  <tbody>\n",
       "    <tr>\n",
       "      <th>2000-01-05</th>\n",
       "      <td>0.725968</td>\n",
       "      <td>-0.086166</td>\n",
       "      <td>-2.031101</td>\n",
       "      <td>-1.280773</td>\n",
       "    </tr>\n",
       "    <tr>\n",
       "      <th>2000-01-06</th>\n",
       "      <td>0.725968</td>\n",
       "      <td>-0.086166</td>\n",
       "      <td>-2.031101</td>\n",
       "      <td>-1.280773</td>\n",
       "    </tr>\n",
       "    <tr>\n",
       "      <th>2000-01-07</th>\n",
       "      <td>0.725968</td>\n",
       "      <td>-0.086166</td>\n",
       "      <td>-2.031101</td>\n",
       "      <td>-1.280773</td>\n",
       "    </tr>\n",
       "    <tr>\n",
       "      <th>2000-01-08</th>\n",
       "      <td>0.725968</td>\n",
       "      <td>-0.086166</td>\n",
       "      <td>-2.031101</td>\n",
       "      <td>-1.280773</td>\n",
       "    </tr>\n",
       "    <tr>\n",
       "      <th>2000-01-09</th>\n",
       "      <td>0.725968</td>\n",
       "      <td>-0.086166</td>\n",
       "      <td>-2.031101</td>\n",
       "      <td>-1.280773</td>\n",
       "    </tr>\n",
       "    <tr>\n",
       "      <th>2000-01-10</th>\n",
       "      <td>0.725968</td>\n",
       "      <td>-0.086166</td>\n",
       "      <td>-2.031101</td>\n",
       "      <td>-1.280773</td>\n",
       "    </tr>\n",
       "    <tr>\n",
       "      <th>2000-01-11</th>\n",
       "      <td>0.725968</td>\n",
       "      <td>-0.086166</td>\n",
       "      <td>-2.031101</td>\n",
       "      <td>-1.280773</td>\n",
       "    </tr>\n",
       "    <tr>\n",
       "      <th>2000-01-12</th>\n",
       "      <td>-1.359997</td>\n",
       "      <td>-0.497399</td>\n",
       "      <td>0.435078</td>\n",
       "      <td>0.941128</td>\n",
       "    </tr>\n",
       "  </tbody>\n",
       "</table>\n",
       "</div>"
      ],
      "text/plain": [
       "            Colorado     Texas  New York      Ohio\n",
       "2000-01-05  0.725968 -0.086166 -2.031101 -1.280773\n",
       "2000-01-06  0.725968 -0.086166 -2.031101 -1.280773\n",
       "2000-01-07  0.725968 -0.086166 -2.031101 -1.280773\n",
       "2000-01-08  0.725968 -0.086166 -2.031101 -1.280773\n",
       "2000-01-09  0.725968 -0.086166 -2.031101 -1.280773\n",
       "2000-01-10  0.725968 -0.086166 -2.031101 -1.280773\n",
       "2000-01-11  0.725968 -0.086166 -2.031101 -1.280773\n",
       "2000-01-12 -1.359997 -0.497399  0.435078  0.941128"
      ]
     },
     "execution_count": 33,
     "metadata": {},
     "output_type": "execute_result"
    }
   ],
   "source": [
    "# Fill Forward the last non NaN value\n",
    "frame.resample('D').ffill()"
   ]
  },
  {
   "cell_type": "code",
   "execution_count": 34,
   "metadata": {
    "collapsed": false
   },
   "outputs": [
    {
     "data": {
      "text/html": [
       "<div>\n",
       "<table border=\"1\" class=\"dataframe\">\n",
       "  <thead>\n",
       "    <tr style=\"text-align: right;\">\n",
       "      <th></th>\n",
       "      <th>Colorado</th>\n",
       "      <th>Texas</th>\n",
       "      <th>New York</th>\n",
       "      <th>Ohio</th>\n",
       "    </tr>\n",
       "  </thead>\n",
       "  <tbody>\n",
       "    <tr>\n",
       "      <th>2000-01-05</th>\n",
       "      <td>0.725968</td>\n",
       "      <td>-0.086166</td>\n",
       "      <td>-2.031101</td>\n",
       "      <td>-1.280773</td>\n",
       "    </tr>\n",
       "    <tr>\n",
       "      <th>2000-01-06</th>\n",
       "      <td>0.725968</td>\n",
       "      <td>-0.086166</td>\n",
       "      <td>-2.031101</td>\n",
       "      <td>-1.280773</td>\n",
       "    </tr>\n",
       "    <tr>\n",
       "      <th>2000-01-07</th>\n",
       "      <td>0.725968</td>\n",
       "      <td>-0.086166</td>\n",
       "      <td>-2.031101</td>\n",
       "      <td>-1.280773</td>\n",
       "    </tr>\n",
       "    <tr>\n",
       "      <th>2000-01-08</th>\n",
       "      <td>NaN</td>\n",
       "      <td>NaN</td>\n",
       "      <td>NaN</td>\n",
       "      <td>NaN</td>\n",
       "    </tr>\n",
       "    <tr>\n",
       "      <th>2000-01-09</th>\n",
       "      <td>NaN</td>\n",
       "      <td>NaN</td>\n",
       "      <td>NaN</td>\n",
       "      <td>NaN</td>\n",
       "    </tr>\n",
       "    <tr>\n",
       "      <th>2000-01-10</th>\n",
       "      <td>NaN</td>\n",
       "      <td>NaN</td>\n",
       "      <td>NaN</td>\n",
       "      <td>NaN</td>\n",
       "    </tr>\n",
       "    <tr>\n",
       "      <th>2000-01-11</th>\n",
       "      <td>NaN</td>\n",
       "      <td>NaN</td>\n",
       "      <td>NaN</td>\n",
       "      <td>NaN</td>\n",
       "    </tr>\n",
       "    <tr>\n",
       "      <th>2000-01-12</th>\n",
       "      <td>-1.359997</td>\n",
       "      <td>-0.497399</td>\n",
       "      <td>0.435078</td>\n",
       "      <td>0.941128</td>\n",
       "    </tr>\n",
       "  </tbody>\n",
       "</table>\n",
       "</div>"
      ],
      "text/plain": [
       "            Colorado     Texas  New York      Ohio\n",
       "2000-01-05  0.725968 -0.086166 -2.031101 -1.280773\n",
       "2000-01-06  0.725968 -0.086166 -2.031101 -1.280773\n",
       "2000-01-07  0.725968 -0.086166 -2.031101 -1.280773\n",
       "2000-01-08       NaN       NaN       NaN       NaN\n",
       "2000-01-09       NaN       NaN       NaN       NaN\n",
       "2000-01-10       NaN       NaN       NaN       NaN\n",
       "2000-01-11       NaN       NaN       NaN       NaN\n",
       "2000-01-12 -1.359997 -0.497399  0.435078  0.941128"
      ]
     },
     "execution_count": 34,
     "metadata": {},
     "output_type": "execute_result"
    }
   ],
   "source": [
    "# Fill Forward only 2 the first two of the NaN values\n",
    "frame.resample('D').ffill(limit=2)"
   ]
  },
  {
   "cell_type": "code",
   "execution_count": 38,
   "metadata": {
    "collapsed": false
   },
   "outputs": [
    {
     "data": {
      "text/html": [
       "<div>\n",
       "<table border=\"1\" class=\"dataframe\">\n",
       "  <thead>\n",
       "    <tr style=\"text-align: right;\">\n",
       "      <th></th>\n",
       "      <th>Colorado</th>\n",
       "      <th>Texas</th>\n",
       "      <th>New York</th>\n",
       "      <th>Ohio</th>\n",
       "    </tr>\n",
       "  </thead>\n",
       "  <tbody>\n",
       "    <tr>\n",
       "      <th>2000-01-06</th>\n",
       "      <td>0.725968</td>\n",
       "      <td>-0.086166</td>\n",
       "      <td>-2.031101</td>\n",
       "      <td>-1.280773</td>\n",
       "    </tr>\n",
       "    <tr>\n",
       "      <th>2000-01-13</th>\n",
       "      <td>-1.359997</td>\n",
       "      <td>-0.497399</td>\n",
       "      <td>0.435078</td>\n",
       "      <td>0.941128</td>\n",
       "    </tr>\n",
       "  </tbody>\n",
       "</table>\n",
       "</div>"
      ],
      "text/plain": [
       "            Colorado     Texas  New York      Ohio\n",
       "2000-01-06  0.725968 -0.086166 -2.031101 -1.280773\n",
       "2000-01-13 -1.359997 -0.497399  0.435078  0.941128"
      ]
     },
     "execution_count": 38,
     "metadata": {},
     "output_type": "execute_result"
    }
   ],
   "source": [
    "# Recall that resample is flexible, so our Wednesday\n",
    "# weekly basis doesn't need to be mapped to Wednesday daily basis\n",
    "frame.resample('W-THU').ffill()"
   ]
  },
  {
   "cell_type": "code",
   "execution_count": 43,
   "metadata": {
    "collapsed": false
   },
   "outputs": [
    {
     "data": {
      "text/html": [
       "<div>\n",
       "<table border=\"1\" class=\"dataframe\">\n",
       "  <thead>\n",
       "    <tr style=\"text-align: right;\">\n",
       "      <th></th>\n",
       "      <th>Colorado</th>\n",
       "      <th>Texas</th>\n",
       "      <th>New York</th>\n",
       "      <th>Ohio</th>\n",
       "    </tr>\n",
       "  </thead>\n",
       "  <tbody>\n",
       "    <tr>\n",
       "      <th>2000-01</th>\n",
       "      <td>1.228354</td>\n",
       "      <td>-1.017093</td>\n",
       "      <td>-0.885082</td>\n",
       "      <td>0.087482</td>\n",
       "    </tr>\n",
       "    <tr>\n",
       "      <th>2000-02</th>\n",
       "      <td>-0.785258</td>\n",
       "      <td>0.500731</td>\n",
       "      <td>-0.715090</td>\n",
       "      <td>0.817825</td>\n",
       "    </tr>\n",
       "    <tr>\n",
       "      <th>2000-03</th>\n",
       "      <td>-1.885186</td>\n",
       "      <td>-0.026164</td>\n",
       "      <td>1.107447</td>\n",
       "      <td>-0.026291</td>\n",
       "    </tr>\n",
       "    <tr>\n",
       "      <th>2000-04</th>\n",
       "      <td>0.664102</td>\n",
       "      <td>0.466214</td>\n",
       "      <td>1.829015</td>\n",
       "      <td>0.435664</td>\n",
       "    </tr>\n",
       "    <tr>\n",
       "      <th>2000-05</th>\n",
       "      <td>0.535991</td>\n",
       "      <td>-1.623143</td>\n",
       "      <td>1.985239</td>\n",
       "      <td>1.393530</td>\n",
       "    </tr>\n",
       "  </tbody>\n",
       "</table>\n",
       "</div>"
      ],
      "text/plain": [
       "         Colorado     Texas  New York      Ohio\n",
       "2000-01  1.228354 -1.017093 -0.885082  0.087482\n",
       "2000-02 -0.785258  0.500731 -0.715090  0.817825\n",
       "2000-03 -1.885186 -0.026164  1.107447 -0.026291\n",
       "2000-04  0.664102  0.466214  1.829015  0.435664\n",
       "2000-05  0.535991 -1.623143  1.985239  1.393530"
      ]
     },
     "execution_count": 43,
     "metadata": {},
     "output_type": "execute_result"
    }
   ],
   "source": [
    "#### Resampling with Period indexes works exactly the same when it comes to downsampling.\n",
    "frame = pd.DataFrame(np.random.randn(24,4) , index = pd.period_range('1/2000','12/2001', freq='M'), columns=['Colorado', 'Texas', 'New York', 'Ohio'])\n",
    "frame[:5]"
   ]
  },
  {
   "cell_type": "code",
   "execution_count": 46,
   "metadata": {
    "collapsed": false
   },
   "outputs": [
    {
     "data": {
      "text/html": [
       "<div>\n",
       "<table border=\"1\" class=\"dataframe\">\n",
       "  <thead>\n",
       "    <tr style=\"text-align: right;\">\n",
       "      <th></th>\n",
       "      <th>Colorado</th>\n",
       "      <th>Texas</th>\n",
       "      <th>New York</th>\n",
       "      <th>Ohio</th>\n",
       "    </tr>\n",
       "  </thead>\n",
       "  <tbody>\n",
       "    <tr>\n",
       "      <th>2000</th>\n",
       "      <td>-0.026182</td>\n",
       "      <td>0.184160</td>\n",
       "      <td>-0.045774</td>\n",
       "      <td>-0.009640</td>\n",
       "    </tr>\n",
       "    <tr>\n",
       "      <th>2001</th>\n",
       "      <td>-0.161177</td>\n",
       "      <td>0.050329</td>\n",
       "      <td>-0.414487</td>\n",
       "      <td>0.049256</td>\n",
       "    </tr>\n",
       "  </tbody>\n",
       "</table>\n",
       "</div>"
      ],
      "text/plain": [
       "      Colorado     Texas  New York      Ohio\n",
       "2000 -0.026182  0.184160 -0.045774 -0.009640\n",
       "2001 -0.161177  0.050329 -0.414487  0.049256"
      ]
     },
     "execution_count": 46,
     "metadata": {},
     "output_type": "execute_result"
    }
   ],
   "source": [
    "# Downsampling\n",
    "annual_frame = frame.resample('A-DEC').mean()\n",
    "annual_frame"
   ]
  },
  {
   "cell_type": "code",
   "execution_count": 67,
   "metadata": {
    "collapsed": false
   },
   "outputs": [
    {
     "data": {
      "text/html": [
       "<div>\n",
       "<table border=\"1\" class=\"dataframe\">\n",
       "  <thead>\n",
       "    <tr style=\"text-align: right;\">\n",
       "      <th></th>\n",
       "      <th>Colorado</th>\n",
       "      <th>Texas</th>\n",
       "      <th>New York</th>\n",
       "      <th>Ohio</th>\n",
       "    </tr>\n",
       "  </thead>\n",
       "  <tbody>\n",
       "    <tr>\n",
       "      <th>2000Q1</th>\n",
       "      <td>-0.026182</td>\n",
       "      <td>0.184160</td>\n",
       "      <td>-0.045774</td>\n",
       "      <td>-0.009640</td>\n",
       "    </tr>\n",
       "    <tr>\n",
       "      <th>2000Q2</th>\n",
       "      <td>-0.026182</td>\n",
       "      <td>0.184160</td>\n",
       "      <td>-0.045774</td>\n",
       "      <td>-0.009640</td>\n",
       "    </tr>\n",
       "    <tr>\n",
       "      <th>2000Q3</th>\n",
       "      <td>-0.026182</td>\n",
       "      <td>0.184160</td>\n",
       "      <td>-0.045774</td>\n",
       "      <td>-0.009640</td>\n",
       "    </tr>\n",
       "    <tr>\n",
       "      <th>2000Q4</th>\n",
       "      <td>-0.026182</td>\n",
       "      <td>0.184160</td>\n",
       "      <td>-0.045774</td>\n",
       "      <td>-0.009640</td>\n",
       "    </tr>\n",
       "    <tr>\n",
       "      <th>2001Q1</th>\n",
       "      <td>-0.161177</td>\n",
       "      <td>0.050329</td>\n",
       "      <td>-0.414487</td>\n",
       "      <td>0.049256</td>\n",
       "    </tr>\n",
       "    <tr>\n",
       "      <th>2001Q2</th>\n",
       "      <td>-0.161177</td>\n",
       "      <td>0.050329</td>\n",
       "      <td>-0.414487</td>\n",
       "      <td>0.049256</td>\n",
       "    </tr>\n",
       "    <tr>\n",
       "      <th>2001Q3</th>\n",
       "      <td>-0.161177</td>\n",
       "      <td>0.050329</td>\n",
       "      <td>-0.414487</td>\n",
       "      <td>0.049256</td>\n",
       "    </tr>\n",
       "    <tr>\n",
       "      <th>2001Q4</th>\n",
       "      <td>-0.161177</td>\n",
       "      <td>0.050329</td>\n",
       "      <td>-0.414487</td>\n",
       "      <td>0.049256</td>\n",
       "    </tr>\n",
       "  </tbody>\n",
       "</table>\n",
       "</div>"
      ],
      "text/plain": [
       "        Colorado     Texas  New York      Ohio\n",
       "2000Q1 -0.026182  0.184160 -0.045774 -0.009640\n",
       "2000Q2 -0.026182  0.184160 -0.045774 -0.009640\n",
       "2000Q3 -0.026182  0.184160 -0.045774 -0.009640\n",
       "2000Q4 -0.026182  0.184160 -0.045774 -0.009640\n",
       "2001Q1 -0.161177  0.050329 -0.414487  0.049256\n",
       "2001Q2 -0.161177  0.050329 -0.414487  0.049256\n",
       "2001Q3 -0.161177  0.050329 -0.414487  0.049256\n",
       "2001Q4 -0.161177  0.050329 -0.414487  0.049256"
      ]
     },
     "execution_count": 67,
     "metadata": {},
     "output_type": "execute_result"
    }
   ],
   "source": [
    "# Upsampling requires choosing the bins\n",
    "# By default the value is put in the first bin of the upsampled\n",
    "# Below, the annual period '2000' is turned into the quarterly periods beginning in 2000-Q1\n",
    "annual_frame.resample('Q-DEC').mean().ffill()"
   ]
  },
  {
   "cell_type": "code",
   "execution_count": 68,
   "metadata": {
    "collapsed": false
   },
   "outputs": [
    {
     "data": {
      "text/html": [
       "<div>\n",
       "<table border=\"1\" class=\"dataframe\">\n",
       "  <thead>\n",
       "    <tr style=\"text-align: right;\">\n",
       "      <th></th>\n",
       "      <th>Colorado</th>\n",
       "      <th>Texas</th>\n",
       "      <th>New York</th>\n",
       "      <th>Ohio</th>\n",
       "    </tr>\n",
       "  </thead>\n",
       "  <tbody>\n",
       "    <tr>\n",
       "      <th>2000Q4</th>\n",
       "      <td>-0.026182</td>\n",
       "      <td>0.184160</td>\n",
       "      <td>-0.045774</td>\n",
       "      <td>-0.009640</td>\n",
       "    </tr>\n",
       "    <tr>\n",
       "      <th>2001Q1</th>\n",
       "      <td>-0.026182</td>\n",
       "      <td>0.184160</td>\n",
       "      <td>-0.045774</td>\n",
       "      <td>-0.009640</td>\n",
       "    </tr>\n",
       "    <tr>\n",
       "      <th>2001Q2</th>\n",
       "      <td>-0.026182</td>\n",
       "      <td>0.184160</td>\n",
       "      <td>-0.045774</td>\n",
       "      <td>-0.009640</td>\n",
       "    </tr>\n",
       "    <tr>\n",
       "      <th>2001Q3</th>\n",
       "      <td>-0.026182</td>\n",
       "      <td>0.184160</td>\n",
       "      <td>-0.045774</td>\n",
       "      <td>-0.009640</td>\n",
       "    </tr>\n",
       "    <tr>\n",
       "      <th>2001Q4</th>\n",
       "      <td>-0.161177</td>\n",
       "      <td>0.050329</td>\n",
       "      <td>-0.414487</td>\n",
       "      <td>0.049256</td>\n",
       "    </tr>\n",
       "  </tbody>\n",
       "</table>\n",
       "</div>"
      ],
      "text/plain": [
       "        Colorado     Texas  New York      Ohio\n",
       "2000Q4 -0.026182  0.184160 -0.045774 -0.009640\n",
       "2001Q1 -0.026182  0.184160 -0.045774 -0.009640\n",
       "2001Q2 -0.026182  0.184160 -0.045774 -0.009640\n",
       "2001Q3 -0.026182  0.184160 -0.045774 -0.009640\n",
       "2001Q4 -0.161177  0.050329 -0.414487  0.049256"
      ]
     },
     "execution_count": 68,
     "metadata": {},
     "output_type": "execute_result"
    }
   ],
   "source": [
    "# Specifying convention='end' will put the lower-frequency values at the end\n",
    "# This has implications for what Forward-Filling does \n",
    "# -- below, the value for the year 2000 is ffill'ed into 2000Q4 - 2001Q3\n",
    "annual_frame.resample('Q-DEC', convention='end').mean().ffill()"
   ]
  },
  {
   "cell_type": "code",
   "execution_count": null,
   "metadata": {
    "collapsed": true
   },
   "outputs": [],
   "source": []
  },
  {
   "cell_type": "code",
   "execution_count": null,
   "metadata": {
    "collapsed": true
   },
   "outputs": [],
   "source": []
  },
  {
   "cell_type": "code",
   "execution_count": null,
   "metadata": {
    "collapsed": true
   },
   "outputs": [],
   "source": []
  },
  {
   "cell_type": "code",
   "execution_count": null,
   "metadata": {
    "collapsed": true
   },
   "outputs": [],
   "source": []
  },
  {
   "cell_type": "code",
   "execution_count": null,
   "metadata": {
    "collapsed": true
   },
   "outputs": [],
   "source": []
  },
  {
   "cell_type": "code",
   "execution_count": null,
   "metadata": {
    "collapsed": true
   },
   "outputs": [],
   "source": []
  },
  {
   "cell_type": "code",
   "execution_count": null,
   "metadata": {
    "collapsed": true
   },
   "outputs": [],
   "source": []
  },
  {
   "cell_type": "code",
   "execution_count": null,
   "metadata": {
    "collapsed": true
   },
   "outputs": [],
   "source": []
  },
  {
   "cell_type": "code",
   "execution_count": null,
   "metadata": {
    "collapsed": true
   },
   "outputs": [],
   "source": []
  },
  {
   "cell_type": "code",
   "execution_count": null,
   "metadata": {
    "collapsed": true
   },
   "outputs": [],
   "source": []
  },
  {
   "cell_type": "code",
   "execution_count": null,
   "metadata": {
    "collapsed": true
   },
   "outputs": [],
   "source": []
  },
  {
   "cell_type": "code",
   "execution_count": null,
   "metadata": {
    "collapsed": true
   },
   "outputs": [],
   "source": []
  },
  {
   "cell_type": "code",
   "execution_count": null,
   "metadata": {
    "collapsed": false,
    "deletable": true,
    "editable": true,
    "scrolled": true
   },
   "outputs": [],
   "source": []
  }
 ],
 "metadata": {
  "kernelspec": {
   "display_name": "Python 2",
   "language": "python",
   "name": "python2"
  },
  "language_info": {
   "codemirror_mode": {
    "name": "ipython",
    "version": 2
   },
   "file_extension": ".py",
   "mimetype": "text/x-python",
   "name": "python",
   "nbconvert_exporter": "python",
   "pygments_lexer": "ipython2",
   "version": "2.7.13"
  }
 },
 "nbformat": 4,
 "nbformat_minor": 0
}
