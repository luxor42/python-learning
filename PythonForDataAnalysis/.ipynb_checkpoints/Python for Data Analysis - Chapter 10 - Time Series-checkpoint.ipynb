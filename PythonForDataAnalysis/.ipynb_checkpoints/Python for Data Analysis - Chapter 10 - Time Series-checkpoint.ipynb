{
 "cells": [
  {
   "cell_type": "code",
   "execution_count": 17,
   "metadata": {
    "collapsed": false
   },
   "outputs": [],
   "source": [
    "import pandas as pd\n",
    "import matplotlib.pyplot as plt\n",
    "import numpy as np\n",
    "from datetime import datetime\n",
    "    # The standard datetime time series module\n",
    "from datetime import timedelta\n",
    "    # For adding and subtracting time deltas\n",
    "    \n",
    "from dateutil.parser import parse\n",
    "%matplotlib inline \n",
    "# THIS LINE MAKES PLOTS SHOW IN JUPYTER"
   ]
  },
  {
   "cell_type": "markdown",
   "metadata": {},
   "source": [
    "# Key Lessons & Topics"
   ]
  },
  {
   "cell_type": "code",
   "execution_count": 59,
   "metadata": {
    "collapsed": false
   },
   "outputs": [
    {
     "data": {
      "text/plain": [
       "'\\n\\n-- Common date and time functions\\n    # Find current timestamp\\n        datetime.now()\\n\\n    # Datetime object to a string\\n        str(datetime(2011, 1, 3))\\n        \\n    # Datetime object to a string with a particular format - format_string follows pattern like \\'%Y-%m-$d\\'\\n        datetime(2011, 1, 3).strftime(format_string)\\n        \\n    # String --> Datetime.  Need to tell the format of the passed value.\\n        value = \\'2011-01-03\\'\\n        datetime.strptime(value, \\'%Y-%m-%d\\')\\n        \\n    # An array of strings to dates using list comprehension\\n        values = [\\'7/6/2011\\', \\'8/6/2011\\']\\n        [datetime.strptime(x, \\'%d/%m/%Y\\') for x in values]\\n        \\n    # Create a Pandas datetime index object\\n        datestrs=[\\'7/6/2011\\', \\'8/6/2011\\']\\n        pd.to_datetime(datestrs)\\n        \\n    # Pandas Time Series iwth DatetimeIndex\\n        dates = [datetime(2011, 1, 2), datetime(2011, 1, 5), datetime(2011, 1, 7), datetime(2011, 1, 8), datetime(2011, 1, 10), datetime(2011, 1, 12)]\\n        ts = pd.Series(np.random.randn(6), index=dates)\\n        ts.index\\n        # Pandas automatically makes the index a DatetimeIndex because the index values passed were datetime objects\\n        # Individual index values are recast as Pandas Timestampe objects\\n        ts.index[0] # Yields a \"Timestamp\" object\\n        \\n    # Creating a series with a specific start date and number of periods\\n        longer_ts = pd.Series(np.random.randn(1000), index=pd.date_range(\\'1/1/2000\\', periods=1000))\\n    \\n        ## That time series can be accessed by passing just a year or year-month\\n            longer_ts[\\'2001\\']     # returns all values in year 2001\\n            longer_ts[\\'2001-05\\']  # returns all values in month May 2001\\n        \\n    # Create a Data Frames and slice on its row index\\n        n = 100\\n        dates = pd.date_range(\\'1/1/2000\\', periods = n, freq=\\'W-WED\\') # Weekly every Wednesday\\n        long_df = pd.DataFrame(np.random.randn(n,4), index=dates, columns=[\\'Colorado\\', \\'Texas\\', \\'New York\\', \\'Ohio\\'])\\n        long_df.ix[\\'5-2001\\'] # Returns May 2001 values\\n    \\n-- Date & Time Data Types\\n    datetime.datetime() --> (Y, m, d, H, M, S, u)\\n    datetime.timedelta() --> (d, s)\\n\\n\\n\\n-- Date Parsing with dateutil library\\n    from dateutil.parser import parse\\n    parse(\\'2011-01-03\\')\\n    parse(\\'Jan 31, 2017 11:52 PM\\')\\n    parse(\\'6/12/2011\\', dayfirst=True)\\n\\n\\n'"
      ]
     },
     "execution_count": 59,
     "metadata": {},
     "output_type": "execute_result"
    }
   ],
   "source": [
    "'''\n",
    "-- Very important things learned\n",
    "\n",
    "Pandas Series with a DatetimeIndex give access to a new range of datetime functions.\n",
    "It's easy to create a DatetimeIndex from a list of standard python datetime values\n",
    "# Random not from other learnings: matplotlib does not play well with a DatetimeIndex. \n",
    "# Just pass integer values then reset the xticks to be the values from the DatetimeIndex\n",
    "\n",
    "Pandas lets you easily generate date ranges is extremely flexible with frequencies between dates.  See Table 10-4\n",
    "\n",
    "\n",
    "\n",
    "\n",
    "-- Common date and time functions\n",
    "    # Find current timestamp\n",
    "        datetime.now()\n",
    "\n",
    "    # Datetime object to a string\n",
    "        str(datetime(2011, 1, 3))\n",
    "        \n",
    "    # Datetime object to a string with a particular format - format_string follows pattern like '%Y-%m-$d'\n",
    "        datetime(2011, 1, 3).strftime(format_string)\n",
    "        \n",
    "    # String --> Datetime.  Need to tell the format of the passed value.\n",
    "        value = '2011-01-03'\n",
    "        datetime.strptime(value, '%Y-%m-%d')\n",
    "        \n",
    "    # An array of strings to dates using list comprehension\n",
    "        values = ['7/6/2011', '8/6/2011']\n",
    "        [datetime.strptime(x, '%d/%m/%Y') for x in values]\n",
    "        \n",
    "    # Create a Pandas datetime index object by passing a list\n",
    "        datestrs=['7/6/2011', '8/6/2011']\n",
    "        pd.to_datetime(datestrs)\n",
    "        \n",
    "    # Pandas Time Series iwth DatetimeIndex\n",
    "        dates = [datetime(2011, 1, 2), datetime(2011, 1, 5), datetime(2011, 1, 7), datetime(2011, 1, 8), datetime(2011, 1, 10), datetime(2011, 1, 12)]\n",
    "        ts = pd.Series(np.random.randn(6), index=dates)\n",
    "        ts.index\n",
    "        # Pandas automatically makes the index a DatetimeIndex because the index values passed were datetime objects\n",
    "        # Individual index values are recast as Pandas Timestampe objects\n",
    "        ts.index[0] # Yields a \"Timestamp\" object\n",
    "        \n",
    "    # Creating a series with a specific start date and number of periods\n",
    "        longer_ts = pd.Series(np.random.randn(1000), index=pd.date_range('1/1/2000', periods=1000))\n",
    "    \n",
    "        ## That time series can be accessed by passing just a year or year-month\n",
    "            longer_ts['2001']     # returns all values in year 2001\n",
    "            longer_ts['2001-05']  # returns all values in month May 2001\n",
    "        \n",
    "    # Create a Data Frames and slice on its row index\n",
    "        n = 100\n",
    "        dates = pd.date_range('1/1/2000', periods = n, freq='W-WED') # Weekly every Wednesday\n",
    "        long_df = pd.DataFrame(np.random.randn(n,4), index=dates, columns=['Colorado', 'Texas', 'New York', 'Ohio'])\n",
    "        long_df.ix['5-2001'] # Returns May 2001 values\n",
    "        \n",
    "    # Convert any time series to a fixed frequency with resample\n",
    "        ts.resample('D').asfreq()\n",
    "        \n",
    "    # pd.date_range requires specification of two of start, end, periods.\n",
    "        ## freq parameter tells which days to sample between the beginning and ending range\n",
    "        pd.date_range('1/1/2000', '12/1/2000', freq='BM')\n",
    "        \n",
    "        ## normalize=True parameter resets the time to midnight of given day\n",
    "        pd.date_range('5/2/2012 12:56:31', periods=5)\n",
    "        \n",
    "\n",
    "-- Frequencies \n",
    "    # Can pass compound frequencies like '1h30min' or simple frequencies\n",
    "        pd.date_range('1/1/2000', periods = 10, freq='1H30MIN')\n",
    "        pd.date_range('1/1/2012', '9/1/2012', freq='WOM-3FRI') \n",
    "            # Go CRAZY!!\n",
    "        \n",
    "    # See Table 10-4 for the long list of understood frequencies.\n",
    "    # These are optimized around financial use so have ones like \"business day\" or \"last business day of month\" or \"quarter end\"\n",
    "    \n",
    "    # \n",
    "\n",
    "    \n",
    "-- Date & Time Data Types\n",
    "    datetime.datetime() --> (Y, m, d, H, M, S, u)\n",
    "    datetime.timedelta() --> (d, s)\n",
    "\n",
    "\n",
    "\n",
    "-- Date Parsing with dateutil library\n",
    "    from dateutil.parser import parse\n",
    "    parse('2011-01-03')\n",
    "    parse('Jan 31, 2017 11:52 PM')\n",
    "    parse('6/12/2011', dayfirst=True)\n",
    "\n",
    "\n",
    "'''"
   ]
  },
  {
   "cell_type": "markdown",
   "metadata": {},
   "source": [
    "# Work"
   ]
  },
  {
   "cell_type": "markdown",
   "metadata": {},
   "source": [
    "## Date and Time Data Types and Tools - Core Python"
   ]
  },
  {
   "cell_type": "code",
   "execution_count": 6,
   "metadata": {
    "collapsed": false
   },
   "outputs": [
    {
     "data": {
      "text/plain": [
       "datetime.datetime(2017, 2, 24, 16, 24, 49, 240626)"
      ]
     },
     "execution_count": 6,
     "metadata": {},
     "output_type": "execute_result"
    }
   ],
   "source": [
    "### Date and Time Data Types and Tools\n",
    "now = datetime.now()\n",
    "now # Units are (year, month, day, hour, minute, second, microseconds)"
   ]
  },
  {
   "cell_type": "code",
   "execution_count": 7,
   "metadata": {
    "collapsed": false
   },
   "outputs": [
    {
     "data": {
      "text/plain": [
       "(2017, 2, 24)"
      ]
     },
     "execution_count": 7,
     "metadata": {},
     "output_type": "execute_result"
    }
   ],
   "source": [
    "# Can access the individual attributes of now in the usual way\n",
    "now.year, now.month, now.day"
   ]
  },
  {
   "cell_type": "code",
   "execution_count": 13,
   "metadata": {
    "collapsed": false
   },
   "outputs": [
    {
     "data": {
      "text/plain": [
       "datetime.timedelta(926, 56700)"
      ]
     },
     "execution_count": 13,
     "metadata": {},
     "output_type": "execute_result"
    }
   ],
   "source": [
    "# Can do arithmetic on datetime objects\n",
    "\n",
    "delta = datetime(2011, 1, 7) - datetime(2008, 6, 24, 8, 15)\n",
    "delta  # delta only has methods days and seconds WTF "
   ]
  },
  {
   "cell_type": "code",
   "execution_count": 5,
   "metadata": {
    "collapsed": false
   },
   "outputs": [
    {
     "data": {
      "text/plain": [
       "datetime.datetime(2011, 1, 19, 0, 0)"
      ]
     },
     "execution_count": 5,
     "metadata": {},
     "output_type": "execute_result"
    }
   ],
   "source": [
    "# Can do math between datetime and timedelta objects\n",
    "\n",
    "start = datetime(2011, 1, 7)\n",
    "start + timedelta(12)"
   ]
  },
  {
   "cell_type": "code",
   "execution_count": 6,
   "metadata": {
    "collapsed": false
   },
   "outputs": [
    {
     "data": {
      "text/plain": [
       "datetime.datetime(2010, 12, 14, 0, 0)"
      ]
     },
     "execution_count": 6,
     "metadata": {},
     "output_type": "execute_result"
    }
   ],
   "source": [
    "start - 2 * timedelta(12)"
   ]
  },
  {
   "cell_type": "markdown",
   "metadata": {
    "collapsed": true
   },
   "source": [
    "## Converting between string and datetime"
   ]
  },
  {
   "cell_type": "code",
   "execution_count": 11,
   "metadata": {
    "collapsed": false
   },
   "outputs": [
    {
     "data": {
      "text/plain": [
       "'2011-01-03 00:00:00'"
      ]
     },
     "execution_count": 11,
     "metadata": {},
     "output_type": "execute_result"
    }
   ],
   "source": [
    "# Cast a datetime as a string\n",
    "stamp = datetime(2011, 1, 3)\n",
    "str(stamp)"
   ]
  },
  {
   "cell_type": "code",
   "execution_count": 12,
   "metadata": {
    "collapsed": false
   },
   "outputs": [
    {
     "data": {
      "text/plain": [
       "'2011-01-03'"
      ]
     },
     "execution_count": 12,
     "metadata": {},
     "output_type": "execute_result"
    }
   ],
   "source": [
    "# Cast a datetime as a string with a specific format\n",
    "stamp.strftime('%Y-%m-%d')"
   ]
  },
  {
   "cell_type": "code",
   "execution_count": 13,
   "metadata": {
    "collapsed": false
   },
   "outputs": [
    {
     "data": {
      "text/plain": [
       "datetime.datetime(2011, 1, 3, 0, 0)"
      ]
     },
     "execution_count": 13,
     "metadata": {},
     "output_type": "execute_result"
    }
   ],
   "source": [
    "# Stings to dates\n",
    "value = '2011-01-03'\n",
    "datetime.strptime(value, '%Y-%m-%d')"
   ]
  },
  {
   "cell_type": "code",
   "execution_count": 15,
   "metadata": {
    "collapsed": false
   },
   "outputs": [
    {
     "data": {
      "text/plain": [
       "[datetime.datetime(2011, 6, 7, 0, 0), datetime.datetime(2011, 6, 8, 0, 0)]"
      ]
     },
     "execution_count": 15,
     "metadata": {},
     "output_type": "execute_result"
    }
   ],
   "source": [
    "# An array of strings to dates using list comprehension\n",
    "values = ['7/6/2011', '8/6/2011']\n",
    "[datetime.strptime(x, '%d/%m/%Y') for x in values]"
   ]
  },
  {
   "cell_type": "code",
   "execution_count": 19,
   "metadata": {
    "collapsed": false
   },
   "outputs": [
    {
     "data": {
      "text/plain": [
       "datetime.datetime(2011, 1, 3, 0, 0)"
      ]
     },
     "execution_count": 19,
     "metadata": {},
     "output_type": "execute_result"
    }
   ],
   "source": [
    "# Use dateutil.parser's methods to parse nearly any common format\n",
    "parse('2011-01-03')"
   ]
  },
  {
   "cell_type": "code",
   "execution_count": 20,
   "metadata": {
    "collapsed": false
   },
   "outputs": [
    {
     "data": {
      "text/plain": [
       "datetime.datetime(1997, 1, 31, 22, 45)"
      ]
     },
     "execution_count": 20,
     "metadata": {},
     "output_type": "execute_result"
    }
   ],
   "source": [
    "# Parse a human-readable format\n",
    "parse('Jan 31, 1997 10:45 PM')"
   ]
  },
  {
   "cell_type": "code",
   "execution_count": 21,
   "metadata": {
    "collapsed": false
   },
   "outputs": [
    {
     "data": {
      "text/plain": [
       "DatetimeIndex(['2011-07-06', '2011-08-06'], dtype='datetime64[ns]', freq=None)"
      ]
     },
     "execution_count": 21,
     "metadata": {},
     "output_type": "execute_result"
    }
   ],
   "source": [
    "# Pandas to_datetime\n",
    "datestrs=['7/6/2011', '8/6/2011']\n",
    "pd.to_datetime(datestrs)"
   ]
  },
  {
   "cell_type": "code",
   "execution_count": 27,
   "metadata": {
    "collapsed": false
   },
   "outputs": [
    {
     "name": "stdout",
     "output_type": "stream",
     "text": [
      "NaT\n",
      "[False False  True]\n"
     ]
    }
   ],
   "source": [
    "# pd.to_datetime will accept empty values and convert them to \"NaT\"\n",
    "idx = pd.to_datetime(datestrs + [None])\n",
    "print idx[2]\n",
    "print pd.isnull(idx)"
   ]
  },
  {
   "cell_type": "markdown",
   "metadata": {
    "collapsed": true
   },
   "source": [
    "## Pandas Time Series Basics"
   ]
  },
  {
   "cell_type": "code",
   "execution_count": 32,
   "metadata": {
    "collapsed": false
   },
   "outputs": [
    {
     "data": {
      "text/plain": [
       "DatetimeIndex(['2011-01-02', '2011-01-05', '2011-01-07', '2011-01-08',\n",
       "               '2011-01-10', '2011-01-12'],\n",
       "              dtype='datetime64[ns]', freq=None)"
      ]
     },
     "execution_count": 32,
     "metadata": {},
     "output_type": "execute_result"
    }
   ],
   "source": [
    "# Create a pd.Series with an index of type DatetimeIndex\n",
    "dates = [datetime(2011, 1, 2), datetime(2011, 1, 5), datetime(2011, 1, 7), datetime(2011, 1, 8), datetime(2011, 1, 10), datetime(2011, 1, 12)]\n",
    "ts = pd.Series(np.random.randn(6), index=dates)\n",
    "ts.index"
   ]
  },
  {
   "cell_type": "code",
   "execution_count": 34,
   "metadata": {
    "collapsed": false
   },
   "outputs": [
    {
     "data": {
      "text/plain": [
       "2011-01-02   -1.228432\n",
       "2011-01-05         NaN\n",
       "2011-01-07   -1.977642\n",
       "2011-01-08         NaN\n",
       "2011-01-10   -0.468716\n",
       "2011-01-12         NaN\n",
       "dtype: float64"
      ]
     },
     "execution_count": 34,
     "metadata": {},
     "output_type": "execute_result"
    }
   ],
   "source": [
    "# Arithetic operations align dates and then perform the operations\n",
    "ts + ts[::2]"
   ]
  },
  {
   "cell_type": "markdown",
   "metadata": {},
   "source": [
    "### Indexing, Selection, Subsetting"
   ]
  },
  {
   "cell_type": "code",
   "execution_count": 44,
   "metadata": {
    "collapsed": false
   },
   "outputs": [
    {
     "data": {
      "text/plain": [
       "-0.988821198409642"
      ]
     },
     "execution_count": 44,
     "metadata": {},
     "output_type": "execute_result"
    }
   ],
   "source": [
    "# You can index a time series like a usual series\n",
    "stamp = ts.index[2]\n",
    "ts[stamp]"
   ]
  },
  {
   "cell_type": "code",
   "execution_count": 46,
   "metadata": {
    "collapsed": false
   },
   "outputs": [
    {
     "data": {
      "text/plain": [
       "-0.234357877450382"
      ]
     },
     "execution_count": 46,
     "metadata": {},
     "output_type": "execute_result"
    }
   ],
   "source": [
    "# Can be indexed by pasing a interpretable string - Example #1\n",
    "ts['1/10/2011'] # returns a value even though the form of the index is 2011-01-10"
   ]
  },
  {
   "cell_type": "code",
   "execution_count": 47,
   "metadata": {
    "collapsed": false
   },
   "outputs": [
    {
     "data": {
      "text/plain": [
       "-0.234357877450382"
      ]
     },
     "execution_count": 47,
     "metadata": {},
     "output_type": "execute_result"
    }
   ],
   "source": [
    "# Can be indexed by pasing a interpretable string - Example #2\n",
    "ts['20110110'] # returns a value even though the form of the index is 2011-01-10"
   ]
  },
  {
   "cell_type": "code",
   "execution_count": 51,
   "metadata": {
    "collapsed": false,
    "scrolled": true
   },
   "outputs": [
    {
     "data": {
      "text/plain": [
       "2001-05-01    0.546238\n",
       "2001-05-02    0.280615\n",
       "2001-05-03   -0.410547\n",
       "2001-05-04   -0.354834\n",
       "2001-05-05    1.084424\n",
       "2001-05-06    1.327322\n",
       "2001-05-07    1.347081\n",
       "2001-05-08   -1.888758\n",
       "2001-05-09   -1.155923\n",
       "2001-05-10   -0.502922\n",
       "2001-05-11    0.317845\n",
       "2001-05-12   -0.361681\n",
       "2001-05-13   -2.564729\n",
       "2001-05-14    0.176038\n",
       "2001-05-15   -1.265134\n",
       "2001-05-16   -0.757674\n",
       "2001-05-17    1.380417\n",
       "2001-05-18   -1.016104\n",
       "2001-05-19    0.112499\n",
       "2001-05-20    2.373924\n",
       "2001-05-21    0.691358\n",
       "2001-05-22   -0.749373\n",
       "2001-05-23    0.906505\n",
       "2001-05-24   -1.507107\n",
       "2001-05-25    2.271611\n",
       "2001-05-26    1.323091\n",
       "2001-05-27   -0.341347\n",
       "2001-05-28   -0.356685\n",
       "2001-05-29    1.209649\n",
       "2001-05-30    0.592155\n",
       "2001-05-31   -0.379500\n",
       "Freq: D, dtype: float64"
      ]
     },
     "execution_count": 51,
     "metadata": {},
     "output_type": "execute_result"
    }
   ],
   "source": [
    "# Creating a time series from periods and accessing via year or year-month\n",
    "longer_ts = pd.Series(np.random.randn(1000), index=pd.date_range('1/1/2000', periods=1000))\n",
    "longer_ts['2001-01']\n",
    "longer_ts['2001-05']"
   ]
  },
  {
   "cell_type": "code",
   "execution_count": 54,
   "metadata": {
    "collapsed": false
   },
   "outputs": [
    {
     "data": {
      "text/plain": [
       "2011-01-02   -0.614216\n",
       "2011-01-05    0.572496\n",
       "2011-01-07   -0.988821\n",
       "dtype: float64"
      ]
     },
     "execution_count": 54,
     "metadata": {},
     "output_type": "execute_result"
    }
   ],
   "source": [
    "# Slicing works as before\n",
    "ts[:datetime(2011, 1, 7)]"
   ]
  },
  {
   "cell_type": "code",
   "execution_count": 56,
   "metadata": {
    "collapsed": false
   },
   "outputs": [
    {
     "data": {
      "text/plain": [
       "2011-01-05    0.572496\n",
       "2011-01-07   -0.988821\n",
       "2011-01-08    1.270666\n",
       "2011-01-10   -0.234358\n",
       "dtype: float64"
      ]
     },
     "execution_count": 56,
     "metadata": {},
     "output_type": "execute_result"
    }
   ],
   "source": [
    "# You can slice by passing date values that are not in the Series itself because Pandas knows about date ordering\n",
    "ts['2011-01-03':'2011-01-011']"
   ]
  },
  {
   "cell_type": "code",
   "execution_count": 60,
   "metadata": {
    "collapsed": false,
    "scrolled": true
   },
   "outputs": [
    {
     "data": {
      "text/html": [
       "<div>\n",
       "<table border=\"1\" class=\"dataframe\">\n",
       "  <thead>\n",
       "    <tr style=\"text-align: right;\">\n",
       "      <th></th>\n",
       "      <th>Colorado</th>\n",
       "      <th>Texas</th>\n",
       "      <th>New York</th>\n",
       "      <th>Ohio</th>\n",
       "    </tr>\n",
       "  </thead>\n",
       "  <tbody>\n",
       "    <tr>\n",
       "      <th>2001-05-02</th>\n",
       "      <td>0.045626</td>\n",
       "      <td>-0.607504</td>\n",
       "      <td>0.556818</td>\n",
       "      <td>-0.004877</td>\n",
       "    </tr>\n",
       "    <tr>\n",
       "      <th>2001-05-09</th>\n",
       "      <td>-0.461817</td>\n",
       "      <td>0.359351</td>\n",
       "      <td>-1.179367</td>\n",
       "      <td>0.209323</td>\n",
       "    </tr>\n",
       "    <tr>\n",
       "      <th>2001-05-16</th>\n",
       "      <td>-1.517911</td>\n",
       "      <td>-0.889724</td>\n",
       "      <td>-0.162152</td>\n",
       "      <td>-1.166955</td>\n",
       "    </tr>\n",
       "    <tr>\n",
       "      <th>2001-05-23</th>\n",
       "      <td>-0.270613</td>\n",
       "      <td>0.437736</td>\n",
       "      <td>0.835822</td>\n",
       "      <td>-0.683391</td>\n",
       "    </tr>\n",
       "    <tr>\n",
       "      <th>2001-05-30</th>\n",
       "      <td>0.452099</td>\n",
       "      <td>0.758320</td>\n",
       "      <td>-1.103144</td>\n",
       "      <td>-1.162637</td>\n",
       "    </tr>\n",
       "  </tbody>\n",
       "</table>\n",
       "</div>"
      ],
      "text/plain": [
       "            Colorado     Texas  New York      Ohio\n",
       "2001-05-02  0.045626 -0.607504  0.556818 -0.004877\n",
       "2001-05-09 -0.461817  0.359351 -1.179367  0.209323\n",
       "2001-05-16 -1.517911 -0.889724 -0.162152 -1.166955\n",
       "2001-05-23 -0.270613  0.437736  0.835822 -0.683391\n",
       "2001-05-30  0.452099  0.758320 -1.103144 -1.162637"
      ]
     },
     "execution_count": 60,
     "metadata": {},
     "output_type": "execute_result"
    }
   ],
   "source": [
    "# Create a Data Frames and slice on its row index\n",
    "dates = pd.date_range('1/1/2000', periods = 100, freq='W-WED') # Weekly every Wednesday\n",
    "long_df = pd.DataFrame(np.random.randn(100,4), index=dates, columns=['Colorado', 'Texas', 'New York', 'Ohio'])\n",
    "long_df.ix['5-2001']"
   ]
  },
  {
   "cell_type": "markdown",
   "metadata": {},
   "source": [
    "### Time Series with Duplicate Indices are fine"
   ]
  },
  {
   "cell_type": "code",
   "execution_count": 73,
   "metadata": {
    "collapsed": false
   },
   "outputs": [
    {
     "data": {
      "text/plain": [
       "2000-01-01    0\n",
       "2000-01-02    1\n",
       "2000-01-02    2\n",
       "2000-01-02    3\n",
       "2000-01-03    4\n",
       "dtype: int64"
      ]
     },
     "execution_count": 73,
     "metadata": {},
     "output_type": "execute_result"
    }
   ],
   "source": [
    "# Create a DatetimeIndex by passing a list of strings (in a date format).  Some of the strings are duplicated.\n",
    "dates = pd.DatetimeIndex(['1/1/2000','1/2/2000','1/2/2000','1/2/2000','1/3/2000'])\n",
    "dup_ts = pd.Series(np.arange(5), index=dates)\n",
    "dup_ts"
   ]
  },
  {
   "cell_type": "code",
   "execution_count": 76,
   "metadata": {
    "collapsed": false
   },
   "outputs": [
    {
     "data": {
      "text/plain": [
       "2000-01-01    1\n",
       "2000-01-02    3\n",
       "2000-01-03    1\n",
       "dtype: int64"
      ]
     },
     "execution_count": 76,
     "metadata": {},
     "output_type": "execute_result"
    }
   ],
   "source": [
    "# Grouping by a DatetimeIndex requires passing a Level\n",
    "grouped = dup_ts.groupby(level=0)\n",
    "grouped.count()"
   ]
  },
  {
   "cell_type": "markdown",
   "metadata": {},
   "source": [
    "## Date Ranges, Frequencies, and Shifting"
   ]
  },
  {
   "cell_type": "code",
   "execution_count": 84,
   "metadata": {
    "collapsed": false
   },
   "outputs": [
    {
     "data": {
      "text/plain": [
       "2011-01-02   -0.614216\n",
       "2011-01-03         NaN\n",
       "2011-01-04         NaN\n",
       "2011-01-05    0.572496\n",
       "2011-01-06         NaN\n",
       "2011-01-07   -0.988821\n",
       "2011-01-08    1.270666\n",
       "2011-01-09         NaN\n",
       "2011-01-10   -0.234358\n",
       "2011-01-11         NaN\n",
       "2011-01-12   -0.352303\n",
       "Freq: D, dtype: float64"
      ]
     },
     "execution_count": 84,
     "metadata": {},
     "output_type": "execute_result"
    }
   ],
   "source": [
    "# Convert any time series to a fixed frequency with resample\n",
    "# Note that the Pandas book version I have uses an older version of resample.  \n",
    "# The modern version of resample is essentially a groupby()\n",
    "ts.resample('D').asfreq()"
   ]
  },
  {
   "cell_type": "markdown",
   "metadata": {},
   "source": [
    "### Generating Date Ranges"
   ]
  },
  {
   "cell_type": "code",
   "execution_count": 86,
   "metadata": {
    "collapsed": false
   },
   "outputs": [
    {
     "data": {
      "text/plain": [
       "DatetimeIndex(['2012-04-01', '2012-04-02', '2012-04-03', '2012-04-04',\n",
       "               '2012-04-05', '2012-04-06', '2012-04-07', '2012-04-08',\n",
       "               '2012-04-09', '2012-04-10', '2012-04-11', '2012-04-12',\n",
       "               '2012-04-13', '2012-04-14', '2012-04-15', '2012-04-16',\n",
       "               '2012-04-17', '2012-04-18', '2012-04-19', '2012-04-20',\n",
       "               '2012-04-21', '2012-04-22', '2012-04-23', '2012-04-24',\n",
       "               '2012-04-25', '2012-04-26', '2012-04-27', '2012-04-28',\n",
       "               '2012-04-29', '2012-04-30', '2012-05-01', '2012-05-02',\n",
       "               '2012-05-03', '2012-05-04', '2012-05-05', '2012-05-06',\n",
       "               '2012-05-07', '2012-05-08', '2012-05-09', '2012-05-10',\n",
       "               '2012-05-11', '2012-05-12', '2012-05-13', '2012-05-14',\n",
       "               '2012-05-15', '2012-05-16', '2012-05-17', '2012-05-18',\n",
       "               '2012-05-19', '2012-05-20', '2012-05-21', '2012-05-22',\n",
       "               '2012-05-23', '2012-05-24', '2012-05-25', '2012-05-26',\n",
       "               '2012-05-27', '2012-05-28', '2012-05-29', '2012-05-30',\n",
       "               '2012-05-31', '2012-06-01'],\n",
       "              dtype='datetime64[ns]', freq='D')"
      ]
     },
     "execution_count": 86,
     "metadata": {},
     "output_type": "execute_result"
    }
   ],
   "source": [
    "# By default, daily date ranges are generated\n",
    "index = pd.date_range('4/1/2012', '6/1/2012')\n",
    "index"
   ]
  },
  {
   "cell_type": "code",
   "execution_count": 90,
   "metadata": {
    "collapsed": false
   },
   "outputs": [
    {
     "name": "stdout",
     "output_type": "stream",
     "text": [
      "DatetimeIndex(['2012-04-01', '2012-04-02', '2012-04-03', '2012-04-04',\n",
      "               '2012-04-05', '2012-04-06', '2012-04-07', '2012-04-08',\n",
      "               '2012-04-09', '2012-04-10', '2012-04-11', '2012-04-12',\n",
      "               '2012-04-13', '2012-04-14', '2012-04-15', '2012-04-16',\n",
      "               '2012-04-17', '2012-04-18', '2012-04-19', '2012-04-20'],\n",
      "              dtype='datetime64[ns]', freq='D')\n",
      "DatetimeIndex(['2012-06-01', '2012-06-02', '2012-06-03', '2012-06-04',\n",
      "               '2012-06-05', '2012-06-06', '2012-06-07', '2012-06-08',\n",
      "               '2012-06-09', '2012-06-10', '2012-06-11', '2012-06-12',\n",
      "               '2012-06-13', '2012-06-14', '2012-06-15', '2012-06-16',\n",
      "               '2012-06-17', '2012-06-18', '2012-06-19', '2012-06-20'],\n",
      "              dtype='datetime64[ns]', freq='D')\n"
     ]
    }
   ],
   "source": [
    "# Pass the start or end and # of periods \n",
    "index_start = pd.date_range('4/1/2012', periods = 20)\n",
    "index_end = pd.date_range('6/1/2012', periods = 20)\n",
    "print index_start\n",
    "print index_end"
   ]
  },
  {
   "cell_type": "code",
   "execution_count": 91,
   "metadata": {
    "collapsed": false
   },
   "outputs": [
    {
     "data": {
      "text/plain": [
       "DatetimeIndex(['2000-01-31', '2000-02-29', '2000-03-31', '2000-04-28',\n",
       "               '2000-05-31', '2000-06-30', '2000-07-31', '2000-08-31',\n",
       "               '2000-09-29', '2000-10-31', '2000-11-30'],\n",
       "              dtype='datetime64[ns]', freq='BM')"
      ]
     },
     "execution_count": 91,
     "metadata": {},
     "output_type": "execute_result"
    }
   ],
   "source": [
    "# Pass a frequency.  It accepts off-the-wall frequencies like \"last business day of month'\n",
    "pd.date_range('1/1/2000', '12/1/2000', freq='BM')"
   ]
  },
  {
   "cell_type": "code",
   "execution_count": 92,
   "metadata": {
    "collapsed": false
   },
   "outputs": [
    {
     "data": {
      "text/plain": [
       "DatetimeIndex(['2012-05-02 12:56:31', '2012-05-03 12:56:31',\n",
       "               '2012-05-04 12:56:31', '2012-05-05 12:56:31',\n",
       "               '2012-05-06 12:56:31'],\n",
       "              dtype='datetime64[ns]', freq='D')"
      ]
     },
     "execution_count": 92,
     "metadata": {},
     "output_type": "execute_result"
    }
   ],
   "source": [
    "# If timestamps are included with the past dates, then they're preserved in the future dates created\n",
    "pd.date_range('5/2/2012 12:56:31', periods=5)"
   ]
  },
  {
   "cell_type": "code",
   "execution_count": 95,
   "metadata": {
    "collapsed": false
   },
   "outputs": [
    {
     "data": {
      "text/plain": [
       "DatetimeIndex(['2012-05-02', '2012-05-03', '2012-05-04', '2012-05-05',\n",
       "               '2012-05-06'],\n",
       "              dtype='datetime64[ns]', freq='D')"
      ]
     },
     "execution_count": 95,
     "metadata": {},
     "output_type": "execute_result"
    }
   ],
   "source": [
    "# Reset time information to midnight using \"normalize\"\n",
    "pd.date_range(start='5/2/2012 12:56:31', periods=5, normalize=True)"
   ]
  },
  {
   "cell_type": "markdown",
   "metadata": {},
   "source": [
    "### Frequencies and Date Offsets"
   ]
  },
  {
   "cell_type": "code",
   "execution_count": 97,
   "metadata": {
    "collapsed": false
   },
   "outputs": [
    {
     "data": {
      "text/plain": [
       "DatetimeIndex(['2000-01-01 00:00:00', '2000-01-01 04:00:00',\n",
       "               '2000-01-01 08:00:00', '2000-01-01 12:00:00',\n",
       "               '2000-01-01 16:00:00', '2000-01-01 20:00:00',\n",
       "               '2000-01-02 00:00:00', '2000-01-02 04:00:00',\n",
       "               '2000-01-02 08:00:00', '2000-01-02 12:00:00',\n",
       "               '2000-01-02 16:00:00', '2000-01-02 20:00:00',\n",
       "               '2000-01-03 00:00:00', '2000-01-03 04:00:00',\n",
       "               '2000-01-03 08:00:00', '2000-01-03 12:00:00',\n",
       "               '2000-01-03 16:00:00', '2000-01-03 20:00:00'],\n",
       "              dtype='datetime64[ns]', freq='4H')"
      ]
     },
     "execution_count": 97,
     "metadata": {},
     "output_type": "execute_result"
    }
   ],
   "source": [
    "# Typically are referenced by a string alias\n",
    "    # 'M' --> calendar month end\n",
    "    # 'Q' --> quarterly\n",
    "    # 'H' --> Hourly\n",
    "pd.date_range('1/1/2000', '1/3/2000 23:59', freq='4H')"
   ]
  },
  {
   "cell_type": "code",
   "execution_count": 98,
   "metadata": {
    "collapsed": false
   },
   "outputs": [
    {
     "data": {
      "text/plain": [
       "DatetimeIndex(['2000-01-01 00:00:00', '2000-01-01 01:30:00',\n",
       "               '2000-01-01 03:00:00', '2000-01-01 04:30:00',\n",
       "               '2000-01-01 06:00:00', '2000-01-01 07:30:00',\n",
       "               '2000-01-01 09:00:00', '2000-01-01 10:30:00',\n",
       "               '2000-01-01 12:00:00', '2000-01-01 13:30:00'],\n",
       "              dtype='datetime64[ns]', freq='90T')"
      ]
     },
     "execution_count": 98,
     "metadata": {},
     "output_type": "execute_result"
    }
   ],
   "source": [
    "# Can pass compound frequencies like '1h30min'\n",
    "pd.date_range('1/1/2000', periods = 10, freq='1H30MIN')"
   ]
  },
  {
   "cell_type": "code",
   "execution_count": 102,
   "metadata": {
    "collapsed": false
   },
   "outputs": [
    {
     "data": {
      "text/plain": [
       "[Timestamp('2012-01-20 00:00:00', freq='WOM-3FRI'),\n",
       " Timestamp('2012-02-17 00:00:00', freq='WOM-3FRI'),\n",
       " Timestamp('2012-03-16 00:00:00', freq='WOM-3FRI'),\n",
       " Timestamp('2012-04-20 00:00:00', freq='WOM-3FRI'),\n",
       " Timestamp('2012-05-18 00:00:00', freq='WOM-3FRI'),\n",
       " Timestamp('2012-06-15 00:00:00', freq='WOM-3FRI'),\n",
       " Timestamp('2012-07-20 00:00:00', freq='WOM-3FRI'),\n",
       " Timestamp('2012-08-17 00:00:00', freq='WOM-3FRI')]"
      ]
     },
     "execution_count": 102,
     "metadata": {},
     "output_type": "execute_result"
    }
   ],
   "source": [
    "rng = pd.date_range('1/1/2012', '9/1/2012', freq='WOM-3FRI')\n",
    "list(rng)"
   ]
  },
  {
   "cell_type": "code",
   "execution_count": null,
   "metadata": {
    "collapsed": true
   },
   "outputs": [],
   "source": []
  },
  {
   "cell_type": "code",
   "execution_count": null,
   "metadata": {
    "collapsed": true
   },
   "outputs": [],
   "source": []
  },
  {
   "cell_type": "code",
   "execution_count": null,
   "metadata": {
    "collapsed": true
   },
   "outputs": [],
   "source": []
  },
  {
   "cell_type": "code",
   "execution_count": null,
   "metadata": {
    "collapsed": true
   },
   "outputs": [],
   "source": []
  },
  {
   "cell_type": "code",
   "execution_count": null,
   "metadata": {
    "collapsed": true
   },
   "outputs": [],
   "source": []
  },
  {
   "cell_type": "code",
   "execution_count": null,
   "metadata": {
    "collapsed": true
   },
   "outputs": [],
   "source": []
  },
  {
   "cell_type": "code",
   "execution_count": 101,
   "metadata": {
    "collapsed": false,
    "scrolled": true
   },
   "outputs": [
    {
     "data": {
      "text/plain": [
       "[Timestamp('2012-01-20 00:00:00', freq='WOM-3FRI'),\n",
       " Timestamp('2012-02-17 00:00:00', freq='WOM-3FRI'),\n",
       " Timestamp('2012-03-16 00:00:00', freq='WOM-3FRI'),\n",
       " Timestamp('2012-04-20 00:00:00', freq='WOM-3FRI'),\n",
       " Timestamp('2012-05-18 00:00:00', freq='WOM-3FRI'),\n",
       " Timestamp('2012-06-15 00:00:00', freq='WOM-3FRI'),\n",
       " Timestamp('2012-07-20 00:00:00', freq='WOM-3FRI'),\n",
       " Timestamp('2012-08-17 00:00:00', freq='WOM-3FRI')]"
      ]
     },
     "execution_count": 101,
     "metadata": {},
     "output_type": "execute_result"
    }
   ],
   "source": []
  }
 ],
 "metadata": {
  "kernelspec": {
   "display_name": "Python 2",
   "language": "python",
   "name": "python2"
  },
  "language_info": {
   "codemirror_mode": {
    "name": "ipython",
    "version": 2
   },
   "file_extension": ".py",
   "mimetype": "text/x-python",
   "name": "python",
   "nbconvert_exporter": "python",
   "pygments_lexer": "ipython2",
   "version": "2.7.11"
  }
 },
 "nbformat": 4,
 "nbformat_minor": 0
}
