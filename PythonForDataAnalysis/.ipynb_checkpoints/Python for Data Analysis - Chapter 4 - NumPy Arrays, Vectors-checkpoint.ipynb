{
 "cells": [
  {
   "cell_type": "code",
   "execution_count": 327,
   "metadata": {
    "collapsed": false
   },
   "outputs": [],
   "source": [
    "\"\"\"\n",
    "Python for Data Analysis - Chapter 4 - NumPy Basic: Arrays and Vectorized Computation\n",
    "\n",
    "Things to review:\n",
    "- How to visualizae what \"transpose()\" function is doing\n",
    "- What does xrange do?\n",
    "- Familirize myself with functions of 4-4, 4-5, 4-6, 4-7\n",
    "\n",
    "\n",
    "Things learned here:\n",
    "\n",
    "NumPy's goal: fast mathematical operations over data sets without using loops.\n",
    "\n",
    "Plotting in-line in jupyter: %matplotlib inline\n",
    "import numpy as np -- canonical way to begin\n",
    "\n",
    "ndarray - fast and space-efficient multidimensional array providing vectorized arithmetic operations\n",
    "Suppose that \"data\" is an ndarray.  Built-in functions are ...\n",
    "    data = np.array([1,2,3])\n",
    "    data.shape - returns dimensions of the array\n",
    "    data.dtype - lets you know what type of data is in the dtype array.\n",
    "        It's always dtype('int64') something like that with dtype\n",
    "    data.astype(np.float64) - cast a particular dtype to another dtype, passed as a parameter\n",
    "\n",
    "    ndim -  my_array.ndim - get the number of dimenions of the array\n",
    "    zeros - x = np.zeros(a,b) - get an a x b array full of zeros\n",
    "    ones -  x = np.ones(a,b)  - get an a x b array full of ones\n",
    "    empty - x = np.empty(a,b) - get an a x b array full of nearly-zero unitialized garbage values\n",
    "    arange - x =np.arange(b) - get a 1-dimensional array of length b ranging from 0 to b-1\n",
    "    eye, identity - x = np.eye(b) - get a square b x b identity matrix\n",
    "\n",
    "    Array slices are views back to the original array.  Data isn't copied so changes are back-propagated\n",
    "    array.copy() - explicit call is required to copy an array rather than just point to a slice\n",
    "    array slicing with :.  \n",
    "        e.g. arr[5:8], arr[:1], arr[:, :1], arr[:2, :2]\n",
    "    \n",
    "    np.random.randn(a,b) - a 2-dimension a x b random array\n",
    "    np.meshgrid - create (x,y) array from x and y vectors\n",
    "    \n",
    "Sorting and Array Filtering\n",
    "    data.sort(axis = n) - sort just a single vector in the array\n",
    "    np.unique(data) - returns sorted, unique values\n",
    "    np.in1d - returns boolean array if value in given vector\n",
    "    See Table 4-6 for array set operations\n",
    "    \n",
    "Boolean Operations\n",
    "    np.where - vectorized, flexible conditional array logic\n",
    "    np aggregations return values 0 and 1\n",
    "    data.any() - \"or\" applied to whole array\n",
    "    data.all() - \"and\" applid to whole array\n",
    "\n",
    "File I/O\n",
    "    np.save(file_location, arr) - save uncompressed\n",
    "    np.savez(file_location, arr1, arr2, ...) - save compressed\n",
    "    np.load(file_location) - load a file\n",
    "        When loading a multi-file zip you get a dict indexed by array name\n",
    "    np.loadtxt() - text file load\n",
    "    np.genfromtxt() - like loadtxt but specialized; see later\n",
    "    np.savetxt() - text file save\n",
    "\n",
    "Math,  Statistics, Linear Algebra\n",
    "    See Table 4-5 for list of math/stats reduction functions\n",
    "    See Table 4-7 for list of numpy.linalg functions\n",
    "    See Table 4-8 for random number generation functions\n",
    "    np.sum()\n",
    "    np.mean()\n",
    "    etc.\n",
    "    np.dot(x,y)\n",
    "    np.random.randint(a, b, size=(n,m)) \n",
    "        # as usual range is [a,b)\n",
    "        # (n,m) can just be n, then is a 1D array\n",
    "    \n",
    "Remember that %timeit is your benchmarker - runs samples\n",
    "\n",
    "Fancy Indexing\n",
    "    - Allows indexing using integer arrays\n",
    "    - Copies rows into a new array\n",
    "    - arr = np.empty((8,4)) - an 8 x 4 array\n",
    "    - arr[[1,5,7,2], [0,3,1,2]]     \n",
    "        # It pulls values at pairs (1,0) (5,3) (7,1) (2,2)\n",
    "    - arr[[1,5,7,2]][:, [0,3,1,2]]\n",
    "        # Here we're saying we want all rows at indices 1,5,7,2\n",
    "            and cols at indices 0,3,1,2\n",
    "\n",
    "Transposing\n",
    "    - arr = np.arange(16).reshape((2,2,4))\n",
    "        # 2 x 2 x 4 = 16 so this is a valid array\n",
    "    - arr.transpose((1,0,2)) \n",
    "    # This is saying to swap axis 1 into 0, 0 into 1, and leave 2-->2\n",
    "    # Hence transpose((0,1,2)) is an identity transpose\n",
    "    # You're doing vector-for-vector swaps of each axis in order\n",
    "    # So swapping the first vector of axis 1 for first vector of axis 2\n",
    "    # 2nd vector of axis 1 for second vector of axis 2\n",
    "    # For axis 1 and axis 2, the first vector is the same\n",
    "    # The degeneracies will be different for other axes\n",
    "\n",
    "Swapaxes\n",
    "    - a special case of transposing, only specify 2 axes\n",
    "    and the rest are assumed to remain in the same place\n",
    "\n",
    "Universal Functions\n",
    "    - element-wise array functions. See list in table 4-4.\n",
    "\n",
    "\"\"\"\n",
    "import numpy as np"
   ]
  },
  {
   "cell_type": "code",
   "execution_count": 3,
   "metadata": {
    "collapsed": false
   },
   "outputs": [
    {
     "data": {
      "text/plain": [
       "array([[ 1.9052, -0.492 , -1.7712],\n",
       "       [ 1.1278,  0.4758,  1.8208]])"
      ]
     },
     "execution_count": 3,
     "metadata": {},
     "output_type": "execute_result"
    }
   ],
   "source": [
    "# Manipulation of np.arrays element-by-element\n",
    "data = np.array([[ 0.9526, -0.246 , -0.8856], [ 0.5639, 0.2379, 0.9104]])\n",
    "data\n",
    "data*10\n",
    "data + data"
   ]
  },
  {
   "cell_type": "code",
   "execution_count": 4,
   "metadata": {
    "collapsed": false
   },
   "outputs": [
    {
     "data": {
      "text/plain": [
       "(2, 3)"
      ]
     },
     "execution_count": 4,
     "metadata": {},
     "output_type": "execute_result"
    }
   ],
   "source": [
    "# Lots of builtin methods on the np.array objects\n",
    "data.shape\n",
    "#data.dtype"
   ]
  },
  {
   "cell_type": "code",
   "execution_count": 5,
   "metadata": {
    "collapsed": false
   },
   "outputs": [
    {
     "data": {
      "text/plain": [
       "array([ 6. ,  7.5,  8. ,  0. ,  1. ])"
      ]
     },
     "execution_count": 5,
     "metadata": {},
     "output_type": "execute_result"
    }
   ],
   "source": [
    "\"\"\"Recipes for creating ndarrays\"\"\"\n",
    "# Start with data, for example a list\n",
    "data1 = [6, 7.5, 8, 0, 1]\n",
    "# It will get converted into an array\n",
    "arr1 = np.array(data1)\n",
    "arr1"
   ]
  },
  {
   "cell_type": "code",
   "execution_count": 6,
   "metadata": {
    "collapsed": false
   },
   "outputs": [
    {
     "data": {
      "text/plain": [
       "array([[1, 2, 3, 4],\n",
       "       [5, 6, 7, 8]])"
      ]
     },
     "execution_count": 6,
     "metadata": {},
     "output_type": "execute_result"
    }
   ],
   "source": [
    "# Nested sequences will be converted into a multidimensional array\n",
    "# Note the output of a np array is different than of a normal python array\n",
    "data2 = [[1,2,3,4],[5,6,7,8]]\n",
    "arr2 = np.array(data2)\n",
    "arr2\n",
    "#arr2.ndim\n",
    "#arr2.shape"
   ]
  },
  {
   "cell_type": "code",
   "execution_count": 7,
   "metadata": {
    "collapsed": false
   },
   "outputs": [
    {
     "data": {
      "text/plain": [
       "array([ 0,  1,  2,  3,  4,  5,  6,  7,  8,  9, 10, 11, 12, 13, 14])"
      ]
     },
     "execution_count": 7,
     "metadata": {},
     "output_type": "execute_result"
    }
   ],
   "source": [
    "\n",
    "# Can automatically shape and populate arrays with some specific variables\n",
    "# An array full of zeros with length 10\n",
    "np.zeros(10)\n",
    "\n",
    "# An array full of zeros with 3 x 6 (3 rows by 6 columns)\n",
    "np.zeros((3,6))\n",
    "\n",
    "# An empty 3-dimensional array of 2 x 3 x 2.  Visualized as 2 distinct 3 x 2 arrays.\n",
    "# EMPTY DOES NOT EQUAL ZEROS.  USUALLY VERY SMALL GARBAGE VALUES.\n",
    "np.empty((2,3,2))\n",
    "\n",
    "# np.arange(n) gets an arrage of length n with intetegers going from 0 to n-1\n",
    "np.arange(15)\n"
   ]
  },
  {
   "cell_type": "code",
   "execution_count": 8,
   "metadata": {
    "collapsed": false
   },
   "outputs": [
    {
     "data": {
      "text/plain": [
       "array([  1.025,  -9.6  ,  42.   ])"
      ]
     },
     "execution_count": 8,
     "metadata": {},
     "output_type": "execute_result"
    }
   ],
   "source": [
    "\"\"\"Data type manipulation is easy and usually important to get right\"\"\"\n",
    "# Force ints to act like floats\n",
    "arr = np.array([1,2,3,4,5])\n",
    "arr.dtype # returns dtype('int64')\n",
    "float_arr = arr.astype(np.float64)\n",
    "float_arr.dtype #returns dtype('float64')\n",
    "\n",
    "# Casting a float to an int will truncate the decimal part\n",
    "# Can cast strings to numbers similarly.  \n",
    "np.array(['1.025','-9.6','42']).astype(float) # float will automatically get turned into float64 YAY PYTHON"
   ]
  },
  {
   "cell_type": "code",
   "execution_count": null,
   "metadata": {
    "collapsed": true
   },
   "outputs": [],
   "source": []
  },
  {
   "cell_type": "code",
   "execution_count": 9,
   "metadata": {
    "collapsed": false
   },
   "outputs": [
    {
     "data": {
      "text/plain": [
       "array([[ 1.        ,  0.5       ,  0.33333333],\n",
       "       [ 0.25      ,  0.2       ,  0.16666667]])"
      ]
     },
     "execution_count": 9,
     "metadata": {},
     "output_type": "execute_result"
    }
   ],
   "source": [
    "\"\"\"Scalar and Vector operations\"\"\"\n",
    "\n",
    "arr = np.array([[1., 2., 3.], [4., 5., 6.]])\n",
    "\n",
    "# Operations are understood to be element-by-element when arrays are equally sized \n",
    "arr * arr\n",
    "arr - arr\n",
    "# Scalar operations are also element-by-element\n",
    "3*arr\n",
    "1/arr\n",
    "\n",
    "# Operations between differently sized arrays is called \"broadcasting\" and will be discussed in more detail later"
   ]
  },
  {
   "cell_type": "code",
   "execution_count": 10,
   "metadata": {
    "collapsed": false
   },
   "outputs": [
    {
     "data": {
      "text/plain": [
       "array([ 0,  1,  2,  3,  4, 12, 12, 12,  8,  9])"
      ]
     },
     "execution_count": 10,
     "metadata": {},
     "output_type": "execute_result"
    }
   ],
   "source": [
    "\"\"\"Basic Indexing and Slicing\"\"\"\n",
    "\n",
    "arr = np.arange(10)\n",
    "arr\n",
    "arr[0] # returns 0. 0-indexed\n",
    "arr[5] # returns 5.  still 0-indexed\n",
    "arr[5:8] # returns 5,6,7.  still 0-indexed but Python always uses the end of a range as a \"less than\"\n",
    "arr[5:8] = 12 # 'Broadcast' of value to positions, 5,6,7\n",
    "arr"
   ]
  },
  {
   "cell_type": "code",
   "execution_count": 11,
   "metadata": {
    "collapsed": false
   },
   "outputs": [
    {
     "data": {
      "text/plain": [
       "array([    0,     1,     2,     3,     4,    12, 12345,    12,     8,     9])"
      ]
     },
     "execution_count": 11,
     "metadata": {},
     "output_type": "execute_result"
    }
   ],
   "source": [
    "# Array slices are views on the original array, even if pointed to by a different variable\n",
    "arr_slice = arr[5:8]\n",
    "arr_slice[1] = 12345 # Location 6 in arr is changed because arr_slice[1] refers to arr[6]\n",
    "arr\n",
    "# BE CAREFUL WITH THIS."
   ]
  },
  {
   "cell_type": "code",
   "execution_count": 12,
   "metadata": {
    "collapsed": false
   },
   "outputs": [
    {
     "data": {
      "text/plain": [
       "array([    0,     1,     2,     3,     4,    12, 12345,    12,     8,     9])"
      ]
     },
     "execution_count": 12,
     "metadata": {},
     "output_type": "execute_result"
    }
   ],
   "source": [
    "# Data must be explicitly copied\n",
    "my_totally_new_arry = arr[5:8].copy()\n",
    "my_totally_new_arry[0] = 11111\n",
    "arr # we do not see 1111 in index 5 of the original array"
   ]
  },
  {
   "cell_type": "code",
   "execution_count": 13,
   "metadata": {
    "collapsed": false
   },
   "outputs": [
    {
     "data": {
      "text/plain": [
       "3"
      ]
     },
     "execution_count": 13,
     "metadata": {},
     "output_type": "execute_result"
    }
   ],
   "source": [
    "\"\"\"First look at Array Axes, Slicing, Indexing, Copying\"\"\"\n",
    "\n",
    "# 2 dimensional arrays work like you'd expect - reference with row #, col # pairs\n",
    "arr2d = np.array([[1,2,3], [4,5,6], [7,8,9]])\n",
    "arr2d[2] # The result is an array\n",
    "arr2d[0][2] # gives same as arr2d[0,2]\n",
    "arr2d[0,2]  # gives same as arr2d[0][2]\n",
    "# arr2d[axis 0 reference, axis 1 reference].  each axis is 0-indexed\n",
    "#arr2d"
   ]
  },
  {
   "cell_type": "code",
   "execution_count": 14,
   "metadata": {
    "collapsed": false
   },
   "outputs": [
    {
     "data": {
      "text/plain": [
       "array([[[ 1,  2,  3],\n",
       "        [ 4,  5,  6]],\n",
       "\n",
       "       [[ 7,  8,  9],\n",
       "        [10, 11, 12]]])"
      ]
     },
     "execution_count": 14,
     "metadata": {},
     "output_type": "execute_result"
    }
   ],
   "source": [
    "# Similarly for higher dimensional arrays.\n",
    "# Referencing fewer than all the dimensions returns a lower-dimensional ('flattened') array\n",
    "arr3d = np.array([[[1,2,3],[4,5,6]],[[7,8,9],[10,11,12]]])\n",
    "arr3d\n",
    "#arr3d[0] # Returns a 2-dimensional array: the 2 x 3 array at the 0th location.  \n",
    "#arr3d[1,0] # Returns a 1-dimensional array: the 1 x 3 array at the (1,0) location"
   ]
  },
  {
   "cell_type": "code",
   "execution_count": 16,
   "metadata": {
    "collapsed": false
   },
   "outputs": [
    {
     "data": {
      "text/plain": [
       "array([[1],\n",
       "       [4],\n",
       "       [7]])"
      ]
     },
     "execution_count": 16,
     "metadata": {},
     "output_type": "execute_result"
    }
   ],
   "source": [
    "# Indexing with Slices\n",
    "arr2d\n",
    "arr2d[:2]  # Tells this to slice at the 0th axes (i.e. rows) up to (but not including) row 2 \n",
    "arr2d[:2, 1:] # Tell this to slice along axis 0 up to row index 2 and from axis 1 frin column index 1 onward\n",
    "    # So it's row index 0 and 1 and column index 1 and 2\n",
    "arr2d[2, :1] # This is row index 2 and column index 0 (column index up to and not included 1, so just 0)\n",
    "arr2d[:,:1]  # : is shorthand for all rows.  So this is all rows, 0th column\n",
    "# Note that So [:b] = [0:b]\n",
    "# Recall that [a:b] means \"start at a and go less than b\", so x in [a,b).  \n",
    "#arr2d"
   ]
  },
  {
   "cell_type": "code",
   "execution_count": 19,
   "metadata": {
    "collapsed": false
   },
   "outputs": [
    {
     "name": "stdout",
     "output_type": "stream",
     "text": [
      "['Bob' 'Joe' 'Will' 'Bob' 'Will' 'Joe' 'Joe']\n",
      "[[-0.3667337  -0.30384711  0.81987038 -1.50031975]\n",
      " [ 1.16697602  0.14797841 -0.16701052  0.09072371]\n",
      " [ 1.89559388 -1.10008376  0.53022409  1.14973091]\n",
      " [ 0.05734757  0.60341113  0.26391315  1.84556477]\n",
      " [-1.69466324 -0.65083775 -0.48851109  0.5228271 ]\n",
      " [-1.28888206  0.86161009 -1.11555431  0.49102673]\n",
      " [ 0.09271036 -0.7535076  -0.90264062 -1.10175603]]\n"
     ]
    }
   ],
   "source": [
    "\"\"\"Boolean Indexing and using in assignment\"\"\"\n",
    "names = np.array(['Bob','Joe','Will','Bob','Will','Joe','Joe'])\n",
    "data = np.random.randn(7,4) # a random array 7 x 4\n",
    "print names\n",
    "print data"
   ]
  },
  {
   "cell_type": "code",
   "execution_count": 58,
   "metadata": {
    "collapsed": false
   },
   "outputs": [
    {
     "data": {
      "text/plain": [
       "array([[-1.44524629, -1.42169795],\n",
       "       [ 1.28394132,  0.19452311]])"
      ]
     },
     "execution_count": 58,
     "metadata": {},
     "output_type": "execute_result"
    }
   ],
   "source": [
    "# Matching strings\n",
    "names == 'Bob' # comparing each element of names to the string 'Bob'\n",
    "data[names == 'Bob'] \n",
    "    # gives the value of data at index 0 and index 3.\n",
    "    # Those indices are understood to be the row axis (axis 0) because only 1 axis is given.\n",
    "    # Mixing and matching two arrays like this only works because of dimension agreement\n",
    "data[names == 'Bob',2:]"
   ]
  },
  {
   "cell_type": "code",
   "execution_count": 22,
   "metadata": {
    "collapsed": false
   },
   "outputs": [
    {
     "data": {
      "text/plain": [
       "array([[ 1.16697602,  0.14797841, -0.16701052,  0.09072371],\n",
       "       [ 1.89559388, -1.10008376,  0.53022409,  1.14973091],\n",
       "       [-1.69466324, -0.65083775, -0.48851109,  0.5228271 ],\n",
       "       [-1.28888206,  0.86161009, -1.11555431,  0.49102673],\n",
       "       [ 0.09271036, -0.7535076 , -0.90264062, -1.10175603]])"
      ]
     },
     "execution_count": 22,
     "metadata": {},
     "output_type": "execute_result"
    }
   ],
   "source": [
    "# Negation and matching\n",
    "data[names != 'Bob']\n",
    "data[~(names == 'Bob')] # ~ on a == and != return the same thing in this case but ~ is more general"
   ]
  },
  {
   "cell_type": "code",
   "execution_count": 25,
   "metadata": {
    "collapsed": false
   },
   "outputs": [
    {
     "data": {
      "text/plain": [
       "array([[ 0.        ,  0.        ,  0.81987038,  0.        ],\n",
       "       [ 1.89559388,  0.        ,  0.53022409,  1.14973091],\n",
       "       [ 0.05734757,  0.60341113,  0.26391315,  1.84556477],\n",
       "       [ 0.        ,  0.        ,  0.        ,  0.5228271 ]])"
      ]
     },
     "execution_count": 25,
     "metadata": {},
     "output_type": "execute_result"
    }
   ],
   "source": [
    "# Other Boolean operators and matching\n",
    "mask = (names == 'Bob') | (names == 'Will')\n",
    "data[mask]"
   ]
  },
  {
   "cell_type": "code",
   "execution_count": 26,
   "metadata": {
    "collapsed": false
   },
   "outputs": [
    {
     "data": {
      "text/plain": [
       "array([[ 0.        ,  0.        ,  0.81987038,  0.        ],\n",
       "       [ 1.16697602,  0.14797841,  0.        ,  0.09072371],\n",
       "       [ 1.89559388,  0.        ,  0.53022409,  1.14973091],\n",
       "       [ 0.05734757,  0.60341113,  0.26391315,  1.84556477],\n",
       "       [ 0.        ,  0.        ,  0.        ,  0.5228271 ],\n",
       "       [ 0.        ,  0.86161009,  0.        ,  0.49102673],\n",
       "       [ 0.09271036,  0.        ,  0.        ,  0.        ]])"
      ]
     },
     "execution_count": 26,
     "metadata": {},
     "output_type": "execute_result"
    }
   ],
   "source": [
    "# Using Boolean operators in assignments\n",
    "data[data < 0] = 0\n",
    "data"
   ]
  },
  {
   "cell_type": "code",
   "execution_count": 28,
   "metadata": {
    "collapsed": false,
    "scrolled": true
   },
   "outputs": [
    {
     "data": {
      "text/plain": [
       "array([[ 0.,  0.,  0.,  0.],\n",
       "       [ 1.,  1.,  1.,  1.],\n",
       "       [ 2.,  2.,  2.,  2.],\n",
       "       [ 3.,  3.,  3.,  3.],\n",
       "       [ 4.,  4.,  4.,  4.],\n",
       "       [ 5.,  5.,  5.,  5.],\n",
       "       [ 6.,  6.,  6.,  6.],\n",
       "       [ 7.,  7.,  7.,  7.]])"
      ]
     },
     "execution_count": 28,
     "metadata": {},
     "output_type": "execute_result"
    }
   ],
   "source": [
    "\"\"\"Fancy Indexing -- Indexing using iteger arays\n",
    "It copies rows into a new array\"\"\"\n",
    "arr = np.empty((8,4))\n",
    "for i in range(8):\n",
    "    arr[i] = i\n",
    "arr"
   ]
  },
  {
   "cell_type": "code",
   "execution_count": 31,
   "metadata": {
    "collapsed": false
   },
   "outputs": [
    {
     "data": {
      "text/plain": [
       "array([[16, 17, 18, 19],\n",
       "       [12, 13, 14, 15],\n",
       "       [ 0,  1,  2,  3],\n",
       "       [24, 25, 26, 27]])"
      ]
     },
     "execution_count": 31,
     "metadata": {},
     "output_type": "execute_result"
    }
   ],
   "source": [
    "arr[[4,3,0,6]] # Pass a list or ndarray of integers specifying the rows we want in order\n",
    "    # So the expected output of the above is the arrays at axes 0 indices 4,3,0,6 in that order\n",
    "    # It works!"
   ]
  },
  {
   "cell_type": "code",
   "execution_count": 66,
   "metadata": {
    "collapsed": false
   },
   "outputs": [
    {
     "data": {
      "text/plain": [
       "array([ 4, 23, 29, 10])"
      ]
     },
     "execution_count": 66,
     "metadata": {},
     "output_type": "execute_result"
    }
   ],
   "source": [
    "# Fancy indexing with multiple index arrays\n",
    "arr = np.arange(32).reshape((8,4)) # array that goes (0,1,2,3 \\n, 4,5,6,7)\n",
    "arr[[1,5,7,2], [0,3,1,2]]     \n",
    "    # It pulls values at pairs (1,0) (5,3) (7,1) (2,2)"
   ]
  },
  {
   "cell_type": "code",
   "execution_count": 67,
   "metadata": {
    "collapsed": false
   },
   "outputs": [
    {
     "data": {
      "text/plain": [
       "array([[ 4,  7,  5,  6],\n",
       "       [20, 23, 21, 22],\n",
       "       [28, 31, 29, 30],\n",
       "       [ 8, 11,  9, 10]])"
      ]
     },
     "execution_count": 67,
     "metadata": {},
     "output_type": "execute_result"
    }
   ],
   "source": [
    "arr[[1,5,7,2]][:, [0,3,1,2]]\n",
    "    # Here we're saying we want all rows at indices 1,5,7,2 and cols at indices 0,3,1,2\n",
    "    # So the result is a matrix as opposed to single vector"
   ]
  },
  {
   "cell_type": "code",
   "execution_count": 34,
   "metadata": {
    "collapsed": false
   },
   "outputs": [
    {
     "data": {
      "text/plain": [
       "array([[ 0,  5, 10],\n",
       "       [ 1,  6, 11],\n",
       "       [ 2,  7, 12],\n",
       "       [ 3,  8, 13],\n",
       "       [ 4,  9, 14]])"
      ]
     },
     "execution_count": 34,
     "metadata": {},
     "output_type": "execute_result"
    }
   ],
   "source": [
    "\"\"\"Transposing Arrays and Swapping Axes\"\"\"\n",
    "\n",
    "# Defining an array by its number of elements and shape\n",
    "arr = np.arange( 15).reshape(( 3, 5))\n",
    "arr\n",
    "arr.T # Turns the 3x5 matrix into a 5x3 matrix"
   ]
  },
  {
   "cell_type": "code",
   "execution_count": 37,
   "metadata": {
    "collapsed": false
   },
   "outputs": [
    {
     "data": {
      "text/plain": [
       "array([[495, 540, 585],\n",
       "       [540, 591, 642],\n",
       "       [585, 642, 699]])"
      ]
     },
     "execution_count": 37,
     "metadata": {},
     "output_type": "execute_result"
    }
   ],
   "source": [
    "# Two-dimensional transposing and taking inner product\n",
    "arr = np.arange( 18). reshape(( 6, 3))\n",
    "np.dot(arr.T, arr) # (3 x 6) X (6 x 3) - leads to a 3 x 3 matrix"
   ]
  },
  {
   "cell_type": "code",
   "execution_count": 69,
   "metadata": {
    "collapsed": false,
    "scrolled": true
   },
   "outputs": [
    {
     "name": "stdout",
     "output_type": "stream",
     "text": [
      "[[[ 0  1  2  3]\n",
      "  [ 4  5  6  7]]\n",
      "\n",
      " [[ 8  9 10 11]\n",
      "  [12 13 14 15]]]\n"
     ]
    },
    {
     "data": {
      "text/plain": [
       "array([[[ 0,  1,  2,  3],\n",
       "        [ 8,  9, 10, 11]],\n",
       "\n",
       "       [[ 4,  5,  6,  7],\n",
       "        [12, 13, 14, 15]]])"
      ]
     },
     "execution_count": 69,
     "metadata": {},
     "output_type": "execute_result"
    }
   ],
   "source": [
    "\"\"\"Transposing\"\"\"\n",
    "# Higher order transposing (axis permutation)\n",
    "arr = np.arange(16).reshape((2,2,4)) # a 3 dimensional array, shown as stacked 2 dimensional arrays\n",
    "print arr\n",
    "arr.transpose((1,0,2)) # This is saying to swap axis 1 into 0, 0 into 1, and leave 2-->2"
   ]
  },
  {
   "cell_type": "code",
   "execution_count": 61,
   "metadata": {
    "collapsed": false
   },
   "outputs": [
    {
     "name": "stdout",
     "output_type": "stream",
     "text": [
      "[[0 1 2]\n",
      " [3 4 5]\n",
      " [6 7 8]]\n"
     ]
    },
    {
     "data": {
      "text/plain": [
       "array([[0, 3, 6],\n",
       "       [1, 4, 7],\n",
       "       [2, 5, 8]])"
      ]
     },
     "execution_count": 61,
     "metadata": {},
     "output_type": "execute_result"
    }
   ],
   "source": [
    "arr = np.arange(9).reshape((3,3))\n",
    "print arr\n",
    "arr.transpose((1,0))"
   ]
  },
  {
   "cell_type": "code",
   "execution_count": 77,
   "metadata": {
    "collapsed": false
   },
   "outputs": [
    {
     "name": "stdout",
     "output_type": "stream",
     "text": [
      "[[[ 0  1  2]\n",
      "  [ 3  4  5]\n",
      "  [ 6  7  8]]\n",
      "\n",
      " [[ 9 10 11]\n",
      "  [12 13 14]\n",
      "  [15 16 17]]\n",
      "\n",
      " [[18 19 20]\n",
      "  [21 22 23]\n",
      "  [24 25 26]]]\n"
     ]
    },
    {
     "data": {
      "text/plain": [
       "array([[[ 0,  1,  2],\n",
       "        [ 9, 10, 11],\n",
       "        [18, 19, 20]],\n",
       "\n",
       "       [[ 3,  4,  5],\n",
       "        [12, 13, 14],\n",
       "        [21, 22, 23]],\n",
       "\n",
       "       [[ 6,  7,  8],\n",
       "        [15, 16, 17],\n",
       "        [24, 25, 26]]])"
      ]
     },
     "execution_count": 77,
     "metadata": {},
     "output_type": "execute_result"
    }
   ],
   "source": [
    "arr = np.arange(27).reshape((3,3,3))\n",
    "print arr\n",
    "arr.transpose((1,0,2))\n",
    "# The first vector of axis 1 is swapped with the first vector of axis 2\n",
    "# But those vectors are the same thing so no swap.\n",
    "# Then the second vector of axis 1 with second vector of axis 2\n",
    "## (3,4,5) swaps places with (9,10,11).  \n",
    "## Continuing, (6,7,8) swaps places with (18,19,20)\n",
    "## Can use "
   ]
  },
  {
   "cell_type": "code",
   "execution_count": 90,
   "metadata": {
    "collapsed": false
   },
   "outputs": [
    {
     "name": "stdout",
     "output_type": "stream",
     "text": [
      "[[[ 0  1  2  3]\n",
      "  [ 4  5  6  7]]\n",
      "\n",
      " [[ 8  9 10 11]\n",
      "  [12 13 14 15]]]\n"
     ]
    },
    {
     "data": {
      "text/plain": [
       "array([[[ 0,  4],\n",
       "        [ 1,  5],\n",
       "        [ 2,  6],\n",
       "        [ 3,  7]],\n",
       "\n",
       "       [[ 8, 12],\n",
       "        [ 9, 13],\n",
       "        [10, 14],\n",
       "        [11, 15]]])"
      ]
     },
     "execution_count": 90,
     "metadata": {},
     "output_type": "execute_result"
    }
   ],
   "source": [
    "# For swapping individual axes without specifying full transposition\n",
    "# swapaxes() \n",
    "arr = np.arange(16).reshape((2,2,4))\n",
    "    # a 3 dimensional array, shown as stacked 2 dimensional arrays\n",
    "print arr\n",
    "#print arr.transpose(1,0,2)\n",
    "arr.swapaxes(1,0) == arr.transpose(1,0,2) # Values are True\n",
    "arr.swapaxes(1,2)"
   ]
  },
  {
   "cell_type": "code",
   "execution_count": 94,
   "metadata": {
    "collapsed": false
   },
   "outputs": [
    {
     "data": {
      "text/plain": [
       "array([ 0.        ,  1.        ,  1.41421356,  1.73205081,  2.        ,\n",
       "        2.23606798,  2.44948974,  2.64575131,  2.82842712,  3.        ])"
      ]
     },
     "execution_count": 94,
     "metadata": {},
     "output_type": "execute_result"
    }
   ],
   "source": [
    "\"\"\"Universal Functions: Fast Element-wise array functions\"\"\"\n",
    "arr = np.arange(10)\n",
    "\n",
    "# 'Unary' ufuncs take just one value\n",
    "np.sqrt(arr)"
   ]
  },
  {
   "cell_type": "code",
   "execution_count": 98,
   "metadata": {
    "collapsed": false
   },
   "outputs": [
    {
     "data": {
      "text/plain": [
       "array([  1.00000000e+00,   2.71828183e+00,   7.38905610e+00,\n",
       "         2.00855369e+01,   5.45981500e+01,   1.48413159e+02,\n",
       "         4.03428793e+02,   1.09663316e+03,   2.98095799e+03,\n",
       "         8.10308393e+03])"
      ]
     },
     "execution_count": 98,
     "metadata": {},
     "output_type": "execute_result"
    }
   ],
   "source": [
    "arr = np.arange(10)\n",
    "np.exp(arr)"
   ]
  },
  {
   "cell_type": "code",
   "execution_count": 102,
   "metadata": {
    "collapsed": false
   },
   "outputs": [
    {
     "data": {
      "text/plain": [
       "array([ 1.14999474,  0.12337802,  2.60176596, -1.2520075 ,  0.85793551,\n",
       "        0.22029581,  0.51542324,  0.8892236 ])"
      ]
     },
     "execution_count": 102,
     "metadata": {},
     "output_type": "execute_result"
    }
   ],
   "source": [
    "#Binary ufuncs take two arrays as inputs and return 1\n",
    "x = np.random.randn(8)\n",
    "y = np.random.randn(8)\n",
    "np.maximum(x, y)\n",
    "    # Output is an array with the maximum pair-wise comparison\n"
   ]
  },
  {
   "cell_type": "code",
   "execution_count": 124,
   "metadata": {
    "collapsed": false
   },
   "outputs": [
    {
     "data": {
      "text/plain": [
       "(array([ 0.76713501, -0.8079204 ,  0.02544665, -0.38062957, -0.62481356]),\n",
       " array([ 0., -0.,  1., -1., -0.]))"
      ]
     },
     "execution_count": 124,
     "metadata": {},
     "output_type": "execute_result"
    }
   ],
   "source": [
    "#Ufuncs can return multiple arrays\n",
    "#modf returns the integer and decomal part of floats in an array\n",
    "arr = np.random.randn(5)\n",
    "np.modf(arr)"
   ]
  },
  {
   "cell_type": "code",
   "execution_count": null,
   "metadata": {
    "collapsed": true
   },
   "outputs": [],
   "source": []
  },
  {
   "cell_type": "code",
   "execution_count": 139,
   "metadata": {
    "collapsed": false
   },
   "outputs": [
    {
     "data": {
      "text/plain": [
       "<matplotlib.text.Text at 0x11ed57bd0>"
      ]
     },
     "execution_count": 139,
     "metadata": {},
     "output_type": "execute_result"
    },
    {
     "data": {
      "image/png": "[encoded data removed]",
      "text/plain": [
       "<matplotlib.figure.Figure at 0x122607610>"
      ]
     },
     "metadata": {},
     "output_type": "display_data"
    }
   ],
   "source": [
    "\"\"\"Data Processing Using Arrays\"\"\"\n",
    "points = np.arange(-5, 5, 0.01) # 1000 points linearly spaced\n",
    "xs, ys = np.meshgrid(points, points)\n",
    "\n",
    "import matplotlib.pyplot as plt\n",
    "%matplotlib inline\n",
    "z = np.sqrt(xs ** 2 + ys ** 2)\n",
    "plt.imshow(z, cmap=plt.cm.gray)\n",
    "plt.colorbar()\n",
    "plt.title(\"Image plot of $\\sqrt{x^2 + y^2}$ for a grid of values\")"
   ]
  },
  {
   "cell_type": "code",
   "execution_count": 164,
   "metadata": {
    "collapsed": false
   },
   "outputs": [],
   "source": [
    "\"\"\"Expressing Conditional Logic as Array Operations\"\"\"\n",
    "xarr = np.arange(1.1, 1.6, 0.1)\n",
    "yarr = np.arange(2.1, 2.6, 0.1)\n",
    "cond = np.array([True, False, True, True, False])"
   ]
  },
  {
   "cell_type": "code",
   "execution_count": 165,
   "metadata": {
    "collapsed": false
   },
   "outputs": [
    {
     "data": {
      "text/plain": [
       "[1.1000000000000001,\n",
       " 2.2000000000000002,\n",
       " 1.3000000000000003,\n",
       " 1.4000000000000004,\n",
       " 2.5000000000000004]"
      ]
     },
     "execution_count": 165,
     "metadata": {},
     "output_type": "execute_result"
    }
   ],
   "source": [
    "# List comprehension approach\n",
    "result = [(x if c else y) for x, y, c in zip(xarr, yarr, cond)]\n",
    "result\n",
    "# THIS IS A BAD APPROACH\n",
    "# Slow because doesn't use NP's optimized operations\n",
    "# Zip doesn't generalize to multidimensional arrays"
   ]
  },
  {
   "cell_type": "code",
   "execution_count": 169,
   "metadata": {
    "collapsed": false
   },
   "outputs": [
    {
     "data": {
      "text/plain": [
       "array([ 1.1,  2.2,  1.3,  1.4,  2.5])"
      ]
     },
     "execution_count": 169,
     "metadata": {},
     "output_type": "execute_result"
    }
   ],
   "source": [
    "# Numpy \"where\" approach - much faster\n",
    "result = np.where(cond, xarr, yarr)\n",
    "result"
   ]
  },
  {
   "cell_type": "code",
   "execution_count": 170,
   "metadata": {
    "collapsed": false
   },
   "outputs": [
    {
     "data": {
      "text/plain": [
       "array(['1.1', 'nope', '1.3', '1.4', 'nope'], \n",
       "      dtype='|S32')"
      ]
     },
     "execution_count": 170,
     "metadata": {},
     "output_type": "execute_result"
    }
   ],
   "source": [
    "# xarr and yarr don't need to be array\n",
    "# 1 can be an array and the other a scalar\n",
    "result = np.where(cond, xarr, \"nope\")\n",
    "result"
   ]
  },
  {
   "cell_type": "code",
   "execution_count": 178,
   "metadata": {
    "collapsed": false
   },
   "outputs": [
    {
     "data": {
      "text/plain": [
       "array([['1.29018452385', '1.25975906788', '0.986456531317', '1.78882670499'],\n",
       "       ['0.0602830816503', '0.963244189255', '1.2601403008', 'pos'],\n",
       "       ['0.997207676885', 'pos', 'pos', '1.18348098365'],\n",
       "       ['pos', 'pos', 'pos', 'pos']], \n",
       "      dtype='|S32')"
      ]
     },
     "execution_count": 178,
     "metadata": {},
     "output_type": "execute_result"
    }
   ],
   "source": [
    "# Another example with where - replacing with scalars\n",
    "arr = np.random.randn(4, 4) # 4 numbers per array, 4 arrays\n",
    "#arr\n",
    "result = np.where(arr < 0, 2, -2)\n",
    "result"
   ]
  },
  {
   "cell_type": "code",
   "execution_count": 179,
   "metadata": {
    "collapsed": false
   },
   "outputs": [
    {
     "data": {
      "text/plain": [
       "array([[-0.5440826 , -0.34377579, -1.67806867, -1.32544144],\n",
       "       [-0.21988716, -1.04968869, -0.41889077, -0.25470647],\n",
       "       [-0.28716787, -1.38178301, -0.71527872, -2.        ],\n",
       "       [-0.10342649, -0.39172657, -0.31174678, -1.76731038]])"
      ]
     },
     "execution_count": 179,
     "metadata": {},
     "output_type": "execute_result"
    }
   ],
   "source": [
    "# Another example with where\n",
    "# - replacing with original array with array is positive\n",
    "arr = np.random.randn(4, 4) # 4 numbers per array, 4 arrays\n",
    "result = np.where(arr < 0, arr, -2)\n",
    "result"
   ]
  },
  {
   "cell_type": "code",
   "execution_count": 180,
   "metadata": {
    "collapsed": false
   },
   "outputs": [
    {
     "data": {
      "text/plain": [
       "' Always think how to use where instead of for loops\\nNesting where() expressions can be powerful\\n'"
      ]
     },
     "execution_count": 180,
     "metadata": {},
     "output_type": "execute_result"
    }
   ],
   "source": [
    "\"\"\" Always think how to use where instead of for loops\n",
    "Nesting where() expressions can be powerful\n",
    "\"\"\""
   ]
  },
  {
   "cell_type": "code",
   "execution_count": 181,
   "metadata": {
    "collapsed": true
   },
   "outputs": [],
   "source": []
  },
  {
   "cell_type": "code",
   "execution_count": 192,
   "metadata": {
    "collapsed": false
   },
   "outputs": [
    {
     "data": {
      "text/plain": [
       "array([[ 1.99333488,  0.04136674,  0.26629819, -1.63786069],\n",
       "       [-0.10902358, -0.83663286,  1.8306482 ,  1.13460068],\n",
       "       [ 3.43841781, -0.11397898, -1.37338493, -0.25977642],\n",
       "       [ 1.385994  , -0.50482934,  1.19819993,  0.62794538],\n",
       "       [ 0.76889922, -0.25737079, -0.74536867,  1.5372067 ]])"
      ]
     },
     "execution_count": 192,
     "metadata": {},
     "output_type": "execute_result"
    }
   ],
   "source": [
    "\"\"\"Mathematical and Statistical methods\"\"\"\n",
    "arr = np.random.randn(5,4) # normally-distributed data\n",
    "arr"
   ]
  },
  {
   "cell_type": "code",
   "execution_count": 187,
   "metadata": {
    "collapsed": false
   },
   "outputs": [
    {
     "data": {
      "text/plain": [
       "-0.19827523942192099"
      ]
     },
     "execution_count": 187,
     "metadata": {},
     "output_type": "execute_result"
    }
   ],
   "source": [
    "# Equivalent methods of calling an np function\n",
    "arr.mean()\n",
    "np.mean(arr)"
   ]
  },
  {
   "cell_type": "code",
   "execution_count": 188,
   "metadata": {
    "collapsed": false
   },
   "outputs": [
    {
     "data": {
      "text/plain": [
       "-3.96550478843842"
      ]
     },
     "execution_count": 188,
     "metadata": {},
     "output_type": "execute_result"
    }
   ],
   "source": [
    "arr.sum()\n",
    "np.sum(arr)"
   ]
  },
  {
   "cell_type": "code",
   "execution_count": 197,
   "metadata": {
    "collapsed": false
   },
   "outputs": [
    {
     "data": {
      "text/plain": [
       "array([ 0.16578478,  0.50489811,  0.42281937,  0.67682749,  0.32584162])"
      ]
     },
     "execution_count": 197,
     "metadata": {},
     "output_type": "execute_result"
    }
   ],
   "source": [
    "# Specifying an axis will compute only along that axis\n",
    "# axis = 0 means make a vector out of nth value in each array\n",
    "# axis = 1 means average each vector in order and insert result\n",
    "# in order into a vector with the other results\n",
    "arr.mean(axis=1)"
   ]
  },
  {
   "cell_type": "code",
   "execution_count": 202,
   "metadata": {
    "collapsed": false
   },
   "outputs": [
    {
     "data": {
      "text/plain": [
       "array([ 7.47762233, -1.67144523,  1.17639273,  1.40211566])"
      ]
     },
     "execution_count": 202,
     "metadata": {},
     "output_type": "execute_result"
    }
   ],
   "source": [
    "arr.sum(axis=0)"
   ]
  },
  {
   "cell_type": "code",
   "execution_count": 204,
   "metadata": {
    "collapsed": false
   },
   "outputs": [
    {
     "data": {
      "text/plain": [
       "array([ 1.99333488,  2.03470162,  2.30099982,  0.66313913,  0.55411555,\n",
       "       -0.28251731,  1.54813089,  2.68273157,  6.12114938,  6.0071704 ,\n",
       "        4.63378547,  4.37400905,  5.76000306,  5.25517371,  6.45337364,\n",
       "        7.08131902,  7.85021824,  7.59284745,  6.84747878,  8.38468548])"
      ]
     },
     "execution_count": 204,
     "metadata": {},
     "output_type": "execute_result"
    }
   ],
   "source": [
    "np.cumsum(arr) # cumsum() and cumprod() result in arrays\n",
    "    # where nth element is sum of elements [0,n]"
   ]
  },
  {
   "cell_type": "code",
   "execution_count": null,
   "metadata": {
    "collapsed": true
   },
   "outputs": [],
   "source": [
    "\"\"\"Boolean Arrays - coerced to 0 & 1 by np functions\"\"\""
   ]
  },
  {
   "cell_type": "code",
   "execution_count": 213,
   "metadata": {
    "collapsed": false
   },
   "outputs": [
    {
     "data": {
      "text/plain": [
       "60"
      ]
     },
     "execution_count": 213,
     "metadata": {},
     "output_type": "execute_result"
    }
   ],
   "source": [
    "arr = np.random.randn(100)\n",
    "(arr > 0).sum() # Number of positive values"
   ]
  },
  {
   "cell_type": "code",
   "execution_count": 218,
   "metadata": {
    "collapsed": false
   },
   "outputs": [
    {
     "data": {
      "text/plain": [
       "array([-0.92422349, -0.72880147, -0.53762053, -0.53057904, -0.35979226,\n",
       "        0.62331577,  1.52430756,  3.58706278])"
      ]
     },
     "execution_count": 218,
     "metadata": {},
     "output_type": "execute_result"
    }
   ],
   "source": [
    "\"\"\"Sorting with numpy\"\"\"\n",
    "arr = np.random.randn(8)\n",
    "arr.sort() # Manipulates the array in-place\n",
    "arr"
   ]
  },
  {
   "cell_type": "code",
   "execution_count": 222,
   "metadata": {
    "collapsed": false
   },
   "outputs": [
    {
     "name": "stdout",
     "output_type": "stream",
     "text": [
      "[[ 0.69187551 -1.1332549   1.59361257]\n",
      " [ 1.96244084  2.22566894 -1.13951133]\n",
      " [ 0.56792644  1.4654171   0.93809511]\n",
      " [-1.34544065  1.71555359  0.99563351]\n",
      " [-0.63521078  0.5966666   1.49828313]]\n"
     ]
    },
    {
     "data": {
      "text/plain": [
       "array([[-1.1332549 ,  0.69187551,  1.59361257],\n",
       "       [-1.13951133,  1.96244084,  2.22566894],\n",
       "       [ 0.56792644,  0.93809511,  1.4654171 ],\n",
       "       [-1.34544065,  0.99563351,  1.71555359],\n",
       "       [-0.63521078,  0.5966666 ,  1.49828313]])"
      ]
     },
     "execution_count": 222,
     "metadata": {},
     "output_type": "execute_result"
    }
   ],
   "source": [
    "# Multi-dimensional arrays can sort along each axis\n",
    "arr = np.random.randn(5,3)\n",
    "print arr\n",
    "arr.sort(1)\n",
    "arr"
   ]
  },
  {
   "cell_type": "code",
   "execution_count": 225,
   "metadata": {
    "collapsed": false
   },
   "outputs": [
    {
     "data": {
      "text/plain": [
       "array(['Bob', 'Joe', 'Will'], \n",
       "      dtype='|S4')"
      ]
     },
     "execution_count": 225,
     "metadata": {},
     "output_type": "execute_result"
    }
   ],
   "source": [
    "\"\"\"Unique and other Set Logic\"\"\"\n",
    "names = np.array(['Bob', 'Joe', 'Will', 'Bob', 'Will', 'Joe', 'Joe'])\n",
    "np.unique(names)"
   ]
  },
  {
   "cell_type": "code",
   "execution_count": 236,
   "metadata": {
    "collapsed": false
   },
   "outputs": [
    {
     "data": {
      "text/plain": [
       "array([-1,  0,  2])"
      ]
     },
     "execution_count": 236,
     "metadata": {},
     "output_type": "execute_result"
    }
   ],
   "source": [
    "arr = np.random.randn(10)\n",
    "arr = arr.astype('int64')\n",
    "np.unique(arr)"
   ]
  },
  {
   "cell_type": "code",
   "execution_count": 241,
   "metadata": {
    "collapsed": false
   },
   "outputs": [
    {
     "data": {
      "text/plain": [
       "array([ True, False, False,  True,  True, False,  True], dtype=bool)"
      ]
     },
     "execution_count": 241,
     "metadata": {},
     "output_type": "execute_result"
    }
   ],
   "source": [
    "# Determine if array value is in given vector\n",
    "# Returns a boolean array\n",
    "values = np.array([6, 0, 0, 3, 2, 5, 6])\n",
    "np.in1d(values, [2, 3, 6])"
   ]
  },
  {
   "cell_type": "code",
   "execution_count": null,
   "metadata": {
    "collapsed": true
   },
   "outputs": [],
   "source": []
  },
  {
   "cell_type": "code",
   "execution_count": 244,
   "metadata": {
    "collapsed": true
   },
   "outputs": [],
   "source": [
    "\"\"\"File Input and Output with Arrays\"\"\"\n",
    "arr = np.arange(10)\n",
    "np.save('some_array', arr) # Default as binary .npy file"
   ]
  },
  {
   "cell_type": "code",
   "execution_count": 246,
   "metadata": {
    "collapsed": false
   },
   "outputs": [
    {
     "data": {
      "text/plain": [
       "array([0, 1, 2, 3, 4, 5, 6, 7, 8, 9])"
      ]
     },
     "execution_count": 246,
     "metadata": {},
     "output_type": "execute_result"
    }
   ],
   "source": [
    "np.load('some_array.npy') "
   ]
  },
  {
   "cell_type": "code",
   "execution_count": 247,
   "metadata": {
    "collapsed": true
   },
   "outputs": [],
   "source": [
    "np.savez('array_archive.npz', a=arr, b=arr) "
   ]
  },
  {
   "cell_type": "code",
   "execution_count": 252,
   "metadata": {
    "collapsed": false
   },
   "outputs": [
    {
     "data": {
      "text/plain": [
       "array([[ 0.580052,  0.18673 ,  1.040717,  1.134411],\n",
       "       [ 0.194163, -0.636917, -0.938659,  0.124094],\n",
       "       [-0.12641 ,  0.268607, -0.695724,  0.047428],\n",
       "       [-1.484413,  0.004176, -0.744203,  0.005487],\n",
       "       [ 2.302869,  0.200131,  1.670238, -1.88109 ],\n",
       "       [-0.19323 ,  1.047233,  0.482803,  0.960334]])"
      ]
     },
     "execution_count": 252,
     "metadata": {},
     "output_type": "execute_result"
    }
   ],
   "source": [
    "# Loading into a 2-dimensional array\n",
    "\"\"\" File contains\n",
    "0.580052,0.186730,1.040717,1.134411\n",
    "0.194163,-0.636917,-0.938659,0.124094\n",
    "-0.126410,0.268607,-0.695724,0.047428\n",
    "-1.484413,0.004176,-0.744203,0.005487\n",
    "2.302869,0.200131,1.670238,-1.881090\n",
    "-0.193230,1.047233,0.482803,0.960334\n",
    "\"\"\"\n",
    "arr = np.loadtxt('array_ex.txt', delimiter=',')\n",
    "#arr = np.genfromtxt('array_ex.txt', delimiter=',')\n",
    "arr"
   ]
  },
  {
   "cell_type": "code",
   "execution_count": null,
   "metadata": {
    "collapsed": true
   },
   "outputs": [],
   "source": []
  },
  {
   "cell_type": "code",
   "execution_count": 258,
   "metadata": {
    "collapsed": false
   },
   "outputs": [
    {
     "data": {
      "text/plain": [
       "(array([[ 1.,  2.,  3.],\n",
       "        [ 4.,  5.,  6.]]), array([[  6.,  23.],\n",
       "        [ -1.,   7.],\n",
       "        [  8.,   9.]]))"
      ]
     },
     "execution_count": 258,
     "metadata": {},
     "output_type": "execute_result"
    }
   ],
   "source": [
    "\"\"\"\n",
    "Linear Algebra\n",
    "Numpy operations are element-by-element so we have to use\n",
    "functions to perform matrix operations\n",
    "\"\"\"\n",
    "x = np.arange(1.,7.).reshape(2,3)\n",
    "y = np.array([[6., 23.], [-1, 7], [8,9]])\n",
    "x, y"
   ]
  },
  {
   "cell_type": "code",
   "execution_count": 260,
   "metadata": {
    "collapsed": false
   },
   "outputs": [
    {
     "data": {
      "text/plain": [
       "array([[  28.,   64.],\n",
       "       [  67.,  181.]])"
      ]
     },
     "execution_count": 260,
     "metadata": {},
     "output_type": "execute_result"
    }
   ],
   "source": [
    "# Matrix Dot Product\n",
    "x.dot(y) # This is ugly don't use it\n",
    "np.dot(x,y) # this is pretty"
   ]
  },
  {
   "cell_type": "code",
   "execution_count": 261,
   "metadata": {
    "collapsed": false
   },
   "outputs": [
    {
     "data": {
      "text/plain": [
       "array([  6.,  15.])"
      ]
     },
     "execution_count": 261,
     "metadata": {},
     "output_type": "execute_result"
    }
   ],
   "source": [
    "np.dot(x, np.ones(3))"
   ]
  },
  {
   "cell_type": "code",
   "execution_count": 272,
   "metadata": {
    "collapsed": false
   },
   "outputs": [
    {
     "data": {
      "text/plain": [
       "array([[ 0.5291963 , -0.3723125 , -1.26754701,  1.41607426,  1.47006081],\n",
       "       [ 0.32538366, -0.51800725, -1.13648004, -0.74619593, -0.632463  ],\n",
       "       [ 1.51418256,  0.82572854,  0.17888145,  0.66662857, -1.76465835],\n",
       "       [-0.9983306 ,  0.04921476, -0.07243645,  1.71818831, -0.81937469],\n",
       "       [ 1.00259199,  0.53776141, -2.24641295, -0.5657528 , -0.2912689 ]])"
      ]
     },
     "execution_count": 272,
     "metadata": {},
     "output_type": "execute_result"
    }
   ],
   "source": [
    "# Matrix Operations Examples\n",
    "from numpy.linalg import inv, qr\n",
    "X = np.random.randn(5, 5)\n",
    "X"
   ]
  },
  {
   "cell_type": "code",
   "execution_count": 275,
   "metadata": {
    "collapsed": false
   },
   "outputs": [
    {
     "data": {
      "text/plain": [
       "array([[  4.68052676e+00,   1.37474895e+00,  -2.94963415e+00,\n",
       "         -7.66560532e-01,  -1.57387433e+00],\n",
       "       [  1.37474895e+00,   1.38038516e+00,  -3.26312834e-03,\n",
       "          1.90087204e-01,  -1.87378886e+00],\n",
       "       [ -2.94963415e+00,  -3.26312834e-03,   7.98187905e+00,\n",
       "          3.18798541e-01,  -7.46591410e-01],\n",
       "       [ -7.66560532e-01,   1.90087204e-01,   3.18798541e-01,\n",
       "          6.27871562e+00,   1.34231095e-01],\n",
       "       [ -1.57387433e+00,  -1.87378886e+00,  -7.46591410e-01,\n",
       "          1.34231095e-01,   6.43131975e+00]])"
      ]
     },
     "execution_count": 275,
     "metadata": {},
     "output_type": "execute_result"
    }
   ],
   "source": [
    "# Matrix dot product\n",
    "mat = X.T.dot(X)\n",
    "mat"
   ]
  },
  {
   "cell_type": "code",
   "execution_count": 276,
   "metadata": {
    "collapsed": false
   },
   "outputs": [
    {
     "data": {
      "text/plain": [
       "array([[  1.00000000e+00,  -4.09494747e-17,   1.29617803e-16,\n",
       "         -6.08925074e-18,   0.00000000e+00],\n",
       "       [  3.01943266e-17,   1.00000000e+00,   4.54630632e-17,\n",
       "          1.14331212e-17,   5.55111512e-17],\n",
       "       [ -2.58503169e-17,   3.38877515e-16,   1.00000000e+00,\n",
       "         -3.03724664e-17,   0.00000000e+00],\n",
       "       [ -1.01024966e-16,   2.70941322e-16,  -4.19739018e-17,\n",
       "          1.00000000e+00,   8.32667268e-17],\n",
       "       [ -4.16333634e-17,   0.00000000e+00,  -2.77555756e-17,\n",
       "          1.38777878e-17,   1.00000000e+00]])"
      ]
     },
     "execution_count": 276,
     "metadata": {},
     "output_type": "execute_result"
    }
   ],
   "source": [
    "# Matrix inversion and subsequent multiplication\n",
    "mat.dot(inv(mat))"
   ]
  },
  {
   "cell_type": "code",
   "execution_count": 287,
   "metadata": {
    "collapsed": false
   },
   "outputs": [
    {
     "name": "stdout",
     "output_type": "stream",
     "text": [
      "[[-0.78487374  0.04695648 -0.51854449 -0.33539826 -0.01969588]\n",
      " [-0.23053054 -0.48394839  0.1925926   0.12626383  0.81216696]\n",
      " [ 0.49462176 -0.4694823  -0.72126996 -0.11095486  0.04893213]\n",
      " [ 0.12854391 -0.21932404  0.36565586 -0.89438045 -0.04186692]\n",
      " [ 0.26392171  0.7036138  -0.20021275 -0.2435941   0.57952542]]\n",
      "[[-5.96341366 -1.8689383   6.10779161  1.5580342   3.01259731]\n",
      " [ 0.         -1.96206422 -4.47950838 -1.56028406  5.6791502 ]\n",
      " [ 0.          0.         -3.96215384  2.47313968 -0.24480988]\n",
      " [ 0.          0.          0.         -5.40252641 -1.3125643 ]\n",
      " [ 0.          0.          0.          0.          2.1941306 ]]\n",
      "[[  4.68052676e+00   1.37474895e+00  -2.94963415e+00  -7.66560532e-01\n",
      "   -1.57387433e+00]\n",
      " [  1.37474895e+00   1.38038516e+00  -3.26312834e-03   1.90087204e-01\n",
      "   -1.87378886e+00]\n",
      " [ -2.94963415e+00  -3.26312834e-03   7.98187905e+00   3.18798541e-01\n",
      "   -7.46591410e-01]\n",
      " [ -7.66560532e-01   1.90087204e-01   3.18798541e-01   6.27871562e+00\n",
      "    1.34231095e-01]\n",
      " [ -1.57387433e+00  -1.87378886e+00  -7.46591410e-01   1.34231095e-01\n",
      "    6.43131975e+00]]\n"
     ]
    }
   ],
   "source": [
    "# Perform triangular QR decomposition\n",
    "q, r = qr(mat)\n",
    "print q # a full matrix\n",
    "print r # an upper triangular matrix \n",
    "print np.dot(q, r) # Their matrix dor product is the original matrix"
   ]
  },
  {
   "cell_type": "code",
   "execution_count": null,
   "metadata": {
    "collapsed": true
   },
   "outputs": [],
   "source": []
  },
  {
   "cell_type": "code",
   "execution_count": 304,
   "metadata": {
    "collapsed": false
   },
   "outputs": [
    {
     "data": {
      "text/plain": [
       "array([[ 0.1980029 ,  1.54524632, -1.06146726, -1.38446168],\n",
       "       [ 0.21654332, -0.3945102 ,  2.069259  , -0.15735226],\n",
       "       [-2.23057367, -0.69803958,  1.89197518,  0.41489822],\n",
       "       [-1.02708776,  1.01085517, -0.95538739,  0.24897973]])"
      ]
     },
     "execution_count": 304,
     "metadata": {},
     "output_type": "execute_result"
    }
   ],
   "source": [
    "\"\"\"Random Number Generation\"\"\"\n",
    "# Sample vectors from a normal distribution\n",
    "from random import normalvariate\n",
    "samples = np.random.normal(size=(4, 4))\n",
    "samples"
   ]
  },
  {
   "cell_type": "code",
   "execution_count": 305,
   "metadata": {
    "collapsed": false
   },
   "outputs": [],
   "source": [
    "N = 10**6"
   ]
  },
  {
   "cell_type": "code",
   "execution_count": 301,
   "metadata": {
    "collapsed": false
   },
   "outputs": [
    {
     "name": "stdout",
     "output_type": "stream",
     "text": [
      "1 loop, best of 3: 1.04 s per loop\n"
     ]
    }
   ],
   "source": [
    "# Python's built-in normal samples has to sample 1 at a time\n",
    "%timeit samples = [normalvariate(0, 1) for _ in xrange(N)]"
   ]
  },
  {
   "cell_type": "code",
   "execution_count": 302,
   "metadata": {
    "collapsed": false
   },
   "outputs": [
    {
     "name": "stdout",
     "output_type": "stream",
     "text": [
      "10 loops, best of 3: 39.2 ms per loop\n"
     ]
    }
   ],
   "source": [
    "# Numpy grabs the results more efficiently as vectors\n",
    "%timeit np.random.normal(size=N)"
   ]
  },
  {
   "cell_type": "code",
   "execution_count": null,
   "metadata": {
    "collapsed": true
   },
   "outputs": [],
   "source": []
  },
  {
   "cell_type": "code",
   "execution_count": null,
   "metadata": {
    "collapsed": true
   },
   "outputs": [],
   "source": [
    "\"\"\"Example - Random Walks\"\"\""
   ]
  },
  {
   "cell_type": "code",
   "execution_count": 325,
   "metadata": {
    "collapsed": false
   },
   "outputs": [
    {
     "data": {
      "text/plain": [
       "xrange(1000)"
      ]
     },
     "execution_count": 325,
     "metadata": {},
     "output_type": "execute_result"
    },
    {
     "data": {
      "image/png": "[encoded data removed]",
      "text/plain": [
       "<matplotlib.figure.Figure at 0x118b02390>"
      ]
     },
     "metadata": {},
     "output_type": "display_data"
    }
   ],
   "source": [
    "# Vanilla python method\n",
    "import random\n",
    "import matplotlib.pyplot as plt\n",
    "position = 0\n",
    "walk = [position]\n",
    "steps = 1000\n",
    "for i in xrange(steps):\n",
    "    step = 1 if random.randint(0, 1) else -1\n",
    "    position += step\n",
    "    walk.append(position)\n",
    "\n",
    "plt.plot(walk)"
   ]
  },
  {
   "cell_type": "code",
   "execution_count": 333,
   "metadata": {
    "collapsed": false
   },
   "outputs": [],
   "source": [
    "# Numpy method - use cumsum which will keep track of location\n",
    "# MUCH FASTER AND SIMPLER CODE\n",
    "nsteps = 1000\n",
    "draws = np.random.randint(0, 2, size=nsteps)\n",
    "steps = np.where(draws > 0, 1, -1)\n",
    "walk = steps.cumsum()"
   ]
  },
  {
   "cell_type": "code",
   "execution_count": 336,
   "metadata": {
    "collapsed": false
   },
   "outputs": [
    {
     "data": {
      "text/plain": [
       "39"
      ]
     },
     "execution_count": 336,
     "metadata": {},
     "output_type": "execute_result"
    }
   ],
   "source": [
    "# Determine the first time the walk reached a target\n",
    "target = 10\n",
    "# First get a boolean array where we have hit the value\n",
    "# Then use function argmax() to find first argument that\n",
    "# reaches the max value.  True --> 1, False --> 0 so we're\n",
    "# finding the first True value, where we have reached a target\n",
    "# argmax() isn't actually efficient b/c has to scan whole array\n",
    "(np.abs(walk) >= target).argmax()"
   ]
  },
  {
   "cell_type": "code",
   "execution_count": 339,
   "metadata": {
    "collapsed": false
   },
   "outputs": [
    {
     "data": {
      "text/plain": [
       "array([[  1,   2,   1, ..., -42, -41, -40],\n",
       "       [ -1,   0,  -1, ...,  12,  11,  12],\n",
       "       [ -1,  -2,  -1, ...,  -4,  -5,  -6],\n",
       "       ..., \n",
       "       [ -1,   0,  -1, ...,  18,  17,  16],\n",
       "       [ -1,  -2,  -3, ...,  58,  57,  56],\n",
       "       [ -1,   0,  -1, ...,   0,   1,   2]])"
      ]
     },
     "execution_count": 339,
     "metadata": {},
     "output_type": "execute_result"
    }
   ],
   "source": [
    "\"\"\"\n",
    "Simulation --\n",
    "If we wanted to generate many random walks at once\n",
    "we can just pass another parameter into the randomize function\n",
    "and use Numpy's vectorized wonder to scan them\n",
    "\"\"\"\n",
    "nwalks = 5000\n",
    "nsteps = 1000\n",
    "draws = np.random.randint(0, 2, size=(nwalks, nsteps))\n",
    "# size is a matrix\n",
    "steps = np.where(draws > 0, 1, -1)\n",
    "walks = steps.cumsum(axis=1)\n",
    "    # axis = 1 means cumsum within each vector\n",
    "walks"
   ]
  },
  {
   "cell_type": "code",
   "execution_count": 346,
   "metadata": {
    "collapsed": false
   },
   "outputs": [
    {
     "data": {
      "text/plain": [
       "0.66900000000000004"
      ]
     },
     "execution_count": 346,
     "metadata": {},
     "output_type": "execute_result"
    }
   ],
   "source": [
    "# Compute the time that it takes each of them to reach -30 or 30\n",
    "# Observe that not all of them will necesarily reach those values\n",
    "\n",
    "hits30 = (np.abs(walks) >= 30).any(1)\n",
    "    # using np.abs() to check each element of each vector\n",
    "    # using any(1) get vector-by-vector reduction\n",
    "    # Result is an array with True/False elements, where value\n",
    "    # at that element corresponds to any()'s map to \n",
    "    # the same index vector in walks\n",
    "hits30.sum()\n",
    "    # Tells us how many walks hit those values\n",
    "hits30.sum().astype(np.float)/nwalks\n",
    "    # % that hit those values"
   ]
  },
  {
   "cell_type": "code",
   "execution_count": 354,
   "metadata": {
    "collapsed": false
   },
   "outputs": [
    {
     "data": {
      "text/plain": [
       "497.05680119581467"
      ]
     },
     "execution_count": 354,
     "metadata": {},
     "output_type": "execute_result"
    }
   ],
   "source": [
    "# Use boolean operations to pick the vectors that hit the target\n",
    "crossing_indices = (np.abs(walks[hits30]) >= 30).argmax(1)\n",
    "    # walks[hits30] gives vectors that were true\n",
    "    # np.abs() applies absolute value to their values\n",
    "    # >= 30 does another boolean result to find\n",
    "    #     the elements >= 30\n",
    "    # argmax() takes advantage of Nmpy coercing true to 1\n",
    "    #     to find the first instance of the max value (1 is the max)\n",
    "    # argmax(1) == argmax(axis = 1) means vector-by-vector\n",
    "crossing_indices.mean()\n",
    "    # We found the average crossing time after 5000 tests"
   ]
  },
  {
   "cell_type": "code",
   "execution_count": null,
   "metadata": {
    "collapsed": true
   },
   "outputs": [],
   "source": []
  },
  {
   "cell_type": "code",
   "execution_count": null,
   "metadata": {
    "collapsed": true
   },
   "outputs": [],
   "source": []
  }
 ],
 "metadata": {
  "kernelspec": {
   "display_name": "Python 2",
   "language": "python",
   "name": "python2"
  },
  "language_info": {
   "codemirror_mode": {
    "name": "ipython",
    "version": 2
   },
   "file_extension": ".py",
   "mimetype": "text/x-python",
   "name": "python",
   "nbconvert_exporter": "python",
   "pygments_lexer": "ipython2",
   "version": "2.7.11"
  }
 },
 "nbformat": 4,
 "nbformat_minor": 0
}
