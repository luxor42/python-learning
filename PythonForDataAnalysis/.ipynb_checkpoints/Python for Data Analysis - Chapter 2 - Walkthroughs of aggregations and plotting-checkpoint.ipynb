{
 "cells": [
  {
   "cell_type": "code",
   "execution_count": 181,
   "metadata": {
    "collapsed": false
   },
   "outputs": [
    {
     "data": {
      "text/plain": [
       "\"Things learned here:\\nFile from here: http://1usagov.measuredvoice.com/2013/\\n\\nreading in a file\\n    readline()\\n    open(/path/to/file).readline()\\nreading in json\\n    import json\\n    json.loads(line)\\nlist comprehension\\n    records = [json.loads(line) for line in open(path, 'rb')]\\n\\n::\\n\\nnumpy\\n    allclose() - checks that a sum over an array equals the expected amount\\n    cumsum() = df.COLUMN_TO_AGGREGATE.cumsum  # e.g. df.salary.cumsum\\n    values.searchsorted() = searches a sorted list of values and returns the index...\\n        at which you'd need to insert the given nummber to maintain the sorted ordering\\n\\nplotting\\n    %matplotlib inline\\n    import matplotlib\\n    \\narray slicing\\nturning python dictionaries and lists into pandas Series and DataFrames\\n\\npandas functions\\n    value_counts() - a Series method - can be used with a data frame only when on a specific column\\n    fillna() - \\n    plot() - a very hand wrapper for matplotlib\\n    stack() - turns from a table of m rows & n columns into a long list with (m x n) rows & a column for each variable\\n    unstack() - turns from a (m x n) rows list into a table with m rows & n columns & a column for each variable\\n    argsort() - \\n    take() - \\n    dropna() - \\n    size() - counts the occurrence of each feature\\n    div() - \\n    read_table() - \\n    merge() - \\n    pivot_table() - \\n    groupby() - a helper function that groups and spits out an object you can act one with a function like size()\\n    ix()\\n    sort_index() and sort_values()\\n    concat(array of dataframe, ignore_index) - concatenate multiple dataframes into a single dataframe\\n    read_csv(path, names)\\n    DataFrame.apply(my_func) - take the given data frame and pass to your function to it\\n        ... generally used with groupby to apply a more complex function than built-in ones\\n    reindex - reindex(columns=[list or just value if 1 value], level='TheColumnTheListOrValueAreFrom')\\n\\n\""
      ]
     },
     "execution_count": 181,
     "metadata": {},
     "output_type": "execute_result"
    }
   ],
   "source": [
    "\"\"\"Things learned here:\n",
    "File from here: http://1usagov.measuredvoice.com/2013/\n",
    "\n",
    "reading in a file\n",
    "    readline()\n",
    "    open(/path/to/file).readline()\n",
    "reading in json\n",
    "    import json\n",
    "    json.loads(line)\n",
    "list comprehension\n",
    "    records = [json.loads(line) for line in open(path, 'rb')]\n",
    "\n",
    "::\n",
    "\n",
    "numpy\n",
    "    allclose() - checks that a sum over an array equals the expected amount\n",
    "    cumsum() = df.COLUMN_TO_AGGREGATE.cumsum  # e.g. df.salary.cumsum\n",
    "    values.searchsorted() = searches a sorted list of values and returns the index...\n",
    "        at which you'd need to insert the given nummber to maintain the sorted ordering\n",
    "\n",
    "plotting\n",
    "    %matplotlib inline\n",
    "    import matplotlib\n",
    "    \n",
    "array slicing\n",
    "turning python dictionaries and lists into pandas Series and DataFrames\n",
    "\n",
    "pandas functions\n",
    "    value_counts() - a Series method - can be used with a data frame only when on a specific column\n",
    "    fillna() - \n",
    "    plot() - a very hand wrapper for matplotlib\n",
    "    stack() - turns from a table of m rows & n columns into a long list with (m x n) rows & a column for each variable\n",
    "    unstack() - turns from a (m x n) rows list into a table with m rows & n columns & a column for each variable\n",
    "    argsort() - \n",
    "    take() - \n",
    "    dropna() - \n",
    "    size() - counts the occurrence of each feature\n",
    "    div() - \n",
    "    read_table() - \n",
    "    merge() - \n",
    "    pivot_table() - \n",
    "    groupby() - a helper function that groups and spits out an object you can act one with a function like size()\n",
    "    ix() - basically selecting directly from the indexes of a data frame like .ix([row indices],[col indices])\n",
    "    sort_index() and sort_values()\n",
    "    concat(array of dataframe, ignore_index) - concatenate multiple dataframes into a single dataframe\n",
    "    read_csv(path, names)\n",
    "    DataFrame.apply(my_func) - take the given data frame and pass to your function to it\n",
    "        ... generally used with groupby to apply a more complex function than built-in ones\n",
    "    reindex - reindex(columns=[list or just value if 1 value], level='TheColumnTheListOrValueAreFrom')\n",
    "\n",
    "\"\"\""
   ]
  },
  {
   "cell_type": "code",
   "execution_count": 98,
   "metadata": {
    "collapsed": false
   },
   "outputs": [
    {
     "data": {
      "text/plain": [
       "'{ \"a\": \"Mozilla\\\\/5.0 (Linux; U; Android 4.1.2; en-us; HTC_PN071 Build\\\\/JZO54K) AppleWebKit\\\\/534.30 (KHTML, like Gecko) Version\\\\/4.0 Mobile Safari\\\\/534.30\", \"c\": \"US\", \"nk\": 0, \"tz\": \"America\\\\/Los_Angeles\", \"gr\": \"CA\", \"g\": \"15r91\", \"h\": \"10OBm3W\", \"l\": \"pontifier\", \"al\": \"en-US\", \"hh\": \"j.mp\", \"r\": \"direct\", \"u\": \"http:\\\\/\\\\/www.nsa.gov\\\\/\", \"t\": 1368832205, \"hc\": 1365701422, \"cy\": \"Anaheim\", \"ll\": [ 33.816101, -117.979401 ] }\\n'"
      ]
     },
     "execution_count": 98,
     "metadata": {},
     "output_type": "execute_result"
    }
   ],
   "source": [
    "path = '/Volumes/git/data/usagov_bitly_data2013-05-17-1368832207'\n",
    "open(path).readline()"
   ]
  },
  {
   "cell_type": "code",
   "execution_count": 99,
   "metadata": {
    "collapsed": false
   },
   "outputs": [
    {
     "name": "stdout",
     "output_type": "stream",
     "text": [
      "America/Los_Angeles\n"
     ]
    }
   ],
   "source": [
    "import json\n",
    "path = '/Users/rluck/usagov_bitly_data2013-05-17-1368832207'\n",
    "records = [json.loads(line) for line in open(path, 'rb')]\n",
    "records[0]\n",
    "records[0]['tz']  #The u in front of the quotation stands for Unicode\n",
    "print records[0]['tz']  #The u in front of the quotation stands for Unicode"
   ]
  },
  {
   "cell_type": "code",
   "execution_count": 100,
   "metadata": {
    "collapsed": false
   },
   "outputs": [
    {
     "data": {
      "text/plain": [
       "[u'America/Los_Angeles',\n",
       " u'',\n",
       " u'America/Phoenix',\n",
       " u'America/Chicago',\n",
       " u'',\n",
       " u'America/Indianapolis',\n",
       " u'America/Chicago',\n",
       " u'',\n",
       " u'Australia/NSW',\n",
       " u'']"
      ]
     },
     "execution_count": 100,
     "metadata": {},
     "output_type": "execute_result"
    }
   ],
   "source": [
    "#Find the time zones\n",
    "#Take only the subset of data for which time zone records exist\n",
    "time_zones = [rec['tz'] for rec in records if 'tz' in rec]\n",
    "time_zones[:10]"
   ]
  },
  {
   "cell_type": "code",
   "execution_count": 101,
   "metadata": {
    "collapsed": true
   },
   "outputs": [],
   "source": [
    "#Show the counts by time zones, using pure python\n",
    "def get_counts(sequence):\n",
    "    counts = {}\n",
    "    for x in sequence:\n",
    "        if x in counts:\n",
    "            counts[x] += 1\n",
    "        else:\n",
    "            counts[x] = 1\n",
    "    return counts\n",
    "\n",
    "#Write the same thing more briefly by initializing all counts variables to 0 so we don't have to check if it exists\n",
    "from collections import defaultdict\n",
    "def get_counts2(sequence):\n",
    "    counts = defaultdict(int) # values will initialize to 0\n",
    "    for x in sequence:\n",
    "        counts[x] += 1\n",
    "        #Structure of counts is like {\"America/New_York\":576}\n",
    "    return counts\n",
    "\n",
    "#Find the top 10 time zones and their counts using python dictionaries\n",
    "def top_counts(count_dict, n=10):\n",
    "    value_key_pairs = [(count, tz) for tz, count in count_dict.items()]\n",
    "    value_key_pairs.sort()\n",
    "    return value_key_pairs[-n:]\n",
    "\n",
    "#Find the top 10 counts using the collections.Counter class\n",
    "def top_counts2():\n",
    "    from collections import Counter\n",
    "    counts = Counter(time_zones)\n",
    "    return counts.most_common(10)"
   ]
  },
  {
   "cell_type": "code",
   "execution_count": 102,
   "metadata": {
    "collapsed": false
   },
   "outputs": [
    {
     "data": {
      "text/plain": [
       "903"
      ]
     },
     "execution_count": 102,
     "metadata": {},
     "output_type": "execute_result"
    }
   ],
   "source": [
    "#Pass the time zones list to the function get_counts\n",
    "counts = get_counts(time_zones)\n",
    "counts['America/New_York']"
   ]
  },
  {
   "cell_type": "code",
   "execution_count": 103,
   "metadata": {
    "collapsed": false
   },
   "outputs": [
    {
     "data": {
      "text/plain": [
       "903"
      ]
     },
     "execution_count": 103,
     "metadata": {},
     "output_type": "execute_result"
    }
   ],
   "source": [
    "#Pass the time zones list to the function get_counts2\n",
    "counts = get_counts2(time_zones)\n",
    "counts['America/New_York']"
   ]
  },
  {
   "cell_type": "code",
   "execution_count": 104,
   "metadata": {
    "collapsed": false
   },
   "outputs": [
    {
     "data": {
      "text/plain": [
       "[(40, u'America/Phoenix'),\n",
       " (50, u'America/Indianapolis'),\n",
       " (85, u'Europe/London'),\n",
       " (89, u'America/Denver'),\n",
       " (102, u'Asia/Tokyo'),\n",
       " (184, u'America/Puerto_Rico'),\n",
       " (421, u'America/Los_Angeles'),\n",
       " (636, u''),\n",
       " (686, u'America/Chicago'),\n",
       " (903, u'America/New_York')]"
      ]
     },
     "execution_count": 104,
     "metadata": {},
     "output_type": "execute_result"
    }
   ],
   "source": [
    "top_counts(counts)"
   ]
  },
  {
   "cell_type": "code",
   "execution_count": 105,
   "metadata": {
    "collapsed": false
   },
   "outputs": [
    {
     "data": {
      "text/plain": [
       "[(u'America/New_York', 903),\n",
       " (u'America/Chicago', 686),\n",
       " (u'', 636),\n",
       " (u'America/Los_Angeles', 421),\n",
       " (u'America/Puerto_Rico', 184),\n",
       " (u'Asia/Tokyo', 102),\n",
       " (u'America/Denver', 89),\n",
       " (u'Europe/London', 85),\n",
       " (u'America/Indianapolis', 50),\n",
       " (u'America/Phoenix', 40)]"
      ]
     },
     "execution_count": 105,
     "metadata": {},
     "output_type": "execute_result"
    }
   ],
   "source": [
    "top_counts2()"
   ]
  },
  {
   "cell_type": "code",
   "execution_count": 106,
   "metadata": {
    "collapsed": false
   },
   "outputs": [
    {
     "name": "stdout",
     "output_type": "stream",
     "text": [
      "<class 'pandas.core.frame.DataFrame'>\n",
      "RangeIndex: 3959 entries, 0 to 3958\n",
      "Data columns (total 18 columns):\n",
      "_heartbeat_    120 non-null float64\n",
      "a              3839 non-null object\n",
      "al             3444 non-null object\n",
      "c              3208 non-null object\n",
      "cy             3208 non-null object\n",
      "g              3839 non-null object\n",
      "gr             3208 non-null object\n",
      "h              3839 non-null object\n",
      "hc             3839 non-null float64\n",
      "hh             3839 non-null object\n",
      "kw             86 non-null object\n",
      "l              3839 non-null object\n",
      "ll             3204 non-null object\n",
      "nk             3839 non-null float64\n",
      "r              3839 non-null object\n",
      "t              3839 non-null float64\n",
      "tz             3839 non-null object\n",
      "u              3839 non-null object\n",
      "dtypes: float64(4), object(14)\n",
      "memory usage: 556.8+ KB\n",
      "0     America/Los_Angeles\n",
      "1                        \n",
      "2         America/Phoenix\n",
      "3         America/Chicago\n",
      "4                        \n",
      "5    America/Indianapolis\n",
      "6         America/Chicago\n",
      "7                        \n",
      "8           Australia/NSW\n",
      "9                        \n",
      "Name: tz, dtype: object\n",
      "America/New_York        903\n",
      "America/Chicago         686\n",
      "                        636\n",
      "America/Los_Angeles     421\n",
      "America/Puerto_Rico     184\n",
      "Asia/Tokyo              102\n",
      "America/Denver           89\n",
      "Europe/London            85\n",
      "America/Indianapolis     50\n",
      "America/Phoenix          40\n",
      "Name: tz, dtype: int64\n"
     ]
    }
   ],
   "source": [
    "#Use Pandas's DataFrame structure import the original json records data set\n",
    "import pandas as pd\n",
    "frame = pd.DataFrame(records)\n",
    "\n",
    "#Inspect the data - summary view\n",
    "frame.info()\n",
    "\n",
    "# See the first 10 time zones - a Series object\n",
    "# Note that we did not get an error when we tried to find the records with tz\n",
    "print frame['tz'][:10]\n",
    "\n",
    "#See the counts of the top 10 time zones in the whole data set\n",
    "print frame['tz'].value_counts()[:10]"
   ]
  },
  {
   "cell_type": "code",
   "execution_count": 107,
   "metadata": {
    "collapsed": false
   },
   "outputs": [
    {
     "name": "stdout",
     "output_type": "stream",
     "text": [
      "0     America/Los_Angeles\n",
      "1                        \n",
      "2         America/Phoenix\n",
      "3         America/Chicago\n",
      "4                        \n",
      "5    America/Indianapolis\n",
      "6         America/Chicago\n",
      "7                        \n",
      "8           Australia/NSW\n",
      "9                        \n",
      "Name: tz, dtype: object\n",
      "0     America/Los_Angeles\n",
      "1                 Unknown\n",
      "2         America/Phoenix\n",
      "3         America/Chicago\n",
      "4                 Unknown\n",
      "5    America/Indianapolis\n",
      "6         America/Chicago\n",
      "7                 Unknown\n",
      "8           Australia/NSW\n",
      "9                 Unknown\n",
      "Name: tz, dtype: object\n",
      "America/New_York        903\n",
      "America/Chicago         686\n",
      "Unknown                 636\n",
      "America/Los_Angeles     421\n",
      "America/Puerto_Rico     184\n",
      "Missing                 120\n",
      "Asia/Tokyo              102\n",
      "America/Denver           89\n",
      "Europe/London            85\n",
      "America/Indianapolis     50\n",
      "Name: tz, dtype: int64\n"
     ]
    }
   ],
   "source": [
    "#Clean the data by replacing N/A and missing values\n",
    "#Then count the data so that N/A and missing values are explicitly accounted for\n",
    "#Use the value_counts() function\n",
    "clean_tz = frame['tz'].fillna('Missing')\n",
    "print clean_tz[:10]\n",
    "clean_tz[clean_tz == ''] = 'Unknown'\n",
    "print clean_tz[:10]\n",
    "tz_counts = clean_tz.value_counts()\n",
    "print tz_counts[:10]"
   ]
  },
  {
   "cell_type": "code",
   "execution_count": 108,
   "metadata": {
    "collapsed": false
   },
   "outputs": [
    {
     "data": {
      "text/plain": [
       "<matplotlib.axes._subplots.AxesSubplot at 0x1383d5350>"
      ]
     },
     "execution_count": 108,
     "metadata": {},
     "output_type": "execute_result"
    },
    {
     "data": {
      "image/png": "[encoded data removed]",
      "text/plain": [
       "<matplotlib.figure.Figure at 0x1396ac610>"
      ]
     },
     "metadata": {},
     "output_type": "display_data"
    }
   ],
   "source": [
    "\"\"\"Plotting a Series\"\"\"\n",
    "#Plot these time zone counts on a horizontal bar plot\n",
    "#Note that the requirement for \"%matplotlib inline\" is to Jupyter not to \n",
    "%matplotlib inline\n",
    "import matplotlib\n",
    "tz_counts[:10].plot(kind='barh', rot=0)\n",
    "#tz_counts is a Series - see how easy it is to plot!"
   ]
  },
  {
   "cell_type": "code",
   "execution_count": 109,
   "metadata": {
    "collapsed": false
   },
   "outputs": [
    {
     "name": "stdout",
     "output_type": "stream",
     "text": [
      "0    Mozilla/5.0\n",
      "1    Mozilla/4.0\n",
      "2    Mozilla/5.0\n",
      "3    Mozilla/5.0\n",
      "4     Opera/9.80\n",
      "dtype: object\n",
      "Mozilla/5.0           3251\n",
      "Mozilla/4.0            322\n",
      "CakePHP                 38\n",
      "ShortLinkTranslate      36\n",
      "TVersity                30\n",
      "Opera/9.80              28\n",
      "Dalvik/1.6.0            19\n",
      "Xenu                    15\n",
      "dtype: int64\n"
     ]
    }
   ],
   "source": [
    "#Parse some of the other tokens in the data frame corresponding to other features of the data\n",
    "#Split the first token in the string, which corresponds to the browser type\n",
    "results = pd.Series([x.split()[0] for x in frame.a.dropna()])\n",
    "print results[:5]\n",
    "print results.value_counts()[:8]"
   ]
  },
  {
   "cell_type": "code",
   "execution_count": 110,
   "metadata": {
    "collapsed": false
   },
   "outputs": [
    {
     "name": "stdout",
     "output_type": "stream",
     "text": [
      "tz                                         \n",
      "                                Not Windows    484\n",
      "                                Windows        152\n",
      "Africa/Cairo                    Windows          3\n",
      "Africa/Casablanca               Windows          1\n",
      "Africa/Ceuta                    Not Windows      4\n",
      "                                Windows          2\n",
      "Africa/Gaborone                 Windows          1\n",
      "Africa/Johannesburg             Not Windows      2\n",
      "America/Anchorage               Not Windows      5\n",
      "                                Windows          3\n",
      "America/Argentina/Buenos_Aires  Not Windows      4\n",
      "                                Windows          7\n",
      "America/Argentina/Catamarca     Not Windows      1\n",
      "America/Argentina/Cordoba       Windows          2\n",
      "America/Asuncion                Windows          1\n",
      "America/Bogota                  Not Windows      8\n",
      "                                Windows          8\n",
      "America/Caracas                 Not Windows      8\n",
      "                                Windows          5\n",
      "America/Chicago                 Not Windows    343\n",
      "                                Windows        343\n",
      "America/Costa_Rica              Not Windows      3\n",
      "                                Windows          3\n",
      "America/Denver                  Not Windows     41\n",
      "                                Windows         48\n",
      "America/Edmonton                Not Windows      7\n",
      "                                Windows          2\n",
      "America/El_Salvador             Not Windows      1\n",
      "                                Windows          1\n",
      "America/Guadeloupe              Not Windows      1\n",
      "                                              ... \n",
      "Europe/London                   Windows         23\n",
      "Europe/Madrid                   Not Windows     14\n",
      "                                Windows          7\n",
      "Europe/Moscow                   Windows         35\n",
      "Europe/Oslo                     Not Windows      2\n",
      "                                Windows          1\n",
      "Europe/Paris                    Not Windows     20\n",
      "                                Windows          7\n",
      "Europe/Prague                   Windows          1\n",
      "Europe/Riga                     Not Windows      1\n",
      "Europe/Rome                     Not Windows     12\n",
      "                                Windows          7\n",
      "Europe/Samara                   Windows          2\n",
      "Europe/Sarajevo                 Not Windows      1\n",
      "Europe/Skopje                   Windows          1\n",
      "Europe/Sofia                    Not Windows      1\n",
      "Europe/Stockholm                Not Windows      2\n",
      "                                Windows          2\n",
      "Europe/Tallinn                  Not Windows      1\n",
      "Europe/Vienna                   Not Windows      3\n",
      "                                Windows          3\n",
      "Europe/Warsaw                   Not Windows      1\n",
      "                                Windows          1\n",
      "Europe/Zaporozhye               Windows          1\n",
      "Europe/Zurich                   Not Windows      4\n",
      "                                Windows          1\n",
      "Pacific/Auckland                Not Windows      1\n",
      "                                Windows          8\n",
      "Pacific/Honolulu                Not Windows      7\n",
      "                                Windows          5\n",
      "dtype: int64\n"
     ]
    },
    {
     "data": {
      "text/html": [
       "<div>\n",
       "<table border=\"1\" class=\"dataframe\">\n",
       "  <thead>\n",
       "    <tr style=\"text-align: right;\">\n",
       "      <th></th>\n",
       "      <th>Not Windows</th>\n",
       "      <th>Windows</th>\n",
       "    </tr>\n",
       "    <tr>\n",
       "      <th>tz</th>\n",
       "      <th></th>\n",
       "      <th></th>\n",
       "    </tr>\n",
       "  </thead>\n",
       "  <tbody>\n",
       "    <tr>\n",
       "      <th></th>\n",
       "      <td>484.0</td>\n",
       "      <td>152.0</td>\n",
       "    </tr>\n",
       "    <tr>\n",
       "      <th>Africa/Cairo</th>\n",
       "      <td>0.0</td>\n",
       "      <td>3.0</td>\n",
       "    </tr>\n",
       "    <tr>\n",
       "      <th>Africa/Casablanca</th>\n",
       "      <td>0.0</td>\n",
       "      <td>1.0</td>\n",
       "    </tr>\n",
       "    <tr>\n",
       "      <th>Africa/Ceuta</th>\n",
       "      <td>4.0</td>\n",
       "      <td>2.0</td>\n",
       "    </tr>\n",
       "    <tr>\n",
       "      <th>Africa/Gaborone</th>\n",
       "      <td>0.0</td>\n",
       "      <td>1.0</td>\n",
       "    </tr>\n",
       "    <tr>\n",
       "      <th>Africa/Johannesburg</th>\n",
       "      <td>2.0</td>\n",
       "      <td>0.0</td>\n",
       "    </tr>\n",
       "    <tr>\n",
       "      <th>America/Anchorage</th>\n",
       "      <td>5.0</td>\n",
       "      <td>3.0</td>\n",
       "    </tr>\n",
       "    <tr>\n",
       "      <th>America/Argentina/Buenos_Aires</th>\n",
       "      <td>4.0</td>\n",
       "      <td>7.0</td>\n",
       "    </tr>\n",
       "    <tr>\n",
       "      <th>America/Argentina/Catamarca</th>\n",
       "      <td>1.0</td>\n",
       "      <td>0.0</td>\n",
       "    </tr>\n",
       "    <tr>\n",
       "      <th>America/Argentina/Cordoba</th>\n",
       "      <td>0.0</td>\n",
       "      <td>2.0</td>\n",
       "    </tr>\n",
       "  </tbody>\n",
       "</table>\n",
       "</div>"
      ],
      "text/plain": [
       "                                Not Windows  Windows\n",
       "tz                                                  \n",
       "                                      484.0    152.0\n",
       "Africa/Cairo                            0.0      3.0\n",
       "Africa/Casablanca                       0.0      1.0\n",
       "Africa/Ceuta                            4.0      2.0\n",
       "Africa/Gaborone                         0.0      1.0\n",
       "Africa/Johannesburg                     2.0      0.0\n",
       "America/Anchorage                       5.0      3.0\n",
       "America/Argentina/Buenos_Aires          4.0      7.0\n",
       "America/Argentina/Catamarca             1.0      0.0\n",
       "America/Argentina/Cordoba               0.0      2.0"
      ]
     },
     "execution_count": 110,
     "metadata": {},
     "output_type": "execute_result"
    }
   ],
   "source": [
    "\"\"\"Using Group By, array slicing, and Numpy array in-line if/then operations to create a two-dimensional array\"\"\"\n",
    "import numpy as np\n",
    "# Find all of the agent strings that contain \"Windows\"\n",
    "# The line below will throw an error because Pandas can't indx a vector with NAs or NaNs\n",
    "# cframe = frame[frame.a]\n",
    "cframe = frame[frame.a.notnull()] # \"Find all the frames where frame as is not null\"\n",
    "cframe[:2]\n",
    "# Is basically an if statement -- if we left out what to do in TRUE/FALSE cases in the line immediately below\n",
    "# then we would\n",
    "# operating_system = np.where(cframe['a'].str.contains('Windows'))\n",
    "operating_system = np.where(cframe['a'].str.contains('Windows'),'Windows','Not Windows')\n",
    "operating_system[:5]\n",
    "\n",
    "# To group by the operating system we need top pass it as a list\n",
    "by_tz_os = cframe.groupby(['tz', operating_system])\n",
    "# Just running the \"size\" is equivalent to doing a count over both the parameters of the frame that we created\n",
    "print by_tz_os.size()\n",
    "# Adding 'unstack' will pull the two parameters into a table view.  \"unstack\" = \"make a 2d table array\"\n",
    "by_tz_os.size().unstack()\n",
    "# Finally make everything numeric by putting fillna(0) into the resulting value\n",
    "agg_counts = by_tz_os.size().unstack().fillna(0)\n",
    "agg_counts[:10]"
   ]
  },
  {
   "cell_type": "code",
   "execution_count": 111,
   "metadata": {
    "collapsed": false
   },
   "outputs": [
    {
     "data": {
      "text/html": [
       "<div>\n",
       "<table border=\"1\" class=\"dataframe\">\n",
       "  <thead>\n",
       "    <tr style=\"text-align: right;\">\n",
       "      <th></th>\n",
       "      <th>Not Windows</th>\n",
       "      <th>Windows</th>\n",
       "    </tr>\n",
       "    <tr>\n",
       "      <th>tz</th>\n",
       "      <th></th>\n",
       "      <th></th>\n",
       "    </tr>\n",
       "  </thead>\n",
       "  <tbody>\n",
       "    <tr>\n",
       "      <th>America/Phoenix</th>\n",
       "      <td>22.0</td>\n",
       "      <td>18.0</td>\n",
       "    </tr>\n",
       "    <tr>\n",
       "      <th>America/Indianapolis</th>\n",
       "      <td>29.0</td>\n",
       "      <td>21.0</td>\n",
       "    </tr>\n",
       "    <tr>\n",
       "      <th>Europe/London</th>\n",
       "      <td>62.0</td>\n",
       "      <td>23.0</td>\n",
       "    </tr>\n",
       "    <tr>\n",
       "      <th>America/Denver</th>\n",
       "      <td>41.0</td>\n",
       "      <td>48.0</td>\n",
       "    </tr>\n",
       "    <tr>\n",
       "      <th>Asia/Tokyo</th>\n",
       "      <td>88.0</td>\n",
       "      <td>14.0</td>\n",
       "    </tr>\n",
       "    <tr>\n",
       "      <th>America/Puerto_Rico</th>\n",
       "      <td>93.0</td>\n",
       "      <td>91.0</td>\n",
       "    </tr>\n",
       "    <tr>\n",
       "      <th>America/Los_Angeles</th>\n",
       "      <td>207.0</td>\n",
       "      <td>214.0</td>\n",
       "    </tr>\n",
       "    <tr>\n",
       "      <th></th>\n",
       "      <td>484.0</td>\n",
       "      <td>152.0</td>\n",
       "    </tr>\n",
       "    <tr>\n",
       "      <th>America/Chicago</th>\n",
       "      <td>343.0</td>\n",
       "      <td>343.0</td>\n",
       "    </tr>\n",
       "    <tr>\n",
       "      <th>America/New_York</th>\n",
       "      <td>550.0</td>\n",
       "      <td>353.0</td>\n",
       "    </tr>\n",
       "  </tbody>\n",
       "</table>\n",
       "</div>"
      ],
      "text/plain": [
       "                      Not Windows  Windows\n",
       "tz                                        \n",
       "America/Phoenix              22.0     18.0\n",
       "America/Indianapolis         29.0     21.0\n",
       "Europe/London                62.0     23.0\n",
       "America/Denver               41.0     48.0\n",
       "Asia/Tokyo                   88.0     14.0\n",
       "America/Puerto_Rico          93.0     91.0\n",
       "America/Los_Angeles         207.0    214.0\n",
       "                            484.0    152.0\n",
       "America/Chicago             343.0    343.0\n",
       "America/New_York            550.0    353.0"
      ]
     },
     "execution_count": 111,
     "metadata": {},
     "output_type": "execute_result"
    }
   ],
   "source": [
    "\"\"\"Sorting by top N values in a data frame - argsort() and take() methods\"\"\"\n",
    "# This counts the total prevelance.  \n",
    "# argsort() gives the original list with a new index that shows the value's placement in a sorted list.\n",
    "# e.g. \"Africa/Cairo 101\" means that Afraica/Cairo is a rank 101 of sorted by its number of occurrences\n",
    "indexer = agg_counts.sum(1).argsort()\n",
    "# The Take method sorts by the provided list.  We subset so we get the last 10 i.e. the 10 most prevalent.\n",
    "count_subset = agg_counts.take(indexer)[-10:]\n",
    "count_subset"
   ]
  },
  {
   "cell_type": "code",
   "execution_count": 112,
   "metadata": {
    "collapsed": false
   },
   "outputs": [
    {
     "data": {
      "text/plain": [
       "<matplotlib.axes._subplots.AxesSubplot at 0x13a07b0d0>"
      ]
     },
     "execution_count": 112,
     "metadata": {},
     "output_type": "execute_result"
    },
    {
     "data": {
      "image/png": "[encoded data removed]",
      "text/plain": [
       "<matplotlib.figure.Figure at 0x1425f2810>"
      ]
     },
     "metadata": {},
     "output_type": "display_data"
    }
   ],
   "source": [
    "\"\"\"Stacked bar chart on actual values\"\"\"\n",
    "count_subset\n",
    "count_subset.plot(kind='barh', stacked=True)"
   ]
  },
  {
   "cell_type": "code",
   "execution_count": 113,
   "metadata": {
    "collapsed": false
   },
   "outputs": [
    {
     "data": {
      "text/plain": [
       "<matplotlib.axes._subplots.AxesSubplot at 0x14ae13790>"
      ]
     },
     "execution_count": 113,
     "metadata": {},
     "output_type": "execute_result"
    },
    {
     "data": {
      "image/png": "[encoded data removed]",
      "text/plain": [
       "<matplotlib.figure.Figure at 0x14ae13e90>"
      ]
     },
     "metadata": {},
     "output_type": "display_data"
    }
   ],
   "source": [
    "\"\"\"Normalize the data and present it as a bar chart again\"\"\"\n",
    "normed_subset = count_subset.div(count_subset.sum(1), axis=0)\n",
    "normed_subset\n",
    "normed_subset.plot(kind='barh', stacked=True)"
   ]
  },
  {
   "cell_type": "code",
   "execution_count": 114,
   "metadata": {
    "collapsed": false
   },
   "outputs": [
    {
     "name": "stdout",
     "output_type": "stream",
     "text": [
      "<class 'pandas.core.frame.DataFrame'>\n",
      "RangeIndex: 1000209 entries, 0 to 1000208\n",
      "Data columns (total 4 columns):\n",
      "user_id      1000209 non-null int64\n",
      "movie_id     1000209 non-null int64\n",
      "rating       1000209 non-null int64\n",
      "timestamp    1000209 non-null int64\n",
      "dtypes: int64(4)\n",
      "memory usage: 30.5 MB\n"
     ]
    },
    {
     "data": {
      "text/html": [
       "<div>\n",
       "<table border=\"1\" class=\"dataframe\">\n",
       "  <thead>\n",
       "    <tr style=\"text-align: right;\">\n",
       "      <th></th>\n",
       "      <th>user_id</th>\n",
       "      <th>movie_id</th>\n",
       "      <th>rating</th>\n",
       "      <th>timestamp</th>\n",
       "    </tr>\n",
       "  </thead>\n",
       "  <tbody>\n",
       "    <tr>\n",
       "      <th>0</th>\n",
       "      <td>1</td>\n",
       "      <td>1193</td>\n",
       "      <td>5</td>\n",
       "      <td>978300760</td>\n",
       "    </tr>\n",
       "    <tr>\n",
       "      <th>1</th>\n",
       "      <td>1</td>\n",
       "      <td>661</td>\n",
       "      <td>3</td>\n",
       "      <td>978302109</td>\n",
       "    </tr>\n",
       "    <tr>\n",
       "      <th>2</th>\n",
       "      <td>1</td>\n",
       "      <td>914</td>\n",
       "      <td>3</td>\n",
       "      <td>978301968</td>\n",
       "    </tr>\n",
       "    <tr>\n",
       "      <th>3</th>\n",
       "      <td>1</td>\n",
       "      <td>3408</td>\n",
       "      <td>4</td>\n",
       "      <td>978300275</td>\n",
       "    </tr>\n",
       "    <tr>\n",
       "      <th>4</th>\n",
       "      <td>1</td>\n",
       "      <td>2355</td>\n",
       "      <td>5</td>\n",
       "      <td>978824291</td>\n",
       "    </tr>\n",
       "    <tr>\n",
       "      <th>5</th>\n",
       "      <td>1</td>\n",
       "      <td>1197</td>\n",
       "      <td>3</td>\n",
       "      <td>978302268</td>\n",
       "    </tr>\n",
       "    <tr>\n",
       "      <th>6</th>\n",
       "      <td>1</td>\n",
       "      <td>1287</td>\n",
       "      <td>5</td>\n",
       "      <td>978302039</td>\n",
       "    </tr>\n",
       "    <tr>\n",
       "      <th>7</th>\n",
       "      <td>1</td>\n",
       "      <td>2804</td>\n",
       "      <td>5</td>\n",
       "      <td>978300719</td>\n",
       "    </tr>\n",
       "    <tr>\n",
       "      <th>8</th>\n",
       "      <td>1</td>\n",
       "      <td>594</td>\n",
       "      <td>4</td>\n",
       "      <td>978302268</td>\n",
       "    </tr>\n",
       "    <tr>\n",
       "      <th>9</th>\n",
       "      <td>1</td>\n",
       "      <td>919</td>\n",
       "      <td>4</td>\n",
       "      <td>978301368</td>\n",
       "    </tr>\n",
       "    <tr>\n",
       "      <th>10</th>\n",
       "      <td>1</td>\n",
       "      <td>595</td>\n",
       "      <td>5</td>\n",
       "      <td>978824268</td>\n",
       "    </tr>\n",
       "    <tr>\n",
       "      <th>11</th>\n",
       "      <td>1</td>\n",
       "      <td>938</td>\n",
       "      <td>4</td>\n",
       "      <td>978301752</td>\n",
       "    </tr>\n",
       "    <tr>\n",
       "      <th>12</th>\n",
       "      <td>1</td>\n",
       "      <td>2398</td>\n",
       "      <td>4</td>\n",
       "      <td>978302281</td>\n",
       "    </tr>\n",
       "    <tr>\n",
       "      <th>13</th>\n",
       "      <td>1</td>\n",
       "      <td>2918</td>\n",
       "      <td>4</td>\n",
       "      <td>978302124</td>\n",
       "    </tr>\n",
       "    <tr>\n",
       "      <th>14</th>\n",
       "      <td>1</td>\n",
       "      <td>1035</td>\n",
       "      <td>5</td>\n",
       "      <td>978301753</td>\n",
       "    </tr>\n",
       "    <tr>\n",
       "      <th>15</th>\n",
       "      <td>1</td>\n",
       "      <td>2791</td>\n",
       "      <td>4</td>\n",
       "      <td>978302188</td>\n",
       "    </tr>\n",
       "    <tr>\n",
       "      <th>16</th>\n",
       "      <td>1</td>\n",
       "      <td>2687</td>\n",
       "      <td>3</td>\n",
       "      <td>978824268</td>\n",
       "    </tr>\n",
       "    <tr>\n",
       "      <th>17</th>\n",
       "      <td>1</td>\n",
       "      <td>2018</td>\n",
       "      <td>4</td>\n",
       "      <td>978301777</td>\n",
       "    </tr>\n",
       "    <tr>\n",
       "      <th>18</th>\n",
       "      <td>1</td>\n",
       "      <td>3105</td>\n",
       "      <td>5</td>\n",
       "      <td>978301713</td>\n",
       "    </tr>\n",
       "    <tr>\n",
       "      <th>19</th>\n",
       "      <td>1</td>\n",
       "      <td>2797</td>\n",
       "      <td>4</td>\n",
       "      <td>978302039</td>\n",
       "    </tr>\n",
       "    <tr>\n",
       "      <th>20</th>\n",
       "      <td>1</td>\n",
       "      <td>2321</td>\n",
       "      <td>3</td>\n",
       "      <td>978302205</td>\n",
       "    </tr>\n",
       "    <tr>\n",
       "      <th>21</th>\n",
       "      <td>1</td>\n",
       "      <td>720</td>\n",
       "      <td>3</td>\n",
       "      <td>978300760</td>\n",
       "    </tr>\n",
       "    <tr>\n",
       "      <th>22</th>\n",
       "      <td>1</td>\n",
       "      <td>1270</td>\n",
       "      <td>5</td>\n",
       "      <td>978300055</td>\n",
       "    </tr>\n",
       "    <tr>\n",
       "      <th>23</th>\n",
       "      <td>1</td>\n",
       "      <td>527</td>\n",
       "      <td>5</td>\n",
       "      <td>978824195</td>\n",
       "    </tr>\n",
       "    <tr>\n",
       "      <th>24</th>\n",
       "      <td>1</td>\n",
       "      <td>2340</td>\n",
       "      <td>3</td>\n",
       "      <td>978300103</td>\n",
       "    </tr>\n",
       "    <tr>\n",
       "      <th>25</th>\n",
       "      <td>1</td>\n",
       "      <td>48</td>\n",
       "      <td>5</td>\n",
       "      <td>978824351</td>\n",
       "    </tr>\n",
       "    <tr>\n",
       "      <th>26</th>\n",
       "      <td>1</td>\n",
       "      <td>1097</td>\n",
       "      <td>4</td>\n",
       "      <td>978301953</td>\n",
       "    </tr>\n",
       "    <tr>\n",
       "      <th>27</th>\n",
       "      <td>1</td>\n",
       "      <td>1721</td>\n",
       "      <td>4</td>\n",
       "      <td>978300055</td>\n",
       "    </tr>\n",
       "    <tr>\n",
       "      <th>28</th>\n",
       "      <td>1</td>\n",
       "      <td>1545</td>\n",
       "      <td>4</td>\n",
       "      <td>978824139</td>\n",
       "    </tr>\n",
       "    <tr>\n",
       "      <th>29</th>\n",
       "      <td>1</td>\n",
       "      <td>745</td>\n",
       "      <td>3</td>\n",
       "      <td>978824268</td>\n",
       "    </tr>\n",
       "    <tr>\n",
       "      <th>...</th>\n",
       "      <td>...</td>\n",
       "      <td>...</td>\n",
       "      <td>...</td>\n",
       "      <td>...</td>\n",
       "    </tr>\n",
       "    <tr>\n",
       "      <th>1000179</th>\n",
       "      <td>6040</td>\n",
       "      <td>2762</td>\n",
       "      <td>4</td>\n",
       "      <td>956704584</td>\n",
       "    </tr>\n",
       "    <tr>\n",
       "      <th>1000180</th>\n",
       "      <td>6040</td>\n",
       "      <td>1036</td>\n",
       "      <td>3</td>\n",
       "      <td>956715455</td>\n",
       "    </tr>\n",
       "    <tr>\n",
       "      <th>1000181</th>\n",
       "      <td>6040</td>\n",
       "      <td>508</td>\n",
       "      <td>4</td>\n",
       "      <td>956704972</td>\n",
       "    </tr>\n",
       "    <tr>\n",
       "      <th>1000182</th>\n",
       "      <td>6040</td>\n",
       "      <td>1041</td>\n",
       "      <td>4</td>\n",
       "      <td>957717678</td>\n",
       "    </tr>\n",
       "    <tr>\n",
       "      <th>1000183</th>\n",
       "      <td>6040</td>\n",
       "      <td>3735</td>\n",
       "      <td>4</td>\n",
       "      <td>960971654</td>\n",
       "    </tr>\n",
       "    <tr>\n",
       "      <th>1000184</th>\n",
       "      <td>6040</td>\n",
       "      <td>2791</td>\n",
       "      <td>4</td>\n",
       "      <td>956715569</td>\n",
       "    </tr>\n",
       "    <tr>\n",
       "      <th>1000185</th>\n",
       "      <td>6040</td>\n",
       "      <td>2794</td>\n",
       "      <td>1</td>\n",
       "      <td>956716438</td>\n",
       "    </tr>\n",
       "    <tr>\n",
       "      <th>1000186</th>\n",
       "      <td>6040</td>\n",
       "      <td>527</td>\n",
       "      <td>5</td>\n",
       "      <td>956704219</td>\n",
       "    </tr>\n",
       "    <tr>\n",
       "      <th>1000187</th>\n",
       "      <td>6040</td>\n",
       "      <td>2003</td>\n",
       "      <td>1</td>\n",
       "      <td>956716294</td>\n",
       "    </tr>\n",
       "    <tr>\n",
       "      <th>1000188</th>\n",
       "      <td>6040</td>\n",
       "      <td>535</td>\n",
       "      <td>4</td>\n",
       "      <td>964828734</td>\n",
       "    </tr>\n",
       "    <tr>\n",
       "      <th>1000189</th>\n",
       "      <td>6040</td>\n",
       "      <td>2010</td>\n",
       "      <td>5</td>\n",
       "      <td>957716795</td>\n",
       "    </tr>\n",
       "    <tr>\n",
       "      <th>1000190</th>\n",
       "      <td>6040</td>\n",
       "      <td>2011</td>\n",
       "      <td>4</td>\n",
       "      <td>956716113</td>\n",
       "    </tr>\n",
       "    <tr>\n",
       "      <th>1000191</th>\n",
       "      <td>6040</td>\n",
       "      <td>3751</td>\n",
       "      <td>4</td>\n",
       "      <td>964828782</td>\n",
       "    </tr>\n",
       "    <tr>\n",
       "      <th>1000192</th>\n",
       "      <td>6040</td>\n",
       "      <td>2019</td>\n",
       "      <td>5</td>\n",
       "      <td>956703977</td>\n",
       "    </tr>\n",
       "    <tr>\n",
       "      <th>1000193</th>\n",
       "      <td>6040</td>\n",
       "      <td>541</td>\n",
       "      <td>4</td>\n",
       "      <td>956715288</td>\n",
       "    </tr>\n",
       "    <tr>\n",
       "      <th>1000194</th>\n",
       "      <td>6040</td>\n",
       "      <td>1077</td>\n",
       "      <td>5</td>\n",
       "      <td>964828799</td>\n",
       "    </tr>\n",
       "    <tr>\n",
       "      <th>1000195</th>\n",
       "      <td>6040</td>\n",
       "      <td>1079</td>\n",
       "      <td>2</td>\n",
       "      <td>956715648</td>\n",
       "    </tr>\n",
       "    <tr>\n",
       "      <th>1000196</th>\n",
       "      <td>6040</td>\n",
       "      <td>549</td>\n",
       "      <td>4</td>\n",
       "      <td>956704746</td>\n",
       "    </tr>\n",
       "    <tr>\n",
       "      <th>1000197</th>\n",
       "      <td>6040</td>\n",
       "      <td>2020</td>\n",
       "      <td>3</td>\n",
       "      <td>956715288</td>\n",
       "    </tr>\n",
       "    <tr>\n",
       "      <th>1000198</th>\n",
       "      <td>6040</td>\n",
       "      <td>2021</td>\n",
       "      <td>3</td>\n",
       "      <td>956716374</td>\n",
       "    </tr>\n",
       "    <tr>\n",
       "      <th>1000199</th>\n",
       "      <td>6040</td>\n",
       "      <td>2022</td>\n",
       "      <td>5</td>\n",
       "      <td>956716207</td>\n",
       "    </tr>\n",
       "    <tr>\n",
       "      <th>1000200</th>\n",
       "      <td>6040</td>\n",
       "      <td>2028</td>\n",
       "      <td>5</td>\n",
       "      <td>956704519</td>\n",
       "    </tr>\n",
       "    <tr>\n",
       "      <th>1000201</th>\n",
       "      <td>6040</td>\n",
       "      <td>1080</td>\n",
       "      <td>4</td>\n",
       "      <td>957717322</td>\n",
       "    </tr>\n",
       "    <tr>\n",
       "      <th>1000202</th>\n",
       "      <td>6040</td>\n",
       "      <td>1089</td>\n",
       "      <td>4</td>\n",
       "      <td>956704996</td>\n",
       "    </tr>\n",
       "    <tr>\n",
       "      <th>1000203</th>\n",
       "      <td>6040</td>\n",
       "      <td>1090</td>\n",
       "      <td>3</td>\n",
       "      <td>956715518</td>\n",
       "    </tr>\n",
       "    <tr>\n",
       "      <th>1000204</th>\n",
       "      <td>6040</td>\n",
       "      <td>1091</td>\n",
       "      <td>1</td>\n",
       "      <td>956716541</td>\n",
       "    </tr>\n",
       "    <tr>\n",
       "      <th>1000205</th>\n",
       "      <td>6040</td>\n",
       "      <td>1094</td>\n",
       "      <td>5</td>\n",
       "      <td>956704887</td>\n",
       "    </tr>\n",
       "    <tr>\n",
       "      <th>1000206</th>\n",
       "      <td>6040</td>\n",
       "      <td>562</td>\n",
       "      <td>5</td>\n",
       "      <td>956704746</td>\n",
       "    </tr>\n",
       "    <tr>\n",
       "      <th>1000207</th>\n",
       "      <td>6040</td>\n",
       "      <td>1096</td>\n",
       "      <td>4</td>\n",
       "      <td>956715648</td>\n",
       "    </tr>\n",
       "    <tr>\n",
       "      <th>1000208</th>\n",
       "      <td>6040</td>\n",
       "      <td>1097</td>\n",
       "      <td>4</td>\n",
       "      <td>956715569</td>\n",
       "    </tr>\n",
       "  </tbody>\n",
       "</table>\n",
       "<p>1000209 rows × 4 columns</p>\n",
       "</div>"
      ],
      "text/plain": [
       "         user_id  movie_id  rating  timestamp\n",
       "0              1      1193       5  978300760\n",
       "1              1       661       3  978302109\n",
       "2              1       914       3  978301968\n",
       "3              1      3408       4  978300275\n",
       "4              1      2355       5  978824291\n",
       "5              1      1197       3  978302268\n",
       "6              1      1287       5  978302039\n",
       "7              1      2804       5  978300719\n",
       "8              1       594       4  978302268\n",
       "9              1       919       4  978301368\n",
       "10             1       595       5  978824268\n",
       "11             1       938       4  978301752\n",
       "12             1      2398       4  978302281\n",
       "13             1      2918       4  978302124\n",
       "14             1      1035       5  978301753\n",
       "15             1      2791       4  978302188\n",
       "16             1      2687       3  978824268\n",
       "17             1      2018       4  978301777\n",
       "18             1      3105       5  978301713\n",
       "19             1      2797       4  978302039\n",
       "20             1      2321       3  978302205\n",
       "21             1       720       3  978300760\n",
       "22             1      1270       5  978300055\n",
       "23             1       527       5  978824195\n",
       "24             1      2340       3  978300103\n",
       "25             1        48       5  978824351\n",
       "26             1      1097       4  978301953\n",
       "27             1      1721       4  978300055\n",
       "28             1      1545       4  978824139\n",
       "29             1       745       3  978824268\n",
       "...          ...       ...     ...        ...\n",
       "1000179     6040      2762       4  956704584\n",
       "1000180     6040      1036       3  956715455\n",
       "1000181     6040       508       4  956704972\n",
       "1000182     6040      1041       4  957717678\n",
       "1000183     6040      3735       4  960971654\n",
       "1000184     6040      2791       4  956715569\n",
       "1000185     6040      2794       1  956716438\n",
       "1000186     6040       527       5  956704219\n",
       "1000187     6040      2003       1  956716294\n",
       "1000188     6040       535       4  964828734\n",
       "1000189     6040      2010       5  957716795\n",
       "1000190     6040      2011       4  956716113\n",
       "1000191     6040      3751       4  964828782\n",
       "1000192     6040      2019       5  956703977\n",
       "1000193     6040       541       4  956715288\n",
       "1000194     6040      1077       5  964828799\n",
       "1000195     6040      1079       2  956715648\n",
       "1000196     6040       549       4  956704746\n",
       "1000197     6040      2020       3  956715288\n",
       "1000198     6040      2021       3  956716374\n",
       "1000199     6040      2022       5  956716207\n",
       "1000200     6040      2028       5  956704519\n",
       "1000201     6040      1080       4  957717322\n",
       "1000202     6040      1089       4  956704996\n",
       "1000203     6040      1090       3  956715518\n",
       "1000204     6040      1091       1  956716541\n",
       "1000205     6040      1094       5  956704887\n",
       "1000206     6040       562       5  956704746\n",
       "1000207     6040      1096       4  956715648\n",
       "1000208     6040      1097       4  956715569\n",
       "\n",
       "[1000209 rows x 4 columns]"
      ]
     },
     "execution_count": 114,
     "metadata": {},
     "output_type": "execute_result"
    }
   ],
   "source": [
    "\"\"\"New Data Set - MovieLens 1M Data Set\"\"\"\n",
    "\n",
    "#Split out the different types of data into different data objects -- user ids, rating ids, movie names\n",
    "unames = ['user_id', 'gender', 'age', 'occupation', 'zip']\n",
    "users = pd.read_table('/Volumes/git/data/ml-1m/users.dat', sep='::', header = None, names=unames, engine='python')\n",
    "users[:10]\n",
    "\n",
    "rnames = ['user_id', 'movie_id', 'rating', 'timestamp']\n",
    "ratings = pd.read_table('/Volumes/git/data/ml-1m/ratings.dat', sep='::', header=None, names=rnames, engine='python')\n",
    "ratings[:10]\n",
    "\n",
    "mnames = ['movie_id', 'title', 'genres']\n",
    "movies = pd.read_table('/Volumes/git/data/ml-1m/movies.dat', sep='::', header=None, names=mnames, engine='python')\n",
    "movies[:10]\n",
    "\n",
    "# Printing out the full \"ratings\" will lead to hiding the large majority of rows and showing a summar at the end.\n",
    "ratings.info()\n",
    "ratings"
   ]
  },
  {
   "cell_type": "code",
   "execution_count": 115,
   "metadata": {
    "collapsed": false
   },
   "outputs": [
    {
     "name": "stdout",
     "output_type": "stream",
     "text": [
      "<class 'pandas.core.frame.DataFrame'>\n",
      "Int64Index: 1000209 entries, 0 to 1000208\n",
      "Data columns (total 10 columns):\n",
      "user_id       1000209 non-null int64\n",
      "movie_id      1000209 non-null int64\n",
      "rating        1000209 non-null int64\n",
      "timestamp     1000209 non-null int64\n",
      "gender        1000209 non-null object\n",
      "age           1000209 non-null int64\n",
      "occupation    1000209 non-null int64\n",
      "zip           1000209 non-null object\n",
      "title         1000209 non-null object\n",
      "genres        1000209 non-null object\n",
      "dtypes: int64(6), object(4)\n",
      "memory usage: 83.9+ MB\n"
     ]
    }
   ],
   "source": [
    "\"\"\"Merge these three data sets together into a single table\n",
    "Our goal is to group the average rating over genre, age, gender.\n",
    "Those are in three data sets.  Let's combine them.\n",
    "Pandas will infer which columns to join on based on join names.\n",
    "    See documentation for more background on joins.\n",
    "\"\"\"\n",
    "#These data sets share the common column name of \"user_id\"\n",
    "data = pd.merge(ratings, users)\n",
    "\n",
    "#These data sets share the common column name of \"movie_id\" (which came from ratings originally)\n",
    "data = pd.merge(data, movies)\n",
    "\n",
    "#Of course could have done this in one line:\n",
    "#data = pd.merge(pd.merge(ratings, users), movies)\n",
    "data.info()\n",
    "#data"
   ]
  },
  {
   "cell_type": "code",
   "execution_count": 116,
   "metadata": {
    "collapsed": false
   },
   "outputs": [
    {
     "data": {
      "text/plain": [
       "user_id                                            1\n",
       "movie_id                                        1193\n",
       "rating                                             5\n",
       "timestamp                                  978300760\n",
       "gender                                             F\n",
       "age                                                1\n",
       "occupation                                        10\n",
       "zip                                            48067\n",
       "title         One Flew Over the Cuckoo's Nest (1975)\n",
       "genres                                         Drama\n",
       "Name: 0, dtype: object"
      ]
     },
     "execution_count": 116,
     "metadata": {},
     "output_type": "execute_result"
    }
   ],
   "source": [
    "\"\"\"Use an index function to pull the data at location[0]\"\"\"\n",
    "data.ix[0]\n",
    "#This will throw an error: data[0].  A dataframe is not an array and can't be accessed that way\n",
    "#data.ix[0] is basically saying \"show me row 0 of the table\""
   ]
  },
  {
   "cell_type": "code",
   "execution_count": 117,
   "metadata": {
    "collapsed": false
   },
   "outputs": [
    {
     "name": "stdout",
     "output_type": "stream",
     "text": [
      "Mean ratings - as it was originally - grouped by gender\n",
      "gender                                F         M\n",
      "title                                            \n",
      "$1,000,000 Duck (1971)         3.375000  2.761905\n",
      "'Night Mother (1986)           3.388889  3.352941\n",
      "'Til There Was You (1997)      2.675676  2.733333\n",
      "'burbs, The (1989)             2.793478  2.962085\n",
      "...And Justice for All (1979)  3.828571  3.689024\n",
      "Mean ratings - as it is by title\n",
      "title\n",
      "$1,000,000 Duck (1971)            37\n",
      "'Night Mother (1986)              70\n",
      "'Til There Was You (1997)         52\n",
      "'burbs, The (1989)               303\n",
      "...And Justice for All (1979)    199\n",
      "dtype: int64\n",
      "Mean ratings - subselected on titles with >= 250 reviews\n",
      "gender                                    F         M\n",
      "title                                                \n",
      "'burbs, The (1989)                 2.793478  2.962085\n",
      "10 Things I Hate About You (1999)  3.646552  3.311966\n",
      "101 Dalmatians (1961)              3.791444  3.500000\n",
      "101 Dalmatians (1996)              3.240000  2.911215\n",
      "12 Angry Men (1957)                4.184397  4.328421\n",
      "Top ratings by female reviewers\n"
     ]
    },
    {
     "data": {
      "text/html": [
       "<div>\n",
       "<table border=\"1\" class=\"dataframe\">\n",
       "  <thead>\n",
       "    <tr style=\"text-align: right;\">\n",
       "      <th>gender</th>\n",
       "      <th>F</th>\n",
       "      <th>M</th>\n",
       "    </tr>\n",
       "    <tr>\n",
       "      <th>title</th>\n",
       "      <th></th>\n",
       "      <th></th>\n",
       "    </tr>\n",
       "  </thead>\n",
       "  <tbody>\n",
       "    <tr>\n",
       "      <th>Close Shave, A (1995)</th>\n",
       "      <td>4.644444</td>\n",
       "      <td>4.473795</td>\n",
       "    </tr>\n",
       "    <tr>\n",
       "      <th>Wrong Trousers, The (1993)</th>\n",
       "      <td>4.588235</td>\n",
       "      <td>4.478261</td>\n",
       "    </tr>\n",
       "    <tr>\n",
       "      <th>Sunset Blvd. (a.k.a. Sunset Boulevard) (1950)</th>\n",
       "      <td>4.572650</td>\n",
       "      <td>4.464589</td>\n",
       "    </tr>\n",
       "    <tr>\n",
       "      <th>Wallace &amp; Gromit: The Best of Aardman Animation (1996)</th>\n",
       "      <td>4.563107</td>\n",
       "      <td>4.385075</td>\n",
       "    </tr>\n",
       "    <tr>\n",
       "      <th>Schindler's List (1993)</th>\n",
       "      <td>4.562602</td>\n",
       "      <td>4.491415</td>\n",
       "    </tr>\n",
       "    <tr>\n",
       "      <th>Shawshank Redemption, The (1994)</th>\n",
       "      <td>4.539075</td>\n",
       "      <td>4.560625</td>\n",
       "    </tr>\n",
       "    <tr>\n",
       "      <th>Grand Day Out, A (1992)</th>\n",
       "      <td>4.537879</td>\n",
       "      <td>4.293255</td>\n",
       "    </tr>\n",
       "    <tr>\n",
       "      <th>To Kill a Mockingbird (1962)</th>\n",
       "      <td>4.536667</td>\n",
       "      <td>4.372611</td>\n",
       "    </tr>\n",
       "    <tr>\n",
       "      <th>Creature Comforts (1990)</th>\n",
       "      <td>4.513889</td>\n",
       "      <td>4.272277</td>\n",
       "    </tr>\n",
       "    <tr>\n",
       "      <th>Usual Suspects, The (1995)</th>\n",
       "      <td>4.513317</td>\n",
       "      <td>4.518248</td>\n",
       "    </tr>\n",
       "    <tr>\n",
       "      <th>It Happened One Night (1934)</th>\n",
       "      <td>4.500000</td>\n",
       "      <td>4.163934</td>\n",
       "    </tr>\n",
       "    <tr>\n",
       "      <th>Rear Window (1954)</th>\n",
       "      <td>4.484536</td>\n",
       "      <td>4.472991</td>\n",
       "    </tr>\n",
       "    <tr>\n",
       "      <th>Seven Samurai (The Magnificent Seven) (Shichinin no samurai) (1954)</th>\n",
       "      <td>4.481132</td>\n",
       "      <td>4.576628</td>\n",
       "    </tr>\n",
       "    <tr>\n",
       "      <th>Sixth Sense, The (1999)</th>\n",
       "      <td>4.477410</td>\n",
       "      <td>4.379944</td>\n",
       "    </tr>\n",
       "    <tr>\n",
       "      <th>Third Man, The (1949)</th>\n",
       "      <td>4.466019</td>\n",
       "      <td>4.448276</td>\n",
       "    </tr>\n",
       "    <tr>\n",
       "      <th>Some Like It Hot (1959)</th>\n",
       "      <td>4.462745</td>\n",
       "      <td>4.228769</td>\n",
       "    </tr>\n",
       "    <tr>\n",
       "      <th>City Lights (1931)</th>\n",
       "      <td>4.452055</td>\n",
       "      <td>4.363636</td>\n",
       "    </tr>\n",
       "    <tr>\n",
       "      <th>Notorious (1946)</th>\n",
       "      <td>4.448718</td>\n",
       "      <td>4.211073</td>\n",
       "    </tr>\n",
       "    <tr>\n",
       "      <th>Philadelphia Story, The (1940)</th>\n",
       "      <td>4.446809</td>\n",
       "      <td>4.201729</td>\n",
       "    </tr>\n",
       "    <tr>\n",
       "      <th>Life Is Beautiful (La Vita � bella) (1997)</th>\n",
       "      <td>4.422343</td>\n",
       "      <td>4.286624</td>\n",
       "    </tr>\n",
       "    <tr>\n",
       "      <th>Strangers on a Train (1951)</th>\n",
       "      <td>4.414815</td>\n",
       "      <td>4.262248</td>\n",
       "    </tr>\n",
       "    <tr>\n",
       "      <th>Bicycle Thief, The (Ladri di biciclette) (1948)</th>\n",
       "      <td>4.407407</td>\n",
       "      <td>4.343434</td>\n",
       "    </tr>\n",
       "    <tr>\n",
       "      <th>Mr. Smith Goes to Washington (1939)</th>\n",
       "      <td>4.400000</td>\n",
       "      <td>4.183746</td>\n",
       "    </tr>\n",
       "    <tr>\n",
       "      <th>Thin Blue Line, The (1988)</th>\n",
       "      <td>4.396552</td>\n",
       "      <td>4.213270</td>\n",
       "    </tr>\n",
       "    <tr>\n",
       "      <th>Killing Fields, The (1984)</th>\n",
       "      <td>4.378049</td>\n",
       "      <td>4.211268</td>\n",
       "    </tr>\n",
       "  </tbody>\n",
       "</table>\n",
       "</div>"
      ],
      "text/plain": [
       "gender                                                     F         M\n",
       "title                                                                 \n",
       "Close Shave, A (1995)                               4.644444  4.473795\n",
       "Wrong Trousers, The (1993)                          4.588235  4.478261\n",
       "Sunset Blvd. (a.k.a. Sunset Boulevard) (1950)       4.572650  4.464589\n",
       "Wallace & Gromit: The Best of Aardman Animation...  4.563107  4.385075\n",
       "Schindler's List (1993)                             4.562602  4.491415\n",
       "Shawshank Redemption, The (1994)                    4.539075  4.560625\n",
       "Grand Day Out, A (1992)                             4.537879  4.293255\n",
       "To Kill a Mockingbird (1962)                        4.536667  4.372611\n",
       "Creature Comforts (1990)                            4.513889  4.272277\n",
       "Usual Suspects, The (1995)                          4.513317  4.518248\n",
       "It Happened One Night (1934)                        4.500000  4.163934\n",
       "Rear Window (1954)                                  4.484536  4.472991\n",
       "Seven Samurai (The Magnificent Seven) (Shichini...  4.481132  4.576628\n",
       "Sixth Sense, The (1999)                             4.477410  4.379944\n",
       "Third Man, The (1949)                               4.466019  4.448276\n",
       "Some Like It Hot (1959)                             4.462745  4.228769\n",
       "City Lights (1931)                                  4.452055  4.363636\n",
       "Notorious (1946)                                    4.448718  4.211073\n",
       "Philadelphia Story, The (1940)                      4.446809  4.201729\n",
       "Life Is Beautiful (La Vita � bella) (1997)          4.422343  4.286624\n",
       "Strangers on a Train (1951)                         4.414815  4.262248\n",
       "Bicycle Thief, The (Ladri di biciclette) (1948)     4.407407  4.343434\n",
       "Mr. Smith Goes to Washington (1939)                 4.400000  4.183746\n",
       "Thin Blue Line, The (1988)                          4.396552  4.213270\n",
       "Killing Fields, The (1984)                          4.378049  4.211268"
      ]
     },
     "execution_count": 117,
     "metadata": {},
     "output_type": "execute_result"
    }
   ],
   "source": [
    "\"\"\"Pivot Tables and Group By, Indexing and sub-selecting, sorting\"\"\"\n",
    "#\"index\" here is loosely the same as what we'll see on the row of a table\n",
    "#We're rebasing the data on the title as the index and aggregating across the columns listed\n",
    "mean_ratings = data.pivot_table('rating', index='title', columns='gender', aggfunc='mean')\n",
    "print \"Mean ratings - as it was originally - grouped by gender\"\n",
    "print mean_ratings[:5]\n",
    "\n",
    "#Filter down to movies that got at least 250 ratings (arbitrary choice for illustration)\n",
    "#.si\n",
    "ratings_by_title = data.groupby('title').size()\n",
    "    # We could use value_counts() here as well: data['title'].value_counts().\n",
    "    # Recall value_counts() is for series only.  The function size() also produces a series\n",
    "    # ratings_by_title = data['title'].value_counts()\n",
    "print \"Mean ratings - as it is by title\"\n",
    "print ratings_by_title[:5]\n",
    "#This is a list of titles.  We set up mean_ratings to be indexed by titles, so we can use these titles to filter.\n",
    "#We're resetting mean_ratings to be just ratings with at least 250 reviews\n",
    "active_titles = ratings_by_title.index[ratings_by_title >= 250]\n",
    "mean_ratings = mean_ratings.ix[active_titles]\n",
    "print \"Mean ratings - subselected on titles with >= 250 reviews\"\n",
    "print mean_ratings[:5]\n",
    "\n",
    "print \"Top ratings by female reviewers\"\n",
    "top_female_ratings = mean_ratings.sort_values(by='F',ascending=False)\n",
    "top_female_ratings[:25]"
   ]
  },
  {
   "cell_type": "code",
   "execution_count": 118,
   "metadata": {
    "collapsed": false
   },
   "outputs": [
    {
     "data": {
      "text/html": [
       "<div>\n",
       "<table border=\"1\" class=\"dataframe\">\n",
       "  <thead>\n",
       "    <tr style=\"text-align: right;\">\n",
       "      <th>gender</th>\n",
       "      <th>F</th>\n",
       "      <th>M</th>\n",
       "      <th>diff</th>\n",
       "    </tr>\n",
       "    <tr>\n",
       "      <th>title</th>\n",
       "      <th></th>\n",
       "      <th></th>\n",
       "      <th></th>\n",
       "    </tr>\n",
       "  </thead>\n",
       "  <tbody>\n",
       "    <tr>\n",
       "      <th>Dirty Dancing (1987)</th>\n",
       "      <td>3.790378</td>\n",
       "      <td>2.959596</td>\n",
       "      <td>0.830782</td>\n",
       "    </tr>\n",
       "    <tr>\n",
       "      <th>Good, The Bad and The Ugly, The (1966)</th>\n",
       "      <td>3.494949</td>\n",
       "      <td>4.221300</td>\n",
       "      <td>0.726351</td>\n",
       "    </tr>\n",
       "    <tr>\n",
       "      <th>Kentucky Fried Movie, The (1977)</th>\n",
       "      <td>2.878788</td>\n",
       "      <td>3.555147</td>\n",
       "      <td>0.676359</td>\n",
       "    </tr>\n",
       "    <tr>\n",
       "      <th>Jumpin' Jack Flash (1986)</th>\n",
       "      <td>3.254717</td>\n",
       "      <td>2.578358</td>\n",
       "      <td>0.676359</td>\n",
       "    </tr>\n",
       "    <tr>\n",
       "      <th>Dumb &amp; Dumber (1994)</th>\n",
       "      <td>2.697987</td>\n",
       "      <td>3.336595</td>\n",
       "      <td>0.638608</td>\n",
       "    </tr>\n",
       "    <tr>\n",
       "      <th>Longest Day, The (1962)</th>\n",
       "      <td>3.411765</td>\n",
       "      <td>4.031447</td>\n",
       "      <td>0.619682</td>\n",
       "    </tr>\n",
       "    <tr>\n",
       "      <th>Cable Guy, The (1996)</th>\n",
       "      <td>2.250000</td>\n",
       "      <td>2.863787</td>\n",
       "      <td>0.613787</td>\n",
       "    </tr>\n",
       "    <tr>\n",
       "      <th>Evil Dead II (Dead By Dawn) (1987)</th>\n",
       "      <td>3.297297</td>\n",
       "      <td>3.909283</td>\n",
       "      <td>0.611985</td>\n",
       "    </tr>\n",
       "    <tr>\n",
       "      <th>Grease (1978)</th>\n",
       "      <td>3.975265</td>\n",
       "      <td>3.367041</td>\n",
       "      <td>0.608224</td>\n",
       "    </tr>\n",
       "    <tr>\n",
       "      <th>Hidden, The (1987)</th>\n",
       "      <td>3.137931</td>\n",
       "      <td>3.745098</td>\n",
       "      <td>0.607167</td>\n",
       "    </tr>\n",
       "    <tr>\n",
       "      <th>Rocky III (1982)</th>\n",
       "      <td>2.361702</td>\n",
       "      <td>2.943503</td>\n",
       "      <td>0.581801</td>\n",
       "    </tr>\n",
       "    <tr>\n",
       "      <th>Caddyshack (1980)</th>\n",
       "      <td>3.396135</td>\n",
       "      <td>3.969737</td>\n",
       "      <td>0.573602</td>\n",
       "    </tr>\n",
       "    <tr>\n",
       "      <th>Little Women (1994)</th>\n",
       "      <td>3.870588</td>\n",
       "      <td>3.321739</td>\n",
       "      <td>0.548849</td>\n",
       "    </tr>\n",
       "    <tr>\n",
       "      <th>For a Few Dollars More (1965)</th>\n",
       "      <td>3.409091</td>\n",
       "      <td>3.953795</td>\n",
       "      <td>0.544704</td>\n",
       "    </tr>\n",
       "    <tr>\n",
       "      <th>Porky's (1981)</th>\n",
       "      <td>2.296875</td>\n",
       "      <td>2.836364</td>\n",
       "      <td>0.539489</td>\n",
       "    </tr>\n",
       "  </tbody>\n",
       "</table>\n",
       "</div>"
      ],
      "text/plain": [
       "gender                                         F         M      diff\n",
       "title                                                               \n",
       "Dirty Dancing (1987)                    3.790378  2.959596  0.830782\n",
       "Good, The Bad and The Ugly, The (1966)  3.494949  4.221300  0.726351\n",
       "Kentucky Fried Movie, The (1977)        2.878788  3.555147  0.676359\n",
       "Jumpin' Jack Flash (1986)               3.254717  2.578358  0.676359\n",
       "Dumb & Dumber (1994)                    2.697987  3.336595  0.638608\n",
       "Longest Day, The (1962)                 3.411765  4.031447  0.619682\n",
       "Cable Guy, The (1996)                   2.250000  2.863787  0.613787\n",
       "Evil Dead II (Dead By Dawn) (1987)      3.297297  3.909283  0.611985\n",
       "Grease (1978)                           3.975265  3.367041  0.608224\n",
       "Hidden, The (1987)                      3.137931  3.745098  0.607167\n",
       "Rocky III (1982)                        2.361702  2.943503  0.581801\n",
       "Caddyshack (1980)                       3.396135  3.969737  0.573602\n",
       "Little Women (1994)                     3.870588  3.321739  0.548849\n",
       "For a Few Dollars More (1965)           3.409091  3.953795  0.544704\n",
       "Porky's (1981)                          2.296875  2.836364  0.539489"
      ]
     },
     "execution_count": 118,
     "metadata": {},
     "output_type": "execute_result"
    }
   ],
   "source": [
    "\"\"\"Derived table columns. :: \"\"\"\n",
    "mean_ratings['diff'] = abs(mean_ratings['M'] - mean_ratings['F'])\n",
    "# Sort by the largest diff -- i.e. where women rated much higher than men\n",
    "sorted_by_diff = mean_ratings.sort_values(by='diff')\n",
    "# The [::-1] means to step by 1 but do it backwards -- i.e. sort by top value\n",
    "# [:15] means what it usually means - just the first 15.  So show the top 15 values\n",
    "sorted_by_diff[::-1][:15]"
   ]
  },
  {
   "cell_type": "code",
   "execution_count": 119,
   "metadata": {
    "collapsed": false
   },
   "outputs": [
    {
     "data": {
      "text/plain": [
       "title\n",
       "Dumb & Dumber (1994)                     1.321333\n",
       "Blair Witch Project, The (1999)          1.316368\n",
       "Natural Born Killers (1994)              1.307198\n",
       "Tank Girl (1995)                         1.277695\n",
       "Rocky Horror Picture Show, The (1975)    1.260177\n",
       "Eyes Wide Shut (1999)                    1.259624\n",
       "Evita (1996)                             1.253631\n",
       "Billy Madison (1995)                     1.249970\n",
       "Fear and Loathing in Las Vegas (1998)    1.246408\n",
       "Bicentennial Man (1999)                  1.245533\n",
       "Name: rating, dtype: float64"
      ]
     },
     "execution_count": 119,
     "metadata": {},
     "output_type": "execute_result"
    }
   ],
   "source": [
    "\"\"\"Compute aggregate statistics - Standard Deviation\"\"\"\n",
    "# Calculate the standard deviation of the rating for all titles\n",
    "rating_std_by_title = data.groupby('title')['rating'].std()\n",
    "rating_std_by_title\n",
    "# Filter down on just the titles with >= 250 reviews\n",
    "# Recall we can't just slice a dataframe, we have to slice its index\n",
    "rating_std_by_title = rating_std_by_title.ix[active_titles]\n",
    "rating_std_by_title.sort_values(ascending=False)[:10]"
   ]
  },
  {
   "cell_type": "code",
   "execution_count": 120,
   "metadata": {
    "collapsed": false
   },
   "outputs": [
    {
     "data": {
      "text/plain": [
       "name\n",
       "John       9701\n",
       "William    9561\n",
       "Mary       7092\n",
       "James      5949\n",
       "Charles    5359\n",
       "George     5152\n",
       "Frank      3255\n",
       "Joseph     2642\n",
       "Anna       2616\n",
       "Thomas     2542\n",
       "Name: births, dtype: int64"
      ]
     },
     "execution_count": 120,
     "metadata": {},
     "output_type": "execute_result"
    }
   ],
   "source": [
    "\"\"\"\n",
    "Exercise 3:\n",
    "Frequency of Baby Names data set\"\"\"\n",
    "# Downloaded from SSA: https://www.ssa.gov/open/data/\n",
    "names1880 = pd.read_csv('/Volumes/git/data/names/yob1880.txt', names=['name','sex','births'])\n",
    "# Remember to group by particular field over another field you have to define the operation\n",
    "names1880.groupby('sex')['births'].sum()[:10]\n",
    "names1880.groupby('name')['births'].sum().sort_values(ascending=False)[:10]"
   ]
  },
  {
   "cell_type": "code",
   "execution_count": 121,
   "metadata": {
    "collapsed": false
   },
   "outputs": [
    {
     "name": "stdout",
     "output_type": "stream",
     "text": [
      "sex        F       M\n",
      "year                \n",
      "1880   90992  110490\n",
      "1881   91953  100743\n",
      "1882  107848  113686\n",
      "1883  112318  104627\n",
      "1884  129020  114443\n",
      "sex        F       M\n",
      "year                \n",
      "1880   90992  110490\n",
      "1881   91953  100743\n",
      "1882  107848  113686\n",
      "1883  112318  104627\n",
      "1884  129020  114443\n"
     ]
    },
    {
     "data": {
      "text/plain": [
       "<matplotlib.axes._subplots.AxesSubplot at 0x14aa9ebd0>"
      ]
     },
     "execution_count": 121,
     "metadata": {},
     "output_type": "execute_result"
    },
    {
     "data": {
      "image/png": "[encoded data removed]",
      "text/plain": [
       "<matplotlib.figure.Figure at 0x114015c50>"
      ]
     },
     "metadata": {},
     "output_type": "display_data"
    }
   ],
   "source": [
    "\"\"\"Concatenate all baby names into a single baby name\"\"\"\n",
    "years = range(1880, 2016) #2015 is the last year currently available\n",
    "\n",
    "# Specify an empty array that will hold each new year in successe\n",
    "pieces = []\n",
    "# Specify our columns in an array that we'll use when we read in the CSV\n",
    "columns = ['name', 'sex', 'births']\n",
    "for year in years:\n",
    "    path = '/Volumes/git/data/names/yob%d.txt' % year\n",
    "    #  print path\n",
    "    frame = pd.read_csv(path, names=columns)\n",
    "    \n",
    "    #We want to keep track of the year too in our concatenated frame\n",
    "    frame['year'] = year\n",
    "    \n",
    "    #Each dataframe year is getting added to the list as a new element\n",
    "    pieces.append(frame)\n",
    "\n",
    "#Concatenate all the dataframe elements into a single dataframe\n",
    "names = pd.concat(pieces, ignore_index=True) #ignore_index = true so we rebase on new row number\n",
    "names[:100]\n",
    "\n",
    "# These do the same damn thing.  Wake up America.\n",
    "total_births = names.pivot_table('births', index='year', columns='sex', aggfunc=sum)\n",
    "print total_births[:5]\n",
    "# The order of year and sex matters here -- year values becomes the index, sex values the columns\n",
    "total_births = names.groupby(['year','sex'])['births'].sum().unstack().sort_index()\n",
    "print total_births[:5]\n",
    "\n",
    "%matplotlib inline\n",
    "import matplotlib\n",
    "total_births.plot(title='Total births by sex and year')"
   ]
  },
  {
   "cell_type": "code",
   "execution_count": 122,
   "metadata": {
    "collapsed": false
   },
   "outputs": [
    {
     "data": {
      "text/plain": [
       "True"
      ]
     },
     "execution_count": 122,
     "metadata": {},
     "output_type": "execute_result"
    }
   ],
   "source": [
    "\"\"\"Augment the births data with a new column showing the % of total for each name and year\"\"\"\n",
    "\n",
    "#Create a function to add that for a passed dataframe\n",
    "def add_prop(group):\n",
    "    # Integer division floors\n",
    "    births = group.births.astype(float)\n",
    "    group['prop'] = births / births.sum()\n",
    "    return group\n",
    "\n",
    "# This says to group by year and sex and apply the function to each groupwise element\n",
    "# Use apply when you want to define a more complex function than the built-in group by\n",
    "names = names.groupby(['year', 'sex']).apply(add_prop)\n",
    "names[:5]\n",
    "\n",
    "import numpy as np\n",
    "# Verify i.e. sanity check that our prop = 1 for each name-sex combination\n",
    "np.allclose( names.groupby(['year','sex']).prop.sum(), 1)"
   ]
  },
  {
   "cell_type": "code",
   "execution_count": 123,
   "metadata": {
    "collapsed": false
   },
   "outputs": [
    {
     "data": {
      "text/html": [
       "<div>\n",
       "<table border=\"1\" class=\"dataframe\">\n",
       "  <thead>\n",
       "    <tr style=\"text-align: right;\">\n",
       "      <th></th>\n",
       "      <th></th>\n",
       "      <th></th>\n",
       "      <th>name</th>\n",
       "      <th>sex</th>\n",
       "      <th>births</th>\n",
       "      <th>year</th>\n",
       "      <th>prop</th>\n",
       "    </tr>\n",
       "    <tr>\n",
       "      <th>year</th>\n",
       "      <th>sex</th>\n",
       "      <th></th>\n",
       "      <th></th>\n",
       "      <th></th>\n",
       "      <th></th>\n",
       "      <th></th>\n",
       "      <th></th>\n",
       "    </tr>\n",
       "  </thead>\n",
       "  <tbody>\n",
       "    <tr>\n",
       "      <th rowspan=\"10\" valign=\"top\">1880</th>\n",
       "      <th rowspan=\"10\" valign=\"top\">F</th>\n",
       "      <th>0</th>\n",
       "      <td>Mary</td>\n",
       "      <td>F</td>\n",
       "      <td>7065</td>\n",
       "      <td>1880</td>\n",
       "      <td>0.077644</td>\n",
       "    </tr>\n",
       "    <tr>\n",
       "      <th>1</th>\n",
       "      <td>Anna</td>\n",
       "      <td>F</td>\n",
       "      <td>2604</td>\n",
       "      <td>1880</td>\n",
       "      <td>0.028618</td>\n",
       "    </tr>\n",
       "    <tr>\n",
       "      <th>2</th>\n",
       "      <td>Emma</td>\n",
       "      <td>F</td>\n",
       "      <td>2003</td>\n",
       "      <td>1880</td>\n",
       "      <td>0.022013</td>\n",
       "    </tr>\n",
       "    <tr>\n",
       "      <th>3</th>\n",
       "      <td>Elizabeth</td>\n",
       "      <td>F</td>\n",
       "      <td>1939</td>\n",
       "      <td>1880</td>\n",
       "      <td>0.021310</td>\n",
       "    </tr>\n",
       "    <tr>\n",
       "      <th>4</th>\n",
       "      <td>Minnie</td>\n",
       "      <td>F</td>\n",
       "      <td>1746</td>\n",
       "      <td>1880</td>\n",
       "      <td>0.019189</td>\n",
       "    </tr>\n",
       "    <tr>\n",
       "      <th>5</th>\n",
       "      <td>Margaret</td>\n",
       "      <td>F</td>\n",
       "      <td>1578</td>\n",
       "      <td>1880</td>\n",
       "      <td>0.017342</td>\n",
       "    </tr>\n",
       "    <tr>\n",
       "      <th>6</th>\n",
       "      <td>Ida</td>\n",
       "      <td>F</td>\n",
       "      <td>1472</td>\n",
       "      <td>1880</td>\n",
       "      <td>0.016177</td>\n",
       "    </tr>\n",
       "    <tr>\n",
       "      <th>7</th>\n",
       "      <td>Alice</td>\n",
       "      <td>F</td>\n",
       "      <td>1414</td>\n",
       "      <td>1880</td>\n",
       "      <td>0.015540</td>\n",
       "    </tr>\n",
       "    <tr>\n",
       "      <th>8</th>\n",
       "      <td>Bertha</td>\n",
       "      <td>F</td>\n",
       "      <td>1320</td>\n",
       "      <td>1880</td>\n",
       "      <td>0.014507</td>\n",
       "    </tr>\n",
       "    <tr>\n",
       "      <th>9</th>\n",
       "      <td>Sarah</td>\n",
       "      <td>F</td>\n",
       "      <td>1288</td>\n",
       "      <td>1880</td>\n",
       "      <td>0.014155</td>\n",
       "    </tr>\n",
       "  </tbody>\n",
       "</table>\n",
       "</div>"
      ],
      "text/plain": [
       "                 name sex  births  year      prop\n",
       "year sex                                         \n",
       "1880 F   0       Mary   F    7065  1880  0.077644\n",
       "         1       Anna   F    2604  1880  0.028618\n",
       "         2       Emma   F    2003  1880  0.022013\n",
       "         3  Elizabeth   F    1939  1880  0.021310\n",
       "         4     Minnie   F    1746  1880  0.019189\n",
       "         5   Margaret   F    1578  1880  0.017342\n",
       "         6        Ida   F    1472  1880  0.016177\n",
       "         7      Alice   F    1414  1880  0.015540\n",
       "         8     Bertha   F    1320  1880  0.014507\n",
       "         9      Sarah   F    1288  1880  0.014155"
      ]
     },
     "execution_count": 123,
     "metadata": {},
     "output_type": "execute_result"
    }
   ],
   "source": [
    "\"\"\"Extract the Top 1000 names for each sex/year combination. Use apply again \"\"\"\n",
    "def get_top_1000(group):\n",
    "    return group.sort_values(by='births', ascending=False)[:1000]\n",
    "\n",
    "top1000 = names.groupby(['year', 'sex']).apply(get_top_1000)\n",
    "top1000[:10]"
   ]
  },
  {
   "cell_type": "code",
   "execution_count": 124,
   "metadata": {
    "collapsed": false
   },
   "outputs": [],
   "source": [
    "\"\"\"Sub-select just for gender male and female in the top1000 data frame\"\"\"\n",
    "top_boy_names = top1000[top1000.sex == 'M']\n",
    "top_girl_names = top1000[top1000.sex == 'F']"
   ]
  },
  {
   "cell_type": "code",
   "execution_count": 125,
   "metadata": {
    "collapsed": false
   },
   "outputs": [
    {
     "name": "stdout",
     "output_type": "stream",
     "text": [
      "<class 'pandas.core.frame.DataFrame'>\n",
      "Int64Index: 136 entries, 1880 to 2015\n",
      "Columns: 7062 entries, Aaden to Zuri\n",
      "dtypes: float64(7062)\n",
      "memory usage: 7.3 MB\n"
     ]
    }
   ],
   "source": [
    "\"\"\" Pivot table of the total number of births by year and name \"\"\"\n",
    "#dataframe.pivot_table('numeric_variable', index = 'row_var', columns = 'column var', aggfunc=aggfunc [default sum]\n",
    "total_births = top1000.pivot_table('births', index='year',columns='name', aggfunc=sum)\n",
    "total_births.info()"
   ]
  },
  {
   "cell_type": "code",
   "execution_count": 126,
   "metadata": {
    "collapsed": false
   },
   "outputs": [
    {
     "data": {
      "text/plain": [
       "array([<matplotlib.axes._subplots.AxesSubplot object at 0x14ac51210>,\n",
       "       <matplotlib.axes._subplots.AxesSubplot object at 0x149661ed0>,\n",
       "       <matplotlib.axes._subplots.AxesSubplot object at 0x1495ccf10>,\n",
       "       <matplotlib.axes._subplots.AxesSubplot object at 0x149554a90>,\n",
       "       <matplotlib.axes._subplots.AxesSubplot object at 0x1494bb250>], dtype=object)"
      ]
     },
     "execution_count": 126,
     "metadata": {},
     "output_type": "execute_result"
    },
    {
     "data": {
      "image/png": "[encoded data removed]",
      "text/plain": [
       "<matplotlib.figure.Figure at 0x14ac35990>"
      ]
     },
     "metadata": {},
     "output_type": "display_data"
    }
   ],
   "source": [
    "name_subset_for_plot = total_births[['John','Harry','Mary','Marilyn','Michael']]\n",
    "name_subset_for_plot.plot(subplots=True, figsize=(12,10))"
   ]
  },
  {
   "cell_type": "code",
   "execution_count": 127,
   "metadata": {
    "collapsed": false
   },
   "outputs": [
    {
     "data": {
      "text/plain": [
       "<matplotlib.axes._subplots.AxesSubplot at 0x13765ba50>"
      ]
     },
     "execution_count": 127,
     "metadata": {},
     "output_type": "execute_result"
    },
    {
     "data": {
      "image/png": "[encoded data removed]",
      "text/plain": [
       "<matplotlib.figure.Figure at 0x14acdac50>"
      ]
     },
     "metadata": {},
     "output_type": "display_data"
    }
   ],
   "source": [
    "\"\"\"Determnie what percentage is made up by the top 1000 most common names. Aggregate over gender.\"\"\"\n",
    "top1000.pivot_table('prop',index='year',columns='sex',aggfunc=sum).plot(title='Top 1000 names as % of all names in given year, by sex',yticks=np.linspace(0, 1.2, 13), xticks=range(1880, 2020, 10))"
   ]
  },
  {
   "cell_type": "code",
   "execution_count": 141,
   "metadata": {
    "collapsed": false
   },
   "outputs": [
    {
     "data": {
      "text/plain": [
       "<matplotlib.axes._subplots.AxesSubplot at 0x12e171850>"
      ]
     },
     "execution_count": 141,
     "metadata": {},
     "output_type": "execute_result"
    },
    {
     "data": {
      "image/png": "[encoded data removed]",
      "text/plain": [
       "<matplotlib.figure.Figure at 0x13755af50>"
      ]
     },
     "metadata": {},
     "output_type": "display_data"
    }
   ],
   "source": [
    "\"\"\"Determine the number of distinct names in the top 50% of all names by year and sex\"\"\"\n",
    "\"\"\"Start with a single gender & year and see that we can use cumsum and searchsorted to get the values\"\"\"\n",
    "# Start with boy names in 2010\n",
    "top_boy_names_in_year = top_boy_names[top_boy_names.year == 2010].sort_values(by='prop',ascending=False).prop.cumsum()\n",
    "top_boy_names_in_year[:10]\n",
    "# The value returned is the index value = so add 1 to see which ordinal place it is.. e.g. 24 --> 25th most popular\n",
    "top_boy_names_in_year.values.searchsorted(0.5)\n",
    "top_boy_names[top_boy_names.year == 1900].sort_values(by='prop',ascending=False).prop.cumsum().values.searchsorted(0.5)+1\n",
    "\n",
    "\"\"\"Create the function that will take a specific year and sex and apply the sorting, cumsum, and searchsort\"\"\"\n",
    "def get_quantile_count(group, quantile=0.5):\n",
    "    group = group.sort_values(by='prop',ascending=False)\n",
    "    return group.prop.cumsum().values.searchsorted(quantile)+1\n",
    "\n",
    "\"\"\"Anticipate a function that will take all year and sex and apply a function that gives us the number of names\"\"\"\n",
    "diversity_in_year = top1000.groupby(['year','sex']).apply(get_quantile_count)\n",
    "diversity_in_year = diversity_in_year.unstack('sex')  # Recall that unstack move the level values of a row into columns\n",
    "diversity_in_year.plot(title='Minimum number of names in the top 50% of all names')"
   ]
  },
  {
   "cell_type": "code",
   "execution_count": 178,
   "metadata": {
    "collapsed": false
   },
   "outputs": [
    {
     "data": {
      "text/html": [
       "<div>\n",
       "<table border=\"1\" class=\"dataframe\">\n",
       "  <thead>\n",
       "    <tr>\n",
       "      <th>sex</th>\n",
       "      <th colspan=\"10\" halign=\"left\">F</th>\n",
       "      <th>...</th>\n",
       "      <th colspan=\"10\" halign=\"left\">M</th>\n",
       "    </tr>\n",
       "    <tr>\n",
       "      <th>year</th>\n",
       "      <th>1880</th>\n",
       "      <th>1881</th>\n",
       "      <th>1882</th>\n",
       "      <th>1883</th>\n",
       "      <th>1884</th>\n",
       "      <th>1885</th>\n",
       "      <th>1886</th>\n",
       "      <th>1887</th>\n",
       "      <th>1888</th>\n",
       "      <th>1889</th>\n",
       "      <th>...</th>\n",
       "      <th>2006</th>\n",
       "      <th>2007</th>\n",
       "      <th>2008</th>\n",
       "      <th>2009</th>\n",
       "      <th>2010</th>\n",
       "      <th>2011</th>\n",
       "      <th>2012</th>\n",
       "      <th>2013</th>\n",
       "      <th>2014</th>\n",
       "      <th>2015</th>\n",
       "    </tr>\n",
       "    <tr>\n",
       "      <th>last letter</th>\n",
       "      <th></th>\n",
       "      <th></th>\n",
       "      <th></th>\n",
       "      <th></th>\n",
       "      <th></th>\n",
       "      <th></th>\n",
       "      <th></th>\n",
       "      <th></th>\n",
       "      <th></th>\n",
       "      <th></th>\n",
       "      <th></th>\n",
       "      <th></th>\n",
       "      <th></th>\n",
       "      <th></th>\n",
       "      <th></th>\n",
       "      <th></th>\n",
       "      <th></th>\n",
       "      <th></th>\n",
       "      <th></th>\n",
       "      <th></th>\n",
       "      <th></th>\n",
       "    </tr>\n",
       "  </thead>\n",
       "  <tbody>\n",
       "    <tr>\n",
       "      <th>a</th>\n",
       "      <td>31446.0</td>\n",
       "      <td>31581.0</td>\n",
       "      <td>36536.0</td>\n",
       "      <td>38329.0</td>\n",
       "      <td>43680.0</td>\n",
       "      <td>45408.0</td>\n",
       "      <td>49100.0</td>\n",
       "      <td>48942.0</td>\n",
       "      <td>59441.0</td>\n",
       "      <td>58631.0</td>\n",
       "      <td>...</td>\n",
       "      <td>36218.0</td>\n",
       "      <td>34735.0</td>\n",
       "      <td>32995.0</td>\n",
       "      <td>31586.0</td>\n",
       "      <td>28837.0</td>\n",
       "      <td>27404.0</td>\n",
       "      <td>27167.0</td>\n",
       "      <td>27350.0</td>\n",
       "      <td>28167.0</td>\n",
       "      <td>28729.0</td>\n",
       "    </tr>\n",
       "    <tr>\n",
       "      <th>b</th>\n",
       "      <td>NaN</td>\n",
       "      <td>NaN</td>\n",
       "      <td>NaN</td>\n",
       "      <td>NaN</td>\n",
       "      <td>NaN</td>\n",
       "      <td>NaN</td>\n",
       "      <td>NaN</td>\n",
       "      <td>NaN</td>\n",
       "      <td>NaN</td>\n",
       "      <td>NaN</td>\n",
       "      <td>...</td>\n",
       "      <td>42655.0</td>\n",
       "      <td>42206.0</td>\n",
       "      <td>40056.0</td>\n",
       "      <td>39055.0</td>\n",
       "      <td>39229.0</td>\n",
       "      <td>36635.0</td>\n",
       "      <td>34654.0</td>\n",
       "      <td>33150.0</td>\n",
       "      <td>31251.0</td>\n",
       "      <td>29356.0</td>\n",
       "    </tr>\n",
       "    <tr>\n",
       "      <th>c</th>\n",
       "      <td>NaN</td>\n",
       "      <td>NaN</td>\n",
       "      <td>5.0</td>\n",
       "      <td>5.0</td>\n",
       "      <td>NaN</td>\n",
       "      <td>NaN</td>\n",
       "      <td>NaN</td>\n",
       "      <td>NaN</td>\n",
       "      <td>NaN</td>\n",
       "      <td>NaN</td>\n",
       "      <td>...</td>\n",
       "      <td>26664.0</td>\n",
       "      <td>26897.0</td>\n",
       "      <td>25374.0</td>\n",
       "      <td>24139.0</td>\n",
       "      <td>23325.0</td>\n",
       "      <td>23099.0</td>\n",
       "      <td>24237.0</td>\n",
       "      <td>24010.0</td>\n",
       "      <td>23741.0</td>\n",
       "      <td>22956.0</td>\n",
       "    </tr>\n",
       "    <tr>\n",
       "      <th>d</th>\n",
       "      <td>609.0</td>\n",
       "      <td>607.0</td>\n",
       "      <td>734.0</td>\n",
       "      <td>810.0</td>\n",
       "      <td>916.0</td>\n",
       "      <td>862.0</td>\n",
       "      <td>1007.0</td>\n",
       "      <td>1027.0</td>\n",
       "      <td>1298.0</td>\n",
       "      <td>1374.0</td>\n",
       "      <td>...</td>\n",
       "      <td>51480.0</td>\n",
       "      <td>50703.0</td>\n",
       "      <td>48033.0</td>\n",
       "      <td>46322.0</td>\n",
       "      <td>44780.0</td>\n",
       "      <td>43183.0</td>\n",
       "      <td>42407.0</td>\n",
       "      <td>42596.0</td>\n",
       "      <td>43900.0</td>\n",
       "      <td>43501.0</td>\n",
       "    </tr>\n",
       "    <tr>\n",
       "      <th>e</th>\n",
       "      <td>33380.0</td>\n",
       "      <td>34080.0</td>\n",
       "      <td>40399.0</td>\n",
       "      <td>41912.0</td>\n",
       "      <td>48089.0</td>\n",
       "      <td>49616.0</td>\n",
       "      <td>53884.0</td>\n",
       "      <td>54352.0</td>\n",
       "      <td>66749.0</td>\n",
       "      <td>66662.0</td>\n",
       "      <td>...</td>\n",
       "      <td>143142.0</td>\n",
       "      <td>143944.0</td>\n",
       "      <td>141267.0</td>\n",
       "      <td>135906.0</td>\n",
       "      <td>130130.0</td>\n",
       "      <td>128638.0</td>\n",
       "      <td>128269.0</td>\n",
       "      <td>131898.0</td>\n",
       "      <td>131677.0</td>\n",
       "      <td>127686.0</td>\n",
       "    </tr>\n",
       "  </tbody>\n",
       "</table>\n",
       "<p>5 rows × 272 columns</p>\n",
       "</div>"
      ],
      "text/plain": [
       "sex                F                                                        \\\n",
       "year            1880     1881     1882     1883     1884     1885     1886   \n",
       "last letter                                                                  \n",
       "a            31446.0  31581.0  36536.0  38329.0  43680.0  45408.0  49100.0   \n",
       "b                NaN      NaN      NaN      NaN      NaN      NaN      NaN   \n",
       "c                NaN      NaN      5.0      5.0      NaN      NaN      NaN   \n",
       "d              609.0    607.0    734.0    810.0    916.0    862.0   1007.0   \n",
       "e            33380.0  34080.0  40399.0  41912.0  48089.0  49616.0  53884.0   \n",
       "\n",
       "sex                                       ...            M            \\\n",
       "year            1887     1888     1889    ...         2006      2007   \n",
       "last letter                               ...                          \n",
       "a            48942.0  59441.0  58631.0    ...      36218.0   34735.0   \n",
       "b                NaN      NaN      NaN    ...      42655.0   42206.0   \n",
       "c                NaN      NaN      NaN    ...      26664.0   26897.0   \n",
       "d             1027.0   1298.0   1374.0    ...      51480.0   50703.0   \n",
       "e            54352.0  66749.0  66662.0    ...     143142.0  143944.0   \n",
       "\n",
       "sex                                                                      \\\n",
       "year             2008      2009      2010      2011      2012      2013   \n",
       "last letter                                                               \n",
       "a             32995.0   31586.0   28837.0   27404.0   27167.0   27350.0   \n",
       "b             40056.0   39055.0   39229.0   36635.0   34654.0   33150.0   \n",
       "c             25374.0   24139.0   23325.0   23099.0   24237.0   24010.0   \n",
       "d             48033.0   46322.0   44780.0   43183.0   42407.0   42596.0   \n",
       "e            141267.0  135906.0  130130.0  128638.0  128269.0  131898.0   \n",
       "\n",
       "sex                              \n",
       "year             2014      2015  \n",
       "last letter                      \n",
       "a             28167.0   28729.0  \n",
       "b             31251.0   29356.0  \n",
       "c             23741.0   22956.0  \n",
       "d             43900.0   43501.0  \n",
       "e            131677.0  127686.0  \n",
       "\n",
       "[5 rows x 272 columns]"
      ]
     },
     "execution_count": 178,
     "metadata": {},
     "output_type": "execute_result"
    }
   ],
   "source": [
    "\"\"\"See how the distribution of the last letter of names has changed over time\"\"\"\n",
    "# Find the last letter from girl names\n",
    "\n",
    "# Create the function that will find the last element of each name\n",
    "get_last_letter = lambda x:x[-1]\n",
    "# Anticipate the function that is applied to each member of the series.  Note that .map() only prepended by a series\n",
    "last_letters = names.name.map(get_last_letter)\n",
    "last_letters.name = 'last letter'\n",
    "\n",
    "# Create a table from our names that uses the letters we found as an index; count the # of instances of each letter\n",
    "table = names.pivot_table('births', index = last_letters, columns = ['sex','year'], aggfunc=sum)\n",
    "table.head()"
   ]
  },
  {
   "cell_type": "code",
   "execution_count": 218,
   "metadata": {
    "collapsed": false,
    "scrolled": true
   },
   "outputs": [
    {
     "data": {
      "text/plain": [
       "<matplotlib.axes._subplots.AxesSubplot at 0x141c00810>"
      ]
     },
     "execution_count": 218,
     "metadata": {},
     "output_type": "execute_result"
    },
    {
     "data": {
      "image/png": "[encoded data removed]",
      "text/plain": [
       "<matplotlib.figure.Figure at 0x143a25e10>"
      ]
     },
     "metadata": {},
     "output_type": "display_data"
    },
    {
     "data": {
      "image/png": "[encoded data removed]",
      "text/plain": [
       "<matplotlib.figure.Figure at 0x141c002d0>"
      ]
     },
     "metadata": {},
     "output_type": "display_data"
    }
   ],
   "source": [
    "# Create a subtable that has indexes by a few representative years\n",
    "subtable = table.reindex(columns=[1910, 1935, 1960, 1985, 2010], level = 'year')\n",
    "#print subtable\n",
    "\n",
    "# See that you can sum automatically groups over the levels of the notebook and keep the same indices\n",
    "#print subtable.sum()\n",
    "\n",
    "# Then divide through the subtable of each letter by the total number of letters. Pandas tracks indices thoughtfully.\n",
    "letter_proportion = subtable / subtable.sum().astype(float)\n",
    "letter_proportion.fillna(0)\n",
    "\n",
    "# Plot the letter proportions for each year\n",
    "%matplotlib inline\n",
    "import matplotlib.pyplot as plt\n",
    "\n",
    "fig, axes = plt.subplots(2, 1, figsize=(10,8))\n",
    "letter_proportion['M'].plot(kind='bar', title='Male', rot=0, ax=axes[0])\n",
    "letter_proportion['F'].plot(kind='bar', title='Female', rot=0, ax=axes[1], legend='False')  \n",
    "\n",
    "# Go back to all dates and see just 3 most common letters for men that have changed over time\n",
    "# See just the male d, n, y letters - use ix which takes directly from the row & col axis index value\n",
    "letter_proportion = table / table.sum().astype(float)\n",
    "letter_proportion.ix[['d','n','y'],'M'].T.plot(title='Time series of 3 letters for Males')"
   ]
  },
  {
   "cell_type": "code",
   "execution_count": 247,
   "metadata": {
    "collapsed": false
   },
   "outputs": [
    {
     "data": {
      "text/plain": [
       "<matplotlib.axes._subplots.AxesSubplot at 0x141800510>"
      ]
     },
     "execution_count": 247,
     "metadata": {},
     "output_type": "execute_result"
    },
    {
     "data": {
      "image/png": "[encoded data removed]",
      "text/plain": [
       "<matplotlib.figure.Figure at 0x1412f2990>"
      ]
     },
     "metadata": {},
     "output_type": "display_data"
    }
   ],
   "source": [
    "\"\"\"Find names that were male and then were female\"\"\"\n",
    "\n",
    "# As usual start with an example - let's search for names like \"leslie\" in all names.\n",
    "# Find the unique array of names in the top 1000 names\n",
    "top1000_names_unique = top1000.name.unique()\n",
    "# Determine at which index those names  contain the string 'lesl'\n",
    "mask = np.array(['lesl' in x.lower() for x in top1000_names_unique])\n",
    "# Extract the names at those index levels\n",
    "lesley_like = top1000_names_unique[mask]\n",
    "lesley_like # These are all names like leslie.\n",
    "\n",
    "# Filter back to the top names & counts that are like leslie\n",
    "# Get a list of the names at indices that point to lesley-like names, sum over all time\n",
    "top1000[top1000.name.isin(lesley_like)].groupby('name').births.sum()\n",
    "\n",
    "# Sum the number of births over each year & gender, divide by the gender axis\n",
    "lesleys_all_time = top1000[top1000.name.isin(lesley_like)].pivot_table('births', index='year', columns='sex', aggfunc='sum')\n",
    "lesleys_all_time\n",
    "# Axis = 0 is the gender axis.  Axis = 0 is the Columns\n",
    "lesleys_all_time_normalized = lesleys_all_time.div(lesleys_all_time.sum(1), axis=0)\n",
    "lesleys_all_time_normalized.tail()\n",
    "lesleys_all_time_normalized.plot(style={'M': 'k-', 'F': 'k--'})"
   ]
  },
  {
   "cell_type": "code",
   "execution_count": null,
   "metadata": {
    "collapsed": true
   },
   "outputs": [],
   "source": []
  },
  {
   "cell_type": "code",
   "execution_count": null,
   "metadata": {
    "collapsed": true
   },
   "outputs": [],
   "source": []
  }
 ],
 "metadata": {
  "kernelspec": {
   "display_name": "Python 2",
   "language": "python",
   "name": "python2"
  },
  "language_info": {
   "codemirror_mode": {
    "name": "ipython",
    "version": 2
   },
   "file_extension": ".py",
   "mimetype": "text/x-python",
   "name": "python",
   "nbconvert_exporter": "python",
   "pygments_lexer": "ipython2",
   "version": "2.7.11"
  }
 },
 "nbformat": 4,
 "nbformat_minor": 0
}
