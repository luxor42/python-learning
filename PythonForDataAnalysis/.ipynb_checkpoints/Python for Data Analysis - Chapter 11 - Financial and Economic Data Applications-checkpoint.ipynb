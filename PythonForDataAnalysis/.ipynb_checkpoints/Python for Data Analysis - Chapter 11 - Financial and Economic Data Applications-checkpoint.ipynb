{
 "cells": [
  {
   "cell_type": "code",
   "execution_count": null,
   "metadata": {
    "collapsed": false,
    "deletable": true,
    "editable": true
   },
   "outputs": [],
   "source": [
    "import pandas as pd\n",
    "import numpy as np\n",
    "import matplotlib.pyplot as plt\n",
    "%matplotlib inline`"
   ]
  },
  {
   "cell_type": "markdown",
   "metadata": {},
   "source": [
    "### Data Alignment Problem for Time Series\n",
    "\n",
    "Pandas automatically align dataframes for arithmetic operations\n",
    "\n",
    "Pandas functions ignore NaNs - treat them as non-existant (len=0)\n",
    "\n",
    "### Can choose to only work with the shared variables using pd.align\n",
    "Returns a tuple:\n",
    "    \n",
    "    prices.align(volume, join = 'inner')"
   ]
  },
  {
   "cell_type": "code",
   "execution_count": null,
   "metadata": {
    "collapsed": false,
    "scrolled": true
   },
   "outputs": [],
   "source": [
    "prices = pd.read_csv('ch11/prices.csv')\n",
    "prices = prices.set_index('Unnamed: 0')\n",
    "prices.index.name = 'date'\n",
    "\n",
    "volume = pd.read_csv('ch11/volumes.csv')\n",
    "volume = volume.set_index('Unnamed: 0')\n",
    "volume.index.name = 'date'\n",
    "\n",
    "prices = prices[['AAPL','JNJ','SPX','XOM']]\n",
    "volume = volume[['AAPL','JNJ','XOM']]\n",
    "prices = prices['2011-09-06':'2011-09-14']\n",
    "volume = volume['2011-09-06':'2011-09-12']\n",
    "\n",
    "print prices\n",
    "print volume"
   ]
  },
  {
   "cell_type": "code",
   "execution_count": null,
   "metadata": {
    "collapsed": false
   },
   "outputs": [],
   "source": [
    "# Arithmetic operations are automatically aligned\n",
    "prices * volume"
   ]
  },
  {
   "cell_type": "code",
   "execution_count": null,
   "metadata": {
    "collapsed": false
   },
   "outputs": [],
   "source": [
    "# Pandas functions also aggregate over NaNs w/o error\n",
    "# Can easily calculate volume-weighted average price across the time range\n",
    "vwap = (prices * volume).sum() / volume.sum()\n",
    "vwap"
   ]
  },
  {
   "cell_type": "markdown",
   "metadata": {},
   "source": [
    "### Can choose to only work with the shared variables using pd.align\n",
    "<b>Returns a tuple"
   ]
  },
  {
   "cell_type": "code",
   "execution_count": 43,
   "metadata": {
    "collapsed": false
   },
   "outputs": [
    {
     "data": {
      "text/plain": [
       "(                       AAPL    JNJ    XOM\n",
       " date                                     \n",
       " 2011-09-06 00:00:00  379.74  64.64  71.15\n",
       " 2011-09-07 00:00:00  383.93  65.43  73.65\n",
       " 2011-09-08 00:00:00  384.14  64.95  72.82\n",
       " 2011-09-09 00:00:00  377.48  63.64  71.01,\n",
       "                            AAPL         JNJ         XOM\n",
       " date                                                   \n",
       " 2011-09-06 00:00:00  18173500.0  15848300.0  25416300.0\n",
       " 2011-09-07 00:00:00  12492000.0  10759700.0  23108400.0\n",
       " 2011-09-08 00:00:00  14839800.0  15551500.0  22434800.0\n",
       " 2011-09-09 00:00:00  20171900.0  17008200.0  27969100.0)"
      ]
     },
     "execution_count": 43,
     "metadata": {},
     "output_type": "execute_result"
    }
   ],
   "source": [
    "prices.align(volume, join = 'inner')"
   ]
  },
  {
   "cell_type": "code",
   "execution_count": null,
   "metadata": {
    "collapsed": true
   },
   "outputs": [],
   "source": []
  },
  {
   "cell_type": "code",
   "execution_count": null,
   "metadata": {
    "collapsed": true
   },
   "outputs": [],
   "source": []
  },
  {
   "cell_type": "code",
   "execution_count": null,
   "metadata": {
    "collapsed": true
   },
   "outputs": [],
   "source": []
  },
  {
   "cell_type": "code",
   "execution_count": null,
   "metadata": {
    "collapsed": true
   },
   "outputs": [],
   "source": []
  },
  {
   "cell_type": "code",
   "execution_count": null,
   "metadata": {
    "collapsed": true
   },
   "outputs": [],
   "source": []
  },
  {
   "cell_type": "code",
   "execution_count": null,
   "metadata": {
    "collapsed": true
   },
   "outputs": [],
   "source": []
  },
  {
   "cell_type": "code",
   "execution_count": null,
   "metadata": {
    "collapsed": true
   },
   "outputs": [],
   "source": []
  },
  {
   "cell_type": "code",
   "execution_count": null,
   "metadata": {
    "collapsed": true
   },
   "outputs": [],
   "source": []
  },
  {
   "cell_type": "code",
   "execution_count": null,
   "metadata": {
    "collapsed": true
   },
   "outputs": [],
   "source": []
  },
  {
   "cell_type": "code",
   "execution_count": null,
   "metadata": {
    "collapsed": true
   },
   "outputs": [],
   "source": []
  }
 ],
 "metadata": {
  "kernelspec": {
   "display_name": "Python 2",
   "language": "python",
   "name": "python2"
  },
  "language_info": {
   "codemirror_mode": {
    "name": "ipython",
    "version": 2
   },
   "file_extension": ".py",
   "mimetype": "text/x-python",
   "name": "python",
   "nbconvert_exporter": "python",
   "pygments_lexer": "ipython2",
   "version": "2.7.13"
  }
 },
 "nbformat": 4,
 "nbformat_minor": 2
}
