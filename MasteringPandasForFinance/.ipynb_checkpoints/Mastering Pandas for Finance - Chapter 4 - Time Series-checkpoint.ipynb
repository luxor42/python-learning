{
 "cells": [
  {
   "cell_type": "code",
   "execution_count": 1,
   "metadata": {
    "collapsed": true
   },
   "outputs": [],
   "source": [
    "import numpy as np\n",
    "import pandas as pd\n",
    "\n",
    "import datetime\n",
    "from datetime import datetime\n",
    "import matplotlib.pyplot as plt\n",
    "%matplotlib inline\n",
    "pd.set_option('precision', 3)"
   ]
  },
  {
   "cell_type": "markdown",
   "metadata": {},
   "source": [
    "## Contents\n",
    "- Pandas is at its most powerful when handling time-series data\n",
    "- Lots more capabilities on time-series data exist than shown here.\n",
    "  - RTFM: http://pandas.pydata.org/pandas-docs/stable/timeseries.html\n",
    "\n",
    "### Scraping web data\n",
    "~~~~\n",
    "from pandas_datareader import data, wb\n",
    "data = data.DataReader('MSFT', data_source='google', start='2012-01-01', end='2013-12-30')\n",
    "~~~~\n",
    "### DatetimeIndex\n",
    "\n",
    "- Specific dates are represented as a pandas Timestamp class\n",
    "     - Based on the Numpy datetime64 high precision objects (_nanoseconds_!!!!)\n",
    "- Sequences of timestamp objects are represented as a DatetimeIndex object\n",
    "\n",
    "#### distinct datetime objects --> a single DatetimeIndex object\n",
    "~~~~\n",
    "dates = [datetime(2014, 8, 1), datetime(2014, 8, 2)]\n",
    "dti = pd.DatetimeIndex(dates)\n",
    "~~~~\n",
    "#### Series and DataFrame with DatetimeIndex\n",
    "** Creation of a Series with a DatetimeIndex**\n",
    "1. Create by passing a pre-existing index of datetime objects\n",
    "~~~~\n",
    "dates = [datetime(2014, 8, 1), datetime(2014, 8, 2)]\n",
    "ts = pd.Series(np.random.randn(2), index = dates)\n",
    "~~~~\n",
    "2. Create by passing strings in any common format\n",
    "~~~~\n",
    "dates = ['2012-01-01', '2012-01-02']\n",
    "ts = pd.Series(np.random.randn(2), index = dates)\n",
    "~~~~\n",
    "3. Create the DatetimeIndex directly by passing into pd.to_datetime()\n",
    "~~~~\n",
    "dates = ['Aug 1, 2014', '2014-08-02', '2014.8.3', None]\n",
    "dti = pd.to_datetime(dates)\n",
    "pd.Series(np.random.randn(4), index = dti)\n",
    "~~~~\n",
    "\n",
    "4. Used **errors = 'coerce'** to make pd.to_datetime() robust to failure if passed  invalid formats\n",
    "   - The invalid time index will be set to a NaT\n",
    "~~~~\n",
    "pd.to_datetime(['Aug 1, 2014', 'foo'], errors='coerce')\n",
    "~~~~\n",
    "\n",
    "** Best practice for time-series is to create a DataFrame and index selection with .loc **\n",
    "- Example of the inconsistency:\n",
    "\n",
    "  - ** Series selection **\n",
    "~~~~\n",
    "ts['2012-01-01'] # works!\n",
    "ts['2012-01-01':'2012-01-05'] # works!\n",
    "~~~~\n",
    "  - ** DataFrame selection **\n",
    "~~~~\n",
    "ts = pd.DataFrame(ts)\n",
    "ts['2012-01-01':'2012-01-05'] # works!\n",
    "ts['2012-01-01'] # FAILS!  DataFrame thinks you're saying find a column called '2012-01-01'\n",
    "~~~~\n",
    "\n",
    "- Best practice with .loc:\n",
    "\n",
    "  - ** Use df.loc **.  It just works\n",
    "~~~~\n",
    "ts = pd.DataFrame(ts)\n",
    "ts.loc['2012-01-01'] \n",
    "ts.loc['2012-01-01':'2012-01-05']\n",
    "~~~~\n",
    "\n",
    "### Create time-series with specific frequencies, Date offsets\n",
    "\n",
    "**freq** keyword in pd.date_range()\n",
    "- freq = 'T' --> minutes\n",
    "- See full list of offset aliases here: http://pandas.pydata.org/pandas-docs/stable/timeseries.html#offset-aliases\n",
    "~~~~\n",
    "minute_interval = pd.date_range('2014-08-01', '2014-10-29 23:59:00', freq='T')\n",
    "bymin = pd.Series(np.arange(0, len(minute_interval)), index = minute_interval)\n",
    "~~~~\n",
    "\n",
    "### Representations of time intervals using periods\n",
    "\n",
    "1. 'Period' objects efficiently store bounded intervals\n",
    "~~~~\n",
    "aug2014 = pd.Period('2014-08', freq='M')\n",
    "aug2014_T = pd.Period('2014-08', freq='T')\n",
    "~~~~\n",
    "2. Internal variables can be accessed to get useful info\n",
    "~~~~\n",
    "aug2014.start_time, aug2014.end_time\n",
    "##### end_time gives nanosecond resolution because it's last observable data of the month!\n",
    "~~~~\n",
    "3. Period objects are useful because they handle the subtly of date & time addition\n",
    "~~~~\n",
    "feb_2014 = pd.Period('2014-02', M) # A period object\n",
    "feb_2014.start_time, feb_2014.end_date # returns (Timestamp('2014-02-01 00:00:00'), Timestamp('2014-02-28 23:59:59.999999999'))\n",
    "feb_2014 + 1  # Returns a new Period object that is equivalent to pd.Period('2014-03', M). \n",
    "    # The frequency of the initial period was used to set the frequency manipulated by the addition\n",
    "~~~~\n",
    "\n",
    "4. **pd.period_range** is used to pass groups of Period objects to form a PeriodIndex \n",
    "5. Use PeriodIndex to construct a Series\n",
    "- ** The time series is indexed by whole periods, not single timestamps at the given time **\n",
    "- ** This will become important later when we resample to diff\n",
    "~~~~\n",
    "my_monthly_periods = pd.period_range('1/1/2013', '12/1/2013', freq='M')\n",
    "pd.Series(np.random.randn(len(my_monthly_periods)), index = my_monthly_periods)\n",
    "~~~~\n",
    "\n",
    "### Shifting and lagging\n",
    "\n",
    "### Frequency conversion \n",
    "\n",
    "### Upsampling and downsampling"
   ]
  },
  {
   "cell_type": "markdown",
   "metadata": {},
   "source": [
    "### DatetimeIndex\n",
    "\n",
    "- Specific dates are represented as a pandas Timestamp class\n",
    "     - Based on the Numpy datetime64 high precision objects (_nanoseconds_!!!!)\n",
    "- Sequences of timestamp objects are represented as a DatetimeIndex\n",
    "\n",
    "#### datetime objects --> DatetimeIndex\n",
    "~~~~\n",
    "dates = [datetime(2014, 8, 1), datetime(2014, 8, 2)]\n",
    "dti = pd.DatetimeIndex(dates)\n",
    "~~~~\n",
    "#### Series and DataFrame with DatetimeIndex\n",
    "** Creation of a Series with a DatetimeIndex**\n",
    "1. Create by passing a pre-existing index of datetime objects\n",
    "~~~~\n",
    "dates = [datetime(2014, 8, 1), datetime(2014, 8, 2)]\n",
    "ts = pd.Series(np.random.randn(2), index = dates)\n",
    "~~~~\n",
    "2. Create by passing strings in any common format\n",
    "~~~~\n",
    "dates = ['2012-01-01', '2012-01-02']\n",
    "ts = pd.Series(np.random.randn(2), index = dates)\n",
    "~~~~\n",
    "3. Create the DatetimeIndex directly by passing into pd.to_datetime()\n",
    "~~~~\n",
    "dates = ['Aug 1, 2014', '2014-08-02', '2014.8.3', None]\n",
    "dti = pd.to_datetime(dates)\n",
    "pd.Series(np.random.randn(4), index = dti)\n",
    "~~~~\n",
    "\n",
    "4. Used **errors = 'coerce'** to make pd.to_datetime() robust to failure if passed  invalid formats\n",
    "   - The invalid time index will be set to a NaT\n",
    "~~~~\n",
    "pd.to_datetime(['Aug 1, 2014', 'foo'], errors='coerce')\n",
    "~~~~\n",
    "\n",
    "** Best practice for time-series is to create a DataFrame and index selection with .loc **\n",
    "- Example of the inconsistency:\n",
    "\n",
    "  - ** Series selection **\n",
    "~~~~\n",
    "ts['2012-01-01'] # works!\n",
    "ts['2012-01-01':'2012-01-05'] # works!\n",
    "~~~~\n",
    "  - ** DataFrame selection **\n",
    "~~~~\n",
    "ts = pd.DataFrame(ts)\n",
    "ts['2012-01-01':'2012-01-05'] # works!\n",
    "ts['2012-01-01'] # FAILS!  DataFrame thinks you're saying find a column called '2012-01-01'\n",
    "~~~~\n",
    "\n",
    "- Best practice with .loc:\n",
    "\n",
    "  - ** Use df.loc **.  It just works\n",
    "~~~~\n",
    "ts = pd.DataFrame(ts)\n",
    "ts.loc['2012-01-01'] \n",
    "ts.loc['2012-01-01':'2012-01-05']\n",
    "~~~~"
   ]
  },
  {
   "cell_type": "code",
   "execution_count": 2,
   "metadata": {},
   "outputs": [
    {
     "name": "stdout",
     "output_type": "stream",
     "text": [
      "Create a DatetimeIndex using the datetime library\n"
     ]
    },
    {
     "data": {
      "text/plain": [
       "DatetimeIndex(['2014-08-01', '2014-08-02'], dtype='datetime64[ns]', freq=None)"
      ]
     },
     "execution_count": 2,
     "metadata": {},
     "output_type": "execute_result"
    }
   ],
   "source": [
    "print 'Create a DatetimeIndex using the datetime library'\n",
    "dates = [datetime(2014, 8, 1), datetime(2014, 8, 2)]\n",
    "dti = pd.DatetimeIndex(dates)\n",
    "dti"
   ]
  },
  {
   "cell_type": "code",
   "execution_count": 3,
   "metadata": {},
   "outputs": [
    {
     "name": "stdout",
     "output_type": "stream",
     "text": [
      "A series passed datetime objects will automatically create a DatetimeIndex from them\n"
     ]
    },
    {
     "data": {
      "text/plain": [
       "pandas.core.indexes.datetimes.DatetimeIndex"
      ]
     },
     "execution_count": 3,
     "metadata": {},
     "output_type": "execute_result"
    }
   ],
   "source": [
    "print 'A series passed datetime objects will automatically create a DatetimeIndex from them'\n",
    "np.random.seed(123456)\n",
    "ts = pd.Series(np.random.randn(2), index = dates)\n",
    "type(ts.index)"
   ]
  },
  {
   "cell_type": "code",
   "execution_count": 4,
   "metadata": {},
   "outputs": [
    {
     "name": "stdout",
     "output_type": "stream",
     "text": [
      "Our Series with DatetimeIndex:\n"
     ]
    },
    {
     "data": {
      "text/plain": [
       "2014-08-01    0.469\n",
       "2014-08-02   -0.283\n",
       "dtype: float64"
      ]
     },
     "execution_count": 4,
     "metadata": {},
     "output_type": "execute_result"
    }
   ],
   "source": [
    "print 'Our Series with DatetimeIndex:'\n",
    "ts"
   ]
  },
  {
   "cell_type": "code",
   "execution_count": 5,
   "metadata": {},
   "outputs": [
    {
     "name": "stdout",
     "output_type": "stream",
     "text": [
      "Flexibly accessing the elements in the Series:\n",
      "-0.282863344329\n",
      "-0.282863344329\n"
     ]
    }
   ],
   "source": [
    "print 'Flexibly accessing the elements in the Series:'\n",
    "print ts[datetime(2014, 8, 2)]\n",
    "print ts['2014-8-2']"
   ]
  },
  {
   "cell_type": "code",
   "execution_count": 6,
   "metadata": {},
   "outputs": [
    {
     "name": "stdout",
     "output_type": "stream",
     "text": [
      "Using strings instead of datetime objects for Date Series creation:\n"
     ]
    }
   ],
   "source": [
    "print 'Using strings instead of datetime objects for Date Series creation:'\n",
    "dates = ['2014-08-01', '2014-08-02']\n",
    "ts = pd.Series(np.random.randn(2), dates)"
   ]
  },
  {
   "cell_type": "markdown",
   "metadata": {},
   "source": [
    "#### pd.to_datetime() - string manipulation to DatetimeIndex"
   ]
  },
  {
   "cell_type": "code",
   "execution_count": 7,
   "metadata": {},
   "outputs": [
    {
     "name": "stdout",
     "output_type": "stream",
     "text": [
      "Create a DatetimeIndex even from gratuitously mixing date formats.\n",
      "An invalid type is convereted to NaT, which means Not A Time\n"
     ]
    },
    {
     "data": {
      "text/plain": [
       "DatetimeIndex(['2014-08-01', '2014-08-02', '2014-08-03', 'NaT'], dtype='datetime64[ns]', freq=None)"
      ]
     },
     "execution_count": 7,
     "metadata": {},
     "output_type": "execute_result"
    }
   ],
   "source": [
    "print 'Create a DatetimeIndex even from gratuitously mixing date formats.'\n",
    "print 'An invalid type is convereted to NaT, which means Not A Time'\n",
    "dti = pd.to_datetime(['Aug 1, 2014', '2014-08-02', '2014.8.3', None])\n",
    "dti"
   ]
  },
  {
   "cell_type": "code",
   "execution_count": 8,
   "metadata": {},
   "outputs": [
    {
     "name": "stdout",
     "output_type": "stream",
     "text": [
      "Pandas will unexpectedly throw an errorif it can't parse a value in to_datetime()\n",
      "To avoid that, set errors = 'coerce'\n"
     ]
    },
    {
     "data": {
      "text/plain": [
       "DatetimeIndex(['2014-08-01', 'NaT'], dtype='datetime64[ns]', freq=None)"
      ]
     },
     "execution_count": 8,
     "metadata": {},
     "output_type": "execute_result"
    }
   ],
   "source": [
    "print 'Pandas will unexpectedly throw an errorif it can\\'t parse a value in to_datetime()'\n",
    "print 'To avoid that, set errors = \\'coerce\\''\n",
    "pd.to_datetime(['Aug 1, 2014', 'foo'], errors='coerce')"
   ]
  },
  {
   "cell_type": "code",
   "execution_count": 9,
   "metadata": {},
   "outputs": [
    {
     "name": "stdout",
     "output_type": "stream",
     "text": [
      "Set date strings to be month or day first.  Month first (AMERICA) is default.\n"
     ]
    },
    {
     "data": {
      "text/plain": [
       "(Timestamp('2014-08-01 00:00:00'), Timestamp('2014-08-02 00:00:00'))"
      ]
     },
     "execution_count": 9,
     "metadata": {},
     "output_type": "execute_result"
    }
   ],
   "source": [
    "print 'Set date strings to be month or day first.  Month first (AMERICA) is default.'\n",
    "dti1 = pd.to_datetime(['8/1/2014'])\n",
    "dti2 = pd.to_datetime(['2/8/2014'], dayfirst=True)\n",
    "dti1[0], dti2[0]"
   ]
  },
  {
   "cell_type": "markdown",
   "metadata": {},
   "source": [
    "#### pd.date_range(start, end, periods = X) - Create a DatetimeIndex.  Must specify two of start, end_periods"
   ]
  },
  {
   "cell_type": "code",
   "execution_count": 10,
   "metadata": {},
   "outputs": [
    {
     "data": {
      "text/plain": [
       "2014-08-01    0.469\n",
       "2014-08-02   -0.283\n",
       "2014-08-03   -1.509\n",
       "2014-08-04   -1.136\n",
       "2014-08-05    1.212\n",
       "Freq: D, dtype: float64"
      ]
     },
     "execution_count": 10,
     "metadata": {},
     "output_type": "execute_result"
    }
   ],
   "source": [
    "np.random.seed(123456)\n",
    "dates = pd.date_range('8/1/2014', periods = 10)\n",
    "s1 = pd.Series(np.random.randn(10), dates)\n",
    "s1[:5]"
   ]
  },
  {
   "cell_type": "code",
   "execution_count": 11,
   "metadata": {},
   "outputs": [
    {
     "name": "stdout",
     "output_type": "stream",
     "text": [
      "Read data from the web about Microsoft in 2012 - 2013\n"
     ]
    }
   ],
   "source": [
    "print 'Read data from the web about Microsoft in 2012 - 2013'\n",
    "#pd.read_csv(\"data/Chapter03/data/msft.csv\")\n",
    "from pandas_datareader import data, wb\n",
    "msft = data.DataReader('MSFT', data_source='google', start='2012-01-01', end='2013-12-30')"
   ]
  },
  {
   "cell_type": "code",
   "execution_count": 12,
   "metadata": {},
   "outputs": [
    {
     "name": "stdout",
     "output_type": "stream",
     "text": [
      "Slice a range by passing strings\n"
     ]
    },
    {
     "data": {
      "text/html": [
       "<div>\n",
       "<style>\n",
       "    .dataframe thead tr:only-child th {\n",
       "        text-align: right;\n",
       "    }\n",
       "\n",
       "    .dataframe thead th {\n",
       "        text-align: left;\n",
       "    }\n",
       "\n",
       "    .dataframe tbody tr th {\n",
       "        vertical-align: top;\n",
       "    }\n",
       "</style>\n",
       "<table border=\"1\" class=\"dataframe\">\n",
       "  <thead>\n",
       "    <tr style=\"text-align: right;\">\n",
       "      <th></th>\n",
       "      <th>Open</th>\n",
       "      <th>High</th>\n",
       "      <th>Low</th>\n",
       "      <th>Close</th>\n",
       "      <th>Volume</th>\n",
       "    </tr>\n",
       "    <tr>\n",
       "      <th>Date</th>\n",
       "      <th></th>\n",
       "      <th></th>\n",
       "      <th></th>\n",
       "      <th></th>\n",
       "      <th></th>\n",
       "    </tr>\n",
       "  </thead>\n",
       "  <tbody>\n",
       "    <tr>\n",
       "      <th>2012-01-03</th>\n",
       "      <td>26.55</td>\n",
       "      <td>26.96</td>\n",
       "      <td>26.39</td>\n",
       "      <td>26.76</td>\n",
       "      <td>64735391</td>\n",
       "    </tr>\n",
       "    <tr>\n",
       "      <th>2012-01-04</th>\n",
       "      <td>26.82</td>\n",
       "      <td>27.47</td>\n",
       "      <td>26.78</td>\n",
       "      <td>27.40</td>\n",
       "      <td>80519402</td>\n",
       "    </tr>\n",
       "    <tr>\n",
       "      <th>2012-01-05</th>\n",
       "      <td>27.38</td>\n",
       "      <td>27.73</td>\n",
       "      <td>27.29</td>\n",
       "      <td>27.68</td>\n",
       "      <td>56082205</td>\n",
       "    </tr>\n",
       "  </tbody>\n",
       "</table>\n",
       "</div>"
      ],
      "text/plain": [
       "             Open   High    Low  Close    Volume\n",
       "Date                                            \n",
       "2012-01-03  26.55  26.96  26.39  26.76  64735391\n",
       "2012-01-04  26.82  27.47  26.78  27.40  80519402\n",
       "2012-01-05  27.38  27.73  27.29  27.68  56082205"
      ]
     },
     "execution_count": 12,
     "metadata": {},
     "output_type": "execute_result"
    }
   ],
   "source": [
    "print 'Slice a range by passing strings'\n",
    "msft['2012-01-01':'2012-01-05']"
   ]
  },
  {
   "cell_type": "code",
   "execution_count": 13,
   "metadata": {
    "scrolled": true
   },
   "outputs": [
    {
     "name": "stdout",
     "output_type": "stream",
     "text": [
      "However, passing a single value doesn't work because that's interpreted as a column\n"
     ]
    },
    {
     "ename": "KeyError",
     "evalue": "'2012-01-01'",
     "output_type": "error",
     "traceback": [
      "\u001b[0;31m---------------------------------------------------------------------------\u001b[0m",
      "\u001b[0;31mKeyError\u001b[0m                                  Traceback (most recent call last)",
      "\u001b[0;32m<ipython-input-13-870e6d7f3102>\u001b[0m in \u001b[0;36m<module>\u001b[0;34m()\u001b[0m\n\u001b[1;32m      1\u001b[0m \u001b[0;32mprint\u001b[0m \u001b[0;34m'However, passing a single value doesn\\'t work because that\\'s interpreted as a column'\u001b[0m\u001b[0;34m\u001b[0m\u001b[0m\n\u001b[0;32m----> 2\u001b[0;31m \u001b[0mmsft\u001b[0m\u001b[0;34m[\u001b[0m\u001b[0;34m'2012-01-01'\u001b[0m\u001b[0;34m]\u001b[0m\u001b[0;34m\u001b[0m\u001b[0m\n\u001b[0m",
      "\u001b[0;32m/usr/local/lib/python2.7/site-packages/pandas/core/frame.pyc\u001b[0m in \u001b[0;36m__getitem__\u001b[0;34m(self, key)\u001b[0m\n\u001b[1;32m   2060\u001b[0m             \u001b[0;32mreturn\u001b[0m \u001b[0mself\u001b[0m\u001b[0;34m.\u001b[0m\u001b[0m_getitem_multilevel\u001b[0m\u001b[0;34m(\u001b[0m\u001b[0mkey\u001b[0m\u001b[0;34m)\u001b[0m\u001b[0;34m\u001b[0m\u001b[0m\n\u001b[1;32m   2061\u001b[0m         \u001b[0;32melse\u001b[0m\u001b[0;34m:\u001b[0m\u001b[0;34m\u001b[0m\u001b[0m\n\u001b[0;32m-> 2062\u001b[0;31m             \u001b[0;32mreturn\u001b[0m \u001b[0mself\u001b[0m\u001b[0;34m.\u001b[0m\u001b[0m_getitem_column\u001b[0m\u001b[0;34m(\u001b[0m\u001b[0mkey\u001b[0m\u001b[0;34m)\u001b[0m\u001b[0;34m\u001b[0m\u001b[0m\n\u001b[0m\u001b[1;32m   2063\u001b[0m \u001b[0;34m\u001b[0m\u001b[0m\n\u001b[1;32m   2064\u001b[0m     \u001b[0;32mdef\u001b[0m \u001b[0m_getitem_column\u001b[0m\u001b[0;34m(\u001b[0m\u001b[0mself\u001b[0m\u001b[0;34m,\u001b[0m \u001b[0mkey\u001b[0m\u001b[0;34m)\u001b[0m\u001b[0;34m:\u001b[0m\u001b[0;34m\u001b[0m\u001b[0m\n",
      "\u001b[0;32m/usr/local/lib/python2.7/site-packages/pandas/core/frame.pyc\u001b[0m in \u001b[0;36m_getitem_column\u001b[0;34m(self, key)\u001b[0m\n\u001b[1;32m   2067\u001b[0m         \u001b[0;31m# get column\u001b[0m\u001b[0;34m\u001b[0m\u001b[0;34m\u001b[0m\u001b[0m\n\u001b[1;32m   2068\u001b[0m         \u001b[0;32mif\u001b[0m \u001b[0mself\u001b[0m\u001b[0;34m.\u001b[0m\u001b[0mcolumns\u001b[0m\u001b[0;34m.\u001b[0m\u001b[0mis_unique\u001b[0m\u001b[0;34m:\u001b[0m\u001b[0;34m\u001b[0m\u001b[0m\n\u001b[0;32m-> 2069\u001b[0;31m             \u001b[0;32mreturn\u001b[0m \u001b[0mself\u001b[0m\u001b[0;34m.\u001b[0m\u001b[0m_get_item_cache\u001b[0m\u001b[0;34m(\u001b[0m\u001b[0mkey\u001b[0m\u001b[0;34m)\u001b[0m\u001b[0;34m\u001b[0m\u001b[0m\n\u001b[0m\u001b[1;32m   2070\u001b[0m \u001b[0;34m\u001b[0m\u001b[0m\n\u001b[1;32m   2071\u001b[0m         \u001b[0;31m# duplicate columns & possible reduce dimensionality\u001b[0m\u001b[0;34m\u001b[0m\u001b[0;34m\u001b[0m\u001b[0m\n",
      "\u001b[0;32m/usr/local/lib/python2.7/site-packages/pandas/core/generic.pyc\u001b[0m in \u001b[0;36m_get_item_cache\u001b[0;34m(self, item)\u001b[0m\n\u001b[1;32m   1532\u001b[0m         \u001b[0mres\u001b[0m \u001b[0;34m=\u001b[0m \u001b[0mcache\u001b[0m\u001b[0;34m.\u001b[0m\u001b[0mget\u001b[0m\u001b[0;34m(\u001b[0m\u001b[0mitem\u001b[0m\u001b[0;34m)\u001b[0m\u001b[0;34m\u001b[0m\u001b[0m\n\u001b[1;32m   1533\u001b[0m         \u001b[0;32mif\u001b[0m \u001b[0mres\u001b[0m \u001b[0;32mis\u001b[0m \u001b[0mNone\u001b[0m\u001b[0;34m:\u001b[0m\u001b[0;34m\u001b[0m\u001b[0m\n\u001b[0;32m-> 1534\u001b[0;31m             \u001b[0mvalues\u001b[0m \u001b[0;34m=\u001b[0m \u001b[0mself\u001b[0m\u001b[0;34m.\u001b[0m\u001b[0m_data\u001b[0m\u001b[0;34m.\u001b[0m\u001b[0mget\u001b[0m\u001b[0;34m(\u001b[0m\u001b[0mitem\u001b[0m\u001b[0;34m)\u001b[0m\u001b[0;34m\u001b[0m\u001b[0m\n\u001b[0m\u001b[1;32m   1535\u001b[0m             \u001b[0mres\u001b[0m \u001b[0;34m=\u001b[0m \u001b[0mself\u001b[0m\u001b[0;34m.\u001b[0m\u001b[0m_box_item_values\u001b[0m\u001b[0;34m(\u001b[0m\u001b[0mitem\u001b[0m\u001b[0;34m,\u001b[0m \u001b[0mvalues\u001b[0m\u001b[0;34m)\u001b[0m\u001b[0;34m\u001b[0m\u001b[0m\n\u001b[1;32m   1536\u001b[0m             \u001b[0mcache\u001b[0m\u001b[0;34m[\u001b[0m\u001b[0mitem\u001b[0m\u001b[0;34m]\u001b[0m \u001b[0;34m=\u001b[0m \u001b[0mres\u001b[0m\u001b[0;34m\u001b[0m\u001b[0m\n",
      "\u001b[0;32m/usr/local/lib/python2.7/site-packages/pandas/core/internals.pyc\u001b[0m in \u001b[0;36mget\u001b[0;34m(self, item, fastpath)\u001b[0m\n\u001b[1;32m   3588\u001b[0m \u001b[0;34m\u001b[0m\u001b[0m\n\u001b[1;32m   3589\u001b[0m             \u001b[0;32mif\u001b[0m \u001b[0;32mnot\u001b[0m \u001b[0misnull\u001b[0m\u001b[0;34m(\u001b[0m\u001b[0mitem\u001b[0m\u001b[0;34m)\u001b[0m\u001b[0;34m:\u001b[0m\u001b[0;34m\u001b[0m\u001b[0m\n\u001b[0;32m-> 3590\u001b[0;31m                 \u001b[0mloc\u001b[0m \u001b[0;34m=\u001b[0m \u001b[0mself\u001b[0m\u001b[0;34m.\u001b[0m\u001b[0mitems\u001b[0m\u001b[0;34m.\u001b[0m\u001b[0mget_loc\u001b[0m\u001b[0;34m(\u001b[0m\u001b[0mitem\u001b[0m\u001b[0;34m)\u001b[0m\u001b[0;34m\u001b[0m\u001b[0m\n\u001b[0m\u001b[1;32m   3591\u001b[0m             \u001b[0;32melse\u001b[0m\u001b[0;34m:\u001b[0m\u001b[0;34m\u001b[0m\u001b[0m\n\u001b[1;32m   3592\u001b[0m                 \u001b[0mindexer\u001b[0m \u001b[0;34m=\u001b[0m \u001b[0mnp\u001b[0m\u001b[0;34m.\u001b[0m\u001b[0marange\u001b[0m\u001b[0;34m(\u001b[0m\u001b[0mlen\u001b[0m\u001b[0;34m(\u001b[0m\u001b[0mself\u001b[0m\u001b[0;34m.\u001b[0m\u001b[0mitems\u001b[0m\u001b[0;34m)\u001b[0m\u001b[0;34m)\u001b[0m\u001b[0;34m[\u001b[0m\u001b[0misnull\u001b[0m\u001b[0;34m(\u001b[0m\u001b[0mself\u001b[0m\u001b[0;34m.\u001b[0m\u001b[0mitems\u001b[0m\u001b[0;34m)\u001b[0m\u001b[0;34m]\u001b[0m\u001b[0;34m\u001b[0m\u001b[0m\n",
      "\u001b[0;32m/usr/local/lib/python2.7/site-packages/pandas/core/indexes/base.pyc\u001b[0m in \u001b[0;36mget_loc\u001b[0;34m(self, key, method, tolerance)\u001b[0m\n\u001b[1;32m   2393\u001b[0m                 \u001b[0;32mreturn\u001b[0m \u001b[0mself\u001b[0m\u001b[0;34m.\u001b[0m\u001b[0m_engine\u001b[0m\u001b[0;34m.\u001b[0m\u001b[0mget_loc\u001b[0m\u001b[0;34m(\u001b[0m\u001b[0mkey\u001b[0m\u001b[0;34m)\u001b[0m\u001b[0;34m\u001b[0m\u001b[0m\n\u001b[1;32m   2394\u001b[0m             \u001b[0;32mexcept\u001b[0m \u001b[0mKeyError\u001b[0m\u001b[0;34m:\u001b[0m\u001b[0;34m\u001b[0m\u001b[0m\n\u001b[0;32m-> 2395\u001b[0;31m                 \u001b[0;32mreturn\u001b[0m \u001b[0mself\u001b[0m\u001b[0;34m.\u001b[0m\u001b[0m_engine\u001b[0m\u001b[0;34m.\u001b[0m\u001b[0mget_loc\u001b[0m\u001b[0;34m(\u001b[0m\u001b[0mself\u001b[0m\u001b[0;34m.\u001b[0m\u001b[0m_maybe_cast_indexer\u001b[0m\u001b[0;34m(\u001b[0m\u001b[0mkey\u001b[0m\u001b[0;34m)\u001b[0m\u001b[0;34m)\u001b[0m\u001b[0;34m\u001b[0m\u001b[0m\n\u001b[0m\u001b[1;32m   2396\u001b[0m \u001b[0;34m\u001b[0m\u001b[0m\n\u001b[1;32m   2397\u001b[0m         \u001b[0mindexer\u001b[0m \u001b[0;34m=\u001b[0m \u001b[0mself\u001b[0m\u001b[0;34m.\u001b[0m\u001b[0mget_indexer\u001b[0m\u001b[0;34m(\u001b[0m\u001b[0;34m[\u001b[0m\u001b[0mkey\u001b[0m\u001b[0;34m]\u001b[0m\u001b[0;34m,\u001b[0m \u001b[0mmethod\u001b[0m\u001b[0;34m=\u001b[0m\u001b[0mmethod\u001b[0m\u001b[0;34m,\u001b[0m \u001b[0mtolerance\u001b[0m\u001b[0;34m=\u001b[0m\u001b[0mtolerance\u001b[0m\u001b[0;34m)\u001b[0m\u001b[0;34m\u001b[0m\u001b[0m\n",
      "\u001b[0;32mpandas/_libs/index.pyx\u001b[0m in \u001b[0;36mpandas._libs.index.IndexEngine.get_loc (pandas/_libs/index.c:5239)\u001b[0;34m()\u001b[0m\n",
      "\u001b[0;32mpandas/_libs/index.pyx\u001b[0m in \u001b[0;36mpandas._libs.index.IndexEngine.get_loc (pandas/_libs/index.c:5085)\u001b[0;34m()\u001b[0m\n",
      "\u001b[0;32mpandas/_libs/hashtable_class_helper.pxi\u001b[0m in \u001b[0;36mpandas._libs.hashtable.PyObjectHashTable.get_item (pandas/_libs/hashtable.c:20405)\u001b[0;34m()\u001b[0m\n",
      "\u001b[0;32mpandas/_libs/hashtable_class_helper.pxi\u001b[0m in \u001b[0;36mpandas._libs.hashtable.PyObjectHashTable.get_item (pandas/_libs/hashtable.c:20359)\u001b[0;34m()\u001b[0m\n",
      "\u001b[0;31mKeyError\u001b[0m: '2012-01-01'"
     ]
    }
   ],
   "source": [
    "print 'However, passing a single value doesn\\'t work because that\\'s interpreted as a column'\n",
    "msft['2012-01-01']"
   ]
  },
  {
   "cell_type": "code",
   "execution_count": 14,
   "metadata": {},
   "outputs": [
    {
     "name": "stdout",
     "output_type": "stream",
     "text": [
      "If we create a Series from the DataFrame, then passing a single value does work.  CONFUSING!\n"
     ]
    },
    {
     "data": {
      "text/plain": [
       "26.760000000000002"
      ]
     },
     "execution_count": 14,
     "metadata": {},
     "output_type": "execute_result"
    }
   ],
   "source": [
    "print 'If we create a Series from the DataFrame, then passing a single value does work.  CONFUSING!'\n",
    "msftC = msft['Close']\n",
    "msftC['2012-01-03']"
   ]
  },
  {
   "cell_type": "markdown",
   "metadata": {},
   "source": [
    "** Best practice for time-series is to always convert Series to DateFrame and use .loc !! **"
   ]
  },
  {
   "cell_type": "code",
   "execution_count": 15,
   "metadata": {},
   "outputs": [
    {
     "name": "stdout",
     "output_type": "stream",
     "text": [
      "Use loc like any other Dataframe\n",
      "A single index value:\n"
     ]
    },
    {
     "data": {
      "text/plain": [
       "Open      2.655e+01\n",
       "High      2.696e+01\n",
       "Low       2.639e+01\n",
       "Close     2.676e+01\n",
       "Volume    6.474e+07\n",
       "Name: 2012-01-03 00:00:00, dtype: float64"
      ]
     },
     "execution_count": 15,
     "metadata": {},
     "output_type": "execute_result"
    }
   ],
   "source": [
    "print 'Use loc like any other Dataframe'\n",
    "print 'A single index value:'\n",
    "msft.loc['2012-01-03']"
   ]
  },
  {
   "cell_type": "code",
   "execution_count": 16,
   "metadata": {},
   "outputs": [
    {
     "name": "stdout",
     "output_type": "stream",
     "text": [
      "A Datetime index range selection:\n"
     ]
    },
    {
     "data": {
      "text/html": [
       "<div>\n",
       "<style>\n",
       "    .dataframe thead tr:only-child th {\n",
       "        text-align: right;\n",
       "    }\n",
       "\n",
       "    .dataframe thead th {\n",
       "        text-align: left;\n",
       "    }\n",
       "\n",
       "    .dataframe tbody tr th {\n",
       "        vertical-align: top;\n",
       "    }\n",
       "</style>\n",
       "<table border=\"1\" class=\"dataframe\">\n",
       "  <thead>\n",
       "    <tr style=\"text-align: right;\">\n",
       "      <th></th>\n",
       "      <th>Open</th>\n",
       "      <th>High</th>\n",
       "      <th>Low</th>\n",
       "      <th>Close</th>\n",
       "      <th>Volume</th>\n",
       "    </tr>\n",
       "    <tr>\n",
       "      <th>Date</th>\n",
       "      <th></th>\n",
       "      <th></th>\n",
       "      <th></th>\n",
       "      <th></th>\n",
       "      <th></th>\n",
       "    </tr>\n",
       "  </thead>\n",
       "  <tbody>\n",
       "    <tr>\n",
       "      <th>2012-01-03</th>\n",
       "      <td>26.55</td>\n",
       "      <td>26.96</td>\n",
       "      <td>26.39</td>\n",
       "      <td>26.76</td>\n",
       "      <td>64735391</td>\n",
       "    </tr>\n",
       "    <tr>\n",
       "      <th>2012-01-04</th>\n",
       "      <td>26.82</td>\n",
       "      <td>27.47</td>\n",
       "      <td>26.78</td>\n",
       "      <td>27.40</td>\n",
       "      <td>80519402</td>\n",
       "    </tr>\n",
       "    <tr>\n",
       "      <th>2012-01-05</th>\n",
       "      <td>27.38</td>\n",
       "      <td>27.73</td>\n",
       "      <td>27.29</td>\n",
       "      <td>27.68</td>\n",
       "      <td>56082205</td>\n",
       "    </tr>\n",
       "  </tbody>\n",
       "</table>\n",
       "</div>"
      ],
      "text/plain": [
       "             Open   High    Low  Close    Volume\n",
       "Date                                            \n",
       "2012-01-03  26.55  26.96  26.39  26.76  64735391\n",
       "2012-01-04  26.82  27.47  26.78  27.40  80519402\n",
       "2012-01-05  27.38  27.73  27.29  27.68  56082205"
      ]
     },
     "execution_count": 16,
     "metadata": {},
     "output_type": "execute_result"
    }
   ],
   "source": [
    "print 'A Datetime index range selection:'\n",
    "msft.loc['2012-01-03':'2012-01-5']"
   ]
  },
  {
   "cell_type": "code",
   "execution_count": 17,
   "metadata": {
    "scrolled": true
   },
   "outputs": [
    {
     "name": "stdout",
     "output_type": "stream",
     "text": [
      "Can pass partial datetime values and get sensible output:\n"
     ]
    },
    {
     "data": {
      "text/html": [
       "<div>\n",
       "<style>\n",
       "    .dataframe thead tr:only-child th {\n",
       "        text-align: right;\n",
       "    }\n",
       "\n",
       "    .dataframe thead th {\n",
       "        text-align: left;\n",
       "    }\n",
       "\n",
       "    .dataframe tbody tr th {\n",
       "        vertical-align: top;\n",
       "    }\n",
       "</style>\n",
       "<table border=\"1\" class=\"dataframe\">\n",
       "  <thead>\n",
       "    <tr style=\"text-align: right;\">\n",
       "      <th></th>\n",
       "      <th>Open</th>\n",
       "      <th>High</th>\n",
       "      <th>Low</th>\n",
       "      <th>Close</th>\n",
       "      <th>Volume</th>\n",
       "    </tr>\n",
       "    <tr>\n",
       "      <th>Date</th>\n",
       "      <th></th>\n",
       "      <th></th>\n",
       "      <th></th>\n",
       "      <th></th>\n",
       "      <th></th>\n",
       "    </tr>\n",
       "  </thead>\n",
       "  <tbody>\n",
       "    <tr>\n",
       "      <th>2012-02-01</th>\n",
       "      <td>29.79</td>\n",
       "      <td>30.05</td>\n",
       "      <td>29.76</td>\n",
       "      <td>29.89</td>\n",
       "      <td>67413817</td>\n",
       "    </tr>\n",
       "    <tr>\n",
       "      <th>2012-02-02</th>\n",
       "      <td>29.90</td>\n",
       "      <td>30.17</td>\n",
       "      <td>29.71</td>\n",
       "      <td>29.95</td>\n",
       "      <td>52226255</td>\n",
       "    </tr>\n",
       "    <tr>\n",
       "      <th>2012-02-03</th>\n",
       "      <td>30.14</td>\n",
       "      <td>30.40</td>\n",
       "      <td>30.09</td>\n",
       "      <td>30.24</td>\n",
       "      <td>41845397</td>\n",
       "    </tr>\n",
       "    <tr>\n",
       "      <th>2012-02-06</th>\n",
       "      <td>30.04</td>\n",
       "      <td>30.22</td>\n",
       "      <td>29.97</td>\n",
       "      <td>30.20</td>\n",
       "      <td>28040378</td>\n",
       "    </tr>\n",
       "    <tr>\n",
       "      <th>2012-02-07</th>\n",
       "      <td>30.15</td>\n",
       "      <td>30.48</td>\n",
       "      <td>30.05</td>\n",
       "      <td>30.35</td>\n",
       "      <td>39242529</td>\n",
       "    </tr>\n",
       "    <tr>\n",
       "      <th>2012-02-08</th>\n",
       "      <td>30.26</td>\n",
       "      <td>30.67</td>\n",
       "      <td>30.22</td>\n",
       "      <td>30.66</td>\n",
       "      <td>49662740</td>\n",
       "    </tr>\n",
       "    <tr>\n",
       "      <th>2012-02-09</th>\n",
       "      <td>30.68</td>\n",
       "      <td>30.80</td>\n",
       "      <td>30.48</td>\n",
       "      <td>30.77</td>\n",
       "      <td>50481549</td>\n",
       "    </tr>\n",
       "    <tr>\n",
       "      <th>2012-02-10</th>\n",
       "      <td>30.64</td>\n",
       "      <td>30.80</td>\n",
       "      <td>30.36</td>\n",
       "      <td>30.50</td>\n",
       "      <td>44606751</td>\n",
       "    </tr>\n",
       "    <tr>\n",
       "      <th>2012-02-13</th>\n",
       "      <td>30.63</td>\n",
       "      <td>30.77</td>\n",
       "      <td>30.43</td>\n",
       "      <td>30.58</td>\n",
       "      <td>33322516</td>\n",
       "    </tr>\n",
       "    <tr>\n",
       "      <th>2012-02-14</th>\n",
       "      <td>30.33</td>\n",
       "      <td>30.46</td>\n",
       "      <td>29.85</td>\n",
       "      <td>30.25</td>\n",
       "      <td>59662711</td>\n",
       "    </tr>\n",
       "    <tr>\n",
       "      <th>2012-02-15</th>\n",
       "      <td>30.33</td>\n",
       "      <td>30.39</td>\n",
       "      <td>30.03</td>\n",
       "      <td>30.05</td>\n",
       "      <td>43316117</td>\n",
       "    </tr>\n",
       "    <tr>\n",
       "      <th>2012-02-16</th>\n",
       "      <td>30.31</td>\n",
       "      <td>31.55</td>\n",
       "      <td>30.30</td>\n",
       "      <td>31.28</td>\n",
       "      <td>94705078</td>\n",
       "    </tr>\n",
       "    <tr>\n",
       "      <th>2012-02-17</th>\n",
       "      <td>31.20</td>\n",
       "      <td>31.32</td>\n",
       "      <td>30.95</td>\n",
       "      <td>31.25</td>\n",
       "      <td>70040830</td>\n",
       "    </tr>\n",
       "    <tr>\n",
       "      <th>2012-02-21</th>\n",
       "      <td>31.18</td>\n",
       "      <td>31.61</td>\n",
       "      <td>31.15</td>\n",
       "      <td>31.44</td>\n",
       "      <td>50832547</td>\n",
       "    </tr>\n",
       "    <tr>\n",
       "      <th>2012-02-22</th>\n",
       "      <td>31.45</td>\n",
       "      <td>31.68</td>\n",
       "      <td>31.18</td>\n",
       "      <td>31.27</td>\n",
       "      <td>49253117</td>\n",
       "    </tr>\n",
       "    <tr>\n",
       "      <th>2012-02-23</th>\n",
       "      <td>31.20</td>\n",
       "      <td>31.59</td>\n",
       "      <td>31.00</td>\n",
       "      <td>31.37</td>\n",
       "      <td>35035609</td>\n",
       "    </tr>\n",
       "    <tr>\n",
       "      <th>2012-02-24</th>\n",
       "      <td>31.48</td>\n",
       "      <td>31.50</td>\n",
       "      <td>31.24</td>\n",
       "      <td>31.48</td>\n",
       "      <td>35577833</td>\n",
       "    </tr>\n",
       "    <tr>\n",
       "      <th>2012-02-27</th>\n",
       "      <td>31.24</td>\n",
       "      <td>31.50</td>\n",
       "      <td>31.10</td>\n",
       "      <td>31.35</td>\n",
       "      <td>34575391</td>\n",
       "    </tr>\n",
       "    <tr>\n",
       "      <th>2012-02-28</th>\n",
       "      <td>31.41</td>\n",
       "      <td>31.93</td>\n",
       "      <td>31.38</td>\n",
       "      <td>31.87</td>\n",
       "      <td>45230573</td>\n",
       "    </tr>\n",
       "    <tr>\n",
       "      <th>2012-02-29</th>\n",
       "      <td>31.88</td>\n",
       "      <td>32.00</td>\n",
       "      <td>31.61</td>\n",
       "      <td>31.74</td>\n",
       "      <td>59326545</td>\n",
       "    </tr>\n",
       "    <tr>\n",
       "      <th>2012-03-01</th>\n",
       "      <td>31.93</td>\n",
       "      <td>32.39</td>\n",
       "      <td>31.85</td>\n",
       "      <td>32.29</td>\n",
       "      <td>77348930</td>\n",
       "    </tr>\n",
       "    <tr>\n",
       "      <th>2012-03-02</th>\n",
       "      <td>32.31</td>\n",
       "      <td>32.44</td>\n",
       "      <td>32.00</td>\n",
       "      <td>32.08</td>\n",
       "      <td>47318927</td>\n",
       "    </tr>\n",
       "    <tr>\n",
       "      <th>2012-03-05</th>\n",
       "      <td>32.01</td>\n",
       "      <td>32.05</td>\n",
       "      <td>31.62</td>\n",
       "      <td>31.80</td>\n",
       "      <td>45239832</td>\n",
       "    </tr>\n",
       "    <tr>\n",
       "      <th>2012-03-06</th>\n",
       "      <td>31.54</td>\n",
       "      <td>31.98</td>\n",
       "      <td>31.49</td>\n",
       "      <td>31.56</td>\n",
       "      <td>51938950</td>\n",
       "    </tr>\n",
       "    <tr>\n",
       "      <th>2012-03-07</th>\n",
       "      <td>31.67</td>\n",
       "      <td>31.92</td>\n",
       "      <td>31.53</td>\n",
       "      <td>31.84</td>\n",
       "      <td>34340619</td>\n",
       "    </tr>\n",
       "    <tr>\n",
       "      <th>2012-03-08</th>\n",
       "      <td>32.04</td>\n",
       "      <td>32.21</td>\n",
       "      <td>31.90</td>\n",
       "      <td>32.01</td>\n",
       "      <td>36752011</td>\n",
       "    </tr>\n",
       "    <tr>\n",
       "      <th>2012-03-09</th>\n",
       "      <td>32.10</td>\n",
       "      <td>32.16</td>\n",
       "      <td>31.92</td>\n",
       "      <td>31.99</td>\n",
       "      <td>34628398</td>\n",
       "    </tr>\n",
       "    <tr>\n",
       "      <th>2012-03-12</th>\n",
       "      <td>31.97</td>\n",
       "      <td>32.20</td>\n",
       "      <td>31.82</td>\n",
       "      <td>32.04</td>\n",
       "      <td>34076755</td>\n",
       "    </tr>\n",
       "    <tr>\n",
       "      <th>2012-03-13</th>\n",
       "      <td>32.24</td>\n",
       "      <td>32.69</td>\n",
       "      <td>32.15</td>\n",
       "      <td>32.67</td>\n",
       "      <td>48951650</td>\n",
       "    </tr>\n",
       "    <tr>\n",
       "      <th>2012-03-14</th>\n",
       "      <td>32.53</td>\n",
       "      <td>32.88</td>\n",
       "      <td>32.49</td>\n",
       "      <td>32.77</td>\n",
       "      <td>41987743</td>\n",
       "    </tr>\n",
       "    <tr>\n",
       "      <th>2012-03-15</th>\n",
       "      <td>32.79</td>\n",
       "      <td>32.94</td>\n",
       "      <td>32.58</td>\n",
       "      <td>32.85</td>\n",
       "      <td>49070794</td>\n",
       "    </tr>\n",
       "    <tr>\n",
       "      <th>2012-03-16</th>\n",
       "      <td>32.91</td>\n",
       "      <td>32.95</td>\n",
       "      <td>32.50</td>\n",
       "      <td>32.60</td>\n",
       "      <td>65626398</td>\n",
       "    </tr>\n",
       "    <tr>\n",
       "      <th>2012-03-19</th>\n",
       "      <td>32.54</td>\n",
       "      <td>32.61</td>\n",
       "      <td>32.15</td>\n",
       "      <td>32.20</td>\n",
       "      <td>44797109</td>\n",
       "    </tr>\n",
       "    <tr>\n",
       "      <th>2012-03-20</th>\n",
       "      <td>32.10</td>\n",
       "      <td>32.15</td>\n",
       "      <td>31.74</td>\n",
       "      <td>31.99</td>\n",
       "      <td>41566788</td>\n",
       "    </tr>\n",
       "    <tr>\n",
       "      <th>2012-03-21</th>\n",
       "      <td>31.96</td>\n",
       "      <td>32.15</td>\n",
       "      <td>31.82</td>\n",
       "      <td>31.91</td>\n",
       "      <td>37935484</td>\n",
       "    </tr>\n",
       "    <tr>\n",
       "      <th>2012-03-22</th>\n",
       "      <td>31.81</td>\n",
       "      <td>32.09</td>\n",
       "      <td>31.79</td>\n",
       "      <td>32.00</td>\n",
       "      <td>31749516</td>\n",
       "    </tr>\n",
       "    <tr>\n",
       "      <th>2012-03-23</th>\n",
       "      <td>32.10</td>\n",
       "      <td>32.11</td>\n",
       "      <td>31.72</td>\n",
       "      <td>32.01</td>\n",
       "      <td>35912885</td>\n",
       "    </tr>\n",
       "    <tr>\n",
       "      <th>2012-03-26</th>\n",
       "      <td>32.19</td>\n",
       "      <td>32.61</td>\n",
       "      <td>32.16</td>\n",
       "      <td>32.59</td>\n",
       "      <td>36758279</td>\n",
       "    </tr>\n",
       "    <tr>\n",
       "      <th>2012-03-27</th>\n",
       "      <td>32.65</td>\n",
       "      <td>32.70</td>\n",
       "      <td>32.40</td>\n",
       "      <td>32.52</td>\n",
       "      <td>36274889</td>\n",
       "    </tr>\n",
       "    <tr>\n",
       "      <th>2012-03-28</th>\n",
       "      <td>32.52</td>\n",
       "      <td>32.70</td>\n",
       "      <td>32.04</td>\n",
       "      <td>32.19</td>\n",
       "      <td>41350041</td>\n",
       "    </tr>\n",
       "    <tr>\n",
       "      <th>2012-03-29</th>\n",
       "      <td>32.06</td>\n",
       "      <td>32.19</td>\n",
       "      <td>31.81</td>\n",
       "      <td>32.12</td>\n",
       "      <td>37038894</td>\n",
       "    </tr>\n",
       "    <tr>\n",
       "      <th>2012-03-30</th>\n",
       "      <td>32.40</td>\n",
       "      <td>32.41</td>\n",
       "      <td>32.04</td>\n",
       "      <td>32.26</td>\n",
       "      <td>31754740</td>\n",
       "    </tr>\n",
       "  </tbody>\n",
       "</table>\n",
       "</div>"
      ],
      "text/plain": [
       "             Open   High    Low  Close    Volume\n",
       "Date                                            \n",
       "2012-02-01  29.79  30.05  29.76  29.89  67413817\n",
       "2012-02-02  29.90  30.17  29.71  29.95  52226255\n",
       "2012-02-03  30.14  30.40  30.09  30.24  41845397\n",
       "2012-02-06  30.04  30.22  29.97  30.20  28040378\n",
       "2012-02-07  30.15  30.48  30.05  30.35  39242529\n",
       "2012-02-08  30.26  30.67  30.22  30.66  49662740\n",
       "2012-02-09  30.68  30.80  30.48  30.77  50481549\n",
       "2012-02-10  30.64  30.80  30.36  30.50  44606751\n",
       "2012-02-13  30.63  30.77  30.43  30.58  33322516\n",
       "2012-02-14  30.33  30.46  29.85  30.25  59662711\n",
       "2012-02-15  30.33  30.39  30.03  30.05  43316117\n",
       "2012-02-16  30.31  31.55  30.30  31.28  94705078\n",
       "2012-02-17  31.20  31.32  30.95  31.25  70040830\n",
       "2012-02-21  31.18  31.61  31.15  31.44  50832547\n",
       "2012-02-22  31.45  31.68  31.18  31.27  49253117\n",
       "2012-02-23  31.20  31.59  31.00  31.37  35035609\n",
       "2012-02-24  31.48  31.50  31.24  31.48  35577833\n",
       "2012-02-27  31.24  31.50  31.10  31.35  34575391\n",
       "2012-02-28  31.41  31.93  31.38  31.87  45230573\n",
       "2012-02-29  31.88  32.00  31.61  31.74  59326545\n",
       "2012-03-01  31.93  32.39  31.85  32.29  77348930\n",
       "2012-03-02  32.31  32.44  32.00  32.08  47318927\n",
       "2012-03-05  32.01  32.05  31.62  31.80  45239832\n",
       "2012-03-06  31.54  31.98  31.49  31.56  51938950\n",
       "2012-03-07  31.67  31.92  31.53  31.84  34340619\n",
       "2012-03-08  32.04  32.21  31.90  32.01  36752011\n",
       "2012-03-09  32.10  32.16  31.92  31.99  34628398\n",
       "2012-03-12  31.97  32.20  31.82  32.04  34076755\n",
       "2012-03-13  32.24  32.69  32.15  32.67  48951650\n",
       "2012-03-14  32.53  32.88  32.49  32.77  41987743\n",
       "2012-03-15  32.79  32.94  32.58  32.85  49070794\n",
       "2012-03-16  32.91  32.95  32.50  32.60  65626398\n",
       "2012-03-19  32.54  32.61  32.15  32.20  44797109\n",
       "2012-03-20  32.10  32.15  31.74  31.99  41566788\n",
       "2012-03-21  31.96  32.15  31.82  31.91  37935484\n",
       "2012-03-22  31.81  32.09  31.79  32.00  31749516\n",
       "2012-03-23  32.10  32.11  31.72  32.01  35912885\n",
       "2012-03-26  32.19  32.61  32.16  32.59  36758279\n",
       "2012-03-27  32.65  32.70  32.40  32.52  36274889\n",
       "2012-03-28  32.52  32.70  32.04  32.19  41350041\n",
       "2012-03-29  32.06  32.19  31.81  32.12  37038894\n",
       "2012-03-30  32.40  32.41  32.04  32.26  31754740"
      ]
     },
     "execution_count": 17,
     "metadata": {},
     "output_type": "execute_result"
    }
   ],
   "source": [
    "print 'Can pass partial datetime values and get sensible output:'\n",
    "msft.loc['2012-02':'2012-03'] # Feb and March "
   ]
  },
  {
   "cell_type": "markdown",
   "metadata": {},
   "source": [
    "### Time-series with Specfic Frequencies"
   ]
  },
  {
   "cell_type": "code",
   "execution_count": 18,
   "metadata": {
    "scrolled": true
   },
   "outputs": [
    {
     "name": "stdout",
     "output_type": "stream",
     "text": [
      "A Series with minute-level intervals.\n"
     ]
    },
    {
     "data": {
      "text/plain": [
       "2014-08-01 00:00:00         0\n",
       "2014-08-01 00:01:00         1\n",
       "2014-08-01 00:02:00         2\n",
       "2014-08-01 00:03:00         3\n",
       "2014-08-01 00:04:00         4\n",
       "2014-08-01 00:05:00         5\n",
       "2014-08-01 00:06:00         6\n",
       "2014-08-01 00:07:00         7\n",
       "2014-08-01 00:08:00         8\n",
       "2014-08-01 00:09:00         9\n",
       "2014-08-01 00:10:00        10\n",
       "2014-08-01 00:11:00        11\n",
       "2014-08-01 00:12:00        12\n",
       "2014-08-01 00:13:00        13\n",
       "2014-08-01 00:14:00        14\n",
       "2014-08-01 00:15:00        15\n",
       "2014-08-01 00:16:00        16\n",
       "2014-08-01 00:17:00        17\n",
       "2014-08-01 00:18:00        18\n",
       "2014-08-01 00:19:00        19\n",
       "2014-08-01 00:20:00        20\n",
       "2014-08-01 00:21:00        21\n",
       "2014-08-01 00:22:00        22\n",
       "2014-08-01 00:23:00        23\n",
       "2014-08-01 00:24:00        24\n",
       "2014-08-01 00:25:00        25\n",
       "2014-08-01 00:26:00        26\n",
       "2014-08-01 00:27:00        27\n",
       "2014-08-01 00:28:00        28\n",
       "2014-08-01 00:29:00        29\n",
       "                        ...  \n",
       "2014-10-29 23:30:00    129570\n",
       "2014-10-29 23:31:00    129571\n",
       "2014-10-29 23:32:00    129572\n",
       "2014-10-29 23:33:00    129573\n",
       "2014-10-29 23:34:00    129574\n",
       "2014-10-29 23:35:00    129575\n",
       "2014-10-29 23:36:00    129576\n",
       "2014-10-29 23:37:00    129577\n",
       "2014-10-29 23:38:00    129578\n",
       "2014-10-29 23:39:00    129579\n",
       "2014-10-29 23:40:00    129580\n",
       "2014-10-29 23:41:00    129581\n",
       "2014-10-29 23:42:00    129582\n",
       "2014-10-29 23:43:00    129583\n",
       "2014-10-29 23:44:00    129584\n",
       "2014-10-29 23:45:00    129585\n",
       "2014-10-29 23:46:00    129586\n",
       "2014-10-29 23:47:00    129587\n",
       "2014-10-29 23:48:00    129588\n",
       "2014-10-29 23:49:00    129589\n",
       "2014-10-29 23:50:00    129590\n",
       "2014-10-29 23:51:00    129591\n",
       "2014-10-29 23:52:00    129592\n",
       "2014-10-29 23:53:00    129593\n",
       "2014-10-29 23:54:00    129594\n",
       "2014-10-29 23:55:00    129595\n",
       "2014-10-29 23:56:00    129596\n",
       "2014-10-29 23:57:00    129597\n",
       "2014-10-29 23:58:00    129598\n",
       "2014-10-29 23:59:00    129599\n",
       "Freq: T, Length: 129600, dtype: int64"
      ]
     },
     "execution_count": 18,
     "metadata": {},
     "output_type": "execute_result"
    }
   ],
   "source": [
    "print 'A Series with minute-level intervals.'\n",
    "minute_interval = pd.date_range('2014-08-01', '2014-10-29 23:59:00', freq='T')\n",
    "bymin = pd.Series(np.arange(0, len(minute_interval)), minute_interval)\n",
    "bymin"
   ]
  },
  {
   "cell_type": "code",
   "execution_count": 19,
   "metadata": {},
   "outputs": [
    {
     "name": "stdout",
     "output_type": "stream",
     "text": [
      "Slice the series - all data in a half hour range\n"
     ]
    },
    {
     "data": {
      "text/plain": [
       "2014-08-01 12:30:00    750\n",
       "2014-08-01 12:31:00    751\n",
       "2014-08-01 12:32:00    752\n",
       "2014-08-01 12:33:00    753\n",
       "2014-08-01 12:34:00    754\n",
       "2014-08-01 12:35:00    755\n",
       "2014-08-01 12:36:00    756\n",
       "2014-08-01 12:37:00    757\n",
       "2014-08-01 12:38:00    758\n",
       "2014-08-01 12:39:00    759\n",
       "2014-08-01 12:40:00    760\n",
       "2014-08-01 12:41:00    761\n",
       "2014-08-01 12:42:00    762\n",
       "2014-08-01 12:43:00    763\n",
       "2014-08-01 12:44:00    764\n",
       "2014-08-01 12:45:00    765\n",
       "2014-08-01 12:46:00    766\n",
       "2014-08-01 12:47:00    767\n",
       "2014-08-01 12:48:00    768\n",
       "2014-08-01 12:49:00    769\n",
       "2014-08-01 12:50:00    770\n",
       "2014-08-01 12:51:00    771\n",
       "2014-08-01 12:52:00    772\n",
       "2014-08-01 12:53:00    773\n",
       "2014-08-01 12:54:00    774\n",
       "2014-08-01 12:55:00    775\n",
       "2014-08-01 12:56:00    776\n",
       "2014-08-01 12:57:00    777\n",
       "2014-08-01 12:58:00    778\n",
       "2014-08-01 12:59:00    779\n",
       "Freq: T, dtype: int64"
      ]
     },
     "execution_count": 19,
     "metadata": {},
     "output_type": "execute_result"
    }
   ],
   "source": [
    "print 'Slice the series - all data in a half hour range'\n",
    "bymin['2014-08-01 12:30':'2014-08-01 12:59']"
   ]
  },
  {
   "cell_type": "markdown",
   "metadata": {},
   "source": [
    "### Intervals of time using Periods\n",
    "\n",
    "1. 'Period' objects efficiently store bounded intervals\n",
    "~~~~\n",
    "aug2014 = pd.Period('2014-08', freq='M')\n",
    "aug2014_T = pd.Period('2014-08', freq='T')\n",
    "~~~~\n",
    "2. Internal variables can be accessed to get useful info\n",
    "~~~~\n",
    "aug2014.start_time, aug2014.end_time\n",
    "##### end_time gives nanosecond resolution because it's last observable data of the month!\n",
    "~~~~\n",
    "3. Period objects are useful because they handle the subtly of date & time addition\n",
    "~~~~\n",
    "feb_2014 = pd.Period('2014-02', M) # A period object\n",
    "feb_2014.start_time, feb_2014.end_date # returns (Timestamp('2014-02-01 00:00:00'), Timestamp('2014-02-28 23:59:59.999999999'))\n",
    "feb_2014 + 1  # Returns a new Period object that is equivalent to pd.Period('2014-03', M). \n",
    "    # The frequency of the initial period was used to set the frequency manipulated by the addition\n",
    "~~~~\n",
    "\n",
    "4. **pd.period_range** is used to pass groups of Period objects to form a PeriodIndex \n",
    "5. Use PeriodIndex to construct a Series\n",
    "- ** The time series is indexed by whole periods, not single timestamps at the given time **\n",
    "- ** This will become important later when we resample to diff\n",
    "~~~~\n",
    "my_monthly_periods = pd.period_range('1/1/2013', '12/1/2013', freq='M')\n",
    "pd.Series(np.random.randn(len(my_monthly_periods)), index = my_monthly_periods)\n",
    "~~~~"
   ]
  },
  {
   "cell_type": "code",
   "execution_count": 20,
   "metadata": {},
   "outputs": [
    {
     "name": "stdout",
     "output_type": "stream",
     "text": [
      "The passed time string is coerced as needed to match the format of the freqency\n"
     ]
    },
    {
     "data": {
      "text/plain": [
       "(Period('2014-08', 'M'), Period('2014-08-01 00:00', 'T'))"
      ]
     },
     "execution_count": 20,
     "metadata": {},
     "output_type": "execute_result"
    }
   ],
   "source": [
    "print 'The passed time string is coerced as needed to match the format of the freqency'\n",
    "aug2014 = pd.Period('2014-08', freq='M')\n",
    "aug2014_T = pd.Period('2014-08', freq='T')\n",
    "(aug2014, aug2014_T)"
   ]
  },
  {
   "cell_type": "code",
   "execution_count": 21,
   "metadata": {},
   "outputs": [
    {
     "name": "stdout",
     "output_type": "stream",
     "text": [
      "Period objects have a lot of internal variables that can be accessed \n"
     ]
    },
    {
     "data": {
      "text/plain": [
       "(Timestamp('2014-08-01 00:00:00'), Timestamp('2014-08-31 23:59:59.999999999'))"
      ]
     },
     "execution_count": 21,
     "metadata": {},
     "output_type": "execute_result"
    }
   ],
   "source": [
    "print 'Period objects have a lot of internal variables that can be accessed '\n",
    "aug2014.start_time, aug2014.end_time"
   ]
  },
  {
   "cell_type": "code",
   "execution_count": 22,
   "metadata": {},
   "outputs": [
    {
     "name": "stdout",
     "output_type": "stream",
     "text": [
      "Operations are overloaded to conform to the Period's initial freq\n"
     ]
    },
    {
     "data": {
      "text/plain": [
       "(Period('2014-09', 'M'), Period('2014-08-01 00:01', 'T'))"
      ]
     },
     "execution_count": 22,
     "metadata": {},
     "output_type": "execute_result"
    }
   ],
   "source": [
    "print 'Operations are overloaded to conform to the Period\\'s initial freq'\n",
    "aug2014 + 1, aug2014_T + 1"
   ]
  },
  {
   "cell_type": "code",
   "execution_count": 23,
   "metadata": {},
   "outputs": [
    {
     "name": "stdout",
     "output_type": "stream",
     "text": [
      "The result of the operation is a new Period object that mimics the intial one,\n",
      "as if the new object were created by pd.Period(_new_time_, freq=_freq_).\n",
      "Adding 1 to aug2014 gives start_time and end_time of:\n"
     ]
    },
    {
     "data": {
      "text/plain": [
       "(Timestamp('2014-09-01 00:00:00'), Timestamp('2014-09-30 23:59:59.999999999'))"
      ]
     },
     "execution_count": 23,
     "metadata": {},
     "output_type": "execute_result"
    }
   ],
   "source": [
    "print 'The result of the operation is a new Period object that mimics the intial one,'\n",
    "print 'as if the new object were created by pd.Period(_new_time_, freq=_freq_).'\n",
    "print 'Adding 1 to aug2014 gives start_time and end_time of:'\n",
    "sep2014 = aug2014 + 1\n",
    "sep2014.start_time, sep2014.end_time"
   ]
  },
  {
   "cell_type": "markdown",
   "metadata": {},
   "source": [
    "#### PeriodIndex"
   ]
  },
  {
   "cell_type": "code",
   "execution_count": 24,
   "metadata": {},
   "outputs": [
    {
     "name": "stdout",
     "output_type": "stream",
     "text": [
      "A data structure containing month-level frequencies for the year 2013\n"
     ]
    },
    {
     "data": {
      "text/plain": [
       "PeriodIndex(['2013-01', '2013-02', '2013-03', '2013-04', '2013-05', '2013-06',\n",
       "             '2013-07', '2013-08', '2013-09', '2013-10', '2013-11', '2013-12'],\n",
       "            dtype='period[M]', freq='M')"
      ]
     },
     "execution_count": 24,
     "metadata": {},
     "output_type": "execute_result"
    }
   ],
   "source": [
    "print 'A data structure containing month-level frequencies for the year 2013'\n",
    "mp2013 = pd.period_range('1/1/2013', '12/31/2013', freq='M')\n",
    "mp2013"
   ]
  },
  {
   "cell_type": "code",
   "execution_count": 25,
   "metadata": {},
   "outputs": [
    {
     "name": "stdout",
     "output_type": "stream",
     "text": [
      "Examine the contents of the data structure\n",
      "2013-01 <MonthEnd> 2013-01-01 00:00:00 2013-01-31 23:59:59.999999999\n",
      "2013-02 <MonthEnd> 2013-02-01 00:00:00 2013-02-28 23:59:59.999999999\n",
      "2013-03 <MonthEnd> 2013-03-01 00:00:00 2013-03-31 23:59:59.999999999\n",
      "2013-04 <MonthEnd> 2013-04-01 00:00:00 2013-04-30 23:59:59.999999999\n",
      "2013-05 <MonthEnd> 2013-05-01 00:00:00 2013-05-31 23:59:59.999999999\n",
      "2013-06 <MonthEnd> 2013-06-01 00:00:00 2013-06-30 23:59:59.999999999\n",
      "2013-07 <MonthEnd> 2013-07-01 00:00:00 2013-07-31 23:59:59.999999999\n",
      "2013-08 <MonthEnd> 2013-08-01 00:00:00 2013-08-31 23:59:59.999999999\n",
      "2013-09 <MonthEnd> 2013-09-01 00:00:00 2013-09-30 23:59:59.999999999\n",
      "2013-10 <MonthEnd> 2013-10-01 00:00:00 2013-10-31 23:59:59.999999999\n",
      "2013-11 <MonthEnd> 2013-11-01 00:00:00 2013-11-30 23:59:59.999999999\n",
      "2013-12 <MonthEnd> 2013-12-01 00:00:00 2013-12-31 23:59:59.999999999\n"
     ]
    }
   ],
   "source": [
    "print 'Examine the contents of the data structure'\n",
    "for p in mp2013:\n",
    "    print \"%s %s %s %s\" % (p, p.freq, p.start_time, p.end_time)"
   ]
  },
  {
   "cell_type": "code",
   "execution_count": 26,
   "metadata": {},
   "outputs": [
    {
     "name": "stdout",
     "output_type": "stream",
     "text": [
      "Series from a PeriodIndex\n"
     ]
    },
    {
     "data": {
      "text/plain": [
       "2013-01    0.469\n",
       "2013-02   -0.283\n",
       "2013-03   -1.509\n",
       "2013-04   -1.136\n",
       "2013-05    1.212\n",
       "2013-06   -0.173\n",
       "2013-07    0.119\n",
       "2013-08   -1.044\n",
       "2013-09   -0.862\n",
       "2013-10   -2.105\n",
       "2013-11   -0.495\n",
       "2013-12    1.072\n",
       "Freq: M, dtype: float64"
      ]
     },
     "execution_count": 26,
     "metadata": {},
     "output_type": "execute_result"
    }
   ],
   "source": [
    "print 'Series from a PeriodIndex'\n",
    "np.random.seed(123456)\n",
    "ps = pd.Series(np.random.randn(12), index=mp2013)\n",
    "ps"
   ]
  },
  {
   "cell_type": "markdown",
   "metadata": {
    "collapsed": true
   },
   "source": [
    "### Shifting and Lagging time-series data\n",
    "\n",
    "Practical Applications\n",
    "- Calculating day-over-day changes in closing prices\n",
    "\n",
    "Notes\n",
    "1. Shifting by a constant value equal to the original index\n",
    " -  Will lose data during the realignment process, either at head or tail of the set\n",
    "~~~~\n",
    "msftC.shift(2) # The first two date values become NaN's \n",
    "~~~~\n",
    "\n",
    "2. Shifting by the constant value of an arbitrary frequency\n",
    " - Will NOT lose data. Essentially just shifts the entire series by the given value\n",
    "~~~~\n",
    "msft.shift(2, freq='S')\n",
    "~~~~\n",
    "\n",
    "3. tshift is a more specific version of shfit that always uses frequency shifting. Syntax is identical.\n",
    "~~~~\n",
    "msft.tshift(2, freq='S')\n",
    "~~~~"
   ]
  },
  {
   "cell_type": "code",
   "execution_count": 42,
   "metadata": {},
   "outputs": [
    {
     "name": "stdout",
     "output_type": "stream",
     "text": [
      "Shifting forward 1 time unit (can also shift backwards using negative numbers passed to shift() ): \n",
      "Original:\n",
      "Date\n",
      "2012-01-03    26.76\n",
      "2012-01-04    27.40\n",
      "2012-01-05    27.68\n",
      "2012-01-06    28.10\n",
      "2012-01-09    27.74\n",
      "Name: Close, dtype: float64\n",
      "\n",
      "Shifted:\n",
      "Date\n",
      "2012-01-03      NaN\n",
      "2012-01-04    26.76\n",
      "2012-01-05    27.40\n",
      "2012-01-06    27.68\n",
      "2012-01-09    28.10\n",
      "Name: Close, dtype: float64\n"
     ]
    }
   ],
   "source": [
    "print 'Shifting forward 1 time unit (can also shift backwards using negative numbers passed to shift() ): '\n",
    "print 'Original:'\n",
    "print msftC[:5]\n",
    "shifted_forward = msftC.shift(1)\n",
    "\n",
    "print '\\nShifted:'\n",
    "print shifted_forward[:5]"
   ]
  },
  {
   "cell_type": "code",
   "execution_count": 45,
   "metadata": {},
   "outputs": [
    {
     "name": "stdout",
     "output_type": "stream",
     "text": [
      "Shifting by a constant frequency value. No data is lost: \n"
     ]
    },
    {
     "data": {
      "text/plain": [
       "Date\n",
       "2012-01-03 00:00:01    26.76\n",
       "2012-01-04 00:00:01    27.40\n",
       "2012-01-05 00:00:01    27.68\n",
       "2012-01-06 00:00:01    28.10\n",
       "2012-01-09 00:00:01    27.74\n",
       "Name: Close, dtype: float64"
      ]
     },
     "execution_count": 45,
     "metadata": {},
     "output_type": "execute_result"
    }
   ],
   "source": [
    "print 'Shifting by a constant frequency value. No data is lost: '\n",
    "msftC.shift(1, freq='S')[:5]"
   ]
  },
  {
   "cell_type": "code",
   "execution_count": 53,
   "metadata": {},
   "outputs": [
    {
     "name": "stdout",
     "output_type": "stream",
     "text": [
      "tshift is an alternate form that is more specific for time series.\n",
      "Shift will work on all series.  Tshift will always use a freqency shift, either provided or inferred from the index.\n"
     ]
    },
    {
     "data": {
      "text/plain": [
       "Date\n",
       "2012-01-04    26.76\n",
       "2012-01-05    27.40\n",
       "2012-01-06    27.68\n",
       "2012-01-07    28.10\n",
       "2012-01-10    27.74\n",
       "Name: Close, dtype: float64"
      ]
     },
     "execution_count": 53,
     "metadata": {},
     "output_type": "execute_result"
    }
   ],
   "source": [
    "print 'tshift is an alternate form that is more specific for time series.'  \n",
    "print 'Shift will work on all series.  Tshift will always use a freqency shift, either provided or inferred from the index.'\n",
    "msftC.tshift(1, freq='D')[:5]"
   ]
  },
  {
   "cell_type": "code",
   "execution_count": 57,
   "metadata": {
    "scrolled": true
   },
   "outputs": [
    {
     "name": "stdout",
     "output_type": "stream",
     "text": [
      "Calculate day-over-day change in the closing price:\n"
     ]
    },
    {
     "data": {
      "text/plain": [
       "Date\n",
       "2012-01-03      NaN\n",
       "2012-01-04    0.024\n",
       "2012-01-05    0.010\n",
       "2012-01-06    0.015\n",
       "2012-01-07      NaN\n",
       "2012-01-09      NaN\n",
       "2012-01-10    0.004\n",
       "2012-01-11   -0.004\n",
       "2012-01-12    0.010\n",
       "2012-01-13    0.009\n",
       "2012-01-14      NaN\n",
       "2012-01-17      NaN\n",
       "2012-01-18   -0.001\n",
       "2012-01-19   -0.004\n",
       "2012-01-20    0.057\n",
       "2012-01-21      NaN\n",
       "2012-01-23      NaN\n",
       "2012-01-24   -0.013\n",
       "2012-01-25    0.007\n",
       "2012-01-26   -0.002\n",
       "2012-01-27   -0.009\n",
       "2012-01-28      NaN\n",
       "2012-01-30      NaN\n",
       "2012-01-31   -0.003\n",
       "2012-02-01    0.012\n",
       "2012-02-02    0.002\n",
       "2012-02-03    0.010\n",
       "2012-02-04      NaN\n",
       "2012-02-06      NaN\n",
       "2012-02-07    0.005\n",
       "              ...  \n",
       "2013-11-27    0.007\n",
       "2013-11-28      NaN\n",
       "2013-11-29      NaN\n",
       "2013-11-30      NaN\n",
       "2013-12-02      NaN\n",
       "2013-12-03   -0.004\n",
       "2013-12-04    0.016\n",
       "2013-12-05   -0.024\n",
       "2013-12-06    0.009\n",
       "2013-12-07      NaN\n",
       "2013-12-09      NaN\n",
       "2013-12-10   -0.015\n",
       "2013-12-11   -0.013\n",
       "2013-12-12   -0.010\n",
       "2013-12-13   -0.014\n",
       "2013-12-14      NaN\n",
       "2013-12-16      NaN\n",
       "2013-12-17   -0.010\n",
       "2013-12-18    0.002\n",
       "2013-12-19   -0.009\n",
       "2013-12-20    0.015\n",
       "2013-12-21      NaN\n",
       "2013-12-23      NaN\n",
       "2013-12-24    0.013\n",
       "2013-12-25      NaN\n",
       "2013-12-26      NaN\n",
       "2013-12-27   -0.004\n",
       "2013-12-28      NaN\n",
       "2013-12-30      NaN\n",
       "2013-12-31      NaN\n",
       "Name: Close, Length: 613, dtype: float64"
      ]
     },
     "execution_count": 57,
     "metadata": {},
     "output_type": "execute_result"
    }
   ],
   "source": [
    "print 'Calculate day-over-day change in the closing price:'\n",
    "msftC / msftC.shift(1, freq='D') - 1"
   ]
  },
  {
   "cell_type": "markdown",
   "metadata": {},
   "source": [
    "### Frequency Conversion of time-series data\n",
    "\n",
    "1. df.asfreq\n",
    "2. Upsampling: requires filling in data or you're left with NaN's\n",
    "3. Downsamplng: requires a data reduction (e.g. aggregation, min, max, etc) \n",
    "\n",
    "~~~~\n",
    "print sample.asfreq(\"H\") # Upsampling to hourly leaves us with NaN\n",
    "print sample.asfreq(\"H\").fillna(method='ffill') # Forward Fill, for example, to fill them in\n",
    "~~~~"
   ]
  },
  {
   "cell_type": "code",
   "execution_count": 65,
   "metadata": {
    "scrolled": true
   },
   "outputs": [
    {
     "name": "stdout",
     "output_type": "stream",
     "text": [
      "Frequency conversion with df.asfreq()\n",
      "Upsampling to hourly leaves us with NaN's:\n",
      "Date\n",
      "2012-01-03 00:00:00    26.76\n",
      "2012-01-03 01:00:00      NaN\n",
      "2012-01-03 02:00:00      NaN\n",
      "2012-01-03 03:00:00      NaN\n",
      "2012-01-03 04:00:00      NaN\n",
      "2012-01-03 05:00:00      NaN\n",
      "2012-01-03 06:00:00      NaN\n",
      "2012-01-03 07:00:00      NaN\n",
      "2012-01-03 08:00:00      NaN\n",
      "2012-01-03 09:00:00      NaN\n",
      "2012-01-03 10:00:00      NaN\n",
      "2012-01-03 11:00:00      NaN\n",
      "2012-01-03 12:00:00      NaN\n",
      "2012-01-03 13:00:00      NaN\n",
      "2012-01-03 14:00:00      NaN\n",
      "2012-01-03 15:00:00      NaN\n",
      "2012-01-03 16:00:00      NaN\n",
      "2012-01-03 17:00:00      NaN\n",
      "2012-01-03 18:00:00      NaN\n",
      "2012-01-03 19:00:00      NaN\n",
      "2012-01-03 20:00:00      NaN\n",
      "2012-01-03 21:00:00      NaN\n",
      "2012-01-03 22:00:00      NaN\n",
      "2012-01-03 23:00:00      NaN\n",
      "2012-01-04 00:00:00    27.40\n",
      "Freq: H, Name: Close, dtype: float64\n",
      "\n",
      "Forward Fill, for example, to fill them in: \n",
      "Date\n",
      "2012-01-03 00:00:00    26.76\n",
      "2012-01-03 01:00:00    26.76\n",
      "2012-01-03 02:00:00    26.76\n",
      "2012-01-03 03:00:00    26.76\n",
      "2012-01-03 04:00:00    26.76\n",
      "2012-01-03 05:00:00    26.76\n",
      "2012-01-03 06:00:00    26.76\n",
      "2012-01-03 07:00:00    26.76\n",
      "2012-01-03 08:00:00    26.76\n",
      "2012-01-03 09:00:00    26.76\n",
      "2012-01-03 10:00:00    26.76\n",
      "2012-01-03 11:00:00    26.76\n",
      "2012-01-03 12:00:00    26.76\n",
      "2012-01-03 13:00:00    26.76\n",
      "2012-01-03 14:00:00    26.76\n",
      "2012-01-03 15:00:00    26.76\n",
      "2012-01-03 16:00:00    26.76\n",
      "2012-01-03 17:00:00    26.76\n",
      "2012-01-03 18:00:00    26.76\n",
      "2012-01-03 19:00:00    26.76\n",
      "2012-01-03 20:00:00    26.76\n",
      "2012-01-03 21:00:00    26.76\n",
      "2012-01-03 22:00:00    26.76\n",
      "2012-01-03 23:00:00    26.76\n",
      "2012-01-04 00:00:00    27.40\n",
      "Freq: H, Name: Close, dtype: float64\n"
     ]
    }
   ],
   "source": [
    "print 'Frequency conversion with df.asfreq()'\n",
    "sample = msftC[:2]\n",
    "\n",
    "print 'Upsampling to hourly leaves us with NaN\\'s:'\n",
    "print sample.asfreq(\"H\")\n",
    "\n",
    "print '\\nForward Fill, for example, to fill them in: '\n",
    "print sample.asfreq(\"H\").fillna(method='ffill')"
   ]
  },
  {
   "cell_type": "markdown",
   "metadata": {},
   "source": [
    "### Resampling of time-series"
   ]
  },
  {
   "cell_type": "markdown",
   "metadata": {},
   "source": []
  },
  {
   "cell_type": "code",
   "execution_count": null,
   "metadata": {
    "collapsed": true
   },
   "outputs": [],
   "source": []
  },
  {
   "cell_type": "code",
   "execution_count": null,
   "metadata": {
    "collapsed": true
   },
   "outputs": [],
   "source": []
  },
  {
   "cell_type": "code",
   "execution_count": null,
   "metadata": {
    "collapsed": true
   },
   "outputs": [],
   "source": []
  },
  {
   "cell_type": "code",
   "execution_count": null,
   "metadata": {
    "collapsed": true
   },
   "outputs": [],
   "source": []
  },
  {
   "cell_type": "code",
   "execution_count": null,
   "metadata": {
    "collapsed": true
   },
   "outputs": [],
   "source": []
  }
 ],
 "metadata": {
  "kernelspec": {
   "display_name": "Python 2",
   "language": "python",
   "name": "python2"
  },
  "language_info": {
   "codemirror_mode": {
    "name": "ipython",
    "version": 2
   },
   "file_extension": ".py",
   "mimetype": "text/x-python",
   "name": "python",
   "nbconvert_exporter": "python",
   "pygments_lexer": "ipython2",
   "version": "2.7.13"
  }
 },
 "nbformat": 4,
 "nbformat_minor": 2
}
