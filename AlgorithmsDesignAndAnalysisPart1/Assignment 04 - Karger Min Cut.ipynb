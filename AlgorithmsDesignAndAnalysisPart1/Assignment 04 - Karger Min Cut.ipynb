{
 "cells": [
  {
   "cell_type": "code",
   "execution_count": 54,
   "metadata": {
    "collapsed": false
   },
   "outputs": [
    {
     "data": {
      "text/plain": [
       "['1 37 79 164 155 32 87 39 113 15 18 78 175 140 200 4 160 97 191 100 91 20 69 198 196',\n",
       " '2 123 134 10 141 13 12 43 47 3 177 101 179 77 182 117 116 36 103 51 154 162 128 30',\n",
       " '3 48 123 134 109 41 17 159 49 136 16 130 141 29 176 2 190 66 153 157 70 114 65 173 104 194 54',\n",
       " '4 91 171 118 125 158 76 107 18 73 140 42 193 127 100 84 121 60 81 99 80 150 55 1 35 23 93',\n",
       " '5 193 156 102 118 175 39 124 119 19 99 160 75 20 112 37 23 145 135 146 73 35',\n",
       " '6 155 56 52 120 131 160 124 119 14 196 144 25 75 76 166 35 87 26 20 32 23',\n",
       " '7 156 185 178 79 27 52 144 107 78 22 71 26 31 15 56 76 112 39 8 113 93',\n",
       " '8 185 155 171 178 108 64 164 53 140 25 100 133 9 52 191 46 20 150 144 39 62 131 42 119 127 31 7',\n",
       " '9 91 155 8 160 107 132 195 26 20 133 39 76 100 78 122 127 38 156 191 196 115',\n",
       " '10 190 184 154 49 2 182 173 170 161 47 189 101 153 50 30 109 177 148 179 16 163 116 13 90 185']"
      ]
     },
     "execution_count": 54,
     "metadata": {},
     "output_type": "execute_result"
    }
   ],
   "source": [
    "from sys import argv\n",
    "import numpy as np\n",
    "import random\n",
    "\n",
    "filename = './kargerMinCut.txt'\n",
    "with open(filename) as f:\n",
    "    intArray = [x.strip('\\t\\r\\n').replace('\\t',' ') for x in f.readlines()]\n",
    "intArray[:10]"
   ]
  },
  {
   "cell_type": "code",
   "execution_count": 12,
   "metadata": {
    "collapsed": false
   },
   "outputs": [
    {
     "name": "stdout",
     "output_type": "stream",
     "text": [
      "Object `strip` not found.\n"
     ]
    }
   ],
   "source": [
    "'''\n",
    "Karger's algorithm:\n",
    "1. Pick an edge (a pair of vertices joined) uniformly at random\n",
    "2. Merge u and v into a single vertex\n",
    "3. Remove self-loops (vertices with edges pointing to themselves)\n",
    "\n",
    "Keep track of the nodes merged into each other.\n",
    "'''"
   ]
  },
  {
   "cell_type": "code",
   "execution_count": 93,
   "metadata": {
    "collapsed": false
   },
   "outputs": [
    {
     "name": "stdout",
     "output_type": "stream",
     "text": [
      "[1 2 3 4]\n",
      "{1: array([2, 3]), 2: array([1, 3, 4]), 3: array([1, 2, 4]), 4: array([2, 3])}\n"
     ]
    }
   ],
   "source": [
    "# Create a much simpler array to test on.\n",
    "\n",
    "# Populate the array -- visualized as a square with a single diagonal line connecting 2 and 3\n",
    "simpleArray = {}\n",
    "simpleArray[1] = np.array([2,3])\n",
    "simpleArray[2] = np.array([1,3,4])\n",
    "simpleArray[3] = np.array([1,2,4])\n",
    "simpleArray[4] = np.array([2,3])\n",
    "sampleSpace = np.arange(1,5)\n",
    "\n",
    "print sampleSpace\n"
   ]
  },
  {
   "cell_type": "code",
   "execution_count": 298,
   "metadata": {
    "collapsed": false,
    "scrolled": false
   },
   "outputs": [
    {
     "name": "stdout",
     "output_type": "stream",
     "text": [
      "Target Array: {1: array([2, 3]), 2: array([1, 3, 4]), 3: array([1, 2, 4]), 4: array([2, 3])}\n",
      "\n",
      "\n",
      "New Target Array: {1: array([2, 3]), 2: array([1, 3, 4]), 3: array([1, 2, 4]), 4: array([2, 3])}\n",
      "New sample space is: [1, 2, 3, 4]\n",
      "i:2\n",
      "j:4\n",
      "Vertices connected to vertex # 2 (i): [1 3 4]\n",
      "Vertices connected to vertex # 4 (j): [2 3]\n",
      "Indirection Array for 2: 2|4\n",
      "Indirection Array for 4: 2|4\n",
      "New array with edges 2 and 4 collapsed:\n",
      "{1: array([2, 3]), 3: array([1, 2, 4]), '2|4': array([1, 3, 4, 2, 3])}\n",
      "New Length: 3\n",
      "\n",
      "\n",
      "New Target Array: {1: array([2, 3]), 3: array([1, 2, 4]), '2|4': array([1, 3, 4, 2, 3])}\n",
      "New sample space is: [1, 3, '2|4']\n",
      "i:1\n",
      "j:2|4\n",
      "Vertices connected to vertex # 1 (i): [2 3]\n",
      "Vertices connected to vertex # 2|4 (j): [1 3 4 2 3]\n",
      "Indirection Array for 1: 1|2|4\n",
      "Indirection Array for 2|4: 1|2|4\n",
      "New array with edges 1 and 2|4 collapsed:\n",
      "{'1|2|4': array([2, 3, 1, 3, 4, 2, 3]), 3: array([1, 2, 4])}\n",
      "New Length: 2\n",
      "\n",
      "Done grouping vertices: \n",
      "{'1|2|4': array([2, 3, 1, 3, 4, 2, 3]), 3: array([1, 2, 4])}\n",
      "Shorted vertex group used for looping: 3\n",
      "is 1 in [3]?\n",
      "is 2 in [3]?\n",
      "is 4 in [3]?\n",
      "crossing edges: 3\n"
     ]
    },
    {
     "data": {
      "text/plain": [
       "[3]"
      ]
     },
     "execution_count": 298,
     "metadata": {},
     "output_type": "execute_result"
    }
   ],
   "source": [
    "# TO DO Figure out why this fails\n",
    "# Fails because a set() doesn't have a length. I needed to turn the set back into an array\n",
    "\n",
    "output = True\n",
    "\n",
    "random.seed()\n",
    "simpleArray = {}\n",
    "\n",
    "'''\n",
    "simpleArray[1] = np.array([2,3,5])\n",
    "simpleArray[2] = np.array([1,3,4,6])\n",
    "simpleArray[3] = np.array([1,2,4,5])\n",
    "simpleArray[4] = np.array([2,3,6])\n",
    "simpleArray[5] = np.array([1,3])\n",
    "simpleArray[6] = np.array([2,4])\n",
    "'''\n",
    "\n",
    "\n",
    "# 4 sided square, 1 diagonal\n",
    "simpleArray[1] = np.array([2,3])\n",
    "simpleArray[2] = np.array([1,3,4])\n",
    "simpleArray[3] = np.array([1,2,4])\n",
    "simpleArray[4] = np.array([2,3])\n",
    "\n",
    "'''\n",
    "\n",
    "# 5 vertices; house shape\n",
    "simpleArray[1] = np.array([2,3,5])\n",
    "simpleArray[2] = np.array([1,3,4])\n",
    "simpleArray[3] = np.array([1,2,4,5])\n",
    "simpleArray[4] = np.array([2,3])\n",
    "simpleArray[5] = np.array([1,3])\n",
    "'''\n",
    "original_array = simpleArray.copy()\n",
    "\n",
    "print 'Target Array: ' + str(simpleArray)\n",
    "\n",
    "def determine_crossing_cuts(simpleArray, output):\n",
    "    \n",
    "    #collapsedArray = {}\n",
    "    \n",
    "    # The indirection array prevents us from needing to populate a new array\n",
    "    # with our output\n",
    "    indirectionArray = {}\n",
    "    indirectionArray = {i:i for i in simpleArray.keys()}\n",
    "\n",
    "    while len(simpleArray) > 2:\n",
    "        # Pull a random sample of pairs from the sampleSpace         \n",
    "        if output == True: \n",
    "            print '\\n'\n",
    "        if output == True:         \n",
    "            print 'New Target Array: ' + str(simpleArray)\n",
    "\n",
    "        random.seed()\n",
    "        \n",
    "        # Pick one of our vertices\n",
    "        print 'New sample space is: ' + str(simpleArray.keys())\n",
    "        \n",
    "        i = random.sample(simpleArray.keys(), 1)\n",
    "        i = i[0]\n",
    "        #print i\n",
    "        \n",
    "        # Pick an edge that's joined to that edge\n",
    "        j = i\n",
    "        while i == j:\n",
    "            # Loop until we get a j that isn't j\n",
    "            j = indirectionArray[random.sample(simpleArray[i], 1)[0]]\n",
    "            #print j\n",
    "        \n",
    "        if output == True:\n",
    "            print 'i:' + str(i)\n",
    "            print 'j:' +  str(j)\n",
    "        \n",
    "        # Find the values associated with that array.\n",
    "        if output == True:     \n",
    "            print 'Vertices connected to vertex # ' + str(i) + ' (i): ' + str(simpleArray[i])\n",
    "            print 'Vertices connected to vertex # ' + str(j) + ' (j): ' + str(simpleArray[j])\n",
    "\n",
    "        # Use a list not a set to keep track of values; a set will obscure when the collapsed vertex\n",
    "        # is connected to the same point by constituent nodes\n",
    "                #newSet = set() #WRONG! use a list\n",
    "        newList = list()\n",
    "\n",
    "        for x in range(len(simpleArray[i])):\n",
    "            newList.append(simpleArray[i][x])\n",
    "\n",
    "        for x in range(len(simpleArray[j])):\n",
    "            newList.append(simpleArray[j][x])\n",
    "                    \n",
    "        # Parse i|j\n",
    "        # Copy i|j to each of the values\n",
    "        new_string = str(i)+'|'+str(j)\n",
    "        new_string.split('|')\n",
    "        \n",
    "        raise ValueError('START HERE')\n",
    "        \n",
    "        indirectionArray[i] = str(i)+'|'+str(j)\n",
    "        indirectionArray[j] = str(i)+'|'+str(j)\n",
    "        simpleArray[str(i)+'|'+str(j)] = np.array(newList)\n",
    "        if output == True:\n",
    "            print 'Indirection Array for ' + str(i) + ': ' + str(indirectionArray[i])\n",
    "            print 'Indirection Array for ' + str(j) + ': ' + str(indirectionArray[j])            \n",
    "        \n",
    "        # raise ValueError(indirectionArray)\n",
    "\n",
    "        if output == True: \n",
    "            print 'New array with edges ' + str(i) + ' and ' + str(j) + ' collapsed:'\n",
    "        del simpleArray[i]\n",
    "        del simpleArray[j]\n",
    "        if output == True: \n",
    "            print simpleArray\n",
    "            print 'New Length: ' + str(len(simpleArray))\n",
    "\n",
    "    # raise ValueError('array: ' + str(simpleArray))\n",
    "\n",
    "    # Now we have our two groups.  Cycle throught the shortest group and count the number of edges\n",
    "    # for the vertices in that group that are not still in that group\n",
    "\n",
    "    print '\\n' + 'Done grouping vertices: '\n",
    "    print simpleArray\n",
    "\n",
    "    reference_vertex_group = None\n",
    "    for x in simpleArray:\n",
    "        if(reference_vertex_group == None):\n",
    "            reference_vertex_group = x\n",
    "        else:\n",
    "            reference_vertex_group = x if len(simpleArray[x]) < reference_vertex_group else reference_vertex_group\n",
    "    print 'Shorted vertex group used for looping: ' + str(reference_vertex_group)\n",
    "\n",
    "    # Create a numerical array from the reference vertex group\n",
    "        #reference_vertex_group = str('1|2|3').split('|')\n",
    "        #print reference_vertex_group\n",
    "\n",
    "    parsed_vertex_group = str(reference_vertex_group).split('|')\n",
    "    parsed_vertex_group = [int(x) for x in parsed_vertex_group]\n",
    "    #print 'Vertex group parsed into a list: ' + str(parsed_vertex_group)\n",
    "\n",
    "    #print 'Original array was ' + str(original_array)\n",
    "\n",
    "    ## Final variable declaration      \n",
    "    crossing_edges_counts = 0\n",
    "    for x in simpleArray[reference_vertex_group]:\n",
    "        print 'is ' + str(x) + ' in ' + str(parsed_vertex_group) + '?'\n",
    "        if x not in parsed_vertex_group:\n",
    "            crossing_edges_counts = crossing_edges_counts + 1 \n",
    "\n",
    "    print 'crossing edges: ' + str(crossing_edges_counts)\n",
    "    return crossing_edges_counts\n",
    "\n",
    "trials = 1\n",
    "track_minimum_cuts = []\n",
    "while trials > 0:\n",
    "    track_minimum_cuts.append(determine_crossing_cuts(simpleArray, output))\n",
    "    trials = trials - 1\n",
    "track_minimum_cuts"
   ]
  },
  {
   "cell_type": "code",
   "execution_count": null,
   "metadata": {
    "collapsed": true
   },
   "outputs": [],
   "source": [
    "# CHANGE THE RANDOM SEED BEFORE RUNNING THE ABOVE FUNCTION"
   ]
  },
  {
   "cell_type": "code",
   "execution_count": null,
   "metadata": {
    "collapsed": true
   },
   "outputs": [],
   "source": []
  },
  {
   "cell_type": "code",
   "execution_count": 295,
   "metadata": {
    "collapsed": false
   },
   "outputs": [
    {
     "data": {
      "text/plain": [
       "[4, 5, 6]"
      ]
     },
     "execution_count": 295,
     "metadata": {},
     "output_type": "execute_result"
    }
   ],
   "source": [
    "simpleArray = {}\n",
    "simpleArray[1] = np.array([2,3,5])\n",
    "simpleArray[2] = np.array([1,3,4,6])\n",
    "simpleArray[3] = np.array([1,2,4,5])\n",
    "simpleArray[4] = np.array([2,3,6])\n",
    "simpleArray[5] = np.array([1,3])\n",
    "simpleArray[6] = np.array([2,4])\n",
    "\n",
    "y = [x for x in simpleArray.keys() if x > 3]\n",
    "y"
   ]
  }
 ],
 "metadata": {
  "kernelspec": {
   "display_name": "Python 2",
   "language": "python",
   "name": "python2"
  },
  "language_info": {
   "codemirror_mode": {
    "name": "ipython",
    "version": 2
   },
   "file_extension": ".py",
   "mimetype": "text/x-python",
   "name": "python",
   "nbconvert_exporter": "python",
   "pygments_lexer": "ipython2",
   "version": "2.7.13"
  }
 },
 "nbformat": 4,
 "nbformat_minor": 2
}
