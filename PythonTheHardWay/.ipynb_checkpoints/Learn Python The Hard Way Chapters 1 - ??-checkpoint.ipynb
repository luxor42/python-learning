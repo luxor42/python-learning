{
 "cells": [
  {
   "cell_type": "markdown",
   "metadata": {},
   "source": [
    "**Review - Actually Exercise 22 but moved up here\n",
    "\n",
    "# Code Review practices\n",
    "Read the code backwards when there is a bug\n",
    "\n",
    "# Args\n",
    "from sys import argv\n",
    "script, input1, input2 = argv\n",
    "\n",
    "# Functions\n",
    "def my_function(*args):\n",
    "    input1, input2 = args\n",
    "    return input1 + input2\n",
    "    \n",
    "def multi_return_func(input1, input2):\n",
    "    input1 += input2\n",
    "    input2 *= input1\n",
    "    return input1, input2\n",
    "\n",
    "# Files\n",
    "current_file = open(input_file)\n",
    "current_file.read()\n",
    "current_file.seek(0)\n",
    "string = \"write this\"\n",
    "current_file.write(string,'a+')\n",
    "current_file.write(string,'w')\n",
    "current_file.truncate()\n",
    "current_file.close()\n",
    "\n",
    "# Print & Strings\n",
    "\n",
    "%d, %s, %r -- numbers, strings, string representation of variable\n",
    "See http://learnpythonthehardway.org/book/ex37.html for all string formats\n",
    "\n",
    "print \"\"\" way to\n",
    "write long strings\n",
    "over many lines inside\n",
    "a single print statement like this\n",
    "\"\"\"\n",
    "my_string = \"sample string!\"\n",
    "my_list = my_string.split(' ')\n",
    "sorted(list)\n",
    "if \"substring\" in main_string:\n",
    "\n",
    "# Loops, Lists, Dictionaries\n",
    "for x in mylist:\n",
    "    print x\n",
    "mylist.append()\n",
    "mylist.join(seperator) - prints out list as a string separated by seperator\n",
    "dead(\"statement\")\n",
    "break - stop loop now\n",
    "\n",
    "new_list = old_list[:].  ** Copy a list. new_list = old_list is a reference.\n",
    "\n",
    "del mydict['entry']\n",
    "mydict.items() - returns two variable key-value pair of items in dict\n",
    "mydict.get(string) - retrieve the item with value string\n",
    "\n",
    "**OrderedDict is another data type for ordered dictionaries.\n",
    "\n",
    "\n",
    "# Exception handling\n",
    "try: # codeblock\n",
    "except: # codeblock\n",
    "raise # e.g. raise ValueError(\"No\")\n",
    "pass\n",
    "\n",
    "\n",
    "# Library functions\n",
    "reload(my_library)\n",
    "help(my_library) # Full documentation in the library\n",
    "help(my_lirary.my_function) # Documentation just for my_function\n",
    "\n",
    "# Lambdas\n",
    "Lambda: create a short anonymous function.\n",
    "s = lambda y: y ** y; s(#)\n",
    "\n",
    "# Classes\n",
    "Word Drills\n",
    "class - Tell Python to make a new type of thing.\n",
    "object -Two meanings: the most basic type of thing, and any instance of some thing.\n",
    "instance - What you get when you tell Python to create a class.\n",
    "def - How you define a function inside a class.\n",
    "self - Inside the functions in a class, self is a variable for the instance/object being accessed.\n",
    "inheritance - The concept that one class can inherit traits from another class, much like you and your parents.\n",
    "**composition - The concept that a class can be composed of other classes as parts, much like how a car has wheels.\n",
    "\n",
    "attribute - A property classes have that are from composition and are usually variables.\n",
    "is-a - A phrase to say that something inherits from another, as in a \"salmon\" is-a \"fish.\"\n",
    "has-a - A phrase to say that something is composed of other things or has a trait, as in \"a salmon has-a mouth.\"\n",
    "\n",
    "**super - how to create child classes with different inits and other same-name methods\n",
    "\n"
   ]
  },
  {
   "cell_type": "markdown",
   "metadata": {},
   "source": [
    "** Exercise 1 - Strings"
   ]
  },
  {
   "cell_type": "code",
   "execution_count": 6,
   "metadata": {
    "collapsed": false
   },
   "outputs": [
    {
     "name": "stdout",
     "output_type": "stream",
     "text": [
      "here is another line!\n"
     ]
    }
   ],
   "source": [
    "# print \"Hllo World!\"\n",
    "# print \"Hello Again\"\n",
    "# print \"I like typing this\"\n",
    "# print \"This is fun.\"\n",
    "# print \"Yay! Printing.\"\n",
    "# print \"I'd much rather you 'not'.\"\n",
    "# print 'i \"said\" do not touch this.'\n",
    "print \"here is another line!\""
   ]
  },
  {
   "cell_type": "markdown",
   "metadata": {},
   "source": [
    "** Exercise 2 - Comments"
   ]
  },
  {
   "cell_type": "code",
   "execution_count": 8,
   "metadata": {
    "collapsed": false
   },
   "outputs": [
    {
     "name": "stdout",
     "output_type": "stream",
     "text": [
      "I could have code like this.\n",
      "This will run\n"
     ]
    }
   ],
   "source": [
    "# A comment, thi sis so you can read your program later\n",
    "# Anything after that # is ignored by python.\n",
    "\n",
    "print \"I could have code like this.\" # and the comment after is ignored\n",
    "\n",
    "# You can also use a comment to \"disable\" or comment out a piece of code:\n",
    "# print \"This won't run.\"\n",
    "\n",
    "print \"This will run\""
   ]
  },
  {
   "cell_type": "markdown",
   "metadata": {},
   "source": [
    "** Exercise 3 -- Numbers and Math"
   ]
  },
  {
   "cell_type": "code",
   "execution_count": 10,
   "metadata": {
    "collapsed": false
   },
   "outputs": [
    {
     "name": "stdout",
     "output_type": "stream",
     "text": [
      "I will now count my chickens:\n",
      "Hens 30\n",
      "Roosters 97\n",
      "Now I will count the eggs:\n",
      "7\n",
      "Is it true that 3 + 2 < 5 - 7?\n",
      "False\n",
      "What is 3 + 2? 5\n",
      "What is 5 - 7? -2\n",
      "Oh, that's why it's False.\n",
      "How about some more.\n",
      "Is it greater? True\n",
      "Is it greater or equal? True\n",
      "Is it less or equal False\n"
     ]
    }
   ],
   "source": [
    "print \"I will now count my chickens:\"\n",
    "\n",
    "print \"Hens\", 25 + 30 / 6\n",
    "print \"Roosters\", 100 - 25 * 3 %4\n",
    "\n",
    "print \"Now I will count the eggs:\"\n",
    "\n",
    "print 3 + 2 + 1 - 5 + 4 % 2 - 1 / 4 + 6\n",
    "\n",
    "print \"Is it true that 3 + 2 < 5 - 7?\"\n",
    "\n",
    "print 3 + 2 < 5 - 7\n",
    "\n",
    "print \"What is 3 + 2?\", 3 + 2\n",
    "print \"What is 5 - 7?\", 5 - 7\n",
    "\n",
    "print \"Oh, that's why it's False.\"\n",
    "\n",
    "print \"How about some more.\"\n",
    "\n",
    "print \"Is it greater?\", 5 > -2\n",
    "print \"Is it greater or equal?\", 5 >= -2\n",
    "print \"Is it less or equal\", 5 <= -2"
   ]
  },
  {
   "cell_type": "markdown",
   "metadata": {},
   "source": [
    "** Exercise 4 -- Variables and Names"
   ]
  },
  {
   "cell_type": "code",
   "execution_count": 18,
   "metadata": {
    "collapsed": false
   },
   "outputs": [
    {
     "name": "stdout",
     "output_type": "stream",
     "text": [
      "There are 100 cars available.\n",
      "There are only 30 drivers available\n",
      "There will be 70 empty cars today.\n",
      "We can transport 120.0 people today.\n",
      "We have 90 to carpool today.\n",
      "We need to put about 3 in each car.\n"
     ]
    }
   ],
   "source": [
    "cars = 100\n",
    "space_in_a_car = 4.0\n",
    "drivers = 30\n",
    "passengers = 90\n",
    "cars_not_driven = cars - drivers\n",
    "cars_driven = drivers\n",
    "carpool_capacity = cars_driven * space_in_a_car\n",
    "average_passengers_per_car = passengers / cars_driven\n",
    "\n",
    "print \"There are\", cars, \"cars available.\"\n",
    "print \"There are only\", drivers, \"drivers available\"\n",
    "print \"There will be\", cars_not_driven, \"empty cars today.\"\n",
    "print \"We can transport\", carpool_capacity, \"people today.\"\n",
    "print \"We have\", passengers, \"to carpool today.\"\n",
    "print \"We need to put about\", average_passengers_per_car, \"in each car.\""
   ]
  },
  {
   "cell_type": "markdown",
   "metadata": {
    "collapsed": true
   },
   "source": [
    "** Exercise 5 -- More Variables and Printing\n",
    "Thing learned:\n",
    "%d"
   ]
  },
  {
   "cell_type": "code",
   "execution_count": 4,
   "metadata": {
    "collapsed": false
   },
   "outputs": [
    {
     "name": "stdout",
     "output_type": "stream",
     "text": [
      "Let's talk about Ryan Luck.\n",
      "He's 73 inches tall.\n",
      "He's 195 pounds heavy.\n",
      "Actually that's a little too heavy.\n",
      "He's got Blue eyes and salt and pepper hair.\n",
      "His teeth are usually White depending on he coffee.\n",
      "If I add 31, 73, and 195 I get 299.\n"
     ]
    }
   ],
   "source": [
    "my_name = 'Ryan Luck'\n",
    "my_age = 31\n",
    "my_height = 73 # inches\n",
    "my_weight = 195 # pounds\n",
    "my_eyes = 'Blue'\n",
    "my_teeth = 'White'\n",
    "my_hair = 'salt and pepper'\n",
    "\n",
    "print \"Let's talk about %s.\" % my_name\n",
    "print \"He's %d inches tall.\" % my_height\n",
    "print \"He's %d pounds heavy.\" % my_weight\n",
    "print \"Actually that's a little too heavy.\"\n",
    "print \"He's got %s eyes and %s hair.\" % (my_eyes, my_hair)\n",
    "print \"His teeth are usually %s depending on he coffee.\" % my_teeth\n",
    "\n",
    "print \"If I add %d, %d, and %d I get %d.\" % (my_age, my_height, my_weight, my_age+my_height+my_weight)"
   ]
  },
  {
   "cell_type": "markdown",
   "metadata": {
    "collapsed": true
   },
   "source": [
    "** Exercise 6: Strings and Text"
   ]
  },
  {
   "cell_type": "code",
   "execution_count": 16,
   "metadata": {
    "collapsed": false
   },
   "outputs": [
    {
     "name": "stdout",
     "output_type": "stream",
     "text": [
      "There are 10 types of people.\n",
      "Those who know binary and those who don't.\n",
      "I said: 'There are 10 types of people.'.\n",
      "I also said: 'Those who know binary and those who don't.'.\n",
      "Isn't the joke so funny?! False\n",
      "This is the left side of...a string with a right side.\n"
     ]
    }
   ],
   "source": [
    "x = \"There are %d types of people.\" % 10\n",
    "binary = \"binary\"\n",
    "do_not = \"don't\"\n",
    "y = \"Those who know %s and those who %s.\" % (binary, do_not)\n",
    "\n",
    "print x\n",
    "print y\n",
    "\n",
    "print \"I said: %r.\" % x\n",
    "print \"I also said: '%s'.\" % y\n",
    "\n",
    "hilarious = False\n",
    "joke_evaluation = \"Isn't the joke so funny?! %r\"\n",
    "\n",
    "print joke_evaluation % hilarious\n",
    "\n",
    "w = \"This is the left side of...\"\n",
    "e = \"a string with a right side.\"\n",
    "\n",
    "print w + e"
   ]
  },
  {
   "cell_type": "markdown",
   "metadata": {
    "collapsed": true
   },
   "source": [
    "** Exercise 7: More Printing\n",
    "Thing learned:\n",
    ", (comma) at end of a print line causes a space not a new line for the next print"
   ]
  },
  {
   "cell_type": "code",
   "execution_count": 21,
   "metadata": {
    "collapsed": false
   },
   "outputs": [
    {
     "name": "stdout",
     "output_type": "stream",
     "text": [
      "Mary had a little lamb.\n",
      "Its fleece was white as snow.\n",
      "And everywhere that Mary went.\n",
      "..........\n",
      "Cheese Burger\n"
     ]
    }
   ],
   "source": [
    "print \"Mary had a little lamb.\"\n",
    "print \"Its fleece was white as %s.\" % 'snow'\n",
    "print \"And everywhere that Mary went.\"\n",
    "print \".\" * 10 # what'd that do?\n",
    "\n",
    "end1 = \"C\"\n",
    "end2 = \"h\"\n",
    "end3 = \"e\"\n",
    "end4 = \"e\"\n",
    "end5 = \"s\"\n",
    "end6 = \"e\"\n",
    "end7 = \"B\"\n",
    "end8 = \"u\"\n",
    "end9 = \"r\"\n",
    "end10 = \"g\"\n",
    "end11 = \"e\"\n",
    "end12 = \"r\"\n",
    "\n",
    "print end1 + end2 + end3 + end4 + end5 + end6,\n",
    "print end7 + end8 + end9 + end10 + end11 + end12"
   ]
  },
  {
   "cell_type": "markdown",
   "metadata": {
    "collapsed": true
   },
   "source": [
    "** Exercise 8: Printing, Printing\n",
    "Thing learned:\n",
    "%r gives the \"representational view\" of a variable, the raw content\n",
    "Use %r only for inspection of variables and debugging"
   ]
  },
  {
   "cell_type": "code",
   "execution_count": 22,
   "metadata": {
    "collapsed": false
   },
   "outputs": [
    {
     "name": "stdout",
     "output_type": "stream",
     "text": [
      "1 2 3 4\n",
      "'one' 'two' 'three' 'four'\n",
      "True False False True\n",
      "'%r %r %r %r' '%r %r %r %r' '%r %r %r %r' '%r %r %r %r'\n",
      "'I had this thing.' 'that you could type up right.' \"But it didn't sing.\" 'So I said goodnight.'\n"
     ]
    }
   ],
   "source": [
    "formatter = \"%r %r %r %r\"\n",
    "\n",
    "print formatter % (1, 2, 3, 4)\n",
    "print formatter % (\"one\", \"two\", \"three\", \"four\")\n",
    "print formatter % (True, False, False, True)\n",
    "print formatter % (formatter, formatter, formatter, formatter)\n",
    "print formatter % (\"I had this thing.\",\n",
    "                  \"That you could type up right.\",\n",
    "                  \"But it didn't sing.\",\n",
    "                  \"So I said goodnight.\")"
   ]
  },
  {
   "cell_type": "markdown",
   "metadata": {
    "collapsed": true
   },
   "source": [
    "** Exercise 9: Printing, Printing, Printing\n",
    "Things learned:\n",
    "- Can embed line breaks in strings and they're respected by print\n",
    "- Triple quotes means you don't have to keep typing print for each new line."
   ]
  },
  {
   "cell_type": "code",
   "execution_count": 23,
   "metadata": {
    "collapsed": false
   },
   "outputs": [
    {
     "name": "stdout",
     "output_type": "stream",
     "text": [
      "Here are the days:  Mon Tue Wed Thu Fri Say Sun\n",
      "Here are the months:  Jan\n",
      "Feb\n",
      "Mar\n",
      "Apr\n",
      "May\n",
      "Jun\n",
      "Jul\n",
      "Aug\n",
      "\n",
      "There's something going on here.\n",
      "With the three dobule-quotes.\n",
      "We'll be able to teyp as much as we like.\n",
      "Even 4 lines if we want, or 5, or 6.\n",
      "\n"
     ]
    }
   ],
   "source": [
    "days = \"Mon Tue Wed Thu Fri Say Sun\"\n",
    "months = \"Jan\\nFeb\\nMar\\nApr\\nMay\\nJun\\nJul\\nAug\"\n",
    "\n",
    "print \"Here are the days: \", days\n",
    "print \"Here are the months: \", months\n",
    "\n",
    "print \"\"\"\n",
    "There's something going on here.\n",
    "With the three dobule-quotes.\n",
    "We'll be able to type as much as we like.\n",
    "Even 4 lines if we want, or 5, or 6.\n",
    "\"\"\""
   ]
  },
  {
   "cell_type": "markdown",
   "metadata": {},
   "source": [
    "** Exercise 10 - Escape Characters"
   ]
  },
  {
   "cell_type": "code",
   "execution_count": 25,
   "metadata": {
    "collapsed": false
   },
   "outputs": [
    {
     "name": "stdout",
     "output_type": "stream",
     "text": [
      "\tI'm tabbed in.\n",
      "I'm split\n",
      "on a line.\n",
      "I'm \\ a \\ cat.\n",
      "\n",
      "I'll do a list:\n",
      "\t* Cat food\n",
      "\t* Fishies\n",
      "\t* Catnip\n",
      "\t* Grass\n"
     ]
    }
   ],
   "source": [
    "tabby_cat = \"\\tI'm tabbed in.\"\n",
    "persian_cat = \"I'm split\\non a line.\"\n",
    "backslash_cat = \"I'm \\\\ a \\\\ cat.\"\n",
    "\n",
    "fat_cat = \"\"\"\n",
    "I'll do a list:\n",
    "\\t* Cat food\n",
    "\\t* Fishies\n",
    "\\t* Catnip\\n\\t* Grass\"\"\"\n",
    "\n",
    "print tabby_cat\n",
    "print persian_cat\n",
    "print backslash_cat\n",
    "print fat_cat"
   ]
  },
  {
   "cell_type": "markdown",
   "metadata": {},
   "source": [
    "** Exercise 11 - raw_input()"
   ]
  },
  {
   "cell_type": "code",
   "execution_count": 26,
   "metadata": {
    "collapsed": false
   },
   "outputs": [
    {
     "name": "stdout",
     "output_type": "stream",
     "text": [
      "How old are you?31\n",
      " How tall are you?6 foot 1\n",
      " How much do you weight?195\n",
      " So you're '31' old, '6 foot 1' tall and '195' heavy.\n"
     ]
    }
   ],
   "source": [
    "print \"How old are you?\",\n",
    "age = raw_input()\n",
    "print \"How tall are you?\",\n",
    "height = raw_input()\n",
    "print \"How much do you weight?\",\n",
    "weight = raw_input()\n",
    "\n",
    "print \"So you're %r old, %r tall and %r heavy.\" % (age, height, weight)"
   ]
  },
  {
   "cell_type": "markdown",
   "metadata": {},
   "source": [
    "** Exercise 12 - puttint prompts in raw_input()"
   ]
  },
  {
   "cell_type": "code",
   "execution_count": 27,
   "metadata": {
    "collapsed": false,
    "scrolled": true
   },
   "outputs": [
    {
     "name": "stdout",
     "output_type": "stream",
     "text": [
      "How old are you? 31\n",
      "How tall are you? 6 foot 1\n",
      "How much do you weight? 195\n",
      "S, you're '31' old, '6 foot 1' tall, and '195' heavy.\n"
     ]
    }
   ],
   "source": [
    "age = raw_input(\"How old are you? \")\n",
    "height = raw_input(\"How tall are you? \")\n",
    "weight = raw_input(\"How much do you weight? \")\n",
    "\n",
    "print \"So, you're %r old, %r tall, and %r heavy.\" % (age, height, weight)"
   ]
  },
  {
   "cell_type": "markdown",
   "metadata": {},
   "source": [
    "** Files\n",
    "Exercise 13 - parameters, unpacking variables - see file ex13.py\n",
    "Exercise 14 - prompting and passing\n",
    "Exercise 15 - reading files\n",
    "Exercise 16 - reading and writing files\n",
    "Exercise 17 - reading and writing files with elegance\n",
    "Things learned:\n",
    "\n",
    "argv for parameter passing\n",
    "\n",
    "open(filename), read(), close(), readline(), truncate(), write()\n",
    "\n",
    "Meaning of open() modes.  w = write/truncate.  a = append.\n",
    "Rest: https://docs.python.org/3/library/functions.html#open\n",
    "\n",
    "file metadata\n"
   ]
  },
  {
   "cell_type": "markdown",
   "metadata": {},
   "source": [
    "** Functions\n",
    "Exercise 18 - arguments, starred arguments"
   ]
  },
  {
   "cell_type": "code",
   "execution_count": 4,
   "metadata": {
    "collapsed": false
   },
   "outputs": [
    {
     "name": "stdout",
     "output_type": "stream",
     "text": [
      "arg1: 'Ryan', arg2: 'Luck'\n",
      "arg1: 'Ryan', arg2: 'Luck'\n",
      "arg1: 'First!'\n",
      "I got nothin'.\n"
     ]
    }
   ],
   "source": [
    "# this one is like your scripts with argv\n",
    "def print_two(*args):\n",
    "    arg1, arg2 = args\n",
    "    print \"arg1: %r, arg2: %r\" % (arg1, arg2)\n",
    "\n",
    "# ok, that *args is actually pointless, we can just do this\n",
    "def print_two_again(arg1, arg2): \n",
    "    print \"arg1: %r, arg2: %r\" % (arg1, arg2)\n",
    "    \n",
    "# this just takes one argument\n",
    "def print_one(arg1):\n",
    "    print \"arg1: %r\" % arg1\n",
    "    \n",
    "# this one takes no arguments\n",
    "def print_none():\n",
    "    print \"I got nothin'.\"\n",
    "    \n",
    "print_two(\"Ryan\", \"Luck\")\n",
    "print_two_again(\"Ryan\", \"Luck\")\n",
    "print_one(\"First!\")\n",
    "print_none()"
   ]
  },
  {
   "cell_type": "markdown",
   "metadata": {
    "collapsed": true
   },
   "source": [
    "** Exercise 19 - Functions and variables"
   ]
  },
  {
   "cell_type": "code",
   "execution_count": 10,
   "metadata": {
    "collapsed": false,
    "scrolled": true
   },
   "outputs": [
    {
     "name": "stdout",
     "output_type": "stream",
     "text": [
      "We can just give the function numver directly:\n",
      "You have 20 cheeses!\n",
      "You have 30 boxes of crackers!\n",
      "Man that's enough for a party!\n",
      "Get a blanket.\n",
      "\n",
      "OR, we can use variables from our script:\n",
      "You have 10 cheeses!\n",
      "You have 50 boxes of crackers!\n",
      "Man that's enough for a party!\n",
      "Get a blanket.\n",
      "\n",
      "We can even do math inside too:\n",
      "You have 30 cheeses!\n",
      "You have 11 boxes of crackers!\n",
      "Man that's enough for a party!\n",
      "Get a blanket.\n",
      "\n",
      "And we can combine the two, variables and math:\n",
      "You have 110 cheeses!\n",
      "You have 1050 boxes of crackers!\n",
      "Man that's enough for a party!\n",
      "Get a blanket.\n",
      "\n"
     ]
    }
   ],
   "source": [
    "def cheese_and_crackers(cheese_count, boxes_of_crackers):\n",
    "    print \"You have %d cheeses!\" % cheese_count\n",
    "    print \"You have %d boxes of crackers!\" % boxes_of_crackers\n",
    "    print \"Man that's enough for a party!\"\n",
    "    print \"Get a blanket.\\n\"\n",
    "    \n",
    "print \"We can just give the function numver directly:\"\n",
    "cheese_and_crackers(20, 30)\n",
    "\n",
    "print \"OR, we can use variables from our script:\"\n",
    "amount_of_cheese = 10\n",
    "amount_of_crackers = 50\n",
    "\n",
    "cheese_and_crackers(amount_of_cheese, amount_of_crackers)\n",
    "\n",
    "print \"We can even do math inside too:\"\n",
    "cheese_and_crackers(10 + 20, 5 + 6)\n",
    "\n",
    "print \"And we can combine the two, variables and math:\"\n",
    "cheese_and_crackers(amount_of_cheese + 100, amount_of_crackers + 1000)"
   ]
  },
  {
   "cell_type": "markdown",
   "metadata": {
    "collapsed": true
   },
   "source": [
    "** Exercise 20: Functions and Files - ex20.py\n",
    "Thing learned:\n",
    "IMPORTANT REFERENCE POINT\n",
    "Tying together arguments, output, functions\n",
    "seek(), read(), open()"
   ]
  },
  {
   "cell_type": "markdown",
   "metadata": {
    "collapsed": true
   },
   "source": [
    "** Exercise 21: Functions that return values"
   ]
  },
  {
   "cell_type": "code",
   "execution_count": 13,
   "metadata": {
    "collapsed": false
   },
   "outputs": [
    {
     "name": "stdout",
     "output_type": "stream",
     "text": [
      "Let's do some math with just functions\n",
      "ADDING 30 + 5\n",
      "SUBTRACTING 78 - 4\n",
      "MULTIPLYING 90 * 2\n",
      "DIVIDING 100 / 2\n",
      "Age: 35, Height: 74, Weight: 180, IQ: 50\n",
      "Here is a puzzle.\n",
      "DIVIDING 50 / 2\n",
      "MULTIPLYING 180 * 25\n",
      "SUBTRACTING 74 - 4500\n",
      "ADDING 35 + -4426\n",
      "That becomes:  -4391 Can you do it by hand?\n"
     ]
    }
   ],
   "source": [
    "def add(a, b):\n",
    "    print \"ADDING %d + %d\" % (a, b)\n",
    "    return a + b\n",
    "\n",
    "def subtract(a, b):\n",
    "    print \"SUBTRACTING %d - %d\" % (a, b)\n",
    "    return a - b\n",
    "\n",
    "def multiply(a, b):\n",
    "    print \"MULTIPLYING %d * %d\" % (a, b)\n",
    "    return a * b\n",
    "\n",
    "def divide(a, b):\n",
    "    print \"DIVIDING %d / %d\" % (a, b)\n",
    "    return a / b\n",
    "\n",
    "\n",
    "print \"Let's do some math with just functions\"\n",
    "\n",
    "age = add(30, 5)\n",
    "height = subtract(78, 4)\n",
    "weight = multiply(90, 2)\n",
    "iq = divide(100, 2)\n",
    "\n",
    "print \"Age: %d, Height: %d, Weight: %d, IQ: %d\" % (age, height, weight, iq)\n",
    "\n",
    "\n",
    "# A puzzle for extra credit, type it in anwyway.\n",
    "print \"Here is a puzzle.\"\n",
    "\n",
    "what = add(age, subtract(height, multiply(weight, divide(iq, 2))))\n",
    "\n",
    "print \"That becomes: \", what, \"Can you do it by hand?\""
   ]
  },
  {
   "cell_type": "markdown",
   "metadata": {},
   "source": [
    "** Exercise 23 - Read some code -- nothing to show"
   ]
  },
  {
   "cell_type": "markdown",
   "metadata": {},
   "source": [
    "** Exercise 24 - Practice review"
   ]
  },
  {
   "cell_type": "code",
   "execution_count": 22,
   "metadata": {
    "collapsed": false
   },
   "outputs": [
    {
     "name": "stdout",
     "output_type": "stream",
     "text": [
      "Let's practice everything.\n",
      "You'd need to know 'bout escapes with \\ that do \n",
      " newlines and \t tabs.\n",
      "--------------\n",
      "\n",
      "\tThe lovely world\n",
      "with logic so firmly planted\n",
      "cannot discern \n",
      " the needs of love\n",
      "nor comprehend passion from intuition\n",
      "and requires an explanation\n",
      "\n",
      "\t\twhere there is none.\n",
      "\n",
      "--------------\n",
      "This should be five: 5\n",
      "With a starting point of: 10000\n",
      "We'd have 5000000 beans, 5000 jars, and 50 crates.\n",
      "We can also do that this way:\n",
      "We'd have 500000 beans, 500 jars, and 5 crates.\n"
     ]
    }
   ],
   "source": [
    "print \"Let's practice everything.\"\n",
    "print \"You\\'d need to know \\'bout escapes with \\\\ that do \\n newlines and \\t tabs.\"\n",
    "\n",
    "poem = \"\"\"\n",
    "\\tThe lovely world\n",
    "with logic so firmly planted\n",
    "cannot discern \\n the needs of love\n",
    "nor comprehend passion from intuition\n",
    "and requires an explanation\n",
    "\\n\\t\\twhere there is none.\n",
    "\"\"\"\n",
    "\n",
    "print \"--------------\"\n",
    "print poem\n",
    "print \"--------------\"\n",
    "\n",
    "five = 10 - 2 + 3 - 6\n",
    "print \"This should be five: %s\" % five\n",
    "\n",
    "def secret_formula(started):\n",
    "    jelly_beans = started * 500\n",
    "    jars = jelly_beans / 1000\n",
    "    crates = jars / 100\n",
    "    return jelly_beans, jars, crates\n",
    "\n",
    "start_point = 10000\n",
    "beans, jars, crates = secret_formula(start_point)\n",
    "\n",
    "print \"With a starting point of: %d\" % start_point\n",
    "print \"We'd have %d beans, %d jars, and %d crates.\" % (beans, jars, crates)\n",
    "\n",
    "start_point = start_point / 10\n",
    "\n",
    "print \"We can also do that this way:\"\n",
    "print \"We'd have %d beans, %d jars, and %d crates.\" % secret_formula(start_point)"
   ]
  },
  {
   "cell_type": "markdown",
   "metadata": {},
   "source": [
    "** Exercise 25: Creating a library file at ex25.py"
   ]
  },
  {
   "cell_type": "code",
   "execution_count": 23,
   "metadata": {
    "collapsed": false
   },
   "outputs": [
    {
     "name": "stdout",
     "output_type": "stream",
     "text": [
      "All\n",
      "wait.\n",
      "All\n",
      "who\n",
      "All\n",
      "wait.\n",
      "All\n",
      "who\n"
     ]
    }
   ],
   "source": [
    "import ex25\n",
    "sentence = \"All good things come to those who wait.\"\n",
    "words = ex25.break_words(sentence)\n",
    "words\n",
    "sorted_words = ex25.sort_words(words)\n",
    "sorted_words\n",
    "ex25.print_first_word(words)\n",
    "ex25.print_last_word(words)\n",
    "words\n",
    "ex25.print_first_word(sorted_words)\n",
    "ex25.print_last_word(sorted_words)\n",
    "sorted_words\n",
    "sorted_words = ex25.sort_sentence(sentence)\n",
    "sorted_words\n",
    "ex25.print_first_and_last(sentence)\n",
    "ex25.print_first_and_last_sorted(sentence)"
   ]
  },
  {
   "cell_type": "markdown",
   "metadata": {},
   "source": [
    "** Exercise 26: Fix someone else's code"
   ]
  },
  {
   "cell_type": "code",
   "execution_count": 26,
   "metadata": {
    "collapsed": false
   },
   "outputs": [
    {
     "name": "stdout",
     "output_type": "stream",
     "text": [
      "Let's practice everything.\n",
      "You'd need to know 'bout escapes with \\ that do \n",
      " newlines and \t tabs.\n",
      "--------------\n",
      "\n",
      "\tThe lovely world\n",
      "with logic so firmly planted\n",
      "cannot discern \n",
      " the needs of love\n",
      "nor comprehend passion from intuition\n",
      "and requires an explantion\n",
      "\n",
      "\t\twhere there is none.\n",
      "\n",
      "--------------\n",
      "This should be five: 5\n",
      "With a starting point of: 10000\n",
      "We'd have 5000000 beans, 5000 jars, and 50 crates.\n",
      "We can also do that this way:\n",
      "We'd have 500000 beans, 500 jars, and 5 crates.\n",
      "All\n",
      "wait.\n",
      "All\n",
      "who\n",
      "['All', 'come', 'good', 'things', 'those', 'to', 'wait.', 'who']\n",
      "All\n",
      "wait.\n",
      "All\n",
      "who\n"
     ]
    }
   ],
   "source": [
    "def break_words(stuff):\n",
    "    \"\"\"This function will break up words for us.\"\"\"\n",
    "    words = stuff.split(' ')\n",
    "    return words\n",
    "\n",
    "def sort_words(words):\n",
    "    \"\"\"Sorts the words.\"\"\"\n",
    "    return sorted(words)\n",
    "\n",
    "#def print_first_word(words)\n",
    "def print_first_word(words):\n",
    "    \"\"\"Prints the first word after popping it off.\"\"\"\n",
    "    #word = words.poop(0)\n",
    "    word = words.pop(0)\n",
    "    print word\n",
    "\n",
    "def print_last_word(words):\n",
    "    \"\"\"Prints the last word after popping it off.\"\"\"\n",
    "    #word = words.pop(-1\n",
    "    word = words.pop(-1)\n",
    "    print word\n",
    "\n",
    "def sort_sentence(sentence):\n",
    "    \"\"\"Takes in a full sentence and returns the sorted words.\"\"\"\n",
    "    words = break_words(sentence)\n",
    "    return sort_words(words)\n",
    "\n",
    "def print_first_and_last(sentence):\n",
    "    \"\"\"Prints the first and last words of the sentence.\"\"\"\n",
    "    words = break_words(sentence)\n",
    "    print_first_word(words)\n",
    "    print_last_word(words)\n",
    "\n",
    "def print_first_and_last_sorted(sentence):\n",
    "    \"\"\"Sorts the words then prints the first and last one.\"\"\"\n",
    "    words = sort_sentence(sentence)\n",
    "    print_first_word(words)\n",
    "    print_last_word(words)\n",
    "\n",
    "\n",
    "print \"Let's practice everything.\"\n",
    "print 'You\\'d need to know \\'bout escapes with \\\\ that do \\n newlines and \\t tabs.'\n",
    "\n",
    "poem = \"\"\"\n",
    "\\tThe lovely world\n",
    "with logic so firmly planted\n",
    "cannot discern \\n the needs of love\n",
    "nor comprehend passion from intuition\n",
    "and requires an explantion\n",
    "\\n\\t\\twhere there is none.\n",
    "\"\"\"\n",
    "\n",
    "\n",
    "print \"--------------\"\n",
    "print poem\n",
    "print \"--------------\"\n",
    "\n",
    "#five = 10 - 2 + 3 - 5\n",
    "five = 10 - 2 + 3 - 6\n",
    "print \"This should be five: %s\" % five\n",
    "\n",
    "def secret_formula(started):\n",
    "    jelly_beans = started * 500\n",
    "    #jars = jelly_beans \\ 1000\n",
    "    jars = jelly_beans / 1000\n",
    "    crates = jars / 100\n",
    "    return jelly_beans, jars, crates\n",
    "\n",
    "\n",
    "start_point = 10000\n",
    "#beans, jars, crates == secret_formula(start-point)\n",
    "beans, jars, crates = secret_formula(start_point)\n",
    "\n",
    "print \"With a starting point of: %d\" % start_point\n",
    "#print \"We'd have %d jeans, %d jars, and %d crates.\" % (beans, jars, crates)\n",
    "print \"We'd have %d beans, %d jars, and %d crates.\" % (beans, jars, crates)\n",
    "\n",
    "start_point = start_point / 10\n",
    "\n",
    "print \"We can also do that this way:\"\n",
    "#print \"We'd have %d beans, %d jars, and %d crabapples.\" % secret_formula(start_pont\n",
    "print \"We'd have %d beans, %d jars, and %d crates.\" % secret_formula(start_point)\n",
    "\n",
    "#sentence = \"All god\\tthings come to those who weight.\"\n",
    "sentence = \"All good things come to those who wait.\"\n",
    "\n",
    "words = break_words(sentence)\n",
    "sorted_words = sort_words(words)\n",
    "\n",
    "print_first_word(words)\n",
    "print_last_word(words)\n",
    "#.print_first_word(sorted_words)\n",
    "print_first_word(sorted_words)\n",
    "print_last_word(sorted_words)\n",
    "sorted_words = sort_sentence(sentence)\n",
    "#prin sorted_words\n",
    "print sorted_words\n",
    "\n",
    "#print_irst_and_last(sentence)\n",
    "print_first_and_last(sentence)\n",
    "#print_first_a_last_sorted(senence)\n",
    "print_first_and_last_sorted(sentence)"
   ]
  },
  {
   "cell_type": "markdown",
   "metadata": {},
   "source": [
    "**\n",
    "Exercise 27 - Intro to OR, AND, NOT truth tables, nothing to do\n",
    "Exercise 28 - Boolean Practice - tested each in line."
   ]
  },
  {
   "cell_type": "markdown",
   "metadata": {},
   "source": [
    "True and True # True\n",
    "False and True # False\n",
    "1 == 1 and 2 == 1 # False\n",
    "\"test\" == \"test\" # True\n",
    "1 == 1 or 2 != 1 # True\n",
    "True and 1 == 1 # True\n",
    "False and 0 != 0 # False\n",
    "True or 1 == 1 # True\n",
    "\"test\" == \"testing\" # False\n",
    "1 != 0 and 2 == 1  # False\n",
    "\"test\" != \"testing\" # True\n",
    "\"test\" == 1 # False\n",
    "not (True and False) # True\n",
    "not (1 == 1 and 0 != 1) # False\n",
    "not (10 == 1 or 1000 == 1000) # False\n",
    "not (1 != 10 or 3 == 4) # False\n",
    "not (\"testing\" == \"testing\" and \"Zed\" == \"Cool Guy\") # True\n",
    "1 == 1 and (not (\"testing\" == 1 or 1 == 0)) # True\n",
    "\"chunky\" == \"bacon\" and (not (3 == 4 or 3 == 3)) # False\n",
    "3 == 3 and (not (\"testing\" == \"testing\" or \"Python\" == \"Fun\")) # False"
   ]
  },
  {
   "cell_type": "markdown",
   "metadata": {},
   "source": [
    "** Exercise 29 - If statements"
   ]
  },
  {
   "cell_type": "code",
   "execution_count": 50,
   "metadata": {
    "collapsed": false
   },
   "outputs": [
    {
     "name": "stdout",
     "output_type": "stream",
     "text": [
      "Too many cats, the world is doomed!\n",
      "The world is dry!\n",
      "People are greater than or equal to dogs.\n",
      "People are less than or equal to dogs.\n",
      "People are dogs\n"
     ]
    }
   ],
   "source": [
    "people = 20\n",
    "cats = 30\n",
    "dogs = 15\n",
    "\n",
    "if people < cats:\n",
    "    print \"Too many cats, the world is doomed!\"\n",
    "    \n",
    "if people > cats:\n",
    "    print \"Not many cats! The world is saved!\"\n",
    "    \n",
    "if people < dogs:\n",
    "    print \"The world is drooled on!\"\n",
    "    \n",
    "if people > dogs:\n",
    "    print \"The world is dry!\"\n",
    "    \n",
    "dogs += 5\n",
    "\n",
    "if people >= dogs:\n",
    "    print \"People are greater than or equal to dogs.\"\n",
    "    \n",
    "if people <= dogs:\n",
    "    print \"People are less than or equal to dogs.\"\n",
    "    \n",
    "if people == dogs:\n",
    "    print \"People are dogs\""
   ]
  },
  {
   "cell_type": "code",
   "execution_count": 51,
   "metadata": {
    "collapsed": false
   },
   "outputs": [
    {
     "name": "stdout",
     "output_type": "stream",
     "text": [
      "we should take the cars\n",
      "Maybe we could take the trucks\n",
      "Alright, let's just take the trucks.\n"
     ]
    }
   ],
   "source": [
    "people = 30\n",
    "cars = 40\n",
    "trucks = 15\n",
    "\n",
    "if cars > people:\n",
    "    print \"we should take the cars\"\n",
    "elif cars < people:\n",
    "    print \"we should not take the cars\"\n",
    "else:\n",
    "    print \"we can't decide\"\n",
    "\n",
    "if trucks > cars:\n",
    "    print \"That's too many trucks.\"\n",
    "elif trucks < cars:\n",
    "    print \"Maybe we could take the trucks\"\n",
    "else:\n",
    "    print \"we still can't decide.\"\n",
    "    \n",
    "if people > trucks:\n",
    "    print \"Alright, let's just take the trucks.\"\n",
    "else:\n",
    "    print \"Fine, let's stay home then.\""
   ]
  },
  {
   "cell_type": "markdown",
   "metadata": {},
   "source": [
    "** Exercise 31 - If / Else with raw_input()"
   ]
  },
  {
   "cell_type": "code",
   "execution_count": 56,
   "metadata": {
    "collapsed": false
   },
   "outputs": [
    {
     "name": "stdout",
     "output_type": "stream",
     "text": [
      "You enter a dark room with two doors. DO you go through door #1 or door #2?\n",
      "> 1\n",
      "There's a giant bear here eating a cheese cake. What do you do?\n",
      "1. Take the cake.\n",
      "2. Scream at the bear.\n",
      "> 3\n",
      "Well, doing 3 is probably better.  Bear runs away.\n"
     ]
    }
   ],
   "source": [
    "print \"You enter a dark room with two doors. DO you go through door #1 or door #2?\"\n",
    "\n",
    "door = raw_input(\"> \")\n",
    "\n",
    "if door == \"1\":\n",
    "    print \"There's a giant bear here eating a cheese cake. What do you do?\"\n",
    "    print \"1. Take the cake.\"\n",
    "    print \"2. Scream at the bear.\"\n",
    "\n",
    "    bear = raw_input(\"> \")\n",
    "    \n",
    "    if bear == \"1\":\n",
    "        print \"The bear eats your face off.  Good job!\"\n",
    "    elif bear == \"2\":\n",
    "        print \"The bear eats your legs off.  Good job!\"\n",
    "    else: \n",
    "        print \"Well, doing %s is probably better.  Bear runs away.\" % bear\n",
    "        \n",
    "elif door == \"2\":\n",
    "    print \"You stare into the endless abuss at Cthulu's retina.\"\n",
    "    print \"1. Blueberries.\"\n",
    "    print \"2. Yellow jacket clothespins.\"\n",
    "    print \"3. Understanding revolvers yelling melodies.\"\n",
    "    \n",
    "    insanity = raw_input(\"> \")\n",
    "    if insanity == \"1\" or insanity == \"2\":\n",
    "        print \"Your body survives powered by a mind of jello.\"\n",
    "    else:\n",
    "        print \"The insanity rots your eyes into a pool of muck.\"\n",
    "        \n",
    "else:\n",
    "    print \"You stumble around and fall on a knife and die. Good job!\"\n"
   ]
  },
  {
   "cell_type": "markdown",
   "metadata": {},
   "source": [
    "** Exercise 32: Loops and Lists"
   ]
  },
  {
   "cell_type": "code",
   "execution_count": 62,
   "metadata": {
    "collapsed": false
   },
   "outputs": [
    {
     "name": "stdout",
     "output_type": "stream",
     "text": [
      "This is count 1\n",
      "This is count 2\n",
      "This is count 3\n",
      "This is count 4\n",
      "This is count 5\n",
      "A fruit of type: apples\n",
      "A fruit of type: oranges\n",
      "A fruit of type: pears\n",
      "A fruit of type: apricots\n",
      "I got 1\n",
      "I got 'pennies'\n",
      "I got 2\n",
      "I got 'dimes'\n",
      "I got 3\n",
      "I got 'quarters'\n",
      "Adding 0 to the list.\n",
      "Adding 1 to the list.\n",
      "Adding 2 to the list.\n",
      "Adding 3 to the list.\n",
      "Adding 4 to the list.\n",
      "Adding 5 to the list.\n",
      "Element was: 0\n",
      "Element was: 1\n",
      "Element was: 2\n",
      "Element was: 3\n",
      "Element was: 4\n",
      "Element was: 5\n"
     ]
    }
   ],
   "source": [
    "hairs = ['brown', 'blond', 'red']\n",
    "eyes = ['brown', 'blue', 'green']\n",
    "weights = [1, 2, 3, 4]\n",
    "\n",
    "the_count = [1, 2, 3, 4, 5]\n",
    "fruits = ['apples', 'oranges', 'pears', 'apricots']\n",
    "change = [1, 'pennies', 2, 'dimes', 3, 'quarters']\n",
    "\n",
    "# this first kind of for-loop goes through a list\n",
    "for number in the_count:\n",
    "    print \"This is count %d\" % number\n",
    "    \n",
    "#same as above\n",
    "for fruit in fruits:\n",
    "    print \"A fruit of type: %s\" % fruit\n",
    "\n",
    "# also we can go through mixed lists too\n",
    "# notice we have to use %r since we don't know what's in it\n",
    "for i in change:\n",
    "    print \"I got %r\" % i\n",
    "\n",
    "# we can also build lists, first start with an empty one\n",
    "elements = []\n",
    "\n",
    "# then use the range function to do 0 to 5 counts\n",
    "for i in range(0, 6):\n",
    "    print \"Adding %d to the list.\" % i\n",
    "    # append is a function that lists understand\n",
    "    elements.append(i)\n",
    "    \n",
    "# now we can print them out too\n",
    "for i in elements:\n",
    "    print \"Element was: %d\" % i"
   ]
  },
  {
   "cell_type": "markdown",
   "metadata": {},
   "source": [
    "** Exercise 33: While Loops"
   ]
  },
  {
   "cell_type": "code",
   "execution_count": 63,
   "metadata": {
    "collapsed": false
   },
   "outputs": [
    {
     "name": "stdout",
     "output_type": "stream",
     "text": [
      "At the top i is 0\n",
      "Numbers now:  [0]\n",
      "At the bottom i is 1\n",
      "At the top i is 1\n",
      "Numbers now:  [0, 1]\n",
      "At the bottom i is 2\n",
      "At the top i is 2\n",
      "Numbers now:  [0, 1, 2]\n",
      "At the bottom i is 3\n",
      "At the top i is 3\n",
      "Numbers now:  [0, 1, 2, 3]\n",
      "At the bottom i is 4\n",
      "At the top i is 4\n",
      "Numbers now:  [0, 1, 2, 3, 4]\n",
      "At the bottom i is 5\n",
      "At the top i is 5\n",
      "Numbers now:  [0, 1, 2, 3, 4, 5]\n",
      "At the bottom i is 6\n",
      "The numbers: \n",
      "0\n",
      "1\n",
      "2\n",
      "3\n",
      "4\n",
      "5\n"
     ]
    }
   ],
   "source": [
    "i = 0\n",
    "numbers = []\n",
    "\n",
    "while i < 6:\n",
    "    print \"At the top i is %d\" % i\n",
    "    numbers.append(i)\n",
    "    \n",
    "    i += 1\n",
    "    print \"Numbers now: \", numbers\n",
    "    print \"At the bottom i is %d\" % i\n",
    "    \n",
    "print \"The numbers: \"\n",
    "\n",
    "for num in numbers:\n",
    "    print num"
   ]
  },
  {
   "cell_type": "markdown",
   "metadata": {},
   "source": [
    "** Exercise 34: Accessing elements of a list"
   ]
  },
  {
   "cell_type": "code",
   "execution_count": 65,
   "metadata": {
    "collapsed": false
   },
   "outputs": [
    {
     "name": "stdout",
     "output_type": "stream",
     "text": [
      "python\n",
      "peacock\n",
      "bear\n",
      "kangaroo\n",
      "whale\n",
      "peacock\n",
      "playpus\n",
      "whale\n"
     ]
    }
   ],
   "source": [
    "animals = ['bear', 'python', 'peacock', 'kangaroo', 'whale', 'playpus']\n",
    "bear = animals[0]\n",
    "print animals[1]\n",
    "print animals[2]\n",
    "print animals[0]\n",
    "print animals[3]\n",
    "print animals[4]\n",
    "print animals[2]\n",
    "print animals[5]\n",
    "print animals[4]"
   ]
  },
  {
   "cell_type": "markdown",
   "metadata": {},
   "source": [
    "** Exercise 35: Branches and Functions"
   ]
  },
  {
   "cell_type": "code",
   "execution_count": 68,
   "metadata": {
    "collapsed": false
   },
   "outputs": [
    {
     "name": "stdout",
     "output_type": "stream",
     "text": [
      "You are in a dark room.\n",
      "There is a door to your right and left.\n",
      "Which one do you take?\n",
      "> left\n",
      "There is a bear here.\n",
      "The bear has a bunch of honey.\n",
      "The fat bear is in front of another door.\n",
      "How are you going to move the bear.\n",
      "> taunt bear\n",
      "The bear has moved from the door. You can go through.\n",
      "> open door\n",
      "This room is full of gold. How much do you take?\n",
      "> 1101\n",
      "You greedy bastard! Good job!\n"
     ]
    },
    {
     "ename": "SystemExit",
     "evalue": "0",
     "output_type": "error",
     "traceback": [
      "An exception has occurred, use %tb to see the full traceback.\n",
      "\u001b[0;31mSystemExit\u001b[0m\u001b[0;31m:\u001b[0m 0\n"
     ]
    },
    {
     "name": "stderr",
     "output_type": "stream",
     "text": [
      "To exit: use 'exit', 'quit', or Ctrl-D.\n"
     ]
    }
   ],
   "source": [
    "from sys import exit\n",
    "\n",
    "def gold_room():\n",
    "    print \"This room is full of gold. How much do you take?\"\n",
    "    \n",
    "    choice = raw_input(\"> \")\n",
    "    if \"0\" in choice or \"1\" in choice:\n",
    "        how_much = int(choice)\n",
    "    else:\n",
    "        dead(\"Man, learn to type a number.\")\n",
    "        \n",
    "    if how_much < 50:\n",
    "        print \"Nice, you're not greedy, you win!\"\n",
    "        exit(0)\n",
    "    else:\n",
    "        dead(\"You greedy bastard!\")\n",
    "        \n",
    "def bear_room():\n",
    "    print \"There is a bear here.\"\n",
    "    print \"The bear has a bunch of honey.\"\n",
    "    print \"The fat bear is in front of another door.\"\n",
    "    print \"How are you going to move the bear.\"\n",
    "    bear_moved = False\n",
    "    \n",
    "    while True:\n",
    "        choice = raw_input(\"> \")\n",
    "        \n",
    "        if choice == \"take honey\":\n",
    "            dead(\"The bear looks at you then slaps your face off\")\n",
    "        elif choice == \"taunt bear\" and not bear_moved:\n",
    "            print \"The bear has moved from the door. You can go through.\"\n",
    "            bear_moved = True\n",
    "        elif choice == \"taunt bear\" and bear_moved:\n",
    "            dead(\"The bear gets pissed off and chews your leg off\")\n",
    "        elif choice == \"open door\" and bear_moved:\n",
    "            gold_room()\n",
    "        else:\n",
    "            print \"I got no idea what that means\"\n",
    "            \n",
    "def cthulhu_room():\n",
    "    print \"Here you see the great evil Cthulhu.\"\n",
    "    print \"He, it, whatever stares at you and you go insane.\"\n",
    "    print \"Do you flee for your life or eat your head?\"\n",
    "    \n",
    "    choice = raw_input(\"> \")\n",
    "    \n",
    "    if \"flee\" in choice:\n",
    "        start()\n",
    "    elif \"head\" in choice:\n",
    "        dead(\"Well that was tasty!\")\n",
    "    else:\n",
    "        cthulu_room()\n",
    "        \n",
    "def dead(why):\n",
    "    print why, \"Good job!\"\n",
    "    exit(0)\n",
    "    \n",
    "def start():\n",
    "    print \"You are in a dark room.\"\n",
    "    print \"There is a door to your right and left.\"\n",
    "    print \"Which one do you take?\"\n",
    "    \n",
    "    choice = raw_input(\"> \")\n",
    "    \n",
    "    if choice == \"left\":\n",
    "        bear_room()\n",
    "    elif cohice == \"right\":\n",
    "        cthulhu_room()\n",
    "    else:\n",
    "        dead(\"You stumble around the room until you starve\")\n",
    "        \n",
    "start()\n",
    "    "
   ]
  },
  {
   "cell_type": "markdown",
   "metadata": {},
   "source": [
    "**\n",
    "Exercise 36: Designing and Debugging - skipped b/c mirrors 35\n",
    "Exercise 37: list of commands, incorporated in lists at top"
   ]
  },
  {
   "cell_type": "code",
   "execution_count": 75,
   "metadata": {
    "collapsed": false
   },
   "outputs": [
    {
     "name": "stdout",
     "output_type": "stream",
     "text": [
      "Wait there are not 10 things in that list. Let's fix that.\n",
      "Adding Boy\n",
      "There are 7 items now.\n",
      "Adding Girl\n",
      "There are 8 items now.\n",
      "Adding Banana\n",
      "There are 9 items now.\n",
      "Adding Corn\n",
      "There are 10 items now.\n",
      "There we go:  ['Apples', 'Oranges', 'Crows', 'Telephone', 'Light', 'Sugar', 'Boy', 'Girl', 'Banana', 'Corn']\n",
      "Let's do some things with stuff.\n",
      "Oranges\n",
      "Corn\n",
      "Corn\n",
      "Apples Oranges Crows Telephone Light Sugar Boy Girl Banana\n",
      "Telephone#Light\n"
     ]
    }
   ],
   "source": [
    "ten_things = \"Apples Oranges Crows Telephone Light Sugar\"\n",
    "print \"Wait there are not 10 things in that list. Let's fix that.\"\n",
    "\n",
    "stuff = ten_things.split(' ')\n",
    "more_stuff = [\"Day\", \"Night\", \"Song\", \"Frisbee\", \"Corn\", \"Banana\", \"Girl\", \"Boy\"]\n",
    "\n",
    "while len(stuff) != 10:\n",
    "    next_one = more_stuff.pop()\n",
    "    print \"Adding\", next_one\n",
    "    stuff.append(next_one)\n",
    "    print \"There are %d items now.\" % len(stuff)\n",
    "    \n",
    "print \"There we go: \", stuff\n",
    "\n",
    "print \"Let's do some things with stuff.\"\n",
    "\n",
    "print stuff[1]\n",
    "print stuff[-1]\n",
    "print stuff.pop()\n",
    "print ' '.join(stuff)\n",
    "print '#'.join(stuff[3:5])"
   ]
  },
  {
   "cell_type": "markdown",
   "metadata": {},
   "source": [
    "** Exercise 39: Dictionaries"
   ]
  },
  {
   "cell_type": "code",
   "execution_count": 83,
   "metadata": {
    "collapsed": false
   },
   "outputs": [
    {
     "name": "stdout",
     "output_type": "stream",
     "text": [
      "b\n",
      "z\n",
      "['a', 'z', 'c', 'd']\n",
      "Ryan\n",
      "31\n",
      "73\n",
      "Arlington\n",
      "Wow\n",
      "Neato\n",
      "{'name': 'Ryan', 'age': 31, 'height': 73}\n"
     ]
    }
   ],
   "source": [
    "# Dictionaries Part 1\n",
    "# List\n",
    "things = ['a', 'b', 'c', 'd']\n",
    "print things[1]\n",
    "things[1] = 'z'\n",
    "print things[1]\n",
    "print things\n",
    "\n",
    "# Dictionary\n",
    "stuff = {'name': 'Ryan', 'age': 31, 'height': 6 * 12 + 1}\n",
    "print stuff['name']\n",
    "print stuff['age']\n",
    "print stuff['height']\n",
    "stuff['city'] = 'Arlington'\n",
    "print stuff['city']\n",
    "\n",
    "stuff[1] = \"Wow\"\n",
    "stuff[2] = \"Neato\"\n",
    "print stuff[1]\n",
    "print stuff[2]\n",
    "\n",
    "del stuff['city']\n",
    "del stuff[1]\n",
    "del stuff[2]\n",
    "print stuff"
   ]
  },
  {
   "cell_type": "code",
   "execution_count": 89,
   "metadata": {
    "collapsed": false
   },
   "outputs": [
    {
     "name": "stdout",
     "output_type": "stream",
     "text": [
      "__________\n",
      "NY State has:  New York\n",
      "OR State has:  Portland\n",
      "__________\n",
      "Michigan's abbreviation is:  MI\n",
      "Florida's abbreviation is:  FL\n",
      "__________\n",
      "Michigan has:  Detroit\n",
      "Florida has:  Jacksonville\n",
      "__________\n",
      "California is abbreviated CA\n",
      "Michigan is abbreviated MI\n",
      "New York is abbreviated NY\n",
      "Florida is abbreviated FL\n",
      "Oregon is abbreviated OR\n",
      "__________\n",
      "FL has the city Jacksonville\n",
      "CA has the city San Francisco\n",
      "MI has the city Detroit\n",
      "OR has the city Portland\n",
      "NY has the city New York\n",
      "__________\n",
      "California state is abbreviated CA and has city San Francisco\n",
      "Michigan state is abbreviated MI and has city Detroit\n",
      "New York state is abbreviated NY and has city New York\n",
      "Florida state is abbreviated FL and has city Jacksonville\n",
      "Oregon state is abbreviated OR and has city Portland\n",
      "__________\n",
      "Sorry, no Texas.\n",
      "The city for the state 'TX' is: Does Not Exist\n"
     ]
    }
   ],
   "source": [
    "# create a mapping of state to abbreviation\n",
    "states = {\n",
    "    'Oregon': 'OR',\n",
    "    'Florida': 'FL',\n",
    "    'California': 'CA',\n",
    "    'New York': 'NY',\n",
    "    'Michigan': 'MI'\n",
    "}\n",
    "\n",
    "# create a basic set of states and some cities in them\n",
    "cities = {\n",
    "    'CA': 'San Francisco',\n",
    "    'MI': 'Detroit',\n",
    "    'FL': 'Jacksonville'\n",
    "}\n",
    "\n",
    "# add some more cities\n",
    "cities['NY'] = 'New York'\n",
    "cities['OR'] = 'Portland'\n",
    "\n",
    "# print out some cities\n",
    "print '_' * 10\n",
    "print \"NY State has: \", cities['NY']\n",
    "print \"OR State has: \", cities['OR']\n",
    "\n",
    "# print some states\n",
    "print \"_\" * 10\n",
    "print \"Michigan's abbreviation is: \", states['Michigan']\n",
    "print \"Florida's abbreviation is: \", states['Florida']\n",
    "\n",
    "# do it by using the state then cities dict\n",
    "print \"_\" * 10\n",
    "print \"Michigan has: \", cities[states['Michigan']]\n",
    "print \"Florida has: \", cities[states['Florida']]\n",
    "\n",
    "# Print every state abbreviation\n",
    "print \"_\" * 10\n",
    "for state, abbrev in states.items():\n",
    "    print \"%s is abbreviated %s\" % (state, abbrev)\n",
    "    \n",
    "# print every city in state\n",
    "print \"_\" * 10\n",
    "for abbrev, city in cities.items():\n",
    "    print \"%s has the city %s\" % (abbrev, city)\n",
    "    \n",
    "# now do both at the same time\n",
    "print \"_\" * 10\n",
    "for state, abbrev in states.items():\n",
    "    print \"%s state is abbreviated %s and has city %s\" % (\n",
    "        state, abbrev, cities[abbrev])\n",
    "    \n",
    "#safely get an abbreviation by state that might not be there\n",
    "print \"_\" * 10\n",
    "state = states.get('Texas')\n",
    "\n",
    "if not state:\n",
    "    print \"Sorry, no Texas.\"\n",
    "    \n",
    "# get a city with a default value\n",
    "city = cities.get('TX', 'Does Not Exist')\n",
    "print \"The city for the state 'TX' is: %s\" % city"
   ]
  },
  {
   "cell_type": "markdown",
   "metadata": {
    "collapsed": true
   },
   "source": [
    "** Exercise 40: Modules, Classes, and Objects"
   ]
  },
  {
   "cell_type": "code",
   "execution_count": 5,
   "metadata": {
    "collapsed": false
   },
   "outputs": [
    {
     "name": "stdout",
     "output_type": "stream",
     "text": [
      "I am apples!\n",
      "I AM APPLES!\n",
      "Living reflection of a dream\n"
     ]
    }
   ],
   "source": [
    "mystuff = {'apple': \"I am apples!\"}\n",
    "print mystuff['apple']\n",
    "\n",
    "import mystuff\n",
    "reload (mystuff)\n",
    "mystuff.apple()\n",
    "print mystuff.tangerine"
   ]
  },
  {
   "cell_type": "code",
   "execution_count": 8,
   "metadata": {
    "collapsed": false
   },
   "outputs": [
    {
     "name": "stdout",
     "output_type": "stream",
     "text": [
      "I AM CLASSY APPLES!\n",
      "And now a thousand years between\n"
     ]
    }
   ],
   "source": [
    "# Class example 1\n",
    "class MyStuff(object):\n",
    "    \n",
    "    def __init__(self):\n",
    "        self.tangerine = \"And now a thousand years between\"\n",
    "        \n",
    "    def apple(self):\n",
    "        print \"I AM CLASSY APPLES!\"\n",
    "\n",
    "thing = MyStuff()\n",
    "thing.apple()\n",
    "print thing.tangerine"
   ]
  },
  {
   "cell_type": "code",
   "execution_count": 11,
   "metadata": {
    "collapsed": false
   },
   "outputs": [
    {
     "name": "stdout",
     "output_type": "stream",
     "text": [
      "Happy birthday to you\n",
      "I don't want to get sued\n",
      "So I'll stop right there\n",
      "They rally around tha family\n",
      "With pocked full of shells\n"
     ]
    }
   ],
   "source": [
    "# Class example 2\n",
    "class Song(object):\n",
    "    \n",
    "    def __init__(self, lyrics):\n",
    "        self.lyrics = lyrics\n",
    "        \n",
    "    def sing_me_a_song(self):\n",
    "        for line in self.lyrics:\n",
    "            print line\n",
    "            \n",
    "happy_bday = Song([\"Happy birthday to you\",\n",
    "                   \"I don't want to get sued\",\n",
    "                   \"So I'll stop right there\"])\n",
    "\n",
    "bulls_on_parade = Song([\"They rally around tha family\",\n",
    "                       \"With pocked full of shells\"])\n",
    "\n",
    "happy_bday.sing_me_a_song()\n",
    "\n",
    "bulls_on_parade.sing_me_a_song()"
   ]
  },
  {
   "cell_type": "markdown",
   "metadata": {},
   "source": [
    "** Exercise 41: Learning to speak Object Oriented\n",
    "see very useful exercise at oop_test.py\n",
    "\n",
    "** Exercise 42: Just a read-through of some classes"
   ]
  },
  {
   "cell_type": "markdown",
   "metadata": {},
   "source": [
    "** Exercise 43: Extended example of OOP with a board game"
   ]
  },
  {
   "cell_type": "code",
   "execution_count": null,
   "metadata": {
    "collapsed": false,
    "scrolled": false
   },
   "outputs": [],
   "source": [
    "from sys import exit\n",
    "from random import randint\n",
    "\n",
    "class Scene(object):\n",
    "    \n",
    "    def enter(self):\n",
    "        # If a scene doesn't have its own enter(),\n",
    "        # then you get this note.\n",
    "        print \"This scene is not yet configured. \",\n",
    "        \"Subclass it an implement it later.\"\n",
    "        exit(1)\n",
    "        #pass\n",
    "    \n",
    "class Engine(object):\n",
    "    # the scene_map that is passed in an object of class Map\n",
    "    # so it can use the functions in Map\n",
    "    def __init__(self, scene_map):\n",
    "        self.scene_map = scene_map\n",
    "    \n",
    "    # Play sets the current scene as the opening scene\n",
    "    # It sets the final scene to finished.\n",
    "    def play(self):\n",
    "        # The initial scene was defined when instantiating the map object\n",
    "        # The current_scene is set to that value\n",
    "        current_scene = self.scene_map.opening_scene()\n",
    "        # The last scene is defined here\n",
    "        last_scene = self.scene_map.next_scene('finished')\n",
    "        \n",
    "        # we move through the sequence of scenes\n",
    "        while current_scene != last_scene:\n",
    "            # The next scene returned by the enter() function of the current scene\n",
    "            next_scene_name = current_scene.enter()\n",
    "            # Set the current_scene equal to the object called by the next scene\n",
    "            current_scene = self.scene_map.next_scene(next_scene_name)\n",
    "            \n",
    "        # Once at the last scene, print out the last scene\n",
    "        current_scene.enter()\n",
    "\n",
    "class Death(Scene):\n",
    "    quips = [\n",
    "        \"You died. You kinda suck at this.\",\n",
    "        \"Your mom would be proud...if she were smarter.\",\n",
    "        \"Such a luser.\",\n",
    "        \"I have a small puppy that's better at this.\"\n",
    "    ]\n",
    "    \n",
    "    def enter(self):\n",
    "        print Death.quips[randint(0, len(self.quips)-1)]\n",
    "        exit(1)\n",
    "    \n",
    "class CentralCorridor(Scene):\n",
    "    \n",
    "    def enter(self):\n",
    "        print \"The Gothons of Planet Percal #25 have invaded your ship and destroyed\"\n",
    "        print \"your entire crew.  You are the last surviving member and your last\"\n",
    "        print \"mission is to get the neutron destruct bomb from the Weapons Armory,\"\n",
    "        print \"put it in the bridge, and blow the ship up after getting into an \"\n",
    "        print \"escape pod.\"\n",
    "        print \"\\n\"\n",
    "        print \"You're running down the central corridor to the Weapons Armory when\"\n",
    "        print \"a Gothon jumps out, red scaly skin, dark grimy teeth, and evil clown costume\"\n",
    "        print \"flowing around his hate filled body.  He's blocking the door to the\"\n",
    "        print \"Armory and about to pull a weapon to blast you.\"\n",
    "\n",
    "        action = raw_input(\"> \")\n",
    "\n",
    "        if action == \"shoot!\":\n",
    "            print \"Quick on the draw you yank out your blaster and fire it at the Gothon.\"\n",
    "            print \"His clown costume is flowing and moving around his body, which throws\"\n",
    "            print \"off your aim.  Your laser hits his costume but misses him entirely.  This\"\n",
    "            print \"completely ruins his brand new costume his mother bought him, which\"\n",
    "            print \"makes him fly into an insane rage and blast you repeatedly in the face until\"\n",
    "            print \"you are dead.  Then he eats you.\"\n",
    "            return 'death'\n",
    "\n",
    "        elif action == \"dodge!\":\n",
    "            print \"Like a world class boxer you dodge, weave, slip and slide right\"\n",
    "            print \"as the Gothon's blaster cranks a laser past your head.\"\n",
    "            print \"In the middle of your artful dodge your foot slips and you\"\n",
    "            print \"bang your head on the metal wall and pass out.\"\n",
    "            print \"You wake up shortly after only to die as the Gothon stomps on\"\n",
    "            print \"your head and eats you.\"\n",
    "            return 'death'\n",
    "\n",
    "        elif action == \"tell a joke\":\n",
    "            print \"Lucky for you they made you learn Gothon insults in the academy.\"\n",
    "            print \"You tell the one Gothon joke you know:\"\n",
    "            print \"Lbhe zbgure vf fb sng, jura fur fvgf nebhaq gur ubhfr, fur fvgf nebhaq gur ubhfr.\"\n",
    "            print \"The Gothon stops, tries not to laugh, then busts out laughing and can't move.\"\n",
    "            print \"While he's laughing you run up and shoot him square in the head\"\n",
    "            print \"putting him down, then jump through the Weapon Armory door.\"\n",
    "            return 'laser_weapon_armory'\n",
    "\n",
    "        else:\n",
    "            print \"DOES NOT COMPUTE!\"\n",
    "            return 'central_corridor'\n",
    "\n",
    "class LaserWeaponArmory(Scene):\n",
    "    \n",
    "    def enter(self):\n",
    "        print \"You do a dive roll into the Weapon Armory, crouch and scan the room\"\n",
    "        print \"for more Gothons that might be hiding.  It's dead quiet, too quiet.\"\n",
    "        print \"You stand up and run to the far side of the room and find the\"\n",
    "        print \"neutron bomb in its container.  There's a keypad lock on the box\"\n",
    "        print \"and you need the code to get the bomb out.  If you get the code\"\n",
    "        print \"wrong 10 times then the lock closes forever and you can't\"\n",
    "        print \"get the bomb.  The code is 3 digits.\"\n",
    "        code = \"%d%d%d\" % (randint(1,9), randint(1,9), randint(1,9))\n",
    "        guess = raw_input(\"[keypad]> \")\n",
    "        guesses = 0\n",
    "\n",
    "        while guess != code and guesses < 10:\n",
    "            print \"BZZZZEDDD!\"\n",
    "            guesses += 1\n",
    "            guess = raw_input(\"[keypad]> \")\n",
    "\n",
    "        if guess == code:\n",
    "            print \"The container clicks open and the seal breaks, letting gas out.\"\n",
    "            print \"You grab the neutron bomb and run as fast as you can to the\"\n",
    "            print \"bridge where you must place it in the right spot.\"\n",
    "            return 'the_bridge'\n",
    "        else:\n",
    "            print \"The lock buzzes one last time and then you hear a sickening\"\n",
    "            print \"melting sound as the mechanism is fused together.\"\n",
    "            print \"You decide to sit there, and finally the Gothons blow up the\"\n",
    "            print \"ship from their ship and you die.\"\n",
    "            return 'death'\n",
    "    \n",
    "class TheBridge(Scene):\n",
    "    \n",
    "    def enter(self):\n",
    "        print \"You burst onto the Bridge with the netron destruct bomb\"\n",
    "        print \"under your arm and surprise 5 Gothons who are trying to\"\n",
    "        print \"take control of the ship.  Each of them has an even uglier\"\n",
    "        print \"clown costume than the last.  They haven't pulled their\"\n",
    "        print \"weapons out yet, as they see the active bomb under your\"\n",
    "        print \"arm and don't want to set it off.\"\n",
    "\n",
    "        action = raw_input(\"> \")\n",
    "\n",
    "        if action == \"throw the bomb\":\n",
    "            print \"In a panic you throw the bomb at the group of Gothons\"\n",
    "            print \"and make a leap for the door.  Right as you drop it a\"\n",
    "            print \"Gothon shoots you right in the back killing you.\"\n",
    "            print \"As you die you see another Gothon frantically try to disarm\"\n",
    "            print \"the bomb. You die knowing they will probably blow up when\"\n",
    "            print \"it goes off.\"\n",
    "            return 'death'\n",
    "\n",
    "        elif action == \"slowly place the bomb\":\n",
    "            print \"You point your blaster at the bomb under your arm\"\n",
    "            print \"and the Gothons put their hands up and start to sweat.\"\n",
    "            print \"You inch backward to the door, open it, and then carefully\"\n",
    "            print \"place the bomb on the floor, pointing your blaster at it.\"\n",
    "            print \"You then jump back through the door, punch the close button\"\n",
    "            print \"and blast the lock so the Gothons can't get out.\"\n",
    "            print \"Now that the bomb is placed you run to the escape pod to\"\n",
    "            print \"get off this tin can.\"\n",
    "            return 'escape_pod'\n",
    "        else:\n",
    "            print \"DOES NOT COMPUTE!\"\n",
    "            return \"the_bridge\"\n",
    "    \n",
    "class EscapePod(Scene):\n",
    "    \n",
    "    def enter(self):\n",
    "        print \"You rush through the ship desperately trying to make it to\"\n",
    "        print \"the escape pod before the whole ship explodes.  It seems like\"\n",
    "        print \"hardly any Gothons are on the ship, so your run is clear of\"\n",
    "        print \"interference.  You get to the chamber with the escape pods, and\"\n",
    "        print \"now need to pick one to take.  Some of them could be damaged\"\n",
    "        print \"but you don't have time to look.  There's 5 pods, which one\"\n",
    "        print \"do you take?\"\n",
    "\n",
    "        good_pod = randint(1,5)\n",
    "        guess = raw_input(\"[pod #]> \")\n",
    "\n",
    "\n",
    "        if int(guess) != good_pod:\n",
    "            print \"You jump into pod %s and hit the eject button.\" % guess\n",
    "            print \"The pod escapes out into the void of space, then\"\n",
    "            print \"implodes as the hull ruptures, crushing your body\"\n",
    "            print \"into jam jelly.\"\n",
    "            return 'death'\n",
    "        else:\n",
    "            print \"You jump into pod %s and hit the eject button.\" % guess\n",
    "            print \"The pod easily slides out into space heading to\"\n",
    "            print \"the planet below.  As it flies to the planet, you look\"\n",
    "            print \"back and see your ship implode then explode like a\"\n",
    "            print \"bright star, taking out the Gothon ship at the same\"\n",
    "            print \"time.  You won!\"\n",
    "\n",
    "            return 'finished'\n",
    "\n",
    "class Finished(Scene):\n",
    "\n",
    "    def enter(self):\n",
    "        print \"You won! Good job.\"\n",
    "        return 'finished'\n",
    "class Map(object):\n",
    "\n",
    "    scenes = {\n",
    "        'central_corridor': CentralCorridor(),\n",
    "        'laser_weapon_armory': LaserWeaponArmory(),\n",
    "        'the_bridge': TheBridge(),\n",
    "        'escape_pod': EscapePod(),\n",
    "        'death': Death(),\n",
    "        'finished': Finished(),\n",
    "    }\n",
    "\n",
    "    def __init__(self, start_scene):\n",
    "        self.start_scene = start_scene\n",
    "    \n",
    "    def next_scene(self, scene_name):\n",
    "        # we are returning the function associated with the scene\n",
    "        val = Map.scenes.get(scene_name)\n",
    "        \n",
    "        #import pdb\n",
    "        #pdb.set_trace()\n",
    "        \n",
    "        return val\n",
    "    \n",
    "    def opening_scene(self):\n",
    "        return self.next_scene(self.start_scene)\n",
    "\n",
    "# Initalize where we start on the map\n",
    "a_map = Map('central_corridor')\n",
    "# Send that location to the game engine\n",
    "a_game = Engine(a_map)\n",
    "a_game.play()"
   ]
  },
  {
   "cell_type": "markdown",
   "metadata": {},
   "source": [
    "** Exercise 44: Inheritance versus Composition\n",
    "Inheritance"
   ]
  },
  {
   "cell_type": "code",
   "execution_count": 33,
   "metadata": {
    "collapsed": false
   },
   "outputs": [
    {
     "name": "stdout",
     "output_type": "stream",
     "text": [
      "PARENT implicit()\n",
      "PARENT implicit()\n"
     ]
    }
   ],
   "source": [
    "# Function defined in the parent but not in the child\n",
    "class Parent(object):\n",
    "    \n",
    "    def implicit(self):\n",
    "        print \"PARENT implicit()\"\n",
    "        \n",
    "class Child(Parent):\n",
    "    pass\n",
    "\n",
    "dad = Parent()\n",
    "son = Child()\n",
    "\n",
    "dad.implicit()\n",
    "son.implicit()"
   ]
  },
  {
   "cell_type": "code",
   "execution_count": 34,
   "metadata": {
    "collapsed": false
   },
   "outputs": [
    {
     "name": "stdout",
     "output_type": "stream",
     "text": [
      "PARENT override()\n",
      "CHILD override()\n"
     ]
    }
   ],
   "source": [
    "# Override a function defined in the parent explicitly with one\n",
    "class Parent(object):\n",
    "    \n",
    "    def override(self):\n",
    "        print \"PARENT override()\"\n",
    "        \n",
    "class Child(Parent):\n",
    "    \n",
    "    def override(self):\n",
    "        print \"CHILD override()\"\n",
    "        \n",
    "dad = Parent()\n",
    "son = Child()\n",
    "\n",
    "dad.override()\n",
    "son.override()"
   ]
  },
  {
   "cell_type": "code",
   "execution_count": 35,
   "metadata": {
    "collapsed": false
   },
   "outputs": [
    {
     "name": "stdout",
     "output_type": "stream",
     "text": [
      "PARENT altered()\n",
      "CHILD, BEFORE PARENT altered()\n",
      "PARENT altered()\n",
      "CHILD, AFTER PARENT altered()\n"
     ]
    }
   ],
   "source": [
    "# Use of super() function to call the parent class's version of function\n",
    "class Parent(object):\n",
    "    \n",
    "    def altered(self):\n",
    "        print \"PARENT altered()\"\n",
    "        \n",
    "class Child(Parent):\n",
    "    \n",
    "    def altered(self):\n",
    "        print \"CHILD, BEFORE PARENT altered()\"\n",
    "        super(Child, self).altered()\n",
    "        print \"CHILD, AFTER PARENT altered()\"\n",
    "        \n",
    "dad = Parent()\n",
    "son = Child()\n",
    "\n",
    "dad.altered()\n",
    "son.altered()"
   ]
  },
  {
   "cell_type": "code",
   "execution_count": null,
   "metadata": {
    "collapsed": true
   },
   "outputs": [],
   "source": [
    "# Using super() in init -- a common use of it\n",
    "class Parent(object):\n",
    "    \n",
    "    def altered(self):\n",
    "        print \"PARENT altered()\"\n",
    "        \n",
    "class Child(Parent):\n",
    "    \n",
    "    def __init__(self, stuff):\n",
    "        self.stuff = stuff\n",
    "        super(Child, self).__init__()\n",
    "        \n",
    "dad = Parent()\n",
    "son = Child()\n",
    "\n",
    "dad.altered()\n",
    "son.altered()"
   ]
  },
  {
   "cell_type": "code",
   "execution_count": null,
   "metadata": {
    "collapsed": true
   },
   "outputs": [],
   "source": []
  },
  {
   "cell_type": "code",
   "execution_count": null,
   "metadata": {
    "collapsed": true
   },
   "outputs": [],
   "source": []
  },
  {
   "cell_type": "code",
   "execution_count": null,
   "metadata": {
    "collapsed": true
   },
   "outputs": [],
   "source": []
  }
 ],
 "metadata": {
  "kernelspec": {
   "display_name": "Python 2",
   "language": "python",
   "name": "python2"
  },
  "language_info": {
   "codemirror_mode": {
    "name": "ipython",
    "version": 2
   },
   "file_extension": ".py",
   "mimetype": "text/x-python",
   "name": "python",
   "nbconvert_exporter": "python",
   "pygments_lexer": "ipython2",
   "version": "2.7.11"
  }
 },
 "nbformat": 4,
 "nbformat_minor": 0
}
