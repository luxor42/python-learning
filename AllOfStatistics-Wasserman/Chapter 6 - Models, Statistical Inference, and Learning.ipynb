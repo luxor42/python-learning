{
 "cells": [
  {
   "cell_type": "code",
   "execution_count": 1,
   "metadata": {},
   "outputs": [],
   "source": [
    "# Code for Larry Wasserman's All of Statistics\n",
    "# February 18, 2018\n"
   ]
  },
  {
   "cell_type": "code",
   "execution_count": 3,
   "metadata": {},
   "outputs": [
    {
     "name": "stdout",
     "output_type": "stream",
     "text": [
      "Hello, Statistics\n"
     ]
    }
   ],
   "source": [
    "'''\n",
    "Topics:\n",
    "\n",
    "Parametric E\n",
    "\n",
    "'''"
   ]
  },
  {
   "cell_type": "code",
   "execution_count": 1,
   "metadata": {},
   "outputs": [],
   "source": [
    "import numpy as np"
   ]
  },
  {
   "cell_type": "markdown",
   "metadata": {},
   "source": [
    "$e^{i\\pi} + 1 = 0$"
   ]
  },
  {
   "cell_type": "markdown",
   "metadata": {},
   "source": [
    "**Example 6.5 - Nonparametric Estimation of Functionals:**\n",
    "\n",
    "Let  $  X_1, ..., X_n \\sim F$.  Suppose we want to estimate $\\mu = E(X_1) = \\int x \\,\\, dF(x)$\n",
    "\n",
    "Then $\\mu$ can be solved as a function of F.  Any function of F is called a **statistical functional**\n",
    "\n",
    "Other examples: \n",
    "- variance $T(F) = \\int x^2 \\, dF(x) - (\\int x \\,\\, dF(x))^2$\n",
    "- median $T(F) = F^{-1} (1/2)$\n"
   ]
  },
  {
   "cell_type": "code",
   "execution_count": null,
   "metadata": {},
   "outputs": [],
   "source": []
  },
  {
   "cell_type": "code",
   "execution_count": null,
   "metadata": {},
   "outputs": [],
   "source": []
  }
 ],
 "metadata": {
  "kernelspec": {
   "display_name": "Python 2",
   "language": "python",
   "name": "python2"
  },
  "language_info": {
   "codemirror_mode": {
    "name": "ipython",
    "version": 2
   },
   "file_extension": ".py",
   "mimetype": "text/x-python",
   "name": "python",
   "nbconvert_exporter": "python",
   "pygments_lexer": "ipython2",
   "version": "2.7.14"
  }
 },
 "nbformat": 4,
 "nbformat_minor": 2
}
