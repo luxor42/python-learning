{
 "cells": [
  {
   "cell_type": "code",
   "execution_count": 4,
   "metadata": {},
   "outputs": [
    {
     "data": {
      "text/plain": [
       "2.5"
      ]
     },
     "execution_count": 4,
     "metadata": {},
     "output_type": "execute_result"
    }
   ],
   "source": [
    "# Python 3 , integer division returns doubles\n",
    "5/2"
   ]
  },
  {
   "cell_type": "code",
   "execution_count": 7,
   "metadata": {},
   "outputs": [
    {
     "data": {
      "text/plain": [
       "10"
      ]
     },
     "execution_count": 7,
     "metadata": {},
     "output_type": "execute_result"
    }
   ],
   "source": [
    "# Simple function definition\n",
    "def double(x):\n",
    "    return x*2\n",
    "double(5)"
   ]
  },
  {
   "cell_type": "code",
   "execution_count": 9,
   "metadata": {},
   "outputs": [
    {
     "data": {
      "text/plain": [
       "2"
      ]
     },
     "execution_count": 9,
     "metadata": {},
     "output_type": "execute_result"
    }
   ],
   "source": [
    "# A function that takes another function as input\n",
    "def apply_to_one(f):\n",
    "    return f(1)\n",
    "my_double = double\n",
    "apply_to_one(my_double)"
   ]
  },
  {
   "cell_type": "code",
   "execution_count": 15,
   "metadata": {},
   "outputs": [
    {
     "data": {
      "text/plain": [
       "5"
      ]
     },
     "execution_count": 15,
     "metadata": {},
     "output_type": "execute_result"
    }
   ],
   "source": [
    "# lambda (anonymous function)\n",
    "apply_to_one(lambda x: x + 4)"
   ]
  },
  {
   "cell_type": "code",
   "execution_count": 11,
   "metadata": {},
   "outputs": [
    {
     "data": {
      "text/plain": [
       "[3, 4]"
      ]
     },
     "execution_count": 11,
     "metadata": {},
     "output_type": "execute_result"
    }
   ],
   "source": [
    "# List comprehension\n",
    "[x for x in range(5)]"
   ]
  },
  {
   "cell_type": "code",
   "execution_count": 14,
   "metadata": {},
   "outputs": [
    {
     "data": {
      "text/plain": [
       "[0, 2, 4]"
      ]
     },
     "execution_count": 14,
     "metadata": {},
     "output_type": "execute_result"
    }
   ],
   "source": [
    "# List comprehension with slicing / conditions\n",
    "[x for x in range(5) if x % 2 == 0]"
   ]
  },
  {
   "cell_type": "code",
   "execution_count": 18,
   "metadata": {},
   "outputs": [
    {
     "name": "stdout",
     "output_type": "stream",
     "text": [
      "hello\n",
      "my default message\n"
     ]
    }
   ],
   "source": [
    "# Function with default value\n",
    "def my_print(message=\"my default message\"):\n",
    "    print(message)\n",
    "my_print(\"hello\")\n",
    "my_print()"
   ]
  },
  {
   "cell_type": "code",
   "execution_count": 22,
   "metadata": {},
   "outputs": [
    {
     "name": "stdout",
     "output_type": "stream",
     "text": [
      "-10\n",
      "10\n"
     ]
    }
   ],
   "source": [
    "# Multiple named parameters\n",
    "# Can specify one or more of them.\n",
    "def subtract(a = 0, b = 0):\n",
    "    return print(a - b)\n",
    "subtract(b=10)\n",
    "subtract(a=10)"
   ]
  },
  {
   "cell_type": "code",
   "execution_count": 25,
   "metadata": {},
   "outputs": [
    {
     "name": "stdout",
     "output_type": "stream",
     "text": [
      "cannot divide by zero\n"
     ]
    }
   ],
   "source": [
    "# try / except pattern\n",
    "try:\n",
    "    print(0 / 0)\n",
    "except ZeroDivisionError:\n",
    "    print(\"cannot divide by zero\")"
   ]
  },
  {
   "cell_type": "markdown",
   "metadata": {},
   "source": [
    "## List and Friends (range)"
   ]
  },
  {
   "cell_type": "code",
   "execution_count": 29,
   "metadata": {},
   "outputs": [],
   "source": [
    "integer_list = [1,2,3]\n",
    "heterogenous_list = [\"string\", 0.1, True]"
   ]
  },
  {
   "cell_type": "code",
   "execution_count": 33,
   "metadata": {},
   "outputs": [
    {
     "name": "stdout",
     "output_type": "stream",
     "text": [
      "3\n",
      "3\n"
     ]
    }
   ],
   "source": [
    "# length\n",
    "print(len(integer_list))\n",
    "print(len(heterogenous_list))"
   ]
  },
  {
   "cell_type": "code",
   "execution_count": 32,
   "metadata": {},
   "outputs": [
    {
     "name": "stdout",
     "output_type": "stream",
     "text": [
      "6\n"
     ]
    },
    {
     "ename": "TypeError",
     "evalue": "unsupported operand type(s) for +: 'int' and 'str'",
     "output_type": "error",
     "traceback": [
      "\u001b[0;31m---------------------------------------------------------------------------\u001b[0m",
      "\u001b[0;31mTypeError\u001b[0m                                 Traceback (most recent call last)",
      "\u001b[0;32m<ipython-input-32-f49b47079d37>\u001b[0m in \u001b[0;36m<module>\u001b[0;34m()\u001b[0m\n\u001b[1;32m      1\u001b[0m \u001b[0;31m# sum\u001b[0m\u001b[0;34m\u001b[0m\u001b[0;34m\u001b[0m\u001b[0m\n\u001b[1;32m      2\u001b[0m \u001b[0mprint\u001b[0m\u001b[0;34m(\u001b[0m\u001b[0msum\u001b[0m\u001b[0;34m(\u001b[0m\u001b[0minteger_list\u001b[0m\u001b[0;34m)\u001b[0m\u001b[0;34m)\u001b[0m\u001b[0;34m\u001b[0m\u001b[0m\n\u001b[0;32m----> 3\u001b[0;31m \u001b[0mprint\u001b[0m\u001b[0;34m(\u001b[0m\u001b[0msum\u001b[0m\u001b[0;34m(\u001b[0m\u001b[0mheterogenous_list\u001b[0m\u001b[0;34m)\u001b[0m\u001b[0;34m)\u001b[0m\u001b[0;34m\u001b[0m\u001b[0m\n\u001b[0m",
      "\u001b[0;31mTypeError\u001b[0m: unsupported operand type(s) for +: 'int' and 'str'"
     ]
    }
   ],
   "source": [
    "# sum\n",
    "print(sum(integer_list))\n",
    "print(sum(heterogenous_list))"
   ]
  },
  {
   "cell_type": "code",
   "execution_count": 46,
   "metadata": {},
   "outputs": [
    {
     "name": "stdout",
     "output_type": "stream",
     "text": [
      "9\n",
      "8\n",
      "range(2, 5)\n",
      "[1, 2, 3, 4, 5, 6, 7, 8, 9]\n"
     ]
    }
   ],
   "source": [
    "# Definition with range + Selection\n",
    "# range in python3 == xrange in python 2\n",
    "x = range(10)  # This is a range data structure\n",
    "print(x[-1])\n",
    "print(x[-2])\n",
    "print(x[2:5])\n",
    "x = [i for i in range(1,10)]  # This is a list\n",
    "print(x)"
   ]
  },
  {
   "cell_type": "code",
   "execution_count": 47,
   "metadata": {},
   "outputs": [
    {
     "name": "stdout",
     "output_type": "stream",
     "text": [
      "True\n",
      "False\n"
     ]
    }
   ],
   "source": [
    "# \"in\" operator\n",
    "print(1 in [1, 2, 3])\n",
    "print(0 in [1,2,3])"
   ]
  },
  {
   "cell_type": "code",
   "execution_count": 51,
   "metadata": {},
   "outputs": [
    {
     "name": "stdout",
     "output_type": "stream",
     "text": [
      "append for 1 element\n",
      "[1, 2, 3, 4]\n",
      "[1, 2, 3, 4, [5, 6]]\n"
     ]
    }
   ],
   "source": [
    "# Append to a list - 1 element\n",
    "x = [1,2,3]\n",
    "print(\"append for 1 element\")\n",
    "x.append(4)\n",
    "print(x)\n",
    "x.append([5,6])\n",
    "print(x)"
   ]
  },
  {
   "cell_type": "code",
   "execution_count": 52,
   "metadata": {},
   "outputs": [
    {
     "name": "stdout",
     "output_type": "stream",
     "text": [
      "[1, 2, 3, 4, 5, 6]\n"
     ]
    }
   ],
   "source": [
    "# Extend  list - another list\n",
    "x = [1,2,3]\n",
    "x.append(4)\n",
    "x.extend([5,6])\n",
    "print(x)"
   ]
  },
  {
   "cell_type": "code",
   "execution_count": 53,
   "metadata": {},
   "outputs": [
    {
     "name": "stdout",
     "output_type": "stream",
     "text": [
      "[1, 2, 3, 4, 5, 6]\n",
      "[1, 2, 3]\n"
     ]
    }
   ],
   "source": [
    "# Don't change a list in place but concat\n",
    "x = [1,2,3]\n",
    "print(x + [4,5,6])\n",
    "print(x)"
   ]
  },
  {
   "cell_type": "code",
   "execution_count": 54,
   "metadata": {},
   "outputs": [
    {
     "name": "stdout",
     "output_type": "stream",
     "text": [
      "2 is the value i care about\n"
     ]
    }
   ],
   "source": [
    "# Convention: _ for a meaningless variable\n",
    "_, y = [1, 2]\n",
    "print(str(y) + \" is the value I care about\")"
   ]
  },
  {
   "cell_type": "markdown",
   "metadata": {},
   "source": [
    "### Sets"
   ]
  },
  {
   "cell_type": "code",
   "execution_count": 59,
   "metadata": {},
   "outputs": [
    {
     "name": "stdout",
     "output_type": "stream",
     "text": [
      "[1, 2, 3, 4, 1]\n",
      "{1, 2, 3, 4}\n"
     ]
    }
   ],
   "source": [
    "# Sets are deduped lists\n",
    "my_list = [1,2,3,4,1]\n",
    "print(my_list)\n",
    "my_list = set(my_list)\n",
    "print(my_list)"
   ]
  },
  {
   "cell_type": "code",
   "execution_count": 77,
   "metadata": {},
   "outputs": [
    {
     "data": {
      "text/plain": [
       "{1, 2, 3}"
      ]
     },
     "execution_count": 77,
     "metadata": {},
     "output_type": "execute_result"
    }
   ],
   "source": [
    "# Sets are defined with the word set()\n",
    "set([1,2,3,1])"
   ]
  },
  {
   "cell_type": "code",
   "execution_count": 170,
   "metadata": {},
   "outputs": [
    {
     "name": "stdout",
     "output_type": "stream",
     "text": [
      "2\n",
      "2\n"
     ]
    }
   ],
   "source": [
    "# Append with add\n",
    "s = set()\n",
    "s.add(1)\n",
    "s.add(2)\n",
    "print(len(s))\n",
    "s.add(2)\n",
    "print(len(s))"
   ]
  },
  {
   "cell_type": "code",
   "execution_count": null,
   "metadata": {},
   "outputs": [],
   "source": []
  },
  {
   "cell_type": "markdown",
   "metadata": {},
   "source": [
    "## Tuples - List's immutable cousins"
   ]
  },
  {
   "cell_type": "code",
   "execution_count": 167,
   "metadata": {},
   "outputs": [
    {
     "name": "stdout",
     "output_type": "stream",
     "text": [
      "[1, 2]\n",
      "my_tuple is : (1, 2)\n",
      "False\n",
      "True\n",
      "my_tuple is now: (2, 3)\n",
      "i didn't modify the tuple, i repointed the my_tuple variable to another tuple: (2, 3)\n",
      "i'm trying to access and modify the tuple: my_tuple[1] = 5\n"
     ]
    },
    {
     "ename": "TypeError",
     "evalue": "'tuple' object does not support item assignment",
     "output_type": "error",
     "traceback": [
      "\u001b[0;31m---------------------------------------------------------------------------\u001b[0m",
      "\u001b[0;31mTypeError\u001b[0m                                 Traceback (most recent call last)",
      "\u001b[0;32m<ipython-input-167-517fa75a4efe>\u001b[0m in \u001b[0;36m<module>\u001b[0;34m()\u001b[0m\n\u001b[1;32m     10\u001b[0m \u001b[0mprint\u001b[0m\u001b[0;34m(\u001b[0m\u001b[0;34m\"i didn't modify the tuple, i repointed the my_tuple variable to another tuple: \"\u001b[0m \u001b[0;34m+\u001b[0m \u001b[0mstr\u001b[0m\u001b[0;34m(\u001b[0m\u001b[0mmy_tuple\u001b[0m\u001b[0;34m)\u001b[0m\u001b[0;34m)\u001b[0m\u001b[0;34m\u001b[0m\u001b[0m\n\u001b[1;32m     11\u001b[0m \u001b[0mprint\u001b[0m\u001b[0;34m(\u001b[0m\u001b[0;34m\"i'm trying to access and modify the tuple: my_tuple[1] = 5\"\u001b[0m\u001b[0;34m)\u001b[0m\u001b[0;34m\u001b[0m\u001b[0m\n\u001b[0;32m---> 12\u001b[0;31m \u001b[0mmy_tuple\u001b[0m\u001b[0;34m[\u001b[0m\u001b[0;36m1\u001b[0m\u001b[0;34m]\u001b[0m \u001b[0;34m=\u001b[0m \u001b[0;36m5\u001b[0m\u001b[0;34m\u001b[0m\u001b[0m\n\u001b[0m",
      "\u001b[0;31mTypeError\u001b[0m: 'tuple' object does not support item assignment"
     ]
    }
   ],
   "source": [
    "my_list = [1,2]\n",
    "my_tuple = (1,2)\n",
    "also_my_tuple = (1,2)\n",
    "print(my_list)\n",
    "print(\"my_tuple is : \" + str(my_tuple))\n",
    "print(my_list == my_tuple)\n",
    "print(my_tuple == also_my_tuple)\n",
    "my_tuple = (2,3)\n",
    "print(\"my_tuple is now: \" + str(my_tuple))\n",
    "print(\"i didn't modify the tuple, i repointed the my_tuple variable to another tuple: \" + str(my_tuple))\n",
    "print(\"i'm trying to access and modify the tuple: my_tuple[1] = 5\")\n",
    "my_tuple[1] = 5"
   ]
  },
  {
   "cell_type": "markdown",
   "metadata": {},
   "source": [
    "### Dicts and friends - arbitrary key-value\n",
    "#### defaultdict, counter"
   ]
  },
  {
   "cell_type": "code",
   "execution_count": 93,
   "metadata": {},
   "outputs": [
    {
     "name": "stdout",
     "output_type": "stream",
     "text": [
      "{'Joel': [70, 80, 90, 100], 'Tim': [95, 85, 95, 80]}\n",
      "[70, 80, 90, 100]\n",
      "no grade for Kate!\n",
      "default fail message\n"
     ]
    }
   ],
   "source": [
    "# Create a dict, access an entry via index\n",
    "empty_dict = {}\n",
    "grades = {\"Joel\": [70,80,90,100], \"Tim\": [95,85,95,80]}\n",
    "print(grades)\n",
    "print(grades[\"Joel\"])\n",
    "try:\n",
    "    grades[\"Kate\"]\n",
    "except KeyError:\n",
    "    print(\"no grade for Kate!\")\n",
    "print(grades.get(\"Kate\",\"default fail message\"))"
   ]
  },
  {
   "cell_type": "code",
   "execution_count": 97,
   "metadata": {},
   "outputs": [
    {
     "name": "stdout",
     "output_type": "stream",
     "text": [
      "2\n",
      "3\n"
     ]
    }
   ],
   "source": [
    "# Add entries by key. \n",
    "# Key collissions lead to overwrites.\n",
    "grades = {\"Joel\": [70,80,90,100], \"Tim\": [95,85,95,80]}\n",
    "print(len(grades))\n",
    "grades[\"Alison\"] = [100,99,99,100]\n",
    "print(len(grades))\n",
    "grades[\"Alison\"] = [105,99,99,100]"
   ]
  },
  {
   "cell_type": "code",
   "execution_count": 110,
   "metadata": {},
   "outputs": [
    {
     "name": "stdout",
     "output_type": "stream",
     "text": [
      "dict_keys(['Joel', 'Tim', 'Alison'])\n",
      "<class 'dict_keys'>\n",
      "['Joel', 'Tim', 'Alison']\n",
      "<class 'list'>\n"
     ]
    }
   ],
   "source": [
    "print(grades.keys())\n",
    "print(type(grades.keys()))\n",
    "_ = list(grades.keys())\n",
    "print(_)\n",
    "print(type(_))"
   ]
  },
  {
   "cell_type": "code",
   "execution_count": null,
   "metadata": {},
   "outputs": [],
   "source": [
    "# Example word counter with get\n",
    "word_counts = {}\n",
    "for word in document:\n",
    "    previous_count = word_counts.get(word, 0)\n",
    "    word_counts[word] = previous_count + 1"
   ]
  },
  {
   "cell_type": "code",
   "execution_count": 166,
   "metadata": {},
   "outputs": [
    {
     "name": "stdout",
     "output_type": "stream",
     "text": [
      "\n"
     ]
    }
   ],
   "source": [
    "## Digression on Counter, defaultdict\n",
    "# Simplifies counting\n",
    "\n",
    "# just pseudo-code below\n",
    "from collections import Counter\n",
    "from collections import defaultdict\n",
    "word_counts  = defaultdict(int)\n",
    "    # word_counts[\"anything\"] defaults to 0\n",
    "for word in document:\n",
    "    word_counts[word] += 1\n",
    "    \n",
    "word_counts = Counter(document)\n",
    "    # automatically histograms\n",
    "print(\"\")"
   ]
  },
  {
   "cell_type": "markdown",
   "metadata": {},
   "source": [
    "### Control Flow"
   ]
  },
  {
   "cell_type": "code",
   "execution_count": 174,
   "metadata": {},
   "outputs": [
    {
     "name": "stdout",
     "output_type": "stream",
     "text": [
      "numbers are hard\n"
     ]
    }
   ],
   "source": [
    "# Regular If\n",
    "if 1 > 2:\n",
    "    message = \"never\"\n",
    "elif 1 > 3: \n",
    "    message = \"still never\"\n",
    "else:\n",
    "    message = \"numbers are hard\"\n",
    "print(message)"
   ]
  },
  {
   "cell_type": "code",
   "execution_count": 178,
   "metadata": {},
   "outputs": [
    {
     "name": "stdout",
     "output_type": "stream",
     "text": [
      "odd\n",
      "odd\n",
      "odd\n",
      "odd\n",
      "even\n"
     ]
    }
   ],
   "source": [
    "# Inline If\n",
    "x = [1,3,7,9,10]\n",
    "for i in range(len(x)):\n",
    "    type_ = \"even\" if x[i] % 2 == 0 else \"odd\" \n",
    "    print(type_)"
   ]
  },
  {
   "cell_type": "markdown",
   "metadata": {},
   "source": [
    "### Boolean"
   ]
  },
  {
   "cell_type": "code",
   "execution_count": 182,
   "metadata": {},
   "outputs": [
    {
     "name": "stdout",
     "output_type": "stream",
     "text": [
      "False\n",
      "True\n",
      "True\n"
     ]
    }
   ],
   "source": [
    "# Booleans are capitalized\n",
    "# use \"is\" with None, but == will work\n",
    "x = True\n",
    "y = False\n",
    "z = None\n",
    "print(x == y)\n",
    "print(x == x)\n",
    "print(z is None)"
   ]
  },
  {
   "cell_type": "code",
   "execution_count": 188,
   "metadata": {},
   "outputs": [
    {
     "name": "stdout",
     "output_type": "stream",
     "text": [
      "False\n",
      "True\n",
      "False\n",
      "True\n"
     ]
    }
   ],
   "source": [
    "# Advanced Truthiness / / Falsines soperators\n",
    "print(x and y)\n",
    "print(x or y)\n",
    "print(all([x,y]))\n",
    "print(any([x,y]))"
   ]
  },
  {
   "cell_type": "markdown",
   "metadata": {},
   "source": [
    "### Sorting"
   ]
  },
  {
   "cell_type": "code",
   "execution_count": 220,
   "metadata": {},
   "outputs": [
    {
     "name": "stdout",
     "output_type": "stream",
     "text": [
      "list: [4, 4, 5, 2, 2, 2, 3, 6, 4, 7]\n",
      "still unsorted: [4, 4, 5, 2, 2, 2, 3, 6, 4, 7]\n",
      "now sorted: [2, 2, 2, 3, 4, 4, 4, 5, 6, 7]\n",
      "now reverse sorted: [7, 6, 5, 4, 4, 4, 3, 2, 2, 2]\n"
     ]
    }
   ],
   "source": [
    "# Lists can be sorted in place or return a new list\n",
    "my_list = [round(random.uniform(1,10)) for x in range(10)]\n",
    "print(\"list: \" + str(my_list))\n",
    "sorted(my_list)\n",
    "print(\"still unsorted: \" + str(my_list))\n",
    "my_list.sort()\n",
    "print(\"now sorted: \" + str(my_list))\n",
    "my_list.sort(reverse= True)\n",
    "print(\"now reverse sorted: \" + str(my_list))"
   ]
  },
  {
   "cell_type": "code",
   "execution_count": 278,
   "metadata": {},
   "outputs": [
    {
     "name": "stdout",
     "output_type": "stream",
     "text": [
      "[7, 1, 9, -4, -9]\n",
      "[1, -4, 7, 9, -9]\n",
      "[1, -4, 7, 9, -9]\n"
     ]
    }
   ],
   "source": [
    "# Sort with a complex function\n",
    "custom_sort = abs\n",
    "my_list = [round(random.uniform(-10,10)) for x in range(5)]\n",
    "print(my_list)\n",
    "print(sorted(my_list, key=custom_sort))\n",
    "\n",
    "# Distance from 1\n",
    "custom_sort = lambda x: abs(x-1)\n",
    "print(sorted(my_list, key=custom_sort))"
   ]
  },
  {
   "cell_type": "markdown",
   "metadata": {},
   "source": [
    "### List Comprehensions and friends"
   ]
  },
  {
   "cell_type": "code",
   "execution_count": 279,
   "metadata": {},
   "outputs": [
    {
     "data": {
      "text/plain": [
       "[0, 2, 4, 6, 8]"
      ]
     },
     "execution_count": 279,
     "metadata": {},
     "output_type": "execute_result"
    }
   ],
   "source": [
    "# List comprehension with filter\n",
    "[x for x in range(10) if x % 2 == 0]"
   ]
  },
  {
   "cell_type": "code",
   "execution_count": 280,
   "metadata": {},
   "outputs": [
    {
     "data": {
      "text/plain": [
       "{0: 0, 1: 1, 2: 4, 3: 9, 4: 16}"
      ]
     },
     "execution_count": 280,
     "metadata": {},
     "output_type": "execute_result"
    }
   ],
   "source": [
    "# \"Dict Comprehension\"\n",
    "{ x : x * x for x in range(5)}"
   ]
  },
  {
   "cell_type": "code",
   "execution_count": 297,
   "metadata": {},
   "outputs": [
    {
     "name": "stdout",
     "output_type": "stream",
     "text": [
      "<generator object <genexpr> at 0x10ec2f5e8>\n",
      "[1, 0]\n"
     ]
    }
   ],
   "source": [
    "# The expected parallel \"set comprehension\"\n",
    "# actually creates a generator, not a set.\n",
    "\n",
    "my_set_thing = ( x * x for x in range(-1,2))\n",
    "    # result is [-1, 0, 1]\n",
    "print(my_set_thing)\n",
    "print(list(my_set_thing))"
   ]
  },
  {
   "cell_type": "code",
   "execution_count": 292,
   "metadata": {},
   "outputs": [
    {
     "data": {
      "text/plain": [
       "[[0, 0], [0, 1], [1, 0], [1, 1]]"
      ]
     },
     "execution_count": 292,
     "metadata": {},
     "output_type": "execute_result"
    }
   ],
   "source": [
    "## Multiple fors, e.g. a matrix\n",
    "[[x, y]\n",
    "    for x in range(2)\n",
    "    for y in range(2)]"
   ]
  },
  {
   "cell_type": "code",
   "execution_count": 291,
   "metadata": {},
   "outputs": [
    {
     "data": {
      "text/plain": [
       "[[0, 1], [0, 2], [0, 3], [1, 2], [1, 3], [2, 3]]"
      ]
     },
     "execution_count": 291,
     "metadata": {},
     "output_type": "execute_result"
    }
   ],
   "source": [
    "# A later for loop can reference a previous one\n",
    "[[x, y] \n",
    " for x in range(4) \n",
    " for y in range(x + 1, 4)]"
   ]
  },
  {
   "cell_type": "markdown",
   "metadata": {},
   "source": [
    "### Random number generation"
   ]
  },
  {
   "cell_type": "code",
   "execution_count": 299,
   "metadata": {},
   "outputs": [
    {
     "data": {
      "text/plain": [
       "[0.5289670118836588,\n",
       " 0.9792730853109035,\n",
       " 0.18892196937685402,\n",
       " 0.7187641146973937,\n",
       " 0.4810050064612367]"
      ]
     },
     "execution_count": 299,
     "metadata": {},
     "output_type": "execute_result"
    }
   ],
   "source": [
    "# create a list of random numbers \n",
    "# uniformly drawn from [0,1)\n",
    "\n",
    "[random.random() for _ in range(5)]"
   ]
  },
  {
   "cell_type": "code",
   "execution_count": 313,
   "metadata": {},
   "outputs": [],
   "source": [
    "# Set a random seed for repro of deterministic things\n",
    "n = 10\n",
    "random.seed(n)"
   ]
  },
  {
   "cell_type": "code",
   "execution_count": 352,
   "metadata": {},
   "outputs": [
    {
     "name": "stdout",
     "output_type": "stream",
     "text": [
      "4\n",
      "initial list:  [0, 1, 2, 3, 4, 5, 6, 7, 8, 9]\n",
      "shuffled list:  [4, 3, 5, 7, 8, 1, 2, 6, 9, 0]\n",
      "random choice: 2\n",
      "random choices: [0, 3, 2, 4, 3]\n",
      "random choices: [252, 927, 395, 629, 558, 598]\n"
     ]
    }
   ],
   "source": [
    "# Other distributions and functions\n",
    "\n",
    "print(random.randrange(3,6))\n",
    "    # Random Integer\n",
    "    # parameter step = n for jumps of range n\n",
    "\n",
    "my_list = [x for x in range(10)]\n",
    "print(\"initial list: \", my_list)\n",
    "random.shuffle(my_list)\n",
    "print(\"shuffled list: \", my_list)\n",
    "    # Shuffling\n",
    "    \n",
    "my_list = [x for x in range(10)]\n",
    "\n",
    "my_choice = random.choice(my_list)\n",
    "    # Single choice from list\n",
    "my_choices = [random.choice(my_list) for _ in range(5)]\n",
    "    # Multiple choices WITH replacement\n",
    "    \n",
    "print(\"random choice: \" + str(my_choice))\n",
    "print(\"random choices: \" + str(my_choices))\n",
    "    \n",
    "    \n",
    "my_long_list = [x for x in range(1000)]\n",
    "my_choices = random.sample(my_long_list,6)\n",
    "print(\"random choices: \" + str(my_choices))\n",
    "    # Multiples WITHOUT replacement\n"
   ]
  },
  {
   "cell_type": "code",
   "execution_count": null,
   "metadata": {},
   "outputs": [],
   "source": []
  },
  {
   "cell_type": "markdown",
   "metadata": {},
   "source": [
    "### Object Oriented Python"
   ]
  },
  {
   "cell_type": "code",
   "execution_count": 363,
   "metadata": {},
   "outputs": [
    {
     "data": {
      "text/plain": [
       "(dict_keys([1, 2, 3]), dict_keys([4, 5, 6]))"
      ]
     },
     "execution_count": 363,
     "metadata": {},
     "output_type": "execute_result"
    }
   ],
   "source": [
    "class my_set:\n",
    "    # Build a version of a set\n",
    "    # Use dict's unique key requirements\n",
    "    \n",
    "    # constructor\n",
    "    def __init__(self, values = None):\n",
    "        self.dict = {}  \n",
    "            # initialize property \"dict\"\n",
    "            # to an empty \"dict\"\n",
    "        if values is not None:\n",
    "            for value in values:\n",
    "                self.add(value)\n",
    "        \n",
    "    \n",
    "    # member functions\n",
    "    \n",
    "    def __repr__(self):\n",
    "        # string representation\n",
    "        return str(self.dict.keys())\n",
    "    \n",
    "    def add(self, value):\n",
    "        # Adding puts it into the dict\n",
    "        # Even if already there, just sets\n",
    "        # value to True again\n",
    "        self.dict[value] = True\n",
    "        \n",
    "    def contains(self, value):\n",
    "        # returns true or false if in the dict key set\n",
    "        return value in self.dict\n",
    "    \n",
    "    def remove(self, value):\n",
    "        del self.dict[value]\n",
    "\n",
    "s = my_set([1,2,3])\n",
    "t = my_set([4,5,6])\n",
    "s, t"
   ]
  },
  {
   "cell_type": "markdown",
   "metadata": {},
   "source": [
    "### Functional Tools - map, reduce, filter"
   ]
  },
  {
   "cell_type": "code",
   "execution_count": 385,
   "metadata": {},
   "outputs": [
    {
     "name": "stdout",
     "output_type": "stream",
     "text": [
      "orig:   [1, 2, 3, 4]\n",
      "doubled:  [2, 4, 6, 8]\n",
      "<map object at 0x10ec500f0>\n",
      "[2, 4, 6, 8]\n"
     ]
    }
   ],
   "source": [
    "def double(x):\n",
    "    return 2  * x\n",
    "xs = [x for x in range(1,5)]\n",
    "print(\"orig:  \", xs)\n",
    "print(\"doubled: \" , [double(x) for x in xs])\n",
    "\n",
    "double_with_map = map(double, xs)\n",
    "print(double_with_map)\n",
    "    # Map object; a generator\n",
    "    # Case to list, or iterate with a for loop\n",
    "print(list(double_with_map))"
   ]
  },
  {
   "cell_type": "code",
   "execution_count": 399,
   "metadata": {},
   "outputs": [
    {
     "data": {
      "text/plain": [
       "[12]"
      ]
     },
     "execution_count": 399,
     "metadata": {},
     "output_type": "execute_result"
    }
   ],
   "source": [
    "def multiple(x, y):\n",
    "    return x * y\n",
    "products = map(multiple, [1 ,2], [4, 5])\n",
    "list(products)\n",
    "\n",
    "products = map(multiple, [3],[4])\n",
    "list(products)"
   ]
  },
  {
   "cell_type": "code",
   "execution_count": 398,
   "metadata": {},
   "outputs": [
    {
     "data": {
      "text/plain": [
       "[1, 8, 81]"
      ]
     },
     "execution_count": 398,
     "metadata": {},
     "output_type": "execute_result"
    }
   ],
   "source": [
    "def raise_to_power(x, n):\n",
    "    return pow(x, n)\n",
    "list(map(raise_to_power, [1,2,3],[2,3,4]))"
   ]
  },
  {
   "cell_type": "code",
   "execution_count": null,
   "metadata": {},
   "outputs": [],
   "source": []
  },
  {
   "cell_type": "code",
   "execution_count": null,
   "metadata": {},
   "outputs": [],
   "source": []
  },
  {
   "cell_type": "code",
   "execution_count": null,
   "metadata": {},
   "outputs": [],
   "source": []
  },
  {
   "cell_type": "code",
   "execution_count": null,
   "metadata": {},
   "outputs": [],
   "source": []
  },
  {
   "cell_type": "code",
   "execution_count": 304,
   "metadata": {},
   "outputs": [
    {
     "data": {
      "text/plain": [
       "[-1, 0, 1]"
      ]
     },
     "execution_count": 304,
     "metadata": {},
     "output_type": "execute_result"
    }
   ],
   "source": [
    "list((x for x in range(-1, 2)))"
   ]
  },
  {
   "cell_type": "code",
   "execution_count": 153,
   "metadata": {},
   "outputs": [
    {
     "data": {
      "text/plain": [
       "\"Your work is going to fill a large part of your life, and the only way to be truly satisfied is to do what you believe is great work. And the only way to do great work is to love what you do. If you haven't found it yet, keep looking. Don't settle. As with all matters of the heart, you'll know when you find it. And, like any great relationship, it just gets better and better as the years roll on. So keep looking until you find it. Don't settle.î- Steve Jobs  Your time is limited, so don't waste it living someone else's life, Jobs said. Don't be trapped by dogma, which is living with the results of other people's thinking. Don't let the noise of others' opinions drown out your own inner voice. And most important, have the courage to follow your heart and intuition. They somehow already know what you truly want to become. Everything else is secondary.\""
      ]
     },
     "execution_count": 153,
     "metadata": {},
     "output_type": "execute_result"
    }
   ],
   "source": [
    "## Us\n",
    "full_text = \"\"\n",
    "with open(\"/Users/ryan/Steve Jobs Quote.txt\",'r', newline=\"\\n\") as f:\n",
    "    for line in f:\n",
    "        full_text = full_text + line[:-1] + \" \"\n",
    "    full_text = full_text[0:-1] + line[-1]\n"
   ]
  },
  {
   "cell_type": "code",
   "execution_count": null,
   "metadata": {},
   "outputs": [],
   "source": [
    "def my_func(x = default_value):\n",
    "    return result\n",
    "apply(lamba x,y : x + y)\n",
    "Lists\n",
    "    [1,2,3]\n",
    "    len\n",
    "    sum\n",
    "    append\n",
    "    extend\n",
    "    +\n",
    "    x, y = [1,2] # unpack a list\n",
    "\n",
    "range(5)\n",
    "    # Distinct iterable data type\n",
    "    # useful for making lists\n",
    "    my_list = [x for x in range(10)]\n",
    "    \n",
    "Sets\n",
    "    set([1,2,3,1])\n",
    "        # Checking membership in a set is fast\n",
    "    x in set(list(x))\n",
    "\n",
    "List comprehension\n",
    "    [x for x in range(5)]\n",
    "    (x fo x in range(-1, 2))\n",
    "\n",
    "\n",
    "Tuples # list's immutable cousins\n",
    "    my_tuple = (1,2,3)\n",
    "    my_tuple[0] = 5 # Error\n",
    "\n",
    "Dicts\n",
    "    my_dict = {\"A\": 1, \"B\":[2,3]}\n",
    "    my_dict[\"A\"]\n",
    "    my_dict.get(\"C\",\"default fail message\")\n",
    "    defaultdict gracefully handles missing entries\n",
    "        from collections import defaultdict\n",
    "    counter creates a defaultdict of unique values \n",
    "            \\and counts them ==> histogram\n",
    "        from collections import Counter\n",
    "        counter comes with a bunch of neat methods\n",
    "    my_dict.items() # a list\n",
    "    my_dict.iteritems() # an iterator\n",
    "\n",
    "Booleans\n",
    "    True, False, None\n",
    "    and, or, any, all\n",
    "    \n",
    "Sorting\n",
    "    sorted(my_list, reverse=False)\n",
    "    my_list.sort(, reverse=False)\n",
    "        # reverse = False by default\n",
    "        # add reverse=True parameter to reverse\n",
    "    sorted(my_list, key = custom_func)\n",
    "        # custom_func sorts; defined elsewhere\n",
    "        \n",
    "Random\n",
    "    random.random() # [0,1] uniform\n",
    "    random.seed(1)  # seed for pseudorandom generator\n",
    "    random.uniform(0,10) # real numbers\n",
    "    random.randrange(0,10) # integer\n",
    "    random.shuffle(my_list) # shuffle's in place\n",
    "    random.choice(my_list) # choose\n",
    "        # for multiples, use a list comprehension\n",
    "    random.sample(my_list, 5) # NO replacement\n",
    "    \n",
    "Object Orientation\n",
    "    Way to deal with complexity of repeated code\n",
    "    When you have instances of the same class\n",
    "        e.g. multiple sets\n",
    "        e.g. multiple _exotic data structure_\n",
    "        \n",
    "    class my_class:\n",
    "        # constructor\n",
    "        __init__(self, value):\n",
    "            # code\n",
    "            \n",
    "        func1(self, value):\n",
    "            # do something\n",
    "            return something\n",
    "        \n",
    "        func2(self, value):\n",
    "            # do somethingelse\n",
    "            return somethingelse\n",
    "        \n",
    "map\n",
    "    # Must be provided a function and an iterable\n",
    "    # returns a Map object. cast to list\n",
    "    def raise_to_power(x, n):\n",
    "        return pow(x, n)\n",
    "    list(map(raise_to_power, [1,2,3],[2,3,4]))\n",
    "    list(map(raise_to_power, [2],[4])\n",
    "        # Pass lists of length(1)\n",
    "         # because still need iterator"
   ]
  }
 ],
 "metadata": {
  "kernelspec": {
   "display_name": "Python 3",
   "language": "python",
   "name": "python3"
  },
  "language_info": {
   "codemirror_mode": {
    "name": "ipython",
    "version": 3
   },
   "file_extension": ".py",
   "mimetype": "text/x-python",
   "name": "python",
   "nbconvert_exporter": "python",
   "pygments_lexer": "ipython3",
   "version": "3.7.0"
  }
 },
 "nbformat": 4,
 "nbformat_minor": 2
}
